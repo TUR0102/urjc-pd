{
 "cells": [
  {
   "cell_type": "markdown",
   "metadata": {},
   "source": [
    "# Higher-order functions"
   ]
  },
  {
   "cell_type": "markdown",
   "metadata": {},
   "source": [
    "Higher-order functions (HOFs) are functions which receive or return other functions. HOFs show that functions can be regarded as _values_, much in the same way than integers, booleans, product values, sum values, etc. We will see that higher-order functions are essential modularity devices, and we will introduce the most common higher-order functions that operate over many different data structures."
   ]
  },
  {
   "cell_type": "markdown",
   "metadata": {},
   "source": [
    "## Functions as values"
   ]
  },
  {
   "cell_type": "markdown",
   "metadata": {},
   "source": [
    "As we saw, functions are represented through methods in Scala (as in any other object-oriented language). But methods themselves can't be passed around and be returned by invocations. Therefore, the first thing to do in order to create HOFs in Scala is finding a way to reify methods. For instance, let's consider the following functions:"
   ]
  },
  {
   "cell_type": "code",
   "execution_count": null,
   "metadata": {},
   "outputs": [],
   "source": [
    "def addOneM(number: Int): Int = \n",
    "    number + 1\n",
    "\n",
    "def substractOneM(number: Int): Int = \n",
    "    number - 1 "
   ]
  },
  {
   "cell_type": "markdown",
   "metadata": {},
   "source": [
    "We want to implement a function that receives an integer-to-integer function, such as `addOneM`and `substractOneM`, and call this function over a given number. We may want to write something like this:"
   ]
  },
  {
   "cell_type": "code",
   "execution_count": null,
   "metadata": {},
   "outputs": [],
   "source": []
  },
  {
   "cell_type": "markdown",
   "metadata": {},
   "source": [
    "where the first argument `int2int` attempt to represent any function that receives an integer and returns another integer. "
   ]
  },
  {
   "cell_type": "markdown",
   "metadata": {},
   "source": [
    "This code is not legal in Scala, but we can create a new class whose only method is the function that we want to pass around:"
   ]
  },
  {
   "cell_type": "code",
   "execution_count": null,
   "metadata": {},
   "outputs": [],
   "source": []
  },
  {
   "cell_type": "markdown",
   "metadata": {},
   "source": [
    "Now, we can implement the `call` HOF as follows: "
   ]
  },
  {
   "cell_type": "code",
   "execution_count": null,
   "metadata": {},
   "outputs": [],
   "source": [
    "// def call(int2int(number: Int): Int, number: Int): Int = ???"
   ]
  },
  {
   "cell_type": "markdown",
   "metadata": {},
   "source": [
    "In order to use this HOF with the `addOneM` and `substractOneM` functions, we must create reified versions for them: "
   ]
  },
  {
   "cell_type": "code",
   "execution_count": null,
   "metadata": {},
   "outputs": [],
   "source": [
    "/*\n",
    "def addOneM(number: Int): Int = \n",
    "    number + 1\n",
    "\n",
    "def substractOneM(number: Int): Int = \n",
    "    number - 1 \n",
    "*/"
   ]
  },
  {
   "cell_type": "markdown",
   "metadata": {},
   "source": [
    "We call the `addOneV` and `substractOneV` function-values, i.e. functions represented as values. Now, we can use the `call` HOF as follows:"
   ]
  },
  {
   "cell_type": "code",
   "execution_count": null,
   "metadata": {},
   "outputs": [],
   "source": []
  },
  {
   "cell_type": "code",
   "execution_count": null,
   "metadata": {},
   "outputs": [],
   "source": []
  },
  {
   "cell_type": "markdown",
   "metadata": {},
   "source": [
    "### Standard functions in Scala"
   ]
  },
  {
   "cell_type": "markdown",
   "metadata": {},
   "source": [
    "The Scala programming language offers many facilities to work with functions as values. First, the standard library provides the following _generic_ types [`Function1`](https://www.scala-lang.org/api/current/scala/Function1.html), [`Function2`](https://www.scala-lang.org/api/current/scala/Function2.html), ...:"
   ]
  },
  {
   "cell_type": "code",
   "execution_count": null,
   "metadata": {},
   "outputs": [],
   "source": [
    "/*abstract class FunctionInt2Int{\n",
    "    def apply(number: Int): Int\n",
    "}\n",
    "*/\n",
    "// up to Function22"
   ]
  },
  {
   "cell_type": "markdown",
   "metadata": {},
   "source": [
    "Using these standard classes, we can create the `addOneV` function-value in a similar way: "
   ]
  },
  {
   "cell_type": "code",
   "execution_count": null,
   "metadata": {},
   "outputs": [],
   "source": [
    "/*\n",
    "val addOneV: FunctionInt2Int = new FunctionInt2Int{\n",
    "    def apply(number: Int): Int = \n",
    "        number + 1\n",
    "}\n",
    "*/"
   ]
  },
  {
   "cell_type": "markdown",
   "metadata": {},
   "source": [
    "But we can do it more easily, since Scala also provides special syntax to declare function types and create functions (so-called _lambda expressions_):"
   ]
  },
  {
   "cell_type": "code",
   "execution_count": null,
   "metadata": {},
   "outputs": [],
   "source": []
  },
  {
   "cell_type": "markdown",
   "metadata": {},
   "source": [
    "And we can also profit from type inference:"
   ]
  },
  {
   "cell_type": "code",
   "execution_count": null,
   "metadata": {},
   "outputs": [],
   "source": []
  },
  {
   "cell_type": "markdown",
   "metadata": {},
   "source": [
    "Using these syntactic facilities we can write the `call` HOF more easily: "
   ]
  },
  {
   "cell_type": "code",
   "execution_count": null,
   "metadata": {},
   "outputs": [],
   "source": [
    "/*\n",
    "def call(int2int: FunctionInt2Int, number: Int): Int = \n",
    "    int2int.apply(number)\n",
    "*/"
   ]
  },
  {
   "cell_type": "markdown",
   "metadata": {},
   "source": [
    "which we can use as follows:"
   ]
  },
  {
   "cell_type": "code",
   "execution_count": null,
   "metadata": {},
   "outputs": [],
   "source": []
  },
  {
   "cell_type": "markdown",
   "metadata": {},
   "source": [
    "We can even pass function-methods that are converted on the fly to function-values (this is the so-called _eta-expansion_):"
   ]
  },
  {
   "cell_type": "code",
   "execution_count": null,
   "metadata": {},
   "outputs": [],
   "source": []
  },
  {
   "cell_type": "markdown",
   "metadata": {},
   "source": [
    "Finally, for functions of two arguments we can use a similar syntax as well. So, instead of writing the more verbose:"
   ]
  },
  {
   "cell_type": "code",
   "execution_count": null,
   "metadata": {},
   "outputs": [],
   "source": [
    "// sum/2 function"
   ]
  },
  {
   "cell_type": "markdown",
   "metadata": {},
   "source": [
    "we can create a lambda expressions for a `Function2` value in the following way:"
   ]
  },
  {
   "cell_type": "code",
   "execution_count": null,
   "metadata": {},
   "outputs": [],
   "source": []
  },
  {
   "cell_type": "markdown",
   "metadata": {},
   "source": [
    "or, exploiting type inference:"
   ]
  },
  {
   "cell_type": "code",
   "execution_count": null,
   "metadata": {},
   "outputs": [],
   "source": []
  },
  {
   "cell_type": "markdown",
   "metadata": {},
   "source": [
    "### Improved unit testing"
   ]
  },
  {
   "cell_type": "code",
   "execution_count": null,
   "metadata": {},
   "outputs": [],
   "source": [
    "import $ivy.`org.scalatest::scalatest:3.0.8`\n",
    "import org.scalatest._"
   ]
  },
  {
   "cell_type": "markdown",
   "metadata": {},
   "source": [
    "Using higher-order functions we can create test catalogues which are parameterised by the function to be tested. For instance, let's consider the following two alternative implementations:"
   ]
  },
  {
   "cell_type": "code",
   "execution_count": null,
   "metadata": {},
   "outputs": [],
   "source": [
    "// Recursively\n",
    "\n",
    "def sumR(list: List[Int]): Int = \n",
    "    list match {\n",
    "        case Nil => 0 : Int\n",
    "        case head :: tail => head + sumR(tail) : Int \n",
    "    }"
   ]
  },
  {
   "cell_type": "code",
   "execution_count": null,
   "metadata": {},
   "outputs": [],
   "source": [
    "// With tail-recursion\n",
    "\n",
    "def sumTR(list: List[Int]): Int = {\n",
    "\n",
    "    def sumAux(acc: Int, list: List[Int]): Int = \n",
    "        list match {\n",
    "            case Nil => acc : Int\n",
    "            case head :: tail => sumAux(head + acc, tail) : Int \n",
    "        }\n",
    "    \n",
    "    sumAux(0, list)\n",
    "}"
   ]
  },
  {
   "cell_type": "markdown",
   "metadata": {},
   "source": [
    "Instead of creating ad-hoc test catalogues for each alternative, we can create a single one that receives the function to be tested as argument as follows:"
   ]
  },
  {
   "cell_type": "code",
   "execution_count": null,
   "metadata": {},
   "outputs": [],
   "source": [
    "/*\n",
    "object TestSumR extends FlatSpec with Matchers{\n",
    "    \"length\" should \"work\" in {\n",
    "        sumR(List()) shouldBe 0 \n",
    "        sumR(List(1)) shouldBe 1 \n",
    "        sumR(List(1,2,3,4)) shouldBe 10\n",
    "    }\n",
    "}\n",
    "*/\n"
   ]
  },
  {
   "cell_type": "markdown",
   "metadata": {},
   "source": [
    "Now, we can test the `sumR` and `sumTR` functions by reusing the same test catalogue:"
   ]
  },
  {
   "cell_type": "code",
   "execution_count": null,
   "metadata": {},
   "outputs": [],
   "source": []
  },
  {
   "cell_type": "code",
   "execution_count": null,
   "metadata": {},
   "outputs": [],
   "source": []
  }
 ],
 "metadata": {
  "kernelspec": {
   "display_name": "Scala",
   "language": "scala",
   "name": "scala"
  },
  "language_info": {
   "codemirror_mode": "text/x-scala",
   "file_extension": ".scala",
   "mimetype": "text/x-scala",
   "name": "scala",
   "nbconvert_exporter": "script",
   "version": "2.13.0"
  }
 },
 "nbformat": 4,
 "nbformat_minor": 2
}
