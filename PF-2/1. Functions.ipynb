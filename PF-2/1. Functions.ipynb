{
 "cells": [
  {
   "cell_type": "markdown",
   "metadata": {},
   "source": [
    "# Functions"
   ]
  },
  {
   "cell_type": "markdown",
   "metadata": {},
   "source": [
    "This is a small introduction to functions from the point of view of functional programming _and_ software engineering. It ends with a discussion about the basic way in which functions are represented in an object-oriented programming language like Scala. \n",
    "\n",
    "### References\n",
    "\n",
    "_[Optional]_ __[Why Functional Programming Matters](https://www.cs.kent.ac.uk/people/staff/dat/miranda/whyfp90.pdf)__ John Hughes. This is a classic paper that motivates the need for functional programming by appealing to software enginerring principles such as modularity. It's written using the Miranda programming language, and it's more an academic paper that undergraduate material. Nevertheless, its reading is highly recommeded. Give it a try if you find some time!\n",
    "\n",
    "__[Scala book (online)](https://docs.scala-lang.org/overviews/scala-book/introduction.html)__.\n",
    "\n",
    "- [Pure functions](https://docs.scala-lang.org/overviews/scala-book/pure-functions.html)"
   ]
  },
  {
   "cell_type": "markdown",
   "metadata": {},
   "source": [
    "## What are functions?"
   ]
  },
  {
   "cell_type": "markdown",
   "metadata": {},
   "source": [
    "Functions are computational devices that transform input _values_ into output _values_, and do nothing _else_."
   ]
  },
  {
   "cell_type": "code",
   "execution_count": null,
   "metadata": {},
   "outputs": [],
   "source": [
    "// `add one` function\n",
    "\n",
    "def add(input: Int): Int = \n",
    "  input + 1"
   ]
  },
  {
   "cell_type": "markdown",
   "metadata": {},
   "source": [
    "If we run this function, the only thing that happens is the computation of a new value:"
   ]
  },
  {
   "cell_type": "code",
   "execution_count": null,
   "metadata": {},
   "outputs": [],
   "source": [
    "add(3)"
   ]
  },
  {
   "cell_type": "markdown",
   "metadata": {},
   "source": [
    "Functions that do something else, besides returning values, are called _impure_ functions. Functional programming deals only with _pure_, or mathematical, functions."
   ]
  },
  {
   "cell_type": "code",
   "execution_count": null,
   "metadata": {},
   "outputs": [],
   "source": [
    "// An impure function\n",
    "def impureAdd(input: Int): Int = {\n",
    "    println(\"adding one to \" + input)\n",
    "    input + 1\n",
    "}"
   ]
  },
  {
   "cell_type": "markdown",
   "metadata": {},
   "source": [
    "If we run this function, we will see an _effect_ in the console (besides the pure computation of `input + 1`): "
   ]
  },
  {
   "cell_type": "code",
   "execution_count": null,
   "metadata": {},
   "outputs": [],
   "source": [
    "impureAdd(3)"
   ]
  },
  {
   "cell_type": "markdown",
   "metadata": {},
   "source": [
    "There are many kinds of effects: writing to the console, reading from the keyworkd, reading from a socket, calling a web service, executing a query over the database, etc. Clearly, we need effects if we want our programs to do something useful, so pure functions alone are not enough. We will talk about this later on."
   ]
  },
  {
   "cell_type": "markdown",
   "metadata": {},
   "source": [
    "## Mutable vs. inmutable variables"
   ]
  },
  {
   "cell_type": "markdown",
   "metadata": {},
   "source": [
    "Values are data constants (of different types - more on types later). Variables may refer to different data values. There are two kinds of variables in Scala: mutable and inmutable. Mutable variables _store_ data values, and we may change their content; an inmutable variable is _assigned_ a given value, and it never changes its reference. "
   ]
  },
  {
   "cell_type": "markdown",
   "metadata": {},
   "source": [
    "In Scala, inmutable variables are declared with the `val` keyword:"
   ]
  },
  {
   "cell_type": "code",
   "execution_count": null,
   "metadata": {},
   "outputs": [],
   "source": [
    "val value: Int = 3"
   ]
  },
  {
   "cell_type": "markdown",
   "metadata": {},
   "source": [
    "We can't update its value:"
   ]
  },
  {
   "cell_type": "code",
   "execution_count": null,
   "metadata": {},
   "outputs": [],
   "source": [
    "//value = 4"
   ]
  },
  {
   "cell_type": "markdown",
   "metadata": {},
   "source": [
    "Mutable variables are declared with the `var` keyword:"
   ]
  },
  {
   "cell_type": "code",
   "execution_count": null,
   "metadata": {},
   "outputs": [],
   "source": [
    "var value: Int = 3"
   ]
  },
  {
   "cell_type": "markdown",
   "metadata": {},
   "source": [
    "And we can update its value (they are like reference cells):"
   ]
  },
  {
   "cell_type": "code",
   "execution_count": null,
   "metadata": {},
   "outputs": [],
   "source": [
    "value = 5"
   ]
  },
  {
   "cell_type": "markdown",
   "metadata": {},
   "source": [
    "In functional programming, we invariably work with immutable variables, which are like mathematical variables in expressions like `a+b`."
   ]
  },
  {
   "cell_type": "markdown",
   "metadata": {},
   "source": [
    "\n",
    "\n",
    "## Functions as modularity devices"
   ]
  },
  {
   "cell_type": "markdown",
   "metadata": {},
   "source": [
    "Why are functions so important in programming? Because they help us to _modularize_ our code. For instance, let's consider the following programs, which access the following data structure of key-value pairs (we will talk about this structure in detail later on):"
   ]
  },
  {
   "cell_type": "code",
   "execution_count": null,
   "metadata": {},
   "outputs": [],
   "source": [
    "val config: Map[String, String] = \n",
    "    Map(\"URL\" -> \"http://hablapps.com\",\n",
    "        \"PORT\" -> \"8080\")"
   ]
  },
  {
   "cell_type": "markdown",
   "metadata": {},
   "source": [
    "Our first program access the configuration data for the value of the \"URL\" key. If it's not found, then the default value \"default.url\" is returned (similarly, we will discuss the `match` keyword further in the course)."
   ]
  },
  {
   "cell_type": "code",
   "execution_count": null,
   "metadata": {},
   "outputs": [],
   "source": [
    "// Program 1\n",
    "val url: String = config.get(\"URL\") match {\n",
    "  case Some(u) => u\n",
    "  case None => \"default.url\"\n",
    "}"
   ]
  },
  {
   "cell_type": "markdown",
   "metadata": {},
   "source": [
    "Our second program accesses the configuration data for the value of the \"PORT\" key. If it's not found, then the default value \"8080\" is returned."
   ]
  },
  {
   "cell_type": "code",
   "execution_count": null,
   "metadata": {},
   "outputs": [],
   "source": [
    "// Program 2\n",
    "val port: String = config.get(\"PORT\") match {\n",
    "  case Some(p) => p\n",
    "  case None => \"8080\"\n",
    "}"
   ]
  },
  {
   "cell_type": "markdown",
   "metadata": {},
   "source": [
    "These two programs do _almost_ the same. The only differences lie in the particular keys and default values the programs refer to, but, otherwise, they do the same thing. However, this _common factor_ is not reflected in the code. Indeed, we may get one program from the other by copy-pasting, a clear signal of [code-smell](https://en.wikipedia.org/wiki/Code_smell)."
   ]
  },
  {
   "cell_type": "markdown",
   "metadata": {},
   "source": [
    "These programs are _monolythic_, in the sense that they are not made by composing large enough modules. In this case, the common logic of the program and the values it operates on are intermingled in the same code. "
   ]
  },
  {
   "cell_type": "markdown",
   "metadata": {},
   "source": [
    "How can we abstract away the differences and package the common logic in a single module? With functions:"
   ]
  },
  {
   "cell_type": "code",
   "execution_count": null,
   "metadata": {},
   "outputs": [],
   "source": [
    "/*\n",
    "val port: String = config.get(\"PORT\") match {\n",
    "  case Some(p) => p\n",
    "  case None => \"8080\"\n",
    "}\n",
    "*/\n",
    "def getKeyFrom(\n",
    "    config: Map[String, String], \n",
    "    key: String, \n",
    "    default: String): String =\n",
    "  config.get(key) match {\n",
    "    case Some(p) => p\n",
    "    case None => default\n",
    "  }"
   ]
  },
  {
   "cell_type": "markdown",
   "metadata": {},
   "source": [
    "This is an abstract module which we can combine with other modules to get back the very same functionality:"
   ]
  },
  {
   "cell_type": "code",
   "execution_count": null,
   "metadata": {},
   "outputs": [],
   "source": [
    "// Program 1\n",
    "val url: String = getKeyFrom(config, \"URL\", \"default.url\")"
   ]
  },
  {
   "cell_type": "markdown",
   "metadata": {},
   "source": [
    "In this case, we combine the module `getKeyFrom` with the modules (data values and variables, in particular) `config`, `\"URL\"` and `\"default.url\"`. The composition method is just simple function application."
   ]
  },
  {
   "cell_type": "markdown",
   "metadata": {},
   "source": [
    "Which are the advantages of using functions? As in the general case, having a more modular solution enables _reuse_, particularly of those modules which are abstract or parameterised. For instance, we can benefit from this level of reuse by re-implementing the `url` program in the following way:"
   ]
  },
  {
   "cell_type": "code",
   "execution_count": null,
   "metadata": {},
   "outputs": [],
   "source": [
    "// Program 2\n",
    "val port: String = getKeyFrom(config, \"PORT\", \"8080\")"
   ]
  },
  {
   "cell_type": "markdown",
   "metadata": {},
   "source": [
    "## Functions in Scala"
   ]
  },
  {
   "cell_type": "markdown",
   "metadata": {},
   "source": [
    "In an object-oriented language, functions are implemented through _methods_, i.e. using the `def` keyword. These methods are invariably part of an `object`, `class` or `trait` declaration. For instance, we may declare a set of arithmetic functions as follows: "
   ]
  },
  {
   "cell_type": "code",
   "execution_count": null,
   "metadata": {},
   "outputs": [],
   "source": [
    "import scala.math.{pow, Pi}\n",
    "\n",
    "object Areas{\n",
    "    \n",
    "    def circle(radius: Double): Double = \n",
    "        Pi*pow(radius, 2)\n",
    "    \n",
    "    def rectangle(width: Double, height: Double): Double = \n",
    "        width * height\n",
    "}"
   ]
  },
  {
   "cell_type": "markdown",
   "metadata": {},
   "source": [
    "In notebooks and the Scala REPL, `def` declarations appear to be independent from any object or class, but they are not:"
   ]
  },
  {
   "cell_type": "code",
   "execution_count": null,
   "metadata": {},
   "outputs": [],
   "source": [
    "def foo(i: Int): Int = i\n",
    "// show errors: \"missing argument list for method foo in class Helper\"\n",
    "// foo"
   ]
  },
  {
   "cell_type": "markdown",
   "metadata": {},
   "source": [
    "When we study higher-order functions, we will see that functions in Scala can also be represented as _objects_, i.e. not only as methods. However, that representation also builds essentially upon methods."
   ]
  },
  {
   "cell_type": "markdown",
   "metadata": {},
   "source": [
    "### Lambda expressions\n",
    "\n",
    "https://docs.oracle.com/javase/tutorial/java/javaOO/lambdaexpressions.html"
   ]
  },
  {
   "cell_type": "code",
   "execution_count": null,
   "metadata": {},
   "outputs": [],
   "source": [
    "import java.time.LocalDate \n",
    "\n",
    "/*\n",
    "public class Person {\n",
    "\n",
    "    public enum Sex {\n",
    "        MALE, FEMALE\n",
    "    }\n",
    "\n",
    "    String name;\n",
    "    LocalDate birthday;\n",
    "    Sex gender;\n",
    "    String emailAddress;\n",
    "\n",
    "    public int getAge() {\n",
    "        // ...\n",
    "    }\n",
    "\n",
    "    public void printPerson() {\n",
    "        // ...\n",
    "    }\n",
    "}\n",
    "*/"
   ]
  },
  {
   "cell_type": "code",
   "execution_count": null,
   "metadata": {},
   "outputs": [],
   "source": [
    "class Person(\n",
    "    val name: String,\n",
    "    val age: Int,\n",
    "    val birthday: LocalDate = LocalDate.now,\n",
    "    val emailAddress: String = \"\"){\n",
    "    \n",
    "    def print: Unit = \n",
    "        println(\"name: \"+ name + \" age: \" + age)\n",
    "}"
   ]
  },
  {
   "cell_type": "markdown",
   "metadata": {},
   "source": [
    "**Ad-hoc version:**"
   ]
  },
  {
   "cell_type": "code",
   "execution_count": null,
   "metadata": {},
   "outputs": [],
   "source": [
    "/*\n",
    "public static void printPersonsOlderThan(List<Person> roster, int age) {\n",
    "    for (Person p : roster) {\n",
    "        if (p.getAge() >= age) {\n",
    "            p.printPerson();\n",
    "        }\n",
    "    }\n",
    "}\n",
    "*/"
   ]
  },
  {
   "cell_type": "code",
   "execution_count": null,
   "metadata": {},
   "outputs": [],
   "source": [
    "def printPersonsOlderThan(roster: Array[Person], age: Int) {\n",
    "    for (p <- roster) {\n",
    "        if (p.age >= age) {\n",
    "            p.print\n",
    "        }\n",
    "    }\n",
    "}"
   ]
  },
  {
   "cell_type": "code",
   "execution_count": null,
   "metadata": {},
   "outputs": [],
   "source": [
    "val roster1 = Array(new Person(\"a\",15), new Person(\"b\", 22), new Person(\"c\", 45))"
   ]
  },
  {
   "cell_type": "code",
   "execution_count": null,
   "metadata": {},
   "outputs": [],
   "source": [
    "printPersonsOlderThan(roster1, 3)"
   ]
  },
  {
   "cell_type": "markdown",
   "metadata": {},
   "source": [
    "**With functional interfaces (Java) & Function1 (Scala):**"
   ]
  },
  {
   "cell_type": "code",
   "execution_count": null,
   "metadata": {},
   "outputs": [],
   "source": [
    "/*\n",
    "\n",
    "// Standard functional interface\n",
    "\n",
    "interface Predicate<T> {\n",
    "    boolean test(T t);\n",
    "}\n",
    "\n",
    "public static void printPersonsWithPredicate(\n",
    "    List<Person> roster, Predicate<Person> tester) {\n",
    "    for (Person p : roster) {\n",
    "        if (tester.test(p)) {\n",
    "            p.printPerson();\n",
    "        }\n",
    "    }\n",
    "}\n",
    "*/"
   ]
  },
  {
   "cell_type": "code",
   "execution_count": null,
   "metadata": {},
   "outputs": [],
   "source": [
    "// Standard functional interface\n",
    "\n",
    "/*\n",
    "trait Function1[A, B] {\n",
    "    def apply(a: A): B\n",
    "}\n",
    "*/\n",
    "\n",
    "def printPersons(\n",
    "    roster: Array[Person], tester: Function1[Person, Boolean]) {\n",
    "    for (p <- roster) {\n",
    "        if (tester.apply(p)) {\n",
    "            p.print\n",
    "        }\n",
    "    }\n",
    "}"
   ]
  },
  {
   "cell_type": "markdown",
   "metadata": {},
   "source": [
    "Syntactic sugar for function types:\n",
    "`Function1[A, B]` === `A => B`"
   ]
  },
  {
   "cell_type": "code",
   "execution_count": null,
   "metadata": {},
   "outputs": [],
   "source": [
    "def printPersons(\n",
    "    roster: Array[Person], tester: Person => Boolean) {\n",
    "    for (p <- roster) {\n",
    "        if (tester.apply(p)) {\n",
    "            p.print\n",
    "        }\n",
    "    }\n",
    "}"
   ]
  },
  {
   "cell_type": "markdown",
   "metadata": {},
   "source": [
    "Invoke method with named functions:"
   ]
  },
  {
   "cell_type": "code",
   "execution_count": null,
   "metadata": {},
   "outputs": [],
   "source": [
    "/*\n",
    "\n",
    "class CheckPersonEligibleForSelectiveService implements Predicate<Person> {\n",
    "    public boolean test(Person p) {\n",
    "        return p.gender == Person.Sex.MALE &&\n",
    "            p.getAge() >= 18 &&\n",
    "            p.getAge() <= 25;\n",
    "    }\n",
    "}\n",
    "\n",
    "printPersons(\n",
    "    roster, new CheckPersonEligibleForSelectiveService());\n",
    "*/"
   ]
  },
  {
   "cell_type": "code",
   "execution_count": null,
   "metadata": {},
   "outputs": [],
   "source": [
    "object CheckPersonEligibleForSelectiveService extends Function1[Person, Boolean]{\n",
    "    def apply(p: Person): Boolean = \n",
    "            p.age >= 18 &&\n",
    "            p.age <= 25\n",
    "}\n",
    "\n",
    "printPersons(roster1, CheckPersonEligibleForSelectiveService)"
   ]
  },
  {
   "cell_type": "markdown",
   "metadata": {},
   "source": [
    "invoke methods with anonymous class instances:"
   ]
  },
  {
   "cell_type": "code",
   "execution_count": null,
   "metadata": {},
   "outputs": [],
   "source": [
    "printPersons(roster1, new Function1[Person, Boolean]{\n",
    "    def apply(p: Person): Boolean = \n",
    "            p.age >= 18 &&\n",
    "            p.age <= 25\n",
    "})"
   ]
  },
  {
   "cell_type": "markdown",
   "metadata": {},
   "source": [
    "invoke method with lambda expressions:"
   ]
  },
  {
   "cell_type": "code",
   "execution_count": null,
   "metadata": {},
   "outputs": [],
   "source": [
    "/*\n",
    "printPersonsWithPredicate(\n",
    "    roster,\n",
    "    p -> p.getGender() == Person.Sex.MALE\n",
    "        && p.getAge() >= 18\n",
    "        && p.getAge() <= 25\n",
    ");\n",
    "*/"
   ]
  },
  {
   "cell_type": "code",
   "execution_count": null,
   "metadata": {},
   "outputs": [],
   "source": [
    "printPersons(\n",
    "    roster1,\n",
    "    p => p.age >= 18 && p.age <= 25\n",
    ")"
   ]
  },
  {
   "cell_type": "markdown",
   "metadata": {},
   "source": [
    "invoke method with method references (Java) & eta-expansion (Scala):"
   ]
  },
  {
   "cell_type": "code",
   "execution_count": null,
   "metadata": {},
   "outputs": [],
   "source": [
    "/*\n",
    "public class Person {\n",
    "    ...\n",
    "    public static int checkAge(Person a) {\n",
    "        return a.getAge() >= 18 && p.getAge() <= 25;\n",
    "    }\n",
    "}\n",
    "\n",
    "printPersonsWithPredicate(roster, Person::checkAge);\n",
    "*/"
   ]
  },
  {
   "cell_type": "code",
   "execution_count": null,
   "metadata": {},
   "outputs": [],
   "source": [
    "def checkAge(a: Person): Boolean = \n",
    "    a.age >= 18 && a.age <= 25\n",
    "\n",
    "printPersons(roster1, (a: Person) => checkAge(a))\n",
    "printPersons(roster1, checkAge)"
   ]
  },
  {
   "cell_type": "markdown",
   "metadata": {},
   "source": [
    "// Eta-expansion"
   ]
  },
  {
   "cell_type": "code",
   "execution_count": null,
   "metadata": {},
   "outputs": [],
   "source": [
    "val f: Function1[Person, Boolean] = checkAge"
   ]
  },
  {
   "cell_type": "code",
   "execution_count": null,
   "metadata": {},
   "outputs": [],
   "source": [
    "// Explicitly force conversion\n",
    "val f = checkAge _"
   ]
  },
  {
   "cell_type": "markdown",
   "metadata": {},
   "source": [
    "### Contravariance and variance in Function traits"
   ]
  },
  {
   "cell_type": "markdown",
   "metadata": {},
   "source": [
    "Trait `Function1` is defined as follows:\n",
    "\n",
    "trait Function1[-A, +B]{\n",
    "   def apply(a: A): B\n",
    "}"
   ]
  },
  {
   "cell_type": "code",
   "execution_count": null,
   "metadata": {},
   "outputs": [],
   "source": [
    "def fAA: Animal => Animal = ???\n",
    "def fAD: Animal => Doberman = ???"
   ]
  },
  {
   "cell_type": "markdown",
   "metadata": {},
   "source": [
    "Which functions can be passed to this method?"
   ]
  },
  {
   "cell_type": "code",
   "execution_count": null,
   "metadata": {},
   "outputs": [],
   "source": [
    "def f2(f: Gato => Perro) = ???"
   ]
  },
  {
   "cell_type": "code",
   "execution_count": null,
   "metadata": {},
   "outputs": [],
   "source": [
    "// This doesn't compile:\n",
    "// f2(fAA)"
   ]
  },
  {
   "cell_type": "code",
   "execution_count": null,
   "metadata": {},
   "outputs": [],
   "source": [
    "// This compiles:\n",
    "def r = f2(fAD)"
   ]
  }
 ],
 "metadata": {
  "kernelspec": {
   "display_name": "Scala",
   "language": "scala",
   "name": "scala"
  },
  "language_info": {
   "codemirror_mode": "text/x-scala",
   "file_extension": ".sc",
   "mimetype": "text/x-scala",
   "name": "scala",
   "nbconvert_exporter": "script",
   "version": "2.13.3"
  }
 },
 "nbformat": 4,
 "nbformat_minor": 2
}
