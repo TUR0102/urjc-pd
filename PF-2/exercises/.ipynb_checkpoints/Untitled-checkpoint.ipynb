{
 "cells": [
  {
   "cell_type": "markdown",
   "metadata": {},
   "source": [
    "# Declarative Programming @ URJC\n",
    "# Functional programming\n",
    "## Problem Set 3\n",
    "### Querying data models"
   ]
  },
  {
   "cell_type": "markdown",
   "metadata": {},
   "source": [
    "This problem set contains different exercises on the standard HOFs and operations of the Scala collection framework. The goal is to write queries over a data model implemented using case classes, `Map`s and `Set`s, in a declarative and functional style. "
   ]
  },
  {
   "cell_type": "code",
   "execution_count": 1,
   "metadata": {},
   "outputs": [
    {
     "data": {
      "text/plain": [
       "\u001b[32mimport \u001b[39m\u001b[36m$ivy.$                               \n",
       "\u001b[39m\n",
       "\u001b[32mimport \u001b[39m\u001b[36morg.scalatest._\u001b[39m"
      ]
     },
     "execution_count": 1,
     "metadata": {},
     "output_type": "execute_result"
    }
   ],
   "source": [
    "import $ivy.`org.scalatest::scalatest:3.0.8`\n",
    "import org.scalatest._"
   ]
  },
  {
   "cell_type": "markdown",
   "metadata": {},
   "source": [
    "# Movies database"
   ]
  },
  {
   "cell_type": "markdown",
   "metadata": {},
   "source": [
    "We will use a small data model that contains information about films, directors, actors, etc.  "
   ]
  },
  {
   "cell_type": "code",
   "execution_count": 2,
   "metadata": {},
   "outputs": [
    {
     "data": {
      "text/plain": [
       "defined \u001b[32mclass\u001b[39m \u001b[36mMovieDatabase\u001b[39m\n",
       "defined \u001b[32mclass\u001b[39m \u001b[36mFilm\u001b[39m\n",
       "defined \u001b[32mobject\u001b[39m \u001b[36mFilm\u001b[39m\n",
       "defined \u001b[32mclass\u001b[39m \u001b[36mUser\u001b[39m\n",
       "defined \u001b[32mobject\u001b[39m \u001b[36mUser\u001b[39m\n",
       "defined \u001b[32mclass\u001b[39m \u001b[36mRating\u001b[39m\n",
       "defined \u001b[32mclass\u001b[39m \u001b[36mCast\u001b[39m\n",
       "defined \u001b[32mobject\u001b[39m \u001b[36mRating\u001b[39m\n",
       "defined \u001b[32mclass\u001b[39m \u001b[36mDirector\u001b[39m\n",
       "defined \u001b[32mobject\u001b[39m \u001b[36mDirector\u001b[39m\n",
       "defined \u001b[32mclass\u001b[39m \u001b[36mActor\u001b[39m\n",
       "defined \u001b[32mobject\u001b[39m \u001b[36mActor\u001b[39m"
      ]
     },
     "execution_count": 2,
     "metadata": {},
     "output_type": "execute_result"
    }
   ],
   "source": [
    "case class MovieDatabase(\n",
    "    films: Map[Film.Id, Film],\n",
    "    directors: Map[Director.Id, Director],\n",
    "    actors: Map[Actor.Id, Actor],\n",
    "    casts: Map[(Film.Id, Actor.Id), Cast],\n",
    "    users: Map[User.Id, User],\n",
    "    ratings: Map[(Film.Id, User.Id), Rating])\n",
    "    \n",
    "case class Film(\n",
    "    id: Film.Id, \n",
    "    name: String, \n",
    "    director: Director.Id,\n",
    "    genre: String,\n",
    "    year: Int,\n",
    "    country: String)\n",
    "\n",
    "object Film{\n",
    "    type Id = String\n",
    "}\n",
    "        \n",
    "case class User(\n",
    "    id: User.Id,\n",
    "    registered: Int)\n",
    "        \n",
    "object User{\n",
    "    type Id = String\n",
    "}\n",
    "        \n",
    "case class Rating(\n",
    "    film: Film.Id,\n",
    "    user: User.Id,\n",
    "    score: Int)\n",
    "\n",
    "case class Cast(\n",
    "    film: Film.Id, \n",
    "    actor: Actor.Id,\n",
    "    as: String)\n",
    "    \n",
    "object Rating{\n",
    "    type Id = String\n",
    "}\n",
    "        \n",
    "case class Director(\n",
    "    id: Director.Id,\n",
    "    born: Int)\n",
    "    \n",
    "object Director{\n",
    "    type Id = String\n",
    "}\n",
    "        \n",
    "case class Actor(\n",
    "    id: Actor.Id,\n",
    "    born: Int)\n",
    "    \n",
    "object Actor{\n",
    "    type Id = String\n",
    "}"
   ]
  },
  {
   "cell_type": "code",
   "execution_count": 3,
   "metadata": {},
   "outputs": [
    {
     "data": {
      "text/plain": [
       "defined \u001b[32mobject\u001b[39m \u001b[36mBasicQueries\u001b[39m\n",
       "\u001b[32mimport \u001b[39m\u001b[36mBasicQueries._\u001b[39m"
      ]
     },
     "execution_count": 3,
     "metadata": {},
     "output_type": "execute_result"
    }
   ],
   "source": [
    "object BasicQueries{\n",
    "    \n",
    "    // Entities\n",
    "    \n",
    "    def films(mdb: MovieDatabase): Set[Film.Id] =\n",
    "        ???\n",
    "    \n",
    "    def users(mdb: MovieDatabase): Set[User.Id] = \n",
    "        ???\n",
    "    \n",
    "    def directors(mdb: MovieDatabase): Set[Director.Id] = \n",
    "        ???\n",
    "        \n",
    "    def actors(mdb: MovieDatabase): Set[Actor.Id] = \n",
    "        ???\n",
    "    \n",
    "    // 1-N relationships\n",
    "    \n",
    "    def films(dir: Director.Id)(mdb: MovieDatabase): Set[Film.Id] = \n",
    "        ???\n",
    "    \n",
    "    // N-M relationships\n",
    "    \n",
    "    def ratings(mdb: MovieDatabase): Set[Rating] = \n",
    "        ???\n",
    "    \n",
    "    def userRatings(user: User.Id)(mdb: MovieDatabase): Set[Rating] = \n",
    "        ???\n",
    "    \n",
    "    def filmRatings(user: User.Id)(mdb: MovieDatabase): Set[Rating] = \n",
    "        ???\n",
    "    \n",
    "    \n",
    "}\n",
    "\n",
    "import BasicQueries._"
   ]
  },
  {
   "cell_type": "code",
   "execution_count": 3,
   "metadata": {},
   "outputs": [],
   "source": [
    "/*val moviedb: MovieDatabase = MovieDatabase(\n",
    "    films = Map(\n",
    "        \n",
    "    ),\n",
    "\n",
    "    directors = Map(\n",
    "    ),\n",
    "\n",
    "    actors = Map(\n",
    "    ))\n",
    "    */"
   ]
  },
  {
   "cell_type": "markdown",
   "metadata": {},
   "source": [
    "# Problem 1"
   ]
  },
  {
   "cell_type": "markdown",
   "metadata": {},
   "source": [
    "Write functions that compute the following film rankings."
   ]
  },
  {
   "cell_type": "markdown",
   "metadata": {},
   "source": [
    "__Part a)__ Obtain a ranking of films, sorted by their number of ratings."
   ]
  },
  {
   "cell_type": "code",
   "execution_count": 4,
   "metadata": {},
   "outputs": [
    {
     "data": {
      "text/plain": [
       "defined \u001b[32mfunction\u001b[39m \u001b[36mmostRated\u001b[39m"
      ]
     },
     "execution_count": 4,
     "metadata": {},
     "output_type": "execute_result"
    }
   ],
   "source": [
    "def mostRated(mdb: MovieDatabase): List[(Film.Id, Int)] = \n",
    "    films(mdb).map( film => \n",
    "        (film, filmRatings(film)(mdb).size)\n",
    "    ).toList.sortWith((tuple1, tuple2) => \n",
    "        tuple1._2 > tuple2._2\n",
    "    )"
   ]
  },
  {
   "cell_type": "markdown",
   "metadata": {},
   "source": [
    "__Part b)__ Obtain a ranking of films, sorted by their average rating. "
   ]
  },
  {
   "cell_type": "code",
   "execution_count": 5,
   "metadata": {},
   "outputs": [
    {
     "data": {
      "text/plain": [
       "defined \u001b[32mfunction\u001b[39m \u001b[36maverage\u001b[39m"
      ]
     },
     "execution_count": 5,
     "metadata": {},
     "output_type": "execute_result"
    }
   ],
   "source": [
    "def average(seq: Set[Int]): Double = {\n",
    "    val (sum, count) = seq.foldLeft((0.0, 0)){\n",
    "        case ((sum, count), e) => (sum + e, count + 1)\n",
    "    }\n",
    "    sum / count\n",
    "}"
   ]
  },
  {
   "cell_type": "code",
   "execution_count": 7,
   "metadata": {},
   "outputs": [
    {
     "data": {
      "text/plain": [
       "defined \u001b[32mfunction\u001b[39m \u001b[36mwholeAverageRating\u001b[39m"
      ]
     },
     "execution_count": 7,
     "metadata": {},
     "output_type": "execute_result"
    }
   ],
   "source": [
    "def wholeAverageRating(mdb: MovieDatabase): Double = \n",
    "    average(ratings(mdb).map(\n",
    "        rating => rating.score\n",
    "    ))"
   ]
  },
  {
   "cell_type": "code",
   "execution_count": 6,
   "metadata": {},
   "outputs": [
    {
     "data": {
      "text/plain": [
       "defined \u001b[32mfunction\u001b[39m \u001b[36maverageRating\u001b[39m"
      ]
     },
     "execution_count": 6,
     "metadata": {},
     "output_type": "execute_result"
    }
   ],
   "source": [
    "def averageRating(film: Film.Id)(mdb: MovieDatabase): Double =\n",
    "    average(filmRatings(film)(mdb).map(\n",
    "        rating => rating.score\n",
    "    ))"
   ]
  },
  {
   "cell_type": "code",
   "execution_count": 14,
   "metadata": {},
   "outputs": [
    {
     "data": {
      "text/plain": [
       "defined \u001b[32mfunction\u001b[39m \u001b[36mtopRated\u001b[39m"
      ]
     },
     "execution_count": 14,
     "metadata": {},
     "output_type": "execute_result"
    }
   ],
   "source": [
    "def topRated(mdb: MovieDatabase): List[(Film.Id, Double)] = \n",
    "    films(mdb).map( film => \n",
    "        (film, averageRating(film)(mdb))\n",
    "    ).toList.sortWith((tuple1, tuple2) => \n",
    "        tuple1._2 > tuple2._2\n",
    "    )"
   ]
  },
  {
   "cell_type": "markdown",
   "metadata": {},
   "source": [
    "# Problem 2"
   ]
  },
  {
   "cell_type": "code",
   "execution_count": 9,
   "metadata": {},
   "outputs": [
    {
     "data": {
      "text/plain": [
       "defined \u001b[32mfunction\u001b[39m \u001b[36mmostRatedBy\u001b[39m"
      ]
     },
     "execution_count": 9,
     "metadata": {},
     "output_type": "execute_result"
    }
   ],
   "source": [
    "def mostRatedBy(user: User.Id, n: Int)(mdb: MovieDatabase): List[Film.Id] = \n",
    "    userRatings(user)(mdb).toList\n",
    "        .sortWith((rating1, rating2) => \n",
    "            rating1.score > rating2.score)\n",
    "        .map(rating => rating.film)\n",
    "        .take(n)\n",
    "    "
   ]
  },
  {
   "cell_type": "markdown",
   "metadata": {},
   "source": [
    "# Problem 3"
   ]
  },
  {
   "cell_type": "code",
   "execution_count": 10,
   "metadata": {},
   "outputs": [
    {
     "data": {
      "text/plain": [
       "defined \u001b[32mfunction\u001b[39m \u001b[36maverageRating\u001b[39m"
      ]
     },
     "execution_count": 10,
     "metadata": {},
     "output_type": "execute_result"
    }
   ],
   "source": [
    "def averageRating(genre: String)(mdb: MovieDatabase): Double = {\n",
    "    val genreRatings: Set[Int] = \n",
    "        ratings(mdb).filter( rating => \n",
    "            mdb.films.get(rating.film).map(_.genre == genre).getOrElse(false)\n",
    "        ).map(_.score)\n",
    "    average(genreRatings)\n",
    "}"
   ]
  },
  {
   "cell_type": "code",
   "execution_count": 11,
   "metadata": {},
   "outputs": [
    {
     "data": {
      "text/plain": [
       "defined \u001b[32mfunction\u001b[39m \u001b[36maverageRating\u001b[39m"
      ]
     },
     "execution_count": 11,
     "metadata": {},
     "output_type": "execute_result"
    }
   ],
   "source": [
    "def averageRating(genre: String)(mdb: MovieDatabase): Double = {\n",
    "    val genreRatings: Set[Int] = \n",
    "        ratings(mdb).flatMap( rating => \n",
    "            mdb.films.get(rating.film).toSet.flatMap( (film: Film) => \n",
    "               if (film.genre == genre) Set(rating.score)\n",
    "               else Set()\n",
    "            ))\n",
    "    average(genreRatings)\n",
    "}"
   ]
  },
  {
   "cell_type": "code",
   "execution_count": 12,
   "metadata": {},
   "outputs": [
    {
     "data": {
      "text/plain": [
       "defined \u001b[32mfunction\u001b[39m \u001b[36maverageRating\u001b[39m"
      ]
     },
     "execution_count": 12,
     "metadata": {},
     "output_type": "execute_result"
    }
   ],
   "source": [
    "def averageRating(genre: String)(mdb: MovieDatabase): Double = {\n",
    "    val genreRatings: Set[Int] = for{\n",
    "        rating <- ratings(mdb)\n",
    "        film <- mdb.films.get(rating.film) if film.genre == genre\n",
    "    } yield rating.score\n",
    "    average(genreRatings)\n",
    "}"
   ]
  },
  {
   "cell_type": "code",
   "execution_count": null,
   "metadata": {},
   "outputs": [],
   "source": []
  }
 ],
 "metadata": {
  "kernelspec": {
   "display_name": "Scala",
   "language": "scala",
   "name": "scala"
  },
  "language_info": {
   "codemirror_mode": "text/x-scala",
   "file_extension": ".scala",
   "mimetype": "text/x-scala",
   "name": "scala",
   "nbconvert_exporter": "script",
   "version": "2.13.0"
  }
 },
 "nbformat": 4,
 "nbformat_minor": 2
}
