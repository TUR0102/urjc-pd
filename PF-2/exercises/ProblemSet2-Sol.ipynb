{
 "cells": [
  {
   "cell_type": "markdown",
   "metadata": {},
   "source": [
    "# Declarative Programming @ URJC\n",
    "# Functional programming\n",
    "## Problem Set 2: Algebraic data types"
   ]
  },
  {
   "cell_type": "markdown",
   "metadata": {},
   "source": [
    "## Exercise 1"
   ]
  },
  {
   "cell_type": "markdown",
   "metadata": {},
   "source": [
    "Prove that the isomorphism $1+1 \\cong Boolean$ holds by implementing the following bijections: "
   ]
  },
  {
   "cell_type": "code",
   "execution_count": 5,
   "metadata": {},
   "outputs": [
    {
     "data": {
      "text/plain": [
       "defined \u001b[32mfunction\u001b[39m \u001b[36mtoBoolean\u001b[39m"
      ]
     },
     "execution_count": 5,
     "metadata": {},
     "output_type": "execute_result"
    }
   ],
   "source": [
    "def toBoolean(a: Either[Unit, Unit]): Boolean = \n",
    "    a match {\n",
    "        case Left(_) => false\n",
    "        case Right(_) => true\n",
    "    }"
   ]
  },
  {
   "cell_type": "code",
   "execution_count": 12,
   "metadata": {},
   "outputs": [
    {
     "data": {
      "text/plain": [
       "defined \u001b[32mfunction\u001b[39m \u001b[36mfromBoolean\u001b[39m"
      ]
     },
     "execution_count": 12,
     "metadata": {},
     "output_type": "execute_result"
    }
   ],
   "source": [
    "def fromBoolean(a: Boolean): Either[Unit, Unit] = \n",
    "    if (a) Right(()) \n",
    "    else Left(())"
   ]
  },
  {
   "cell_type": "markdown",
   "metadata": {},
   "source": [
    "Check that they are indeed mutual inverses, i.e. that for all $a: Boolean$, `toBoolean(fromBoolean(a))==a`, and that for all $a: Either[Unit, Unit]$, `fromBoolean(toBoolean(a))==a`."
   ]
  },
  {
   "cell_type": "code",
   "execution_count": 11,
   "metadata": {},
   "outputs": [
    {
     "data": {
      "text/plain": [
       "\u001b[36mres10_0\u001b[39m: \u001b[32mBoolean\u001b[39m = true\n",
       "\u001b[36mres10_1\u001b[39m: \u001b[32mBoolean\u001b[39m = true\n",
       "\u001b[36mres10_2\u001b[39m: \u001b[32mBoolean\u001b[39m = true\n",
       "\u001b[36mres10_3\u001b[39m: \u001b[32mBoolean\u001b[39m = true"
      ]
     },
     "execution_count": 11,
     "metadata": {},
     "output_type": "execute_result"
    }
   ],
   "source": [
    "toBoolean(fromBoolean(true))==true\n",
    "toBoolean(fromBoolean(false))==false\n",
    "fromBoolean(toBoolean(Left(())))==Left(())\n",
    "fromBoolean(toBoolean(Right(())))==Right(())"
   ]
  },
  {
   "cell_type": "markdown",
   "metadata": {},
   "source": [
    "## Exercise 2"
   ]
  },
  {
   "cell_type": "markdown",
   "metadata": {},
   "source": [
    "How many functions are there of type `1+1+1 => Boolean`? Identify all of them as alternative implementations of the following signature: "
   ]
  },
  {
   "cell_type": "code",
   "execution_count": 13,
   "metadata": {},
   "outputs": [
    {
     "data": {
      "text/plain": [
       "defined \u001b[32mfunction\u001b[39m \u001b[36mf1\u001b[39m"
      ]
     },
     "execution_count": 13,
     "metadata": {},
     "output_type": "execute_result"
    }
   ],
   "source": [
    "def f1(e: Either[Unit, Either[Unit, Unit]]): Boolean = \n",
    "    e match {\n",
    "        case Left(()) => ??? // true or false\n",
    "        case Right(Left(())) => ??? // true or false\n",
    "        case Right(Right(())) => ??? // true or false\n",
    "    }"
   ]
  },
  {
   "cell_type": "markdown",
   "metadata": {},
   "source": [
    "Idem, as alternative lambda expressions:"
   ]
  },
  {
   "cell_type": "code",
   "execution_count": 15,
   "metadata": {},
   "outputs": [
    {
     "data": {
      "text/plain": [
       "\u001b[36mf1\u001b[39m: \u001b[32mEither\u001b[39m[\u001b[32mUnit\u001b[39m, \u001b[32mEither\u001b[39m[\u001b[32mUnit\u001b[39m, \u001b[32mUnit\u001b[39m]] => \u001b[32mBoolean\u001b[39m = ammonite.$sess.cmd14$Helper$$Lambda$2235/227482026@7ce6eec4"
      ]
     },
     "execution_count": 15,
     "metadata": {},
     "output_type": "execute_result"
    }
   ],
   "source": [
    "val f1: Either[Unit, Either[Unit, Unit]] => Boolean = \n",
    "    {\n",
    "        case Left(()) => ??? // true or false\n",
    "        case Right(Left(())) => ???// true or false\n",
    "        case Right(Right(())) => ???// true or false\n",
    "    }"
   ]
  },
  {
   "cell_type": "markdown",
   "metadata": {},
   "source": [
    "Now, the same for the function type `Boolean => Either[Unit, Either[Unit, Unit]]`. How many different implementations are there of the following function-method? (where two implementations will be considered different if the corresponding functions are different)."
   ]
  },
  {
   "cell_type": "code",
   "execution_count": 38,
   "metadata": {},
   "outputs": [
    {
     "data": {
      "text/plain": [
       "defined \u001b[32mfunction\u001b[39m \u001b[36mf1\u001b[39m\n",
       "defined \u001b[32mfunction\u001b[39m \u001b[36mf2\u001b[39m\n",
       "defined \u001b[32mfunction\u001b[39m \u001b[36mf3\u001b[39m\n",
       "defined \u001b[32mfunction\u001b[39m \u001b[36mf4\u001b[39m\n",
       "defined \u001b[32mfunction\u001b[39m \u001b[36mf5\u001b[39m\n",
       "defined \u001b[32mfunction\u001b[39m \u001b[36mf6\u001b[39m\n",
       "defined \u001b[32mfunction\u001b[39m \u001b[36mf7\u001b[39m\n",
       "defined \u001b[32mfunction\u001b[39m \u001b[36mf8\u001b[39m\n",
       "defined \u001b[32mfunction\u001b[39m \u001b[36mf9\u001b[39m"
      ]
     },
     "execution_count": 38,
     "metadata": {},
     "output_type": "execute_result"
    }
   ],
   "source": [
    "def f1(b: Boolean): Either[Unit, Either[Unit, Unit]] = \n",
    "    Left(())\n",
    "\n",
    "def f2(b: Boolean): Either[Unit, Either[Unit, Unit]] = \n",
    "    Right(Left(()))\n",
    "\n",
    "def f3(b: Boolean): Either[Unit, Either[Unit, Unit]] = \n",
    "    Right(Right(()))\n",
    "\n",
    "def f4(b: Boolean): Either[Unit, Either[Unit, Unit]] = \n",
    "    if (b) Left(()) else Right(Left())\n",
    "\n",
    "def f5(b: Boolean): Either[Unit, Either[Unit, Unit]] = \n",
    "    if (b) Right(Left()) else Right(Right(()))\n",
    "\n",
    "def f6(b: Boolean): Either[Unit, Either[Unit, Unit]] = \n",
    "    if (b) Left(()) else Right(Right(()))\n",
    "\n",
    "def f7(b: Boolean): Either[Unit, Either[Unit, Unit]] = \n",
    "    if (!b) Left(()) else Right(Left())\n",
    "\n",
    "def f8(b: Boolean): Either[Unit, Either[Unit, Unit]] = \n",
    "    if (!b) Right(Left()) else Right(Right(()))\n",
    "\n",
    "def f9(b: Boolean): Either[Unit, Either[Unit, Unit]] = \n",
    "    if (!b) Left(()) else Right(Right(()))\n"
   ]
  },
  {
   "cell_type": "code",
   "execution_count": 44,
   "metadata": {},
   "outputs": [
    {
     "data": {
      "text/plain": [
       "defined \u001b[32mfunction\u001b[39m \u001b[36mequalF\u001b[39m"
      ]
     },
     "execution_count": 44,
     "metadata": {},
     "output_type": "execute_result"
    }
   ],
   "source": [
    "def equalF(f1: Boolean => Either[Unit, Either[Unit, Unit]], \n",
    "           f2: Boolean => Either[Unit, Either[Unit, Unit]]): Boolean = \n",
    "    f1(false) == f2(false) && \n",
    "    f1(true) == f2(true)"
   ]
  },
  {
   "cell_type": "code",
   "execution_count": 40,
   "metadata": {},
   "outputs": [
    {
     "data": {
      "text/plain": [
       "defined \u001b[32mfunction\u001b[39m \u001b[36mpartition\u001b[39m"
      ]
     },
     "execution_count": 40,
     "metadata": {},
     "output_type": "execute_result"
    }
   ],
   "source": [
    "def partition[A](rel: (A,A) => Boolean)(l: List[A]): Map[A, List[A]] =\n",
    "    l.foldLeft(Map[A, List[A]]()){\n",
    "        (map, e) => \n",
    "            map.keys.find(rel(e,_)).fold(\n",
    "                map + (e -> List(e))){\n",
    "                e2 => map + (e2 -> (e :: map(e2)))\n",
    "            }\n",
    "    }\n",
    "    "
   ]
  },
  {
   "cell_type": "code",
   "execution_count": 41,
   "metadata": {},
   "outputs": [
    {
     "data": {
      "text/plain": [
       "\u001b[36mres40\u001b[39m: \u001b[32mMap\u001b[39m[\u001b[32mInt\u001b[39m, \u001b[32mList\u001b[39m[\u001b[32mInt\u001b[39m]] = \u001b[33mHashMap\u001b[39m(\n",
       "  \u001b[32m5\u001b[39m -> \u001b[33mList\u001b[39m(\u001b[32m5\u001b[39m),\n",
       "  \u001b[32m1\u001b[39m -> \u001b[33mList\u001b[39m(\u001b[32m1\u001b[39m, \u001b[32m1\u001b[39m),\n",
       "  \u001b[32m2\u001b[39m -> \u001b[33mList\u001b[39m(\u001b[32m2\u001b[39m, \u001b[32m2\u001b[39m),\n",
       "  \u001b[32m3\u001b[39m -> \u001b[33mList\u001b[39m(\u001b[32m3\u001b[39m),\n",
       "  \u001b[32m4\u001b[39m -> \u001b[33mList\u001b[39m(\u001b[32m4\u001b[39m, \u001b[32m4\u001b[39m)\n",
       ")"
      ]
     },
     "execution_count": 41,
     "metadata": {},
     "output_type": "execute_result"
    }
   ],
   "source": [
    "partition[Int](_ == _)(List(1,2,3,2,1,5,4,4))"
   ]
  },
  {
   "cell_type": "code",
   "execution_count": 43,
   "metadata": {},
   "outputs": [
    {
     "data": {
      "text/plain": [
       "\u001b[36mres42\u001b[39m: \u001b[32mMap\u001b[39m[\u001b[32mBoolean\u001b[39m => \u001b[32mEither\u001b[39m[\u001b[32mUnit\u001b[39m, \u001b[32mEither\u001b[39m[\u001b[32mUnit\u001b[39m, \u001b[32mUnit\u001b[39m]], \u001b[32mList\u001b[39m[\u001b[32mBoolean\u001b[39m => \u001b[32mEither\u001b[39m[\u001b[32mUnit\u001b[39m, \u001b[32mEither\u001b[39m[\u001b[32mUnit\u001b[39m, \u001b[32mUnit\u001b[39m]]]] = \u001b[33mHashMap\u001b[39m(\n",
       "  ammonite.$sess.cmd42$Helper$$Lambda$2559/372747411@1d77f148 -> \u001b[33mList\u001b[39m(\n",
       "    ammonite.$sess.cmd42$Helper$$Lambda$2559/372747411@1d77f148\n",
       "  ),\n",
       "  ammonite.$sess.cmd42$Helper$$Lambda$2556/1891263025@23889ead -> \u001b[33mList\u001b[39m(\n",
       "    ammonite.$sess.cmd42$Helper$$Lambda$2556/1891263025@23889ead\n",
       "  ),\n",
       "  ammonite.$sess.cmd42$Helper$$Lambda$2557/1635976977@1dd5a480 -> \u001b[33mList\u001b[39m(\n",
       "    ammonite.$sess.cmd42$Helper$$Lambda$2557/1635976977@1dd5a480\n",
       "  ),\n",
       "  ammonite.$sess.cmd42$Helper$$Lambda$2560/901771150@7aed79bd -> \u001b[33mList\u001b[39m(\n",
       "    ammonite.$sess.cmd42$Helper$$Lambda$2560/901771150@7aed79bd\n",
       "  ),\n",
       "  ammonite.$sess.cmd42$Helper$$Lambda$2558/818125618@4b4527d3 -> \u001b[33mList\u001b[39m(\n",
       "    ammonite.$sess.cmd42$Helper$$Lambda$2558/818125618@4b4527d3\n",
       "  ),\n",
       "  ammonite.$sess.cmd42$Helper$$Lambda$2561/1283317159@4a2c33c4 -> \u001b[33mList\u001b[39m(\n",
       "    ammonite.$sess.cmd42$Helper$$Lambda$2561/1283317159@4a2c33c4\n",
       "  ),\n",
       "  ammonite.$sess.cmd42$Helper$$Lambda$2562/1615578385@28b5eeed -> \u001b[33mList\u001b[39m(\n",
       "    ammonite.$sess.cmd42$Helper$$Lambda$2562/1615578385@28b5eeed\n",
       "  ),\n",
       "  ammonite.$sess.cmd42$Helper$$Lambda$2554/966594962@4bb3aebf -> \u001b[33mList\u001b[39m(\n",
       "    ammonite.$sess.cmd42$Helper$$Lambda$2554/966594962@4bb3aebf\n",
       "  ),\n",
       "  ammonite.$sess.cmd42$Helper$$Lambda$2555/1732784986@1baebd8 -> \u001b[33mList\u001b[39m(\n",
       "    ammonite.$sess.cmd42$Helper$$Lambda$2555/1732784986@1baebd8\n",
       "  )\n",
       ")"
      ]
     },
     "execution_count": 43,
     "metadata": {},
     "output_type": "execute_result"
    }
   ],
   "source": [
    "partition(equalF)(List(f1 _, f2 _, f3 _, f4 _, f5 _, f6 _, f7 _, f8 _, f9 _))"
   ]
  },
  {
   "cell_type": "markdown",
   "metadata": {},
   "source": [
    "## Exercise 3"
   ]
  },
  {
   "cell_type": "markdown",
   "metadata": {},
   "source": [
    "Shows that the following law holds for exponent types: $(Z^X)^Y \\cong Z^{X*Y}$, for all types $X$, $Y$ and $Z$."
   ]
  },
  {
   "cell_type": "code",
   "execution_count": 45,
   "metadata": {},
   "outputs": [
    {
     "data": {
      "text/plain": [
       "defined \u001b[32mfunction\u001b[39m \u001b[36mcurry\u001b[39m"
      ]
     },
     "execution_count": 45,
     "metadata": {},
     "output_type": "execute_result"
    }
   ],
   "source": [
    "def curry[X, Y, Z](f: (X, Y) => Z): X => Y => Z = \n",
    "    (x: X) => (y: Y) => f(x,y)"
   ]
  },
  {
   "cell_type": "code",
   "execution_count": 46,
   "metadata": {},
   "outputs": [
    {
     "data": {
      "text/plain": [
       "defined \u001b[32mfunction\u001b[39m \u001b[36muncurry\u001b[39m"
      ]
     },
     "execution_count": 46,
     "metadata": {},
     "output_type": "execute_result"
    }
   ],
   "source": [
    "def uncurry[X, Y, Z](f: X => Y => Z): (X, Y) => Z = \n",
    "    (x: X, y: Y) => f(x)(y)"
   ]
  },
  {
   "cell_type": "markdown",
   "metadata": {},
   "source": [
    "Implement function equality for the following signatures and check that both functions are inverses of each other for two sample functions $ex1$ and $ex2$:  "
   ]
  },
  {
   "cell_type": "code",
   "execution_count": 50,
   "metadata": {},
   "outputs": [
    {
     "data": {
      "text/plain": [
       "defined \u001b[32mfunction\u001b[39m \u001b[36mequal1\u001b[39m"
      ]
     },
     "execution_count": 50,
     "metadata": {},
     "output_type": "execute_result"
    }
   ],
   "source": [
    "def equal1(f1: Boolean => Boolean => Boolean, \n",
    "          f2: Boolean => Boolean => Boolean): Boolean = \n",
    "    f1(false)(false) == f2(false)(false) &&\n",
    "    f1(false)(true) == f2(false)(true) &&\n",
    "    f1(true)(false) == f2(true)(false) &&\n",
    "    f1(true)(true) == f2(true)(true)"
   ]
  },
  {
   "cell_type": "code",
   "execution_count": 51,
   "metadata": {},
   "outputs": [
    {
     "data": {
      "text/plain": [
       "defined \u001b[32mfunction\u001b[39m \u001b[36mequal2\u001b[39m"
      ]
     },
     "execution_count": 51,
     "metadata": {},
     "output_type": "execute_result"
    }
   ],
   "source": [
    "def equal2(f1: (Boolean, Boolean) => Boolean, \n",
    "          f2: (Boolean, Boolean) => Boolean): Boolean = \n",
    "    f1(false,false) == f2(false,false) &&\n",
    "    f1(false,true) == f2(false,true) &&\n",
    "    f1(true,false) == f2(true,false) &&\n",
    "    f1(true,true) == f2(true,true)"
   ]
  },
  {
   "cell_type": "code",
   "execution_count": 55,
   "metadata": {},
   "outputs": [
    {
     "data": {
      "text/plain": [
       "defined \u001b[32mfunction\u001b[39m \u001b[36mex1\u001b[39m\n",
       "defined \u001b[32mfunction\u001b[39m \u001b[36mex2\u001b[39m"
      ]
     },
     "execution_count": 55,
     "metadata": {},
     "output_type": "execute_result"
    }
   ],
   "source": [
    "def ex1: Boolean => Boolean => Boolean = b1 => b2 => false\n",
    "def ex2: (Boolean, Boolean) => Boolean = (b1, b2) => true"
   ]
  },
  {
   "cell_type": "code",
   "execution_count": 57,
   "metadata": {},
   "outputs": [
    {
     "data": {
      "text/plain": [
       "\u001b[36mres56_0\u001b[39m: \u001b[32mBoolean\u001b[39m = true\n",
       "\u001b[36mres56_1\u001b[39m: \u001b[32mBoolean\u001b[39m = true"
      ]
     },
     "execution_count": 57,
     "metadata": {},
     "output_type": "execute_result"
    }
   ],
   "source": [
    "equal1(ex1, curry(uncurry(ex1)))\n",
    "equal2(ex2, uncurry(curry(ex2)))"
   ]
  },
  {
   "cell_type": "markdown",
   "metadata": {},
   "source": [
    "## Exercise 4"
   ]
  },
  {
   "cell_type": "markdown",
   "metadata": {},
   "source": [
    "Shows that the following law holds for exponent types: $(Y*Z)^X \\cong Y^X*Z^X$, for all types $X$, $Y$ and $Z$."
   ]
  },
  {
   "cell_type": "code",
   "execution_count": 58,
   "metadata": {},
   "outputs": [
    {
     "data": {
      "text/plain": [
       "defined \u001b[32mfunction\u001b[39m \u001b[36mfrom\u001b[39m"
      ]
     },
     "execution_count": 58,
     "metadata": {},
     "output_type": "execute_result"
    }
   ],
   "source": [
    "def from[X, Y, Z]: (X => (Y, Z)) => (X => Y, X => Z) = \n",
    "    f => (x => f(x)._1, x => f(x)._2)"
   ]
  },
  {
   "cell_type": "code",
   "execution_count": 59,
   "metadata": {},
   "outputs": [
    {
     "data": {
      "text/plain": [
       "defined \u001b[32mfunction\u001b[39m \u001b[36mto\u001b[39m"
      ]
     },
     "execution_count": 59,
     "metadata": {},
     "output_type": "execute_result"
    }
   ],
   "source": [
    "def to[X, Y, Z]: (X => Y, X => Z) => X => (Y, Z) = {\n",
    "    case (f1, f2) => x => (f1(x), f2(x))\n",
    "}"
   ]
  },
  {
   "cell_type": "markdown",
   "metadata": {},
   "source": [
    "Fix $X$, $Y$ and $Z$ to particular types, implement equality for the corresponding signatures and check that both functions, `from` and `to` are inverses of each other for two sample functions of your choice.  "
   ]
  }
 ],
 "metadata": {
  "kernelspec": {
   "display_name": "Scala",
   "language": "scala",
   "name": "scala"
  },
  "language_info": {
   "codemirror_mode": "text/x-scala",
   "file_extension": ".scala",
   "mimetype": "text/x-scala",
   "name": "scala",
   "nbconvert_exporter": "script",
   "version": "2.13.0"
  }
 },
 "nbformat": 4,
 "nbformat_minor": 4
}
