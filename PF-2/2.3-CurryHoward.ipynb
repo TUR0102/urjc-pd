{
 "cells": [
  {
   "cell_type": "markdown",
   "metadata": {},
   "source": [
    "# 2.3 Curry-Howard correspondence"
   ]
  },
  {
   "cell_type": "markdown",
   "metadata": {},
   "source": [
    "In this notebook we deal with another striking connection between functional programming and, in principle, a completely unrelated field of knowledge. When algebraic data types were introduced, we established a strong connection with _arithmetics_. Now, it's the turn of _logic_. We will see that programming functionally is akin, in a very close sense, to doing logic. That, when we write a type signature we are writing propositions that have to be proved; and that when we implement that signature with some term expression, we are actually providing a proof of that proposition. Thus, this notebook resolves to show the following correspondences:\n",
    "\n",
    "$$\n",
    "\\begin{array}{cc}\n",
    "\\mathrm{\\bf Computation} & \\mathrm{\\bf Logic} \\\\\n",
    "\\hline \n",
    "\\mathrm{Terms} & \\mathrm{Proofs} \\\\\n",
    "\\mathrm{Types} & \\mathrm{Propositions} \n",
    "\\end{array}\n",
    "$$\n",
    "\n",
    "This correspondence between logic and computation is known as the Curry-Howard correspondence. It shows that programming functionally and following the laws of logic is the very same thing, ... and who on earth would want to program in a different way!"
   ]
  },
  {
   "cell_type": "markdown",
   "metadata": {},
   "source": [
    "### References\n",
    "\n",
    "[__The Curry-Howard correspondence__](https://en.wikipedia.org/wiki/Curry%E2%80%93Howard_correspondence) Wikpedia. \n",
    "\n"
   ]
  },
  {
   "cell_type": "markdown",
   "metadata": {},
   "source": [
    "# A refresher: arithmetic and types"
   ]
  },
  {
   "cell_type": "markdown",
   "metadata": {},
   "source": [
    "Recall the correspondence between algebraic data types and arithmetic operators: \n",
    "\n",
    "$$ \n",
    "\\begin{array}{cc}\n",
    "\\mathrm{\\bf Scala\\ ADTs} & \\mathrm{\\bf Arithmetic} \\\\\n",
    "\\hline\n",
    "\\mathtt{Unit} & 1 \\\\\n",
    "\\mathtt{Nothing} & 0 \\\\\n",
    "\\mathtt{Either[X, Y]} & x + y \\\\\n",
    "\\mathtt{Tuple2[X, Y]} & x * y \\\\\n",
    "\\mathtt{X => Y} & {y^x}  \n",
    "\\end{array}\n",
    "$$\n",
    "\n",
    "According to this algebraic interpretation of types, the type "
   ]
  },
  {
   "cell_type": "code",
   "execution_count": 123,
   "metadata": {},
   "outputs": [
    {
     "data": {
      "text/plain": [
       "defined \u001b[32mtype\u001b[39m \u001b[36mA\u001b[39m"
      ]
     },
     "execution_count": 123,
     "metadata": {},
     "output_type": "execute_result"
    }
   ],
   "source": [
    "type A = (Unit, Either[Unit, (Boolean => Either[Unit, Unit])])"
   ]
  },
  {
   "cell_type": "markdown",
   "metadata": {},
   "source": [
    "has exactly `1*(1+(1+1)^2)` values. But not only that: corresponding to the equality `1*(1+(1+1)^2)=5`, the following isomorphism holds: "
   ]
  },
  {
   "cell_type": "code",
   "execution_count": 118,
   "metadata": {},
   "outputs": [
    {
     "data": {
      "text/plain": [
       "defined \u001b[32mfunction\u001b[39m \u001b[36mfrom\u001b[39m\n",
       "defined \u001b[32mfunction\u001b[39m \u001b[36mto\u001b[39m"
      ]
     },
     "execution_count": 118,
     "metadata": {},
     "output_type": "execute_result"
    }
   ],
   "source": [
    "def from(a: A): Either[Unit, \n",
    "    Either[Unit, Either[Unit, Either[Unit, Unit]]]] = ???\n",
    "def to(a: Either[Unit, \n",
    "    Either[Unit, Either[Unit, Either[Unit, Unit]]]]): A = ???"
   ]
  },
  {
   "cell_type": "markdown",
   "metadata": {},
   "source": [
    "# Propositions as types"
   ]
  },
  {
   "cell_type": "markdown",
   "metadata": {},
   "source": [
    "We put forward now the following correspondence: \n",
    "\n",
    "$$ \n",
    "\\begin{array}{cc}\n",
    "\\mathrm{\\bf Scala\\ ADTs} & \\mathrm{\\bf Logic} \\\\\n",
    "\\hline\n",
    "\\mathtt{Nothing} & \\bot \\\\\n",
    "\\mathtt{Either[P, Q]} & p \\vee q \\\\\n",
    "\\mathtt{Tuple2[P, Q]} & p \\wedge q \\\\\n",
    "\\mathtt{P => Q} & p \\rightarrow q \n",
    "\\end{array}\n",
    "$$\n"
   ]
  },
  {
   "cell_type": "markdown",
   "metadata": {},
   "source": [
    "so that the following type:\n",
    "\n",
    "```scala\n",
    "(P => Q, P) => Q\n",
    "```\n",
    "\n",
    "corresponds to the following formula of propositional logic: \n",
    "\n",
    "$\\hspace{0.8cm}(p \\rightarrow q) \\wedge p \\rightarrow q$\n",
    "\n",
    "Let's get used to read Scala types as propositional formulas with these examples: \n",
    "\n",
    "$$\n",
    "\\begin{array}{cc}\n",
    "\\mathrm{\\bf Scala\\ types} & \\mathrm{\\bf Propositions} \\\\\n",
    "\\hline\n",
    "\\mathtt{(P, Either[Q, R])} & p \\wedge (q\\vee r) \\\\ \n",
    "\\mathtt{P => Q => (Q, R)} & p \\rightarrow q \\rightarrow q \\wedge r \\\\\n",
    "\\mathtt{(P => Nothing) => Nothing} & (p \\rightarrow \\bot) \\rightarrow \\bot \\\\ \n",
    "\\end{array}\n",
    "$$"
   ]
  },
  {
   "cell_type": "markdown",
   "metadata": {},
   "source": [
    "What about logical negation and equivalence? They are commonly regarded as abbreviations: \n",
    "\n",
    "* $\\neg p$ abbreviates $p \\rightarrow \\bot$\n",
    "* $p \\leftrightarrow q$ abbreviates $p \\rightarrow q \\wedge q \\rightarrow p$\n",
    "\n",
    "so, they will be represented in Scala through the following type aliases: "
   ]
  },
  {
   "cell_type": "code",
   "execution_count": 127,
   "metadata": {},
   "outputs": [
    {
     "data": {
      "text/plain": [
       "defined \u001b[32mtype\u001b[39m \u001b[36mNot\u001b[39m\n",
       "defined \u001b[32mtype\u001b[39m \u001b[36m<=>\u001b[39m"
      ]
     },
     "execution_count": 127,
     "metadata": {},
     "output_type": "execute_result"
    }
   ],
   "source": [
    "type Not[P] = P => Nothing\n",
    "type <=>[P, Q] = (P => Q, Q => P)"
   ]
  },
  {
   "cell_type": "markdown",
   "metadata": {},
   "source": [
    "Let's translate the following propositional formulas to Scala types: "
   ]
  },
  {
   "cell_type": "markdown",
   "metadata": {},
   "source": [
    "\n",
    "$$ \n",
    "\\begin{array}{cc}\n",
    "\\mathrm{\\bf Logic} & \\mathrm{\\bf Scala\\ ADTs} \\\\\n",
    "\\hline\n",
    "p \\wedge q \\rightarrow r \\leftrightarrow p \\rightarrow q \\rightarrow r & \\mathtt{(((P,Q)) => R) <=> (P => Q => R)} \\\\\n",
    "\\neg (p \\wedge q) \\rightarrow \\neg p \\vee \\neg q & \\mathtt{Not[(P, Q)] => Either[Not[P], Not[Q]]}\\\\\n",
    "\\neg\\neg(p \\vee \\neg p) & \\mathtt{Not[Not[Either[P, Not[P]]]]}\\\\\n",
    "p \\vee (q \\wedge r) \\leftrightarrow (p \\vee q) \\wedge (p \\vee r) & \n",
    "\\mathtt{Either[P, (Q, R)] <=> (Either[P, Q], Either[P, R])}\n",
    "\\end{array}\n",
    "$$\n"
   ]
  },
  {
   "cell_type": "markdown",
   "metadata": {},
   "source": [
    "Note that $p \\wedge q \\rightarrow r$ translates to `((P,Q)) => R`, and not to `(P, Q) => R`. The former is a `Function1` which receives a single argument of tuple type `(P, Q)`; the latter is a `Function2` which receives two arguments of types `P` and `Q`. "
   ]
  },
  {
   "cell_type": "markdown",
   "metadata": {},
   "source": [
    "# Proofs as terms"
   ]
  },
  {
   "cell_type": "markdown",
   "metadata": {},
   "source": [
    "Right, but this is just a syntactic rewriting. In which sense, for instance, the Scala type\n",
    "\n",
    "`(P, Either[Q, R]) => Either[(P, Q), (P, R)]`\n",
    "\n",
    "justifies itself as a proper counterpart of the proposition\n",
    "$p \\wedge (q \\vee r) \\rightarrow p \\wedge q \\vee p \\wedge r$? The answer is that they behave exactly in the same way: we can implement a program (expression or term) of that type if, and only if, the corresponding proposition is a theorem. Thus, the program is a witness that the proposition can be proved; in fact, we can automatically obtained a proof from that program, and viceversa. Let's start from a possible program:\n",
    "\n"
   ]
  },
  {
   "cell_type": "code",
   "execution_count": 140,
   "metadata": {},
   "outputs": [
    {
     "data": {
      "text/plain": [
       "defined \u001b[32mfunction\u001b[39m \u001b[36mprogram\u001b[39m"
      ]
     },
     "execution_count": 140,
     "metadata": {},
     "output_type": "execute_result"
    }
   ],
   "source": [
    "def program[P, Q, R]: ((P, Either[Q, R])) => Either[(P, Q), (P, R)] = \n",
    "    t => t._2 match {\n",
    "        case Left(q) => Left(t._1, q)\n",
    "        case Right(r) => Right(t._1, r)\n",
    "    }"
   ]
  },
  {
   "cell_type": "markdown",
   "metadata": {},
   "source": [
    "How is this program related to a proof of $p \\wedge (q \\vee r) \\rightarrow p \\wedge q \\vee p \\wedge r$? In order to talk about proofs we need a formal system, and our proof system of choice is Gentzen's natural deduction system: "
   ]
  },
  {
   "cell_type": "markdown",
   "metadata": {},
   "source": [
    "![natural deduction rules](../images/natdedrules.png)"
   ]
  },
  {
   "cell_type": "markdown",
   "metadata": {},
   "source": [
    "Now, we can give a proof as follows:\n",
    "\n",
    "$$\n",
    "\\begin{array}{rlr}\n",
    "1. & p \\wedge (q \\vee r) & hypothesis \\\\\n",
    "2. &p  & \\wedge E \\\\\n",
    "3. & q \\vee r & \\wedge E \\\\\n",
    "4a. &q & hypothesis \\\\\n",
    "5a. &p \\wedge q & \\wedge I \\\\\n",
    "6a. &(p \\wedge q) \\vee (p \\wedge r) & \\vee I \\\\\n",
    "4b. &r & hypothesis \\\\\n",
    "5b. &p \\wedge r & \\wedge I \\\\\n",
    "6b. &(p \\wedge q) \\vee (p \\wedge r) & \\vee I \\\\\n",
    "7. &(p \\wedge q) \\vee (p \\wedge r) & \\vee E \\\\\n",
    "8. &p \\wedge (q \\vee r) \\rightarrow (p \\wedge q) \\vee (p \\wedge r) & \\rightarrow I\n",
    "\\end{array}\n",
    "$$"
   ]
  },
  {
   "cell_type": "markdown",
   "metadata": {},
   "source": [
    "![proof1](../images/proof1.png)"
   ]
  },
  {
   "cell_type": "markdown",
   "metadata": {},
   "source": [
    "Apparently, this is "
   ]
  },
  {
   "cell_type": "code",
   "execution_count": 138,
   "metadata": {},
   "outputs": [
    {
     "data": {
      "text/plain": [
       "defined \u001b[32mfunction\u001b[39m \u001b[36mproof\u001b[39m"
      ]
     },
     "execution_count": 138,
     "metadata": {},
     "output_type": "execute_result"
    }
   ],
   "source": [
    "def proof[P, Q]: P And Q => Q And P = \n",
    "    Implies.I{ p1: P And Q => \n",
    "        And.I(\n",
    "            And.ER(p1: P And Q): Q, \n",
    "            And.EL(p1: P And Q): P\n",
    "        ): Q And P \n",
    "    }: (P And Q => Q And P)"
   ]
  },
  {
   "cell_type": "code",
   "execution_count": 128,
   "metadata": {},
   "outputs": [
    {
     "data": {
      "text/plain": [
       "defined \u001b[32mfunction\u001b[39m \u001b[36mproof\u001b[39m"
      ]
     },
     "execution_count": 128,
     "metadata": {},
     "output_type": "execute_result"
    }
   ],
   "source": [
    "def proof[P, Q]: P => Q => P = \n",
    "    (p: P) => (q: Q) => p : P "
   ]
  },
  {
   "cell_type": "markdown",
   "metadata": {},
   "source": [
    "Right, but this is just a syntactic rewriting. In which sense, for instance, the Scala type\n",
    "\n",
    "`Not[(P, Q)] => Either[Not[P], Not[Q]]`\n",
    "\n",
    "behaves _exactly_ as the proposition\n",
    "$\\neg (p \\wedge q) \\rightarrow \\neg p \\vee \\neg q$?\n",
    "\n"
   ]
  },
  {
   "cell_type": "code",
   "execution_count": null,
   "metadata": {},
   "outputs": [],
   "source": [
    "def proof[P, Q]: Not[(P, Q)] => Either[Not[P], Not[Q]] = \n",
    "    n => Left(p => )"
   ]
  },
  {
   "cell_type": "code",
   "execution_count": 130,
   "metadata": {},
   "outputs": [
    {
     "data": {
      "text/plain": [
       "defined \u001b[32mobject\u001b[39m \u001b[36mAx\u001b[39m\n",
       "defined \u001b[32mtype\u001b[39m \u001b[36m⟶\u001b[39m\n",
       "defined \u001b[32mobject\u001b[39m \u001b[36m⟶\u001b[39m\n",
       "defined \u001b[32mtype\u001b[39m \u001b[36m⊥\u001b[39m\n",
       "defined \u001b[32mobject\u001b[39m \u001b[36m⊥\u001b[39m\n",
       "defined \u001b[32mtype\u001b[39m \u001b[36m∨\u001b[39m\n",
       "defined \u001b[32mobject\u001b[39m \u001b[36m∨\u001b[39m\n",
       "defined \u001b[32mtype\u001b[39m \u001b[36m∧\u001b[39m\n",
       "defined \u001b[32mobject\u001b[39m \u001b[36m∧\u001b[39m"
      ]
     },
     "execution_count": 130,
     "metadata": {},
     "output_type": "execute_result"
    }
   ],
   "source": [
    "object Ax{\n",
    "    def apply[P](a: P): P = a\n",
    "}\n",
    "\n",
    "type ⟶[A, B] = A => B\n",
    "\n",
    "object ⟶{\n",
    "    def I[A, B](f: A => B): A => B =\n",
    "        f\n",
    "    \n",
    "    def E[A, B](f: A => B)(a: A): B = \n",
    "        f(a)\n",
    "}\n",
    "\n",
    "type ⊥ = Nothing \n",
    "\n",
    "object ⊥{\n",
    "    def E[A](a: ⊥): A = a\n",
    "} \n",
    "\n",
    "type ∨[A, B] = Either[A, B]\n",
    "\n",
    "object ∨{\n",
    "    def IL[A, B](a: A): A ∨ B = Left(a)\n",
    "\n",
    "    def IR[A, B](b: B): A ∨ B = Right(b)\n",
    "    \n",
    "    def E[A, B, C](f: A => C, g: B => C)(or: A ∨ B): C = \n",
    "        or.fold(f, g)\n",
    "}\n",
    "\n",
    "type ∧[A, B] = (A, B)\n",
    "\n",
    "object ∧{\n",
    "    def I[A, B](a: A, b: B): A ∧ B = (a, b)\n",
    "    \n",
    "    def EL[A, B](and: A ∧ B): A = and._1\n",
    "    \n",
    "    def ER[A, B](and: A ∧ B): B = and._2\n",
    "}"
   ]
  },
  {
   "cell_type": "code",
   "execution_count": 131,
   "metadata": {},
   "outputs": [
    {
     "data": {
      "text/plain": [
       "defined \u001b[32mtype\u001b[39m \u001b[36m¬\u001b[39m\n",
       "defined \u001b[32mtype\u001b[39m \u001b[36m⟷\u001b[39m\n",
       "defined \u001b[32mtype\u001b[39m \u001b[36m⟵\u001b[39m"
      ]
     },
     "execution_count": 131,
     "metadata": {},
     "output_type": "execute_result"
    }
   ],
   "source": [
    "type ¬[A] = A ⟶ ⊥\n",
    "type ⟷[A, B] = (A ⟶ B) ∧ (B ⟶ A)\n",
    "type ⟵[A, B] = B ⟶ A"
   ]
  },
  {
   "cell_type": "code",
   "execution_count": 132,
   "metadata": {},
   "outputs": [
    {
     "data": {
      "text/plain": [
       "defined \u001b[32mtype\u001b[39m \u001b[36mAbsurd\u001b[39m\n",
       "defined \u001b[32mtype\u001b[39m \u001b[36mOr\u001b[39m\n",
       "defined \u001b[32mtype\u001b[39m \u001b[36mAnd\u001b[39m\n",
       "defined \u001b[32mtype\u001b[39m \u001b[36mNot\u001b[39m\n",
       "defined \u001b[32mtype\u001b[39m \u001b[36m<=>\u001b[39m\n",
       "\u001b[36mImplies\u001b[39m: \u001b[32m⟶\u001b[39m.type = ammonite.$sess.cmd129$Helper$$u27F6$@20f28099\n",
       "\u001b[36mOr\u001b[39m: \u001b[32m∨\u001b[39m.type = ammonite.$sess.cmd129$Helper$$u2228$@5328c170\n",
       "\u001b[36mAnd\u001b[39m: \u001b[32m∧\u001b[39m.type = ammonite.$sess.cmd129$Helper$$u2227$@5f4c86c7"
      ]
     },
     "execution_count": 132,
     "metadata": {},
     "output_type": "execute_result"
    }
   ],
   "source": [
    "type Absurd = ⊥\n",
    "type Or[A, B] = ∨[A, B] \n",
    "type And[A, B] = ∧[A, B]\n",
    "type Not[A] = ¬[A]\n",
    "type <=>[A, B] = (A => B, B => A)\n",
    "val Implies = ⟶\n",
    "val Or = ∨ \n",
    "val And = ∧"
   ]
  },
  {
   "cell_type": "markdown",
   "metadata": {},
   "source": [
    "$\\vdash X \\wedge (X \\rightarrow Y) \\rightarrow Y$"
   ]
  },
  {
   "cell_type": "code",
   "execution_count": 82,
   "metadata": {},
   "outputs": [
    {
     "data": {
      "text/plain": [
       "defined \u001b[32mfunction\u001b[39m \u001b[36mproof\u001b[39m"
      ]
     },
     "execution_count": 82,
     "metadata": {},
     "output_type": "execute_result"
    }
   ],
   "source": [
    "def proof[X, Y]: (X => Y, X) => Y = \n",
    "    //(x, f) => f(x)\n",
    "    _(_)"
   ]
  },
  {
   "cell_type": "code",
   "execution_count": 83,
   "metadata": {},
   "outputs": [
    {
     "data": {
      "text/plain": [
       "defined \u001b[32mfunction\u001b[39m \u001b[36mproof\u001b[39m"
      ]
     },
     "execution_count": 83,
     "metadata": {},
     "output_type": "execute_result"
    }
   ],
   "source": [
    "def proof[X, Y]: ((X, X => Y)) => Y = \n",
    "    (a: (X, X => Y)) => \n",
    "        (a._2)(a._1)"
   ]
  },
  {
   "cell_type": "code",
   "execution_count": 84,
   "metadata": {},
   "outputs": [
    {
     "data": {
      "text/plain": [
       "defined \u001b[32mfunction\u001b[39m \u001b[36mproof\u001b[39m"
      ]
     },
     "execution_count": 84,
     "metadata": {},
     "output_type": "execute_result"
    }
   ],
   "source": [
    "def proof[X, Y]: X ∧ (X ⟶ Y) ⟶ Y = \n",
    "    ⟶.I{ a: X ∧ (X ⟶ Y) => \n",
    "        ⟶.E(∧.ER(a))(∧.EL(a))\n",
    "    }"
   ]
  },
  {
   "cell_type": "markdown",
   "metadata": {},
   "source": [
    "$X*(Y+Z) \\cong X*Y + X*Z$\n",
    "\n",
    "$\\vdash X \\wedge (Y \\vee Z) \\leftrightarrow X \\wedge Y \\vee X \\wedge Z$"
   ]
  },
  {
   "cell_type": "code",
   "execution_count": 85,
   "metadata": {},
   "outputs": [
    {
     "data": {
      "text/plain": [
       "defined \u001b[32mfunction\u001b[39m \u001b[36mproof\u001b[39m"
      ]
     },
     "execution_count": 85,
     "metadata": {},
     "output_type": "execute_result"
    }
   ],
   "source": [
    "def proof[P, Q, R]: (P ∧ (Q ∨ R)) ⟷ ((P ∧ Q) ∨ (P ∧ R)) = \n",
    "    ∧.I(\n",
    "        ⟶.I{ a: P ∧ (Q ∨ R) => \n",
    "            ∨.E((q: Q) => ∨.IL(∧.I(∧.EL(a), q)),\n",
    "                (r: R) => ∨.IR(∧.I(∧.EL(a), r)))(∧.ER(a))\n",
    "        },\n",
    "        ⟶.I{ \n",
    "            ∨.E((a: P ∧ Q) => ∧.I(∧.EL(a), ∨.IL(∧.ER(a))),\n",
    "                (a: P ∧ R) => ∧.I(∧.EL(a), ∨.IR(∧.ER(a))))\n",
    "        }\n",
    "    )"
   ]
  },
  {
   "cell_type": "code",
   "execution_count": 86,
   "metadata": {},
   "outputs": [
    {
     "data": {
      "text/plain": [
       "defined \u001b[32mfunction\u001b[39m \u001b[36mproof\u001b[39m"
      ]
     },
     "execution_count": 86,
     "metadata": {},
     "output_type": "execute_result"
    }
   ],
   "source": [
    "def proof[P, Q, R]: (P, Either[Q, R]) <=> Either[(P, Q), (P, R)] = \n",
    "    ({ case (p, Left(q)) => Left((p,q))\n",
    "        case (p, Right(r)) => Right((p,r)) },\n",
    "    { case Left((p,q)) => (p, Left(q))\n",
    "        case Right((p,r)) => (p, Right(r)) })"
   ]
  },
  {
   "cell_type": "markdown",
   "metadata": {},
   "source": [
    "$X^{Y+Z} \\cong X^Y * X^Z$\n",
    "\n",
    "$\\vdash (Y \\vee Z \\rightarrow X) \\leftrightarrow (Y \\rightarrow X) \\wedge (Z \\rightarrow X)$"
   ]
  },
  {
   "cell_type": "code",
   "execution_count": 87,
   "metadata": {},
   "outputs": [
    {
     "data": {
      "text/plain": [
       "defined \u001b[32mfunction\u001b[39m \u001b[36mproof\u001b[39m"
      ]
     },
     "execution_count": 87,
     "metadata": {},
     "output_type": "execute_result"
    }
   ],
   "source": [
    "def proof[X, Y, Z]: (Y ∨ Z => X) <=> (Y => X ∧ Z => X) = \n",
    "    (??? : (Y ∨ Z => X) => (Y => X ∧ Z => X), \n",
    "     ??? : (Y ∨ Z => X) <= (Y => X ∧ Z => X))"
   ]
  },
  {
   "cell_type": "code",
   "execution_count": 88,
   "metadata": {},
   "outputs": [
    {
     "data": {
      "text/plain": [
       "defined \u001b[32mfunction\u001b[39m \u001b[36mproof\u001b[39m"
      ]
     },
     "execution_count": 88,
     "metadata": {},
     "output_type": "execute_result"
    }
   ],
   "source": [
    "def proof[X, Y, Z]: (Either[Y, Z] => X) <=> (Y => X, Z => X) = \n",
    "    (f => (y => f(Left(y)), z => f(Right(z))) , \n",
    "     { case (f, g) => \n",
    "         { case Left(y) => f(y)\n",
    "           case Right(z) => g(z)\n",
    "         }\n",
    "     })"
   ]
  },
  {
   "cell_type": "markdown",
   "metadata": {},
   "source": [
    "$\\vdash P \\vee Q \\rightarrow \\neg P \\rightarrow Q$ "
   ]
  },
  {
   "cell_type": "code",
   "execution_count": 89,
   "metadata": {},
   "outputs": [
    {
     "data": {
      "text/plain": [
       "defined \u001b[32mfunction\u001b[39m \u001b[36mproof\u001b[39m"
      ]
     },
     "execution_count": 89,
     "metadata": {},
     "output_type": "execute_result"
    }
   ],
   "source": [
    "def proof[P, Q]: Either[P, Q] => (P => Nothing) => Q = \n",
    "    (e: Either[P, Q]) => (f: P => Nothing) => \n",
    "        //e.fold[B](f, identity)\n",
    "        e match {\n",
    "            case Left(a: P) => f(a): Q\n",
    "            case Right(b: Q) => b : Q\n",
    "        }"
   ]
  },
  {
   "cell_type": "code",
   "execution_count": 93,
   "metadata": {},
   "outputs": [
    {
     "data": {
      "text/plain": [
       "defined \u001b[32mfunction\u001b[39m \u001b[36mproof\u001b[39m"
      ]
     },
     "execution_count": 93,
     "metadata": {},
     "output_type": "execute_result"
    }
   ],
   "source": [
    "def proof[P, Q]: P ∨ Q ⟶ (¬[P] ⟶ Q) = \n",
    "    ⟶.I{ or: P ∨ Q => \n",
    "        ⟶.I{ n: ¬[P] => \n",
    "            ∨.E((p: P) => ⊥.E[Q](⟶.E(n)(p)), \n",
    "                Ax[Q])(or)\n",
    "        }\n",
    "    }"
   ]
  },
  {
   "cell_type": "code",
   "execution_count": 29,
   "metadata": {},
   "outputs": [
    {
     "data": {
      "text/plain": [
       "defined \u001b[32mfunction\u001b[39m \u001b[36mproof8\u001b[39m\n",
       "defined \u001b[32mfunction\u001b[39m \u001b[36mproof3\u001b[39m\n",
       "defined \u001b[32mfunction\u001b[39m \u001b[36mproof2\u001b[39m\n",
       "defined \u001b[32mfunction\u001b[39m \u001b[36mproof4\u001b[39m\n",
       "defined \u001b[32mfunction\u001b[39m \u001b[36mproof41\u001b[39m\n",
       "defined \u001b[32mfunction\u001b[39m \u001b[36mproof5\u001b[39m\n",
       "defined \u001b[32mfunction\u001b[39m \u001b[36mproof7\u001b[39m\n",
       "defined \u001b[32mfunction\u001b[39m \u001b[36mproof11\u001b[39m\n",
       "defined \u001b[32mfunction\u001b[39m \u001b[36mproof9\u001b[39m\n",
       "defined \u001b[32mfunction\u001b[39m \u001b[36mproof10\u001b[39m"
      ]
     },
     "execution_count": 29,
     "metadata": {},
     "output_type": "execute_result"
    }
   ],
   "source": [
    "\n",
    "def proof8[A, B]: Or[A, B] => Or[B, A] = \n",
    "    Or.elim[A, B, Or[B, A]](Or.applyR[B, A], Or.applyL[B, A])\n",
    "\n",
    "// Not and implies\n",
    "\n",
    "def proof3[A, B]: (A => Not[B]) => (A => B) => Not[A] = \n",
    "    i => (i2: A => B) => (a: A) => i(a)(i2(a))\n",
    "\n",
    "def proof2[A, B]: Not[A] => A => B = \n",
    "    n => Not.elim[A, B](n)\n",
    "\n",
    "def proof4[A, B]: Not[A => B] => Not[B] = \n",
    "    n => (b: B) => n((_: A) => b)\n",
    "\n",
    "// Not and and\n",
    "\n",
    "def proof5[A, B]: Not[A] => Not[And[A, B]] = \n",
    "//    (and: And[A, B]) => n(And.elimL(and))\n",
    "    n => n compose And.elimL\n",
    "\n",
    "def proof7[A, B]: Not[And[A, B]] => A => Not[B] = \n",
    "    n => (a: A) => (b: B) => n(And(a, b))\n",
    "\n",
    "def proof11[A]: Not[A And Not[A]] = \n",
    "    a => And.elimR(a)(And.elimL(a))\n",
    "\n",
    "// Not and or\n",
    "\n",
    "def proof9[A, B]: Not[A Or B] => Not[A] And Not[B] = \n",
    "    n => And((a: A) => n(Or.applyL(a)), (b: B) => n(Or.applyR(b)))\n",
    "\n",
    "def proof10[A, B]: (Not[A] And Not[B]) => Not[A Or B] = \n",
    "    and => Or.elim[A, B, Absurd](And.elimL(and), And.elimR(and))\n",
    "\n"
   ]
  },
  {
   "cell_type": "code",
   "execution_count": 13,
   "metadata": {},
   "outputs": [
    {
     "data": {
      "text/plain": [
       "defined \u001b[32mtrait\u001b[39m \u001b[36mClassicalLogic\u001b[39m"
      ]
     },
     "execution_count": 13,
     "metadata": {},
     "output_type": "execute_result"
    }
   ],
   "source": [
    "trait ClassicalLogic{\n",
    "    trait DN{\n",
    "        def apply[A](nn: Not[Not[A]]): A\n",
    "    }\n",
    "    \n",
    "    val dn: DN\n",
    "    \n",
    "    def proof1[A]: (Not[A] => A) => A =\n",
    "        f => dn((n: Not[A]) => proof11(And(f(n),n)))\n",
    "}\n"
   ]
  },
  {
   "cell_type": "markdown",
   "metadata": {},
   "source": [
    "All P are S\n",
    "All S are R\n",
    "All P are R"
   ]
  },
  {
   "cell_type": "code",
   "execution_count": 15,
   "metadata": {},
   "outputs": [
    {
     "data": {
      "text/plain": [
       "defined \u001b[32mfunction\u001b[39m \u001b[36mproof\u001b[39m"
      ]
     },
     "execution_count": 15,
     "metadata": {},
     "output_type": "execute_result"
    }
   ],
   "source": [
    "def proof[P, S, R]: ((P => S, S => R)) => P => R = \n",
    "    t => (p: P) => t._2(t._1(p))"
   ]
  },
  {
   "cell_type": "markdown",
   "metadata": {},
   "source": [
    "AG. $\\{ r \\vee p \\rightarrow \\neg p, p \\rightarrow q, \\neg q \\vee p\\} \\vdash \\neg p$"
   ]
  },
  {
   "cell_type": "code",
   "execution_count": 113,
   "metadata": {},
   "outputs": [
    {
     "data": {
      "text/plain": [
       "defined \u001b[32mfunction\u001b[39m \u001b[36mproof\u001b[39m"
      ]
     },
     "execution_count": 113,
     "metadata": {},
     "output_type": "execute_result"
    }
   ],
   "source": [
    "def proof[P, Q, R](\n",
    "    p1: R Or P => Not[P], \n",
    "    p2: P => Q, \n",
    "    p3: Not[Q] Or P): Not[P] = \n",
    "    (p: P) => p1(Right(p))(p) : Absurd"
   ]
  },
  {
   "cell_type": "markdown",
   "metadata": {},
   "source": [
    "$ \\vdash (p \\rightarrow (q \\rightarrow r)) \\rightarrow (p \\rightarrow q) \\rightarrow p \\rightarrow r$"
   ]
  },
  {
   "cell_type": "code",
   "execution_count": 38,
   "metadata": {},
   "outputs": [
    {
     "data": {
      "text/plain": [
       "defined \u001b[32mfunction\u001b[39m \u001b[36mterm\u001b[39m"
      ]
     },
     "execution_count": 38,
     "metadata": {},
     "output_type": "execute_result"
    }
   ],
   "source": [
    "def term[P, Q, R]: (P => (Q => R)) => (P => Q) => (P => R) = \n",
    "    (p1: P => Q => R) => \n",
    "        (p2: P => Q) => \n",
    "            (p: P) => p1(p : P)(p2(p) : Q) : R"
   ]
  },
  {
   "cell_type": "code",
   "execution_count": 94,
   "metadata": {},
   "outputs": [
    {
     "data": {
      "text/plain": [
       "defined \u001b[32mfunction\u001b[39m \u001b[36mproof\u001b[39m"
      ]
     },
     "execution_count": 94,
     "metadata": {},
     "output_type": "execute_result"
    }
   ],
   "source": [
    "def proof[P, Q, R]: (P ⟶ (Q ⟶ R)) ⟶ ((P ⟶ Q) ⟶ (P ⟶ R)) = \n",
    "    ⟶.I{ p1: P ⟶ (Q ⟶ R) => \n",
    "        ⟶.I{ p2: P ⟶ Q => \n",
    "            ⟶.I{ p: P =>\n",
    "                ⟶.E(⟶.E(p1)(p))(⟶.E(p2)(p))\n",
    "            }\n",
    "        }\n",
    "    }"
   ]
  },
  {
   "cell_type": "markdown",
   "metadata": {},
   "source": [
    "$ \\vdash p \\rightarrow q \\rightarrow p$"
   ]
  },
  {
   "cell_type": "code",
   "execution_count": 39,
   "metadata": {},
   "outputs": [
    {
     "data": {
      "text/plain": [
       "defined \u001b[32mfunction\u001b[39m \u001b[36mproof\u001b[39m"
      ]
     },
     "execution_count": 39,
     "metadata": {},
     "output_type": "execute_result"
    }
   ],
   "source": [
    "def proof[P, Q, R]: P => Q => P = \n",
    "    (p: P) => \n",
    "        (q: Q) => p : P"
   ]
  },
  {
   "cell_type": "code",
   "execution_count": 96,
   "metadata": {},
   "outputs": [
    {
     "data": {
      "text/plain": [
       "defined \u001b[32mfunction\u001b[39m \u001b[36mproof\u001b[39m"
      ]
     },
     "execution_count": 96,
     "metadata": {},
     "output_type": "execute_result"
    }
   ],
   "source": [
    "def proof[P, Q, R]: P ⟶ (Q ⟶ P) = \n",
    "    ⟶.I{ p: P => \n",
    "        ⟶.I{ q: Q => \n",
    "            p : P\n",
    "        }\n",
    "    }"
   ]
  },
  {
   "cell_type": "code",
   "execution_count": 98,
   "metadata": {},
   "outputs": [
    {
     "data": {
      "text/plain": [
       "defined \u001b[32mfunction\u001b[39m \u001b[36mproof\u001b[39m"
      ]
     },
     "execution_count": 98,
     "metadata": {},
     "output_type": "execute_result"
    }
   ],
   "source": [
    "def proof[A, B, C]: (A => (B => C)) => (A Either B => C) = \n",
    "    (p: A => B => C) => \n",
    "        (e: Either[A, B]) => \n",
    "            e.fold(\n",
    "                (a: A) => ??? : C, \n",
    "                (b: B) => ??? : C)"
   ]
  },
  {
   "cell_type": "markdown",
   "metadata": {},
   "source": [
    "$\\vdash \\neg \\neg \\neg p \\leftrightarrow \\neg p$"
   ]
  },
  {
   "cell_type": "code",
   "execution_count": 103,
   "metadata": {},
   "outputs": [
    {
     "data": {
      "text/plain": [
       "defined \u001b[32mfunction\u001b[39m \u001b[36mproof\u001b[39m"
      ]
     },
     "execution_count": 103,
     "metadata": {},
     "output_type": "execute_result"
    }
   ],
   "source": [
    "def proof[P]: Not[Not[Not[P]]] => Not[P] = \n",
    "    (nnnp: ((P => Absurd) => Absurd) => Absurd) => \n",
    "        (p: P) => \n",
    "            nnnp( (np : P => Absurd) => np(p) : Absurd): Absurd"
   ]
  },
  {
   "cell_type": "code",
   "execution_count": 104,
   "metadata": {
    "collapsed": true
   },
   "outputs": [
    {
     "data": {
      "text/plain": [
       "defined \u001b[32mfunction\u001b[39m \u001b[36mproof\u001b[39m"
      ]
     },
     "execution_count": 104,
     "metadata": {},
     "output_type": "execute_result"
    }
   ],
   "source": [
    "def proof[P]: Not[Not[Not[P]]] => Not[P] = \n",
    "    nnnp => p => nnnp(_(p))"
   ]
  },
  {
   "cell_type": "markdown",
   "metadata": {},
   "source": [
    "Ejercicio AG."
   ]
  },
  {
   "cell_type": "code",
   "execution_count": 107,
   "metadata": {},
   "outputs": [
    {
     "data": {
      "text/plain": [
       "defined \u001b[32mfunction\u001b[39m \u001b[36mproof\u001b[39m"
      ]
     },
     "execution_count": 107,
     "metadata": {},
     "output_type": "execute_result"
    }
   ],
   "source": [
    "def proof[P, Q, R, S, T](\n",
    "    p1: P => Not[R] Or S,\n",
    "    p2: Not[R] => S And Not[T],\n",
    "    p3: P => T,\n",
    "    p4: P => Not[S]): Not[P] = \n",
    "    (p: P) => \n",
    "        p1(p) match {\n",
    "            case nr: Not[R] => p4(p)(p2(nr)._1) : Absurd\n",
    "            case s: S => p4(p)(s) : Absurd\n",
    "        }"
   ]
  },
  {
   "cell_type": "code",
   "execution_count": 112,
   "metadata": {},
   "outputs": [
    {
     "data": {
      "text/plain": [
       "defined \u001b[32mfunction\u001b[39m \u001b[36mproof\u001b[39m"
      ]
     },
     "execution_count": 112,
     "metadata": {},
     "output_type": "execute_result"
    }
   ],
   "source": [
    "def proof[P, Q, R, S, T](\n",
    "    p1: P ⟶ (¬[R] ∨ S),\n",
    "    p2: ¬[R] ⟶ (S ∧ ¬[T]),\n",
    "    p3: P ⟶ T,\n",
    "    p4: P ⟶ ¬[S]): ¬[P] = \n",
    "    ⟶.I((p: P) => \n",
    "        ∨.E(\n",
    "            (nr: Not[R]) => \n",
    "                ⟶.E(⟶.E(p4)(p))(∧.EL(⟶.E(p2)(nr))) : Absurd,\n",
    "            (s: S) => \n",
    "                ⟶.E(⟶.E(p4)(p))(s) : Absurd\n",
    "        )(⟶.E(p1)(p)))"
   ]
  },
  {
   "cell_type": "code",
   "execution_count": null,
   "metadata": {},
   "outputs": [],
   "source": []
  }
 ],
 "metadata": {
  "kernelspec": {
   "display_name": "Scala",
   "language": "scala",
   "name": "scala"
  },
  "language_info": {
   "codemirror_mode": "text/x-scala",
   "file_extension": ".scala",
   "mimetype": "text/x-scala",
   "name": "scala",
   "nbconvert_exporter": "script",
   "version": "2.13.0"
  }
 },
 "nbformat": 4,
 "nbformat_minor": 2
}
