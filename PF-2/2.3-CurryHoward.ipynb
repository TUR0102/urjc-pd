{
 "cells": [
  {
   "cell_type": "code",
   "execution_count": 92,
   "metadata": {},
   "outputs": [
    {
     "data": {
      "text/plain": [
       "defined \u001b[32mobject\u001b[39m \u001b[36mAx\u001b[39m\n",
       "defined \u001b[32mtype\u001b[39m \u001b[36m⟶\u001b[39m\n",
       "defined \u001b[32mobject\u001b[39m \u001b[36m⟶\u001b[39m\n",
       "defined \u001b[32mtype\u001b[39m \u001b[36m⊥\u001b[39m\n",
       "defined \u001b[32mobject\u001b[39m \u001b[36m⊥\u001b[39m\n",
       "defined \u001b[32mtype\u001b[39m \u001b[36m∨\u001b[39m\n",
       "defined \u001b[32mobject\u001b[39m \u001b[36m∨\u001b[39m\n",
       "defined \u001b[32mtype\u001b[39m \u001b[36m∧\u001b[39m\n",
       "defined \u001b[32mobject\u001b[39m \u001b[36m∧\u001b[39m"
      ]
     },
     "execution_count": 92,
     "metadata": {},
     "output_type": "execute_result"
    }
   ],
   "source": [
    "object Ax{\n",
    "    def apply[P](a: P): P = a\n",
    "}\n",
    "\n",
    "type ⟶[A, B] = A => B\n",
    "\n",
    "object ⟶{\n",
    "    def I[A, B](f: A => B): A => B =\n",
    "        f\n",
    "    \n",
    "    def E[A, B](f: A => B)(a: A): B = \n",
    "        f(a)\n",
    "}\n",
    "\n",
    "type ⊥ = Nothing \n",
    "\n",
    "object ⊥{\n",
    "    def E[A](a: ⊥): A = a\n",
    "} \n",
    "\n",
    "type ∨[A, B] = Either[A, B]\n",
    "\n",
    "object ∨{\n",
    "    def IL[A, B](a: A): A ∨ B = Left(a)\n",
    "\n",
    "    def IR[A, B](b: B): A ∨ B = Right(b)\n",
    "    \n",
    "    def E[A, B, C](f: A => C, g: B => C)(or: A ∨ B): C = \n",
    "        or.fold(f, g)\n",
    "}\n",
    "\n",
    "type ∧[A, B] = (A, B)\n",
    "\n",
    "object ∧{\n",
    "    def I[A, B](a: A, b: B): A ∧ B = (a, b)\n",
    "    \n",
    "    def EL[A, B](and: A ∧ B): A = and._1\n",
    "    \n",
    "    def ER[A, B](and: A ∧ B): B = and._2\n",
    "}"
   ]
  },
  {
   "cell_type": "code",
   "execution_count": 70,
   "metadata": {},
   "outputs": [
    {
     "data": {
      "text/plain": [
       "defined \u001b[32mtype\u001b[39m \u001b[36m¬\u001b[39m\n",
       "defined \u001b[32mtype\u001b[39m \u001b[36m⟷\u001b[39m\n",
       "defined \u001b[32mtype\u001b[39m \u001b[36m⟵\u001b[39m"
      ]
     },
     "execution_count": 70,
     "metadata": {},
     "output_type": "execute_result"
    }
   ],
   "source": [
    "type ¬[A] = A ⟶ ⊥\n",
    "type ⟷[A, B] = (A ⟶ B) ∧ (B ⟶ A)\n",
    "type ⟵[A, B] = B ⟶ A"
   ]
  },
  {
   "cell_type": "code",
   "execution_count": 76,
   "metadata": {},
   "outputs": [
    {
     "data": {
      "text/plain": [
       "defined \u001b[32mtype\u001b[39m \u001b[36mAbsurd\u001b[39m\n",
       "defined \u001b[32mtype\u001b[39m \u001b[36mOr\u001b[39m\n",
       "defined \u001b[32mtype\u001b[39m \u001b[36mAnd\u001b[39m\n",
       "defined \u001b[32mtype\u001b[39m \u001b[36mNot\u001b[39m\n",
       "defined \u001b[32mtype\u001b[39m \u001b[36m<=>\u001b[39m\n",
       "\u001b[36mImplies\u001b[39m: \u001b[32m⟶\u001b[39m.type = ammonite.$sess.cmd55$Helper$$u27F6$@75f0a435\n",
       "\u001b[36mOr\u001b[39m: \u001b[32m∨\u001b[39m.type = ammonite.$sess.cmd55$Helper$$u2228$@1627b976\n",
       "\u001b[36mAnd\u001b[39m: \u001b[32m∧\u001b[39m.type = ammonite.$sess.cmd55$Helper$$u2227$@6e3ef3a1"
      ]
     },
     "execution_count": 76,
     "metadata": {},
     "output_type": "execute_result"
    }
   ],
   "source": [
    "type Absurd = ⊥\n",
    "type Or[A, B] = ∨[A, B] \n",
    "type And[A, B] = ∧[A, B]\n",
    "type Not[A] = ¬[A]\n",
    "type <=>[A, B] = (A => B, B => A)\n",
    "val Implies = ⟶\n",
    "val Or = ∨ \n",
    "val And = ∧"
   ]
  },
  {
   "cell_type": "markdown",
   "metadata": {},
   "source": [
    "$\\vdash X \\wedge (X \\rightarrow Y) \\rightarrow Y$"
   ]
  },
  {
   "cell_type": "code",
   "execution_count": 82,
   "metadata": {},
   "outputs": [
    {
     "data": {
      "text/plain": [
       "defined \u001b[32mfunction\u001b[39m \u001b[36mproof\u001b[39m"
      ]
     },
     "execution_count": 82,
     "metadata": {},
     "output_type": "execute_result"
    }
   ],
   "source": [
    "def proof[X, Y]: (X => Y, X) => Y = \n",
    "    //(x, f) => f(x)\n",
    "    _(_)"
   ]
  },
  {
   "cell_type": "code",
   "execution_count": 83,
   "metadata": {},
   "outputs": [
    {
     "data": {
      "text/plain": [
       "defined \u001b[32mfunction\u001b[39m \u001b[36mproof\u001b[39m"
      ]
     },
     "execution_count": 83,
     "metadata": {},
     "output_type": "execute_result"
    }
   ],
   "source": [
    "def proof[X, Y]: ((X, X => Y)) => Y = \n",
    "    (a: (X, X => Y)) => \n",
    "        (a._2)(a._1)"
   ]
  },
  {
   "cell_type": "code",
   "execution_count": 84,
   "metadata": {},
   "outputs": [
    {
     "data": {
      "text/plain": [
       "defined \u001b[32mfunction\u001b[39m \u001b[36mproof\u001b[39m"
      ]
     },
     "execution_count": 84,
     "metadata": {},
     "output_type": "execute_result"
    }
   ],
   "source": [
    "def proof[X, Y]: X ∧ (X ⟶ Y) ⟶ Y = \n",
    "    ⟶.I{ a: X ∧ (X ⟶ Y) => \n",
    "        ⟶.E(∧.ER(a))(∧.EL(a))\n",
    "    }"
   ]
  },
  {
   "cell_type": "markdown",
   "metadata": {},
   "source": [
    "$X*(Y+Z) \\cong X*Y + X*Z$\n",
    "\n",
    "$\\vdash X \\wedge (Y \\vee Z) \\leftrightarrow X \\wedge Y \\vee X \\wedge Z$"
   ]
  },
  {
   "cell_type": "code",
   "execution_count": 85,
   "metadata": {},
   "outputs": [
    {
     "data": {
      "text/plain": [
       "defined \u001b[32mfunction\u001b[39m \u001b[36mproof\u001b[39m"
      ]
     },
     "execution_count": 85,
     "metadata": {},
     "output_type": "execute_result"
    }
   ],
   "source": [
    "def proof[P, Q, R]: (P ∧ (Q ∨ R)) ⟷ ((P ∧ Q) ∨ (P ∧ R)) = \n",
    "    ∧.I(\n",
    "        ⟶.I{ a: P ∧ (Q ∨ R) => \n",
    "            ∨.E((q: Q) => ∨.IL(∧.I(∧.EL(a), q)),\n",
    "                (r: R) => ∨.IR(∧.I(∧.EL(a), r)))(∧.ER(a))\n",
    "        },\n",
    "        ⟶.I{ \n",
    "            ∨.E((a: P ∧ Q) => ∧.I(∧.EL(a), ∨.IL(∧.ER(a))),\n",
    "                (a: P ∧ R) => ∧.I(∧.EL(a), ∨.IR(∧.ER(a))))\n",
    "        }\n",
    "    )"
   ]
  },
  {
   "cell_type": "code",
   "execution_count": 86,
   "metadata": {},
   "outputs": [
    {
     "data": {
      "text/plain": [
       "defined \u001b[32mfunction\u001b[39m \u001b[36mproof\u001b[39m"
      ]
     },
     "execution_count": 86,
     "metadata": {},
     "output_type": "execute_result"
    }
   ],
   "source": [
    "def proof[P, Q, R]: (P, Either[Q, R]) <=> Either[(P, Q), (P, R)] = \n",
    "    ({ case (p, Left(q)) => Left((p,q))\n",
    "        case (p, Right(r)) => Right((p,r)) },\n",
    "    { case Left((p,q)) => (p, Left(q))\n",
    "        case Right((p,r)) => (p, Right(r)) })"
   ]
  },
  {
   "cell_type": "markdown",
   "metadata": {},
   "source": [
    "$X^{Y+Z} \\cong X^Y * X^Z$\n",
    "\n",
    "$\\vdash (Y \\vee Z \\rightarrow X) \\leftrightarrow (Y \\rightarrow X) \\wedge (Z \\rightarrow X)$"
   ]
  },
  {
   "cell_type": "code",
   "execution_count": 87,
   "metadata": {},
   "outputs": [
    {
     "data": {
      "text/plain": [
       "defined \u001b[32mfunction\u001b[39m \u001b[36mproof\u001b[39m"
      ]
     },
     "execution_count": 87,
     "metadata": {},
     "output_type": "execute_result"
    }
   ],
   "source": [
    "def proof[X, Y, Z]: (Y ∨ Z => X) <=> (Y => X ∧ Z => X) = \n",
    "    (??? : (Y ∨ Z => X) => (Y => X ∧ Z => X), \n",
    "     ??? : (Y ∨ Z => X) <= (Y => X ∧ Z => X))"
   ]
  },
  {
   "cell_type": "code",
   "execution_count": 88,
   "metadata": {},
   "outputs": [
    {
     "data": {
      "text/plain": [
       "defined \u001b[32mfunction\u001b[39m \u001b[36mproof\u001b[39m"
      ]
     },
     "execution_count": 88,
     "metadata": {},
     "output_type": "execute_result"
    }
   ],
   "source": [
    "def proof[X, Y, Z]: (Either[Y, Z] => X) <=> (Y => X, Z => X) = \n",
    "    (f => (y => f(Left(y)), z => f(Right(z))) , \n",
    "     { case (f, g) => \n",
    "         { case Left(y) => f(y)\n",
    "           case Right(z) => g(z)\n",
    "         }\n",
    "     })"
   ]
  },
  {
   "cell_type": "markdown",
   "metadata": {},
   "source": [
    "$\\vdash P \\vee Q \\rightarrow \\neg P \\rightarrow Q$ "
   ]
  },
  {
   "cell_type": "code",
   "execution_count": 89,
   "metadata": {},
   "outputs": [
    {
     "data": {
      "text/plain": [
       "defined \u001b[32mfunction\u001b[39m \u001b[36mproof\u001b[39m"
      ]
     },
     "execution_count": 89,
     "metadata": {},
     "output_type": "execute_result"
    }
   ],
   "source": [
    "def proof[P, Q]: Either[P, Q] => (P => Nothing) => Q = \n",
    "    (e: Either[P, Q]) => (f: P => Nothing) => \n",
    "        //e.fold[B](f, identity)\n",
    "        e match {\n",
    "            case Left(a: P) => f(a): Q\n",
    "            case Right(b: Q) => b : Q\n",
    "        }"
   ]
  },
  {
   "cell_type": "code",
   "execution_count": 93,
   "metadata": {},
   "outputs": [
    {
     "data": {
      "text/plain": [
       "defined \u001b[32mfunction\u001b[39m \u001b[36mproof\u001b[39m"
      ]
     },
     "execution_count": 93,
     "metadata": {},
     "output_type": "execute_result"
    }
   ],
   "source": [
    "def proof[P, Q]: P ∨ Q ⟶ (¬[P] ⟶ Q) = \n",
    "    ⟶.I{ or: P ∨ Q => \n",
    "        ⟶.I{ n: ¬[P] => \n",
    "            ∨.E((p: P) => ⊥.E[Q](⟶.E(n)(p)), \n",
    "                Ax[Q])(or)\n",
    "        }\n",
    "    }"
   ]
  },
  {
   "cell_type": "code",
   "execution_count": 29,
   "metadata": {},
   "outputs": [
    {
     "data": {
      "text/plain": [
       "defined \u001b[32mfunction\u001b[39m \u001b[36mproof8\u001b[39m\n",
       "defined \u001b[32mfunction\u001b[39m \u001b[36mproof3\u001b[39m\n",
       "defined \u001b[32mfunction\u001b[39m \u001b[36mproof2\u001b[39m\n",
       "defined \u001b[32mfunction\u001b[39m \u001b[36mproof4\u001b[39m\n",
       "defined \u001b[32mfunction\u001b[39m \u001b[36mproof41\u001b[39m\n",
       "defined \u001b[32mfunction\u001b[39m \u001b[36mproof5\u001b[39m\n",
       "defined \u001b[32mfunction\u001b[39m \u001b[36mproof7\u001b[39m\n",
       "defined \u001b[32mfunction\u001b[39m \u001b[36mproof11\u001b[39m\n",
       "defined \u001b[32mfunction\u001b[39m \u001b[36mproof9\u001b[39m\n",
       "defined \u001b[32mfunction\u001b[39m \u001b[36mproof10\u001b[39m"
      ]
     },
     "execution_count": 29,
     "metadata": {},
     "output_type": "execute_result"
    }
   ],
   "source": [
    "\n",
    "def proof8[A, B]: Or[A, B] => Or[B, A] = \n",
    "    Or.elim[A, B, Or[B, A]](Or.applyR[B, A], Or.applyL[B, A])\n",
    "\n",
    "// Not and implies\n",
    "\n",
    "def proof3[A, B]: (A => Not[B]) => (A => B) => Not[A] = \n",
    "    i => (i2: A => B) => (a: A) => i(a)(i2(a))\n",
    "\n",
    "def proof2[A, B]: Not[A] => A => B = \n",
    "    n => Not.elim[A, B](n)\n",
    "\n",
    "def proof4[A, B]: Not[A => B] => Not[B] = \n",
    "    n => (b: B) => n((_: A) => b)\n",
    "\n",
    "// Not and and\n",
    "\n",
    "def proof5[A, B]: Not[A] => Not[And[A, B]] = \n",
    "//    (and: And[A, B]) => n(And.elimL(and))\n",
    "    n => n compose And.elimL\n",
    "\n",
    "def proof7[A, B]: Not[And[A, B]] => A => Not[B] = \n",
    "    n => (a: A) => (b: B) => n(And(a, b))\n",
    "\n",
    "def proof11[A]: Not[A And Not[A]] = \n",
    "    a => And.elimR(a)(And.elimL(a))\n",
    "\n",
    "// Not and or\n",
    "\n",
    "def proof9[A, B]: Not[A Or B] => Not[A] And Not[B] = \n",
    "    n => And((a: A) => n(Or.applyL(a)), (b: B) => n(Or.applyR(b)))\n",
    "\n",
    "def proof10[A, B]: (Not[A] And Not[B]) => Not[A Or B] = \n",
    "    and => Or.elim[A, B, Absurd](And.elimL(and), And.elimR(and))\n",
    "\n"
   ]
  },
  {
   "cell_type": "code",
   "execution_count": 13,
   "metadata": {},
   "outputs": [
    {
     "data": {
      "text/plain": [
       "defined \u001b[32mtrait\u001b[39m \u001b[36mClassicalLogic\u001b[39m"
      ]
     },
     "execution_count": 13,
     "metadata": {},
     "output_type": "execute_result"
    }
   ],
   "source": [
    "trait ClassicalLogic{\n",
    "    trait DN{\n",
    "        def apply[A](nn: Not[Not[A]]): A\n",
    "    }\n",
    "    \n",
    "    val dn: DN\n",
    "    \n",
    "    def proof1[A]: (Not[A] => A) => A =\n",
    "        f => dn((n: Not[A]) => proof11(And(f(n),n)))\n",
    "}\n"
   ]
  },
  {
   "cell_type": "markdown",
   "metadata": {},
   "source": [
    "All P are S\n",
    "All S are R\n",
    "All P are R"
   ]
  },
  {
   "cell_type": "code",
   "execution_count": 15,
   "metadata": {},
   "outputs": [
    {
     "data": {
      "text/plain": [
       "defined \u001b[32mfunction\u001b[39m \u001b[36mproof\u001b[39m"
      ]
     },
     "execution_count": 15,
     "metadata": {},
     "output_type": "execute_result"
    }
   ],
   "source": [
    "def proof[P, S, R]: ((P => S, S => R)) => P => R = \n",
    "    t => (p: P) => t._2(t._1(p))"
   ]
  },
  {
   "cell_type": "markdown",
   "metadata": {},
   "source": [
    "AG. $\\{ r \\vee p \\rightarrow \\neg p, p \\rightarrow q, \\neg q \\vee p\\} \\vdash \\neg p$"
   ]
  },
  {
   "cell_type": "code",
   "execution_count": 113,
   "metadata": {},
   "outputs": [
    {
     "data": {
      "text/plain": [
       "defined \u001b[32mfunction\u001b[39m \u001b[36mproof\u001b[39m"
      ]
     },
     "execution_count": 113,
     "metadata": {},
     "output_type": "execute_result"
    }
   ],
   "source": [
    "def proof[P, Q, R](\n",
    "    p1: R Or P => Not[P], \n",
    "    p2: P => Q, \n",
    "    p3: Not[Q] Or P): Not[P] = \n",
    "    (p: P) => p1(Right(p))(p) : Absurd"
   ]
  },
  {
   "cell_type": "markdown",
   "metadata": {},
   "source": [
    "$ \\vdash (p \\rightarrow (q \\rightarrow r)) \\rightarrow (p \\rightarrow q) \\rightarrow p \\rightarrow r$"
   ]
  },
  {
   "cell_type": "code",
   "execution_count": 38,
   "metadata": {},
   "outputs": [
    {
     "data": {
      "text/plain": [
       "defined \u001b[32mfunction\u001b[39m \u001b[36mterm\u001b[39m"
      ]
     },
     "execution_count": 38,
     "metadata": {},
     "output_type": "execute_result"
    }
   ],
   "source": [
    "def term[P, Q, R]: (P => (Q => R)) => (P => Q) => (P => R) = \n",
    "    (p1: P => Q => R) => \n",
    "        (p2: P => Q) => \n",
    "            (p: P) => p1(p : P)(p2(p) : Q) : R"
   ]
  },
  {
   "cell_type": "code",
   "execution_count": 94,
   "metadata": {},
   "outputs": [
    {
     "data": {
      "text/plain": [
       "defined \u001b[32mfunction\u001b[39m \u001b[36mproof\u001b[39m"
      ]
     },
     "execution_count": 94,
     "metadata": {},
     "output_type": "execute_result"
    }
   ],
   "source": [
    "def proof[P, Q, R]: (P ⟶ (Q ⟶ R)) ⟶ ((P ⟶ Q) ⟶ (P ⟶ R)) = \n",
    "    ⟶.I{ p1: P ⟶ (Q ⟶ R) => \n",
    "        ⟶.I{ p2: P ⟶ Q => \n",
    "            ⟶.I{ p: P =>\n",
    "                ⟶.E(⟶.E(p1)(p))(⟶.E(p2)(p))\n",
    "            }\n",
    "        }\n",
    "    }"
   ]
  },
  {
   "cell_type": "markdown",
   "metadata": {},
   "source": [
    "$ \\vdash p \\rightarrow q \\rightarrow p$"
   ]
  },
  {
   "cell_type": "code",
   "execution_count": 39,
   "metadata": {},
   "outputs": [
    {
     "data": {
      "text/plain": [
       "defined \u001b[32mfunction\u001b[39m \u001b[36mproof\u001b[39m"
      ]
     },
     "execution_count": 39,
     "metadata": {},
     "output_type": "execute_result"
    }
   ],
   "source": [
    "def proof[P, Q, R]: P => Q => P = \n",
    "    (p: P) => \n",
    "        (q: Q) => p : P"
   ]
  },
  {
   "cell_type": "code",
   "execution_count": 96,
   "metadata": {},
   "outputs": [
    {
     "data": {
      "text/plain": [
       "defined \u001b[32mfunction\u001b[39m \u001b[36mproof\u001b[39m"
      ]
     },
     "execution_count": 96,
     "metadata": {},
     "output_type": "execute_result"
    }
   ],
   "source": [
    "def proof[P, Q, R]: P ⟶ (Q ⟶ P) = \n",
    "    ⟶.I{ p: P => \n",
    "        ⟶.I{ q: Q => \n",
    "            p : P\n",
    "        }\n",
    "    }"
   ]
  },
  {
   "cell_type": "code",
   "execution_count": 98,
   "metadata": {},
   "outputs": [
    {
     "data": {
      "text/plain": [
       "defined \u001b[32mfunction\u001b[39m \u001b[36mproof\u001b[39m"
      ]
     },
     "execution_count": 98,
     "metadata": {},
     "output_type": "execute_result"
    }
   ],
   "source": [
    "def proof[A, B, C]: (A => (B => C)) => (A Either B => C) = \n",
    "    (p: A => B => C) => \n",
    "        (e: Either[A, B]) => \n",
    "            e.fold(\n",
    "                (a: A) => ??? : C, \n",
    "                (b: B) => ??? : C)"
   ]
  },
  {
   "cell_type": "markdown",
   "metadata": {},
   "source": [
    "$\\vdash \\neg \\neg \\neg p \\leftrightarrow \\neg p$"
   ]
  },
  {
   "cell_type": "code",
   "execution_count": 103,
   "metadata": {},
   "outputs": [
    {
     "data": {
      "text/plain": [
       "defined \u001b[32mfunction\u001b[39m \u001b[36mproof\u001b[39m"
      ]
     },
     "execution_count": 103,
     "metadata": {},
     "output_type": "execute_result"
    }
   ],
   "source": [
    "def proof[P]: Not[Not[Not[P]]] => Not[P] = \n",
    "    (nnnp: ((P => Absurd) => Absurd) => Absurd) => \n",
    "        (p: P) => \n",
    "            nnnp( (np : P => Absurd) => np(p) : Absurd): Absurd"
   ]
  },
  {
   "cell_type": "code",
   "execution_count": 104,
   "metadata": {
    "collapsed": true
   },
   "outputs": [
    {
     "data": {
      "text/plain": [
       "defined \u001b[32mfunction\u001b[39m \u001b[36mproof\u001b[39m"
      ]
     },
     "execution_count": 104,
     "metadata": {},
     "output_type": "execute_result"
    }
   ],
   "source": [
    "def proof[P]: Not[Not[Not[P]]] => Not[P] = \n",
    "    nnnp => p => nnnp(_(p))"
   ]
  },
  {
   "cell_type": "markdown",
   "metadata": {},
   "source": [
    "Ejercicio AG."
   ]
  },
  {
   "cell_type": "code",
   "execution_count": 107,
   "metadata": {},
   "outputs": [
    {
     "data": {
      "text/plain": [
       "defined \u001b[32mfunction\u001b[39m \u001b[36mproof\u001b[39m"
      ]
     },
     "execution_count": 107,
     "metadata": {},
     "output_type": "execute_result"
    }
   ],
   "source": [
    "def proof[P, Q, R, S, T](\n",
    "    p1: P => Not[R] Or S,\n",
    "    p2: Not[R] => S And Not[T],\n",
    "    p3: P => T,\n",
    "    p4: P => Not[S]): Not[P] = \n",
    "    (p: P) => \n",
    "        p1(p) match {\n",
    "            case nr: Not[R] => p4(p)(p2(nr)._1) : Absurd\n",
    "            case s: S => p4(p)(s) : Absurd\n",
    "        }"
   ]
  },
  {
   "cell_type": "code",
   "execution_count": 112,
   "metadata": {},
   "outputs": [
    {
     "data": {
      "text/plain": [
       "defined \u001b[32mfunction\u001b[39m \u001b[36mproof\u001b[39m"
      ]
     },
     "execution_count": 112,
     "metadata": {},
     "output_type": "execute_result"
    }
   ],
   "source": [
    "def proof[P, Q, R, S, T](\n",
    "    p1: P ⟶ (¬[R] ∨ S),\n",
    "    p2: ¬[R] ⟶ (S ∧ ¬[T]),\n",
    "    p3: P ⟶ T,\n",
    "    p4: P ⟶ ¬[S]): ¬[P] = \n",
    "    ⟶.I((p: P) => \n",
    "        ∨.E(\n",
    "            (nr: Not[R]) => \n",
    "                ⟶.E(⟶.E(p4)(p))(∧.EL(⟶.E(p2)(nr))) : Absurd,\n",
    "            (s: S) => \n",
    "                ⟶.E(⟶.E(p4)(p))(s) : Absurd\n",
    "        )(⟶.E(p1)(p)))"
   ]
  },
  {
   "cell_type": "code",
   "execution_count": null,
   "metadata": {},
   "outputs": [],
   "source": []
  }
 ],
 "metadata": {
  "kernelspec": {
   "display_name": "Scala",
   "language": "scala",
   "name": "scala"
  },
  "language_info": {
   "codemirror_mode": "text/x-scala",
   "file_extension": ".scala",
   "mimetype": "text/x-scala",
   "name": "scala",
   "nbconvert_exporter": "script",
   "version": "2.13.0"
  }
 },
 "nbformat": 4,
 "nbformat_minor": 2
}
