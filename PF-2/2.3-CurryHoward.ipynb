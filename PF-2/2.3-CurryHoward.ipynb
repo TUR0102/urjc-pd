{
 "cells": [
  {
   "cell_type": "code",
   "execution_count": 1,
   "metadata": {},
   "outputs": [
    {
     "data": {
      "text/plain": [
       "defined \u001b[32mobject\u001b[39m \u001b[36m⟹\u001b[39m\n",
       "defined \u001b[32mtype\u001b[39m \u001b[36m⊥\u001b[39m\n",
       "defined \u001b[32mtype\u001b[39m \u001b[36m¬\u001b[39m\n",
       "defined \u001b[32mobject\u001b[39m \u001b[36m¬\u001b[39m\n",
       "defined \u001b[32mtype\u001b[39m \u001b[36m∨\u001b[39m\n",
       "defined \u001b[32mobject\u001b[39m \u001b[36m∨\u001b[39m\n",
       "defined \u001b[32mtype\u001b[39m \u001b[36m∧\u001b[39m\n",
       "defined \u001b[32mobject\u001b[39m \u001b[36m∧\u001b[39m"
      ]
     },
     "execution_count": 1,
     "metadata": {},
     "output_type": "execute_result"
    }
   ],
   "source": [
    "object ⟹{\n",
    "    def elim[A, B](f: A => B)(a: A): B = \n",
    "        f(a)\n",
    "}\n",
    "\n",
    "type ⊥ = Nothing \n",
    "\n",
    "type ¬[A] = A => ⊥\n",
    "\n",
    "object ¬{\n",
    "    def elim[A, C](n: ¬[A])(a: A): C = n(a)\n",
    "}\n",
    "\n",
    "type ∨[A, B] = Either[A, B]\n",
    "\n",
    "object ∨{\n",
    "    def applyL[A, B](a: A): A ∨ B = Left(a)\n",
    "\n",
    "    def applyR[A, B](b: B): A ∨ B = Right(b)\n",
    "    \n",
    "    def elim[A, B, C](f: A => C, g: B => C)(or: A ∨ B): C = \n",
    "        or.fold(f, g)\n",
    "}\n",
    "\n",
    "type ∧[A, B] = (A, B)\n",
    "\n",
    "object ∧{\n",
    "    def apply[A, B](a: A, b: B): A ∧ B = (a, b)\n",
    "    \n",
    "    def elimL[A, B](and: A ∧ B): A = and._1\n",
    "    \n",
    "    def elimR[A, B](and: A ∧ B): B = and._2\n",
    "}\n",
    "\n"
   ]
  },
  {
   "cell_type": "code",
   "execution_count": 2,
   "metadata": {},
   "outputs": [
    {
     "data": {
      "text/plain": [
       "defined \u001b[32mtype\u001b[39m \u001b[36m<=>\u001b[39m\n",
       "defined \u001b[32mtype\u001b[39m \u001b[36m<=\u001b[39m"
      ]
     },
     "execution_count": 2,
     "metadata": {},
     "output_type": "execute_result"
    }
   ],
   "source": [
    "type <=>[A, B] = (A => B, B => A)\n",
    "type <=[A, B] = B => A"
   ]
  },
  {
   "cell_type": "code",
   "execution_count": 3,
   "metadata": {},
   "outputs": [
    {
     "data": {
      "text/plain": [
       "defined \u001b[32mtype\u001b[39m \u001b[36mAbsurd\u001b[39m\n",
       "defined \u001b[32mtype\u001b[39m \u001b[36mNot\u001b[39m\n",
       "defined \u001b[32mobject\u001b[39m \u001b[36mNot\u001b[39m\n",
       "defined \u001b[32mtype\u001b[39m \u001b[36mOr\u001b[39m\n",
       "defined \u001b[32mobject\u001b[39m \u001b[36mOr\u001b[39m\n",
       "defined \u001b[32mtype\u001b[39m \u001b[36mAnd\u001b[39m\n",
       "defined \u001b[32mobject\u001b[39m \u001b[36mAnd\u001b[39m"
      ]
     },
     "execution_count": 3,
     "metadata": {},
     "output_type": "execute_result"
    }
   ],
   "source": [
    "type Absurd = Nothing \n",
    "\n",
    "type Not[A] = A => Absurd\n",
    "\n",
    "object Not{\n",
    "    def elim[A, C](n: Not[A])(a: A): C = n(a)\n",
    "}\n",
    "\n",
    "type Or[A, B] = Either[A, B]\n",
    "\n",
    "object Or{\n",
    "    def applyL[A, B](a: A): Or[A, B] = Left(a)\n",
    "\n",
    "    def applyR[A, B](b: B): Or[A, B] = Right(b)\n",
    "    \n",
    "    def elim[A, B, C](f: A => C, g: B => C)(or: Or[A, B]): C = \n",
    "        or.fold(f, g)\n",
    "}\n",
    "\n",
    "type And[A, B] = (A, B)\n",
    "\n",
    "object And{\n",
    "    def apply[A, B](a: A, b: B): And[A, B] = (a, b)\n",
    "    \n",
    "    def elimL[A, B](and: And[A, B]): A = and._1\n",
    "    \n",
    "    def elimR[A, B](and: And[A, B]): B = and._2\n",
    "}"
   ]
  },
  {
   "cell_type": "markdown",
   "metadata": {},
   "source": [
    "$\\vdash X \\wedge (X \\Rightarrow Y) \\Rightarrow Y$"
   ]
  },
  {
   "cell_type": "code",
   "execution_count": 4,
   "metadata": {},
   "outputs": [
    {
     "data": {
      "text/plain": [
       "defined \u001b[32mfunction\u001b[39m \u001b[36mprop\u001b[39m"
      ]
     },
     "execution_count": 4,
     "metadata": {},
     "output_type": "execute_result"
    }
   ],
   "source": [
    "def prop[X, Y]: (X, X => Y) => Y = \n",
    "    (x, f) => f(x)"
   ]
  },
  {
   "cell_type": "code",
   "execution_count": 5,
   "metadata": {},
   "outputs": [
    {
     "data": {
      "text/plain": [
       "defined \u001b[32mfunction\u001b[39m \u001b[36mprop\u001b[39m"
      ]
     },
     "execution_count": 5,
     "metadata": {},
     "output_type": "execute_result"
    }
   ],
   "source": [
    "def prop[X, Y]: ((X, X => Y)) => Y = \n",
    "    (a: (X, X => Y)) => \n",
    "        (a._2).apply(a._1)"
   ]
  },
  {
   "cell_type": "code",
   "execution_count": 6,
   "metadata": {},
   "outputs": [
    {
     "data": {
      "text/plain": [
       "defined \u001b[32mfunction\u001b[39m \u001b[36mprop\u001b[39m"
      ]
     },
     "execution_count": 6,
     "metadata": {},
     "output_type": "execute_result"
    }
   ],
   "source": [
    "def prop[X, Y]: X ∧ (X => Y) => Y = \n",
    "    (a: X ∧ (X => Y)) => \n",
    "        ⟹.elim(∧.elimR(a))(∧.elimL(a))"
   ]
  },
  {
   "cell_type": "markdown",
   "metadata": {},
   "source": [
    "$X*(Y+Z) \\cong X*Y + X*Z$\n",
    "\n",
    "$\\vdash (X \\wedge (Y \\vee Z)) \\Leftrightarrow (X \\wedge Y \\vee X \\wedge Z)$"
   ]
  },
  {
   "cell_type": "code",
   "execution_count": 7,
   "metadata": {},
   "outputs": [
    {
     "data": {
      "text/plain": [
       "defined \u001b[32mfunction\u001b[39m \u001b[36mprop\u001b[39m"
      ]
     },
     "execution_count": 7,
     "metadata": {},
     "output_type": "execute_result"
    }
   ],
   "source": [
    "def prop[P, Q, R]: (P ∧ (Q ∨ R)) <=> ((P ∧ Q) ∨ (P ∧ R)) = \n",
    "    ((a: P ∧ (Q ∨ R)) => \n",
    "        ∨.elim((q: Q) => ∨.applyL(∧.apply(∧.elimL(a), q)),\n",
    "               (r: R) => ∨.applyR(∧.apply(∧.elimL(a), r)))(∧.elimR(a)),\n",
    "     ∨.elim((a: P ∧ Q) => ∧.apply(∧.elimL(a), ∨.applyL(∧.elimR(a))),\n",
    "            (a: P ∧ R) => ∧.apply(∧.elimL(a), ∨.applyR(∧.elimR(a)))))"
   ]
  },
  {
   "cell_type": "code",
   "execution_count": 8,
   "metadata": {},
   "outputs": [
    {
     "data": {
      "text/plain": [
       "defined \u001b[32mfunction\u001b[39m \u001b[36mprop\u001b[39m"
      ]
     },
     "execution_count": 8,
     "metadata": {},
     "output_type": "execute_result"
    }
   ],
   "source": [
    "def prop[P, Q, R]: (P, Either[Q, R]) <=> Either[(P, Q), (P, R)] = \n",
    "    ({ case (p, Left(q)) => Left((p,q))\n",
    "        case (p, Right(r)) => Right((p,r)) },\n",
    "    { case Left((p,q)) => (p, Left(q))\n",
    "        case Right((p,r)) => (p, Right(r)) })"
   ]
  },
  {
   "cell_type": "markdown",
   "metadata": {},
   "source": [
    "$X^{Y+Z} \\cong X^Y * X^Z$\n",
    "\n",
    "$\\vdash (Y \\vee Z \\Rightarrow X) \\Leftrightarrow (Y \\Rightarrow X \\wedge Z \\Rightarrow X)$"
   ]
  },
  {
   "cell_type": "code",
   "execution_count": 9,
   "metadata": {},
   "outputs": [
    {
     "data": {
      "text/plain": [
       "defined \u001b[32mfunction\u001b[39m \u001b[36mprop\u001b[39m"
      ]
     },
     "execution_count": 9,
     "metadata": {},
     "output_type": "execute_result"
    }
   ],
   "source": [
    "def prop[X, Y, Z]: (Y ∨ Z => X) <=> (Y => X ∧ Z => X) = \n",
    "    (??? : (Y ∨ Z => X) => (Y => X ∧ Z => X), \n",
    "     ??? : (Y ∨ Z => X) <= (Y => X ∧ Z => X))"
   ]
  },
  {
   "cell_type": "code",
   "execution_count": 10,
   "metadata": {},
   "outputs": [
    {
     "data": {
      "text/plain": [
       "defined \u001b[32mfunction\u001b[39m \u001b[36mprop\u001b[39m"
      ]
     },
     "execution_count": 10,
     "metadata": {},
     "output_type": "execute_result"
    }
   ],
   "source": [
    "def prop[X, Y, Z]: (Either[Y, Z] => X) <=> (Y => X, Z => X) = \n",
    "    (f => (y => f(Left(y)), z => f(Right(z))) , \n",
    "     { case (f, g) => \n",
    "         { case Left(y) => f(y)\n",
    "           case Right(z) => g(z)\n",
    "         }\n",
    "     })"
   ]
  },
  {
   "cell_type": "markdown",
   "metadata": {},
   "source": [
    "$\\vdash P \\vee Q \\Rightarrow \\neg P \\Rightarrow Q$ "
   ]
  },
  {
   "cell_type": "code",
   "execution_count": 11,
   "metadata": {},
   "outputs": [
    {
     "data": {
      "text/plain": [
       "defined \u001b[32mfunction\u001b[39m \u001b[36mproof12\u001b[39m\n",
       "defined \u001b[32mfunction\u001b[39m \u001b[36mproof14\u001b[39m"
      ]
     },
     "execution_count": 11,
     "metadata": {},
     "output_type": "execute_result"
    }
   ],
   "source": [
    "def proof12[P, Q]: Either[P, Q] => (P => Nothing) => Q = \n",
    "    (e: Either[P, Q]) => (f: P => Nothing) => \n",
    "        //e.fold[B](f, identity)\n",
    "        e match {\n",
    "            case Left(a: P) => f(a): Q\n",
    "            case Right(b: Q) => b : Q\n",
    "        }\n",
    "\n",
    "def proof14[P, Q]: P ∨ Q => ¬[P] => Q = \n",
    "    (or: P ∨ Q) => (n: ¬[P]) => \n",
    "        ∨.elim(¬.elim[P, Q](n), identity[Q])(or)\n",
    "\n"
   ]
  },
  {
   "cell_type": "code",
   "execution_count": 12,
   "metadata": {},
   "outputs": [
    {
     "data": {
      "text/plain": [
       "defined \u001b[32mfunction\u001b[39m \u001b[36mproof8\u001b[39m\n",
       "defined \u001b[32mfunction\u001b[39m \u001b[36mproof3\u001b[39m\n",
       "defined \u001b[32mfunction\u001b[39m \u001b[36mproof2\u001b[39m\n",
       "defined \u001b[32mfunction\u001b[39m \u001b[36mproof4\u001b[39m\n",
       "defined \u001b[32mfunction\u001b[39m \u001b[36mproof5\u001b[39m\n",
       "defined \u001b[32mfunction\u001b[39m \u001b[36mproof7\u001b[39m\n",
       "defined \u001b[32mfunction\u001b[39m \u001b[36mproof11\u001b[39m\n",
       "defined \u001b[32mfunction\u001b[39m \u001b[36mproof9\u001b[39m\n",
       "defined \u001b[32mfunction\u001b[39m \u001b[36mproof10\u001b[39m"
      ]
     },
     "execution_count": 12,
     "metadata": {},
     "output_type": "execute_result"
    }
   ],
   "source": [
    "\n",
    "def proof8[A, B]: Or[A, B] => Or[B, A] = \n",
    "    Or.elim[A, B, Or[B, A]](Or.applyR[B, A], Or.applyL[B, A])\n",
    "\n",
    "// Not and implies\n",
    "\n",
    "def proof3[A, B]: (A => Not[B]) => (A => B) => Not[A] = \n",
    "    i => (i2: A => B) => (a: A) => i(a)(i2(a))\n",
    "\n",
    "def proof2[A, B]: Not[A] => A => B = \n",
    "    n => Not.elim[A, B](n)\n",
    "\n",
    "def proof4[A, B]: Not[A => B] => Not[B] = \n",
    "    n => (b: B) => n((_: A) => b)\n",
    "\n",
    "// Not and and\n",
    "\n",
    "def proof5[A, B]: Not[A] => Not[And[A, B]] = \n",
    "//    (and: And[A, B]) => n(And.elimL(and))\n",
    "    n => n compose And.elimL\n",
    "\n",
    "def proof7[A, B]: Not[And[A, B]] => A => Not[B] = \n",
    "    n => (a: A) => (b: B) => n(And(a, b))\n",
    "\n",
    "def proof11[A]: Not[A And Not[A]] = \n",
    "    a => And.elimR(a)(And.elimL(a))\n",
    "\n",
    "// Not and or\n",
    "\n",
    "def proof9[A, B]: Not[A Or B] => Not[A] And Not[B] = \n",
    "    n => And((a: A) => n(Or.applyL(a)), (b: B) => n(Or.applyR(b)))\n",
    "\n",
    "def proof10[A, B]: (Not[A] And Not[B]) => Not[A Or B] = \n",
    "    and => Or.elim[A, B, Absurd](And.elimL(and), And.elimR(and))\n",
    "\n"
   ]
  },
  {
   "cell_type": "code",
   "execution_count": 13,
   "metadata": {},
   "outputs": [
    {
     "data": {
      "text/plain": [
       "defined \u001b[32mtrait\u001b[39m \u001b[36mClassicalLogic\u001b[39m"
      ]
     },
     "execution_count": 13,
     "metadata": {},
     "output_type": "execute_result"
    }
   ],
   "source": [
    "trait ClassicalLogic{\n",
    "    trait DN{\n",
    "        def apply[A](nn: Not[Not[A]]): A\n",
    "    }\n",
    "    \n",
    "    val dn: DN\n",
    "    \n",
    "    def proof1[A]: (Not[A] => A) => A =\n",
    "        f => dn((n: Not[A]) => proof11(And(f(n),n)))\n",
    "}\n"
   ]
  },
  {
   "cell_type": "markdown",
   "metadata": {},
   "source": [
    "All P are S\n",
    "All S are R\n",
    "All P are R"
   ]
  },
  {
   "cell_type": "code",
   "execution_count": 15,
   "metadata": {},
   "outputs": [
    {
     "data": {
      "text/plain": [
       "defined \u001b[32mfunction\u001b[39m \u001b[36mproof\u001b[39m"
      ]
     },
     "execution_count": 15,
     "metadata": {},
     "output_type": "execute_result"
    }
   ],
   "source": [
    "def proof[P, S, R]: ((P => S, S => R)) => P => R = \n",
    "    t => (p: P) => t._2(t._1(p))"
   ]
  },
  {
   "cell_type": "code",
   "execution_count": null,
   "metadata": {},
   "outputs": [],
   "source": []
  }
 ],
 "metadata": {
  "kernelspec": {
   "display_name": "Scala",
   "language": "scala",
   "name": "scala"
  },
  "language_info": {
   "codemirror_mode": "text/x-scala",
   "file_extension": ".scala",
   "mimetype": "text/x-scala",
   "name": "scala",
   "nbconvert_exporter": "script",
   "version": "2.13.0"
  }
 },
 "nbformat": 4,
 "nbformat_minor": 2
}
