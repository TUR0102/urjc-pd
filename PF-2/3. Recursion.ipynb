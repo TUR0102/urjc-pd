{
 "cells": [
  {
   "cell_type": "markdown",
   "metadata": {},
   "source": [
    "# Recursive data types and functions"
   ]
  },
  {
   "cell_type": "markdown",
   "metadata": {},
   "source": [
    "## Recursive types"
   ]
  },
  {
   "cell_type": "markdown",
   "metadata": {},
   "source": [
    "### The `List` type"
   ]
  },
  {
   "cell_type": "markdown",
   "metadata": {},
   "source": [
    "Lists are data structures which represent sequences of values of the same type, of finite length. They can be defined recursively in an informal way as follows: \n",
    "- A list is the empty sequence\n",
    "- A list is a non-empty sequence made of a value and another list, which represent the head and tail of the list, respectively\n",
    "\n",
    "Thus, the type `IntList`, which represents lists of integers, must satisfy the following equation:\n",
    "\n",
    "`IntList = 1 + Int * IntList`\n",
    "\n",
    "i.e., a list of integers is the empty sequence (represented by the singleton type `1`), or an integer (the head) and a list (its tail).\n",
    "\n"
   ]
  },
  {
   "cell_type": "markdown",
   "metadata": {},
   "source": [
    "The implementation in Scala is as follows (we already give the generic version `List[A]`, rather than the implementation of `IntList`):"
   ]
  },
  {
   "cell_type": "code",
   "execution_count": 6,
   "metadata": {},
   "outputs": [
    {
     "data": {
      "text/plain": [
       "defined \u001b[32mclass\u001b[39m \u001b[36mList\u001b[39m\n",
       "defined \u001b[32mclass\u001b[39m \u001b[36mNonEmpty\u001b[39m\n",
       "defined \u001b[32mclass\u001b[39m \u001b[36mEmpty\u001b[39m"
      ]
     },
     "execution_count": 6,
     "metadata": {},
     "output_type": "execute_result"
    }
   ],
   "source": [
    "sealed abstract class List[A]\n",
    "case class NonEmpty[A](head: A, tail: List[A]) extends List[A]\n",
    "case class Empty[A]() extends List[A]"
   ]
  },
  {
   "cell_type": "markdown",
   "metadata": {},
   "source": [
    "Note that the actual implementation of [immutable lists](https://github.com/scala/scala/blob/v2.13.1/src/library/scala/collection/immutable/List.scala#L79) in the standard library of Scala defines the empty list as an object, rather than a class. However, this forces us to declare the list covariance in its generic parameter `A`, which is somewhat inconvenient at times."
   ]
  },
  {
   "cell_type": "code",
   "execution_count": 7,
   "metadata": {},
   "outputs": [
    {
     "data": {
      "text/plain": [
       "defined \u001b[32mobject\u001b[39m \u001b[36mAlternativeDefinition\u001b[39m"
      ]
     },
     "execution_count": 7,
     "metadata": {},
     "output_type": "execute_result"
    }
   ],
   "source": [
    "object AlternativeDefinition{\n",
    "    sealed abstract class List[+A]\n",
    "    case class NonEmpty[A](head: A, tail: List[A]) extends List[A]\n",
    "    case object Empty extends List[Nothing]\n",
    "}"
   ]
  },
  {
   "cell_type": "markdown",
   "metadata": {},
   "source": [
    "We will stick to the former definition. Some examples of lists: "
   ]
  },
  {
   "cell_type": "code",
   "execution_count": 8,
   "metadata": {},
   "outputs": [
    {
     "data": {
      "text/plain": [
       "\u001b[36mempty\u001b[39m: \u001b[32mList\u001b[39m[\u001b[32mInt\u001b[39m] = Empty()"
      ]
     },
     "execution_count": 8,
     "metadata": {},
     "output_type": "execute_result"
    }
   ],
   "source": [
    "// The empty list\n",
    "val empty: List[Int] = Empty()"
   ]
  },
  {
   "cell_type": "code",
   "execution_count": 9,
   "metadata": {},
   "outputs": [
    {
     "data": {
      "text/plain": [
       "\u001b[36ml1\u001b[39m: \u001b[32mList\u001b[39m[\u001b[32mInt\u001b[39m] = \u001b[33mNonEmpty\u001b[39m(\u001b[32m1\u001b[39m, \u001b[33mNonEmpty\u001b[39m(\u001b[32m2\u001b[39m, \u001b[33mNonEmpty\u001b[39m(\u001b[32m3\u001b[39m, Empty())))"
      ]
     },
     "execution_count": 9,
     "metadata": {},
     "output_type": "execute_result"
    }
   ],
   "source": [
    "// Non-empty list [1, 2, 3]\n",
    "val l1: List[Int] = NonEmpty(1, NonEmpty(2, NonEmpty(3, Empty())))"
   ]
  },
  {
   "cell_type": "markdown",
   "metadata": {},
   "source": [
    "In Scala, we can write lists with a syntax more compact: "
   ]
  },
  {
   "cell_type": "code",
   "execution_count": 11,
   "metadata": {},
   "outputs": [
    {
     "data": {
      "text/plain": [
       "\u001b[32mimport \u001b[39m\u001b[36mscala.{List => IList}\n",
       "\n",
       "\u001b[39m\n",
       "\u001b[36ml2\u001b[39m: \u001b[32mpackage\u001b[39m.\u001b[32mList\u001b[39m[\u001b[32mInt\u001b[39m] = \u001b[33mList\u001b[39m(\u001b[32m1\u001b[39m, \u001b[32m2\u001b[39m, \u001b[32m3\u001b[39m)"
      ]
     },
     "execution_count": 11,
     "metadata": {},
     "output_type": "execute_result"
    }
   ],
   "source": [
    "import scala.{List => IList}\n",
    "\n",
    "val l2: IList[Int] = 1 :: 2 :: 3 :: Nil"
   ]
  },
  {
   "cell_type": "code",
   "execution_count": null,
   "metadata": {},
   "outputs": [],
   "source": []
  }
 ],
 "metadata": {
  "kernelspec": {
   "display_name": "Scala",
   "language": "scala",
   "name": "scala"
  },
  "language_info": {
   "codemirror_mode": "text/x-scala",
   "file_extension": ".scala",
   "mimetype": "text/x-scala",
   "name": "scala",
   "nbconvert_exporter": "script",
   "version": "2.13.0"
  }
 },
 "nbformat": 4,
 "nbformat_minor": 2
}
