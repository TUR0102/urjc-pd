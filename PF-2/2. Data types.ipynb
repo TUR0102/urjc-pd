{
 "cells": [
  {
   "cell_type": "markdown",
   "metadata": {},
   "source": [
    "# Algebraic data types"
   ]
  },
  {
   "cell_type": "markdown",
   "metadata": {},
   "source": [
    "User-defined types in object-oriented languages are specified through class or trait declarations. Types can also be specified from already existing user-defined types through the inheritance mechanism.  "
   ]
  },
  {
   "cell_type": "markdown",
   "metadata": {},
   "source": [
    "In functional programming, the rules for declaring new types are different: no inheritance or classes, just _products_ and _sums_ of types (and _exponentiation_, as we will see when we talk about higher-order functions). Because of the terminology and the correspondence with arithmetic (see later on), these types are called **algebraic data types**. "
   ]
  },
  {
   "cell_type": "markdown",
   "metadata": {},
   "source": [
    "### References\n",
    "\n",
    "[__Programming in Scala, \n",
    "A comprehensive step-by-step guide__](https://www.artima.com/shop/programming_in_scala_3ed) Third Edition.\n",
    "by Martin Odersky, Lex Spoon, and Bill Venners. \n",
    "\n",
    "- Chapter 15. Case Classes and Pattern Matching\n",
    "\n",
    "__[Scala book (online)](https://docs.scala-lang.org/overviews/scala-book/introduction.html)__.\n",
    "\n",
    "- [Match Expressions](https://docs.scala-lang.org/overviews/scala-book/match-expressions.html)\n",
    "- [Case classes](https://docs.scala-lang.org/overviews/scala-book/case-classes.html)\n",
    "- [Case objects](https://docs.scala-lang.org/overviews/scala-book/case-objects.html)\n",
    "\n",
    "[__Functional programming simplified__](https://alvinalexander.com/downloads/fpsimplified-free-preview.pdf), by Alvin Alexander.\n",
    "\n",
    "- Chapters 19. Functional Programming as Algebra "
   ]
  },
  {
   "cell_type": "markdown",
   "metadata": {},
   "source": [
    "## Product types"
   ]
  },
  {
   "cell_type": "markdown",
   "metadata": {},
   "source": [
    "A value of a product type `T1 * T2` is created with a value of `T1` **and** a value of `T2`. The constructor function is:\n",
    "  - `create: (T1, T2) -> T1 * T2` (create is a 2-ary function). \n",
    "\n",
    "Given a value of a product type, we can obtain back both values with observers:\n",
    "  - `fst: T1 * T2 -> T1` \n",
    "  - `snd: T1 * T2 -> T2`\n",
    "  \n"
   ]
  },
  {
   "cell_type": "markdown",
   "metadata": {},
   "source": [
    "### Products in Scala\n",
    "\n",
    "In Scala, products are commonly called tuples. They are defined through classes that declare one public value field (conventionally named `_1`, `_2`, etc.) for each product member type."
   ]
  },
  {
   "cell_type": "code",
   "execution_count": null,
   "metadata": {},
   "outputs": [],
   "source": [
    "// type IntAndString = Int * String\n",
    "\n",
    "class IntAndString(\n",
    "    val _1: Int, \n",
    "    val _2: String)"
   ]
  },
  {
   "cell_type": "markdown",
   "metadata": {},
   "source": [
    "Thus, the constructor of the product, `create`, is the constructor of the class, and the observers `fst` y `snd` the member fields `_1` y `_2`."
   ]
  },
  {
   "cell_type": "code",
   "execution_count": null,
   "metadata": {},
   "outputs": [],
   "source": [
    "val aProduct: IntAndString = new IntAndString(1, \"uno\")\n",
    "aProduct._1 \n",
    "aProduct._2"
   ]
  },
  {
   "cell_type": "markdown",
   "metadata": {},
   "source": [
    "### Record types"
   ]
  },
  {
   "cell_type": "markdown",
   "metadata": {},
   "source": [
    "Records are like products, but we can tag the member types with a given label. For instance:"
   ]
  },
  {
   "cell_type": "code",
   "execution_count": null,
   "metadata": {},
   "outputs": [],
   "source": [
    "// type Rectangle = {width: Int * height: Int}\n",
    "\n",
    "class Rectangle(\n",
    "    val width: Int,\n",
    "    val height: Int)"
   ]
  },
  {
   "cell_type": "code",
   "execution_count": null,
   "metadata": {},
   "outputs": [],
   "source": [
    "// type Circle = {radius: Int}\n",
    "\n",
    "class Circle(\n",
    "    val radius: Int)\n"
   ]
  },
  {
   "cell_type": "code",
   "execution_count": null,
   "metadata": {},
   "outputs": [],
   "source": [
    "// type Triangle = {width: Int}\n",
    "\n",
    "class Triangle(\n",
    "    val width: Int)"
   ]
  },
  {
   "cell_type": "markdown",
   "metadata": {},
   "source": [
    "### Scala case classes\n",
    "\n",
    "There are several things which are desirable to work with products/records:\n",
    " - Create new product objects without having to invoke `new`\n",
    " - Equality of product objects by value, not by reference\n",
    " - Off-the-shelf hash code\n",
    " - Pattern matching (more on this later on)\n"
   ]
  },
  {
   "cell_type": "markdown",
   "metadata": {},
   "source": [
    "Create objects without `new`, is that possible? Yes, it is!"
   ]
  },
  {
   "cell_type": "code",
   "execution_count": null,
   "metadata": {},
   "outputs": [],
   "source": [
    "object Rectangle{\n",
    "    def apply(width: Int, height: Int): Rectangle = \n",
    "        new Rectangle(width, height)\n",
    "}"
   ]
  },
  {
   "cell_type": "code",
   "execution_count": null,
   "metadata": {},
   "outputs": [],
   "source": [
    "val r1: Rectangle = Rectangle.apply(5, 10)\n",
    "// we can omit `.apply`\n",
    "val isa1: Rectangle = Rectangle(5, 10)"
   ]
  },
  {
   "cell_type": "markdown",
   "metadata": {},
   "source": [
    "Default equality is by-reference, not by-value:"
   ]
  },
  {
   "cell_type": "code",
   "execution_count": null,
   "metadata": {},
   "outputs": [],
   "source": [
    "Rectangle(5, 10) == Rectangle(5, 10)"
   ]
  },
  {
   "cell_type": "markdown",
   "metadata": {},
   "source": [
    "So, we must re-define the `equals` method (rules for overriding `equals` are more [complex](https://alvinalexander.com/scala/how-to-define-equals-hashcode-methods-in-scala-object-equality), though):"
   ]
  },
  {
   "cell_type": "code",
   "execution_count": null,
   "metadata": {},
   "outputs": [],
   "source": [
    "class Rectangle(\n",
    "    val width: Int,\n",
    "    val height: Int){\n",
    "    \n",
    "    override def equals(p1: Any): Boolean = \n",
    "        if (p1.isInstanceOf[Rectangle])\n",
    "            width == p1.asInstanceOf[Rectangle].width && \n",
    "            height == p1.asInstanceOf[Rectangle].height\n",
    "        else false\n",
    "}\n",
    "\n",
    "object Rectangle{\n",
    "    def apply(width: Int, height: Int): Rectangle = \n",
    "        new Rectangle(width, height)\n",
    "}"
   ]
  },
  {
   "cell_type": "markdown",
   "metadata": {},
   "source": [
    "Now, it works as expected:"
   ]
  },
  {
   "cell_type": "code",
   "execution_count": null,
   "metadata": {},
   "outputs": [],
   "source": [
    "Rectangle(5, 10) == Rectangle(5, 10)"
   ]
  },
  {
   "cell_type": "markdown",
   "metadata": {},
   "source": [
    "This is tedious and repetitive, i.e. boilerplate. Scala can make it for us automatically, using so-called `case classes`: "
   ]
  },
  {
   "cell_type": "code",
   "execution_count": null,
   "metadata": {},
   "outputs": [],
   "source": [
    "case class Rectangle(width: Int, height: Int)\n",
    "case class Circle(radius: Int)\n",
    "case class Triangle(width: Int)"
   ]
  },
  {
   "cell_type": "markdown",
   "metadata": {},
   "source": [
    "This declaration of the `Rectangle` record is essentially equivalent to what we did manually: the `case` keyword tells the Scala compiler to generate a companion object with an `apply` constructor; override the `equals` and `hashCode` methods, among other things."
   ]
  },
  {
   "cell_type": "code",
   "execution_count": null,
   "metadata": {},
   "outputs": [],
   "source": [
    "Rectangle(1,1) == Rectangle(1,1)"
   ]
  },
  {
   "cell_type": "code",
   "execution_count": null,
   "metadata": {},
   "outputs": [],
   "source": [
    "Rectangle(1,1).hashCode"
   ]
  },
  {
   "cell_type": "markdown",
   "metadata": {},
   "source": [
    "### Standard products in Scala: `TupleN` classes"
   ]
  },
  {
   "cell_type": "markdown",
   "metadata": {},
   "source": [
    "The standard library of Scala has already defined for us generic case classes that represent the n-ary products (up to 22). The rough definition of `Tuple2` goes like this:"
   ]
  },
  {
   "cell_type": "code",
   "execution_count": null,
   "metadata": {},
   "outputs": [],
   "source": [
    "case class Tuple2[A, B](_1: A, _2: B)"
   ]
  },
  {
   "cell_type": "markdown",
   "metadata": {},
   "source": [
    "And Scala offers syntactic sugar, both for Tuple types and values. So, instead of writing something like this: "
   ]
  },
  {
   "cell_type": "code",
   "execution_count": null,
   "metadata": {},
   "outputs": [],
   "source": [
    "val t3: Tuple3[Int, String, Boolean] = Tuple3(1, \"uno\", true)"
   ]
  },
  {
   "cell_type": "markdown",
   "metadata": {},
   "source": [
    "we can write it as follows:"
   ]
  },
  {
   "cell_type": "code",
   "execution_count": null,
   "metadata": {},
   "outputs": [],
   "source": [
    "val a: (Int, String, Boolean) = (1, \"uno\", true)"
   ]
  },
  {
   "cell_type": "markdown",
   "metadata": {},
   "source": [
    "### Why are products called _algebraic_?"
   ]
  },
  {
   "cell_type": "markdown",
   "metadata": {},
   "source": [
    "This is an example to illustrate the analogy between algebraic data types and arithmetic."
   ]
  },
  {
   "cell_type": "code",
   "execution_count": null,
   "metadata": {},
   "outputs": [],
   "source": [
    "// Number of values of Boolean type: 2\n",
    "true: Boolean\n",
    "false: Boolean \n",
    "\n",
    "// Number of values of (Boolean, Boolean) type: 2 x 2 \n",
    "(true, true): (Boolean, Boolean)\n",
    "(true, false): (Boolean, Boolean)\n",
    "(false, false): (Boolean, Boolean)\n",
    "(false, true): (Boolean, Boolean)"
   ]
  },
  {
   "cell_type": "markdown",
   "metadata": {},
   "source": [
    "In general, types may be regarded as sets of values. Then, the cardinal of `A * B`, for types `A` and `B` is: `|A * B| = |A| * |B|`"
   ]
  },
  {
   "cell_type": "markdown",
   "metadata": {},
   "source": [
    "If product types are analogous to number multiplication, then, is there any type which corresponds to the number 1, i.e. the neutral element of the multiplication? It has to be a type `1` such that `A*1 ~= A ~= 1*A`, where the sign `~=` represents the _isomorphism_ of types, i.e. the types do not need to be equal but there should be a 1-1 mapping between the values of `A*1` and `A`.  \n"
   ]
  },
  {
   "cell_type": "markdown",
   "metadata": {},
   "source": [
    "Since the type `1` has to comply with the identity rules, we have that `|A*1| ~= |A|`, but then `|A| * |1| = |A|`. So, `|1|` must be the type with just one value, i.e. the equivalent to the singleton set. In Scala, this type is called `Unit`."
   ]
  },
  {
   "cell_type": "code",
   "execution_count": null,
   "metadata": {},
   "outputs": [],
   "source": [
    "// The only value of Unit is `()`\n",
    "val unit: Unit = ()"
   ]
  },
  {
   "cell_type": "markdown",
   "metadata": {},
   "source": [
    "The isomorphism between `Boolean * 1` and `Boolean` is witnessed by the following functions: "
   ]
  },
  {
   "cell_type": "code",
   "execution_count": null,
   "metadata": {},
   "outputs": [],
   "source": [
    "// (Boolean, Unit) ~= Boolean\n",
    "def from(p: (Boolean, Unit)): Boolean = p._1\n",
    "def to(b: Boolean): (Boolean, Unit) = (b, ())"
   ]
  },
  {
   "cell_type": "markdown",
   "metadata": {},
   "source": [
    "which satisfy:\n",
    "- `from(to(b))=b`, for all `b: Boolean`, and \n",
    "- `to(from(b))=b` for all `b: (Boolean, Unit)`."
   ]
  },
  {
   "cell_type": "markdown",
   "metadata": {},
   "source": [
    "Note that any function that returns a value of type `Unit` is completely useless from a purely functional perspective, since we already know in advance which is the (only possible) value that it returns: `()`. Therefore, if such a function makes sense is because it does something else than returning values: it must have some side effect, i.e. it has to be _impure_."
   ]
  },
  {
   "cell_type": "markdown",
   "metadata": {},
   "source": [
    "### Working with products"
   ]
  },
  {
   "cell_type": "markdown",
   "metadata": {},
   "source": [
    "The goal is to translate algebraic rectangles, circles, etc., into SVG and be able to display these shapes in the notebook. We want to implement a function with the following signature:"
   ]
  },
  {
   "cell_type": "code",
   "execution_count": null,
   "metadata": {},
   "outputs": [],
   "source": [
    "def displayCircle(c: Circle): Unit = ??? "
   ]
  },
  {
   "cell_type": "markdown",
   "metadata": {},
   "source": [
    "Note the return type: we are interested in the side effect of displaying something in the screen, so we disregard the returning value. "
   ]
  },
  {
   "cell_type": "markdown",
   "metadata": {},
   "source": [
    "We may go with the following implementation:"
   ]
  },
  {
   "cell_type": "code",
   "execution_count": null,
   "metadata": {},
   "outputs": [],
   "source": [
    "import almond.interpreter.api.DisplayData\n",
    "    \n",
    "def displayCircle(c: Circle): Unit = \n",
    "   display(DisplayData(Map(\"text/html\" -> \n",
    "        s\"\"\"<svg width=\"200\" height=\"200\">\n",
    "              <circle cx=\"100\" cy=\"100\" r=${c.radius} fill=\"red\"/>\n",
    "            </svg>\"\"\")))"
   ]
  },
  {
   "cell_type": "code",
   "execution_count": null,
   "metadata": {},
   "outputs": [],
   "source": [
    "displayCircle(Circle(100))"
   ]
  },
  {
   "cell_type": "markdown",
   "metadata": {},
   "source": [
    "This works, but which are the problems of this implementation? Surely, this is the function we need, but it's not *modular* since there are at least two aspects that are intermingled in the code: \n",
    "- The computation of the SVG code (the pure part)\n",
    "- The actual displaying of the HTML thunk (the impure part)\n",
    "\n",
    "Lack of modularity in this case leads to the following problems:\n",
    "- Later on, we will need to compute the SVG code of larger pictures, which are made from circles, rectangles, etc., and we will certainly need for that to translate circles to SVG. But with the current implementation, we won't be able to *reuse* anything (but by copy-pasting). \n",
    "- Another problem with this implementation is *testability*: we can't unit test the single part that generates the SVG code alone. We can only do _integration_ testing, i.e. checking the effect on the screen to see if what we get is right or not. \n",
    "\n",
    "So, we better modularise our function as follows:"
   ]
  },
  {
   "cell_type": "code",
   "execution_count": null,
   "metadata": {},
   "outputs": [],
   "source": [
    "type SVG = String\n",
    "type HTML = String\n",
    "\n",
    "// Module 1: toSVG\n",
    "\n",
    "def circleToSVG(c: Circle): SVG = \n",
    "        s\"\"\"<svg width=\"200\" height=\"200\">\n",
    "              <circle cx=\"100\" cy=\"100\" r=${c.radius} fill=\"red\"/>\n",
    "            </svg>\"\"\"\n",
    "\n",
    "\n",
    "// Module 2: HtmlData\n",
    "import almond.interpreter.api.DisplayData\n",
    "\n",
    "def HtmlData(svg: SVG): DisplayData = \n",
    "    DisplayData(Map(\"text/html\" -> svg))\n",
    "    \n",
    "\n",
    "// Our very same original function, but now in a better shape\n",
    "def displayCircle(c: Circle): Unit = \n",
    "    display(HtmlData(circleToSVG(c)))\n",
    "    \n"
   ]
  },
  {
   "cell_type": "code",
   "execution_count": null,
   "metadata": {},
   "outputs": [],
   "source": [
    "displayCircle(Circle(49))"
   ]
  },
  {
   "cell_type": "markdown",
   "metadata": {},
   "source": [
    "## Sum types       "
   ]
  },
  {
   "cell_type": "markdown",
   "metadata": {},
   "source": [
    "Besides multiplying types, we can also _sum_ types. Given types `A` and `B`, the sum type `A + B` represents **either** a value of type `A` **or** a value of type `B`. Therefore, we have that \n",
    "\n",
    "`|A + B| = |A| + |B|`\n",
    "\n",
    "For instance:"
   ]
  },
  {
   "cell_type": "markdown",
   "metadata": {},
   "source": [
    "- `MaybeInt = Int + 1`. A value of this type may be an integer; if it is not, then it is the unit value (a value that we use to signal that it is not an integer). So, `|MaybeInt| = |Int| + |1| = |Int| + 1`\n",
    "- `EitherIntOrString = Int + String`. A value of this type is either an integer or a string, i.e. `|EitherIntOrString| = |Int| + |String|`\n",
    "- `Shape = Circle + Rectangle + Triangle`. If we have a value of type `Shape`, then we have either a `Circle`, a `Triangle` or a `Rectangle`. So, `|Shape| = |Circle| + |Triangle| + |Rectangle|`"
   ]
  },
  {
   "cell_type": "markdown",
   "metadata": {},
   "source": [
    "We create and observe values of a sum type `A + B` with the following functions: \n",
    "- Injection functions: \n",
    "  - `injA: A -> A + B`\n",
    "  - `injB: B -> A + B`\n",
    "- Match function:\n",
    "  - `match: (A -> C) -> (B -> C) -> A + B -> C`\n",
    "  \n",
    "We leave the explanation of the `match` function until we talk about higher-order functions."
   ]
  },
  {
   "cell_type": "markdown",
   "metadata": {},
   "source": [
    "### Sum types in Scala"
   ]
  },
  {
   "cell_type": "markdown",
   "metadata": {},
   "source": [
    "How do we define sum types in an object-oriented language like Scala? Basically, we need _inheritance_, but of a special kind: _sealed_."
   ]
  },
  {
   "cell_type": "code",
   "execution_count": null,
   "metadata": {},
   "outputs": [],
   "source": [
    "// type Shape = Rectangle + Triangle + Circle \n",
    "\n",
    "sealed abstract class Shape\n",
    "case class Rectangle(width: Int, height: Int) extends Shape\n",
    "case class Triangle(width: Int) extends Shape\n",
    "case class Circle(radius: Int) extends Shape"
   ]
  },
  {
   "cell_type": "markdown",
   "metadata": {},
   "source": [
    "The keyword `sealed` prevents the extension of the inheritance hierarchy with new subclasses. \n",
    "\n",
    "We create values of type `Shape` by using the constructors of its subclasses:"
   ]
  },
  {
   "cell_type": "code",
   "execution_count": null,
   "metadata": {},
   "outputs": [],
   "source": [
    "val s1: Shape = Rectangle(1,1)\n",
    "val s2: Shape = Triangle(1)\n",
    "val s3: Shape = Circle(2)"
   ]
  },
  {
   "cell_type": "markdown",
   "metadata": {},
   "source": [
    "### Pattern matching"
   ]
  },
  {
   "cell_type": "markdown",
   "metadata": {},
   "source": [
    "How do we inspect these values? With _pattern matching_, as follows:"
   ]
  },
  {
   "cell_type": "code",
   "execution_count": null,
   "metadata": {},
   "outputs": [],
   "source": [
    "val s: String = s1 match {\n",
    "    // Rectangle => String\n",
    "    case r: Rectangle => \"Rectangle\" : String\n",
    "    // Triangle => String\n",
    "    case t: Triangle  => \"Triangle\"  : String \n",
    "    // Circle => String\n",
    "    case c: Circle    => \"Circle\"    : String\n",
    "}"
   ]
  },
  {
   "cell_type": "markdown",
   "metadata": {},
   "source": [
    "Each `case` declaration represents a function from the corresponding type to the common target result.\n",
    "\n",
    "Another example: let's implement a function that calculates the area of a shape:"
   ]
  },
  {
   "cell_type": "code",
   "execution_count": null,
   "metadata": {},
   "outputs": [],
   "source": [
    "import scala.math._\n",
    "\n",
    "def area(shape: Shape): Double = \n",
    "    shape match {\n",
    "        case r: Rectangle => r.width * r.height\n",
    "        case c: Circle => Pi * pow(c.radius, 2)\n",
    "        case t: Triangle => t.width * t.width / 2.0\n",
    "    }"
   ]
  },
  {
   "cell_type": "code",
   "execution_count": null,
   "metadata": {},
   "outputs": [],
   "source": [
    "area(Circle(1))"
   ]
  },
  {
   "cell_type": "code",
   "execution_count": null,
   "metadata": {},
   "outputs": [],
   "source": [
    "area(Rectangle(2,3))"
   ]
  },
  {
   "cell_type": "code",
   "execution_count": null,
   "metadata": {},
   "outputs": [],
   "source": [
    "area(Triangle(3))"
   ]
  },
  {
   "cell_type": "markdown",
   "metadata": {},
   "source": [
    "`Case` statements can use extractors to _deconstruct_ the value and access more directly its member attributes: "
   ]
  },
  {
   "cell_type": "code",
   "execution_count": null,
   "metadata": {},
   "outputs": [],
   "source": [
    "def area(shape: Shape): Double = \n",
    "    shape match {\n",
    "        case Rectangle(w, h) => w * h\n",
    "        case Circle(r) => Pi * pow(r, 2)\n",
    "        case Triangle(w) => w * w / 2.0\n",
    "    }"
   ]
  },
  {
   "cell_type": "markdown",
   "metadata": {},
   "source": [
    "This can also be used in `val` declarations:"
   ]
  },
  {
   "cell_type": "code",
   "execution_count": null,
   "metadata": {},
   "outputs": [],
   "source": [
    "val r: Rectangle = Rectangle(1,2)\n",
    "val r1@Rectangle(w,h) : Rectangle = Rectangle(1,2)\n",
    "val Rectangle(w1,h1) = Rectangle(1,2)"
   ]
  },
  {
   "cell_type": "markdown",
   "metadata": {},
   "source": [
    "More details on pattern matching in Scala can be found [here](https://docs.scala-lang.org/tour/pattern-matching.html)"
   ]
  },
  {
   "cell_type": "markdown",
   "metadata": {},
   "source": [
    "### The 0 type in Scala"
   ]
  },
  {
   "cell_type": "markdown",
   "metadata": {},
   "source": [
    "If the unit type was the identity element for product types, is there any identity type for sums of types? It has to be a type which satisfies the following conditions: \n",
    "\n",
    "- `|0 + A| = |A|`\n",
    "- `|A + 0| = |A|`\n",
    "\n",
    "But `|0 + A| = |0| + |A|`, so `|0| = 0`, i.e. the type `0` must inhabitated. In other words, it is a type such that there is no value of that type. \n"
   ]
  },
  {
   "cell_type": "markdown",
   "metadata": {},
   "source": [
    "The identity element of sums in Scala is the type `Nothing`. Since we can't create instances of this type, the only thing that we can do if we have to return a value of this type, or assign a variable of this type a value, is to throw an exception:"
   ]
  },
  {
   "cell_type": "code",
   "execution_count": null,
   "metadata": {},
   "outputs": [],
   "source": [
    "lazy val impossible: Nothing = throw new Exception(\"no value of type Nothing\")"
   ]
  },
  {
   "cell_type": "markdown",
   "metadata": {},
   "source": [
    "The isomorphism between `Int + 0` and `Int` is witnessed by the following functions:"
   ]
  },
  {
   "cell_type": "code",
   "execution_count": null,
   "metadata": {},
   "outputs": [],
   "source": [
    "// type IntOrNothing = Int + Nothing\n",
    "\n",
    "sealed abstract class IntOrNothing\n",
    "case class AnInt(i: Int) extends IntOrNothing\n",
    "case class Impossible(n: Nothing) extends IntOrNothing\n",
    "\n",
    "def fromInt(s: IntOrNothing): Int = \n",
    "    s match {\n",
    "        case AnInt(i) => i\n",
    "        case _ => throw new Exception(\"It can't happen\")\n",
    "    }\n",
    "\n",
    "def toIntOrNothing(i: Int): IntOrNothing = \n",
    "    AnInt(i)"
   ]
  },
  {
   "cell_type": "markdown",
   "metadata": {},
   "source": [
    "### Standard sum types in Scala"
   ]
  },
  {
   "cell_type": "markdown",
   "metadata": {},
   "source": [
    "The standard library of Scala provides two important sum types: [`Option`](https://www.scala-lang.org/api/current/scala/Option.html) and [`Either`](https://www.scala-lang.org/api/current/scala/util/Either.html). They can be defined as follows: "
   ]
  },
  {
   "cell_type": "code",
   "execution_count": null,
   "metadata": {},
   "outputs": [],
   "source": [
    "object StdSumTypes{\n",
    "    sealed abstract class Option[A]\n",
    "    case class Some[A](a: A) extends Option[A]\n",
    "    case class None[A]() extends Option[A]\n",
    "\n",
    "    sealed abstract class Either[A, B]\n",
    "    case class Left[A, B](a: A) extends Either[A, B]\n",
    "    case class Right[A, B](b: B) extends Either[A, B]\n",
    "}"
   ]
  },
  {
   "cell_type": "markdown",
   "metadata": {},
   "source": [
    "These types are important for error handling. We will see how they allow us to get rid of exceptions, at least in the part of our code that we wish to be purely functional. Here it's a small example:"
   ]
  },
  {
   "cell_type": "code",
   "execution_count": null,
   "metadata": {},
   "outputs": [],
   "source": [
    "// Using exceptions\n",
    "\n",
    "def divideWithExceptions(a: Double, b: Double): Double =\n",
    "    if (b==0) throw new Exception(\"divide by cero\")\n",
    "    else a/b"
   ]
  },
  {
   "cell_type": "code",
   "execution_count": null,
   "metadata": {},
   "outputs": [],
   "source": [
    "// divideWithExceptions(5,0)"
   ]
  },
  {
   "cell_type": "code",
   "execution_count": null,
   "metadata": {},
   "outputs": [],
   "source": [
    "// Using option\n",
    "\n",
    "def divideWithOption(a: Double, b: Double): Option[Double] =\n",
    "    if (b==0) Option.empty[Double]\n",
    "    else Some(a/b)"
   ]
  },
  {
   "cell_type": "markdown",
   "metadata": {},
   "source": [
    "We now return a value which indicates whether there was an error or not:"
   ]
  },
  {
   "cell_type": "code",
   "execution_count": null,
   "metadata": {},
   "outputs": [],
   "source": [
    "val maybeDouble: Option[Double] = divideWithOption(5, 0)"
   ]
  },
  {
   "cell_type": "code",
   "execution_count": null,
   "metadata": {},
   "outputs": [],
   "source": [
    "// Using Either\n",
    "\n",
    "def divideWithEither(a: Double, b: Double): Either[String, Double] =\n",
    "    if (b==0) Left(\"Divide by cero\")\n",
    "    else Right(a/b)"
   ]
  },
  {
   "cell_type": "markdown",
   "metadata": {},
   "source": [
    "And now a value which, in case of error indicates the reason:"
   ]
  },
  {
   "cell_type": "code",
   "execution_count": null,
   "metadata": {},
   "outputs": [],
   "source": [
    "val eitherDoubleOrString: Either[String, Double] = divideWithEither(5,0)"
   ]
  },
  {
   "cell_type": "markdown",
   "metadata": {},
   "source": [
    "### Working with sum types"
   ]
  },
  {
   "cell_type": "markdown",
   "metadata": {},
   "source": [
    "Similarly to what we did above with circles, we want now to display shapes: "
   ]
  },
  {
   "cell_type": "code",
   "execution_count": null,
   "metadata": {},
   "outputs": [],
   "source": [
    "def displayShape(s: Shape): Unit = ???"
   ]
  },
  {
   "cell_type": "markdown",
   "metadata": {},
   "source": [
    "We already implemented a function to display circles. We need now similar functions to display rectangles and triangles:"
   ]
  },
  {
   "cell_type": "code",
   "execution_count": null,
   "metadata": {},
   "outputs": [],
   "source": [
    "def circleToSVG(c: Circle): SVG = \n",
    "        s\"\"\"<svg width=\"200\" height=\"200\">\n",
    "              <circle cx=\"100\" cy=\"100\" r=${c.radius} fill=\"red\"/>\n",
    "            </svg>\"\"\"\n",
    "\n",
    "def triangleToSVG(c: Triangle): SVG = {\n",
    "    val height = math.sqrt(3) * c.width / 2\n",
    "    val x = 100-c.width/2\n",
    "    val y = 100+height/2\n",
    "    s\"\"\"<svg width=\"200\" height=\"200\">\n",
    "      <polygon points=\"$x,$y ${x+(c.width/2)},${y-height} ${x+c.width},$y\" fill=\"red\" />\n",
    "    </svg>\"\"\"\n",
    "}\n",
    "\n",
    "def rectangleToSVG(c: Rectangle): SVG = \n",
    "    s\"\"\"<svg width=\"200\" height=\"200\">\n",
    "       <rect width=${c.width} height=${c.height} fill=\"red\" />\n",
    "    </svg>\"\"\""
   ]
  },
  {
   "cell_type": "markdown",
   "metadata": {},
   "source": [
    "The function `toSVG` that translates shapes to SVG looks as follows:"
   ]
  },
  {
   "cell_type": "code",
   "execution_count": null,
   "metadata": {},
   "outputs": [],
   "source": [
    "def toSVG(s: Shape): SVG = \n",
    "    s match {\n",
    "        case r: Rectangle => rectangleToSVG(r)\n",
    "        case c: Circle => circleToSVG(c)\n",
    "        case t: Triangle => triangleToSVG(t)\n",
    "    }"
   ]
  },
  {
   "cell_type": "markdown",
   "metadata": {},
   "source": [
    "We can now define our function:"
   ]
  },
  {
   "cell_type": "code",
   "execution_count": null,
   "metadata": {},
   "outputs": [],
   "source": [
    "def displayShape(s: Shape): Unit = \n",
    "    display(HtmlData(toSVG(s)))"
   ]
  },
  {
   "cell_type": "code",
   "execution_count": null,
   "metadata": {},
   "outputs": [],
   "source": [
    "displayShape(Rectangle(200, 150))"
   ]
  },
  {
   "cell_type": "code",
   "execution_count": null,
   "metadata": {},
   "outputs": [],
   "source": [
    "displayShape(Triangle(200))"
   ]
  },
  {
   "cell_type": "markdown",
   "metadata": {},
   "source": [
    "### Objects = State + Behaviour"
   ]
  },
  {
   "cell_type": "markdown",
   "metadata": {},
   "source": [
    "The object-oriented way for writing this code would be something as follows:"
   ]
  },
  {
   "cell_type": "code",
   "execution_count": null,
   "metadata": {},
   "outputs": [],
   "source": [
    "abstract class Shape{\n",
    "    def toSVG: SVG\n",
    "}\n",
    "\n",
    "case class Rectangle(width: Int, height: Int) extends Shape{\n",
    "    def toSVG: SVG = ???\n",
    "}\n",
    "\n",
    "case class Triangle(width: Int) extends Shape{\n",
    "    def toSVG: SVG = ???\n",
    "}\n",
    "\n",
    "case class Circle(radius: Int) extends Shape{\n",
    "    def toSVG: SVG = ???\n",
    "}"
   ]
  },
  {
   "cell_type": "markdown",
   "metadata": {},
   "source": [
    "Basically, objects encapsulate state and behaviour. In functional programming, state and behaviour are completely *decoupled*. Data values are pure data, whereas behaviour is implemented through functions that interpret those values. This is done this way in order to improve modularity and allow both concerns to evolve independently. For instance, we may later add an interpreter `toEPS`, and we would not need to modify the inheritance hierarchy (the class `Shape` could even be out of our codebase). "
   ]
  },
  {
   "cell_type": "markdown",
   "metadata": {},
   "source": [
    "## More on pattern matching"
   ]
  },
  {
   "cell_type": "markdown",
   "metadata": {},
   "source": [
    "...."
   ]
  },
  {
   "cell_type": "markdown",
   "metadata": {},
   "source": [
    "guards, types, values, nested matching, ... "
   ]
  },
  {
   "cell_type": "code",
   "execution_count": null,
   "metadata": {},
   "outputs": [],
   "source": []
  }
 ],
 "metadata": {
  "kernelspec": {
   "display_name": "Scala",
   "language": "scala",
   "name": "scala"
  },
  "language_info": {
   "codemirror_mode": "text/x-scala",
   "file_extension": ".sc",
   "mimetype": "text/x-scala",
   "name": "scala",
   "nbconvert_exporter": "script",
   "version": "2.13.3"
  }
 },
 "nbformat": 4,
 "nbformat_minor": 2
}
