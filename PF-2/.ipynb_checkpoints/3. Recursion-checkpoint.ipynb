{
 "cells": [
  {
   "cell_type": "markdown",
   "metadata": {},
   "source": [
    "# Recursive data types and functions"
   ]
  },
  {
   "cell_type": "markdown",
   "metadata": {},
   "source": [
    "## Recursive types"
   ]
  },
  {
   "cell_type": "markdown",
   "metadata": {},
   "source": [
    "### The `List` type"
   ]
  },
  {
   "cell_type": "markdown",
   "metadata": {},
   "source": [
    "Lists are data structures which represent sequences of values of the same type, of finite length. They can be defined recursively in an informal way as follows: \n",
    "- A list is the empty sequence\n",
    "- A list is a non-empty sequence made of a value and another list, which represent the head and tail of the list, respectively\n",
    "\n",
    "Thus, the type `IntList`, which represents lists of integers, must satisfy the following equation:\n",
    "\n",
    "`IntList = 1 + Int * IntList`\n",
    "\n",
    "i.e., a list of integers is the empty sequence (represented by the singleton type `1`), or an integer (the head) and a list (its tail).\n",
    "\n"
   ]
  },
  {
   "cell_type": "markdown",
   "metadata": {},
   "source": [
    "The implementation in Scala is as follows (we also give the generic version `List[A]`, rather than the implementation of `IntList`):"
   ]
  },
  {
   "cell_type": "code",
   "execution_count": null,
   "metadata": {},
   "outputs": [],
   "source": [
    "sealed abstract class List[A]\n",
    "case class NonEmpty[A](head: A, tail: List[A]) extends List[A]\n",
    "case class Empty[A]() extends List[A]"
   ]
  },
  {
   "cell_type": "markdown",
   "metadata": {},
   "source": [
    "Note that the actual implementation of [immutable lists](https://github.com/scala/scala/blob/v2.13.1/src/library/scala/collection/immutable/List.scala#L79) in the standard library of Scala defines the empty list as an object, rather than a class. However, this forces us to declare the list covariantly in its generic parameter `A`, which is somewhat inconvenient at times.  The standard definition looks as follows:"
   ]
  },
  {
   "cell_type": "code",
   "execution_count": null,
   "metadata": {},
   "outputs": [],
   "source": [
    "object AlternativeDefinition{\n",
    "    sealed abstract class List[+A]\n",
    "    case class NonEmpty[A](head: A, tail: List[A]) extends List[A]\n",
    "    case object Empty extends List[Nothing]\n",
    "}"
   ]
  },
  {
   "cell_type": "markdown",
   "metadata": {},
   "source": [
    "We will stick to the former definition. Some examples of lists: "
   ]
  },
  {
   "cell_type": "code",
   "execution_count": null,
   "metadata": {},
   "outputs": [],
   "source": [
    "// The empty list\n",
    "val l0: List[Int] = Empty()"
   ]
  },
  {
   "cell_type": "code",
   "execution_count": null,
   "metadata": {},
   "outputs": [],
   "source": [
    "// Non-empty list [1, 2, 3]\n",
    "val l1: List[Int] = NonEmpty(1, NonEmpty(2, NonEmpty(3, Empty())))"
   ]
  },
  {
   "cell_type": "markdown",
   "metadata": {},
   "source": [
    "### Some syntactic sugar"
   ]
  },
  {
   "cell_type": "markdown",
   "metadata": {},
   "source": [
    "Note that we can write standard lists with a more compact syntax: "
   ]
  },
  {
   "cell_type": "code",
   "execution_count": null,
   "metadata": {},
   "outputs": [],
   "source": [
    "import scala.{List => IList}\n",
    "\n",
    "val l2: IList[Int] = 1 :: 2 :: 3 :: Nil\n",
    "val l3: IList[Int] = IList(1,2,3)"
   ]
  },
  {
   "cell_type": "markdown",
   "metadata": {},
   "source": [
    "How can we do that with out own lists? We define a smart constructor in the companion object using variadic arguments: "
   ]
  },
  {
   "cell_type": "code",
   "execution_count": null,
   "metadata": {},
   "outputs": [],
   "source": [
    "object List{\n",
    "    def apply[A](elem: A*): List[A] = \n",
    "        if (elem.isEmpty) Empty()\n",
    "        else NonEmpty(elem.head, apply(elem.tail: _*))\n",
    "}"
   ]
  },
  {
   "cell_type": "code",
   "execution_count": null,
   "metadata": {},
   "outputs": [],
   "source": [
    "val l1: List[Int] = List(1,2,3)"
   ]
  },
  {
   "cell_type": "markdown",
   "metadata": {},
   "source": [
    "Note that the smart constructor `apply` is defined recursively. Let's dive into recursion."
   ]
  },
  {
   "cell_type": "markdown",
   "metadata": {},
   "source": [
    "##  Recursive functions"
   ]
  },
  {
   "cell_type": "markdown",
   "metadata": {},
   "source": [
    "Since lists are defined recursively, functions over lists will be commonly recursive as well. For instance, let's implement a recursive function that computes the length of a list. But before, let's implement the function imperatively for the sake of comparison:"
   ]
  },
  {
   "cell_type": "code",
   "execution_count": null,
   "metadata": {},
   "outputs": [],
   "source": [
    "// Using mutable variables\n",
    "\n",
    "def lengthI[A](list: List[A]): Int = {\n",
    "    var acc: Int = 0\n",
    "    var aux: List[A] = list\n",
    "    while (aux != Empty()){\n",
    "        aux = aux.asInstanceOf[NonEmpty[A]].tail\n",
    "        acc += 1\n",
    "    }\n",
    "    acc\n",
    "}"
   ]
  },
  {
   "cell_type": "code",
   "execution_count": null,
   "metadata": {},
   "outputs": [],
   "source": [
    "lengthI(List())\n",
    "lengthI(List(1,2,3,4))"
   ]
  },
  {
   "cell_type": "markdown",
   "metadata": {},
   "source": [
    "The recursive function is implemented as follows: "
   ]
  },
  {
   "cell_type": "code",
   "execution_count": null,
   "metadata": {},
   "outputs": [],
   "source": [
    "// Using recursive functions\n",
    "\n",
    "def lengthR[A](list: List[A]): Int = \n",
    "    list match {\n",
    "        case Empty()           => 0\n",
    "        case NonEmpty(_, tail) => 1 + lengthR(tail)\n",
    "    }"
   ]
  },
  {
   "cell_type": "markdown",
   "metadata": {},
   "source": [
    "Some comments: \n",
    "- The recursive function is implemented in a _type-driven development_ style: we proceed, step-by-step, analysing the types of input data that we have available so far, and the types of output that we have to generate. This leads to a divide-and-conquer problem solving strategy and hugely facilitates the implementation.\n",
    "- The recursive function is less efficient, since the stack will blow up with lists of enough lenght."
   ]
  },
  {
   "cell_type": "markdown",
   "metadata": {},
   "source": [
    "### Tail-recursive functions"
   ]
  },
  {
   "cell_type": "markdown",
   "metadata": {},
   "source": [
    "The implementation using tail-recursion solves the problems with the stack. It commonly makes use of auxiliary functions:"
   ]
  },
  {
   "cell_type": "code",
   "execution_count": null,
   "metadata": {},
   "outputs": [],
   "source": [
    "// Using tail-recursive functions\n",
    "\n",
    "def lengthTR[A](list: List[A]): Int = {\n",
    "\n",
    "    @annotation.tailrec\n",
    "    def lengthAux(acc: Int, aux: List[A]): Int = \n",
    "        aux match {\n",
    "            case Empty() => acc\n",
    "            case NonEmpty(_, tail) => lengthAux(acc+1, tail)\n",
    "        }\n",
    "    \n",
    "    lengthAux(0, list)\n",
    "}"
   ]
  },
  {
   "cell_type": "code",
   "execution_count": null,
   "metadata": {},
   "outputs": [],
   "source": [
    "lengthTR(List())\n",
    "lengthTR(List(1,2,3))"
   ]
  },
  {
   "cell_type": "markdown",
   "metadata": {},
   "source": [
    "We can check the stack-safety problems of non-tail recursive functions, by calculating the length of a very big list. We will use the following function, which creates a constant list of given length."
   ]
  },
  {
   "cell_type": "code",
   "execution_count": null,
   "metadata": {},
   "outputs": [],
   "source": [
    "// First, imperatively\n",
    "\n",
    "def constantList[A](value: A, length: Int): List[A] = {\n",
    "    var acc: List[A] = Empty()\n",
    "    for (i <- 1 to length)\n",
    "        acc = NonEmpty(value, acc)\n",
    "    acc\n",
    "}"
   ]
  },
  {
   "cell_type": "code",
   "execution_count": null,
   "metadata": {},
   "outputs": [],
   "source": [
    "// Next, tail-recursively\n",
    "\n",
    "def constantList[A](value: A, length: Int): List[A] = {\n",
    "\n",
    "    def constantAux(acc: List[A], i: Int): List[A] = \n",
    "        if (i == 0) acc\n",
    "        else constantAux(NonEmpty(value, acc), i-1)\n",
    "    \n",
    "    constantAux(Empty(), length)\n",
    "}"
   ]
  },
  {
   "cell_type": "markdown",
   "metadata": {},
   "source": [
    "Now, let's calculate the length of a list long enough, using each of the three implementations:"
   ]
  },
  {
   "cell_type": "code",
   "execution_count": null,
   "metadata": {},
   "outputs": [],
   "source": [
    "// Imperatively\n",
    "lengthI(constantList(0, 100000))"
   ]
  },
  {
   "cell_type": "code",
   "execution_count": null,
   "metadata": {},
   "outputs": [],
   "source": [
    "// Tail-recursive\n",
    "lengthTR(constantList(0, 100000))"
   ]
  },
  {
   "cell_type": "code",
   "execution_count": null,
   "metadata": {},
   "outputs": [],
   "source": [
    "// Plain recursive\n",
    "lengthR(constantList(0, 100000))"
   ]
  },
  {
   "cell_type": "markdown",
   "metadata": {},
   "source": [
    "### Example: adding numbers"
   ]
  },
  {
   "cell_type": "markdown",
   "metadata": {},
   "source": [
    "Let's implement a function that sums all the numbers of a list."
   ]
  },
  {
   "cell_type": "code",
   "execution_count": null,
   "metadata": {},
   "outputs": [],
   "source": [
    "// Recursively\n",
    "\n",
    "def sum(list: List[Int]): Int = \n",
    "    list match {\n",
    "        case Empty() => 0 : Int\n",
    "        case NonEmpty(head, tail) => head + sum(tail) : Int \n",
    "    }"
   ]
  },
  {
   "cell_type": "code",
   "execution_count": null,
   "metadata": {},
   "outputs": [],
   "source": [
    "sum(List(1,2,3,4))"
   ]
  },
  {
   "cell_type": "code",
   "execution_count": null,
   "metadata": {},
   "outputs": [],
   "source": [
    "// With tail-recursion\n",
    "\n",
    "def sum(list: List[Int]): Int = {\n",
    "\n",
    "    def sumAux(acc: Int, list: List[Int]): Int = \n",
    "        list match {\n",
    "            case Empty() => acc : Int\n",
    "            case NonEmpty(head, tail) => sumAux(head + acc, tail) : Int \n",
    "        }\n",
    "    \n",
    "    sumAux(0, list)\n",
    "}"
   ]
  },
  {
   "cell_type": "code",
   "execution_count": null,
   "metadata": {},
   "outputs": [],
   "source": [
    "sum(List(1,2,3))"
   ]
  },
  {
   "cell_type": "markdown",
   "metadata": {},
   "source": [
    "### Example: multiplying list elements"
   ]
  },
  {
   "cell_type": "markdown",
   "metadata": {},
   "source": [
    "Let's multiply the elements of a list. If the list is empty we return the identity element for integers. This is the common recursive implementation:"
   ]
  },
  {
   "cell_type": "code",
   "execution_count": null,
   "metadata": {},
   "outputs": [],
   "source": [
    "def product(list: List[Int]): Int = \n",
    "    list match {\n",
    "        case Empty() => 1\n",
    "        case NonEmpty(head, tail) => \n",
    "            head * product(tail)\n",
    "    }"
   ]
  },
  {
   "cell_type": "markdown",
   "metadata": {},
   "source": [
    "It works as expected: "
   ]
  },
  {
   "cell_type": "code",
   "execution_count": null,
   "metadata": {},
   "outputs": [],
   "source": [
    "assert(product(List(1,2,3)) == 6)\n",
    "assert(product(List(1,2,0,3,4,5,6,6)) == 0)"
   ]
  },
  {
   "cell_type": "markdown",
   "metadata": {},
   "source": [
    "But we can optimize the function a little bit. Note that if the number 0 belongs to the list, then the result is 0, no matter how many elements the list has. So, once we find the element 0 it's a waste of resources to make the recursive call. Let's take this into account."
   ]
  },
  {
   "cell_type": "code",
   "execution_count": null,
   "metadata": {},
   "outputs": [],
   "source": [
    "def product(list: List[Int]): Int = \n",
    "    list match {\n",
    "        case Empty() => 1\n",
    "        // We add this extra case\n",
    "        case NonEmpty(0, _) => 0\n",
    "        case NonEmpty(head, tail) => head * product(tail)\n",
    "    }"
   ]
  },
  {
   "cell_type": "markdown",
   "metadata": {},
   "source": [
    "A similar optimization can be made for the tail-recursive implementation."
   ]
  },
  {
   "cell_type": "markdown",
   "metadata": {},
   "source": [
    "### Example: membership"
   ]
  },
  {
   "cell_type": "markdown",
   "metadata": {},
   "source": [
    "Let's implement a function that given a list and an element, returns whether the element belongs to that list."
   ]
  },
  {
   "cell_type": "code",
   "execution_count": null,
   "metadata": {},
   "outputs": [],
   "source": [
    "def member[A](list: List[A], elem: A): Boolean = \n",
    "    list match {\n",
    "        case Empty() => false\n",
    "        case NonEmpty(head, tail) => \n",
    "            head == elem || member(tail, elem)\n",
    "    }"
   ]
  },
  {
   "cell_type": "code",
   "execution_count": null,
   "metadata": {},
   "outputs": [],
   "source": [
    "assert(member(List(1,2,3), 0) == false)"
   ]
  },
  {
   "cell_type": "code",
   "execution_count": null,
   "metadata": {},
   "outputs": [],
   "source": [
    "assert(member(List(1,2,3), 2) == true)"
   ]
  },
  {
   "cell_type": "code",
   "execution_count": null,
   "metadata": {},
   "outputs": [],
   "source": [
    "assert(member(List(1,2,3), 4) == false)"
   ]
  },
  {
   "cell_type": "markdown",
   "metadata": {},
   "source": [
    "We can also pattern match against a specific value as follows:"
   ]
  },
  {
   "cell_type": "code",
   "execution_count": null,
   "metadata": {},
   "outputs": [],
   "source": [
    "def member[A](list: List[A], elem: A): Boolean = \n",
    "    list match {\n",
    "        case Empty() => false\n",
    "        case NonEmpty(`elem`, _) => true\n",
    "        case NonEmpty(_, tail) => member(tail, elem)\n",
    "    }"
   ]
  },
  {
   "cell_type": "code",
   "execution_count": null,
   "metadata": {},
   "outputs": [],
   "source": [
    "assert(member(List(1,2,3), 1) == true)"
   ]
  },
  {
   "cell_type": "code",
   "execution_count": null,
   "metadata": {},
   "outputs": [],
   "source": [
    "assert(member(List(), 1) == false)"
   ]
  },
  {
   "cell_type": "code",
   "execution_count": null,
   "metadata": {},
   "outputs": [],
   "source": [
    "assert(member(List(1,2,3), 4) == false)"
   ]
  },
  {
   "cell_type": "markdown",
   "metadata": {},
   "source": [
    "### Example: last element"
   ]
  },
  {
   "cell_type": "markdown",
   "metadata": {},
   "source": [
    "Let's implement a function that returns the last element of a given list. Note that an empty list does not have elements, and, hence, does not have a last element."
   ]
  },
  {
   "cell_type": "code",
   "execution_count": null,
   "metadata": {},
   "outputs": [],
   "source": [
    "// Recursively \n",
    "\n",
    "@annotation.tailrec\n",
    "def last[A](list: List[A]): Option[A] =\n",
    "    list match {\n",
    "        case Empty() => None\n",
    "        case NonEmpty(head, Empty()) => Some(head)\n",
    "        case NonEmpty(head, tail) => last(tail)\n",
    "    }"
   ]
  },
  {
   "cell_type": "code",
   "execution_count": null,
   "metadata": {},
   "outputs": [],
   "source": [
    "assert(last(List()) == None)"
   ]
  },
  {
   "cell_type": "code",
   "execution_count": null,
   "metadata": {},
   "outputs": [],
   "source": [
    "assert(last(List(1, 2)) == Some(2))"
   ]
  },
  {
   "cell_type": "markdown",
   "metadata": {},
   "source": [
    "### Example: insert last"
   ]
  },
  {
   "cell_type": "markdown",
   "metadata": {},
   "source": [
    "Now, a function that allows us to insert an element at the end of the list. "
   ]
  },
  {
   "cell_type": "code",
   "execution_count": null,
   "metadata": {},
   "outputs": [],
   "source": [
    "def insertLast[A](list: List[A], elem: A): List[A] = \n",
    "    list match {\n",
    "        case Empty() => List(elem)\n",
    "        case NonEmpty(head, tail) => \n",
    "            NonEmpty(head, insertLast(tail, elem))\n",
    "    }"
   ]
  },
  {
   "cell_type": "code",
   "execution_count": null,
   "metadata": {},
   "outputs": [],
   "source": [
    "assert(insertLast(List(), 1) == List(1))"
   ]
  },
  {
   "cell_type": "code",
   "execution_count": null,
   "metadata": {},
   "outputs": [],
   "source": [
    "assert(insertLast(List(1,2,3), 0) == List(1,2,3,0))"
   ]
  },
  {
   "cell_type": "markdown",
   "metadata": {},
   "source": [
    "### Example: concatenate lists"
   ]
  },
  {
   "cell_type": "markdown",
   "metadata": {},
   "source": [
    "Let's implement this function step-by-step, following the types. We start from the signature of the desired function:"
   ]
  },
  {
   "cell_type": "code",
   "execution_count": null,
   "metadata": {},
   "outputs": [],
   "source": [
    "def concatenate[A](list1: List[A], list2: List[A]): List[A] = ???"
   ]
  },
  {
   "cell_type": "markdown",
   "metadata": {},
   "source": [
    "1. Pattern match on `list1`:"
   ]
  },
  {
   "cell_type": "code",
   "execution_count": null,
   "metadata": {},
   "outputs": [],
   "source": [
    "def concatenate[A](list1: List[A], list2: List[A]): List[A] =\n",
    "    list1 match {\n",
    "        case Empty() => ??? : List[A]\n",
    "        case NonEmpty(head, tail) => ??? : List[A]\n",
    "    }"
   ]
  },
  {
   "cell_type": "markdown",
   "metadata": {},
   "source": [
    "2. Solve empty case:"
   ]
  },
  {
   "cell_type": "code",
   "execution_count": null,
   "metadata": {},
   "outputs": [],
   "source": [
    "def concatenate[A](list1: List[A], list2: List[A]): List[A] =\n",
    "    list1 match {\n",
    "        case Empty() => list2 : List[A]\n",
    "        case NonEmpty(head, tail) => ??? : List[A]\n",
    "    }"
   ]
  },
  {
   "cell_type": "markdown",
   "metadata": {},
   "source": [
    "3. Solve non-empty case:"
   ]
  },
  {
   "cell_type": "code",
   "execution_count": null,
   "metadata": {},
   "outputs": [],
   "source": [
    "def concatenate[A](list1: List[A], list2: List[A]): List[A] =\n",
    "    list1 match {\n",
    "        case Empty() => list2 : List[A]\n",
    "        case NonEmpty(head, tail) => \n",
    "            NonEmpty(head, concatenate(tail, list2)) : List[A]\n",
    "    }"
   ]
  },
  {
   "cell_type": "markdown",
   "metadata": {},
   "source": [
    "### Example: reverse lists"
   ]
  },
  {
   "cell_type": "code",
   "execution_count": null,
   "metadata": {},
   "outputs": [],
   "source": [
    "// Really inefficient \n",
    "\n",
    "def reverseR[A](list: List[A]): List[A] = \n",
    "    list match {\n",
    "        case Empty() => Empty()\n",
    "        case NonEmpty(head, tail) =>\n",
    "                concatenate(reverseR(tail), NonEmpty(head, Empty()))\n",
    "    }"
   ]
  },
  {
   "cell_type": "code",
   "execution_count": null,
   "metadata": {},
   "outputs": [],
   "source": [
    "// Tail-recursive, efficiently\n",
    "\n",
    "def reverseTR[A](list: List[A]): List[A] = {\n",
    "    def reverseAux(acc: List[A], list: List[A]): List[A] = \n",
    "        list match {\n",
    "            case Empty() => acc\n",
    "            case NonEmpty(head, tail) => \n",
    "                reverseAux(NonEmpty(head, acc), tail)\n",
    "        }\n",
    "    \n",
    "    reverseAux(Empty(), list)\n",
    "}"
   ]
  },
  {
   "cell_type": "code",
   "execution_count": null,
   "metadata": {},
   "outputs": [],
   "source": [
    "assert(reverseTR(List(1,2,3)) == List(3,2,1))"
   ]
  },
  {
   "cell_type": "markdown",
   "metadata": {},
   "source": [
    "### Example: tail-recursive concatenation"
   ]
  },
  {
   "cell_type": "code",
   "execution_count": null,
   "metadata": {},
   "outputs": [],
   "source": [
    "def concatenate[A](list1: List[A], list2: List[A]): List[A] = {\n",
    "\n",
    "    def concAux(acc: List[A], list: List[A]): List[A] = \n",
    "        list match {\n",
    "            case Empty() => acc\n",
    "            case NonEmpty(head, tail) => \n",
    "                concAux(NonEmpty(head, acc), tail)\n",
    "        }\n",
    "    \n",
    "    concAux(Empty(), concAux(concAux(Empty(), list1), list2))\n",
    "}"
   ]
  },
  {
   "cell_type": "code",
   "execution_count": null,
   "metadata": {},
   "outputs": [],
   "source": [
    "val l1 = List(1,2,3)\n",
    "\n",
    "assert(concatenate(l1, reverseTR(l1)) == List(1,2,3,3,2,1))"
   ]
  },
  {
   "cell_type": "markdown",
   "metadata": {},
   "source": [
    "### Example: drop elements"
   ]
  },
  {
   "cell_type": "markdown",
   "metadata": {},
   "source": [
    "Implement a function that drops the first _n_ elements of a list. If the number of elements to be dropped is lower than 0, then the same list must be returned."
   ]
  },
  {
   "cell_type": "code",
   "execution_count": null,
   "metadata": {},
   "outputs": [],
   "source": [
    "def drop[A](list: List[A], n: Int): List[A] = \n",
    "    (list, n) match {\n",
    "        case (NonEmpty(_, tail), n) if n > 0 => \n",
    "            drop(tail, n-1)\n",
    "        case (list, _) => \n",
    "            list\n",
    "    }"
   ]
  },
  {
   "cell_type": "code",
   "execution_count": null,
   "metadata": {},
   "outputs": [],
   "source": [
    "assert(drop(List(1,2,3,4,5,6), 3) == List(4,5,6))"
   ]
  },
  {
   "cell_type": "code",
   "execution_count": null,
   "metadata": {},
   "outputs": [],
   "source": [
    "assert(drop(List(1,2,3), 5) == List())"
   ]
  },
  {
   "cell_type": "code",
   "execution_count": null,
   "metadata": {},
   "outputs": [],
   "source": [
    "assert(drop(List(1,2,3), 0) == List(1,2,3))"
   ]
  },
  {
   "cell_type": "code",
   "execution_count": null,
   "metadata": {},
   "outputs": [],
   "source": []
  }
 ],
 "metadata": {
  "kernelspec": {
   "display_name": "Scala",
   "language": "scala",
   "name": "scala"
  },
  "language_info": {
   "codemirror_mode": "text/x-scala",
   "file_extension": ".scala",
   "mimetype": "text/x-scala",
   "name": "scala",
   "nbconvert_exporter": "script",
   "version": "2.13.0"
  }
 },
 "nbformat": 4,
 "nbformat_minor": 2
}
