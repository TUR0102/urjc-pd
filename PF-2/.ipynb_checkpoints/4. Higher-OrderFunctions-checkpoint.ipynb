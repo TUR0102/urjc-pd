{
 "cells": [
  {
   "cell_type": "markdown",
   "metadata": {},
   "source": [
    "# Higher-order functions"
   ]
  },
  {
   "cell_type": "markdown",
   "metadata": {},
   "source": [
    "Higher-order functions (HOFs) are functions which receive or return other functions. HOFs show that functions can be regarded as _values_, much in the same way than integers, booleans, product values, sum values, etc. We will see that higher-order functions are essential modularity devices, and we will introduce the most common higher-order functions that operate over many different data structures."
   ]
  },
  {
   "cell_type": "markdown",
   "metadata": {},
   "source": [
    "## Functions as values"
   ]
  },
  {
   "cell_type": "markdown",
   "metadata": {},
   "source": [
    "As we saw, functions are represented through methods in Scala (as in any other object-oriented language). But methods themselves can't be passed around and be returned by invocations. Therefore, the first thing to do in order to create HOFs in Scala is finding a way to reify methods. For instance, let's consider the following functions:"
   ]
  },
  {
   "cell_type": "code",
   "execution_count": null,
   "metadata": {},
   "outputs": [],
   "source": [
    "def addOneM(number: Int): Int = \n",
    "    number + 1\n",
    "\n",
    "def substractOneM(number: Int): Int = \n",
    "    number - 1 "
   ]
  },
  {
   "cell_type": "markdown",
   "metadata": {},
   "source": [
    "We want to implement a function that receives an integer-to-integer function, such as `addOneM`and `substractOneM`, and call this function over a given number. We may want to write something like this:"
   ]
  },
  {
   "cell_type": "code",
   "execution_count": null,
   "metadata": {},
   "outputs": [],
   "source": [
    "// def call(int2int(number: Int): Int, number: Int): Int = ???"
   ]
  },
  {
   "cell_type": "markdown",
   "metadata": {},
   "source": [
    "where the first argument `int2int` attempt to represent any function that receives an integer and returns another integer. "
   ]
  },
  {
   "cell_type": "markdown",
   "metadata": {},
   "source": [
    "This code is not legal in Scala, but we can create a new class whose only method is the function that we want to pass around:"
   ]
  },
  {
   "cell_type": "code",
   "execution_count": null,
   "metadata": {},
   "outputs": [],
   "source": [
    "abstract class FunctionInt2Int{\n",
    "    def apply(number: Int): Int\n",
    "}"
   ]
  },
  {
   "cell_type": "markdown",
   "metadata": {},
   "source": [
    "Now, we can implement the `call` HOF as follows: "
   ]
  },
  {
   "cell_type": "code",
   "execution_count": null,
   "metadata": {},
   "outputs": [],
   "source": [
    "def call(int2int: FunctionInt2Int, number: Int): Int = \n",
    "    int2int.apply(number)"
   ]
  },
  {
   "cell_type": "markdown",
   "metadata": {},
   "source": [
    "In order to use this HOF with the `addOneM` and `substractOneM` functions, we must create reified versions for them: "
   ]
  },
  {
   "cell_type": "code",
   "execution_count": null,
   "metadata": {},
   "outputs": [],
   "source": [
    "val addOneV: FunctionInt2Int = new FunctionInt2Int{\n",
    "    def apply(number: Int): Int = \n",
    "        number + 1\n",
    "}\n",
    "\n",
    "val substractOneV: FunctionInt2Int = new FunctionInt2Int{\n",
    "    def apply(number: Int): Int = \n",
    "        number - 1 \n",
    "}"
   ]
  },
  {
   "cell_type": "markdown",
   "metadata": {},
   "source": [
    "We call the `addOneV` and `substractOneV` function-values, i.e. functions represented as values. Now, we can use the `call` HOF as follows:"
   ]
  },
  {
   "cell_type": "code",
   "execution_count": null,
   "metadata": {},
   "outputs": [],
   "source": [
    "assert(call(addOneV, 5) == 6)"
   ]
  },
  {
   "cell_type": "code",
   "execution_count": null,
   "metadata": {},
   "outputs": [],
   "source": [
    "call(substractOneV, 5)"
   ]
  },
  {
   "cell_type": "markdown",
   "metadata": {},
   "source": [
    "### Standard functions in Scala"
   ]
  },
  {
   "cell_type": "markdown",
   "metadata": {},
   "source": [
    "The Scala programming language offers many facilities to work with functions as values. First, the standard library provides the following _generic_ types [`Function1`](https://www.scala-lang.org/api/current/scala/Function1.html), [`Function2`](https://www.scala-lang.org/api/current/scala/Function2.html), ...:"
   ]
  },
  {
   "cell_type": "code",
   "execution_count": null,
   "metadata": {},
   "outputs": [],
   "source": [
    "trait Function1[A, B]{\n",
    "    def apply(a: A): B\n",
    "}\n",
    "\n",
    "trait Function2[A, B, C]{\n",
    "    def apply(a: A, b: B): C\n",
    "}\n",
    "\n",
    "// up to Function22"
   ]
  },
  {
   "cell_type": "markdown",
   "metadata": {},
   "source": [
    "Using these standard classes, we can create the `addOneV` function-value in a similar way: "
   ]
  },
  {
   "cell_type": "code",
   "execution_count": null,
   "metadata": {},
   "outputs": [],
   "source": [
    "val addOneV: Function1[Int, Int] = new Function1[Int, Int]{\n",
    "    def apply(a: Int): Int = \n",
    "        a + 1\n",
    "}"
   ]
  },
  {
   "cell_type": "markdown",
   "metadata": {},
   "source": [
    "But we can do it more easily, since Scala also provides special syntax to declare function types and create functions (so-called _lambda expressions_):"
   ]
  },
  {
   "cell_type": "code",
   "execution_count": null,
   "metadata": {},
   "outputs": [],
   "source": [
    "val addOneV: Int => Int = \n",
    "    (a: Int) => a + 1\n",
    "\n",
    "val substractOneV: Int => Int = \n",
    "    (a: Int) => a - 1"
   ]
  },
  {
   "cell_type": "markdown",
   "metadata": {},
   "source": [
    "And we can also profit from type inference:"
   ]
  },
  {
   "cell_type": "code",
   "execution_count": null,
   "metadata": {},
   "outputs": [],
   "source": [
    "val addOneV: Int => Int = \n",
    "    a => a + 1\n",
    "\n",
    "val substractOneV: Int => Int = \n",
    "    a => a - 1"
   ]
  },
  {
   "cell_type": "markdown",
   "metadata": {},
   "source": [
    "Using these syntactic facilities we can write the `call` HOF more easily: "
   ]
  },
  {
   "cell_type": "code",
   "execution_count": null,
   "metadata": {},
   "outputs": [],
   "source": [
    "def call(int2int: Int => Int, number: Int): Int = \n",
    "    // int2int.apply(number)\n",
    "    int2int(number)"
   ]
  },
  {
   "cell_type": "markdown",
   "metadata": {},
   "source": [
    "which we can use as follows:"
   ]
  },
  {
   "cell_type": "code",
   "execution_count": null,
   "metadata": {},
   "outputs": [],
   "source": [
    "call(addOneV, 1)\n",
    "call(substractOneV, 1)"
   ]
  },
  {
   "cell_type": "markdown",
   "metadata": {},
   "source": [
    "We can even pass function-methods that are converted on the fly to function-values (this is the so-called _eta-expansion_):"
   ]
  },
  {
   "cell_type": "code",
   "execution_count": null,
   "metadata": {},
   "outputs": [],
   "source": [
    "call(addOneM, 1)\n",
    "call(substractOneM, 1)"
   ]
  },
  {
   "cell_type": "markdown",
   "metadata": {},
   "source": [
    "### Currying"
   ]
  },
  {
   "cell_type": "markdown",
   "metadata": {},
   "source": [
    "We can use a similar syntax for functions of two arguments. So, instead of writing the more verbose:"
   ]
  },
  {
   "cell_type": "code",
   "execution_count": null,
   "metadata": {},
   "outputs": [],
   "source": [
    "val sum: Function2[Int, Int, Int] = new Function2[Int, Int, Int]{\n",
    "    def apply(a: Int, b: Int): Int = \n",
    "         a + b\n",
    "}"
   ]
  },
  {
   "cell_type": "markdown",
   "metadata": {},
   "source": [
    "we can create a lambda expressions for a `Function2` value in the following way:"
   ]
  },
  {
   "cell_type": "code",
   "execution_count": null,
   "metadata": {},
   "outputs": [],
   "source": [
    "val sum: (Int, Int) => Int = \n",
    "    (a: Int, b: Int) => a + b"
   ]
  },
  {
   "cell_type": "markdown",
   "metadata": {},
   "source": [
    "or, exploiting type inference:"
   ]
  },
  {
   "cell_type": "code",
   "execution_count": null,
   "metadata": {},
   "outputs": [],
   "source": [
    "val sum: (Int, Int) => Int = \n",
    "    (a, b) => a + b "
   ]
  },
  {
   "cell_type": "markdown",
   "metadata": {},
   "source": [
    "However, `Function2`, `Function3`, ... classes are not extrictly necessary, and sometimes we can get along with `Function1`. But, how can we create a function of two arguments with `Function1` alone? The trick is the following:"
   ]
  },
  {
   "cell_type": "code",
   "execution_count": null,
   "metadata": {},
   "outputs": [],
   "source": [
    "def sumC: Int => (Int => Int) = \n",
    "    (a: Int) => (b: Int) => a + b : Int"
   ]
  },
  {
   "cell_type": "markdown",
   "metadata": {},
   "source": [
    "Note that brackets in `Int => (Int => Int)` are used for clarity, but are not needed. Basically, we created a function of one argument that returns another function of one argument. So, the expression: "
   ]
  },
  {
   "cell_type": "code",
   "execution_count": null,
   "metadata": {},
   "outputs": [],
   "source": [
    "sumC(1): (Int => Int)"
   ]
  },
  {
   "cell_type": "markdown",
   "metadata": {},
   "source": [
    "returns a function that can be applied again:"
   ]
  },
  {
   "cell_type": "code",
   "execution_count": null,
   "metadata": {},
   "outputs": [],
   "source": [
    "sumC(1)(2)"
   ]
  },
  {
   "cell_type": "markdown",
   "metadata": {},
   "source": [
    "We can apply this strategy to functions of any number of arguments. This is called _currying_."
   ]
  },
  {
   "cell_type": "markdown",
   "metadata": {},
   "source": [
    "### Improved unit testing"
   ]
  },
  {
   "cell_type": "code",
   "execution_count": 1,
   "metadata": {},
   "outputs": [
    {
     "data": {
      "text/plain": [
       "\u001b[32mimport \u001b[39m\u001b[36m$ivy.$                               \n",
       "\u001b[39m\n",
       "\u001b[32mimport \u001b[39m\u001b[36morg.scalatest._\u001b[39m"
      ]
     },
     "execution_count": 1,
     "metadata": {},
     "output_type": "execute_result"
    }
   ],
   "source": [
    "import $ivy.`org.scalatest::scalatest:3.0.8`\n",
    "import org.scalatest._"
   ]
  },
  {
   "cell_type": "markdown",
   "metadata": {},
   "source": [
    "Using higher-order functions we can create test catalogues which are parameterised by the function to be tested. For instance, let's consider the following two alternative implementations:"
   ]
  },
  {
   "cell_type": "code",
   "execution_count": null,
   "metadata": {},
   "outputs": [],
   "source": [
    "// Recursively\n",
    "\n",
    "def sumR(list: List[Int]): Int = \n",
    "    list match {\n",
    "        case Nil => 0 : Int\n",
    "        case head :: tail => head + sumR(tail) : Int \n",
    "    }"
   ]
  },
  {
   "cell_type": "code",
   "execution_count": null,
   "metadata": {},
   "outputs": [],
   "source": [
    "// With tail-recursion\n",
    "\n",
    "def sumTR(list: List[Int]): Int = {\n",
    "\n",
    "    def sumAux(acc: Int, list: List[Int]): Int = \n",
    "        list match {\n",
    "            case Nil => acc : Int\n",
    "            case head :: tail => sumAux(head + acc, tail) : Int \n",
    "        }\n",
    "    \n",
    "    sumAux(0, list)\n",
    "}"
   ]
  },
  {
   "cell_type": "markdown",
   "metadata": {},
   "source": [
    "Instead of creating ad-hoc test catalogues for each alternative, we can create a single one that receives the function to be tested as argument as follows:"
   ]
  },
  {
   "cell_type": "code",
   "execution_count": null,
   "metadata": {},
   "outputs": [],
   "source": [
    "/*\n",
    "object TestSumR extends FlatSpec with Matchers{\n",
    "    \"length\" should \"work\" in {\n",
    "        sumR(List()) shouldBe 0 \n",
    "        sumR(List(1)) shouldBe 1 \n",
    "        sumR(List(1,2,3,4)) shouldBe 10\n",
    "    }\n",
    "}\n",
    "*/\n",
    "\n",
    "class TestSum(sum: List[Int] => Int) extends FlatSpec with Matchers{\n",
    "    \"length\" should \"work\" in {\n",
    "        sum(List()) shouldBe 0 \n",
    "        sum(List(1)) shouldBe 1 \n",
    "        sum(List(1,2,3,4)) shouldBe 10\n",
    "    }\n",
    "}"
   ]
  },
  {
   "cell_type": "markdown",
   "metadata": {},
   "source": [
    "Now, we can test the `sumR` and `sumTR` functions by reusing the same test catalogue:"
   ]
  },
  {
   "cell_type": "code",
   "execution_count": null,
   "metadata": {},
   "outputs": [],
   "source": [
    "run(new TestSum(sumR))"
   ]
  },
  {
   "cell_type": "code",
   "execution_count": null,
   "metadata": {},
   "outputs": [],
   "source": [
    "run(new TestSum(sumTR))"
   ]
  },
  {
   "cell_type": "markdown",
   "metadata": {},
   "source": [
    "## Functions compose"
   ]
  },
  {
   "cell_type": "markdown",
   "metadata": {},
   "source": [
    "We can create new functions by composing other functions whose signatures match. This is great from a modularity perspective. For instance, the following function is implemented in a non-modular way:"
   ]
  },
  {
   "cell_type": "code",
   "execution_count": null,
   "metadata": {},
   "outputs": [],
   "source": [
    "def isEvenLength: String => Boolean = \n",
    "    (s: String) => s.length % 2 == 0"
   ]
  },
  {
   "cell_type": "markdown",
   "metadata": {},
   "source": [
    "This function is somehow the combination of two more basic functions `length` and `isEven`:"
   ]
  },
  {
   "cell_type": "code",
   "execution_count": 2,
   "metadata": {},
   "outputs": [
    {
     "data": {
      "text/plain": [
       "defined \u001b[32mfunction\u001b[39m \u001b[36mlength\u001b[39m"
      ]
     },
     "execution_count": 2,
     "metadata": {},
     "output_type": "execute_result"
    }
   ],
   "source": [
    "def length: String => Int = \n",
    "    s => s.length"
   ]
  },
  {
   "cell_type": "code",
   "execution_count": 3,
   "metadata": {},
   "outputs": [
    {
     "data": {
      "text/plain": [
       "defined \u001b[32mfunction\u001b[39m \u001b[36misEven\u001b[39m"
      ]
     },
     "execution_count": 3,
     "metadata": {},
     "output_type": "execute_result"
    }
   ],
   "source": [
    "def isEven: Int => Boolean = \n",
    "    i => i % 2 == 0"
   ]
  },
  {
   "cell_type": "markdown",
   "metadata": {},
   "source": [
    "but this is not reflected in the current implementation. How can we redefine the function `isEvenLength` from the functions `length` and `isEven`? We can use a HOF which is able to compose functions:"
   ]
  },
  {
   "cell_type": "code",
   "execution_count": null,
   "metadata": {},
   "outputs": [],
   "source": [
    "def compose[A, B, C](f2: B => C, f1: A => B): A => C = \n",
    "    (a: A) => f2(f1(a))"
   ]
  },
  {
   "cell_type": "markdown",
   "metadata": {},
   "source": [
    "Then, we can redefine `isEvenLength` in a modular way from the `length` and `isEven` building blocks:"
   ]
  },
  {
   "cell_type": "code",
   "execution_count": null,
   "metadata": {},
   "outputs": [],
   "source": [
    "val isEvenLength: String => Boolean = \n",
    "    compose(isEven, length)"
   ]
  },
  {
   "cell_type": "markdown",
   "metadata": {},
   "source": [
    "The HOF `compose` is actually defined by `Function1`: "
   ]
  },
  {
   "cell_type": "code",
   "execution_count": null,
   "metadata": {},
   "outputs": [],
   "source": [
    "val isEvenLength: String => Boolean = \n",
    "    isEven.compose(length)"
   ]
  },
  {
   "cell_type": "markdown",
   "metadata": {},
   "source": [
    "or using infix notation:"
   ]
  },
  {
   "cell_type": "code",
   "execution_count": null,
   "metadata": {},
   "outputs": [],
   "source": [
    "val isEvenLength: String => Boolean = \n",
    "    isEven compose length"
   ]
  },
  {
   "cell_type": "markdown",
   "metadata": {},
   "source": [
    "Note that a similar function to `compose`, called `andThen`, is also available: "
   ]
  },
  {
   "cell_type": "code",
   "execution_count": null,
   "metadata": {},
   "outputs": [],
   "source": [
    "val isEvenLength: String => Boolean = \n",
    "    length andThen isEven"
   ]
  },
  {
   "cell_type": "markdown",
   "metadata": {},
   "source": [
    "Also, there is a function which behaves as the identity element with respect to the operation `compose`:"
   ]
  },
  {
   "cell_type": "code",
   "execution_count": null,
   "metadata": {},
   "outputs": [],
   "source": [
    "def identity[A]: A => A = \n",
    "    (a: A) => a"
   ]
  },
  {
   "cell_type": "markdown",
   "metadata": {},
   "source": [
    "No matter which other function we choose to compose with the `identity` function, the result will be that function:\n",
    "1. `identity[B] compose f == f` for all `f: A => B`\n",
    "2. `f compose identity[A] == f` for all `f: A => B`"
   ]
  },
  {
   "cell_type": "markdown",
   "metadata": {},
   "source": [
    "## HOFs as modularity devices"
   ]
  },
  {
   "cell_type": "markdown",
   "metadata": {},
   "source": [
    "HOFs shine when the time comes to break monoliths. For instance, let's consider the following two functions:"
   ]
  },
  {
   "cell_type": "code",
   "execution_count": null,
   "metadata": {},
   "outputs": [],
   "source": [
    "def sum(list: List[Int]): Int = \n",
    "    list match {\n",
    "        case Nil => 0\n",
    "        case head :: tail => head + sum(tail)\n",
    "    }"
   ]
  },
  {
   "cell_type": "code",
   "execution_count": null,
   "metadata": {},
   "outputs": [],
   "source": [
    "def multiply(list: List[Int]): Int = \n",
    "    list match {\n",
    "        case Nil => 1\n",
    "        case head :: tail => head * multiply(tail)\n",
    "    }"
   ]
  },
  {
   "cell_type": "markdown",
   "metadata": {},
   "source": [
    "These functions clearly share a common logic; their only differences are the value which is returned when the list is empty, and the function used to combine numbers (`+` and `*`, respectively). We can abstract away these differences and arrive to a more generic function which encodes that common logic:"
   ]
  },
  {
   "cell_type": "code",
   "execution_count": null,
   "metadata": {},
   "outputs": [],
   "source": [
    "def combine(list: List[Int])(nil: Int, cons: (Int, Int) => Int): Int = \n",
    "    list match {\n",
    "        case Nil => nil\n",
    "        case head :: tail => cons(head, combine(tail)(nil, cons))\n",
    "    }"
   ]
  },
  {
   "cell_type": "markdown",
   "metadata": {},
   "source": [
    "which allows us to re-define in a modular way the `sum` and `multiply` functions:"
   ]
  },
  {
   "cell_type": "code",
   "execution_count": null,
   "metadata": {},
   "outputs": [],
   "source": [
    "def sum(list: List[Int]): Int = \n",
    "    combine(list)(0, (a, b) => a + b)"
   ]
  },
  {
   "cell_type": "code",
   "execution_count": null,
   "metadata": {},
   "outputs": [],
   "source": [
    "def multiply(list: List[Int]): Int = \n",
    "    combine(list)(1, _ * _)"
   ]
  },
  {
   "cell_type": "markdown",
   "metadata": {},
   "source": [
    "But we don't need to constrain ourselves to integers. In its generic version, the `combine` function is actually the `foldRight` higher-order function (for `List`'s):"
   ]
  },
  {
   "cell_type": "code",
   "execution_count": null,
   "metadata": {},
   "outputs": [],
   "source": [
    "def foldRight[A, B](list: List[A])(nil: B, cons: (A, B) => B): B = \n",
    "    list match {\n",
    "        case Nil => nil\n",
    "        case head :: tail => cons(head, foldRight(tail)(nil, cons))\n",
    "    }"
   ]
  },
  {
   "cell_type": "markdown",
   "metadata": {},
   "source": [
    "Graphically, we can explain the behaviour of `foldRight` as follows: "
   ]
  },
  {
   "cell_type": "markdown",
   "metadata": {},
   "source": [
    "![with elements](images/foldRight.1.svg)\n",
    "(all images credit to [Scala Visual Reference](https://superruzafa.github.io/visual-scala-reference/))"
   ]
  },
  {
   "cell_type": "markdown",
   "metadata": {},
   "source": [
    "The implementation of `sum` and `multiply` using `foldRight` is no more difficult:"
   ]
  },
  {
   "cell_type": "code",
   "execution_count": null,
   "metadata": {},
   "outputs": [],
   "source": [
    "def sum(list: List[Int]): Int = \n",
    "    foldRight[Int, Int](list)(0, _ + _)"
   ]
  },
  {
   "cell_type": "code",
   "execution_count": null,
   "metadata": {},
   "outputs": [],
   "source": [
    "def multiply(list: List[Int]): Int = \n",
    "    foldRight(list)(1, (a: Int, b: Int) => a * b)"
   ]
  },
  {
   "cell_type": "markdown",
   "metadata": {},
   "source": [
    "although you may have noticed that we have to give extra type information in the invocations to `foldRight`. In fact, the following code doesn't compile. Check it yourself!"
   ]
  },
  {
   "cell_type": "code",
   "execution_count": null,
   "metadata": {},
   "outputs": [],
   "source": [
    "/*\n",
    "def multiply(list: List[Int]): Int = \n",
    "    foldRight(list)(1, (a, b) => a * b)\n",
    "*/"
   ]
  },
  {
   "cell_type": "markdown",
   "metadata": {},
   "source": [
    "In order to help the Scala compiler to infer the type parameters of the `foldRight` function, we need to change its signature a little bit: "
   ]
  },
  {
   "cell_type": "code",
   "execution_count": 48,
   "metadata": {},
   "outputs": [
    {
     "data": {
      "text/plain": [
       "defined \u001b[32mfunction\u001b[39m \u001b[36mfoldRight\u001b[39m"
      ]
     },
     "execution_count": 48,
     "metadata": {},
     "output_type": "execute_result"
    }
   ],
   "source": [
    "def foldRight[A, B](list: List[A])(nil: B)(cons: (A, B) => B): B = \n",
    "    list match {\n",
    "        case Nil => nil\n",
    "        case head :: tail => cons(head, foldRight(tail)(nil)(cons))\n",
    "    }"
   ]
  },
  {
   "cell_type": "markdown",
   "metadata": {},
   "source": [
    "By splitting the second parameter list, we allow the Scala compiler to infer the type of `B`, before it analyses the type of the `cons` argument. Now this works:"
   ]
  },
  {
   "cell_type": "code",
   "execution_count": null,
   "metadata": {},
   "outputs": [],
   "source": [
    "foldRight(List(1,2,3))(1)(_*_)"
   ]
  },
  {
   "cell_type": "markdown",
   "metadata": {},
   "source": [
    "## The Hall of Fame of HOFs"
   ]
  },
  {
   "cell_type": "markdown",
   "metadata": {},
   "source": [
    "Besides `compose`, `andThen` and `foldRight`, there are other famous higher-order functions which work great as modularity devices: "
   ]
  },
  {
   "cell_type": "code",
   "execution_count": null,
   "metadata": {},
   "outputs": [],
   "source": [
    "def foldLeft[A, B](list: List[A])(b: B)(f: (B, A) => B): B = ???\n",
    "def filter[A](list: List[A])(f: A => Boolean): List[A] = ???\n",
    "def map[A, B](list: List[A])(f: A => B): List[B] = ???\n",
    "def flatMap[A, B](list: List[A])(f: A => List[B]): List[B] = ???"
   ]
  },
  {
   "cell_type": "markdown",
   "metadata": {},
   "source": [
    "But most of these functions do not work only for `List`, they work also for `Option`, `Either[A, ?]`, and many other data structures. For instance, for `Option`:"
   ]
  },
  {
   "cell_type": "code",
   "execution_count": null,
   "metadata": {},
   "outputs": [],
   "source": [
    "def fold[A, B](opt: Option[A])(none: B)(some: A => B): B = ???\n",
    "def filter[A](opt: Option[A])(f: A => Boolean): Option[A] = ???\n",
    "def map[A, B](opt: Option[A])(f: A => B): Option[B] = ???  \n",
    "def flatMap[A, B](opt: Option[A])(f: A => Option[B] ): Option[B] = ???"
   ]
  },
  {
   "cell_type": "code",
   "execution_count": null,
   "metadata": {},
   "outputs": [],
   "source": [
    "def fold[A, B, C](opt: Either[A, B])(left: A => C, right: B => C): C = ???\n",
    "def filter[A, B](opt: Either[A, B])(f: B => Boolean): Either[A, B] = ???\n",
    "def map[A, B, C](opt: Either[A, B])(f: B => C): Either[A, C] = ???  \n",
    "def flatMap[A, B, C](opt: Either[A, B])(f: B => Either[A, C] ): Either[A, C] = ???"
   ]
  },
  {
   "cell_type": "markdown",
   "metadata": {},
   "source": [
    "The `fold` function is the catamorphism for `Option` and `Either[A, ?]`, in the same way than `foldRight` is the catamorphism for lists (we will see catamorphisms later on). "
   ]
  },
  {
   "cell_type": "markdown",
   "metadata": {},
   "source": [
    "## FoldLeft: a better loop"
   ]
  },
  {
   "cell_type": "markdown",
   "metadata": {},
   "source": [
    "The `foldLeft` HOF is the functional way to implement common imperative algorithms. In the following implementation, its signature declares the initial value of a mutable variable, and the update function executed in every step of the loop:"
   ]
  },
  {
   "cell_type": "code",
   "execution_count": null,
   "metadata": {},
   "outputs": [],
   "source": [
    "def foldLeft[A, B](list: List[A])(initial: B)(update: (B, A) => B): B = {\n",
    "    var out: B = initial\n",
    "    for (elem <- list) \n",
    "        out = update(out, elem)\n",
    "    out\n",
    "}"
   ]
  },
  {
   "cell_type": "markdown",
   "metadata": {},
   "source": [
    "Also, the `foldLeft` function is typically used where a tail-recursive function is needed. Its recursive implementation is naturally tail-recursive:"
   ]
  },
  {
   "cell_type": "code",
   "execution_count": null,
   "metadata": {},
   "outputs": [],
   "source": [
    "@annotation.tailrec\n",
    "def foldLeft[A, B](list: List[A])(out: B)(update: (B, A) => B): B =\n",
    "    list match {\n",
    "        case Nil => out\n",
    "        case head :: tail => \n",
    "            foldLeft(tail)(update(out, head))(update)\n",
    "    }"
   ]
  },
  {
   "cell_type": "markdown",
   "metadata": {},
   "source": [
    "Using `foldLeft` we can implement functions at a higher-level of abstraction, i.e. using constructs which are nearer to the problem-domain, without caring about mutable variables, tail-safe recursion, etc. Its use also leads to very concise (and readable!) implementations. For instance, these are one-liner implementations of many of the functions of the last notebook on recursive functions:"
   ]
  },
  {
   "cell_type": "code",
   "execution_count": null,
   "metadata": {},
   "outputs": [],
   "source": [
    "def length[A](list: List[A]): Int = \n",
    "    foldLeft(list)(0)((out: Int, _: A) => out + 1)"
   ]
  },
  {
   "cell_type": "code",
   "execution_count": null,
   "metadata": {},
   "outputs": [],
   "source": [
    "def sum(list: List[Int]): Int = \n",
    "    foldLeft(list)(0)(_ + _)"
   ]
  },
  {
   "cell_type": "code",
   "execution_count": null,
   "metadata": {},
   "outputs": [],
   "source": [
    "def reverse[A](list: List[A]): List[A] = \n",
    "    foldLeft(list)(List[A]())((out: List[A], a: A) => a :: out)"
   ]
  },
  {
   "cell_type": "markdown",
   "metadata": {},
   "source": [
    "## The `map` HOF"
   ]
  },
  {
   "cell_type": "markdown",
   "metadata": {},
   "source": [
    "The `map` function is one of the essential HOFs. Its purpose is applying a function to the elements of a data structure, in such a way that the relationships between these elements are not modified. The only thing that must be changed is the _content_ of the data structure, not its _shape_. This condition is expressed in the following equations:\n",
    "\n",
    "1. `map(list)(identity) == list` for all `list: List[A]`\n",
    "2. `map(map(list)(f))(g) == map(list)(g compose f)` for all `list: List[A]`, `f: A => B`, `g: B => C`"
   ]
  },
  {
   "cell_type": "markdown",
   "metadata": {},
   "source": [
    "![map](images/map.svg)"
   ]
  },
  {
   "cell_type": "markdown",
   "metadata": {},
   "source": [
    "The implementation for lists can be done as follows:"
   ]
  },
  {
   "cell_type": "code",
   "execution_count": 5,
   "metadata": {},
   "outputs": [
    {
     "data": {
      "text/plain": [
       "defined \u001b[32mfunction\u001b[39m \u001b[36mmap\u001b[39m"
      ]
     },
     "execution_count": 5,
     "metadata": {},
     "output_type": "execute_result"
    }
   ],
   "source": [
    "def map[A, B](list: List[A])(f: A => B): List[B] = \n",
    "    list match {\n",
    "        case Nil => Nil \n",
    "        case head :: tail => \n",
    "            f(head) :: map(tail)(f)\n",
    "    }"
   ]
  },
  {
   "cell_type": "code",
   "execution_count": 6,
   "metadata": {},
   "outputs": [
    {
     "data": {
      "text/plain": [
       "defined \u001b[32mclass\u001b[39m \u001b[36mTestMap\u001b[39m"
      ]
     },
     "execution_count": 6,
     "metadata": {},
     "output_type": "execute_result"
    }
   ],
   "source": [
    "class TestMap(\n",
    "    map: List[Int] => (Int => Boolean) => List[Boolean]\n",
    ") extends FlatSpec with Matchers{\n",
    "    \"mapping an empty list\" should \"return an empty list\" in {\n",
    "        map(List())(isEven) shouldBe List()\n",
    "    }\n",
    "    \n",
    "    \"mapping an non-empty list\" should \"only change its content\" in {\n",
    "        map(List(1))(isEven) shouldBe List(false)\n",
    "        map(List(1,2))(isEven) shouldBe List(false, true)\n",
    "        map(List(1,2,3))(isEven) shouldBe List(false, true, false)\n",
    "    }\n",
    "}"
   ]
  },
  {
   "cell_type": "code",
   "execution_count": 7,
   "metadata": {},
   "outputs": [
    {
     "name": "stdout",
     "output_type": "stream",
     "text": [
      "\u001b[32mcmd5$Helper$TestMap:\u001b[0m\n",
      "\u001b[32mmapping an empty list\u001b[0m\n",
      "\u001b[32m- should return an empty list\u001b[0m\n",
      "\u001b[32mmapping an non-empty list\u001b[0m\n",
      "\u001b[32m- should only change its content\u001b[0m\n"
     ]
    }
   ],
   "source": [
    "run(new TestMap(map[Int, Boolean]))"
   ]
  },
  {
   "cell_type": "markdown",
   "metadata": {},
   "source": [
    "The implementation of `map` is really close to the implementation of `foldRight`. Indeed, we can give a more modular implementation using this more basic HOF: "
   ]
  },
  {
   "cell_type": "code",
   "execution_count": null,
   "metadata": {},
   "outputs": [],
   "source": [
    "/*\n",
    "def foldRight[A, B](list: List[A])(nil: B)(cons: (A, B) => B): B = \n",
    "    list match {\n",
    "        case Nil => nil\n",
    "        case head :: tail => cons(head, foldRight(tail)(nil)(cons))\n",
    "    }\n",
    "*/\n",
    "\n",
    "def mapFR[A, B](list: List[A])(f: A => B): List[B] = \n",
    "    foldRight(list)(Nil: List[B])((a, l) => f(a) :: l)"
   ]
  },
  {
   "cell_type": "code",
   "execution_count": null,
   "metadata": {},
   "outputs": [],
   "source": [
    "run(new TestMap(mapFR))"
   ]
  },
  {
   "cell_type": "markdown",
   "metadata": {},
   "source": [
    "### `map` for `Option`"
   ]
  },
  {
   "cell_type": "markdown",
   "metadata": {},
   "source": [
    "The implementation of the `map` function given above works over lists, but we can also map optional values and many other data structures. The implementation for the data structure `Option` must satisfy the following test:"
   ]
  },
  {
   "cell_type": "code",
   "execution_count": 8,
   "metadata": {},
   "outputs": [
    {
     "data": {
      "text/plain": [
       "defined \u001b[32mclass\u001b[39m \u001b[36mTestMapOption\u001b[39m"
      ]
     },
     "execution_count": 8,
     "metadata": {},
     "output_type": "execute_result"
    }
   ],
   "source": [
    "class TestMapOption(\n",
    "    map: Option[Int] => (Int => Boolean) => Option[Boolean]\n",
    ") extends FlatSpec with Matchers{\n",
    "    \n",
    "    \"mapping the `None` value\" should \"return `None`\" in {\n",
    "        map(None)(isEven) shouldBe None\n",
    "    }\n",
    "    \n",
    "    \"mapping a `Some` value\" should \"only change its content\" in {\n",
    "        map(Option(3))(isEven) shouldBe Some(false)\n",
    "        map(Option(1))(isEven) shouldBe Some(false)\n",
    "        map(Option(2))(isEven) shouldBe Some(true)\n",
    "    }\n",
    "    \n",
    "        \n",
    "}"
   ]
  },
  {
   "cell_type": "markdown",
   "metadata": {},
   "source": [
    "The implementation is simple:"
   ]
  },
  {
   "cell_type": "code",
   "execution_count": 9,
   "metadata": {},
   "outputs": [
    {
     "data": {
      "text/plain": [
       "defined \u001b[32mfunction\u001b[39m \u001b[36mmapOpt\u001b[39m"
      ]
     },
     "execution_count": 9,
     "metadata": {},
     "output_type": "execute_result"
    }
   ],
   "source": [
    "def mapOpt[A, B](maybeA: Option[A])(f: A => B): Option[B] = \n",
    "    maybeA match {\n",
    "        case None => None\n",
    "        case Some(a) => Some(f(a))\n",
    "    }"
   ]
  },
  {
   "cell_type": "code",
   "execution_count": 10,
   "metadata": {},
   "outputs": [
    {
     "name": "stdout",
     "output_type": "stream",
     "text": [
      "\u001b[32mcmd7$Helper$TestMapOption:\u001b[0m\n",
      "\u001b[32mmapping the `None` value\u001b[0m\n",
      "\u001b[32m- should return `None`\u001b[0m\n",
      "\u001b[32mmapping a `Some` value\u001b[0m\n",
      "\u001b[32m- should only change its content\u001b[0m\n"
     ]
    }
   ],
   "source": [
    "run(new TestMapOption(mapOpt))"
   ]
  },
  {
   "cell_type": "markdown",
   "metadata": {},
   "source": [
    "## Filtering elements"
   ]
  },
  {
   "cell_type": "markdown",
   "metadata": {},
   "source": [
    "Unlike `map`, the `filter` HOF allows us to change the shape of the data structure, removing those elements that do not satisfy a given predicate. "
   ]
  },
  {
   "cell_type": "markdown",
   "metadata": {},
   "source": [
    "![filter](images/filter.svg)"
   ]
  },
  {
   "cell_type": "code",
   "execution_count": 12,
   "metadata": {},
   "outputs": [
    {
     "data": {
      "text/plain": [
       "defined \u001b[32mfunction\u001b[39m \u001b[36mfilter\u001b[39m"
      ]
     },
     "execution_count": 12,
     "metadata": {},
     "output_type": "execute_result"
    }
   ],
   "source": [
    "def filterR[A](list: List[A])(predicate: A => Boolean): List[A] = \n",
    "    list match {\n",
    "        case Nil => Nil \n",
    "        case head :: tail if predicate(head) => \n",
    "            head :: filter(tail)(predicate)\n",
    "        case _ :: tail => \n",
    "            filter(tail)(predicate)\n",
    "    }"
   ]
  },
  {
   "cell_type": "code",
   "execution_count": 13,
   "metadata": {},
   "outputs": [
    {
     "data": {
      "text/plain": [
       "defined \u001b[32mclass\u001b[39m \u001b[36mTestFilterList\u001b[39m"
      ]
     },
     "execution_count": 13,
     "metadata": {},
     "output_type": "execute_result"
    }
   ],
   "source": [
    "class TestFilterList(\n",
    "    filter: List[Int] => (Int => Boolean) => List[Int]\n",
    ") extends FlatSpec with Matchers{\n",
    "    \n",
    "    \"filter\" should \"work\" in {\n",
    "        filter(List())(isEven) shouldBe List()\n",
    "        filter(List(1))(isEven) shouldBe List()\n",
    "        filter(List(1,3,5))(isEven) shouldBe List()\n",
    "        filter(List(2,4,6))(isEven) shouldBe List(2,4,6)\n",
    "    }\n",
    "}"
   ]
  },
  {
   "cell_type": "code",
   "execution_count": 14,
   "metadata": {},
   "outputs": [
    {
     "name": "stdout",
     "output_type": "stream",
     "text": [
      "\u001b[32mcmd12$Helper$TestFilterList:\u001b[0m\n",
      "\u001b[32mfilter\u001b[0m\n",
      "\u001b[32m- should work\u001b[0m\n"
     ]
    }
   ],
   "source": [
    "run(new TestFilterList(filter))"
   ]
  },
  {
   "cell_type": "markdown",
   "metadata": {},
   "source": [
    "Using `foldRight` we can get a more modular implementation: "
   ]
  },
  {
   "cell_type": "code",
   "execution_count": 17,
   "metadata": {},
   "outputs": [
    {
     "data": {
      "text/plain": [
       "defined \u001b[32mfunction\u001b[39m \u001b[36mfilterFR\u001b[39m"
      ]
     },
     "execution_count": 17,
     "metadata": {},
     "output_type": "execute_result"
    }
   ],
   "source": [
    "def filterFR[A](list: List[A])(predicate: A => Boolean): List[A] = \n",
    "    list.foldRight(List[A]()){\n",
    "        (head, filteredTail) => \n",
    "            if (predicate(head)) head :: filteredTail\n",
    "            else filteredTail\n",
    "    }"
   ]
  },
  {
   "cell_type": "code",
   "execution_count": 18,
   "metadata": {},
   "outputs": [
    {
     "name": "stdout",
     "output_type": "stream",
     "text": [
      "\u001b[32mcmd12$Helper$TestFilterList:\u001b[0m\n",
      "\u001b[32mfilter\u001b[0m\n",
      "\u001b[32m- should work\u001b[0m\n"
     ]
    }
   ],
   "source": [
    "run(new TestFilterList(filterFR))"
   ]
  },
  {
   "cell_type": "markdown",
   "metadata": {},
   "source": [
    "Note that this new implementation is based on the standard `foldRight` function of the Scala Collections library."
   ]
  },
  {
   "cell_type": "markdown",
   "metadata": {},
   "source": [
    "### Filtering optional value"
   ]
  },
  {
   "cell_type": "markdown",
   "metadata": {},
   "source": [
    "We only have a possible value, so filtering an optional value is easy:"
   ]
  },
  {
   "cell_type": "code",
   "execution_count": 31,
   "metadata": {},
   "outputs": [
    {
     "data": {
      "text/plain": [
       "defined \u001b[32mclass\u001b[39m \u001b[36mTestFilterOption\u001b[39m"
      ]
     },
     "execution_count": 31,
     "metadata": {},
     "output_type": "execute_result"
    }
   ],
   "source": [
    "class TestFilterOption(\n",
    "    filter: Option[Int] => (Int => Boolean) => Option[Int]\n",
    ") extends FlatSpec with Matchers{\n",
    "    \n",
    "    \"filter\" should \"work\" in {\n",
    "        filter(None)(isEven) shouldBe None\n",
    "        filter(Some(1))(isEven) shouldBe None\n",
    "        filter(Some(2))(isEven) shouldBe Some(2)\n",
    "    }\n",
    "}"
   ]
  },
  {
   "cell_type": "code",
   "execution_count": 32,
   "metadata": {},
   "outputs": [
    {
     "data": {
      "text/plain": [
       "defined \u001b[32mfunction\u001b[39m \u001b[36mfilter\u001b[39m"
      ]
     },
     "execution_count": 32,
     "metadata": {},
     "output_type": "execute_result"
    }
   ],
   "source": [
    "def filter[A](maybeA: Option[A])(predicate: A => Boolean): Option[A] = \n",
    "    maybeA match {\n",
    "        case None => None\n",
    "        case Some(a) if predicate(a) => Some(a)\n",
    "        case _ => None\n",
    "    }"
   ]
  },
  {
   "cell_type": "code",
   "execution_count": 33,
   "metadata": {},
   "outputs": [
    {
     "name": "stdout",
     "output_type": "stream",
     "text": [
      "\u001b[32mcmd30$Helper$TestFilterOption:\u001b[0m\n",
      "\u001b[32mfilter\u001b[0m\n",
      "\u001b[32m- should work\u001b[0m\n"
     ]
    }
   ],
   "source": [
    "run(new TestFilterOption(filter))"
   ]
  },
  {
   "cell_type": "markdown",
   "metadata": {},
   "source": [
    "## FlatMapping data structures"
   ]
  },
  {
   "cell_type": "markdown",
   "metadata": {},
   "source": [
    "Let's consider a list of sentences, where each sentence is a string made of _words_ separated by blank spaces. We want to obtain a list of all the words in each sentence. "
   ]
  },
  {
   "cell_type": "code",
   "execution_count": 42,
   "metadata": {},
   "outputs": [
    {
     "data": {
      "text/plain": [
       "defined \u001b[32mfunction\u001b[39m \u001b[36mwords\u001b[39m"
      ]
     },
     "execution_count": 42,
     "metadata": {},
     "output_type": "execute_result"
    }
   ],
   "source": [
    "def words(paragraph: List[String]): List[String] = \n",
    "    ???"
   ]
  },
  {
   "cell_type": "code",
   "execution_count": 43,
   "metadata": {},
   "outputs": [
    {
     "data": {
      "text/plain": [
       "defined \u001b[32mclass\u001b[39m \u001b[36mTestWords\u001b[39m"
      ]
     },
     "execution_count": 43,
     "metadata": {},
     "output_type": "execute_result"
    }
   ],
   "source": [
    "class TestWords(\n",
    "    words: List[String] => List[String]\n",
    ") extends FlatSpec with Matchers{\n",
    "            \n",
    "    val paragraph1 = List(\n",
    "        \"En un lugar\",\n",
    "        \"de la Mancha\", \n",
    "        \"de cuyo nombre no\",\n",
    "        \"quiero acordarme\")\n",
    "    \n",
    "    \"words\" should \"work\" in {\n",
    "        words(paragraph1) shouldBe \n",
    "            List(\"En\", \"un\", \"lugar\", \"de\", \"la\", \"Mancha\", \n",
    "                 \"de\", \"cuyo\", \"nombre\", \"no\", \"quiero\", \"acordarme\")\n",
    "    }\n",
    "}"
   ]
  },
  {
   "cell_type": "markdown",
   "metadata": {},
   "source": [
    "We may try to map the paragraph with a function that `split`s  each sentence into the words they are made of:"
   ]
  },
  {
   "cell_type": "code",
   "execution_count": 47,
   "metadata": {},
   "outputs": [
    {
     "data": {
      "text/plain": [
       "\u001b[36mparagraph\u001b[39m: \u001b[32mList\u001b[39m[\u001b[32mString\u001b[39m] = \u001b[33mList\u001b[39m(\u001b[32m\"en un lugar\"\u001b[39m, \u001b[32m\"de la Mancha\"\u001b[39m)\n",
       "\u001b[36mres46_1\u001b[39m: \u001b[32mList\u001b[39m[\u001b[32mList\u001b[39m[\u001b[32mString\u001b[39m]] = \u001b[33mList\u001b[39m(\n",
       "  \u001b[33mList\u001b[39m(\u001b[32m\"en\"\u001b[39m, \u001b[32m\"un\"\u001b[39m, \u001b[32m\"lugar\"\u001b[39m),\n",
       "  \u001b[33mList\u001b[39m(\u001b[32m\"de\"\u001b[39m, \u001b[32m\"la\"\u001b[39m, \u001b[32m\"Mancha\"\u001b[39m)\n",
       ")"
      ]
     },
     "execution_count": 47,
     "metadata": {},
     "output_type": "execute_result"
    }
   ],
   "source": [
    "val paragraph: List[String] = List(\"en un lugar\", \"de la Mancha\")\n",
    "\n",
    "map(paragraph)((sentence: String) => sentence.split(\" \").toList)"
   ]
  },
  {
   "cell_type": "markdown",
   "metadata": {},
   "source": [
    "but then we obtain a _list of lists_ of strings, not a list of plain strings. The solution is not far though: we just have to concatenate all the lists and we obtain what we need. The function `flatten` performs this concatenation:"
   ]
  },
  {
   "cell_type": "code",
   "execution_count": 49,
   "metadata": {},
   "outputs": [
    {
     "data": {
      "text/plain": [
       "defined \u001b[32mfunction\u001b[39m \u001b[36mflatten\u001b[39m"
      ]
     },
     "execution_count": 49,
     "metadata": {},
     "output_type": "execute_result"
    }
   ],
   "source": [
    "def flatten[A](listOflists: List[List[A]]): List[A] = \n",
    "    listOflists.foldRight(List[A]()){\n",
    "        (list, flattenedTail) => \n",
    "            list ++ flattenedTail\n",
    "    }"
   ]
  },
  {
   "cell_type": "markdown",
   "metadata": {},
   "source": [
    "So, the implementation of the `words` function is as follows:"
   ]
  },
  {
   "cell_type": "code",
   "execution_count": 50,
   "metadata": {},
   "outputs": [
    {
     "data": {
      "text/plain": [
       "defined \u001b[32mfunction\u001b[39m \u001b[36mwords\u001b[39m"
      ]
     },
     "execution_count": 50,
     "metadata": {},
     "output_type": "execute_result"
    }
   ],
   "source": [
    "def words(paragraph: List[String]): List[String] = \n",
    "    paragraph.map(sentence => sentence.split(\" \").toList)\n",
    "        .flatten"
   ]
  },
  {
   "cell_type": "code",
   "execution_count": 51,
   "metadata": {},
   "outputs": [
    {
     "name": "stdout",
     "output_type": "stream",
     "text": [
      "\u001b[32mcmd42$Helper$TestWords:\u001b[0m\n",
      "\u001b[32mwords\u001b[0m\n",
      "\u001b[32m- should work\u001b[0m\n"
     ]
    }
   ],
   "source": [
    "run(new TestWords(words))"
   ]
  },
  {
   "cell_type": "markdown",
   "metadata": {},
   "source": [
    "This combination of the HOF `map` and the function `flatten` is so common, that it has been given a proper name: `flatMap`. "
   ]
  },
  {
   "cell_type": "code",
   "execution_count": 52,
   "metadata": {},
   "outputs": [
    {
     "data": {
      "text/plain": [
       "defined \u001b[32mfunction\u001b[39m \u001b[36mflatMap\u001b[39m"
      ]
     },
     "execution_count": 52,
     "metadata": {},
     "output_type": "execute_result"
    }
   ],
   "source": [
    "def flatMap[A](list: List[A])(f: A => List[A]): List[A] = \n",
    "    list.map(f).flatten"
   ]
  },
  {
   "cell_type": "markdown",
   "metadata": {},
   "source": [
    "![filter](images/flatMap.svg)"
   ]
  },
  {
   "cell_type": "markdown",
   "metadata": {},
   "source": [
    "Using `flatMap` the word function is implemented even more easily:"
   ]
  },
  {
   "cell_type": "code",
   "execution_count": 53,
   "metadata": {},
   "outputs": [
    {
     "data": {
      "text/plain": [
       "defined \u001b[32mfunction\u001b[39m \u001b[36mwords\u001b[39m"
      ]
     },
     "execution_count": 53,
     "metadata": {},
     "output_type": "execute_result"
    }
   ],
   "source": [
    "def words(paragraph: List[String]): List[String] = \n",
    "    paragraph.flatMap{ sentence => \n",
    "        sentence.split(\" \").toList\n",
    "    }"
   ]
  },
  {
   "cell_type": "markdown",
   "metadata": {},
   "source": [
    "## All together: a modularity problem"
   ]
  },
  {
   "cell_type": "markdown",
   "metadata": {},
   "source": [
    "As before, we start from a list of sentences, but now we want to take care of the possible extra spaces between each word. Also, we want to obtain the lengths of each word. So, the function we want to implement is:"
   ]
  },
  {
   "cell_type": "code",
   "execution_count": 67,
   "metadata": {},
   "outputs": [
    {
     "data": {
      "text/plain": [
       "defined \u001b[32mfunction\u001b[39m \u001b[36mlengths\u001b[39m"
      ]
     },
     "execution_count": 67,
     "metadata": {},
     "output_type": "execute_result"
    }
   ],
   "source": [
    "def lengths(paragraph: List[String]): List[Int] = ???"
   ]
  },
  {
   "cell_type": "code",
   "execution_count": 68,
   "metadata": {},
   "outputs": [
    {
     "data": {
      "text/plain": [
       "defined \u001b[32mclass\u001b[39m \u001b[36mTestLengths\u001b[39m"
      ]
     },
     "execution_count": 68,
     "metadata": {},
     "output_type": "execute_result"
    }
   ],
   "source": [
    "class TestLengths(\n",
    "    lengths: List[String] => List[Int]\n",
    ") extends FlatSpec with Matchers{\n",
    "            \n",
    "    val paragraph1 = List(\n",
    "        \"En un  lugar\",\n",
    "        \"de  la Mancha \", \n",
    "        \"de cuyo nombre no\",\n",
    "        \"quiero        acordarme\")\n",
    "    \n",
    "    \"lengths\" should \"work\" in {\n",
    "        lengths(paragraph1) shouldBe \n",
    "            List(2, 2, 5, 2, 2, 6, \n",
    "                 2, 4, 6, 2, 6, 9)\n",
    "    }\n",
    "}"
   ]
  },
  {
   "cell_type": "markdown",
   "metadata": {},
   "source": [
    "We may try to implement this function imperatively using mutable variables:"
   ]
  },
  {
   "cell_type": "code",
   "execution_count": 69,
   "metadata": {},
   "outputs": [
    {
     "data": {
      "text/plain": [
       "defined \u001b[32mfunction\u001b[39m \u001b[36mlengthsM\u001b[39m"
      ]
     },
     "execution_count": 69,
     "metadata": {},
     "output_type": "execute_result"
    }
   ],
   "source": [
    "def lengthsM(paragraph: List[String]): List[Int] = {\n",
    "    var out: List[Int] = List()\n",
    "\n",
    "    for (sentence <- paragraph){\n",
    "        val words: List[String] =\n",
    "            sentence.split(\" \").toList\n",
    "        for (word <- words)\n",
    "            if (word != \"\") \n",
    "                out = word.length :: out\n",
    "    }\n",
    "\n",
    "    out.reverse\n",
    "}\n"
   ]
  },
  {
   "cell_type": "markdown",
   "metadata": {},
   "source": [
    "and this works, of course: "
   ]
  },
  {
   "cell_type": "code",
   "execution_count": 70,
   "metadata": {},
   "outputs": [
    {
     "name": "stdout",
     "output_type": "stream",
     "text": [
      "\u001b[32mcmd67$Helper$TestLengths:\u001b[0m\n",
      "\u001b[32mlengths\u001b[0m\n",
      "\u001b[32m- should work\u001b[0m\n"
     ]
    }
   ],
   "source": [
    "run(new TestLengths(lengthsM))"
   ]
  },
  {
   "cell_type": "markdown",
   "metadata": {},
   "source": [
    "but can we do it better? Yes, we can! Using HOFs we can get a more concise, understandable and reliable version, with a great level of reuse!"
   ]
  },
  {
   "cell_type": "code",
   "execution_count": 71,
   "metadata": {},
   "outputs": [
    {
     "data": {
      "text/plain": [
       "defined \u001b[32mfunction\u001b[39m \u001b[36mlengthsHOF\u001b[39m"
      ]
     },
     "execution_count": 71,
     "metadata": {},
     "output_type": "execute_result"
    }
   ],
   "source": [
    "def lengthsHOF(paragraph: List[String]): List[Int] = \n",
    "    paragraph\n",
    "        .flatMap(_.split(\" \").toList)\n",
    "        .filter(_ != \"\")\n",
    "        .map(_.length)"
   ]
  },
  {
   "cell_type": "code",
   "execution_count": 72,
   "metadata": {},
   "outputs": [
    {
     "name": "stdout",
     "output_type": "stream",
     "text": [
      "\u001b[32mcmd67$Helper$TestLengths:\u001b[0m\n",
      "\u001b[32mlengths\u001b[0m\n",
      "\u001b[32m- should work\u001b[0m\n"
     ]
    }
   ],
   "source": [
    "run(new TestLengths(lengthsHOF))"
   ]
  },
  {
   "cell_type": "markdown",
   "metadata": {},
   "source": [
    "This solution contrasts with the mutable version in several respects:\n",
    "- It's more **modular**, i.e. it's made of large grained components: the HOFs `flatMap`, `filter` and `map`. The mutable version builds instead upon low level components: `var`s, and `for` loops.\n",
    "- The HOF components `flatMap`, etc., are actually very generic and domain-independent, and are typically part of standard libraries, so the level of **reuse** and **reliability** of the HOF-based solution is very high.\n",
    "- The HOF-based solution is more **understandable**: it models the solution to the problem in terms of standard _transformations_ which are composed together using plain function composition. Moreover, these transformations are also at the right level of abstraction, i.e. it's natural to specify the solution to the problem in terms of flatMap, filter and map."
   ]
  },
  {
   "cell_type": "markdown",
   "metadata": {},
   "source": [
    "### For-comprehensions"
   ]
  },
  {
   "cell_type": "markdown",
   "metadata": {},
   "source": [
    "The combination of `map`, `flatMap` and `filter` HOFs is so common, that Scala has a special syntax for them: for-comprehensions."
   ]
  },
  {
   "cell_type": "code",
   "execution_count": 75,
   "metadata": {},
   "outputs": [
    {
     "data": {
      "text/plain": [
       "defined \u001b[32mfunction\u001b[39m \u001b[36mlengthsFC\u001b[39m"
      ]
     },
     "execution_count": 75,
     "metadata": {},
     "output_type": "execute_result"
    }
   ],
   "source": [
    "def lengthsFC(paragraph: List[String]): List[Int] = \n",
    "    for {\n",
    "        sentence <- paragraph \n",
    "        word <- sentence.split(\" \").toList if word != \"\"\n",
    "    } yield word.length"
   ]
  },
  {
   "cell_type": "code",
   "execution_count": 74,
   "metadata": {},
   "outputs": [
    {
     "name": "stdout",
     "output_type": "stream",
     "text": [
      "\u001b[32mcmd67$Helper$TestLengths:\u001b[0m\n",
      "\u001b[32mlengths\u001b[0m\n",
      "\u001b[32m- should work\u001b[0m\n"
     ]
    }
   ],
   "source": [
    "run(new TestLengths(lengthsFC))"
   ]
  },
  {
   "cell_type": "code",
   "execution_count": null,
   "metadata": {},
   "outputs": [],
   "source": []
  }
 ],
 "metadata": {
  "kernelspec": {
   "display_name": "Scala",
   "language": "scala",
   "name": "scala"
  },
  "language_info": {
   "codemirror_mode": "text/x-scala",
   "file_extension": ".scala",
   "mimetype": "text/x-scala",
   "name": "scala",
   "nbconvert_exporter": "script",
   "version": "2.13.0"
  }
 },
 "nbformat": 4,
 "nbformat_minor": 2
}
