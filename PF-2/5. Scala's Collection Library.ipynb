{
 "cells": [
  {
   "cell_type": "markdown",
   "metadata": {},
   "source": [
    "# Scala's Collection Library"
   ]
  },
  {
   "cell_type": "markdown",
   "metadata": {},
   "source": [
    "### References\n",
    "\n",
    "A gentle guide to the Scala's collection library can be found online in the Scala site:\n",
    "\n",
    "https://docs.scala-lang.org/overviews/collections-2.13/introduction.html"
   ]
  },
  {
   "cell_type": "code",
   "execution_count": null,
   "metadata": {},
   "outputs": [],
   "source": [
    "import $ivy.`org.scalatest::scalatest:3.0.8`\n",
    "import _root_.org.scalatest._"
   ]
  },
  {
   "cell_type": "markdown",
   "metadata": {},
   "source": [
    "## Collection types"
   ]
  },
  {
   "cell_type": "markdown",
   "metadata": {},
   "source": [
    "Collection types can be classified along two major dimensions:\n",
    "- Mutable/Immutable: mutable collections can be modified in-place; immutable collections return a new instance when they are updated.\n",
    "- Sequences/Sets/Maps. These are ordered/unordered collections and key-value collections, respectively. \n",
    "\n",
    "There are many different implementations of sequences, sets and maps, as summarized by these figures (cf. Scala's [guide](https://docs.scala-lang.org/overviews/collections-2.13/overview.html))"
   ]
  },
  {
   "cell_type": "markdown",
   "metadata": {},
   "source": [
    "![](images/collections-hierarchy.svg)"
   ]
  },
  {
   "cell_type": "markdown",
   "metadata": {},
   "source": [
    "![](images/collections-hierarchy-inmutable.svg)"
   ]
  },
  {
   "cell_type": "markdown",
   "metadata": {},
   "source": [
    "![](images/collections-mutable.svg)"
   ]
  },
  {
   "cell_type": "markdown",
   "metadata": {},
   "source": [
    "How do we choose from this huge number of collection types and implementations? The colletion type is chosen according to the functionality that we demand from our collection, e.g., should it be _ordered_?, can there be repeated elements?, are elements associated with keys?, etc. In order to choose the right implementation of the collection type (e.g. should I use a `Vector` or a `List`?) we must take into account the complexity of the corresponding implementation: \n",
    "\n",
    "https://docs.scala-lang.org/overviews/collections-2.13/performance-characteristics.html\n",
    "\n",
    "From now on, we will work with immutable collection types only."
   ]
  },
  {
   "cell_type": "markdown",
   "metadata": {},
   "source": [
    "## `Map`s of key-value pairs"
   ]
  },
  {
   "cell_type": "markdown",
   "metadata": {},
   "source": [
    "`Map`s are key-value collections (i.e. they are like sets of key-value pairs indexed by their keys)."
   ]
  },
  {
   "cell_type": "code",
   "execution_count": null,
   "metadata": {},
   "outputs": [],
   "source": [
    "val m: Map[String, Int] = \n",
    "    Map((\"a\", 5), (\"b\", 10), (\"c\", 11))"
   ]
  },
  {
   "cell_type": "markdown",
   "metadata": {},
   "source": [
    "Specially for key-value pairs, we commonly write `Tuple2` values with the following syntax: "
   ]
  },
  {
   "cell_type": "code",
   "execution_count": null,
   "metadata": {},
   "outputs": [],
   "source": [
    "val m: Map[String, Int] = \n",
    "    Map(\"a\" -> 5, \"b\" -> 10, \"c\" -> 11)"
   ]
  },
  {
   "cell_type": "markdown",
   "metadata": {},
   "source": [
    "Common operations on maps: "
   ]
  },
  {
   "cell_type": "code",
   "execution_count": null,
   "metadata": {},
   "outputs": [],
   "source": [
    "// retrieving values of existing and non-existing keys\n",
    "\n",
    "m(\"a\"): Int\n",
    "m.get(\"a\"): Option[Int]\n",
    "try{ m(\"d\") } catch { case _ => \"exception raised\" }\n",
    "m.get(\"d\") "
   ]
  },
  {
   "cell_type": "code",
   "execution_count": null,
   "metadata": {},
   "outputs": [],
   "source": [
    "// retrieving all keys and values\n",
    "\n",
    "m.keys: Iterable[String]\n",
    "m.values: Iterable[Int]"
   ]
  },
  {
   "cell_type": "markdown",
   "metadata": {},
   "source": [
    "The default implementation types of these `Iterable`s are `collection.immutable.Set` and the general `View` type. Views are _lazy_ collections which offer better performance. For more information on views consult the Scala [guide](https://docs.scala-lang.org/overviews/collections-2.13/views.html). The only thing that we need from views and the general `Iterable` collection type is that they can be converted to a concrete collection type with conversors `toList`, `toSet`, `toMap`, etc. "
   ]
  },
  {
   "cell_type": "code",
   "execution_count": null,
   "metadata": {},
   "outputs": [],
   "source": [
    "// Converting to proper implementation types\n",
    "m.keys.toList\n",
    "m.keys.toSet\n",
    "m.values.toList\n",
    "m.values.toSet"
   ]
  },
  {
   "cell_type": "code",
   "execution_count": null,
   "metadata": {},
   "outputs": [],
   "source": [
    "// Mapping values (toMap is required to convert the view type `MapView` to `Map`)\n",
    "\n",
    "val m2: Map[String, Boolean] = \n",
    "    m.mapValues((value: Int) => value % 2 == 0).toMap"
   ]
  },
  {
   "cell_type": "code",
   "execution_count": null,
   "metadata": {},
   "outputs": [],
   "source": [
    "// Mapping whole entries, not only values\n",
    "\n",
    "m.map((entry: (String, Int)) => entry._2 % 2 == 0)\n",
    "m.map{ case (key: String, value: Int) => value % 2 == 0 }"
   ]
  },
  {
   "cell_type": "code",
   "execution_count": null,
   "metadata": {},
   "outputs": [],
   "source": [
    "// Filter also return a general iterable (a list, by default)\n",
    "m.filter{ case (key: String, value: Int) => value > 10 }"
   ]
  },
  {
   "cell_type": "markdown",
   "metadata": {},
   "source": [
    "We can obtain a `Map` from a list of pairs with `toMap`:"
   ]
  },
  {
   "cell_type": "code",
   "execution_count": null,
   "metadata": {},
   "outputs": [],
   "source": [
    "val l: List[(Int, String)] =  \n",
    "    List((1, \"a\"), (2, \"b\"), (1, \"c\"), (2, \"d\"), (3, \"a\"))\n",
    "\n",
    "l.toMap"
   ]
  },
  {
   "cell_type": "markdown",
   "metadata": {},
   "source": [
    "Note that only one value is kept for a single key. If we want all values, we can use `groupBy`:"
   ]
  },
  {
   "cell_type": "code",
   "execution_count": null,
   "metadata": {},
   "outputs": [],
   "source": [
    "l.groupBy(entry => entry._1)"
   ]
  },
  {
   "cell_type": "markdown",
   "metadata": {},
   "source": [
    "# Set collections"
   ]
  },
  {
   "cell_type": "markdown",
   "metadata": {},
   "source": [
    "`Set`s are unordered collections of unique elements. The following two sets are equal: "
   ]
  },
  {
   "cell_type": "code",
   "execution_count": null,
   "metadata": {},
   "outputs": [],
   "source": [
    "Set(1,2,2,3) == Set(3,1,2)\n",
    "// compare with lists:\n",
    "List(1,2,2,3) == List(3,1,2)"
   ]
  },
  {
   "cell_type": "markdown",
   "metadata": {},
   "source": [
    "Common operations on sets: "
   ]
  },
  {
   "cell_type": "code",
   "execution_count": null,
   "metadata": {},
   "outputs": [],
   "source": [
    "// Filtering elements\n",
    "Set(-1, 0, 1, 3, -5, 2, 4).filter(e => e > 0)"
   ]
  },
  {
   "cell_type": "code",
   "execution_count": null,
   "metadata": {},
   "outputs": [],
   "source": [
    "// Mapping elements\n",
    "Set(-1,-4,-3,5).map(e => e.abs)"
   ]
  },
  {
   "cell_type": "code",
   "execution_count": null,
   "metadata": {},
   "outputs": [],
   "source": [
    "// Flatmapping elements\n",
    "Set(1,2,3).flatMap(e => Set(e,-e))"
   ]
  },
  {
   "cell_type": "code",
   "execution_count": null,
   "metadata": {},
   "outputs": [],
   "source": [
    "// Common set operations\n",
    "Set(1,2,3).subsetOf(Set(1,2,3,4))\n",
    "Set(1,2,3) subsetOf Set(1,2)\n",
    "Set(1,2,3) diff Set(1,2)\n",
    "Set(1) diff Set(3,4)\n",
    "Set(1,2,3) union Set(1,2,3,4,5)"
   ]
  },
  {
   "cell_type": "markdown",
   "metadata": {},
   "source": [
    "## Implementing & querying data models"
   ]
  },
  {
   "cell_type": "markdown",
   "metadata": {},
   "source": [
    "The Scala collections greatly facilitate the implementation and querying of data models. For instance, the following classes model the structure of an organization which consists of departments, employees and tasks that employees can perform. "
   ]
  },
  {
   "cell_type": "code",
   "execution_count": null,
   "metadata": {},
   "outputs": [],
   "source": [
    "// departments\n",
    "\n",
    "case class Department(id: Department.Id)\n",
    "object Department{\n",
    "    type Id = String\n",
    "}\n",
    "\n",
    "// tasks \n",
    "\n",
    "case class Task(id: Task.Id, hours: Int)\n",
    "object Task{\n",
    "    type Id = String\n",
    "}\n",
    "\n",
    "// Employees\n",
    "\n",
    "case class Employee(id: Employee.Id, dpt: Department.Id)\n",
    "object Employee{\n",
    "    type Id = String\n",
    "}\n",
    "\n",
    "// The whole organization\n",
    "\n",
    "case class Organization(\n",
    "    departments: Map[Department.Id, Department], \n",
    "    tasks: Map[Task.Id, Task],\n",
    "    employees: Map[Employee.Id, Employee], \n",
    "    knows: Set[(Employee.Id, Task.Id)])"
   ]
  },
  {
   "cell_type": "markdown",
   "metadata": {},
   "source": [
    "This implementation is an example of a _flat_ data model. The key feature of these kinds of models are that the different entities (employees, departments and tasks, in this case) refer to each other by using _keys_. This is a possible instance of the organization data model:"
   ]
  },
  {
   "cell_type": "code",
   "execution_count": null,
   "metadata": {},
   "outputs": [],
   "source": [
    "val org: Organization = Organization(\n",
    "    Map(\n",
    "        \"Product\"  -> Department(\"Product\"),\n",
    "        \"Quality\"  -> Department(\"Quality\"),\n",
    "        \"Research\" -> Department(\"Research\"),\n",
    "        \"Sales\"    -> Department(\"Sales\")),\n",
    "    \n",
    "    Map(\"build\"    -> Task(\"build\", 3), \n",
    "        \"abstract\" -> Task(\"abstract\", 5), \n",
    "        \"design\"   -> Task(\"design\", 2),\n",
    "        \"call\"     -> Task(\"call\", 1),\n",
    "        \"program\"  -> Task(\"program\", 3)),\n",
    "    \n",
    "    Map(\"Alex\"     -> Employee(\"Alex\", \"Product\"), \n",
    "        \"Bert\"     -> Employee(\"Bert\", \"Product\"), \n",
    "        \"Cora\"     -> Employee(\"Cora\", \"Research\"), \n",
    "        \"Drew\"     -> Employee(\"Drew\", \"Research\"), \n",
    "        \"Edna\"     -> Employee(\"Edna\", \"Research\"), \n",
    "        \"Fred\"     -> Employee(\"Fred\", \"Sales\")),\n",
    "    \n",
    "    Set(\n",
    "        (\"Alex\", \"build\"),\n",
    "        (\"Bert\", \"build\"),\n",
    "        (\"Cora\", \"abstract\"),\n",
    "        (\"Cora\", \"build\"),\n",
    "        (\"Cora\", \"design\"),\n",
    "        (\"Drew\", \"abstract\"),\n",
    "        (\"Drew\", \"design\"),\n",
    "        (\"Edna\", \"abstract\"),\n",
    "        (\"Edna\", \"call\"),\n",
    "        (\"Edna\", \"design\"),\n",
    "        (\"Fred\", \"call\")))"
   ]
  },
  {
   "cell_type": "markdown",
   "metadata": {},
   "source": [
    "Flat data models are actually very close to the common _relational_ data models used in SQL persistent stores. This is the equivalent relational model of the organization database: "
   ]
  },
  {
   "cell_type": "markdown",
   "metadata": {},
   "source": [
    "![](images/relational-model.png)"
   ]
  },
  {
   "cell_type": "markdown",
   "metadata": {},
   "source": [
    "According to this mapping: \n",
    "- The `Organization` class represents the whole relational _database_.\n",
    "- Members of this class correspond to the different _tables_ of the database, represented as `Map`s or simple `Set`s. We have four tables: the table of departments, employees, tasks, and a table which stores which tasks employees can perform.\n",
    "- The key type of `Map` can be understood as the primary key of the relational table. The value type specifies the columns of the table. By convention, the identifier type is defined by the `Id` type alias in the companion object of the value type. For instance, the `employees` table is indexed by the employee identifier (a string value), and stores the department to which the employee belongs to.\n",
    "- If the primary key consists of several keys, as in the `knows` table, we use tuples. \n",
    "- If the table just consists of the key (simple or composed) we use `Set` instead of `Map` (as the `knows` table also illustrates).\n",
    "\n"
   ]
  },
  {
   "cell_type": "markdown",
   "metadata": {},
   "source": [
    "### Basic queries"
   ]
  },
  {
   "cell_type": "markdown",
   "metadata": {},
   "source": [
    "Complex queries typically builds upon basic queries which are directly related to the structure of the data model. In particular, they are identified from the primary key and foreign-key relations in the relational model. In the organizational database we can identify the following queries:"
   ]
  },
  {
   "cell_type": "code",
   "execution_count": null,
   "metadata": {},
   "outputs": [],
   "source": [
    "\n",
    "object BasicQueries{\n",
    "\n",
    "    // Queries from single primary keys\n",
    "    \n",
    "    def departments(org: Organization): Set[Department.Id] = \n",
    "        org.departments.keys.toSet\n",
    "\n",
    "    def employees(org: Organization): Set[Employee.Id] = \n",
    "        org.employees.keys.toSet\n",
    "\n",
    "    def tasks(org: Organization): Set[Task.Id] = \n",
    "        org.tasks.keys.toSet\n",
    "\n",
    "    // Queries from foreign-keys\n",
    "    \n",
    "    def employees(dpt: Department.Id)(org: Organization): Set[Employee.Id] = \n",
    "        org.employees.filter(_._2.dpt == dpt).map(_._1).toSet\n",
    "    \n",
    "    // Queries from compound primary keys\n",
    "    \n",
    "    def performers(tsk: Task.Id)(org: Organization): Set[Employee.Id] = \n",
    "        org.knows.filter(_._2 == tsk).map(_._1)\n",
    "\n",
    "    def capabilities(emp: Employee.Id)(org: Organization): Set[Task.Id] = \n",
    "        org.knows.filter(_._1 == emp).map(_._2)\n",
    "}\n",
    "\n",
    "import BasicQueries._"
   ]
  },
  {
   "cell_type": "markdown",
   "metadata": {},
   "source": [
    "### Sample queries"
   ]
  },
  {
   "cell_type": "markdown",
   "metadata": {},
   "source": [
    "__Which are the tasks of the organization which can't be performed by any employee?__"
   ]
  },
  {
   "cell_type": "code",
   "execution_count": null,
   "metadata": {},
   "outputs": [],
   "source": [
    "class TestImpossibleTasks(\n",
    "    impossibleTasks: Organization => Set[Task.Id]\n",
    ") extends FlatSpec with Matchers{\n",
    "    \n",
    "    \"impossibleTasks\" should \"work\" in {\n",
    "        impossibleTasks(org) shouldBe \n",
    "            Set(\"program\")\n",
    "    }\n",
    "}"
   ]
  },
  {
   "cell_type": "markdown",
   "metadata": {},
   "source": [
    "This is a conventional imperative implementation, using mutable variables:"
   ]
  },
  {
   "cell_type": "code",
   "execution_count": null,
   "metadata": {},
   "outputs": [],
   "source": [
    "def impossibleTasks(org: Organization): Set[Task.Id] = {\n",
    "    var impTasks: Set[Task.Id] = tasks(org)\n",
    "    for (entry <- org.knows)\n",
    "        impTasks = impTasks - entry._2\n",
    "    impTasks\n",
    "}"
   ]
  },
  {
   "cell_type": "code",
   "execution_count": null,
   "metadata": {},
   "outputs": [],
   "source": [
    "run(new TestImpossibleTasks(impossibleTasks))"
   ]
  },
  {
   "cell_type": "markdown",
   "metadata": {},
   "source": [
    "This works but it is not the _functional_ style. The following version is closer to what we are looking for:"
   ]
  },
  {
   "cell_type": "code",
   "execution_count": null,
   "metadata": {},
   "outputs": [],
   "source": [
    "def impossibleTasks(org: Organization): Set[Task.Id] =\n",
    "    org.knows.foldLeft(tasks(org))(\n",
    "        (impTasks, entry) => impTasks - entry._2\n",
    "    )"
   ]
  },
  {
   "cell_type": "markdown",
   "metadata": {},
   "source": [
    "or with pattern matching syntax:"
   ]
  },
  {
   "cell_type": "code",
   "execution_count": null,
   "metadata": {},
   "outputs": [],
   "source": [
    "def impossibleTasks(org: Organization): Set[Task.Id] =\n",
    "    org.knows.foldLeft(tasks(org)){\n",
    "        case (impTasks, (_, task)) => impTasks - task\n",
    "    }"
   ]
  },
  {
   "cell_type": "code",
   "execution_count": null,
   "metadata": {},
   "outputs": [],
   "source": [
    "run(new TestImpossibleTasks(impossibleTasks))"
   ]
  },
  {
   "cell_type": "markdown",
   "metadata": {},
   "source": [
    "But we can do it even better. We will endorse the following implementation that uses hight-level set operations (`diff`) and HOFs (`map`):"
   ]
  },
  {
   "cell_type": "code",
   "execution_count": null,
   "metadata": {},
   "outputs": [],
   "source": [
    "def impossibleTasks(org: Organization): Set[Task.Id] = {\n",
    "    val possibleTasks = org.knows.map(entry => entry._2)\n",
    "    tasks(org) diff possibleTasks\n",
    "}"
   ]
  },
  {
   "cell_type": "code",
   "execution_count": null,
   "metadata": {},
   "outputs": [],
   "source": [
    "run(new TestImpossibleTasks(impossibleTasks))"
   ]
  },
  {
   "cell_type": "markdown",
   "metadata": {},
   "source": [
    "Arguably, this implementation conveys the intent of the function more clearly. It's more _declarative_. Moreover, it is more reliable since it builds upon standard methods of the Scala library (`diff` and `map`). It's true that the imperative version is also easy to read, but this is only because this is such a very simple function. We will see later on more complex examples where the functional solution shines brighter. "
   ]
  },
  {
   "cell_type": "markdown",
   "metadata": {},
   "source": [
    "__Which tasks can be performed by the employees of a given department?__"
   ]
  },
  {
   "cell_type": "code",
   "execution_count": null,
   "metadata": {},
   "outputs": [],
   "source": [
    "class TestAllTasks(\n",
    "    allTasks: Department.Id => Organization => Set[Task.Id]\n",
    ") extends FlatSpec with Matchers{\n",
    "    \n",
    "    \"allTasks\" should \"work\" in {\n",
    "        allTasks(\"Product\")(org) shouldBe \n",
    "            Set(\"build\")\n",
    "        allTasks(\"Quality\")(org) shouldBe \n",
    "            Set()\n",
    "        allTasks(\"Sales\")(org) shouldBe \n",
    "            Set(\"call\")\n",
    "        allTasks(\"Research\")(org) shouldBe \n",
    "            Set(\"abstract\", \"build\", \"design\", \"call\")\n",
    "    }\n",
    "}"
   ]
  },
  {
   "cell_type": "markdown",
   "metadata": {},
   "source": [
    "The basic queries of the data model allow us to obtain all the employees of an organization, and the tasks that they can perform. So, this a first step towards the solution:"
   ]
  },
  {
   "cell_type": "code",
   "execution_count": null,
   "metadata": {},
   "outputs": [],
   "source": [
    "// def allTasks(dpt: Department.Id)(org: Organization): Set[Task.Id]\n",
    "def allTasks(dpt: Department.Id)(org: Organization): Set[Set[Task.Id]] = \n",
    "    employees(dpt)(org) map (\n",
    "        emp => capabilities(emp)(org)\n",
    "    )"
   ]
  },
  {
   "cell_type": "markdown",
   "metadata": {},
   "source": [
    "However, this is not the signature that we need to implement, since we are returning a set of sets of tasks, not a set of tasks. In order to do it right we need also to _flatten_ the result, i.e. concatenate all the individual sets of tasks for each employee. In sum, we need the `flatMap` HOF:"
   ]
  },
  {
   "cell_type": "code",
   "execution_count": null,
   "metadata": {},
   "outputs": [],
   "source": [
    "def allTasks(dpt: Department.Id)(org: Organization): Set[Task.Id] = \n",
    "    employees(dpt)(org) flatMap (\n",
    "        emp => capabilities(emp)(org)\n",
    "    )"
   ]
  },
  {
   "cell_type": "code",
   "execution_count": null,
   "metadata": {},
   "outputs": [],
   "source": [
    "run(new TestAllTasks(allTasks))"
   ]
  },
  {
   "cell_type": "markdown",
   "metadata": {},
   "source": [
    "__Which are the departments whose employees, as a team, know how to perform a given set of tasks?__"
   ]
  },
  {
   "cell_type": "code",
   "execution_count": null,
   "metadata": {},
   "outputs": [],
   "source": [
    "class TestDptsThatKnowHowTo(\n",
    "    dptsThatKnowHowTo: Set[Task.Id] => Organization => Set[Department.Id]\n",
    ") extends FlatSpec with Matchers{\n",
    "    \n",
    "    \"dptsThatKnowHowTo\" should \"work\" in {\n",
    "        dptsThatKnowHowTo(Set())(org) shouldBe \n",
    "            Set(\"Sales\", \"Product\", \"Quality\", \"Research\")\n",
    "        dptsThatKnowHowTo(Set(\"call\"))(org) shouldBe \n",
    "            Set(\"Sales\", \"Research\")\n",
    "        dptsThatKnowHowTo(Set(\"call\", \"abstract\"))(org) shouldBe \n",
    "            Set(\"Research\")\n",
    "    }\n",
    "}"
   ]
  },
  {
   "cell_type": "markdown",
   "metadata": {},
   "source": [
    "We can build upon the previous function `allTasks`:"
   ]
  },
  {
   "cell_type": "code",
   "execution_count": null,
   "metadata": {},
   "outputs": [],
   "source": [
    "def dptsThatKnowHowTo(tasks: Set[Task.Id])(org: Organization): Set[Department.Id] = \n",
    "    departments(org) filter {\n",
    "        dpt: Department.Id => tasks subsetOf allTasks(dpt)(org)\n",
    "    }"
   ]
  },
  {
   "cell_type": "code",
   "execution_count": null,
   "metadata": {},
   "outputs": [],
   "source": [
    "run(new TestDptsThatKnowHowTo(dptsThatKnowHowTo))"
   ]
  },
  {
   "cell_type": "markdown",
   "metadata": {},
   "source": [
    "__Obtain a list of employees sorted by the number of tasks that they can perform__"
   ]
  },
  {
   "cell_type": "code",
   "execution_count": null,
   "metadata": {},
   "outputs": [],
   "source": [
    "class TestSortedEmployees(\n",
    "    sortedEmployees: Organization => List[(Employee.Id, Int)]\n",
    ") extends FlatSpec with Matchers{\n",
    "    \n",
    "    \"sortedEmployees\" should \"work\" in {\n",
    "        sortedEmployees(org) shouldBe \n",
    "            List(\n",
    "              (\"Alex\", 1),\n",
    "              (\"Fred\", 1),\n",
    "              (\"Bert\", 1),\n",
    "              (\"Drew\", 2),\n",
    "              (\"Cora\", 3),\n",
    "              (\"Edna\", 3))\n",
    "    }\n",
    "}"
   ]
  },
  {
   "cell_type": "code",
   "execution_count": null,
   "metadata": {},
   "outputs": [],
   "source": [
    "def sortedEmployees(org: Organization): List[(Employee.Id, Int)] = \n",
    "    org.knows\n",
    "        .groupBy(_._1)     // Map[Employee.Id, List[Task.Id]]\n",
    "        .mapValues(_.size) // Map[Employee.Id, Int]\n",
    "        .toList            // List[(Employee.Id, Int)]\n",
    "        .sortBy(_._2) "
   ]
  },
  {
   "cell_type": "code",
   "execution_count": null,
   "metadata": {},
   "outputs": [],
   "source": [
    "run(new TestSortedEmployees(sortedEmployees))"
   ]
  },
  {
   "cell_type": "markdown",
   "metadata": {},
   "source": [
    "__Which are the departments whose employees are all able to perform a given task?__"
   ]
  },
  {
   "cell_type": "code",
   "execution_count": null,
   "metadata": {},
   "outputs": [],
   "source": [
    "class TestExpertDepsIn(\n",
    "    expertDpts: Task.Id => Organization => Set[Department.Id]\n",
    ") extends FlatSpec with Matchers{\n",
    "    \n",
    "    \"expertDpts\" should \"work\" in {\n",
    "        expertDpts(\"abstract\")(org) shouldBe \n",
    "            Set(\"Quality\", \"Research\")\n",
    "    }\n",
    "}"
   ]
  },
  {
   "cell_type": "markdown",
   "metadata": {},
   "source": [
    "The conventional imperative solution is quite complex: "
   ]
  },
  {
   "cell_type": "code",
   "execution_count": null,
   "metadata": {},
   "outputs": [],
   "source": [
    "def expertDepsIn(task: Task.Id)(org: Organization): Set[Department.Id] = {\n",
    "    var out: Set[Department.Id] = Set()\n",
    "    for (dep <- departments(org)){\n",
    "        var employeesThatCantPerform: Set[Employee.Id] = \n",
    "            employees(dep)(org)\n",
    "        for (emp <- employees(dep)(org)){\n",
    "            for (someTask <- capabilities(emp)(org))\n",
    "                if (someTask == task)\n",
    "                    employeesThatCantPerform -= emp\n",
    "        }\n",
    "        if (employeesThatCantPerform.isEmpty) \n",
    "            out += dep\n",
    "    }\n",
    "    out\n",
    "}"
   ]
  },
  {
   "cell_type": "code",
   "execution_count": null,
   "metadata": {},
   "outputs": [],
   "source": [
    "run(new TestExpertDepsIn(expertDepsIn))"
   ]
  },
  {
   "cell_type": "markdown",
   "metadata": {},
   "source": [
    "This is not only more complex to understand, but prone to error. In order to obtain a simpler (and functional) solution by first declaring in plain natural language the intended query:"
   ]
  },
  {
   "cell_type": "code",
   "execution_count": null,
   "metadata": {},
   "outputs": [],
   "source": [
    "def expertDepsIn(tsk: Task.Id)(org: Organization): Set[Department.Id] = \n",
    "    // From all the departments of the organization, choose\n",
    "    // those that for all its employees\n",
    "    // the specified task is included in their capabilities\n",
    "    ???"
   ]
  },
  {
   "cell_type": "markdown",
   "metadata": {},
   "source": [
    "Then, we can formalize the natural language specification by relying on standard HOFs (`filter`, `forall`) and collection operations (`contains`):"
   ]
  },
  {
   "cell_type": "code",
   "execution_count": null,
   "metadata": {},
   "outputs": [],
   "source": [
    "def expertDepsIn(tsk: Task.Id)(org: Organization): Set[Department.Id] = \n",
    "    departments(org).filter(\n",
    "        dpt => employees(dpt)(org).forall(\n",
    "            emp => capabilities(emp)(org).contains(tsk)\n",
    "        )\n",
    "    )"
   ]
  },
  {
   "cell_type": "code",
   "execution_count": null,
   "metadata": {},
   "outputs": [],
   "source": [
    "run(new TestExpertDepsIn(expertDepsIn))"
   ]
  }
 ],
 "metadata": {
  "kernelspec": {
   "display_name": "Scala",
   "language": "scala",
   "name": "scala"
  },
  "language_info": {
   "codemirror_mode": "text/x-scala",
   "file_extension": ".scala",
   "mimetype": "text/x-scala",
   "name": "scala",
   "nbconvert_exporter": "script",
   "version": "2.13.0"
  }
 },
 "nbformat": 4,
 "nbformat_minor": 2
}
