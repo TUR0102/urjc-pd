{
 "cells": [
  {
   "cell_type": "markdown",
   "metadata": {},
   "source": [
    "# Programación declarativa @ URJC\n",
    "# Programación funcional\n",
    "## Curso 21-22, convocatoria ordinaria (27 de octubre de 2021)\n",
    "## Campus de Vicálvaro\n"
   ]
  },
  {
   "cell_type": "markdown",
   "metadata": {},
   "source": [
    "# Definiciones auxiliares"
   ]
  },
  {
   "cell_type": "code",
   "execution_count": 1,
   "metadata": {},
   "outputs": [
    {
     "data": {
      "text/plain": [
       "\u001b[32mimport \u001b[39m\u001b[36m$ivy.$                               \n",
       "\u001b[39m\n",
       "\u001b[32mimport \u001b[39m\u001b[36morg.scalatest._\u001b[39m"
      ]
     },
     "execution_count": 1,
     "metadata": {},
     "output_type": "execute_result"
    }
   ],
   "source": [
    "import $ivy.`org.scalatest::scalatest:3.0.8`\n",
    "import org.scalatest._"
   ]
  },
  {
   "cell_type": "markdown",
   "metadata": {},
   "source": [
    "### Algunas definiciones de tipos y funciones auxiliares"
   ]
  },
  {
   "cell_type": "code",
   "execution_count": 156,
   "metadata": {},
   "outputs": [
    {
     "data": {
      "text/plain": [
       "defined \u001b[32mclass\u001b[39m \u001b[36mTree\u001b[39m\n",
       "defined \u001b[32mclass\u001b[39m \u001b[36mEmpty\u001b[39m\n",
       "defined \u001b[32mclass\u001b[39m \u001b[36mNode\u001b[39m\n",
       "defined \u001b[32mobject\u001b[39m \u001b[36mTree\u001b[39m\n",
       "\u001b[32mimport \u001b[39m\u001b[36mTree._\n",
       "\n",
       "\u001b[39m\n",
       "defined \u001b[32mfunction\u001b[39m \u001b[36mfoldTree\u001b[39m"
      ]
     },
     "execution_count": 156,
     "metadata": {},
     "output_type": "execute_result"
    }
   ],
   "source": [
    "sealed abstract class Tree[A]\n",
    "case class Empty[A]() extends Tree[A]\n",
    "case class Node[A](left: Tree[A], root: A, right: Tree[A]) extends Tree[A]\n",
    "\n",
    "object Tree{\n",
    "    \n",
    "    def void[A]: Tree[A] = \n",
    "        Empty()\n",
    "    \n",
    "    def leaf[A](a: A): Node[A] = \n",
    "        Node(Empty(), a, Empty())\n",
    "    \n",
    "    def right[A](a: A, tree: Tree[A]): Node[A] = \n",
    "        Node(Empty(), a, tree)\n",
    "    \n",
    "    def left[A](tree: Tree[A], a: A): Node[A] = \n",
    "        Node(tree, a, Empty())\n",
    "    \n",
    "    def node[A](left: Tree[A], a: A, right: Tree[A]): Node[A] = \n",
    "        Node(left, a, right)\n",
    "}\n",
    "\n",
    "import Tree._\n",
    "\n",
    "def foldTree[A, B](tree: Tree[A])(empty: B)(node: (B, A, B) => B): B = \n",
    "    tree match {\n",
    "        case Empty() => empty\n",
    "        case Node(left, root, right) => node(foldTree(left)(empty)(node), root, foldTree(right)(empty)(node))\n",
    "    }"
   ]
  },
  {
   "cell_type": "code",
   "execution_count": 157,
   "metadata": {},
   "outputs": [
    {
     "data": {
      "text/plain": [
       "defined \u001b[32mobject\u001b[39m \u001b[36mSignatures\u001b[39m"
      ]
     },
     "execution_count": 157,
     "metadata": {},
     "output_type": "execute_result"
    }
   ],
   "source": [
    "object Signatures{\n",
    "    abstract class List[A]{\n",
    "        \n",
    "        // Common HOFs\n",
    "        def foldRight[B](directSol: B)(composeSol: (A, B) => B): B\n",
    "        def foldLeft[B](initial: B)(update: (B, A) => B): B\n",
    "        def map[B](f: A => B): List[B]\n",
    "        def flatMap[B](f: A => List[B]): List[B]\n",
    "        def filter(f: A => Boolean): List[A]\n",
    "        def forall(pred: A => Boolean): Boolean\n",
    "        def exists(pred: A => Boolean): Boolean\n",
    "        \n",
    "        // Reverse a list\n",
    "        // e.g. List(1,2,3).reverse==List(3,2,1)\n",
    "        def reverse: List[A]\n",
    "        \n",
    "        // Take the first `n` elements of the list\n",
    "        // e.g. List(1,2,3).take(2) == List(1,2)\n",
    "        //      List(1,2,3).take(0) == List()\n",
    "        //      List(1,2,3).take(5) == List(1,2,3)\n",
    "        def take(n: Int): List[A]\n",
    "        \n",
    "        // Drop the first `n` elements of the list \n",
    "        // e.g. List(1,2,3).drop(2) == List(3)\n",
    "        //      List(1,2,3).drop(0) == List(1,2,3)\n",
    "        //      List(1,2,3).drop(4) == List()\n",
    "        def drop(n: Int): List[A]\n",
    "\n",
    "        // List concatenation\n",
    "        // e.g. List(1,2,3).concat(List(4,5)) == List(1,2,3,4,5)\n",
    "        def concat(l: List[A]): List[A]\n",
    "    }\n",
    "    \n",
    "    abstract class Option[A]{\n",
    "        // Test whether the value is defined (i.e. `Some`) or not (i.e. `None`)\n",
    "        def isDefined: Boolean \n",
    "        def map[B](f: A => B): Option[B]\n",
    "    }\n",
    "    \n",
    "    abstract class Either[A, B]{\n",
    "        // Test whether the value is left or right\n",
    "        def isLeft: Boolean \n",
    "        def isRight: Boolean \n",
    "        def map[C](f: B => C): Either[A, C]\n",
    "    }\n",
    "}"
   ]
  },
  {
   "cell_type": "markdown",
   "metadata": {},
   "source": [
    "### Definiciones auxiliares sobre la correspondencia Curry-Howard"
   ]
  },
  {
   "cell_type": "code",
   "execution_count": 158,
   "metadata": {},
   "outputs": [
    {
     "data": {
      "text/plain": [
       "defined \u001b[32mtype\u001b[39m \u001b[36mNot\u001b[39m"
      ]
     },
     "execution_count": 158,
     "metadata": {},
     "output_type": "execute_result"
    }
   ],
   "source": [
    "type Not[P] = P => Nothing\n"
   ]
  },
  {
   "cell_type": "markdown",
   "metadata": {},
   "source": [
    "# Ejercicio 1 (variante 1)\n",
    "\n",
    "\n",
    "__a) (2 puntos)__ Utiliza la correspondencia de Curry-Howard para demostrar la siguiente tautología de la lógica proposicional intuicionista: \n",
    "\n",
    "$\\neg p \\rightarrow \\neg\\neg\\neg p$"
   ]
  },
  {
   "cell_type": "code",
   "execution_count": 65,
   "metadata": {},
   "outputs": [
    {
     "data": {
      "text/plain": [
       "defined \u001b[32mfunction\u001b[39m \u001b[36mproof\u001b[39m"
      ]
     },
     "execution_count": 65,
     "metadata": {},
     "output_type": "execute_result"
    }
   ],
   "source": [
    "def proof[P]: Not[P] => Not[Not[Not[P]]] = \n",
    "    (notP: P => Nothing) => \n",
    "        (f: (P => Nothing) => Nothing) => \n",
    "            f(notP) : Nothing"
   ]
  },
  {
   "cell_type": "markdown",
   "metadata": {},
   "source": [
    "__b) (1 punto)__ Utiliza la correspondencia de Curry-Howard para demostrar el siguiente teorema de la lógica clásica: \n",
    "\n",
    "$(\\neg q \\rightarrow \\neg p) \\rightarrow (p \\rightarrow q)$\n",
    "\n",
    "Supóngase para ello que la ley del tercio excluso se cumple para la variable proposicional $q$, es decir, que la fórmula $q \\vee \\neg q$  puede utilizarse como premisa.\n"
   ]
  },
  {
   "cell_type": "code",
   "execution_count": 62,
   "metadata": {},
   "outputs": [
    {
     "data": {
      "text/plain": [
       "defined \u001b[32mfunction\u001b[39m \u001b[36mproof\u001b[39m"
      ]
     },
     "execution_count": 62,
     "metadata": {},
     "output_type": "execute_result"
    }
   ],
   "source": [
    "def proof[P, Q](middle: Either[Q, Not[Q]]): (Not[Q] => Not[P]) => (P => Q) = \n",
    "    (f: Not[Q] => Not[P]) => (p: P) => \n",
    "        middle match {\n",
    "            case Left(q: Q) => \n",
    "                q : Q\n",
    "            case Right(notQ: Not[Q]) => \n",
    "                f(notQ)(p) : Q\n",
    "        }"
   ]
  },
  {
   "cell_type": "markdown",
   "metadata": {},
   "source": [
    "# Ejercicio 2\n",
    "__(1 punto)__"
   ]
  },
  {
   "cell_type": "markdown",
   "metadata": {},
   "source": [
    "Demuestra el siguiente isomorfismo entre tipos algebraicos de datos para todo tipo $X$: \n",
    "\n",
    "$(1+1)^X \\cong Boolean^X$\n",
    "\n",
    "de tal forma que se verifique el siguiente test unitario para $X=Int$:"
   ]
  },
  {
   "cell_type": "markdown",
   "metadata": {},
   "source": [
    "_(variante 1)_"
   ]
  },
  {
   "cell_type": "code",
   "execution_count": 171,
   "metadata": {},
   "outputs": [
    {
     "data": {
      "text/plain": [
       "defined \u001b[32mclass\u001b[39m \u001b[36mIsoTest\u001b[39m"
      ]
     },
     "execution_count": 171,
     "metadata": {},
     "output_type": "execute_result"
    }
   ],
   "source": [
    "class IsoTest(\n",
    "    from: Either[Int, Either[Unit, Unit] => Int] => (Int, Option[Int]), \n",
    "    to: ((Int, Option[Int])) => Either[Int, Either[Unit, Unit] => Int]\n",
    ") extends FlatSpec with Matchers{\n",
    "    \n",
    "    \"from-to\" should \"work\" in {\n",
    "        from(to((0, None))) shouldBe (0, None)\n",
    "        from(to((0, Some(1)))) shouldBe (0, Some(1))\n",
    "    }\n",
    "    \n",
    "    val f: Either[Unit, Unit] => Int = {\n",
    "        case Left(()) => 0\n",
    "        case Right(()) => 1\n",
    "    }\n",
    "    \n",
    "    \"to-from\" should \"work\" in {\n",
    "        to(from(Left(0))) shouldBe Left(0)\n",
    "        to(from(Right(f))).map(_(Left(()))) shouldBe Right(f).map(_(Left(())))\n",
    "        to(from(Right(f))).map(_(Right(()))) shouldBe Right(f).map(_(Right(())))\n",
    "    }\n",
    "}"
   ]
  },
  {
   "cell_type": "code",
   "execution_count": 172,
   "metadata": {},
   "outputs": [
    {
     "data": {
      "text/plain": [
       "defined \u001b[32mfunction\u001b[39m \u001b[36mfrom\u001b[39m"
      ]
     },
     "execution_count": 172,
     "metadata": {},
     "output_type": "execute_result"
    }
   ],
   "source": [
    "def from[X](l: Either[X, Either[Unit, Unit] => X]): (X, Option[X]) =\n",
    "    l match {\n",
    "        case Left(x) => (x, None)\n",
    "        case Right(f) => (f(Left(())), Some(f(Right(()))))\n",
    "    }"
   ]
  },
  {
   "cell_type": "code",
   "execution_count": 173,
   "metadata": {},
   "outputs": [
    {
     "data": {
      "text/plain": [
       "defined \u001b[32mfunction\u001b[39m \u001b[36mto\u001b[39m"
      ]
     },
     "execution_count": 173,
     "metadata": {},
     "output_type": "execute_result"
    }
   ],
   "source": [
    "def to[X](l: (X, Option[X])): Either[X, Either[Unit, Unit] => X] =\n",
    "    l match {\n",
    "        case (x, None) => Left(x)\n",
    "        case (x1, Some(x2)) => Right{\n",
    "            case Left(()) => x1\n",
    "            case Right(()) => x2\n",
    "        }\n",
    "    }"
   ]
  },
  {
   "cell_type": "code",
   "execution_count": 174,
   "metadata": {},
   "outputs": [
    {
     "name": "stdout",
     "output_type": "stream",
     "text": [
      "\u001b[32mcmd170$Helper$IsoTest:\u001b[0m\n",
      "\u001b[32mfrom-to\u001b[0m\n",
      "\u001b[32m- should work\u001b[0m\n",
      "\u001b[32mto-from\u001b[0m\n",
      "\u001b[32m- should work\u001b[0m\n"
     ]
    }
   ],
   "source": [
    "run(new IsoTest(from[Int], to[Int]))"
   ]
  },
  {
   "cell_type": "markdown",
   "metadata": {},
   "source": [
    "# Ejercicio 3\n",
    "__(3 puntos)__\n",
    "\n",
    "La función de orden superior `sequence` recibe una lista de valores de tipo `X` o `Y` y devuelve una lista con los valores de tipo `Y` pertenecientes a la lista de entrada (en el mismo orden), _en caso de que dicha lista no contenga ningún valor de tipo `X`_; en caso de que sí lo contenga, la función `sequence` devolverá el primer valor de tipo `X` encontrado. El comportamiento de la función se ilustra en el siguiente test unitario, donde la función `sequence` se encuentra particularizada para los tipos `X=String` e `Y=Int`:\n"
   ]
  },
  {
   "cell_type": "code",
   "execution_count": 137,
   "metadata": {},
   "outputs": [
    {
     "data": {
      "text/plain": [
       "defined \u001b[32mclass\u001b[39m \u001b[36mTestSlice\u001b[39m"
      ]
     },
     "execution_count": 137,
     "metadata": {},
     "output_type": "execute_result"
    }
   ],
   "source": [
    "class TestSlice(\n",
    "    slice: List[Int] => (Int, Int) => List[Int]\n",
    ") extends FlatSpec with Matchers{\n",
    "    \"slice\" should \"work\" in {\n",
    "        slice(List())(0,3) shouldBe List()\n",
    "        slice(List(1,2,3,4))(5,6) shouldBe List()\n",
    "        slice(List(1,2,3,4))(0,2) shouldBe List(1,2,3)\n",
    "        slice(List(1,2,3,4))(0,6) shouldBe List(1,2,3,4)\n",
    "        slice(List(1,2,3,4))(1,3) shouldBe List(2,3,4)\n",
    "        slice(List(1,2,3,4))(1,2) shouldBe List(2,3)\n",
    "    }\n",
    "}"
   ]
  },
  {
   "cell_type": "markdown",
   "metadata": {},
   "source": [
    "__a) (1 punto)__ Implementa la función `slice` con recursión final."
   ]
  },
  {
   "cell_type": "code",
   "execution_count": 176,
   "metadata": {},
   "outputs": [
    {
     "data": {
      "text/plain": [
       "defined \u001b[32mfunction\u001b[39m \u001b[36mslice\u001b[39m"
      ]
     },
     "execution_count": 176,
     "metadata": {},
     "output_type": "execute_result"
    }
   ],
   "source": [
    "def slice[A](list: List[A])(from: Int, to: Int): List[A] = {\n",
    "    def auxSlice(aux: List[A])(out: List[A], idx: Int): List[A] = \n",
    "        aux match {\n",
    "            case e :: tail if from <= idx && idx <= to => \n",
    "                auxSlice(tail)(e :: out, idx + 1)\n",
    "            case _ :: tail if idx < from => \n",
    "                auxSlice(tail)(out, idx + 1)\n",
    "            case _ => \n",
    "                out\n",
    "        }\n",
    "    \n",
    "    auxSlice(list)(Nil, 0).reverse\n",
    "}"
   ]
  },
  {
   "cell_type": "code",
   "execution_count": 177,
   "metadata": {},
   "outputs": [
    {
     "name": "stdout",
     "output_type": "stream",
     "text": [
      "\u001b[32mcmd136$Helper$TestSlice:\u001b[0m\n",
      "\u001b[32mslice\u001b[0m\n",
      "\u001b[32m- should work\u001b[0m\n"
     ]
    }
   ],
   "source": [
    "run(new TestSlice(slice))"
   ]
  },
  {
   "cell_type": "markdown",
   "metadata": {},
   "source": [
    "__b) (1 punto)__ Implementa la función `slice` con `foldLeft`."
   ]
  },
  {
   "cell_type": "code",
   "execution_count": 178,
   "metadata": {},
   "outputs": [
    {
     "data": {
      "text/plain": [
       "defined \u001b[32mfunction\u001b[39m \u001b[36mslice\u001b[39m"
      ]
     },
     "execution_count": 178,
     "metadata": {},
     "output_type": "execute_result"
    }
   ],
   "source": [
    "def slice[A](list: List[A])(from: Int, to: Int): List[A] = \n",
    "    list.foldLeft((Nil: List[A], 0)){\n",
    "        case ((out, idx), e) if from <= idx && idx <= to => \n",
    "            (e :: out, idx + 1)\n",
    "        case ((out, idx), _) => \n",
    "            (out, idx + 1)\n",
    "    }._1.reverse"
   ]
  },
  {
   "cell_type": "code",
   "execution_count": 179,
   "metadata": {},
   "outputs": [
    {
     "name": "stdout",
     "output_type": "stream",
     "text": [
      "\u001b[32mcmd136$Helper$TestSlice:\u001b[0m\n",
      "\u001b[32mslice\u001b[0m\n",
      "\u001b[32m- should work\u001b[0m\n"
     ]
    }
   ],
   "source": [
    "run(new TestSlice(slice))"
   ]
  },
  {
   "cell_type": "markdown",
   "metadata": {},
   "source": [
    "# Ejercicio 4\n",
    "__(3 puntos)__\n",
    "\n",
    "Hallar el camino más largo entre la raíz y las hojas de un árbol binario. "
   ]
  },
  {
   "cell_type": "code",
   "execution_count": 180,
   "metadata": {},
   "outputs": [
    {
     "data": {
      "text/plain": [
       "defined \u001b[32mclass\u001b[39m \u001b[36mTestLongestPath\u001b[39m"
      ]
     },
     "execution_count": 180,
     "metadata": {},
     "output_type": "execute_result"
    }
   ],
   "source": [
    "class TestLongestPath(longest: Tree[Int] => List[Int]) extends FlatSpec with Matchers{\n",
    "    \"longest path\" should \"work\" in {\n",
    "        longest(void) shouldBe \n",
    "            List()\n",
    "        longest(left(left(right(3,right(2,leaf(1))), 4), 5)) shouldBe \n",
    "            List(5,4,3,2,1)\n",
    "        longest(node(left(leaf(4), 1), 0, \n",
    "                     node(leaf(3), 2, right(2, right(4, leaf(5)))))) shouldBe \n",
    "            List(0, 2, 2, 4, 5)\n",
    "    }\n",
    "}"
   ]
  },
  {
   "cell_type": "markdown",
   "metadata": {},
   "source": [
    "__a) (1,5 puntos)__ Recursivamente."
   ]
  },
  {
   "cell_type": "code",
   "execution_count": 181,
   "metadata": {},
   "outputs": [
    {
     "data": {
      "text/plain": [
       "defined \u001b[32mfunction\u001b[39m \u001b[36mlongestPath\u001b[39m"
      ]
     },
     "execution_count": 181,
     "metadata": {},
     "output_type": "execute_result"
    }
   ],
   "source": [
    "def longestPath[A, B](tree: Tree[A]): List[A] = \n",
    "    tree match {\n",
    "        case Empty() => List()\n",
    "        case Node(left, root, right) => \n",
    "            val longestLeft: List[A] = longestPath(left)\n",
    "            val longestRight: List[A] = longestPath(right)\n",
    "            root :: (if (longestLeft.length > longestRight.length) longestLeft \n",
    "                     else longestRight)\n",
    "    }"
   ]
  },
  {
   "cell_type": "code",
   "execution_count": 43,
   "metadata": {},
   "outputs": [
    {
     "name": "stdout",
     "output_type": "stream",
     "text": [
      "\u001b[32mcmd40$Helper$TestLongestPath:\u001b[0m\n",
      "\u001b[32mlongest path\u001b[0m\n",
      "\u001b[32m- should work\u001b[0m\n"
     ]
    }
   ],
   "source": [
    "run(new TestLongestPath(longestPath))"
   ]
  },
  {
   "cell_type": "markdown",
   "metadata": {},
   "source": [
    "__b) (1,5 puntos)__ Con foldTree."
   ]
  },
  {
   "cell_type": "code",
   "execution_count": 182,
   "metadata": {},
   "outputs": [
    {
     "data": {
      "text/plain": [
       "defined \u001b[32mfunction\u001b[39m \u001b[36mlongestPath\u001b[39m"
      ]
     },
     "execution_count": 182,
     "metadata": {},
     "output_type": "execute_result"
    }
   ],
   "source": [
    "def longestPath[A, B](tree: Tree[A]): List[A] = \n",
    "    foldTree(tree)(List[A]())(\n",
    "        (longestLeft, root, longestRight) => \n",
    "            root :: (if (longestLeft.length > longestRight.length) longestLeft \n",
    "                     else longestRight)\n",
    "    )"
   ]
  },
  {
   "cell_type": "markdown",
   "metadata": {},
   "source": [
    "Sin utilizar la función `length`"
   ]
  },
  {
   "cell_type": "code",
   "execution_count": 51,
   "metadata": {},
   "outputs": [
    {
     "data": {
      "text/plain": [
       "defined \u001b[32mfunction\u001b[39m \u001b[36mlongestPath\u001b[39m"
      ]
     },
     "execution_count": 51,
     "metadata": {},
     "output_type": "execute_result"
    }
   ],
   "source": [
    "def longestPath[A, B](tree: Tree[A]): List[A] = \n",
    "    foldTree(tree)((0, List[A]())){\n",
    "        case ((l, longestLeft), root, (r, longestRight)) => \n",
    "            if (l > r) (l+1, root :: longestLeft) \n",
    "            else (r+1, root :: longestRight)\n",
    "    }._2"
   ]
  },
  {
   "cell_type": "code",
   "execution_count": 50,
   "metadata": {},
   "outputs": [
    {
     "name": "stdout",
     "output_type": "stream",
     "text": [
      "\u001b[32mcmd40$Helper$TestLongestPath:\u001b[0m\n",
      "\u001b[32mlongest path\u001b[0m\n",
      "\u001b[32m- should work\u001b[0m\n"
     ]
    }
   ],
   "source": [
    "run(new TestLongestPath(longestPath))"
   ]
  }
 ],
 "metadata": {
  "kernelspec": {
   "display_name": "Scala",
   "language": "scala",
   "name": "scala"
  },
  "language_info": {
   "codemirror_mode": "text/x-scala",
   "file_extension": ".sc",
   "mimetype": "text/x-scala",
   "name": "scala",
   "nbconvert_exporter": "script",
   "version": "2.13.1"
  }
 },
 "nbformat": 4,
 "nbformat_minor": 2
}
