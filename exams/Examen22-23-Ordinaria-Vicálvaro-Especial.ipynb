{
 "cells": [
  {
   "cell_type": "markdown",
   "metadata": {},
   "source": [
    "# Programación declarativa @ URJC\n",
    "# Programación funcional\n",
    "## Curso 22-23, convocatoria ordinaria (31 de octubre de 2022)\n",
    "## Campus de Vicálvaro\n"
   ]
  },
  {
   "cell_type": "markdown",
   "metadata": {},
   "source": [
    "# Definiciones auxiliares"
   ]
  },
  {
   "cell_type": "code",
   "execution_count": 17,
   "metadata": {},
   "outputs": [
    {
     "data": {
      "text/plain": [
       "\u001b[32mimport \u001b[39m\u001b[36m$ivy.$                               \n",
       "\u001b[39m\n",
       "\u001b[32mimport \u001b[39m\u001b[36morg.scalatest._\u001b[39m"
      ]
     },
     "execution_count": 17,
     "metadata": {},
     "output_type": "execute_result"
    }
   ],
   "source": [
    "import $ivy.`org.scalatest::scalatest:3.0.8`\n",
    "import org.scalatest._"
   ]
  },
  {
   "cell_type": "markdown",
   "metadata": {},
   "source": [
    "### Algunas definiciones de tipos y funciones auxiliares"
   ]
  },
  {
   "cell_type": "code",
   "execution_count": 18,
   "metadata": {},
   "outputs": [
    {
     "data": {
      "text/plain": [
       "defined \u001b[32mclass\u001b[39m \u001b[36mTree\u001b[39m\n",
       "defined \u001b[32mclass\u001b[39m \u001b[36mEmpty\u001b[39m\n",
       "defined \u001b[32mclass\u001b[39m \u001b[36mNode\u001b[39m\n",
       "defined \u001b[32mobject\u001b[39m \u001b[36mTree\u001b[39m\n",
       "\u001b[32mimport \u001b[39m\u001b[36mTree._\n",
       "\n",
       "\u001b[39m\n",
       "defined \u001b[32mfunction\u001b[39m \u001b[36mfoldTree\u001b[39m"
      ]
     },
     "execution_count": 18,
     "metadata": {},
     "output_type": "execute_result"
    }
   ],
   "source": [
    "sealed abstract class Tree[A]\n",
    "case class Empty[A]() extends Tree[A]\n",
    "case class Node[A](left: Tree[A], root: A, right: Tree[A]) extends Tree[A]\n",
    "\n",
    "object Tree{\n",
    "    def void[A]: Tree[A] = Empty()\n",
    "    def leaf[A](a: A): Node[A] = Node(Empty(), a, Empty())\n",
    "    def right[A](a: A, tree: Tree[A]): Node[A] = Node(Empty(), a, tree)\n",
    "    def left[A](tree: Tree[A], a: A): Node[A] = Node(tree, a, Empty())\n",
    "    def node[A](left: Tree[A], a: A, right: Tree[A]): Node[A] = Node(left, a, right)\n",
    "}\n",
    "\n",
    "import Tree._\n",
    "\n",
    "def foldTree[A, B](tree: Tree[A])(empty: B)(node: (B, A, B) => B): B = \n",
    "    tree match {\n",
    "        case Empty() => empty\n",
    "        case Node(left, root, right) => node(foldTree(left)(empty)(node), root, foldTree(right)(empty)(node))\n",
    "    }"
   ]
  },
  {
   "cell_type": "code",
   "execution_count": 19,
   "metadata": {},
   "outputs": [
    {
     "data": {
      "text/plain": [
       "defined \u001b[32mobject\u001b[39m \u001b[36mSignatures\u001b[39m"
      ]
     },
     "execution_count": 19,
     "metadata": {},
     "output_type": "execute_result"
    }
   ],
   "source": [
    "object Signatures{\n",
    "    abstract class List[A]{\n",
    "        \n",
    "        // Common HOFs\n",
    "        def foldRight[B](nil: B)(cons: (A, B) => B): B\n",
    "        def foldLeft[B](initial: B)(update: (B, A) => B): B\n",
    "        def map[B](f: A => B): List[B]\n",
    "        def flatMap[B](f: A => List[B]): List[B]\n",
    "        def filter(f: A => Boolean): List[A]\n",
    "        def forall(pred: A => Boolean): Boolean\n",
    "        def exists(pred: A => Boolean): Boolean\n",
    " \n",
    "        // Returns the number of elements of this list\n",
    "        def length: Int\n",
    "        def reverse: List[A]\n",
    "    }\n",
    "}"
   ]
  },
  {
   "cell_type": "markdown",
   "metadata": {},
   "source": [
    "### Definiciones auxiliares sobre la correspondencia Curry-Howard y Tipos Algebraicos de Datos"
   ]
  },
  {
   "cell_type": "code",
   "execution_count": 20,
   "metadata": {},
   "outputs": [
    {
     "data": {
      "text/plain": [
       "defined \u001b[32mtrait\u001b[39m \u001b[36mIsomorphic\u001b[39m"
      ]
     },
     "execution_count": 20,
     "metadata": {},
     "output_type": "execute_result"
    }
   ],
   "source": [
    "trait Isomorphic[A, B]{\n",
    "    \n",
    "    def from(a: A): B\n",
    "    \n",
    "    def to(b: B): A\n",
    "}"
   ]
  },
  {
   "cell_type": "code",
   "execution_count": 21,
   "metadata": {},
   "outputs": [
    {
     "data": {
      "text/plain": [
       "defined \u001b[32mtype\u001b[39m \u001b[36mNot\u001b[39m"
      ]
     },
     "execution_count": 21,
     "metadata": {},
     "output_type": "execute_result"
    }
   ],
   "source": [
    "type Not[P] = P => Nothing"
   ]
  },
  {
   "cell_type": "markdown",
   "metadata": {},
   "source": [
    "# Ejercicio 1\n",
    "__(2 puntos)__\n",
    "\n",
    "__a) (1 punto)__ Utiliza la correspondencia de Curry-Howard para demostrar la validez del siguiente esquema proposicional: \n",
    "\n",
    "$\\vdash \\neg \\neg (p \\vee \\neg p)$"
   ]
  },
  {
   "cell_type": "code",
   "execution_count": 22,
   "metadata": {},
   "outputs": [
    {
     "data": {
      "text/plain": [
       "defined \u001b[32mfunction\u001b[39m \u001b[36mproof\u001b[39m"
      ]
     },
     "execution_count": 22,
     "metadata": {},
     "output_type": "execute_result"
    }
   ],
   "source": [
    "def proof[P]: Not[Not[Either[P, Not[P]]]] =\n",
    "    (ne: Either[P, Not[P]] => Nothing) =>\n",
    "        ne(Right((p: P) => ne(Left(p))))"
   ]
  },
  {
   "cell_type": "markdown",
   "metadata": {},
   "source": [
    "__b) (1 punto)__ Utiliza la correspondencia Curry-Howard para demostrar la validez del siguiente esquema proposicional: $p \\wedge \\neg p \\vdash q$, __sin__ utilizar la regla de inferencia según la cual del absurdo, todo se sigue, es decir: $\\bot \\vdash q$. Para ello, utiliza como premisa adicional la ley de la doble negación aplicada a la proposición $q$, es decir, demuestra la validez intuicionista del siguiente argumento lógico:\n",
    "\n",
    "$\\{ \\neg \\neg q \\rightarrow q \\} \\vdash (p \\wedge \\neg p) \\rightarrow q$"
   ]
  },
  {
   "cell_type": "code",
   "execution_count": 23,
   "metadata": {},
   "outputs": [
    {
     "data": {
      "text/plain": [
       "defined \u001b[32mfunction\u001b[39m \u001b[36mproof\u001b[39m"
      ]
     },
     "execution_count": 23,
     "metadata": {},
     "output_type": "execute_result"
    }
   ],
   "source": [
    "def proof[P, Q](dn: Not[Not[Q]] => Q): (P, Not[P]) => Q = \n",
    "    (p, np) => dn(nq => np(p))"
   ]
  },
  {
   "cell_type": "markdown",
   "metadata": {},
   "source": [
    "# Ejercicio 2\n",
    "__(1 punto)__"
   ]
  },
  {
   "cell_type": "markdown",
   "metadata": {},
   "source": [
    "Demuestra que, para todo tipo `A` y `R`, los tipos de datos algebraicos $R^A*R^1$ y $R^{A+1}$ son isomorfos. Utiliza el tipo de datos `Option[A]` para representar el tipo algebraico $A+1$."
   ]
  },
  {
   "cell_type": "code",
   "execution_count": 24,
   "metadata": {},
   "outputs": [
    {
     "data": {
      "text/plain": [
       "defined \u001b[32mclass\u001b[39m \u001b[36mIso\u001b[39m"
      ]
     },
     "execution_count": 24,
     "metadata": {},
     "output_type": "execute_result"
    }
   ],
   "source": [
    "class Iso[A, R] extends Isomorphic[(A => R, Unit => R), Option[A] => R]{\n",
    "    \n",
    "    def from(f: (A => R, Unit => R)): Option[A] => R = \n",
    "        {\n",
    "            case None => f._2()\n",
    "            case Some(a) => f._1(a)\n",
    "        }\n",
    "\n",
    "    def to(f: Option[A] => R): (A => R, Unit => R) = \n",
    "        (a => f(Some(a)), _ => f(None))\n",
    "}"
   ]
  },
  {
   "cell_type": "markdown",
   "metadata": {},
   "source": [
    "# Ejercicio 3\n",
    "__(3 puntos)__\n",
    "\n",
    "Dado el siguiente tipo de datos recursivo:"
   ]
  },
  {
   "cell_type": "code",
   "execution_count": 73,
   "metadata": {},
   "outputs": [
    {
     "data": {
      "text/plain": [
       "defined \u001b[32mclass\u001b[39m \u001b[36mStruct\u001b[39m"
      ]
     },
     "execution_count": 73,
     "metadata": {},
     "output_type": "execute_result"
    }
   ],
   "source": [
    "case class Struct[A](elements: List[Either[A, Struct[A]]])"
   ]
  },
  {
   "cell_type": "markdown",
   "metadata": {},
   "source": [
    "implementa una función `flatten: List[Either[A, Struct[A]]] => List[A]`, que permita extraer todos los elementos de la estructura en una nueva lista. Ténganse en cuenta las siguientes pruebas:"
   ]
  },
  {
   "cell_type": "code",
   "execution_count": 78,
   "metadata": {},
   "outputs": [
    {
     "data": {
      "text/plain": [
       "defined \u001b[32mclass\u001b[39m \u001b[36mTestFlatten\u001b[39m"
      ]
     },
     "execution_count": 78,
     "metadata": {},
     "output_type": "execute_result"
    }
   ],
   "source": [
    "class TestFlatten(flatten: List[Either[Int, Struct[Int]]] => List[Int])\n",
    "extends FlatSpec with Matchers{\n",
    "    \n",
    "    val l: List[Either[Int, Struct[Int]]] = \n",
    "        List(Left(1), \n",
    "             Left(2), \n",
    "             Right(Struct(List(Left(3), \n",
    "                               Right(Struct(List())),\n",
    "                               Left(4),\n",
    "                               Right(Struct(List(Left(5))))))))\n",
    "    \n",
    "    \"flatten\" should \"work\" in {\n",
    "        flatten(l) shouldBe List(1,2,3,4,5)\n",
    "    }\n",
    "}"
   ]
  },
  {
   "cell_type": "markdown",
   "metadata": {},
   "source": [
    "__a) (1 punto)__ Implementa la función `flatten` de manera recursiva:"
   ]
  },
  {
   "cell_type": "code",
   "execution_count": 79,
   "metadata": {},
   "outputs": [
    {
     "data": {
      "text/plain": [
       "defined \u001b[32mfunction\u001b[39m \u001b[36mflatten\u001b[39m"
      ]
     },
     "execution_count": 79,
     "metadata": {},
     "output_type": "execute_result"
    }
   ],
   "source": [
    "def flatten[A](l: List[Either[A, Struct[A]]]): List[A] = \n",
    "    l match {\n",
    "        case Nil => Nil\n",
    "        case Left(a) :: tail => a :: flatten(tail)\n",
    "        case Right(Struct(l)) :: tail => flatten(l) ++ flatten(tail)\n",
    "    }"
   ]
  },
  {
   "cell_type": "code",
   "execution_count": 80,
   "metadata": {},
   "outputs": [
    {
     "name": "stdout",
     "output_type": "stream",
     "text": [
      "\u001b[32mcmd77$Helper$TestFlatten:\u001b[0m\n",
      "\u001b[32mflatten\u001b[0m\n",
      "\u001b[32m- should work\u001b[0m\n"
     ]
    }
   ],
   "source": [
    "run(new TestFlatten(flatten))"
   ]
  },
  {
   "cell_type": "markdown",
   "metadata": {},
   "source": [
    "__b) (1 punto)__ Implementa la función `flatten` utilizando la función de orden superior `foldRight`:"
   ]
  },
  {
   "cell_type": "code",
   "execution_count": 82,
   "metadata": {},
   "outputs": [
    {
     "data": {
      "text/plain": [
       "defined \u001b[32mfunction\u001b[39m \u001b[36mflatten\u001b[39m"
      ]
     },
     "execution_count": 82,
     "metadata": {},
     "output_type": "execute_result"
    }
   ],
   "source": [
    "def flatten[A](l: List[Either[A, Struct[A]]]): List[A] = \n",
    "    l.foldRight(Nil: List[A]){\n",
    "        case (Left(a), tailSol) => a :: tailSol\n",
    "        case (Right(Struct(h)), tailSol) => \n",
    "            flatten(h) ++ tailSol\n",
    "    }"
   ]
  },
  {
   "cell_type": "code",
   "execution_count": 83,
   "metadata": {},
   "outputs": [
    {
     "name": "stdout",
     "output_type": "stream",
     "text": [
      "\u001b[32mcmd77$Helper$TestFlatten:\u001b[0m\n",
      "\u001b[32mflatten\u001b[0m\n",
      "\u001b[32m- should work\u001b[0m\n"
     ]
    }
   ],
   "source": [
    "run(new TestFlatten(flatten))"
   ]
  },
  {
   "cell_type": "markdown",
   "metadata": {},
   "source": [
    "__c) (1 punto)__  Implementa la función `flatten` utilizando la función de orden superior `foldLeft`:"
   ]
  },
  {
   "cell_type": "code",
   "execution_count": 84,
   "metadata": {},
   "outputs": [
    {
     "data": {
      "text/plain": [
       "defined \u001b[32mfunction\u001b[39m \u001b[36mflatten\u001b[39m"
      ]
     },
     "execution_count": 84,
     "metadata": {},
     "output_type": "execute_result"
    }
   ],
   "source": [
    "def flatten[A](l: List[Either[A, Struct[A]]]): List[A] = \n",
    "    l.foldLeft(Nil: List[A]){\n",
    "        case (acc, Left(a)) => acc :+ a\n",
    "        case (acc, Right(Struct(h))) => acc ++ flatten(h) \n",
    "    }"
   ]
  },
  {
   "cell_type": "code",
   "execution_count": 85,
   "metadata": {},
   "outputs": [
    {
     "name": "stdout",
     "output_type": "stream",
     "text": [
      "\u001b[32mcmd77$Helper$TestFlatten:\u001b[0m\n",
      "\u001b[32mflatten\u001b[0m\n",
      "\u001b[32m- should work\u001b[0m\n"
     ]
    }
   ],
   "source": [
    "run(new TestFlatten(flatten))"
   ]
  },
  {
   "cell_type": "markdown",
   "metadata": {},
   "source": [
    "# Ejercicio 4\n",
    "__(3 puntos)__\n",
    "\n",
    "Considérese la siguiente definición de árbol binario:"
   ]
  },
  {
   "cell_type": "code",
   "execution_count": 36,
   "metadata": {},
   "outputs": [
    {
     "data": {
      "text/plain": [
       "defined \u001b[32mtrait\u001b[39m \u001b[36mTree\u001b[39m\n",
       "defined \u001b[32mclass\u001b[39m \u001b[36mLeaf\u001b[39m\n",
       "defined \u001b[32mclass\u001b[39m \u001b[36mBranch\u001b[39m"
      ]
     },
     "execution_count": 36,
     "metadata": {},
     "output_type": "execute_result"
    }
   ],
   "source": [
    "sealed trait Tree[A]\n",
    "case class Leaf[A](a: A) extends Tree[A]\n",
    "case class Branch[A](l: Tree[A], r: Tree[A]) extends Tree[A]"
   ]
  },
  {
   "cell_type": "markdown",
   "metadata": {},
   "source": [
    "__a) (1 punto)__ Implementa una función `isEven: Tree[Int] => Boolean` que dado un árbol binario de número enteros, devuelve cierto si el número de elementos pares es par, y falso en caso contrario. Por ejemplo:"
   ]
  },
  {
   "cell_type": "code",
   "execution_count": 52,
   "metadata": {},
   "outputs": [
    {
     "data": {
      "text/plain": [
       "defined \u001b[32mclass\u001b[39m \u001b[36mTestIsEven\u001b[39m"
      ]
     },
     "execution_count": 52,
     "metadata": {},
     "output_type": "execute_result"
    }
   ],
   "source": [
    "class TestIsEven(isEven: Tree[Int] => Boolean) extends FlatSpec with Matchers{\n",
    "    \n",
    "    val t1: Tree[Int] = \n",
    "        Branch(Branch(Leaf(1), Branch(Branch(Leaf(2), Leaf(3)), Leaf(4))), Leaf(5))\n",
    "    \n",
    "    val t2: Tree[Int] = \n",
    "        Branch(Branch(Leaf(0), Branch(Branch(Leaf(2), Leaf(3)), Leaf(4))), Leaf(5))\n",
    "    \n",
    "    \"isEven\" should \"work\" in {\n",
    "        isEven(t1) shouldBe true\n",
    "        isEven(t2) shouldBe false\n",
    "        isEven(Leaf(0)) shouldBe false\n",
    "        isEven(Leaf(1)) shouldBe true\n",
    "    }\n",
    "}"
   ]
  },
  {
   "cell_type": "code",
   "execution_count": 53,
   "metadata": {},
   "outputs": [
    {
     "data": {
      "text/plain": [
       "defined \u001b[32mfunction\u001b[39m \u001b[36misEven\u001b[39m"
      ]
     },
     "execution_count": 53,
     "metadata": {},
     "output_type": "execute_result"
    }
   ],
   "source": [
    "def isEven(t: Tree[Int]): Boolean = \n",
    "    t match {\n",
    "        case Leaf(n) => n % 2 != 0\n",
    "        case Branch(l, r) => isEven(l) && isEven(r) || !isEven(l) && !isEven(r)\n",
    "    }"
   ]
  },
  {
   "cell_type": "code",
   "execution_count": 54,
   "metadata": {},
   "outputs": [
    {
     "name": "stdout",
     "output_type": "stream",
     "text": [
      "\u001b[32mcmd51$Helper$TestIsEven:\u001b[0m\n",
      "\u001b[32misEven\u001b[0m\n",
      "\u001b[32m- should work\u001b[0m\n"
     ]
    }
   ],
   "source": [
    "run(new TestIsEven(isEven))"
   ]
  },
  {
   "cell_type": "markdown",
   "metadata": {},
   "source": [
    "__b) (1 punto)__ Implementa la función `total` que dado un árbol de cadenas de caracteres, devuelve la suma de todas las longitudes de las cadenas almacenadas en el árbol. Por ejemplo:"
   ]
  },
  {
   "cell_type": "code",
   "execution_count": 64,
   "metadata": {},
   "outputs": [
    {
     "data": {
      "text/plain": [
       "defined \u001b[32mclass\u001b[39m \u001b[36mTestTotal\u001b[39m"
      ]
     },
     "execution_count": 64,
     "metadata": {},
     "output_type": "execute_result"
    }
   ],
   "source": [
    "class TestTotal(total: Tree[String] => Int) extends FlatSpec with Matchers{\n",
    "    \n",
    "    val t1: Tree[String] = \n",
    "        Branch(Branch(Leaf(\"hi\"), Branch(Branch(Leaf(\"lucas\"), Leaf(\"eh\")), Leaf(\"oh\"))), Leaf(\"w\"))\n",
    "    \n",
    "    \"total\" should \"work\" in {\n",
    "        total(t1) shouldBe 12\n",
    "        total(Leaf(\"\")) shouldBe 0\n",
    "        total(Leaf(\"a\")) shouldBe 1\n",
    "    }\n",
    "}"
   ]
  },
  {
   "cell_type": "code",
   "execution_count": 65,
   "metadata": {},
   "outputs": [
    {
     "data": {
      "text/plain": [
       "defined \u001b[32mfunction\u001b[39m \u001b[36mtotal\u001b[39m"
      ]
     },
     "execution_count": 65,
     "metadata": {},
     "output_type": "execute_result"
    }
   ],
   "source": [
    "def total(t: Tree[String]): Int = \n",
    "    t match {\n",
    "        case Leaf(s) => s.length\n",
    "        case Branch(l, r) => total(l) + total(r)\n",
    "    }"
   ]
  },
  {
   "cell_type": "code",
   "execution_count": 66,
   "metadata": {},
   "outputs": [
    {
     "name": "stdout",
     "output_type": "stream",
     "text": [
      "\u001b[32mcmd54$Helper$TestLength:\u001b[0m\n",
      "\u001b[32mlength\u001b[0m\n",
      "\u001b[32m- should work\u001b[0m\n"
     ]
    }
   ],
   "source": [
    "run(new TestLength(total))"
   ]
  },
  {
   "cell_type": "markdown",
   "metadata": {},
   "source": [
    "__c) (2 puntos)__ Implementa una función de orden superior `fold`, similar la función `foldTree` explicada en clase, que permita reimplementar de una forma más modular las dos funciones anteriores. "
   ]
  },
  {
   "cell_type": "code",
   "execution_count": 67,
   "metadata": {},
   "outputs": [
    {
     "data": {
      "text/plain": [
       "defined \u001b[32mfunction\u001b[39m \u001b[36mfold\u001b[39m"
      ]
     },
     "execution_count": 67,
     "metadata": {},
     "output_type": "execute_result"
    }
   ],
   "source": [
    "def fold[A, B](t: Tree[A])(leaf: A => B)(branch: (B, B) => B): B = \n",
    "    t match {\n",
    "        case Leaf(a) => leaf(a)\n",
    "        case Branch(l, r) => branch(fold(l)(leaf)(branch), fold(r)(leaf)(branch))\n",
    "    }"
   ]
  },
  {
   "cell_type": "markdown",
   "metadata": {},
   "source": [
    "Reimplementa las funciones `isEven` y `total` utilizando la función de orden superior `fold`:"
   ]
  },
  {
   "cell_type": "code",
   "execution_count": 68,
   "metadata": {},
   "outputs": [
    {
     "data": {
      "text/plain": [
       "defined \u001b[32mfunction\u001b[39m \u001b[36misEven\u001b[39m"
      ]
     },
     "execution_count": 68,
     "metadata": {},
     "output_type": "execute_result"
    }
   ],
   "source": [
    "def isEven(t: Tree[Int]): Boolean = \n",
    "    fold(t)(_ % 2 != 0)((el, er) => el && er || !el && !er)"
   ]
  },
  {
   "cell_type": "code",
   "execution_count": 69,
   "metadata": {},
   "outputs": [
    {
     "name": "stdout",
     "output_type": "stream",
     "text": [
      "\u001b[32mcmd51$Helper$TestIsEven:\u001b[0m\n",
      "\u001b[32misEven\u001b[0m\n",
      "\u001b[32m- should work\u001b[0m\n"
     ]
    }
   ],
   "source": [
    "run(new TestIsEven(isEven))"
   ]
  },
  {
   "cell_type": "code",
   "execution_count": 70,
   "metadata": {},
   "outputs": [
    {
     "data": {
      "text/plain": [
       "defined \u001b[32mfunction\u001b[39m \u001b[36mtotal\u001b[39m"
      ]
     },
     "execution_count": 70,
     "metadata": {},
     "output_type": "execute_result"
    }
   ],
   "source": [
    "def total(t: Tree[String]): Int = \n",
    "    fold(t)(_.length)(_ + _)"
   ]
  },
  {
   "cell_type": "code",
   "execution_count": 72,
   "metadata": {},
   "outputs": [
    {
     "name": "stdout",
     "output_type": "stream",
     "text": [
      "\u001b[32mcmd63$Helper$TestTotal:\u001b[0m\n",
      "\u001b[32mtotal\u001b[0m\n",
      "\u001b[32m- should work\u001b[0m\n"
     ]
    }
   ],
   "source": [
    "run(new TestTotal(total))"
   ]
  },
  {
   "cell_type": "code",
   "execution_count": null,
   "metadata": {},
   "outputs": [],
   "source": []
  }
 ],
 "metadata": {
  "kernelspec": {
   "display_name": "Scala 2.13",
   "language": "scala",
   "name": "scala"
  },
  "language_info": {
   "codemirror_mode": "text/x-scala",
   "file_extension": ".sc",
   "mimetype": "text/x-scala",
   "name": "scala",
   "nbconvert_exporter": "script",
   "version": "2.13.9"
  }
 },
 "nbformat": 4,
 "nbformat_minor": 4
}
