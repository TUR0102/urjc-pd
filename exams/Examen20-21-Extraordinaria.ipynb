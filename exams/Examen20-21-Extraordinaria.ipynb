{
 "cells": [
  {
   "cell_type": "markdown",
   "metadata": {},
   "source": [
    "# Programación declarativa @ URJC\n",
    "# Programación funcional\n",
    "## Examen Convocatoria Extraordinaria (2 de julio de 2021)\n",
    "## Curso 2020-2021"
   ]
  },
  {
   "cell_type": "markdown",
   "metadata": {},
   "source": [
    "# Definiciones auxiliares"
   ]
  },
  {
   "cell_type": "code",
   "execution_count": 1,
   "metadata": {},
   "outputs": [
    {
     "data": {
      "text/plain": [
       "\u001b[32mimport \u001b[39m\u001b[36m$ivy.$                               \n",
       "\u001b[39m\n",
       "\u001b[32mimport \u001b[39m\u001b[36morg.scalatest._\u001b[39m"
      ]
     },
     "execution_count": 1,
     "metadata": {},
     "output_type": "execute_result"
    }
   ],
   "source": [
    "import $ivy.`org.scalatest::scalatest:3.0.8`\n",
    "import org.scalatest._"
   ]
  },
  {
   "cell_type": "markdown",
   "metadata": {},
   "source": [
    "### Algunas funciones sobre tipos estándar de la librería de Scala"
   ]
  },
  {
   "cell_type": "code",
   "execution_count": 2,
   "metadata": {},
   "outputs": [
    {
     "data": {
      "text/plain": [
       "defined \u001b[32mobject\u001b[39m \u001b[36mSignatures\u001b[39m"
      ]
     },
     "execution_count": 2,
     "metadata": {},
     "output_type": "execute_result"
    }
   ],
   "source": [
    "object Signatures{\n",
    "    abstract class List[A]{\n",
    "        \n",
    "        // Common HOFs\n",
    "        def foldRight[B](directSol: B)(composeSol: (A, B) => B): B\n",
    "        def foldLeft[B](initial: B)(update: (B, A) => B): B\n",
    "        def map[B](f: A => B): List[B]\n",
    "        def flatMap[B](f: A => List[B]): List[B]\n",
    "        def filter(f: A => Boolean): List[A]\n",
    "        def forall(pred: A => Boolean): Boolean\n",
    "        def exists(pred: A => Boolean): Boolean\n",
    "        \n",
    "        // Reverse a list\n",
    "        // e.g. List(1,2,3).reverse==List(3,2,1)\n",
    "        def reverse: List[A]\n",
    "        \n",
    "        // Take the first `n` elements of the list\n",
    "        // e.g. List(1,2,3).take(2) == List(1,2)\n",
    "        //      List(1,2,3).take(0) == List()\n",
    "        //      List(1,2,3).take(5) == List(1,2,3)\n",
    "        def take(n: Int): List[A]\n",
    "        \n",
    "        // Drop the first `n` elements of the list \n",
    "        // e.g. List(1,2,3).drop(2) == List(3)\n",
    "        //      List(1,2,3).drop(0) == List(1,2,3)\n",
    "        //      List(1,2,3).drop(4) == List()\n",
    "        def drop(n: Int): List[A]\n",
    "\n",
    "        // List concatenation\n",
    "        // e.g. List(1,2,3).concat(List(4,5)) == List(1,2,3,4,5)\n",
    "        def concat(l: List[A]): List[A]\n",
    "    }\n",
    "    \n",
    "    abstract class Option[A]{\n",
    "        // Test whether the value is defined (i.e. `Some`) or not (i.e. `None`)\n",
    "        def isDefined: Boolean \n",
    "        def map[B](f: A => B): Option[B]\n",
    "    }\n",
    "    \n",
    "    abstract class Either[A, B]{\n",
    "        // Test whether the value is left or right\n",
    "        def isLeft: Boolean \n",
    "        def isRight: Boolean \n",
    "        def map[C](f: B => C): Either[A, C]\n",
    "    }\n",
    "}"
   ]
  },
  {
   "cell_type": "markdown",
   "metadata": {},
   "source": [
    "### Definiciones auxiliares sobre la correspondencia Curry-Howard"
   ]
  },
  {
   "cell_type": "code",
   "execution_count": 3,
   "metadata": {},
   "outputs": [
    {
     "data": {
      "text/plain": [
       "defined \u001b[32mtype\u001b[39m \u001b[36mNot\u001b[39m\n",
       "defined \u001b[32mtype\u001b[39m \u001b[36m<=>\u001b[39m\n",
       "defined \u001b[32mtype\u001b[39m \u001b[36mOr\u001b[39m\n",
       "defined \u001b[32mtype\u001b[39m \u001b[36mAnd\u001b[39m"
      ]
     },
     "execution_count": 3,
     "metadata": {},
     "output_type": "execute_result"
    }
   ],
   "source": [
    "type Not[P] = P => Nothing\n",
    "type <=>[P, Q] = (P => Q, Q => P)\n",
    "type Or[P, Q] = Either[P, Q]\n",
    "type And[P, Q] = (P, Q)"
   ]
  },
  {
   "cell_type": "markdown",
   "metadata": {},
   "source": [
    "# Ejercicio 1\n",
    "\n",
    "\n",
    "__a) (2 puntos)__ Utiliza la correspondencia de Curry-Howard para demostrar que las siguientes proposiciones representan teoremas de la lógica intuicionista: \n",
    "\n",
    "$\\vdash \\neg (p \\vee q) \\rightarrow \\neg p \\wedge \\neg q$\n"
   ]
  },
  {
   "cell_type": "code",
   "execution_count": 103,
   "metadata": {},
   "outputs": [
    {
     "data": {
      "text/plain": [
       "defined \u001b[32mfunction\u001b[39m \u001b[36mproof\u001b[39m"
      ]
     },
     "execution_count": 103,
     "metadata": {},
     "output_type": "execute_result"
    }
   ],
   "source": [
    "def proof[P, Q](p1: Not[Either[P, Q]]): (Not[P], Not[Q]) = \n",
    "    ((p:P) => p1(Left(p)), \n",
    "     (q: Q) => p1(Right(q)))"
   ]
  },
  {
   "cell_type": "markdown",
   "metadata": {},
   "source": [
    "$\\vdash \\neg p \\wedge \\neg q \\rightarrow \\neg (p \\vee q)$"
   ]
  },
  {
   "cell_type": "code",
   "execution_count": 9,
   "metadata": {},
   "outputs": [
    {
     "data": {
      "text/plain": [
       "defined \u001b[32mfunction\u001b[39m \u001b[36mproof\u001b[39m"
      ]
     },
     "execution_count": 9,
     "metadata": {},
     "output_type": "execute_result"
    }
   ],
   "source": [
    "def proof[P, Q](p1: (Not[P], Not[Q])): Not[Either[P, Q]]  = \n",
    "    { \n",
    "        case Left(p) => p1._1(p)\n",
    "        case Right(q) => p1._2(q)\n",
    "    }"
   ]
  },
  {
   "cell_type": "markdown",
   "metadata": {},
   "source": [
    "__b) (1 punto)__ Utiliza la correspondencia de Curry-Howard para demostrar el siguiente teorema de la lógica clásica: \n",
    "\n",
    "$\\vdash \\neg(\\neg p \\vee \\neg q) \\rightarrow p \\wedge q$\n",
    "\n",
    "Supóngase para ello que la ley del tercio excluso se cumple para las variables proposicionales $p$ y $q$, es decir, que las fórmulas $p ∨ ¬p$ y $q ∨ ¬q$  pueden utilizarse como premisas.\n"
   ]
  },
  {
   "cell_type": "code",
   "execution_count": 11,
   "metadata": {},
   "outputs": [
    {
     "data": {
      "text/plain": [
       "defined \u001b[32mfunction\u001b[39m \u001b[36mproof\u001b[39m"
      ]
     },
     "execution_count": 11,
     "metadata": {},
     "output_type": "execute_result"
    }
   ],
   "source": [
    "def proof[P, Q](pnp: Either[P, Not[P]], qnq: Either[Q, Not[Q]]): Not[Either[Not[P], Not[Q]]] => (P, Q) = \n",
    "    (f: Either[Not[P], Not[Q]] => Nothing) => \n",
    "        (pnp, qnq) match {\n",
    "            case (Left(p), Left(q)) => (p, q)\n",
    "            case (Left(p), Right(nq)) => (p, f(Right(nq)))\n",
    "            case (Right(np), Left(q)) => (f(Left(np)), q)\n",
    "            case (Right(np), Right(nq)) => (f(Left(np)), f(Right(nq)))\n",
    "        }"
   ]
  },
  {
   "cell_type": "markdown",
   "metadata": {},
   "source": [
    "# Ejercicio 2 \n",
    "__(2 puntos)__"
   ]
  },
  {
   "cell_type": "markdown",
   "metadata": {},
   "source": [
    "Demuestra el isomorfismo entre tipos algebraicos de datos correspondiente a la siguiente igualdad algebraica: \n",
    "\n",
    "<p style=\"text-align: center;\">$(y*z)^x = y^x*z^x$, para todo $x$, $y$, $z \\in \\mathbb{N}$</p>"
   ]
  },
  {
   "cell_type": "code",
   "execution_count": 79,
   "metadata": {},
   "outputs": [
    {
     "data": {
      "text/plain": [
       "defined \u001b[32mfunction\u001b[39m \u001b[36mfrom\u001b[39m"
      ]
     },
     "execution_count": 79,
     "metadata": {},
     "output_type": "execute_result"
    }
   ],
   "source": [
    "def from[X, Y, Z](f: X => (Y, Z)): (X => Y, X => Z) = \n",
    "    (x => f(x)._1, x => f(x)._2)\n"
   ]
  },
  {
   "cell_type": "code",
   "execution_count": 80,
   "metadata": {},
   "outputs": [
    {
     "data": {
      "text/plain": [
       "defined \u001b[32mfunction\u001b[39m \u001b[36mto\u001b[39m"
      ]
     },
     "execution_count": 80,
     "metadata": {},
     "output_type": "execute_result"
    }
   ],
   "source": [
    "def to[X, Y, Z](t: (X => Y, X => Z)): X => (Y, Z)  = \n",
    "    x => (t._1(x), t._2(x))\n"
   ]
  },
  {
   "cell_type": "markdown",
   "metadata": {},
   "source": [
    "# Ejercicio 3 (variante A)\n",
    "__(5 puntos)__\n",
    "\n",
    "La función `split` recibe una lista de pares y devuelve un par de listas formadas por los elementos de la primera y segunda componentes de cada par, respectivamente. El comportamiento de la función se ilustra en el siguiente test unitario:\n"
   ]
  },
  {
   "cell_type": "code",
   "execution_count": 45,
   "metadata": {},
   "outputs": [
    {
     "data": {
      "text/plain": [
       "defined \u001b[32mclass\u001b[39m \u001b[36mSplitTest\u001b[39m"
      ]
     },
     "execution_count": 45,
     "metadata": {},
     "output_type": "execute_result"
    }
   ],
   "source": [
    "class SplitTest(\n",
    "    split: List[(Int, Boolean)] => (List[Int], List[Boolean])\n",
    ") extends FlatSpec with Matchers{\n",
    "    \"split\" should \"work\" in {\n",
    "        split(List()) shouldBe (List(), List())\n",
    "        split(List((1, true), (2, false), (3, true))) shouldBe (List(1,2,3), List(true, false, true))\n",
    "        split(List((0, true), (0, true))) shouldBe (List(0,0), List(true, true))\n",
    "    }\n",
    "}"
   ]
  },
  {
   "cell_type": "markdown",
   "metadata": {},
   "source": [
    "__a) (1 punto)__ Implementa la función `split` de manera recursiva (no final)."
   ]
  },
  {
   "cell_type": "code",
   "execution_count": 95,
   "metadata": {},
   "outputs": [
    {
     "data": {
      "text/plain": [
       "defined \u001b[32mfunction\u001b[39m \u001b[36msplitR\u001b[39m"
      ]
     },
     "execution_count": 95,
     "metadata": {},
     "output_type": "execute_result"
    }
   ],
   "source": [
    "def splitR[A, B](l: List[(A, B)]): (List[A], List[B]) = \n",
    "    l match {\n",
    "        case Nil => (Nil, Nil)\n",
    "        case (a,b) :: tail => \n",
    "            val (la, lb) = split(tail)\n",
    "            (a :: la, b :: lb)\n",
    "    }"
   ]
  },
  {
   "cell_type": "code",
   "execution_count": 96,
   "metadata": {},
   "outputs": [
    {
     "name": "stdout",
     "output_type": "stream",
     "text": [
      "\u001b[32mcmd44$Helper$SplitTest:\u001b[0m\n",
      "\u001b[32msplit\u001b[0m\n",
      "\u001b[32m- should work\u001b[0m\n"
     ]
    }
   ],
   "source": [
    "run(new SplitTest(splitR))"
   ]
  },
  {
   "cell_type": "markdown",
   "metadata": {},
   "source": [
    "__b) (1 punto)__ Implementa la función `split` utilizando __`foldRight`__."
   ]
  },
  {
   "cell_type": "code",
   "execution_count": 97,
   "metadata": {},
   "outputs": [
    {
     "data": {
      "text/plain": [
       "defined \u001b[32mfunction\u001b[39m \u001b[36msplitFR\u001b[39m"
      ]
     },
     "execution_count": 97,
     "metadata": {},
     "output_type": "execute_result"
    }
   ],
   "source": [
    "def splitFR[A, B](l: List[(A, B)]): (List[A], List[B]) = \n",
    "    l.foldRight((List[A](), List[B]())){\n",
    "        case ((a,b), (la, lb)) => \n",
    "            (a :: la, b :: lb)\n",
    "    }"
   ]
  },
  {
   "cell_type": "code",
   "execution_count": 98,
   "metadata": {},
   "outputs": [
    {
     "name": "stdout",
     "output_type": "stream",
     "text": [
      "\u001b[32mcmd44$Helper$SplitTest:\u001b[0m\n",
      "\u001b[32msplit\u001b[0m\n",
      "\u001b[32m- should work\u001b[0m\n"
     ]
    }
   ],
   "source": [
    "run(new SplitTest(splitFR))"
   ]
  },
  {
   "cell_type": "markdown",
   "metadata": {},
   "source": [
    "__c) (1 punto)__ Implementa la función `split` mediante recursión por cola (o final):"
   ]
  },
  {
   "cell_type": "code",
   "execution_count": 99,
   "metadata": {},
   "outputs": [
    {
     "data": {
      "text/plain": [
       "defined \u001b[32mfunction\u001b[39m \u001b[36msplitTR\u001b[39m"
      ]
     },
     "execution_count": 99,
     "metadata": {},
     "output_type": "execute_result"
    }
   ],
   "source": [
    "def splitTR[A, B](l: List[(A, B)]): (List[A], List[B]) = {\n",
    "    def aux(acc: (List[A], List[B]), l: List[(A, B)]): (List[A], List[B]) = \n",
    "        (acc, l) match {\n",
    "            case ((la, lb), Nil) => (la.reverse, lb.reverse)\n",
    "            case ((la, lb), (a, b) :: tail) => aux((a :: la, b :: lb), tail)\n",
    "        }\n",
    "    aux((List[A](), List[B]()), l)\n",
    "}"
   ]
  },
  {
   "cell_type": "code",
   "execution_count": 100,
   "metadata": {},
   "outputs": [
    {
     "name": "stdout",
     "output_type": "stream",
     "text": [
      "\u001b[32mcmd44$Helper$SplitTest:\u001b[0m\n",
      "\u001b[32msplit\u001b[0m\n",
      "\u001b[32m- should work\u001b[0m\n"
     ]
    }
   ],
   "source": [
    "run(new SplitTest(splitTR))"
   ]
  },
  {
   "cell_type": "markdown",
   "metadata": {},
   "source": [
    "__d) (1 punto)__ Implementa la función `split` utilizando __`foldLeft`__."
   ]
  },
  {
   "cell_type": "code",
   "execution_count": 101,
   "metadata": {},
   "outputs": [
    {
     "data": {
      "text/plain": [
       "defined \u001b[32mfunction\u001b[39m \u001b[36msplitFL\u001b[39m"
      ]
     },
     "execution_count": 101,
     "metadata": {},
     "output_type": "execute_result"
    }
   ],
   "source": [
    "def splitFL[A, B](l: List[(A, B)]): (List[A], List[B]) = \n",
    "    l.foldLeft((List[A](), List[B]())){\n",
    "        case ((la, lb), (a,b)) => \n",
    "            (a :: la, b :: lb)\n",
    "    } match {\n",
    "        case (la, lb) => (la.reverse, lb.reverse)\n",
    "    }"
   ]
  },
  {
   "cell_type": "code",
   "execution_count": 102,
   "metadata": {},
   "outputs": [
    {
     "name": "stdout",
     "output_type": "stream",
     "text": [
      "\u001b[32mcmd44$Helper$SplitTest:\u001b[0m\n",
      "\u001b[32msplit\u001b[0m\n",
      "\u001b[32m- should work\u001b[0m\n"
     ]
    }
   ],
   "source": [
    "run(new SplitTest(splitFL))"
   ]
  },
  {
   "cell_type": "markdown",
   "metadata": {},
   "source": [
    "__e) (1 punto)__ Dada una lista de puntos del plano representados mediante coordenadas polares, se desean obtener los valores de las abscisas y ordenadas de sus coordenadas rectangulares. Concretamente, dados los tipos de datos:"
   ]
  },
  {
   "cell_type": "code",
   "execution_count": 78,
   "metadata": {},
   "outputs": [
    {
     "data": {
      "text/plain": [
       "defined \u001b[32mclass\u001b[39m \u001b[36mPolar\u001b[39m\n",
       "defined \u001b[32mtype\u001b[39m \u001b[36mRectangular\u001b[39m"
      ]
     },
     "execution_count": 78,
     "metadata": {},
     "output_type": "execute_result"
    }
   ],
   "source": [
    "case class Polar(radius: Double, angle: Double)\n",
    "type Rectangular = (Double, Double)"
   ]
  },
  {
   "cell_type": "markdown",
   "metadata": {},
   "source": [
    "y la función de conversión entre coordenadas polares y rectangulares: "
   ]
  },
  {
   "cell_type": "code",
   "execution_count": 67,
   "metadata": {},
   "outputs": [
    {
     "data": {
      "text/plain": [
       "\u001b[32mimport \u001b[39m\u001b[36mscala.math.{Pi, sin, cos}\n",
       "\n",
       "\u001b[39m\n",
       "defined \u001b[32mfunction\u001b[39m \u001b[36mfrom\u001b[39m"
      ]
     },
     "execution_count": 67,
     "metadata": {},
     "output_type": "execute_result"
    }
   ],
   "source": [
    "import scala.math.{Pi, sin, cos}\n",
    "\n",
    "def from(p: Polar): Rectangular = \n",
    "    (p.radius * cos(p.angle), p.radius * sin(p.angle))"
   ]
  },
  {
   "cell_type": "markdown",
   "metadata": {},
   "source": [
    "se desea implementar una función `components` que satisfaga el siguiente test unitario:"
   ]
  },
  {
   "cell_type": "code",
   "execution_count": 75,
   "metadata": {},
   "outputs": [
    {
     "data": {
      "text/plain": [
       "defined \u001b[32mclass\u001b[39m \u001b[36mComponentsTest\u001b[39m"
      ]
     },
     "execution_count": 75,
     "metadata": {},
     "output_type": "execute_result"
    }
   ],
   "source": [
    "class ComponentsTest(\n",
    "    components: List[Polar] => (List[Double], List[Double])\n",
    ") extends FlatSpec with Matchers{\n",
    "    \"components\" should \"work\" in {\n",
    "        components(List(Polar(1,0), Polar(2,Pi/4), Polar(3,Pi/2), Polar(4,Pi))) shouldBe \n",
    "            (List(cos(0), 2*cos(Pi/4), 3*cos(Pi/2), 4*cos(Pi)), \n",
    "            List(sin(0), 2*sin(Pi/4), 3*sin(Pi/2), 4*sin(Pi)))\n",
    "    }\n",
    "}"
   ]
  },
  {
   "cell_type": "markdown",
   "metadata": {},
   "source": [
    "Implementa la función `components` utilizando la función `split` y alguna de las funciones de orden superior explicadas en clase (`map`, `flatMap`, `foldLeft`, `foldRight`, etc.), de tal forma que la implementación sea lo más __concisa__ posible."
   ]
  },
  {
   "cell_type": "code",
   "execution_count": 76,
   "metadata": {},
   "outputs": [
    {
     "data": {
      "text/plain": [
       "defined \u001b[32mfunction\u001b[39m \u001b[36mcomponents\u001b[39m"
      ]
     },
     "execution_count": 76,
     "metadata": {},
     "output_type": "execute_result"
    }
   ],
   "source": [
    "def components(l: List[Polar]): (List[Double], List[Double]) = \n",
    "    split(l.map(from))"
   ]
  },
  {
   "cell_type": "code",
   "execution_count": 77,
   "metadata": {},
   "outputs": [
    {
     "name": "stdout",
     "output_type": "stream",
     "text": [
      "\u001b[32mcmd74$Helper$ComponentsTest:\u001b[0m\n",
      "\u001b[32mcomponents\u001b[0m\n",
      "\u001b[32m- should work\u001b[0m\n"
     ]
    }
   ],
   "source": [
    "run(new ComponentsTest(components))"
   ]
  },
  {
   "cell_type": "markdown",
   "metadata": {},
   "source": [
    "# Ejercicio 3 (variante B)\n",
    "__(5 puntos)__\n",
    "\n",
    "La función `split` recibe una lista de valores de tipo `Either`, y devuelve un par de listas formadas por los elementos de tipo `Left` y `Right`, respectivamente. El comportamiento de la función se ilustra en el siguiente test unitario:\n"
   ]
  },
  {
   "cell_type": "code",
   "execution_count": 6,
   "metadata": {},
   "outputs": [
    {
     "data": {
      "text/plain": [
       "defined \u001b[32mclass\u001b[39m \u001b[36mSplitTest\u001b[39m"
      ]
     },
     "execution_count": 6,
     "metadata": {},
     "output_type": "execute_result"
    }
   ],
   "source": [
    "class SplitTest(\n",
    "    split: List[Either[Int, Boolean]] => (List[Int], List[Boolean])\n",
    ") extends FlatSpec with Matchers{\n",
    "    \"split\" should \"work\" in {\n",
    "        split(List()) shouldBe (List(), List())\n",
    "        split(List(Left(1), Right(false), Left(3))) shouldBe (List(1,3), List(false))\n",
    "        split(List(Right(true), Right(true))) shouldBe (List(), List(true, true))\n",
    "    }\n",
    "}"
   ]
  },
  {
   "cell_type": "markdown",
   "metadata": {},
   "source": [
    "__a) (1 punto)__ Implementa la función `split` de manera recursiva (no final)."
   ]
  },
  {
   "cell_type": "code",
   "execution_count": 7,
   "metadata": {},
   "outputs": [
    {
     "data": {
      "text/plain": [
       "defined \u001b[32mfunction\u001b[39m \u001b[36msplitR\u001b[39m"
      ]
     },
     "execution_count": 7,
     "metadata": {},
     "output_type": "execute_result"
    }
   ],
   "source": [
    "def splitR[A, B](l: List[Either[A, B]]): (List[A], List[B]) = \n",
    "    l match {\n",
    "        case Nil => (Nil, Nil)\n",
    "        case Left(a) :: tail => \n",
    "            val (la, lb) = splitE(tail)\n",
    "            (a :: la, lb)\n",
    "        case Right(b) :: tail => \n",
    "            val (la, lb) = splitE(tail)\n",
    "            (la, b :: lb)\n",
    "    }"
   ]
  },
  {
   "cell_type": "code",
   "execution_count": 8,
   "metadata": {},
   "outputs": [
    {
     "name": "stdout",
     "output_type": "stream",
     "text": [
      "\u001b[32mcmd5$Helper$SplitTest:\u001b[0m\n",
      "\u001b[32msplit\u001b[0m\n",
      "\u001b[32m- should work\u001b[0m\n"
     ]
    }
   ],
   "source": [
    "run(new SplitTest(splitR))"
   ]
  },
  {
   "cell_type": "markdown",
   "metadata": {},
   "source": [
    "__b) (1 punto)__ Implementa la función `split` utilizando __`foldRight`__."
   ]
  },
  {
   "cell_type": "code",
   "execution_count": 9,
   "metadata": {},
   "outputs": [
    {
     "data": {
      "text/plain": [
       "defined \u001b[32mfunction\u001b[39m \u001b[36msplitFR\u001b[39m"
      ]
     },
     "execution_count": 9,
     "metadata": {},
     "output_type": "execute_result"
    }
   ],
   "source": [
    "def splitFR[A, B](l: List[Either[A, B]]): (List[A], List[B]) = \n",
    "    l.foldRight((List[A](), List[B]())){\n",
    "        case (Left(a), (la, lb)) => \n",
    "            (a :: la, lb)\n",
    "        case (Right(b), (la, lb)) => \n",
    "            (la, b :: lb)\n",
    "    }"
   ]
  },
  {
   "cell_type": "code",
   "execution_count": 10,
   "metadata": {},
   "outputs": [
    {
     "name": "stdout",
     "output_type": "stream",
     "text": [
      "\u001b[32mcmd5$Helper$SplitTest:\u001b[0m\n",
      "\u001b[32msplit\u001b[0m\n",
      "\u001b[32m- should work\u001b[0m\n"
     ]
    }
   ],
   "source": [
    "run(new SplitTest(splitFR))"
   ]
  },
  {
   "cell_type": "markdown",
   "metadata": {},
   "source": [
    "__c) (1 punto)__ Implementa la función `split` mediante recursión por cola (o final):"
   ]
  },
  {
   "cell_type": "code",
   "execution_count": 11,
   "metadata": {},
   "outputs": [
    {
     "data": {
      "text/plain": [
       "defined \u001b[32mfunction\u001b[39m \u001b[36msplitTR\u001b[39m"
      ]
     },
     "execution_count": 11,
     "metadata": {},
     "output_type": "execute_result"
    }
   ],
   "source": [
    "def splitTR[A, B](l: List[Either[A, B]]): (List[A], List[B]) = {\n",
    "    def aux(acc: (List[A], List[B]), l: List[Either[A, B]]): (List[A], List[B]) = \n",
    "        (acc, l) match {\n",
    "            case ((la, lb), Nil) => (la.reverse, lb.reverse)\n",
    "            case ((la, lb), Left(a) :: tail) => aux((a :: la, lb), tail)\n",
    "            case ((la, lb), Right(b) :: tail) => aux((la, b :: lb), tail)\n",
    "        }\n",
    "    aux((List[A](), List[B]()), l)\n",
    "}"
   ]
  },
  {
   "cell_type": "code",
   "execution_count": 12,
   "metadata": {},
   "outputs": [
    {
     "name": "stdout",
     "output_type": "stream",
     "text": [
      "\u001b[32mcmd5$Helper$SplitTest:\u001b[0m\n",
      "\u001b[32msplit\u001b[0m\n",
      "\u001b[32m- should work\u001b[0m\n"
     ]
    }
   ],
   "source": [
    "run(new SplitTest(splitTR))"
   ]
  },
  {
   "cell_type": "markdown",
   "metadata": {},
   "source": [
    "__d) (1 punto)__ Implementa la función `split` utilizando __`foldLeft`__."
   ]
  },
  {
   "cell_type": "code",
   "execution_count": 13,
   "metadata": {},
   "outputs": [
    {
     "data": {
      "text/plain": [
       "defined \u001b[32mfunction\u001b[39m \u001b[36msplitFL\u001b[39m"
      ]
     },
     "execution_count": 13,
     "metadata": {},
     "output_type": "execute_result"
    }
   ],
   "source": [
    "def splitFL[A, B](l: List[Either[A, B]]): (List[A], List[B]) = \n",
    "    l.foldLeft((List[A](), List[B]())){\n",
    "        case ((la, lb), Left(a)) => \n",
    "            (a :: la, lb)\n",
    "        case ((la, lb), Right(b)) => \n",
    "            (la, b :: lb)\n",
    "    } match {\n",
    "        case (la, lb) => (la.reverse, lb.reverse)\n",
    "    }"
   ]
  },
  {
   "cell_type": "code",
   "execution_count": 14,
   "metadata": {},
   "outputs": [
    {
     "name": "stdout",
     "output_type": "stream",
     "text": [
      "\u001b[32mcmd5$Helper$SplitTest:\u001b[0m\n",
      "\u001b[32msplit\u001b[0m\n",
      "\u001b[32m- should work\u001b[0m\n"
     ]
    }
   ],
   "source": [
    "run(new SplitTest(splitFL))"
   ]
  },
  {
   "cell_type": "markdown",
   "metadata": {},
   "source": [
    "__e) (1 punto)__ Implementa la función `split` utilizando la función de orden superior `filter`:"
   ]
  },
  {
   "cell_type": "code",
   "execution_count": 15,
   "metadata": {},
   "outputs": [
    {
     "data": {
      "text/plain": [
       "defined \u001b[32mfunction\u001b[39m \u001b[36msplitF\u001b[39m"
      ]
     },
     "execution_count": 15,
     "metadata": {},
     "output_type": "execute_result"
    }
   ],
   "source": [
    "def splitF[A, B](l: List[Either[A, B]]): (List[A], List[B]) = \n",
    "    (l.filter(_.isLeft).map{ case Left(a) => a}, \n",
    "     l.filter(_.isRight).map{ case Right(b) => b})"
   ]
  },
  {
   "cell_type": "code",
   "execution_count": 16,
   "metadata": {},
   "outputs": [
    {
     "name": "stdout",
     "output_type": "stream",
     "text": [
      "\u001b[32mcmd5$Helper$SplitTest:\u001b[0m\n",
      "\u001b[32msplit\u001b[0m\n",
      "\u001b[32m- should work\u001b[0m\n"
     ]
    }
   ],
   "source": [
    "run(new SplitTest(splitF))"
   ]
  }
 ],
 "metadata": {
  "kernelspec": {
   "display_name": "Scala",
   "language": "scala",
   "name": "scala"
  },
  "language_info": {
   "codemirror_mode": "text/x-scala",
   "file_extension": ".sc",
   "mimetype": "text/x-scala",
   "name": "scala",
   "nbconvert_exporter": "script",
   "version": "2.13.1"
  }
 },
 "nbformat": 4,
 "nbformat_minor": 2
}
