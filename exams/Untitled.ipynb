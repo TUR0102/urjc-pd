{
 "cells": [
  {
   "cell_type": "code",
   "execution_count": null,
   "id": "b6037ecb-9907-4574-ab14-378937a051da",
   "metadata": {},
   "outputs": [],
   "source": []
  },
  {
   "cell_type": "code",
   "execution_count": 1,
   "id": "e2018803-8ab9-4ea6-a655-f5593621d3d1",
   "metadata": {},
   "outputs": [
    {
     "data": {
      "text/plain": [
       "defined \u001b[32mfunction\u001b[39m \u001b[36mslice\u001b[39m"
      ]
     },
     "execution_count": 1,
     "metadata": {},
     "output_type": "execute_result"
    }
   ],
   "source": [
    "def slice[A](l: List[A])(min: Int, max: Int): List[A] =\n",
    "    l.foldLeft((Nil, 0): (List[A], Int)){\n",
    "        (out: (List[A], Int), e: A) => \n",
    "                if (out._2 >= min && out._2 <= max) (e::out._1, out._2 + 1)\n",
    "                else (out._1, out._2 + 1)\n",
    "    }._1.reverse"
   ]
  },
  {
   "cell_type": "code",
   "execution_count": 2,
   "id": "acab1ea3-bb11-4088-82b6-94a96308ae8f",
   "metadata": {},
   "outputs": [
    {
     "data": {
      "text/plain": [
       "defined \u001b[32mfunction\u001b[39m \u001b[36mslice\u001b[39m"
      ]
     },
     "execution_count": 2,
     "metadata": {},
     "output_type": "execute_result"
    }
   ],
   "source": [
    "def slice[A](l: List[A])(min: Int, max: Int): List[A] =\n",
    "    l.foldLeft((Nil, 0): (List[A], Int)):\n",
    "        (out: (List[A], Int), e: A) => \n",
    "                if (out._2 >= min && out._2 <= max) (e::out._1, out._2 + 1)\n",
    "                else (out._1, out._2 + 1)\n",
    "    ._1.reverse"
   ]
  },
  {
   "cell_type": "code",
   "execution_count": 3,
   "id": "9d8cb3e6-bdb2-4129-bd4d-e235eb47026b",
   "metadata": {},
   "outputs": [
    {
     "data": {
      "text/plain": [
       "defined \u001b[32mfunction\u001b[39m \u001b[36mslice\u001b[39m"
      ]
     },
     "execution_count": 3,
     "metadata": {},
     "output_type": "execute_result"
    }
   ],
   "source": [
    "def slice[A](l: List[A])(min: Int, max: Int): List[A] =\n",
    "    l.foldLeft((Nil, 0): (List[A], Int)):\n",
    "        case ((out: List[A], pos: Int), e: A) => \n",
    "                if (pos >= min && pos <= max) (e::out, pos + 1)\n",
    "                else (out, pos + 1)\n",
    "    ._1.reverse"
   ]
  },
  {
   "cell_type": "code",
   "execution_count": 6,
   "id": "ca9a569e-8ace-4b49-bec7-28d28028f8f7",
   "metadata": {},
   "outputs": [
    {
     "data": {
      "text/plain": [
       "defined \u001b[32mfunction\u001b[39m \u001b[36mslice\u001b[39m"
      ]
     },
     "execution_count": 6,
     "metadata": {},
     "output_type": "execute_result"
    }
   ],
   "source": [
    "def slice[A](l: List[A])(min: Int, max: Int): List[A] =\n",
    "    l.foldLeft((Nil, 0): (List[A], Int)):\n",
    "        case ((out, pos), e) if pos >= min && pos <= max => (e::out, pos + 1)\n",
    "        case ((out, pos), _) => (out, pos + 1)\n",
    "    ._1.reverse"
   ]
  },
  {
   "cell_type": "code",
   "execution_count": null,
   "id": "3ab63033-6069-4e9a-8951-54e42b419676",
   "metadata": {},
   "outputs": [],
   "source": []
  }
 ],
 "metadata": {
  "kernelspec": {
   "display_name": "Scala 3.3",
   "language": "scala",
   "name": "scala33"
  },
  "language_info": {
   "codemirror_mode": "text/x-scala",
   "file_extension": ".sc",
   "mimetype": "text/x-scala",
   "name": "scala",
   "nbconvert_exporter": "script",
   "version": "2.13.12"
  }
 },
 "nbformat": 4,
 "nbformat_minor": 5
}
