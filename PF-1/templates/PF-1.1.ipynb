{
 "cells": [
  {
   "cell_type": "markdown",
   "metadata": {},
   "source": [
    "# Scala introduction"
   ]
  },
  {
   "cell_type": "markdown",
   "metadata": {},
   "source": [
    "This notebook offers a basic introduction to the object-oriented features of the Scala programming language. It consists of small code samples that aim at translating into Scala some of the Java examples of the following tutorial: \n",
    "\n",
    "https://docs.oracle.com/javase/tutorial/java/TOC.html"
   ]
  },
  {
   "cell_type": "markdown",
   "metadata": {},
   "source": [
    "### References"
   ]
  },
  {
   "cell_type": "markdown",
   "metadata": {},
   "source": [
    "[__Programming in Scala, \n",
    "A comprehensive step-by-step guide__](https://www.artima.com/shop/programming_in_scala_3ed) Third Edition.\n",
    "by Martin Odersky, Lex Spoon, and Bill Venners. \n",
    "\n",
    "This is an introductory book that covers the basic features of the language as well as its most advanced characteristics. The following chapters are the most relevant for the purpose of this notebook:\n",
    "\n",
    "1. A Scalable Language\n",
    "2. First Steps in Scala\n",
    "3. Next Steps in Scala\n",
    "4. Classes and Objects\n",
    "5. Basic Types and Operations\n",
    "7. Built-in Control Structures 117\n",
    "9. Control Abstraction 167\n",
    "10. Composition and Inheritance 183\n",
    "11. Scala's Hierarchy 211"
   ]
  },
  {
   "cell_type": "markdown",
   "metadata": {},
   "source": [
    "__[Scala book (online)](https://docs.scala-lang.org/overviews/scala-book/introduction.html)__. A basic introduction to the basic features of Scala. Check in particular the first trail:\n",
    "\n",
    "- [_Prelude: a taste of Scala_](https://docs.scala-lang.org/overviews/scala-book/prelude-taste-of-scala.html)"
   ]
  },
  {
   "cell_type": "markdown",
   "metadata": {},
   "source": [
    "# Object-Oriented Programming Concepts\n",
    "\n",
    "https://docs.oracle.com/javase/tutorial/java/concepts/index.html"
   ]
  },
  {
   "cell_type": "markdown",
   "metadata": {},
   "source": [
    "### Classes"
   ]
  },
  {
   "cell_type": "code",
   "execution_count": 2,
   "metadata": {},
   "outputs": [
    {
     "data": {
      "text/plain": [
       "defined \u001b[32mclass\u001b[39m \u001b[36mBicycle\u001b[39m"
      ]
     },
     "execution_count": 2,
     "metadata": {},
     "output_type": "execute_result"
    }
   ],
   "source": [
    "class Bicycle {\n",
    "\n",
    "  var cadence: Int = 0\n",
    "  var speed: Int = 0\n",
    "  var gear: Int = 1\n",
    "\n",
    "  def changeCadence(newValue: Int): Unit = {\n",
    "    cadence = newValue\n",
    "  }\n",
    "\n",
    "  def changeGear(newValue: Int) {\n",
    "    gear = newValue\n",
    "  }\n",
    "\n",
    "  def speedUp(increment: Int) {\n",
    "    speed = speed + increment\n",
    "  }\n",
    "\n",
    "  def applyBrakes(decrement: Int) {\n",
    "    speed = speed - decrement\n",
    "  }\n",
    "  \n",
    "  def printStates(): Unit = {\n",
    "       System.out.println(\"cadence:\" +\n",
    "           cadence + \" speed:\" + \n",
    "           speed + \" gear:\" + gear)\n",
    "  }\n",
    "}"
   ]
  },
  {
   "cell_type": "markdown",
   "metadata": {},
   "source": [
    "### Objects and method invocation"
   ]
  },
  {
   "cell_type": "code",
   "execution_count": 4,
   "metadata": {},
   "outputs": [
    {
     "name": "stdout",
     "output_type": "stream",
     "text": [
      "cadence:50 speed:10 gear:2\n",
      "cadence:40 speed:20 gear:3\n"
     ]
    },
    {
     "data": {
      "text/plain": [
       "\u001b[36mbike1\u001b[39m: \u001b[32mBicycle\u001b[39m = ammonite.$sess.cmd1$Helper$Bicycle@335db9af\n",
       "\u001b[36mbike2\u001b[39m: \u001b[32mBicycle\u001b[39m = ammonite.$sess.cmd1$Helper$Bicycle@4038a9d5"
      ]
     },
     "execution_count": 4,
     "metadata": {},
     "output_type": "execute_result"
    }
   ],
   "source": [
    "\n",
    "// Create two different Bicycle objects\n",
    "\n",
    "var bike1: Bicycle = new Bicycle()\n",
    "var bike2: Bicycle = new Bicycle()\n",
    "\n",
    "// Invoke methods on those objects\n",
    "\n",
    "bike1 changeCadence 50\n",
    "bike1.speedUp(10)\n",
    "bike1.changeGear(2)\n",
    "bike1.printStates()\n",
    "\n",
    "bike2.changeCadence(50);\n",
    "bike2.speedUp(10);\n",
    "bike2.changeGear(2);\n",
    "bike2.changeCadence(40);\n",
    "bike2.speedUp(10);\n",
    "bike2.changeGear(3);\n",
    "bike2.printStates();\n",
    "\n"
   ]
  },
  {
   "cell_type": "code",
   "execution_count": 7,
   "metadata": {},
   "outputs": [
    {
     "data": {
      "text/plain": [
       "\u001b[36mres6_0\u001b[39m: \u001b[32mInt\u001b[39m = \u001b[32m2\u001b[39m\n",
       "\u001b[36mres6_1\u001b[39m: \u001b[32mInt\u001b[39m = \u001b[32m2\u001b[39m"
      ]
     },
     "execution_count": 7,
     "metadata": {},
     "output_type": "execute_result"
    }
   ],
   "source": [
    "1.+(1)\n",
    "1 + 1\n"
   ]
  },
  {
   "cell_type": "markdown",
   "metadata": {},
   "source": [
    "Some syntactic sugar for method invocations:"
   ]
  },
  {
   "cell_type": "markdown",
   "metadata": {},
   "source": [
    "### Inheritance"
   ]
  },
  {
   "cell_type": "code",
   "execution_count": null,
   "metadata": {},
   "outputs": [],
   "source": [
    "/*\n",
    "class MountainBike extends Bicycle {\n",
    "\n",
    "    // new fields and methods defining \n",
    "    // a mountain bike would go here\n",
    "\n",
    "}\n",
    "*/"
   ]
  },
  {
   "cell_type": "markdown",
   "metadata": {},
   "source": [
    "### Interfaces"
   ]
  },
  {
   "cell_type": "code",
   "execution_count": null,
   "metadata": {},
   "outputs": [],
   "source": [
    "/*\n",
    "interface Bicycle {\n",
    "\n",
    "    //  wheel revolutions per minute\n",
    "    void changeCadence(int newValue);\n",
    "\n",
    "    void changeGear(int newValue);\n",
    "\n",
    "    void speedUp(int increment);\n",
    "\n",
    "    void applyBrakes(int decrement);\n",
    "}\n",
    "*/"
   ]
  },
  {
   "cell_type": "code",
   "execution_count": null,
   "metadata": {},
   "outputs": [],
   "source": [
    "/*\n",
    "class ACMEBicycle implements Bicycle {\n",
    "\n",
    "    int cadence = 0;\n",
    "    int speed = 0;\n",
    "    int gear = 1;\n",
    "\n",
    "   // The compiler will now require that methods\n",
    "   // changeCadence, changeGear, speedUp, and applyBrakes\n",
    "   // all be implemented. Compilation will fail if those\n",
    "   // methods are missing from this class.\n",
    "\n",
    "    void changeCadence(int newValue) {\n",
    "         cadence = newValue;\n",
    "    }\n",
    "\n",
    "    void changeGear(int newValue) {\n",
    "         gear = newValue;\n",
    "    }\n",
    "\n",
    "    void speedUp(int increment) {\n",
    "         speed = speed + increment;   \n",
    "    }\n",
    "\n",
    "    void applyBrakes(int decrement) {\n",
    "         speed = speed - decrement;\n",
    "    }\n",
    "\n",
    "    void printStates() {\n",
    "         System.out.println(\"cadence:\" +\n",
    "             cadence + \" speed:\" + \n",
    "             speed + \" gear:\" + gear);\n",
    "    }\n",
    "}\n",
    "*/"
   ]
  },
  {
   "cell_type": "markdown",
   "metadata": {},
   "source": [
    "# Language basics\n",
    "\n",
    "https://docs.oracle.com/javase/tutorial/java/nutsandbolts/index.html"
   ]
  },
  {
   "cell_type": "markdown",
   "metadata": {},
   "source": [
    "### Control flow statements"
   ]
  },
  {
   "cell_type": "code",
   "execution_count": 8,
   "metadata": {},
   "outputs": [
    {
     "data": {
      "text/plain": [
       "defined \u001b[32mclass\u001b[39m \u001b[36mBicycle\u001b[39m"
      ]
     },
     "execution_count": 8,
     "metadata": {},
     "output_type": "execute_result"
    }
   ],
   "source": [
    "class Bicycle {\n",
    "\n",
    "    var cadence: Int = 0\n",
    "    var speed: Int = 0\n",
    "    var gear: Int = 1\n",
    "\n",
    "    def changeCadence(newValue: Int): Unit = {\n",
    "         cadence = newValue;\n",
    "    }\n",
    "\n",
    "    def changeGear(newValue: Int): Unit = {\n",
    "         gear = newValue;\n",
    "    }\n",
    "\n",
    "    def speedUp(increment: Int): Unit = {\n",
    "         speed = speed + increment;   \n",
    "    }\n",
    "\n",
    "    def applyBrakes(decrement: Int) = {\n",
    "         speed = speed - decrement;\n",
    "    }\n",
    "    \n",
    "    def isMoving(): Boolean =\n",
    "        speed > 0\n",
    "    \n",
    "    def applyBrakes(): Unit = {\n",
    "        if (isMoving){ \n",
    "            speed -= 1;\n",
    "        }\n",
    "    }\n",
    "\n",
    "    def printStates(): Unit = {\n",
    "         println(\"cadence:\" +\n",
    "             cadence + \" speed:\" + \n",
    "             speed + \" gear:\" + gear);\n",
    "    }\n",
    "}"
   ]
  },
  {
   "cell_type": "code",
   "execution_count": 11,
   "metadata": {},
   "outputs": [
    {
     "data": {
      "text/plain": [
       "defined \u001b[32mclass\u001b[39m \u001b[36mBicycle\u001b[39m"
      ]
     },
     "execution_count": 11,
     "metadata": {},
     "output_type": "execute_result"
    }
   ],
   "source": [
    "class Bicycle {\n",
    "\n",
    "    var cadence: Int = 0\n",
    "    var speed: Int = 0\n",
    "    var gear: Int = 1\n",
    "\n",
    "    def changeCadence(newValue: Int): Unit = {\n",
    "         cadence = newValue;\n",
    "    }\n",
    "\n",
    "    def changeGear(newValue: Int): Unit = {\n",
    "         gear = newValue;\n",
    "    }\n",
    "\n",
    "    def speedUp(increment: Int): Unit = {\n",
    "         speed = speed + increment;   \n",
    "    }\n",
    "\n",
    "    def applyBrakes(decrement: Int) = {\n",
    "         speed = speed - decrement;\n",
    "    }\n",
    "    \n",
    "    \n",
    "    def isMoving(): Boolean = \n",
    "        speed > 0\n",
    "    \n",
    "    def applyBrakes(): Unit =\n",
    "        if (isMoving)\n",
    "            speed -= 1\n",
    "        else\n",
    "            System.err.println(\"The bicycle has already stopped!\")\n",
    "\n",
    "    def printStates(): Unit = {\n",
    "         println(\"cadence:\" +\n",
    "             cadence + \" speed:\" + \n",
    "             speed + \" gear:\" + gear);\n",
    "    }\n",
    "}\n"
   ]
  },
  {
   "cell_type": "markdown",
   "metadata": {},
   "source": [
    "### If-Else-If demo"
   ]
  },
  {
   "cell_type": "code",
   "execution_count": null,
   "metadata": {},
   "outputs": [],
   "source": [
    "/*\n",
    "int testscore = 76;\n",
    "char grade;\n",
    "\n",
    "if (testscore >= 90) {\n",
    "    grade = 'A';\n",
    "} else if (testscore >= 80) {\n",
    "    grade = 'B';\n",
    "} else if (testscore >= 70) {\n",
    "    grade = 'C';\n",
    "} else if (testscore >= 60) {\n",
    "    grade = 'D';\n",
    "} else {\n",
    "    grade = 'F';\n",
    "}\n",
    "System.out.println(\"Grade = \" + grade);\n",
    "*/"
   ]
  },
  {
   "cell_type": "markdown",
   "metadata": {},
   "source": [
    "### while statements"
   ]
  },
  {
   "cell_type": "code",
   "execution_count": null,
   "metadata": {},
   "outputs": [],
   "source": [
    "/*\n",
    "int count = 1;\n",
    "while (count < 11) {\n",
    "    System.out.println(\"Count is: \" + count);\n",
    "    count++;\n",
    "}\n",
    "*/"
   ]
  },
  {
   "cell_type": "markdown",
   "metadata": {},
   "source": [
    "### For statement"
   ]
  },
  {
   "cell_type": "code",
   "execution_count": 13,
   "metadata": {},
   "outputs": [
    {
     "name": "stdout",
     "output_type": "stream",
     "text": [
      "Count is: 1\n",
      "Count is: 2\n",
      "Count is: 3\n",
      "Count is: 4\n",
      "Count is: 5\n",
      "Count is: 6\n",
      "Count is: 7\n",
      "Count is: 8\n",
      "Count is: 9\n",
      "Count is: 10\n"
     ]
    }
   ],
   "source": [
    "\n",
    "for(i <- 1 to 10)\n",
    "  System.out.println(\"Count is: \" + i)\n",
    "\n"
   ]
  },
  {
   "cell_type": "code",
   "execution_count": 17,
   "metadata": {},
   "outputs": [
    {
     "name": "stdout",
     "output_type": "stream",
     "text": [
      "1\n",
      "2\n",
      "3\n",
      "1\n",
      "2\n",
      "3\n"
     ]
    },
    {
     "data": {
      "text/plain": [
       "\u001b[36mrango\u001b[39m: \u001b[32mRange\u001b[39m = \u001b[33mRange\u001b[39m(\u001b[32m1\u001b[39m, \u001b[32m2\u001b[39m, \u001b[32m3\u001b[39m, \u001b[32m4\u001b[39m, \u001b[32m5\u001b[39m, \u001b[32m6\u001b[39m, \u001b[32m7\u001b[39m, \u001b[32m8\u001b[39m, \u001b[32m9\u001b[39m, \u001b[32m10\u001b[39m)\n",
       "\u001b[36mnumbers\u001b[39m: \u001b[32mArray\u001b[39m[\u001b[32mInt\u001b[39m] = \u001b[33mArray\u001b[39m(\u001b[32m1\u001b[39m, \u001b[32m2\u001b[39m, \u001b[32m3\u001b[39m)"
      ]
     },
     "execution_count": 17,
     "metadata": {},
     "output_type": "execute_result"
    }
   ],
   "source": [
    "/*\n",
    "int[] numbers = \n",
    "  {1,2,3,4,5,6,7,8,9,10};\n",
    "\n",
    "for (int item : numbers) {\n",
    "  System.out.println(\"Count is: \" + item);\n",
    "}\n",
    "*/\n",
    "\n",
    "var rango: Range = 1 to 10\n",
    "var numbers: Array[Int] = Array(1,2,3)\n",
    "\n",
    "for (i <- numbers) System.out.println(i)\n",
    "\n",
    "numbers.foreach{ i => System.out.println(i) }\n"
   ]
  },
  {
   "cell_type": "markdown",
   "metadata": {},
   "source": [
    "### Exceptions\n",
    "\n",
    "https://docs.oracle.com/javase/tutorial/essential/exceptions/index.html"
   ]
  },
  {
   "cell_type": "code",
   "execution_count": null,
   "metadata": {},
   "outputs": [],
   "source": [
    "/*\n",
    "public void writeList() {\n",
    "    PrintWriter out = null;\n",
    "\n",
    "    try {\n",
    "        System.out.println(\"Entering\" + \" try statement\");\n",
    "\n",
    "        out = new PrintWriter(new FileWriter(\"OutFile.txt\"));\n",
    "        for (int i = 0; i < SIZE; i++) {\n",
    "            out.println(\"Value at: \" + i + \" = \" + list.get(i));\n",
    "        }\n",
    "    } catch (IndexOutOfBoundsException e) {\n",
    "        System.err.println(\"Caught IndexOutOfBoundsException: \"\n",
    "                           +  e.getMessage());\n",
    "                                 \n",
    "    } catch (IOException e) {\n",
    "        System.err.println(\"Caught IOException: \" +  e.getMessage());\n",
    "                                 \n",
    "    } finally {\n",
    "        if (out != null) {\n",
    "            System.out.println(\"Closing PrintWriter\");\n",
    "            out.close();\n",
    "        } \n",
    "        else {\n",
    "            System.out.println(\"PrintWriter not open\");\n",
    "        }\n",
    "    }\n",
    "}\n",
    "*/"
   ]
  },
  {
   "cell_type": "code",
   "execution_count": null,
   "metadata": {},
   "outputs": [],
   "source": [
    "writeList(Array(1,2,3,4), 4)"
   ]
  },
  {
   "cell_type": "markdown",
   "metadata": {},
   "source": [
    "# Classes and objects\n",
    "\n",
    "https://docs.oracle.com/javase/tutorial/java/javaOO/index.html"
   ]
  },
  {
   "cell_type": "markdown",
   "metadata": {},
   "source": [
    "### Constructors"
   ]
  },
  {
   "cell_type": "code",
   "execution_count": 23,
   "metadata": {},
   "outputs": [
    {
     "data": {
      "text/plain": [
       "defined \u001b[32mclass\u001b[39m \u001b[36mBicycle\u001b[39m"
      ]
     },
     "execution_count": 23,
     "metadata": {},
     "output_type": "execute_result"
    }
   ],
   "source": [
    "class Bicycle(\n",
    "    var cadence: Int, \n",
    "    var speed: Int, \n",
    "    var gear: Int) {\n",
    "\n",
    "    def this(){\n",
    "        this(0,0,1)\n",
    "    }\n",
    "    \n",
    "    def changeCadence(newValue: Int): Unit = {\n",
    "         cadence = newValue;\n",
    "    }\n",
    "\n",
    "    def changeGear(newValue: Int): Unit = {\n",
    "         gear = newValue;\n",
    "    }\n",
    "\n",
    "    def speedUp(increment: Int): Unit = {\n",
    "         speed = speed + increment;   \n",
    "    }\n",
    "\n",
    "    def applyBrakes(decrement: Int) = {\n",
    "         speed = speed - decrement;\n",
    "    }\n",
    "\n",
    "    def printStates(): Unit = {\n",
    "         println(\"cadence:\" +\n",
    "             cadence + \" speed:\" + \n",
    "             speed + \" gear:\" + gear);\n",
    "    }\n",
    "}"
   ]
  },
  {
   "cell_type": "code",
   "execution_count": 24,
   "metadata": {},
   "outputs": [
    {
     "data": {
      "text/plain": [
       "\u001b[36mres23_0\u001b[39m: \u001b[32mBicycle\u001b[39m = ammonite.$sess.cmd22$Helper$Bicycle@7fbe6b35\n",
       "\u001b[36mres23_1\u001b[39m: \u001b[32mBicycle\u001b[39m = ammonite.$sess.cmd22$Helper$Bicycle@3670e353"
      ]
     },
     "execution_count": 24,
     "metadata": {},
     "output_type": "execute_result"
    }
   ],
   "source": [
    "new Bicycle(0,0,1)\n",
    "new Bicycle"
   ]
  },
  {
   "cell_type": "markdown",
   "metadata": {},
   "source": [
    "### Super-constructors"
   ]
  },
  {
   "cell_type": "code",
   "execution_count": null,
   "metadata": {},
   "outputs": [],
   "source": [
    "/*\n",
    "public class MountainBike extends Bicycle {\n",
    "        \n",
    "    // the MountainBike subclass has\n",
    "    // one field\n",
    "    public int seatHeight;\n",
    "\n",
    "    // the MountainBike subclass has\n",
    "    // one constructor\n",
    "    public MountainBike(int startHeight, int startCadence,\n",
    "                        int startSpeed, int startGear) {\n",
    "        super(startCadence, startSpeed, startGear);\n",
    "        seatHeight = startHeight;\n",
    "    }   \n",
    "        \n",
    "    // the MountainBike subclass has\n",
    "    // one method\n",
    "    public void setHeight(int newValue) {\n",
    "        seatHeight = newValue;\n",
    "    }   \n",
    "\n",
    "}\n",
    "*/"
   ]
  },
  {
   "cell_type": "markdown",
   "metadata": {},
   "source": [
    "### Extends + Implements"
   ]
  },
  {
   "cell_type": "code",
   "execution_count": null,
   "metadata": {},
   "outputs": [],
   "source": [
    "/*\n",
    "class MyClass extends MySuperClass implements YourInterface {\n",
    "    // field, constructor, and\n",
    "    // method declarations\n",
    "}\n",
    "*/"
   ]
  },
  {
   "cell_type": "markdown",
   "metadata": {},
   "source": [
    "### Private members"
   ]
  },
  {
   "cell_type": "code",
   "execution_count": null,
   "metadata": {},
   "outputs": [],
   "source": [
    "/*\n",
    "public class Bicycle {\n",
    "        \n",
    "    private int cadence;\n",
    "    private int gear;\n",
    "    private int speed;\n",
    "        \n",
    "    public Bicycle(int startCadence, int startSpeed, int startGear) {\n",
    "        gear = startGear;\n",
    "        cadence = startCadence;\n",
    "        speed = startSpeed;\n",
    "    }\n",
    "        \n",
    "    public int getCadence() {\n",
    "        return cadence;\n",
    "    }\n",
    "        \n",
    "    public void setCadence(int newValue) {\n",
    "        cadence = newValue;\n",
    "    }\n",
    "        \n",
    "    public int getGear() {\n",
    "        return gear;\n",
    "    }\n",
    "        \n",
    "    public void setGear(int newValue) {\n",
    "        gear = newValue;\n",
    "    }\n",
    "        \n",
    "    public int getSpeed() {\n",
    "        return speed;\n",
    "    }\n",
    "        \n",
    "    public void applyBrake(int decrement) {\n",
    "        speed -= decrement;\n",
    "    }\n",
    "        \n",
    "    public void speedUp(int increment) {\n",
    "        speed += increment;\n",
    "    }\n",
    "}\n",
    "*/"
   ]
  },
  {
   "cell_type": "markdown",
   "metadata": {},
   "source": [
    "### Static members"
   ]
  },
  {
   "cell_type": "code",
   "execution_count": 30,
   "metadata": {},
   "outputs": [
    {
     "data": {
      "text/plain": [
       "defined \u001b[32mclass\u001b[39m \u001b[36mBicycle\u001b[39m\n",
       "defined \u001b[32mobject\u001b[39m \u001b[36mBicycle\u001b[39m"
      ]
     },
     "execution_count": 30,
     "metadata": {},
     "output_type": "execute_result"
    }
   ],
   "source": [
    "class Bicycle(\n",
    "    private var cadence: Int, \n",
    "    private var speed: Int, \n",
    "    private var gear: Int) {\n",
    "\n",
    "    def this() = \n",
    "        this(0, 0, 1)\n",
    "    \n",
    "    def getCadence(): Int = \n",
    "        cadence\n",
    "    \n",
    "    def changeCadence(newValue: Int): Unit = {\n",
    "         cadence = newValue;\n",
    "    }\n",
    "\n",
    "    def changeGear(newValue: Int): Unit = {\n",
    "         gear = newValue;\n",
    "    }\n",
    "\n",
    "    def speedUp(increment: Int): Unit = {\n",
    "         speed = speed + increment;   \n",
    "    }\n",
    "\n",
    "    def applyBrakes(decrement: Int) = {\n",
    "         speed = speed - decrement;\n",
    "    }\n",
    "\n",
    "    def printStates(): Unit = {\n",
    "         println(\"cadence:\" +\n",
    "             cadence + \" speed:\" + \n",
    "             speed + \" gear:\" + gear);\n",
    "    }\n",
    "}\n",
    "\n",
    "object Bicycle {\n",
    "    var numberOfBicycles: Int = 0\n",
    "    \n",
    "    def create(): Bicycle = {\n",
    "        numberOfBicycles += 1 \n",
    "        new Bicycle\n",
    "    }\n",
    "}"
   ]
  },
  {
   "cell_type": "code",
   "execution_count": 32,
   "metadata": {},
   "outputs": [
    {
     "data": {
      "text/plain": [
       "\u001b[36mres31_0\u001b[39m: \u001b[32mBicycle\u001b[39m = ammonite.$sess.cmd29$Helper$Bicycle@7088092\n",
       "\u001b[36mres31_1\u001b[39m: \u001b[32mBicycle\u001b[39m = ammonite.$sess.cmd29$Helper$Bicycle@7fc6cec1\n",
       "\u001b[36mres31_2\u001b[39m: \u001b[32mBicycle\u001b[39m = ammonite.$sess.cmd29$Helper$Bicycle@f727ee5\n",
       "\u001b[36mres31_3\u001b[39m: \u001b[32mInt\u001b[39m = \u001b[32m6\u001b[39m"
      ]
     },
     "execution_count": 32,
     "metadata": {},
     "output_type": "execute_result"
    }
   ],
   "source": [
    "Bicycle.create\n",
    "Bicycle.create\n",
    "Bicycle.create\n",
    "Bicycle.numberOfBicycles"
   ]
  },
  {
   "cell_type": "code",
   "execution_count": 29,
   "metadata": {},
   "outputs": [
    {
     "data": {
      "text/plain": [
       "\u001b[36mbike1\u001b[39m: \u001b[32mBicycle\u001b[39m = ammonite.$sess.cmd24$Helper$Bicycle@620bc1b3\n",
       "defined \u001b[32mobject\u001b[39m \u001b[36mbike2\u001b[39m\n",
       "\u001b[36mres28_3\u001b[39m: \u001b[32mInt\u001b[39m = \u001b[32m0\u001b[39m"
      ]
     },
     "execution_count": 29,
     "metadata": {},
     "output_type": "execute_result"
    }
   ],
   "source": [
    "var bike1 = new Bicycle\n",
    "object bike2 extends Bicycle\n",
    "bike1 = new Bicycle\n",
    "// bike2 = new Bicycle\n",
    "\n",
    "// Bicycle::numberOfBicycles\n",
    "Bicycle.numberOfBicycles"
   ]
  },
  {
   "cell_type": "markdown",
   "metadata": {},
   "source": [
    "# Interfaces and inheritance\n",
    "\n",
    "https://docs.oracle.com/javase/tutorial/java/IandI/index.html"
   ]
  },
  {
   "cell_type": "code",
   "execution_count": null,
   "metadata": {},
   "outputs": [],
   "source": [
    "/*\n",
    "import java.time.*;\n",
    "\n",
    "public interface TimeClient {\n",
    "    void setTime(int hour, int minute, int second);\n",
    "    void setDate(int day, int month, int year);\n",
    "    void setDateAndTime(int day, int month, int year,\n",
    "                               int hour, int minute, int second);\n",
    "    LocalDateTime getLocalDateTime();\n",
    "    \n",
    "    static ZoneId getZoneId (String zoneString) {\n",
    "        try {\n",
    "            return ZoneId.of(zoneString);\n",
    "        } catch (DateTimeException e) {\n",
    "            System.err.println(\"Invalid time zone: \" + zoneString +\n",
    "                \"; using default time zone instead.\");\n",
    "            return ZoneId.systemDefault();\n",
    "        }\n",
    "    }\n",
    "        \n",
    "    default ZonedDateTime getZonedDateTime(String zoneString) {\n",
    "        return ZonedDateTime.of(getLocalDateTime(), getZoneId(zoneString));\n",
    "    }\n",
    "}\n",
    "*/"
   ]
  },
  {
   "cell_type": "markdown",
   "metadata": {},
   "source": [
    "### Inheritance Hierarchy\n",
    "\n",
    "In Java: \n",
    "![Java Inheritance Hierarchy](https://docs.oracle.com/javase/tutorial/figures/java/classes-object.gif)"
   ]
  },
  {
   "cell_type": "markdown",
   "metadata": {},
   "source": [
    "In Scala: \n",
    "![](https://docs.scala-lang.org/resources/images/tour/unified-types-diagram.svg)"
   ]
  },
  {
   "cell_type": "code",
   "execution_count": 35,
   "metadata": {},
   "outputs": [
    {
     "data": {
      "text/plain": [
       "\u001b[36mb\u001b[39m: \u001b[32mBicycle\u001b[39m = ammonite.$sess.cmd29$Helper$Bicycle@2fefe762\n",
       "\u001b[36mres34_2\u001b[39m: \u001b[32mString\u001b[39m = \u001b[32m\"ammonite.$sess.cmd29$Helper$Bicycle@2fefe762\"\u001b[39m\n",
       "\u001b[36mres34_3\u001b[39m: \u001b[32mBoolean\u001b[39m = true\n",
       "\u001b[36mres34_4\u001b[39m: \u001b[32mInt\u001b[39m = \u001b[32m804251490\u001b[39m"
      ]
     },
     "execution_count": 35,
     "metadata": {},
     "output_type": "execute_result"
    }
   ],
   "source": [
    "var b = new Bicycle\n",
    "b.speedUp(10)\n",
    "b.toString\n",
    "b.equals(b)\n",
    "b.hashCode"
   ]
  },
  {
   "cell_type": "markdown",
   "metadata": {},
   "source": [
    "https://www.scala-lang.org/api/2.12.10/scala/Any.html"
   ]
  },
  {
   "cell_type": "markdown",
   "metadata": {},
   "source": [
    "# Generics\n",
    "\n",
    "https://docs.oracle.com/javase/tutorial/java/generics/index.html"
   ]
  },
  {
   "cell_type": "markdown",
   "metadata": {},
   "source": [
    "### Generic classes"
   ]
  },
  {
   "cell_type": "code",
   "execution_count": 36,
   "metadata": {},
   "outputs": [
    {
     "data": {
      "text/plain": [
       "\u001b[36mlist\u001b[39m: \u001b[32mList\u001b[39m[\u001b[32mString\u001b[39m] = \u001b[33mList\u001b[39m()\n",
       "\u001b[36mres35_1\u001b[39m: \u001b[32mList\u001b[39m[\u001b[32mString\u001b[39m] = \u001b[33mList\u001b[39m(\u001b[32m\"hello\"\u001b[39m)"
      ]
     },
     "execution_count": 36,
     "metadata": {},
     "output_type": "execute_result"
    }
   ],
   "source": [
    "\n",
    "var list: List[String] = List();\n",
    "list.:+(\"hello\");\n"
   ]
  },
  {
   "cell_type": "code",
   "execution_count": 1,
   "metadata": {},
   "outputs": [
    {
     "data": {
      "text/plain": [
       "\u001b[32mimport \u001b[39m\u001b[36mscala.collection.mutable.{MutableList => List}\u001b[39m"
      ]
     },
     "execution_count": 1,
     "metadata": {},
     "output_type": "execute_result"
    }
   ],
   "source": [
    "import scala.collection.mutable.{MutableList => List}"
   ]
  },
  {
   "cell_type": "code",
   "execution_count": 1,
   "metadata": {},
   "outputs": [],
   "source": [
    "// Type inference!\n"
   ]
  },
  {
   "cell_type": "markdown",
   "metadata": {},
   "source": [
    "### Generic methods"
   ]
  },
  {
   "cell_type": "code",
   "execution_count": 37,
   "metadata": {},
   "outputs": [
    {
     "data": {
      "text/plain": [
       "defined \u001b[32mclass\u001b[39m \u001b[36mPair\u001b[39m"
      ]
     },
     "execution_count": 37,
     "metadata": {},
     "output_type": "execute_result"
    }
   ],
   "source": [
    "class Pair[K, V](\n",
    "    var key: K,\n",
    "    var value: V) {\n",
    "}\n"
   ]
  },
  {
   "cell_type": "code",
   "execution_count": 1,
   "metadata": {},
   "outputs": [],
   "source": [
    "// With type inference\n"
   ]
  },
  {
   "cell_type": "code",
   "execution_count": 1,
   "metadata": {},
   "outputs": [],
   "source": [
    "// Similarly, for var declaration\n"
   ]
  },
  {
   "cell_type": "markdown",
   "metadata": {},
   "source": [
    "### Bounded type parameters"
   ]
  },
  {
   "cell_type": "markdown",
   "metadata": {},
   "source": [
    "[java.lang.Comparable](https://docs.oracle.com/javase/8/docs/api/java/lang/Comparable.html)"
   ]
  },
  {
   "cell_type": "code",
   "execution_count": null,
   "metadata": {},
   "outputs": [],
   "source": [
    "/*\n",
    "public interface Comparable<T> {\n",
    "    public int compareTo(T o);\n",
    "}\n",
    "\n",
    "public static <T extends Comparable<T>> \n",
    "int countGreaterThan(T[] anArray, T elem) {\n",
    "    int count = 0;\n",
    "    for (T e : anArray)\n",
    "        if (e.compareTo(elem) > 0)\n",
    "            ++count;\n",
    "    return count;\n",
    "}\n",
    "*/"
   ]
  },
  {
   "cell_type": "code",
   "execution_count": 38,
   "metadata": {},
   "outputs": [
    {
     "data": {
      "text/plain": [
       "defined \u001b[32mfunction\u001b[39m \u001b[36mcountGreaterThan\u001b[39m"
      ]
     },
     "execution_count": 38,
     "metadata": {},
     "output_type": "execute_result"
    }
   ],
   "source": [
    "/*\n",
    "public interface Comparable<T> {\n",
    "    public int compareTo(T o);\n",
    "}\n",
    "*/\n",
    "def countGreaterThan[T <: Comparable[T]](anArray: Array[T], elem: T): Int = {\n",
    "    var count: Int = 0;\n",
    "    for (e <- anArray)\n",
    "        if (e.compareTo(elem) > 0)\n",
    "            count += 1;\n",
    "    count;\n",
    "}"
   ]
  },
  {
   "cell_type": "code",
   "execution_count": 42,
   "metadata": {},
   "outputs": [
    {
     "data": {
      "text/plain": [
       "\u001b[36mres41\u001b[39m: \u001b[32mInt\u001b[39m = \u001b[32m2\u001b[39m"
      ]
     },
     "execution_count": 42,
     "metadata": {},
     "output_type": "execute_result"
    }
   ],
   "source": [
    "countGreaterThan(Array(\"\",\"1\",\"2\"), \"\")"
   ]
  },
  {
   "cell_type": "markdown",
   "metadata": {},
   "source": [
    "Also for classes:"
   ]
  },
  {
   "cell_type": "code",
   "execution_count": null,
   "metadata": {},
   "outputs": [],
   "source": [
    "/*\n",
    "public class NaturalNumber<T extends Integer> {\n",
    "\n",
    "    private T n;\n",
    "\n",
    "    public NaturalNumber(T n)  { this.n = n; }\n",
    "\n",
    "    public boolean isEven() {\n",
    "        return n.intValue() % 2 == 0;\n",
    "    }\n",
    "\n",
    "    // ...\n",
    "}\n",
    "*/"
   ]
  },
  {
   "cell_type": "markdown",
   "metadata": {},
   "source": [
    "### Variance (Scala)\n",
    "\n",
    "https://docs.scala-lang.org/tour/variances.html"
   ]
  },
  {
   "cell_type": "markdown",
   "metadata": {},
   "source": [
    "A class hierarchy:"
   ]
  },
  {
   "cell_type": "markdown",
   "metadata": {},
   "source": [
    "Some instances:"
   ]
  },
  {
   "cell_type": "markdown",
   "metadata": {},
   "source": [
    "Some examples with Arrays (invariant in T): \n",
    "\n",
    "/*\n",
    "class Array[T]{ ... }\n",
    "*/"
   ]
  },
  {
   "cell_type": "code",
   "execution_count": 1,
   "metadata": {},
   "outputs": [],
   "source": [
    "// doesn't compile, since Array[T] is invariant in T\n"
   ]
  },
  {
   "cell_type": "markdown",
   "metadata": {},
   "source": [
    "This compiles, how can it be?"
   ]
  },
  {
   "cell_type": "markdown",
   "metadata": {},
   "source": [
    "Check out the signature of [:+](https://www.scala-lang.org/api/2.11.12/#scala.Array)"
   ]
  },
  {
   "cell_type": "markdown",
   "metadata": {},
   "source": [
    "Some examples with [List](https://www.scala-lang.org/api/2.11.12/#scala.collection.immutable.List) (covariant in T)\n",
    "\n",
    "/* class List[+T] { ... } */"
   ]
  },
  {
   "cell_type": "code",
   "execution_count": 1,
   "metadata": {},
   "outputs": [],
   "source": [
    "// Similarly to arrays, adding new elements may change the type of the list\n",
    "// Signature is like: def +:[B >: T](elem: B)(...): List[B]\n"
   ]
  },
  {
   "cell_type": "markdown",
   "metadata": {},
   "source": [
    "# Functional features"
   ]
  },
  {
   "cell_type": "markdown",
   "metadata": {},
   "source": [
    "### Inmutable objects\n",
    "https://docs.oracle.com/javase/tutorial/essential/concurrency/immutable.html"
   ]
  },
  {
   "cell_type": "code",
   "execution_count": null,
   "metadata": {},
   "outputs": [],
   "source": [
    "// vars vs. vals\n"
   ]
  },
  {
   "cell_type": "code",
   "execution_count": 1,
   "metadata": {},
   "outputs": [],
   "source": [
    "// We can mutate `i`\n",
    "\n",
    "// But `j` is immutable\n"
   ]
  },
  {
   "cell_type": "code",
   "execution_count": 1,
   "metadata": {},
   "outputs": [],
   "source": [
    "// Note that immutable variables may refer to mutable objects\n"
   ]
  },
  {
   "cell_type": "markdown",
   "metadata": {},
   "source": [
    "Immutable objects in Java:"
   ]
  },
  {
   "cell_type": "code",
   "execution_count": null,
   "metadata": {},
   "outputs": [],
   "source": [
    "/*\n",
    "final public class ImmutableRGB {\n",
    "\n",
    "    // Values must be between 0 and 255.\n",
    "    final private int red;\n",
    "    final private int green;\n",
    "    final private int blue;\n",
    "    final private String name;\n",
    "\n",
    "    private void check(int red,\n",
    "                       int green,\n",
    "                       int blue) {\n",
    "        if (red < 0 || red > 255\n",
    "            || green < 0 || green > 255\n",
    "            || blue < 0 || blue > 255) {\n",
    "            throw new IllegalArgumentException();\n",
    "        }\n",
    "    }\n",
    "\n",
    "    public ImmutableRGB(int red,\n",
    "                        int green,\n",
    "                        int blue,\n",
    "                        String name) {\n",
    "        check(red, green, blue);\n",
    "        this.red = red;\n",
    "        this.green = green;\n",
    "        this.blue = blue;\n",
    "        this.name = name;\n",
    "    }\n",
    "\n",
    "\n",
    "    public int getRGB() {\n",
    "        return ((red << 16) | (green << 8) | blue);\n",
    "    }\n",
    "\n",
    "    public String getName() {\n",
    "        return name;\n",
    "    }\n",
    "\n",
    "    public ImmutableRGB invert() {\n",
    "        return new ImmutableRGB(255 - red,\n",
    "                       255 - green,\n",
    "                       255 - blue,\n",
    "                       \"Inverse of \" + name);\n",
    "    }\n",
    "}\n",
    "*/"
   ]
  },
  {
   "cell_type": "markdown",
   "metadata": {},
   "source": [
    "Immutable objects in Scala:"
   ]
  },
  {
   "cell_type": "markdown",
   "metadata": {},
   "source": [
    "### Lambda expressions\n",
    "\n",
    "https://docs.oracle.com/javase/tutorial/java/javaOO/lambdaexpressions.html"
   ]
  },
  {
   "cell_type": "code",
   "execution_count": 1,
   "metadata": {},
   "outputs": [
    {
     "data": {
      "text/plain": [
       "\u001b[32mimport \u001b[39m\u001b[36mjava.time.LocalDate \n",
       "\n",
       "/*\n",
       "public class Person {\n",
       "\n",
       "    public enum Sex {\n",
       "        MALE, FEMALE\n",
       "    }\n",
       "\n",
       "    String name;\n",
       "    LocalDate birthday;\n",
       "    Sex gender;\n",
       "    String emailAddress;\n",
       "\n",
       "    public int getAge() {\n",
       "        // ...\n",
       "    }\n",
       "\n",
       "    public void printPerson() {\n",
       "        // ...\n",
       "    }\n",
       "}\n",
       "*/\u001b[39m"
      ]
     },
     "execution_count": 1,
     "metadata": {},
     "output_type": "execute_result"
    }
   ],
   "source": [
    "import java.time.LocalDate \n",
    "\n",
    "/*\n",
    "public class Person {\n",
    "\n",
    "    public enum Sex {\n",
    "        MALE, FEMALE\n",
    "    }\n",
    "\n",
    "    String name;\n",
    "    LocalDate birthday;\n",
    "    Sex gender;\n",
    "    String emailAddress;\n",
    "\n",
    "    public int getAge() {\n",
    "        // ...\n",
    "    }\n",
    "\n",
    "    public void printPerson() {\n",
    "        // ...\n",
    "    }\n",
    "}\n",
    "*/"
   ]
  },
  {
   "cell_type": "markdown",
   "metadata": {},
   "source": [
    "**Ad-hoc version:**"
   ]
  },
  {
   "cell_type": "code",
   "execution_count": 2,
   "metadata": {},
   "outputs": [],
   "source": [
    "/*\n",
    "public static void printPersonsOlderThan(List<Person> roster, int age) {\n",
    "    for (Person p : roster) {\n",
    "        if (p.getAge() >= age) {\n",
    "            p.printPerson();\n",
    "        }\n",
    "    }\n",
    "}\n",
    "*/"
   ]
  },
  {
   "cell_type": "markdown",
   "metadata": {},
   "source": [
    "**With functional interfaces (Java) & Function1 (Scala):**"
   ]
  },
  {
   "cell_type": "code",
   "execution_count": 4,
   "metadata": {},
   "outputs": [],
   "source": [
    "/*\n",
    "\n",
    "// Standard functional interface\n",
    "\n",
    "interface Predicate<T> {\n",
    "    boolean test(T t);\n",
    "}\n",
    "\n",
    "public static void printPersonsWithPredicate(\n",
    "    List<Person> roster, Predicate<Person> tester) {\n",
    "    for (Person p : roster) {\n",
    "        if (tester.test(p)) {\n",
    "            p.printPerson();\n",
    "        }\n",
    "    }\n",
    "}\n",
    "*/"
   ]
  },
  {
   "cell_type": "code",
   "execution_count": 1,
   "metadata": {},
   "outputs": [],
   "source": [
    "// Standard functional interface\n",
    "\n",
    "/*\n",
    "trait Function1[A, B] {\n",
    "    def apply(a: A): B\n",
    "}\n",
    "*/\n",
    "\n"
   ]
  },
  {
   "cell_type": "markdown",
   "metadata": {},
   "source": [
    "Syntactic sugar for function types:\n",
    "`Function1[A, B]` === `A => B`"
   ]
  },
  {
   "cell_type": "markdown",
   "metadata": {},
   "source": [
    "Invoke method with named functions:"
   ]
  },
  {
   "cell_type": "code",
   "execution_count": 14,
   "metadata": {},
   "outputs": [],
   "source": [
    "/*\n",
    "\n",
    "class CheckPersonEligibleForSelectiveService implements Predicate<Person> {\n",
    "    public boolean test(Person p) {\n",
    "        return p.gender == Person.Sex.MALE &&\n",
    "            p.getAge() >= 18 &&\n",
    "            p.getAge() <= 25;\n",
    "    }\n",
    "}\n",
    "\n",
    "printPersons(\n",
    "    roster, new CheckPersonEligibleForSelectiveService());\n",
    "*/"
   ]
  },
  {
   "cell_type": "markdown",
   "metadata": {},
   "source": [
    "invoke methods with anonymous class instances:"
   ]
  },
  {
   "cell_type": "markdown",
   "metadata": {},
   "source": [
    "invoke method with lambda expressions:"
   ]
  },
  {
   "cell_type": "code",
   "execution_count": 16,
   "metadata": {},
   "outputs": [],
   "source": [
    "/*\n",
    "printPersonsWithPredicate(\n",
    "    roster,\n",
    "    p -> p.getGender() == Person.Sex.MALE\n",
    "        && p.getAge() >= 18\n",
    "        && p.getAge() <= 25\n",
    ");\n",
    "*/"
   ]
  },
  {
   "cell_type": "markdown",
   "metadata": {},
   "source": [
    "invoke method with method references (Java) & eta-expansion (Scala):"
   ]
  },
  {
   "cell_type": "code",
   "execution_count": 7,
   "metadata": {},
   "outputs": [],
   "source": [
    "/*\n",
    "public class Person {\n",
    "    ...\n",
    "    public static int checkAge(Person a) {\n",
    "        return a.getAge() >= 18 && p.getAge() <= 25;\n",
    "    }\n",
    "}\n",
    "\n",
    "printPersonsWithPredicate(roster, Person::checkAge);\n",
    "*/"
   ]
  },
  {
   "cell_type": "markdown",
   "metadata": {},
   "source": [
    "// Eta-expansion"
   ]
  },
  {
   "cell_type": "markdown",
   "metadata": {},
   "source": [
    "### Contravariance and variance in Function traits"
   ]
  },
  {
   "cell_type": "markdown",
   "metadata": {},
   "source": [
    "Trait `Function1` is defined as follows:\n",
    "\n",
    "trait Function1[-A, +B]{\n",
    "   def apply(a: A): B\n",
    "}"
   ]
  },
  {
   "cell_type": "markdown",
   "metadata": {},
   "source": [
    "Which functions can be passed to this method?"
   ]
  },
  {
   "cell_type": "code",
   "execution_count": 1,
   "metadata": {},
   "outputs": [],
   "source": [
    "// This doesn't compile:\n"
   ]
  },
  {
   "cell_type": "code",
   "execution_count": 1,
   "metadata": {},
   "outputs": [],
   "source": [
    "// This compiles:\n"
   ]
  },
  {
   "cell_type": "markdown",
   "metadata": {},
   "source": [
    "# Collections\n",
    "\n",
    "https://docs.oracle.com/javase/tutorial/collections/index.html"
   ]
  },
  {
   "cell_type": "markdown",
   "metadata": {},
   "source": [
    "In Java: \n",
    "\n",
    "![](https://docs.oracle.com/javase/tutorial/figures/collections/colls-coreInterfaces.gif) "
   ]
  },
  {
   "cell_type": "markdown",
   "metadata": {},
   "source": [
    "In Scala:"
   ]
  },
  {
   "cell_type": "markdown",
   "metadata": {},
   "source": [
    "![](https://docs.scala-lang.org/resources/images/tour/collections-diagram.svg)"
   ]
  },
  {
   "cell_type": "markdown",
   "metadata": {},
   "source": [
    "![](https://docs.scala-lang.org/resources/images/tour/collections-immutable-diagram.svg)"
   ]
  },
  {
   "cell_type": "markdown",
   "metadata": {},
   "source": [
    "![](https://docs.scala-lang.org/resources/images/tour/collections-mutable-diagram.svg)"
   ]
  },
  {
   "cell_type": "markdown",
   "metadata": {},
   "source": [
    "![](![image.png](attachment:image.png))"
   ]
  }
 ],
 "metadata": {
  "kernelspec": {
   "display_name": "Scala",
   "language": "scala",
   "name": "scala"
  },
  "language_info": {
   "codemirror_mode": "text/x-scala",
   "file_extension": ".sc",
   "mimetype": "text/x-scala",
   "name": "scala",
   "nbconvert_exporter": "script",
   "version": "2.13.3"
  }
 },
 "nbformat": 4,
 "nbformat_minor": 2
}
