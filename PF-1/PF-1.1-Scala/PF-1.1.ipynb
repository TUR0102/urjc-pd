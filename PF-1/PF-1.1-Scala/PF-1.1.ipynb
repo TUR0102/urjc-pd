{
 "cells": [
  {
   "cell_type": "markdown",
   "metadata": {},
   "source": [
    "# INTRODUCCIÓN A SCALA"
   ]
  },
  {
   "cell_type": "markdown",
   "metadata": {},
   "source": [
    "Este notebook proporciona una introducción a las características básicas de Scala. Concretamente, a la forma en la que Scala implementa los conceptos de la programación orientada a objetos.\n",
    "\n",
    "Para ello se traducirán a Scala los ejemplos de Java utilizados en el siguiente tutorial: \n",
    "\n",
    "https://docs.oracle.com/javase/tutorial/java/TOC.html"
   ]
  },
  {
   "cell_type": "markdown",
   "metadata": {},
   "source": [
    "# Object-Oriented Programming Concepts\n",
    "\n",
    "https://docs.oracle.com/javase/tutorial/java/concepts/index.html"
   ]
  },
  {
   "cell_type": "markdown",
   "metadata": {},
   "source": [
    "### Classes"
   ]
  },
  {
   "cell_type": "code",
   "execution_count": null,
   "metadata": {},
   "outputs": [],
   "source": [
    "/* \n",
    "class Bicycle {\n",
    "\n",
    "  int cadence = 0;\n",
    "  int speed = 0;\n",
    "  int gear = 1;\n",
    "\n",
    "  void changeCadence(int newValue) {\n",
    "    cadence = newValue;\n",
    "  }\n",
    "\n",
    "  void changeGear(int newValue) {\n",
    "    gear = newValue;\n",
    "  }\n",
    "\n",
    "  void speedUp(int increment) {\n",
    "    speed = speed + increment;   \n",
    "  }\n",
    "\n",
    "  void applyBrakes(int decrement) {\n",
    "    speed = speed - decrement;\n",
    "  }\n",
    "  \n",
    "  void printStates() {\n",
    "       System.out.println(\"cadence:\" +\n",
    "           cadence + \" speed:\" + \n",
    "           speed + \" gear:\" + gear);\n",
    "  }\n",
    "}\n",
    "*/"
   ]
  },
  {
   "cell_type": "code",
   "execution_count": 23,
   "metadata": {},
   "outputs": [
    {
     "data": {
      "text/plain": [
       "defined \u001b[32mclass\u001b[39m \u001b[36mBicycle\u001b[39m"
      ]
     },
     "execution_count": 23,
     "metadata": {},
     "output_type": "execute_result"
    }
   ],
   "source": [
    "class Bicycle {\n",
    "\n",
    "    var cadence: Int = 0\n",
    "    var speed: Int = 0\n",
    "    var gear: Int = 1\n",
    "\n",
    "    def changeCadence(newValue: Int): Unit = {\n",
    "         cadence = newValue;\n",
    "    }\n",
    "\n",
    "    def changeGear(newValue: Int): Unit = {\n",
    "         gear = newValue;\n",
    "    }\n",
    "\n",
    "    def speedUp(increment: Int): Unit = {\n",
    "         speed = speed + increment;   \n",
    "    }\n",
    "\n",
    "    def applyBrakes(decrement: Int) = {\n",
    "         speed = speed - decrement;\n",
    "    }\n",
    "\n",
    "    def printStates(): Unit = {\n",
    "         println(\"cadence:\" +\n",
    "             cadence + \" speed:\" + \n",
    "             speed + \" gear:\" + gear);\n",
    "    }\n",
    "}"
   ]
  },
  {
   "cell_type": "markdown",
   "metadata": {},
   "source": [
    "### Objects and method invocation"
   ]
  },
  {
   "cell_type": "code",
   "execution_count": 23,
   "metadata": {},
   "outputs": [],
   "source": [
    "/*\n",
    "// Create two different Bicycle objects\n",
    "\n",
    "Bicycle bike1 = new Bicycle();\n",
    "Bicycle bike2 = new Bicycle();\n",
    "\n",
    "// Invoke methods on those objects\n",
    "\n",
    "bike1.changeCadence(50);\n",
    "bike1.speedUp(10);\n",
    "bike1.changeGear(2);\n",
    "bike1.printStates();\n",
    "\n",
    "bike2.changeCadence(50);\n",
    "bike2.speedUp(10);\n",
    "bike2.changeGear(2);\n",
    "bike2.changeCadence(40);\n",
    "bike2.speedUp(10);\n",
    "bike2.changeGear(3);\n",
    "bike2.printStates();\n",
    "\n",
    "*/"
   ]
  },
  {
   "cell_type": "code",
   "execution_count": 24,
   "metadata": {},
   "outputs": [
    {
     "name": "stdout",
     "output_type": "stream",
     "text": [
      "cadence:50 speed:10 gear:2\n",
      "cadence:40 speed:20 gear:3\n"
     ]
    },
    {
     "data": {
      "text/plain": [
       "\u001b[36mbike1\u001b[39m: \u001b[32mBicycle\u001b[39m = ammonite.$sess.cmd22$Helper$Bicycle@65b7d183\n",
       "\u001b[36mbike2\u001b[39m: \u001b[32mBicycle\u001b[39m = ammonite.$sess.cmd22$Helper$Bicycle@488816e7"
      ]
     },
     "execution_count": 24,
     "metadata": {},
     "output_type": "execute_result"
    }
   ],
   "source": [
    "// Create two different Bicycle objects\n",
    "\n",
    "var bike1: Bicycle = new Bicycle()\n",
    "var bike2: Bicycle = new Bicycle()\n",
    "\n",
    "// Invoke methods on those objects\n",
    "\n",
    "bike1.changeCadence(50)\n",
    "bike1.speedUp(10)\n",
    "bike1.changeGear(2)\n",
    "bike1.printStates()\n",
    "\n",
    "bike2.changeCadence(50)\n",
    "bike2.speedUp(10)\n",
    "bike2.changeGear(2)\n",
    "bike2.changeCadence(40)\n",
    "bike2.speedUp(10)\n",
    "bike2.changeGear(3)\n",
    "bike2.printStates()\n"
   ]
  },
  {
   "cell_type": "markdown",
   "metadata": {},
   "source": [
    "Some syntactic sugar for method invocations:"
   ]
  },
  {
   "cell_type": "code",
   "execution_count": 26,
   "metadata": {},
   "outputs": [
    {
     "name": "stdout",
     "output_type": "stream",
     "text": [
      "cadence:50 speed:30 gear:2\n"
     ]
    }
   ],
   "source": [
    "// Invoke methods on those objects\n",
    "\n",
    "bike1 changeCadence 50\n",
    "bike1 speedUp 10\n",
    "bike1 changeGear 2\n",
    "bike1 printStates"
   ]
  },
  {
   "cell_type": "markdown",
   "metadata": {},
   "source": [
    "### Inheritance"
   ]
  },
  {
   "cell_type": "code",
   "execution_count": null,
   "metadata": {},
   "outputs": [],
   "source": [
    "/*\n",
    "class MountainBike extends Bicycle {\n",
    "\n",
    "    // new fields and methods defining \n",
    "    // a mountain bike would go here\n",
    "\n",
    "}\n",
    "*/"
   ]
  },
  {
   "cell_type": "code",
   "execution_count": null,
   "metadata": {},
   "outputs": [],
   "source": [
    "class MountainBike extends Bicycle {\n",
    "\n",
    "    // new fields and methods defining \n",
    "    // a mountain bike would go here\n",
    "    \n",
    "}"
   ]
  },
  {
   "cell_type": "markdown",
   "metadata": {},
   "source": [
    "### Interfaces"
   ]
  },
  {
   "cell_type": "code",
   "execution_count": null,
   "metadata": {},
   "outputs": [],
   "source": [
    "/*\n",
    "interface Bicycle {\n",
    "\n",
    "    //  wheel revolutions per minute\n",
    "    void changeCadence(int newValue);\n",
    "\n",
    "    void changeGear(int newValue);\n",
    "\n",
    "    void speedUp(int increment);\n",
    "\n",
    "    void applyBrakes(int decrement);\n",
    "}\n",
    "*/"
   ]
  },
  {
   "cell_type": "code",
   "execution_count": null,
   "metadata": {},
   "outputs": [],
   "source": [
    "trait Bicycle {\n",
    "\n",
    "    //  wheel revolutions per minute\n",
    "    def changeCadence(newValue: Int)\n",
    "\n",
    "    def changeGear(newValue: Int)\n",
    "\n",
    "    def speedUp(increment: Int)\n",
    "\n",
    "    def applyBrakes(decrement: Int)\n",
    "}"
   ]
  },
  {
   "cell_type": "code",
   "execution_count": null,
   "metadata": {},
   "outputs": [],
   "source": [
    "/*\n",
    "class ACMEBicycle implements Bicycle {\n",
    "\n",
    "    int cadence = 0;\n",
    "    int speed = 0;\n",
    "    int gear = 1;\n",
    "\n",
    "   // The compiler will now require that methods\n",
    "   // changeCadence, changeGear, speedUp, and applyBrakes\n",
    "   // all be implemented. Compilation will fail if those\n",
    "   // methods are missing from this class.\n",
    "\n",
    "    void changeCadence(int newValue) {\n",
    "         cadence = newValue;\n",
    "    }\n",
    "\n",
    "    void changeGear(int newValue) {\n",
    "         gear = newValue;\n",
    "    }\n",
    "\n",
    "    void speedUp(int increment) {\n",
    "         speed = speed + increment;   \n",
    "    }\n",
    "\n",
    "    void applyBrakes(int decrement) {\n",
    "         speed = speed - decrement;\n",
    "    }\n",
    "\n",
    "    void printStates() {\n",
    "         System.out.println(\"cadence:\" +\n",
    "             cadence + \" speed:\" + \n",
    "             speed + \" gear:\" + gear);\n",
    "    }\n",
    "}\n",
    "*/"
   ]
  },
  {
   "cell_type": "code",
   "execution_count": null,
   "metadata": {},
   "outputs": [],
   "source": [
    "class ACMEBicycle extends Bicycle {\n",
    "\n",
    "    var cadence: Int = 0\n",
    "    var speed: Int = 0\n",
    "    var gear: Int = 1\n",
    "\n",
    "   // The compiler will now require that methods\n",
    "   // changeCadence, changeGear, speedUp, and applyBrakes\n",
    "   // all be implemented. Compilation will fail if those\n",
    "   // methods are missing from this class.\n",
    "\n",
    "    def changeCadence(newValue: Int) {\n",
    "         cadence = newValue;\n",
    "    }\n",
    "\n",
    "    def changeGear(newValue: Int) {\n",
    "         gear = newValue;\n",
    "    }\n",
    "\n",
    "    def speedUp(increment:Int) {\n",
    "         speed = speed + increment;   \n",
    "    }\n",
    "\n",
    "    def applyBrakes(decrement: Int) {\n",
    "         speed = speed - decrement;\n",
    "    }\n",
    "\n",
    "    def printStates() {\n",
    "         System.out.println(\"cadence:\" +\n",
    "             cadence + \" speed:\" + \n",
    "             speed + \" gear:\" + gear);\n",
    "    }\n",
    "}"
   ]
  },
  {
   "cell_type": "markdown",
   "metadata": {},
   "source": [
    "# Language basics\n",
    "\n",
    "https://docs.oracle.com/javase/tutorial/java/nutsandbolts/index.html"
   ]
  },
  {
   "cell_type": "markdown",
   "metadata": {},
   "source": [
    "### Control flow statements"
   ]
  },
  {
   "cell_type": "code",
   "execution_count": null,
   "metadata": {},
   "outputs": [],
   "source": [
    "class Bicycle {\n",
    "\n",
    "    var cadence: Int = 0\n",
    "    var speed: Int = 0\n",
    "    var gear: Int = 1\n",
    "\n",
    "    def changeCadence(newValue: Int): Unit = {\n",
    "         cadence = newValue;\n",
    "    }\n",
    "\n",
    "    def changeGear(newValue: Int): Unit = {\n",
    "         gear = newValue;\n",
    "    }\n",
    "\n",
    "    def speedUp(increment: Int): Unit = {\n",
    "         speed = speed + increment;   \n",
    "    }\n",
    "\n",
    "    def applyBrakes(decrement: Int) = {\n",
    "         speed = speed - decrement;\n",
    "    }\n",
    "    \n",
    "    /*\n",
    "    void applyBrakes() {\n",
    "        // the \"if\" clause: bicycle must be moving\n",
    "        if (isMoving){ \n",
    "            // the \"then\" clause: decrease current speed\n",
    "            currentSpeed--;\n",
    "        }\n",
    "    }\n",
    "    */\n",
    "\n",
    "    def printStates(): Unit = {\n",
    "         println(\"cadence:\" +\n",
    "             cadence + \" speed:\" + \n",
    "             speed + \" gear:\" + gear);\n",
    "    }\n",
    "}"
   ]
  },
  {
   "cell_type": "code",
   "execution_count": null,
   "metadata": {},
   "outputs": [],
   "source": [
    "class Bicycle {\n",
    "\n",
    "    var cadence: Int = 0\n",
    "    var speed: Int = 0\n",
    "    var gear: Int = 1\n",
    "\n",
    "    def changeCadence(newValue: Int): Unit = {\n",
    "         cadence = newValue;\n",
    "    }\n",
    "\n",
    "    def changeGear(newValue: Int): Unit = {\n",
    "         gear = newValue;\n",
    "    }\n",
    "\n",
    "    def speedUp(increment: Int): Unit = {\n",
    "         speed = speed + increment;   \n",
    "    }\n",
    "\n",
    "    def applyBrakes(decrement: Int) = {\n",
    "         speed = speed - decrement;\n",
    "    }\n",
    "    \n",
    "    def isMoving(): Boolean = \n",
    "        speed > 0\n",
    "    \n",
    "    def applyBrakes() {\n",
    "        if (isMoving)\n",
    "            speed = speed - 1\n",
    "    }\n",
    "\n",
    "    def printStates(): Unit = {\n",
    "         println(\"cadence:\" +\n",
    "             cadence + \" speed:\" + \n",
    "             speed + \" gear:\" + gear);\n",
    "    }\n",
    "}"
   ]
  },
  {
   "cell_type": "code",
   "execution_count": null,
   "metadata": {},
   "outputs": [],
   "source": [
    "var bike: Bicycle = new Bicycle\n",
    "bike.speedUp(10)\n",
    "bike.printStates()\n",
    "bike.applyBrakes()\n",
    "bike.printStates()\n",
    "bike.applyBrakes(9)\n",
    "bike.applyBrakes()\n",
    "bike.printStates()"
   ]
  },
  {
   "cell_type": "code",
   "execution_count": null,
   "metadata": {},
   "outputs": [],
   "source": [
    "class Bicycle {\n",
    "\n",
    "    var cadence: Int = 0\n",
    "    var speed: Int = 0\n",
    "    var gear: Int = 1\n",
    "\n",
    "    def changeCadence(newValue: Int): Unit = {\n",
    "         cadence = newValue;\n",
    "    }\n",
    "\n",
    "    def changeGear(newValue: Int): Unit = {\n",
    "         gear = newValue;\n",
    "    }\n",
    "\n",
    "    def speedUp(increment: Int): Unit = {\n",
    "         speed = speed + increment;   \n",
    "    }\n",
    "\n",
    "    def applyBrakes(decrement: Int) = {\n",
    "         speed = speed - decrement;\n",
    "    }\n",
    "    \n",
    "    \n",
    "    def isMoving(): Boolean = \n",
    "        speed > 0\n",
    "    \n",
    "    /*\n",
    "    void applyBrakes() {\n",
    "        if (isMoving) {\n",
    "            currentSpeed--;\n",
    "        } else {\n",
    "            System.err.println(\"The bicycle has already stopped!\");\n",
    "        } \n",
    "    }\n",
    "    */\n",
    "\n",
    "    def printStates(): Unit = {\n",
    "         println(\"cadence:\" +\n",
    "             cadence + \" speed:\" + \n",
    "             speed + \" gear:\" + gear);\n",
    "    }\n",
    "}\n"
   ]
  },
  {
   "cell_type": "code",
   "execution_count": null,
   "metadata": {},
   "outputs": [],
   "source": [
    "class Bicycle {\n",
    "\n",
    "    var cadence: Int = 0\n",
    "    var speed: Int = 0\n",
    "    var gear: Int = 1\n",
    "\n",
    "    def changeCadence(newValue: Int): Unit = {\n",
    "         cadence = newValue;\n",
    "    }\n",
    "\n",
    "    def changeGear(newValue: Int): Unit = {\n",
    "         gear = newValue;\n",
    "    }\n",
    "\n",
    "    def speedUp(increment: Int): Unit = {\n",
    "         speed = speed + increment;   \n",
    "    }\n",
    "\n",
    "    def applyBrakes(decrement: Int) = {\n",
    "         speed = speed - decrement;\n",
    "    }\n",
    "    \n",
    "    \n",
    "    def isMoving(): Boolean = \n",
    "        // return speed > 0\n",
    "        speed > 0\n",
    "    \n",
    "    def applyBrakes() {\n",
    "        if (isMoving) {\n",
    "            speed -= 1;\n",
    "        } else {\n",
    "            System.err.println(\"The bicycle has already stopped!\");\n",
    "        } \n",
    "    }\n",
    "\n",
    "    def printStates(): Unit = {\n",
    "         println(\"cadence:\" +\n",
    "             cadence + \" speed:\" + \n",
    "             speed + \" gear:\" + gear);\n",
    "    }\n",
    "}\n"
   ]
  },
  {
   "cell_type": "code",
   "execution_count": null,
   "metadata": {},
   "outputs": [],
   "source": [
    "var bike: Bicycle = new Bicycle\n",
    "bike.speedUp(10)\n",
    "bike.printStates()\n",
    "bike.applyBrakes()\n",
    "bike.printStates()\n",
    "bike.applyBrakes(9)\n",
    "bike.applyBrakes()\n",
    "bike.printStates()"
   ]
  },
  {
   "cell_type": "markdown",
   "metadata": {},
   "source": [
    "### If-Else-If demo"
   ]
  },
  {
   "cell_type": "code",
   "execution_count": null,
   "metadata": {},
   "outputs": [],
   "source": [
    "/*\n",
    "int testscore = 76;\n",
    "char grade;\n",
    "\n",
    "if (testscore >= 90) {\n",
    "    grade = 'A';\n",
    "} else if (testscore >= 80) {\n",
    "    grade = 'B';\n",
    "} else if (testscore >= 70) {\n",
    "    grade = 'C';\n",
    "} else if (testscore >= 60) {\n",
    "    grade = 'D';\n",
    "} else {\n",
    "    grade = 'F';\n",
    "}\n",
    "System.out.println(\"Grade = \" + grade);\n",
    "*/"
   ]
  },
  {
   "cell_type": "code",
   "execution_count": null,
   "metadata": {},
   "outputs": [],
   "source": [
    "var testscore: Int = 76\n",
    "var grade: Char = ' '\n",
    "\n",
    "if (testscore >= 90) {\n",
    "    grade = 'A';\n",
    "} else if (testscore >= 80) {\n",
    "    grade = 'B';\n",
    "} else if (testscore >= 70) {\n",
    "    grade = 'C';\n",
    "} else if (testscore >= 60) {\n",
    "    grade = 'D';\n",
    "} else {\n",
    "    grade = 'F';\n",
    "}\n",
    "System.out.println(\"Grade = \" + grade);"
   ]
  },
  {
   "cell_type": "markdown",
   "metadata": {},
   "source": [
    "### while statements"
   ]
  },
  {
   "cell_type": "code",
   "execution_count": null,
   "metadata": {},
   "outputs": [],
   "source": [
    "/*\n",
    "int count = 1;\n",
    "while (count < 11) {\n",
    "    System.out.println(\"Count is: \" + count);\n",
    "    count++;\n",
    "}\n",
    "*/"
   ]
  },
  {
   "cell_type": "code",
   "execution_count": null,
   "metadata": {},
   "outputs": [],
   "source": [
    "var count: Int = 1\n",
    "while (count < 11) {\n",
    "    System.out.println(\"Count is: \" + count)\n",
    "    count += 1\n",
    "}\n"
   ]
  },
  {
   "cell_type": "markdown",
   "metadata": {},
   "source": [
    "### For statement"
   ]
  },
  {
   "cell_type": "code",
   "execution_count": null,
   "metadata": {},
   "outputs": [],
   "source": [
    "/*\n",
    "for(int i=1; i<11; i++){\n",
    "  System.out.println(\"Count is: \" + i);\n",
    "}\n",
    "*/"
   ]
  },
  {
   "cell_type": "code",
   "execution_count": null,
   "metadata": {},
   "outputs": [],
   "source": [
    "for(i <- 1 to 10){\n",
    "  System.out.println(\"Count is: \" + i);\n",
    "}"
   ]
  },
  {
   "cell_type": "code",
   "execution_count": null,
   "metadata": {},
   "outputs": [],
   "source": [
    "/*\n",
    "int[] numbers = \n",
    "  {1,2,3,4,5,6,7,8,9,10};\n",
    "\n",
    "for (int item : numbers) {\n",
    "  System.out.println(\"Count is: \" + item);\n",
    "}\n",
    "/*"
   ]
  },
  {
   "cell_type": "code",
   "execution_count": null,
   "metadata": {},
   "outputs": [],
   "source": [
    "var numbers: Array[Int] = \n",
    "  Array(1,2,3,4,5,6,7,8,9,10);\n",
    "\n",
    "for (item <- numbers) {\n",
    "  System.out.println(\"Count is: \" + item);\n",
    "}\n"
   ]
  },
  {
   "cell_type": "markdown",
   "metadata": {},
   "source": [
    "### Exceptions\n",
    "\n",
    "https://docs.oracle.com/javase/tutorial/essential/exceptions/index.html"
   ]
  },
  {
   "cell_type": "code",
   "execution_count": null,
   "metadata": {},
   "outputs": [],
   "source": [
    "/*\n",
    "public void writeList() {\n",
    "    PrintWriter out = null;\n",
    "\n",
    "    try {\n",
    "        System.out.println(\"Entering\" + \" try statement\");\n",
    "\n",
    "        out = new PrintWriter(new FileWriter(\"OutFile.txt\"));\n",
    "        for (int i = 0; i < SIZE; i++) {\n",
    "            out.println(\"Value at: \" + i + \" = \" + list.get(i));\n",
    "        }\n",
    "    } catch (IndexOutOfBoundsException e) {\n",
    "        System.err.println(\"Caught IndexOutOfBoundsException: \"\n",
    "                           +  e.getMessage());\n",
    "                                 \n",
    "    } catch (IOException e) {\n",
    "        System.err.println(\"Caught IOException: \" +  e.getMessage());\n",
    "                                 \n",
    "    } finally {\n",
    "        if (out != null) {\n",
    "            System.out.println(\"Closing PrintWriter\");\n",
    "            out.close();\n",
    "        } \n",
    "        else {\n",
    "            System.out.println(\"PrintWriter not open\");\n",
    "        }\n",
    "    }\n",
    "}\n",
    "*/"
   ]
  },
  {
   "cell_type": "code",
   "execution_count": null,
   "metadata": {},
   "outputs": [],
   "source": [
    "import java.io._\n",
    "\n",
    "def writeList(list: Array[Int], SIZE: Int) {\n",
    "    var out: PrintWriter = null;\n",
    "\n",
    "    try {\n",
    "        System.out.println(\"Entering\" + \" try statement\");\n",
    "\n",
    "        out = new PrintWriter(new FileWriter(\"OutFile.txt\"));\n",
    "        for (i <- 0 to SIZE-1) {\n",
    "            out.println(\"Value at: \" + i + \" = \" + list.apply(i));\n",
    "        }\n",
    "    } catch {\n",
    "        case e: IndexOutOfBoundsException  => \n",
    "            System.err.println(\"Caught IndexOutOfBoundsException: \"\n",
    "                           +  e.getMessage());\n",
    "                                 \n",
    "        case e: IOException => \n",
    "            System.err.println(\"Caught IOException: \" +  e.getMessage());\n",
    "                                 \n",
    "    } finally {\n",
    "        if (out != null) {\n",
    "            System.out.println(\"Closing PrintWriter\");\n",
    "            out.close();\n",
    "        } \n",
    "        else {\n",
    "            System.out.println(\"PrintWriter not open\");\n",
    "        }\n",
    "    }\n",
    "}"
   ]
  },
  {
   "cell_type": "code",
   "execution_count": null,
   "metadata": {},
   "outputs": [],
   "source": [
    "writeList(Array(1,2,3,4), 4)"
   ]
  },
  {
   "cell_type": "code",
   "execution_count": null,
   "metadata": {},
   "outputs": [],
   "source": [
    "writeList(Array(1,2,3), 5)"
   ]
  },
  {
   "cell_type": "markdown",
   "metadata": {},
   "source": [
    "# Classes and objects\n",
    "\n",
    "https://docs.oracle.com/javase/tutorial/java/javaOO/index.html"
   ]
  },
  {
   "cell_type": "markdown",
   "metadata": {},
   "source": [
    "### Constructors"
   ]
  },
  {
   "cell_type": "code",
   "execution_count": null,
   "metadata": {},
   "outputs": [],
   "source": [
    "class Bicycle {\n",
    "\n",
    "    var cadence: Int = 0\n",
    "    var speed: Int = 0\n",
    "    var gear: Int = 1\n",
    "\n",
    "    /*\n",
    "    public Bicycle(int startCadence, int startSpeed, int startGear) {\n",
    "        gear = startGear;\n",
    "        cadence = startCadence;\n",
    "        speed = startSpeed;\n",
    "    }\n",
    "    */\n",
    "\n",
    "    def changeCadence(newValue: Int): Unit = {\n",
    "         cadence = newValue;\n",
    "    }\n",
    "\n",
    "    def changeGear(newValue: Int): Unit = {\n",
    "         gear = newValue;\n",
    "    }\n",
    "\n",
    "    def speedUp(increment: Int): Unit = {\n",
    "         speed = speed + increment;   \n",
    "    }\n",
    "\n",
    "    def applyBrakes(decrement: Int) = {\n",
    "         speed = speed - decrement;\n",
    "    }\n",
    "\n",
    "    def printStates(): Unit = {\n",
    "         println(\"cadence:\" +\n",
    "             cadence + \" speed:\" + \n",
    "             speed + \" gear:\" + gear);\n",
    "    }\n",
    "}"
   ]
  },
  {
   "cell_type": "code",
   "execution_count": null,
   "metadata": {},
   "outputs": [],
   "source": [
    "class Bicycle(startCadence: Int, startSpeed: Int, startGear: Int) {\n",
    "\n",
    "    var cadence: Int = startCadence\n",
    "    var speed: Int = startSpeed\n",
    "    var gear: Int = startGear\n",
    "\n",
    "    def this() = \n",
    "        this(0, 0, 1)\n",
    "    \n",
    "    def changeCadence(newValue: Int): Unit = {\n",
    "         cadence = newValue;\n",
    "    }\n",
    "\n",
    "    def changeGear(newValue: Int): Unit = {\n",
    "         gear = newValue;\n",
    "    }\n",
    "\n",
    "    def speedUp(increment: Int): Unit = {\n",
    "         speed = speed + increment;   \n",
    "    }\n",
    "\n",
    "    def applyBrakes(decrement: Int) = {\n",
    "         speed = speed - decrement;\n",
    "    }\n",
    "\n",
    "    def printStates(): Unit = {\n",
    "         println(\"cadence:\" +\n",
    "             cadence + \" speed:\" + \n",
    "             speed + \" gear:\" + gear);\n",
    "    }\n",
    "}"
   ]
  },
  {
   "cell_type": "code",
   "execution_count": null,
   "metadata": {},
   "outputs": [],
   "source": [
    "class Bicycle(\n",
    "    var cadence: Int, \n",
    "    var speed: Int, \n",
    "    var gear: Int) {\n",
    "\n",
    "    def this() = \n",
    "        this(0, 0, 1)\n",
    "    \n",
    "    def changeCadence(newValue: Int): Unit = {\n",
    "         cadence = newValue;\n",
    "    }\n",
    "\n",
    "    def changeGear(newValue: Int): Unit = {\n",
    "         gear = newValue;\n",
    "    }\n",
    "\n",
    "    def speedUp(increment: Int): Unit = {\n",
    "         speed = speed + increment;   \n",
    "    }\n",
    "\n",
    "    def applyBrakes(decrement: Int) = {\n",
    "         speed = speed - decrement;\n",
    "    }\n",
    "\n",
    "    def printStates(): Unit = {\n",
    "         println(\"cadence:\" +\n",
    "             cadence + \" speed:\" + \n",
    "             speed + \" gear:\" + gear);\n",
    "    }\n",
    "}"
   ]
  },
  {
   "cell_type": "markdown",
   "metadata": {},
   "source": [
    "### Super-constructors"
   ]
  },
  {
   "cell_type": "code",
   "execution_count": null,
   "metadata": {},
   "outputs": [],
   "source": [
    "/*\n",
    "public class MountainBike extends Bicycle {\n",
    "        \n",
    "    // the MountainBike subclass has\n",
    "    // one field\n",
    "    public int seatHeight;\n",
    "\n",
    "    // the MountainBike subclass has\n",
    "    // one constructor\n",
    "    public MountainBike(int startHeight, int startCadence,\n",
    "                        int startSpeed, int startGear) {\n",
    "        super(startCadence, startSpeed, startGear);\n",
    "        seatHeight = startHeight;\n",
    "    }   \n",
    "        \n",
    "    // the MountainBike subclass has\n",
    "    // one method\n",
    "    public void setHeight(int newValue) {\n",
    "        seatHeight = newValue;\n",
    "    }   \n",
    "\n",
    "}\n",
    "*/"
   ]
  },
  {
   "cell_type": "code",
   "execution_count": null,
   "metadata": {},
   "outputs": [],
   "source": [
    "class MountainBike(\n",
    "    var seatHeight: Int, \n",
    "    cadence: Int, \n",
    "    speed: Int,\n",
    "    gear: Int) \n",
    "extends Bicycle(cadence, speed, gear) {\n",
    "        \n",
    "    // the MountainBike subclass has\n",
    "    // one method\n",
    "    def setHeight(newValue: Int) {\n",
    "        seatHeight = newValue;\n",
    "    }   \n",
    "\n",
    "}"
   ]
  },
  {
   "cell_type": "markdown",
   "metadata": {},
   "source": [
    "### Extends + Implements"
   ]
  },
  {
   "cell_type": "code",
   "execution_count": null,
   "metadata": {},
   "outputs": [],
   "source": [
    "/*\n",
    "class MyClass extends MySuperClass implements YourInterface {\n",
    "    // field, constructor, and\n",
    "    // method declarations\n",
    "}\n",
    "*/"
   ]
  },
  {
   "cell_type": "code",
   "execution_count": null,
   "metadata": {},
   "outputs": [],
   "source": [
    "trait MountainBikeAPI{\n",
    "    def setHeight(newValue: Int)\n",
    "}\n",
    "\n",
    "class MountainBike(\n",
    "    var seatHeight: Int, \n",
    "    cadence: Int, \n",
    "    speed: Int,\n",
    "    gear: Int) \n",
    "extends Bicycle(cadence, speed, gear) \n",
    "with MountainBikeAPI{\n",
    "        \n",
    "    // the MountainBike subclass has\n",
    "    // one method\n",
    "    def setHeight(newValue: Int) {\n",
    "        seatHeight = newValue;\n",
    "    }   \n",
    "\n",
    "}\n",
    "\n"
   ]
  },
  {
   "cell_type": "markdown",
   "metadata": {},
   "source": [
    "### Private members"
   ]
  },
  {
   "cell_type": "code",
   "execution_count": null,
   "metadata": {},
   "outputs": [],
   "source": [
    "/*\n",
    "public class Bicycle {\n",
    "        \n",
    "    private int cadence;\n",
    "    private int gear;\n",
    "    private int speed;\n",
    "        \n",
    "    public Bicycle(int startCadence, int startSpeed, int startGear) {\n",
    "        gear = startGear;\n",
    "        cadence = startCadence;\n",
    "        speed = startSpeed;\n",
    "    }\n",
    "        \n",
    "    public int getCadence() {\n",
    "        return cadence;\n",
    "    }\n",
    "        \n",
    "    public void setCadence(int newValue) {\n",
    "        cadence = newValue;\n",
    "    }\n",
    "        \n",
    "    public int getGear() {\n",
    "        return gear;\n",
    "    }\n",
    "        \n",
    "    public void setGear(int newValue) {\n",
    "        gear = newValue;\n",
    "    }\n",
    "        \n",
    "    public int getSpeed() {\n",
    "        return speed;\n",
    "    }\n",
    "        \n",
    "    public void applyBrake(int decrement) {\n",
    "        speed -= decrement;\n",
    "    }\n",
    "        \n",
    "    public void speedUp(int increment) {\n",
    "        speed += increment;\n",
    "    }\n",
    "}\n",
    "*/"
   ]
  },
  {
   "cell_type": "code",
   "execution_count": null,
   "metadata": {},
   "outputs": [],
   "source": [
    "class Bicycle(\n",
    "    private var cadence: Int, \n",
    "    private var speed: Int, \n",
    "    private var gear: Int) {\n",
    "\n",
    "    def this() = \n",
    "        this(0, 0, 1)\n",
    "    \n",
    "    def getCadence(): Int = \n",
    "        cadence\n",
    "    \n",
    "    def changeCadence(newValue: Int): Unit = {\n",
    "         cadence = newValue;\n",
    "    }\n",
    "\n",
    "    def changeGear(newValue: Int): Unit = {\n",
    "         gear = newValue;\n",
    "    }\n",
    "\n",
    "    def speedUp(increment: Int): Unit = {\n",
    "         speed = speed + increment;   \n",
    "    }\n",
    "\n",
    "    def applyBrakes(decrement: Int) = {\n",
    "         speed = speed - decrement;\n",
    "    }\n",
    "\n",
    "    def printStates(): Unit = {\n",
    "         println(\"cadence:\" +\n",
    "             cadence + \" speed:\" + \n",
    "             speed + \" gear:\" + gear);\n",
    "    }\n",
    "}"
   ]
  },
  {
   "cell_type": "code",
   "execution_count": null,
   "metadata": {},
   "outputs": [],
   "source": [
    "var b: Bicycle = new Bicycle(0,0,1)"
   ]
  },
  {
   "cell_type": "code",
   "execution_count": null,
   "metadata": {},
   "outputs": [],
   "source": [
    "b.getCadence\n"
   ]
  },
  {
   "cell_type": "markdown",
   "metadata": {},
   "source": [
    "### Static members"
   ]
  },
  {
   "cell_type": "code",
   "execution_count": null,
   "metadata": {},
   "outputs": [],
   "source": [
    "class Bicycle(\n",
    "    private var cadence: Int, \n",
    "    private var speed: Int, \n",
    "    private var gear: Int) {\n",
    "\n",
    "    def this() = \n",
    "        this(0, 0, 1)\n",
    "    \n",
    "    /*\n",
    "    public static int numberOfBicycles = 0\n",
    "    */\n",
    "    \n",
    "    def getCadence(): Int = \n",
    "        cadence\n",
    "    \n",
    "    def changeCadence(newValue: Int): Unit = {\n",
    "         cadence = newValue;\n",
    "    }\n",
    "\n",
    "    def changeGear(newValue: Int): Unit = {\n",
    "         gear = newValue;\n",
    "    }\n",
    "\n",
    "    def speedUp(increment: Int): Unit = {\n",
    "         speed = speed + increment;   \n",
    "    }\n",
    "\n",
    "    def applyBrakes(decrement: Int) = {\n",
    "         speed = speed - decrement;\n",
    "    }\n",
    "\n",
    "    def printStates(): Unit = {\n",
    "         println(\"cadence:\" +\n",
    "             cadence + \" speed:\" + \n",
    "             speed + \" gear:\" + gear);\n",
    "    }\n",
    "}"
   ]
  },
  {
   "cell_type": "code",
   "execution_count": null,
   "metadata": {},
   "outputs": [],
   "source": [
    "// Companion object\n",
    "\n",
    "object Bicycle{\n",
    "    var numberOfBicycles: Int = 0\n",
    "}"
   ]
  },
  {
   "cell_type": "code",
   "execution_count": null,
   "metadata": {},
   "outputs": [],
   "source": [
    "// ClassName.methodName(args)\n",
    "\n",
    "Bicycle.numberOfBicycles"
   ]
  },
  {
   "cell_type": "markdown",
   "metadata": {},
   "source": [
    "# Interfaces and inheritance\n",
    "\n",
    "https://docs.oracle.com/javase/tutorial/java/IandI/index.html"
   ]
  },
  {
   "cell_type": "code",
   "execution_count": null,
   "metadata": {},
   "outputs": [],
   "source": [
    "/*\n",
    "import java.time.*;\n",
    "\n",
    "public interface TimeClient {\n",
    "    void setTime(int hour, int minute, int second);\n",
    "    void setDate(int day, int month, int year);\n",
    "    void setDateAndTime(int day, int month, int year,\n",
    "                               int hour, int minute, int second);\n",
    "    LocalDateTime getLocalDateTime();\n",
    "    \n",
    "    static ZoneId getZoneId (String zoneString) {\n",
    "        try {\n",
    "            return ZoneId.of(zoneString);\n",
    "        } catch (DateTimeException e) {\n",
    "            System.err.println(\"Invalid time zone: \" + zoneString +\n",
    "                \"; using default time zone instead.\");\n",
    "            return ZoneId.systemDefault();\n",
    "        }\n",
    "    }\n",
    "        \n",
    "    default ZonedDateTime getZonedDateTime(String zoneString) {\n",
    "        return ZonedDateTime.of(getLocalDateTime(), getZoneId(zoneString));\n",
    "    }\n",
    "}\n",
    "*/"
   ]
  },
  {
   "cell_type": "code",
   "execution_count": null,
   "metadata": {},
   "outputs": [],
   "source": [
    "import java.time._\n",
    "\n",
    "trait TimeClient {\n",
    "    def setTime(hour: Int, minute: Int, second: Int): Unit\n",
    "    def setDate(dat: Int, month: Int, year: Int): Unit\n",
    "    def setDateAndTime(day: Int, month: Int, year: Int, \n",
    "                        hour: Int, minute: Int, second: Int): Unit\n",
    "    def getLocalDateTime(): LocalDateTime\n",
    "    \n",
    "    def getZonedDateTime(zoneString: String): ZonedDateTime = {\n",
    "        ZonedDateTime.of(getLocalDateTime(), TimeClient.getZoneId(zoneString))\n",
    "    }\n",
    "}\n",
    "\n",
    "object TimeClient {\n",
    "    def getZoneId (zoneString: String): ZoneId = {\n",
    "        try {\n",
    "            return ZoneId.of(zoneString);\n",
    "        } catch {\n",
    "           case e: DateTimeException =>\n",
    "             System.err.println(\"Invalid time zone: \" + zoneString +\n",
    "                \"; using default time zone instead.\")\n",
    "            return ZoneId.systemDefault()\n",
    "        }\n",
    "    }\n",
    "}"
   ]
  },
  {
   "cell_type": "markdown",
   "metadata": {},
   "source": [
    "### Inheritance Hierarchy\n",
    "\n",
    "In Java: \n",
    "![Java Inheritance Hierarchy](https://docs.oracle.com/javase/tutorial/figures/java/classes-object.gif)"
   ]
  },
  {
   "cell_type": "markdown",
   "metadata": {},
   "source": [
    "In Scala: \n",
    "![](https://docs.scala-lang.org/resources/images/tour/unified-types-diagram.svg)"
   ]
  },
  {
   "cell_type": "markdown",
   "metadata": {},
   "source": [
    "https://www.scala-lang.org/api/2.12.10/scala/Any.html"
   ]
  },
  {
   "cell_type": "code",
   "execution_count": null,
   "metadata": {},
   "outputs": [],
   "source": [
    "var any: Any = \"...\"\n",
    "any.toString\n",
    "any.equals(any)\n",
    "any.hashCode"
   ]
  },
  {
   "cell_type": "markdown",
   "metadata": {},
   "source": [
    "# Generics\n",
    "\n",
    "https://docs.oracle.com/javase/tutorial/java/generics/index.html"
   ]
  },
  {
   "cell_type": "markdown",
   "metadata": {},
   "source": [
    "### Generic classes"
   ]
  },
  {
   "cell_type": "code",
   "execution_count": null,
   "metadata": {},
   "outputs": [],
   "source": [
    "/*\n",
    "List<String> list = new ArrayList<String>();\n",
    "list.add(\"hello\");\n",
    "String s = list.get(0);   \n",
    "*/"
   ]
  },
  {
   "cell_type": "code",
   "execution_count": null,
   "metadata": {},
   "outputs": [],
   "source": [
    "import scala.collection.mutable.{MutableList => List}\n",
    "\n",
    "var list: List[String] = new List[String]\n",
    "list += \"hello\"\n",
    "var s: String = list(0)"
   ]
  },
  {
   "cell_type": "code",
   "execution_count": null,
   "metadata": {},
   "outputs": [],
   "source": [
    "// Type inference!\n",
    "var list: List[String] = new List\n",
    "list += \"hello\"\n",
    "var s = list(0)"
   ]
  },
  {
   "cell_type": "markdown",
   "metadata": {},
   "source": [
    "### Generic methods"
   ]
  },
  {
   "cell_type": "code",
   "execution_count": null,
   "metadata": {},
   "outputs": [],
   "source": [
    "/*\n",
    "public class Pair<K, V> {\n",
    "\n",
    "    private K key;\n",
    "    private V value;\n",
    "\n",
    "    public Pair(K key, V value) {\n",
    "        this.key = key;\n",
    "        this.value = value;\n",
    "    }\n",
    "\n",
    "    public void setKey(K key) { this.key = key; }\n",
    "    public void setValue(V value) { this.value = value; }\n",
    "    public K getKey()   { return key; }\n",
    "    public V getValue() { return value; }\n",
    "}\n",
    "\n",
    "public class Util {\n",
    "    public static <K, V> boolean compare(Pair<K, V> p1, Pair<K, V> p2) {\n",
    "        return p1.getKey().equals(p2.getKey()) &&\n",
    "               p1.getValue().equals(p2.getValue());\n",
    "    }\n",
    "}\n",
    "*/"
   ]
  },
  {
   "cell_type": "code",
   "execution_count": null,
   "metadata": {},
   "outputs": [],
   "source": [
    "class Pair[K, V](\n",
    "    var key: K, \n",
    "    var value: V)\n",
    "\n",
    "object Util {\n",
    "    def compare[K, V](p1: Pair[K, V], p2: Pair[K, V]): Boolean = {\n",
    "        p1.key.equals(p2.key) &&\n",
    "        p1.value.equals(p2.value)\n",
    "    }\n",
    "}\n"
   ]
  },
  {
   "cell_type": "code",
   "execution_count": null,
   "metadata": {},
   "outputs": [],
   "source": [
    "var p1: Pair[Int, String] = new Pair[Int, String](1, \"\")"
   ]
  },
  {
   "cell_type": "code",
   "execution_count": null,
   "metadata": {},
   "outputs": [],
   "source": [
    "// With type inference\n",
    "var p1: Pair[Int, String] = new Pair(1, \"\")"
   ]
  },
  {
   "cell_type": "code",
   "execution_count": null,
   "metadata": {},
   "outputs": [],
   "source": [
    "// Similarly, for var declaration\n",
    "var p1 = new Pair(1, \"\")\n",
    "var i: Int = p1.key"
   ]
  },
  {
   "cell_type": "markdown",
   "metadata": {},
   "source": [
    "### Bounded type parameters"
   ]
  },
  {
   "cell_type": "markdown",
   "metadata": {},
   "source": [
    "[java.lang.Comparable](https://docs.oracle.com/javase/8/docs/api/java/lang/Comparable.html)"
   ]
  },
  {
   "cell_type": "code",
   "execution_count": null,
   "metadata": {},
   "outputs": [],
   "source": [
    "/*\n",
    "public interface Comparable<T> {\n",
    "    public int compareTo(T o);\n",
    "}\n",
    "\n",
    "public static <T extends Comparable<T>> int countGreaterThan(T[] anArray, T elem) {\n",
    "    int count = 0;\n",
    "    for (T e : anArray)\n",
    "        if (e.compareTo(elem) > 0)\n",
    "            ++count;\n",
    "    return count;\n",
    "}\n",
    "*/"
   ]
  },
  {
   "cell_type": "code",
   "execution_count": null,
   "metadata": {},
   "outputs": [],
   "source": [
    "def countGreaterThan[T <: Comparable[T]](anArray: Array[T], elem: T): Int = {\n",
    "    var count: Int = 0\n",
    "    for (e <- anArray)\n",
    "        if (e.compareTo(elem) > 0)\n",
    "            count += 1\n",
    "    count\n",
    "}"
   ]
  },
  {
   "cell_type": "code",
   "execution_count": null,
   "metadata": {},
   "outputs": [],
   "source": [
    "// Integer = java.lang.Integer\n",
    "// 2: scala.Int\n",
    "\n",
    "var array1: Array[Integer] = Array(1,2,3,4,5)\n",
    "countGreaterThan[Integer](array1, 2)\n",
    "countGreaterThan(array1, 2: Integer)\n",
    "\n",
    "var array2: Array[java.lang.String] = Array(\"a\", \"b\", \"c\", \"d\")\n",
    "countGreaterThan(array2, \"b\")"
   ]
  },
  {
   "cell_type": "markdown",
   "metadata": {},
   "source": [
    "Also for classes:"
   ]
  },
  {
   "cell_type": "code",
   "execution_count": null,
   "metadata": {},
   "outputs": [],
   "source": [
    "/*\n",
    "public class NaturalNumber<T extends Integer> {\n",
    "\n",
    "    private T n;\n",
    "\n",
    "    public NaturalNumber(T n)  { this.n = n; }\n",
    "\n",
    "    public boolean isEven() {\n",
    "        return n.intValue() % 2 == 0;\n",
    "    }\n",
    "\n",
    "    // ...\n",
    "}\n",
    "*/"
   ]
  },
  {
   "cell_type": "code",
   "execution_count": 22,
   "metadata": {},
   "outputs": [
    {
     "data": {
      "text/plain": [
       "defined \u001b[32mclass\u001b[39m \u001b[36mNaturalNumber\u001b[39m"
      ]
     },
     "execution_count": 22,
     "metadata": {},
     "output_type": "execute_result"
    }
   ],
   "source": [
    "class NaturalNumber[T <: Integer](\n",
    "    var n: T) {\n",
    "\n",
    "    def isEven(): Boolean =\n",
    "        n.intValue() % 2 == 0\n",
    "\n",
    "    // ...\n",
    "}"
   ]
  },
  {
   "cell_type": "markdown",
   "metadata": {},
   "source": [
    "### Variance (Scala)\n",
    "\n",
    "https://docs.scala-lang.org/tour/variances.html"
   ]
  },
  {
   "cell_type": "code",
   "execution_count": 44,
   "metadata": {},
   "outputs": [
    {
     "data": {
      "text/plain": [
       "defined \u001b[32mclass\u001b[39m \u001b[36mAnimal\u001b[39m\n",
       "defined \u001b[32mclass\u001b[39m \u001b[36mPerro\u001b[39m\n",
       "defined \u001b[32mclass\u001b[39m \u001b[36mDoberman\u001b[39m\n",
       "defined \u001b[32mclass\u001b[39m \u001b[36mGato\u001b[39m"
      ]
     },
     "execution_count": 44,
     "metadata": {},
     "output_type": "execute_result"
    }
   ],
   "source": [
    "abstract class Animal\n",
    "class Perro extends Animal\n",
    "class Doberman extends Perro\n",
    "class Gato extends Animal"
   ]
  },
  {
   "cell_type": "code",
   "execution_count": 45,
   "metadata": {},
   "outputs": [
    {
     "data": {
      "text/plain": [
       "\u001b[36mlogan\u001b[39m: \u001b[32mPerro\u001b[39m = ammonite.$sess.cmd43$Helper$Perro@5ac0ef84\n",
       "\u001b[36mleo\u001b[39m: \u001b[32mPerro\u001b[39m = ammonite.$sess.cmd43$Helper$Perro@6a24289\n",
       "\u001b[36mmisifu\u001b[39m: \u001b[32mGato\u001b[39m = ammonite.$sess.cmd43$Helper$Gato@3ac33003"
      ]
     },
     "execution_count": 45,
     "metadata": {},
     "output_type": "execute_result"
    }
   ],
   "source": [
    "val logan: Perro = new Perro\n",
    "val leo: Perro = new Perro\n",
    "val misifu: Gato = new Gato"
   ]
  },
  {
   "cell_type": "markdown",
   "metadata": {},
   "source": [
    "Some examples with Arrays (invariant in T): \n",
    "\n",
    "/*\n",
    "class Array[T]{ ... }\n",
    "*/"
   ]
  },
  {
   "cell_type": "code",
   "execution_count": 46,
   "metadata": {},
   "outputs": [
    {
     "data": {
      "text/plain": [
       "\u001b[36marr1\u001b[39m: \u001b[32mArray\u001b[39m[\u001b[32mPerro\u001b[39m] = \u001b[33mArray\u001b[39m(\n",
       "  ammonite.$sess.cmd43$Helper$Perro@5ac0ef84,\n",
       "  ammonite.$sess.cmd43$Helper$Perro@6a24289\n",
       ")\n",
       "\u001b[36marr2\u001b[39m: \u001b[32mArray\u001b[39m[\u001b[32mAnimal\u001b[39m] = \u001b[33mArray\u001b[39m(\n",
       "  ammonite.$sess.cmd43$Helper$Perro@5ac0ef84,\n",
       "  ammonite.$sess.cmd43$Helper$Gato@3ac33003\n",
       ")"
      ]
     },
     "execution_count": 46,
     "metadata": {},
     "output_type": "execute_result"
    }
   ],
   "source": [
    "var arr1: Array[Perro] = Array(logan, leo)\n",
    "var arr2: Array[Animal] = Array(logan, misifu)"
   ]
  },
  {
   "cell_type": "code",
   "execution_count": 46,
   "metadata": {},
   "outputs": [
    {
     "name": "stderr",
     "output_type": "stream",
     "text": [
      "cmd46.sc:1: type mismatch;\n",
      " found   : List[ammonite.$sess.cmd42.wrapper.cmd26.Perro]\n",
      " required: Array[cmd46.this.cmd43.Animal]\n",
      "val arr3: Array[Animal] = lista1\n",
      "                          ^Compilation Failed"
     ]
    },
    {
     "ename": "",
     "evalue": "",
     "output_type": "error",
     "traceback": [
      "Compilation Failed"
     ]
    }
   ],
   "source": [
    "// doesn't compile, since Array[T] is invariant in T\n",
    "var arr3: Array[Animal] = lista1"
   ]
  },
  {
   "cell_type": "markdown",
   "metadata": {},
   "source": [
    "This compiles, how can it be?"
   ]
  },
  {
   "cell_type": "code",
   "execution_count": 47,
   "metadata": {},
   "outputs": [
    {
     "data": {
      "text/plain": [
       "\u001b[36mres46\u001b[39m: \u001b[32mArray\u001b[39m[\u001b[32mAnimal\u001b[39m] = \u001b[33mArray\u001b[39m(\n",
       "  ammonite.$sess.cmd43$Helper$Perro@5ac0ef84,\n",
       "  ammonite.$sess.cmd43$Helper$Perro@6a24289,\n",
       "  ammonite.$sess.cmd43$Helper$Gato@3ac33003\n",
       ")"
      ]
     },
     "execution_count": 47,
     "metadata": {},
     "output_type": "execute_result"
    }
   ],
   "source": [
    "arr1.:+(misifu)"
   ]
  },
  {
   "cell_type": "markdown",
   "metadata": {},
   "source": [
    "Check out the signature of [:+](https://www.scala-lang.org/api/2.11.12/#scala.Array)"
   ]
  },
  {
   "cell_type": "markdown",
   "metadata": {},
   "source": [
    "Some examples with [List](https://www.scala-lang.org/api/2.11.12/#scala.collection.immutable.List) (covariant in T)\n",
    "\n",
    "/* class List[+T] { ... } */"
   ]
  },
  {
   "cell_type": "code",
   "execution_count": 43,
   "metadata": {},
   "outputs": [
    {
     "data": {
      "text/plain": [
       "\u001b[36mlista1\u001b[39m: \u001b[32mList\u001b[39m[\u001b[32mPerro\u001b[39m] = \u001b[33mList\u001b[39m(\n",
       "  ammonite.$sess.cmd26$Helper$Perro@7d08e125,\n",
       "  ammonite.$sess.cmd26$Helper$Perro@4c4bf1b5\n",
       ")\n",
       "\u001b[36mlista2\u001b[39m: \u001b[32mList\u001b[39m[\u001b[32mAnimal\u001b[39m] = \u001b[33mList\u001b[39m(\n",
       "  ammonite.$sess.cmd26$Helper$Perro@7d08e125,\n",
       "  ammonite.$sess.cmd26$Helper$Gato@536d4b56\n",
       ")\n",
       "\u001b[36mlista3\u001b[39m: \u001b[32mList\u001b[39m[\u001b[32mAnimal\u001b[39m] = \u001b[33mList\u001b[39m(\n",
       "  ammonite.$sess.cmd26$Helper$Perro@7d08e125,\n",
       "  ammonite.$sess.cmd26$Helper$Perro@4c4bf1b5\n",
       ")"
      ]
     },
     "execution_count": 43,
     "metadata": {},
     "output_type": "execute_result"
    }
   ],
   "source": [
    "var lista1: List[Perro] = List(logan, leo)\n",
    "var lista2: List[Animal] = List(logan, misifu)\n",
    "\n",
    "// Compiles: class List[+T], covariant in T\n",
    "var lista3: List[Animal] = lista1"
   ]
  },
  {
   "cell_type": "code",
   "execution_count": 39,
   "metadata": {},
   "outputs": [
    {
     "data": {
      "text/plain": [
       "\u001b[36mlista2\u001b[39m: \u001b[32mList\u001b[39m[\u001b[32mPerro\u001b[39m] = \u001b[33mList\u001b[39m(\n",
       "  ammonite.$sess.cmd26$Helper$Perro@28a35ba9,\n",
       "  ammonite.$sess.cmd26$Helper$Perro@7de4945e,\n",
       "  ammonite.$sess.cmd26$Helper$Perro@7de4945e\n",
       ")\n",
       "\u001b[36mlista3\u001b[39m: \u001b[32mList\u001b[39m[\u001b[32mAnimal\u001b[39m] = \u001b[33mList\u001b[39m(\n",
       "  ammonite.$sess.cmd26$Helper$Perro@28a35ba9,\n",
       "  ammonite.$sess.cmd26$Helper$Perro@7de4945e,\n",
       "  ammonite.$sess.cmd26$Helper$Gato@58a7feb3\n",
       ")"
      ]
     },
     "execution_count": 39,
     "metadata": {},
     "output_type": "execute_result"
    }
   ],
   "source": [
    "// Similarly to arrays, adding new elements may change the type of the list\n",
    "// Signature is like: def +:[B >: T](elem: B)(...): List[B]\n",
    "var lista2: List[Perro] = lista1.:+(leo)\n",
    "var lista3: List[Animal] = lista1.:+(misifu)"
   ]
  },
  {
   "cell_type": "markdown",
   "metadata": {},
   "source": [
    "# Functional features"
   ]
  },
  {
   "cell_type": "markdown",
   "metadata": {},
   "source": [
    "### Inmutable objects\n",
    "https://docs.oracle.com/javase/tutorial/essential/concurrency/immutable.html"
   ]
  },
  {
   "cell_type": "code",
   "execution_count": null,
   "metadata": {},
   "outputs": [],
   "source": [
    "// vars vs. vals\n",
    "var i: Int = 0\n",
    "val j: Int = 0"
   ]
  },
  {
   "cell_type": "code",
   "execution_count": null,
   "metadata": {},
   "outputs": [],
   "source": [
    "// We can mutate `i`\n",
    "i = 1\n",
    "// But `j` is immutable\n",
    "j = 1"
   ]
  },
  {
   "cell_type": "code",
   "execution_count": null,
   "metadata": {},
   "outputs": [],
   "source": [
    "// Note that immutable variables may refer to mutable objects\n",
    "val a1: Array[Int] = Array(1,2,3)\n",
    "a1(1) = 4\n"
   ]
  },
  {
   "cell_type": "markdown",
   "metadata": {},
   "source": [
    "Immutable objects in Java:"
   ]
  },
  {
   "cell_type": "code",
   "execution_count": null,
   "metadata": {},
   "outputs": [],
   "source": [
    "/*\n",
    "final public class ImmutableRGB {\n",
    "\n",
    "    // Values must be between 0 and 255.\n",
    "    final private int red;\n",
    "    final private int green;\n",
    "    final private int blue;\n",
    "    final private String name;\n",
    "\n",
    "    private void check(int red,\n",
    "                       int green,\n",
    "                       int blue) {\n",
    "        if (red < 0 || red > 255\n",
    "            || green < 0 || green > 255\n",
    "            || blue < 0 || blue > 255) {\n",
    "            throw new IllegalArgumentException();\n",
    "        }\n",
    "    }\n",
    "\n",
    "    public ImmutableRGB(int red,\n",
    "                        int green,\n",
    "                        int blue,\n",
    "                        String name) {\n",
    "        check(red, green, blue);\n",
    "        this.red = red;\n",
    "        this.green = green;\n",
    "        this.blue = blue;\n",
    "        this.name = name;\n",
    "    }\n",
    "\n",
    "\n",
    "    public int getRGB() {\n",
    "        return ((red << 16) | (green << 8) | blue);\n",
    "    }\n",
    "\n",
    "    public String getName() {\n",
    "        return name;\n",
    "    }\n",
    "\n",
    "    public ImmutableRGB invert() {\n",
    "        return new ImmutableRGB(255 - red,\n",
    "                       255 - green,\n",
    "                       255 - blue,\n",
    "                       \"Inverse of \" + name);\n",
    "    }\n",
    "}\n",
    "*/"
   ]
  },
  {
   "cell_type": "markdown",
   "metadata": {},
   "source": [
    "Immutable objects in Scala:"
   ]
  },
  {
   "cell_type": "code",
   "execution_count": null,
   "metadata": {},
   "outputs": [],
   "source": [
    "class ImmutableRGB private (\n",
    "    val red: Int, \n",
    "    val green: Int, \n",
    "    val blue: Int, \n",
    "    val name: String) {\n",
    "\n",
    "    def getRGB(): Int =\n",
    "        (red << 16) | (green << 8) | blue\n",
    "\n",
    "    def invert(): ImmutableRGB =\n",
    "        new ImmutableRGB(255 - red,\n",
    "                       255 - green,\n",
    "                       255 - blue,\n",
    "                       \"Inverse of \" + name)\n",
    "}\n",
    "\n",
    "object ImmutableRGB{\n",
    "    def apply(red: Int, green: Int, blue: Int, name: String): ImmutableRGB = \n",
    "        if (check(red, green, blue)) \n",
    "            new ImmutableRGB(red, green, blue, name)\n",
    "        else throw new IllegalArgumentException()\n",
    "    \n",
    "    def check(red: Int, green: Int, blue: Int): Boolean =\n",
    "        !(red < 0 || red > 255\n",
    "            || green < 0 || green > 255\n",
    "            || blue < 0 || blue > 255)\n",
    "}"
   ]
  },
  {
   "cell_type": "code",
   "execution_count": null,
   "metadata": {},
   "outputs": [],
   "source": [
    "val color1 = ImmutableRGB(255,255,255,\"black\")\n",
    "color1.getRGB"
   ]
  },
  {
   "cell_type": "code",
   "execution_count": null,
   "metadata": {},
   "outputs": [],
   "source": [
    "color1.red = 5"
   ]
  },
  {
   "cell_type": "markdown",
   "metadata": {},
   "source": [
    "### Lambda expressions\n",
    "\n",
    "https://docs.oracle.com/javase/tutorial/java/javaOO/lambdaexpressions.html"
   ]
  },
  {
   "cell_type": "code",
   "execution_count": 1,
   "metadata": {},
   "outputs": [
    {
     "data": {
      "text/plain": [
       "\u001b[32mimport \u001b[39m\u001b[36mjava.time.LocalDate \n",
       "\n",
       "/*\n",
       "public class Person {\n",
       "\n",
       "    public enum Sex {\n",
       "        MALE, FEMALE\n",
       "    }\n",
       "\n",
       "    String name;\n",
       "    LocalDate birthday;\n",
       "    Sex gender;\n",
       "    String emailAddress;\n",
       "\n",
       "    public int getAge() {\n",
       "        // ...\n",
       "    }\n",
       "\n",
       "    public void printPerson() {\n",
       "        // ...\n",
       "    }\n",
       "}\n",
       "*/\u001b[39m"
      ]
     },
     "execution_count": 1,
     "metadata": {},
     "output_type": "execute_result"
    }
   ],
   "source": [
    "import java.time.LocalDate \n",
    "\n",
    "/*\n",
    "public class Person {\n",
    "\n",
    "    public enum Sex {\n",
    "        MALE, FEMALE\n",
    "    }\n",
    "\n",
    "    String name;\n",
    "    LocalDate birthday;\n",
    "    Sex gender;\n",
    "    String emailAddress;\n",
    "\n",
    "    public int getAge() {\n",
    "        // ...\n",
    "    }\n",
    "\n",
    "    public void printPerson() {\n",
    "        // ...\n",
    "    }\n",
    "}\n",
    "*/"
   ]
  },
  {
   "cell_type": "code",
   "execution_count": 2,
   "metadata": {},
   "outputs": [
    {
     "data": {
      "text/plain": [
       "defined \u001b[32mclass\u001b[39m \u001b[36mPerson\u001b[39m"
      ]
     },
     "execution_count": 2,
     "metadata": {},
     "output_type": "execute_result"
    }
   ],
   "source": [
    "class Person(\n",
    "    val name: String,\n",
    "    val age: Int,\n",
    "    val birthday: LocalDate = LocalDate.now,\n",
    "    val emailAddress: String = \"\"){\n",
    "    \n",
    "    def print: Unit = \n",
    "        println(\"name: \"+ name + \" age: \" + age)\n",
    "}"
   ]
  },
  {
   "cell_type": "markdown",
   "metadata": {},
   "source": [
    "**Ad-hoc version:**"
   ]
  },
  {
   "cell_type": "code",
   "execution_count": 2,
   "metadata": {},
   "outputs": [],
   "source": [
    "/*\n",
    "public static void printPersonsOlderThan(List<Person> roster, int age) {\n",
    "    for (Person p : roster) {\n",
    "        if (p.getAge() >= age) {\n",
    "            p.printPerson();\n",
    "        }\n",
    "    }\n",
    "}\n",
    "*/"
   ]
  },
  {
   "cell_type": "code",
   "execution_count": 3,
   "metadata": {},
   "outputs": [
    {
     "data": {
      "text/plain": [
       "defined \u001b[32mfunction\u001b[39m \u001b[36mprintPersonsOlderThan\u001b[39m"
      ]
     },
     "execution_count": 3,
     "metadata": {},
     "output_type": "execute_result"
    }
   ],
   "source": [
    "def printPersonsOlderThan(roster: Array[Person], age: Int) {\n",
    "    for (p <- roster) {\n",
    "        if (p.age >= age) {\n",
    "            p.print\n",
    "        }\n",
    "    }\n",
    "}"
   ]
  },
  {
   "cell_type": "code",
   "execution_count": 12,
   "metadata": {},
   "outputs": [
    {
     "data": {
      "text/plain": [
       "\u001b[36mroster1\u001b[39m: \u001b[32mArray\u001b[39m[\u001b[32mPerson\u001b[39m] = \u001b[33mArray\u001b[39m(\n",
       "  ammonite.$sess.cmd1$Helper$Person@51d12cd,\n",
       "  ammonite.$sess.cmd1$Helper$Person@51d5ed74,\n",
       "  ammonite.$sess.cmd1$Helper$Person@4f78b4c8\n",
       ")"
      ]
     },
     "execution_count": 12,
     "metadata": {},
     "output_type": "execute_result"
    }
   ],
   "source": [
    "val roster1 = Array(new Person(\"a\",15), new Person(\"b\", 22), new Person(\"c\", 45))"
   ]
  },
  {
   "cell_type": "code",
   "execution_count": 13,
   "metadata": {},
   "outputs": [
    {
     "name": "stdout",
     "output_type": "stream",
     "text": [
      "name: a age: 15\n",
      "name: b age: 22\n",
      "name: c age: 45\n"
     ]
    }
   ],
   "source": [
    "printPersonsOlderThan(roster1, 3)"
   ]
  },
  {
   "cell_type": "markdown",
   "metadata": {},
   "source": [
    "**With functional interfaces (Java) & Function1 (Scala):**"
   ]
  },
  {
   "cell_type": "code",
   "execution_count": 4,
   "metadata": {},
   "outputs": [],
   "source": [
    "/*\n",
    "\n",
    "// Standard functional interface\n",
    "\n",
    "interface Predicate<T> {\n",
    "    boolean test(T t);\n",
    "}\n",
    "\n",
    "public static void printPersonsWithPredicate(\n",
    "    List<Person> roster, Predicate<Person> tester) {\n",
    "    for (Person p : roster) {\n",
    "        if (tester.test(p)) {\n",
    "            p.printPerson();\n",
    "        }\n",
    "    }\n",
    "}\n",
    "*/"
   ]
  },
  {
   "cell_type": "code",
   "execution_count": 5,
   "metadata": {},
   "outputs": [
    {
     "data": {
      "text/plain": [
       "defined \u001b[32mobject\u001b[39m \u001b[36mCheckPersonEligibleForSelectiveService\u001b[39m\n",
       "defined \u001b[32mfunction\u001b[39m \u001b[36mprintPersons\u001b[39m"
      ]
     },
     "execution_count": 5,
     "metadata": {},
     "output_type": "execute_result"
    }
   ],
   "source": [
    "// Standard functional interface\n",
    "\n",
    "/*\n",
    "trait Function1[A, B] {\n",
    "    def apply(a: A): B\n",
    "}\n",
    "*/\n",
    "\n",
    "def printPersons(\n",
    "    roster: Array[Person], tester: Function1[Person, Boolean]) {\n",
    "    for (p <- roster) {\n",
    "        if (tester.apply(p)) {\n",
    "            p.print\n",
    "        }\n",
    "    }\n",
    "}"
   ]
  },
  {
   "cell_type": "markdown",
   "metadata": {},
   "source": [
    "Syntactic sugar for function types:\n",
    "`Function1[A, B]` === `A => B`"
   ]
  },
  {
   "cell_type": "code",
   "execution_count": 48,
   "metadata": {},
   "outputs": [
    {
     "data": {
      "text/plain": [
       "defined \u001b[32mfunction\u001b[39m \u001b[36mprintPersons\u001b[39m"
      ]
     },
     "execution_count": 48,
     "metadata": {},
     "output_type": "execute_result"
    }
   ],
   "source": [
    "def printPersons(\n",
    "    roster: Array[Person], tester: Person => Boolean) {\n",
    "    for (p <- roster) {\n",
    "        if (tester.apply(p)) {\n",
    "            p.print\n",
    "        }\n",
    "    }\n",
    "}"
   ]
  },
  {
   "cell_type": "markdown",
   "metadata": {},
   "source": [
    "Invoke method with named functions:"
   ]
  },
  {
   "cell_type": "code",
   "execution_count": 14,
   "metadata": {},
   "outputs": [],
   "source": [
    "/*\n",
    "\n",
    "class CheckPersonEligibleForSelectiveService implements Predicate<Person> {\n",
    "    public boolean test(Person p) {\n",
    "        return p.gender == Person.Sex.MALE &&\n",
    "            p.getAge() >= 18 &&\n",
    "            p.getAge() <= 25;\n",
    "    }\n",
    "}\n",
    "\n",
    "printPersons(\n",
    "    roster, new CheckPersonEligibleForSelectiveService());\n",
    "*/"
   ]
  },
  {
   "cell_type": "code",
   "execution_count": 15,
   "metadata": {},
   "outputs": [
    {
     "name": "stdout",
     "output_type": "stream",
     "text": [
      "name: b age: 22\n"
     ]
    },
    {
     "data": {
      "text/plain": [
       "defined \u001b[32mobject\u001b[39m \u001b[36mCheckPersonEligibleForSelectiveService\u001b[39m"
      ]
     },
     "execution_count": 15,
     "metadata": {},
     "output_type": "execute_result"
    }
   ],
   "source": [
    "object CheckPersonEligibleForSelectiveService extends Function1[Person, Boolean]{\n",
    "    def apply(p: Person): Boolean = \n",
    "            p.age >= 18 &&\n",
    "            p.age <= 25\n",
    "}\n",
    "\n",
    "printPersons(roster1, CheckPersonEligibleForSelectiveService)"
   ]
  },
  {
   "cell_type": "markdown",
   "metadata": {},
   "source": [
    "invoke methods with anonymous class instances:"
   ]
  },
  {
   "cell_type": "code",
   "execution_count": 16,
   "metadata": {},
   "outputs": [
    {
     "name": "stdout",
     "output_type": "stream",
     "text": [
      "name: b age: 22\n"
     ]
    }
   ],
   "source": [
    "printPersons(roster1, new Function1[Person, Boolean]{\n",
    "    def apply(p: Person): Boolean = \n",
    "            p.age >= 18 &&\n",
    "            p.age <= 25\n",
    "})"
   ]
  },
  {
   "cell_type": "markdown",
   "metadata": {},
   "source": [
    "invoke method with lambda expressions:"
   ]
  },
  {
   "cell_type": "code",
   "execution_count": 16,
   "metadata": {},
   "outputs": [],
   "source": [
    "/*\n",
    "printPersonsWithPredicate(\n",
    "    roster,\n",
    "    p -> p.getGender() == Person.Sex.MALE\n",
    "        && p.getAge() >= 18\n",
    "        && p.getAge() <= 25\n",
    ");\n",
    "*/"
   ]
  },
  {
   "cell_type": "code",
   "execution_count": 17,
   "metadata": {},
   "outputs": [
    {
     "name": "stdout",
     "output_type": "stream",
     "text": [
      "name: b age: 22\n"
     ]
    }
   ],
   "source": [
    "printPersons(\n",
    "    roster1,\n",
    "    p => p.age >= 18 && p.age <= 25\n",
    ")"
   ]
  },
  {
   "cell_type": "markdown",
   "metadata": {},
   "source": [
    "invoke method with method references (Java) & eta-expansion (Scala):"
   ]
  },
  {
   "cell_type": "code",
   "execution_count": 7,
   "metadata": {},
   "outputs": [],
   "source": [
    "/*\n",
    "public class Person {\n",
    "    ...\n",
    "    public static int checkAge(Person a) {\n",
    "        return a.getAge() >= 18 && p.getAge() <= 25;\n",
    "    }\n",
    "}\n",
    "\n",
    "printPersonsWithPredicate(roster, Person::checkAge);\n",
    "*/"
   ]
  },
  {
   "cell_type": "code",
   "execution_count": 9,
   "metadata": {},
   "outputs": [
    {
     "name": "stdout",
     "output_type": "stream",
     "text": [
      "name: b age: 22\n",
      "name: b age: 22\n"
     ]
    },
    {
     "data": {
      "text/plain": [
       "defined \u001b[32mfunction\u001b[39m \u001b[36mcheckAge\u001b[39m"
      ]
     },
     "execution_count": 9,
     "metadata": {},
     "output_type": "execute_result"
    }
   ],
   "source": [
    "def checkAge(a: Person): Boolean = \n",
    "    a.age >= 18 && a.age <= 25\n",
    "\n",
    "printPersons(roster1, (a: Person) => checkAge(a))\n",
    "printPersons(roster1, checkAge)"
   ]
  },
  {
   "cell_type": "markdown",
   "metadata": {},
   "source": [
    "// Eta-expansion"
   ]
  },
  {
   "cell_type": "code",
   "execution_count": 18,
   "metadata": {},
   "outputs": [
    {
     "data": {
      "text/plain": [
       "\u001b[36mf\u001b[39m: \u001b[32mPerson\u001b[39m => \u001b[32mBoolean\u001b[39m = <function1>"
      ]
     },
     "execution_count": 18,
     "metadata": {},
     "output_type": "execute_result"
    }
   ],
   "source": [
    "val f: Function1[Person, Boolean] = checkAge"
   ]
  },
  {
   "cell_type": "code",
   "execution_count": 21,
   "metadata": {},
   "outputs": [
    {
     "data": {
      "text/plain": [
       "\u001b[36mf\u001b[39m: \u001b[32mPerson\u001b[39m => \u001b[32mBoolean\u001b[39m = <function1>"
      ]
     },
     "execution_count": 21,
     "metadata": {},
     "output_type": "execute_result"
    }
   ],
   "source": [
    "// Explicitly force conversion\n",
    "val f = checkAge _"
   ]
  },
  {
   "cell_type": "markdown",
   "metadata": {},
   "source": [
    "### Contravariance and variance in Function traits"
   ]
  },
  {
   "cell_type": "markdown",
   "metadata": {},
   "source": [
    "Trait `Function1` is defined as follows:\n",
    "\n",
    "trait Function1[-A, +B]{\n",
    "   def apply(a: A): B\n",
    "}"
   ]
  },
  {
   "cell_type": "code",
   "execution_count": 53,
   "metadata": {},
   "outputs": [
    {
     "data": {
      "text/plain": [
       "defined \u001b[32mfunction\u001b[39m \u001b[36mfAA\u001b[39m\n",
       "defined \u001b[32mfunction\u001b[39m \u001b[36mfAD\u001b[39m"
      ]
     },
     "execution_count": 53,
     "metadata": {},
     "output_type": "execute_result"
    }
   ],
   "source": [
    "def fAA: Animal => Animal = ???\n",
    "def fAD: Animal => Doberman = ???"
   ]
  },
  {
   "cell_type": "markdown",
   "metadata": {},
   "source": [
    "Which functions can be passed to this method?"
   ]
  },
  {
   "cell_type": "code",
   "execution_count": 54,
   "metadata": {},
   "outputs": [
    {
     "data": {
      "text/plain": [
       "defined \u001b[32mfunction\u001b[39m \u001b[36mf2\u001b[39m"
      ]
     },
     "execution_count": 54,
     "metadata": {},
     "output_type": "execute_result"
    }
   ],
   "source": [
    "def f2(f: Gato => Perro) = ???"
   ]
  },
  {
   "cell_type": "code",
   "execution_count": 54,
   "metadata": {},
   "outputs": [
    {
     "name": "stderr",
     "output_type": "stream",
     "text": [
      "cmd54.sc:1: type mismatch;\n",
      " found   : ammonite.$sess.cmd52.wrapper.cmd43.Animal => ammonite.$sess.cmd52.wrapper.cmd43.Animal\n",
      " required: ammonite.$sess.cmd53.wrapper.cmd43.Gato => ammonite.$sess.cmd53.wrapper.cmd43.Perro\n",
      "val res54 = f2(fAA)\n",
      "               ^Compilation Failed"
     ]
    },
    {
     "ename": "",
     "evalue": "",
     "output_type": "error",
     "traceback": [
      "Compilation Failed"
     ]
    }
   ],
   "source": [
    "// This doesn't compile:\n",
    "f2(fAA)"
   ]
  },
  {
   "cell_type": "code",
   "execution_count": 56,
   "metadata": {},
   "outputs": [
    {
     "data": {
      "text/plain": [
       "defined \u001b[32mfunction\u001b[39m \u001b[36mr\u001b[39m"
      ]
     },
     "execution_count": 56,
     "metadata": {},
     "output_type": "execute_result"
    }
   ],
   "source": [
    "// This compiles:\n",
    "def r = f2(fAD)"
   ]
  },
  {
   "cell_type": "markdown",
   "metadata": {},
   "source": [
    "# Collections\n",
    "\n",
    "https://docs.oracle.com/javase/tutorial/collections/index.html"
   ]
  },
  {
   "cell_type": "markdown",
   "metadata": {},
   "source": [
    "In Java: \n",
    "\n",
    "![](https://docs.oracle.com/javase/tutorial/figures/collections/colls-coreInterfaces.gif) "
   ]
  },
  {
   "cell_type": "markdown",
   "metadata": {},
   "source": [
    "In Scala:"
   ]
  },
  {
   "cell_type": "markdown",
   "metadata": {},
   "source": [
    "![](https://docs.scala-lang.org/resources/images/tour/collections-diagram.svg)"
   ]
  },
  {
   "cell_type": "markdown",
   "metadata": {},
   "source": [
    "![](https://docs.scala-lang.org/resources/images/tour/collections-immutable-diagram.svg)"
   ]
  },
  {
   "cell_type": "markdown",
   "metadata": {},
   "source": [
    "![](https://docs.scala-lang.org/resources/images/tour/collections-mutable-diagram.svg)"
   ]
  },
  {
   "cell_type": "markdown",
   "metadata": {},
   "source": [
    "![](![image.png](attachment:image.png))"
   ]
  },
  {
   "cell_type": "code",
   "execution_count": null,
   "metadata": {},
   "outputs": [],
   "source": []
  }
 ],
 "metadata": {
  "kernelspec": {
   "display_name": "Scala-2.12",
   "language": "scala",
   "name": "scala-2.12"
  },
  "language_info": {
   "codemirror_mode": "text/x-scala",
   "file_extension": ".scala",
   "mimetype": "text/x-scala",
   "name": "scala",
   "nbconvert_exporter": "script",
   "version": "2.11.12"
  }
 },
 "nbformat": 4,
 "nbformat_minor": 2
}
