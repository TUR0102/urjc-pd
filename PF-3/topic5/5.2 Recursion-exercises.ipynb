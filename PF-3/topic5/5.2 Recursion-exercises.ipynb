{
 "cells": [
  {
   "cell_type": "markdown",
   "metadata": {
    "tags": []
   },
   "source": [
    "### Preamble"
   ]
  },
  {
   "cell_type": "code",
   "execution_count": 1,
   "metadata": {},
   "outputs": [
    {
     "data": {
      "text/plain": [
       "\u001b[32mimport \u001b[39m\u001b[36m$ivy.$                                \n",
       "\u001b[39m\n",
       "\u001b[32mimport \u001b[39m\u001b[36morg.scalatest.{Filter => _, _}, flatspec._, matchers._\n",
       "\u001b[39m"
      ]
     },
     "execution_count": 1,
     "metadata": {},
     "output_type": "execute_result"
    }
   ],
   "source": [
    "import $ivy.`org.scalatest::scalatest:3.2.16`\n",
    "import org.scalatest.{Filter => _, _}, flatspec._, matchers._"
   ]
  },
  {
   "cell_type": "markdown",
   "metadata": {},
   "source": [
    "# Topic 5: Recursive functions"
   ]
  },
  {
   "cell_type": "markdown",
   "metadata": {},
   "source": [
    "# Problem 1"
   ]
  },
  {
   "cell_type": "markdown",
   "metadata": {},
   "source": [
    "Implement a function that drops the first _n_ elements of a list. If the number of elements to be dropped is 0, it must return the same list. The implementation must be tail-recursive."
   ]
  },
  {
   "cell_type": "code",
   "execution_count": 4,
   "metadata": {},
   "outputs": [
    {
     "data": {
      "text/plain": [
       "defined \u001b[32mclass\u001b[39m \u001b[36mTestDrop\u001b[39m"
      ]
     },
     "execution_count": 4,
     "metadata": {},
     "output_type": "execute_result"
    }
   ],
   "source": [
    "class TestDrop(\n",
    "    drop: (List[Boolean], Int) => List[Boolean]\n",
    ") extends AnyFlatSpec with should.Matchers:\n",
    " \n",
    "    \"drop less elements than the list length\" should \"return the remaining elements\" in:\n",
    "        \n",
    "        drop(List(true, false), 0) shouldBe \n",
    "            List(true, false)\n",
    "        \n",
    "        drop(List(true, false, false, true), 2) shouldBe \n",
    "            List(false, true)\n",
    "        \n",
    "        drop(List(true, false, true, true, false, true), 3) shouldBe \n",
    "            List(true, false, true)\n",
    "    \n",
    "    \"drop a number of elements greater than or equal to its length\" should \"return the empty list\" in:\n",
    "        drop(List(), 0) shouldBe \n",
    "            List()\n",
    "    \n",
    "        drop(List(true, false, true, true, false, true), 6) shouldBe \n",
    "            List()\n",
    "\n",
    "        drop(List(), 2) shouldBe \n",
    "            List()\n",
    "        \n",
    "        drop(List(true, false, true, true, false, true), 8) shouldBe \n",
    "            List()"
   ]
  },
  {
   "cell_type": "markdown",
   "metadata": {
    "jp-MarkdownHeadingCollapsed": true,
    "tags": []
   },
   "source": [
    "###### Solution"
   ]
  },
  {
   "cell_type": "code",
   "execution_count": null,
   "metadata": {},
   "outputs": [],
   "source": [
    "@annotation.tailrec\n",
    "def drop[A](list: List[A], n: Int): List[A] = \n",
    "    list match\n",
    "        case _ :: tail if n > 0 => \n",
    "            drop(tail, n-1)\n",
    "        case list => \n",
    "            list"
   ]
  },
  {
   "cell_type": "markdown",
   "metadata": {
    "tags": []
   },
   "source": [
    "###### Your solution"
   ]
  },
  {
   "cell_type": "markdown",
   "metadata": {},
   "source": [
    "drop(List(2,5,4,2), 2)\n",
    "\n",
    "aux                out             i\n",
    "---                ---             -\n",
    "2::List(5,4,2)     List(2,5,4,2)   2\n",
    "5::List(4,2)       List(5,4,2)     1\n",
    "4::List(2)         List(4,2)       0\n",
    "2::Nil             List(4,2)       0\n",
    "Nil                List(4,2)       0\n"
   ]
  },
  {
   "cell_type": "code",
   "execution_count": 1,
   "metadata": {},
   "outputs": [
    {
     "data": {
      "text/plain": [
       "defined \u001b[32mfunction\u001b[39m \u001b[36mdrop\u001b[39m"
      ]
     },
     "execution_count": 1,
     "metadata": {},
     "output_type": "execute_result"
    }
   ],
   "source": [
    "def drop[A](l: List[A], n: Int): List[A] = \n",
    "    def step(out: List[A], aux: List[A]): List[A] = \n",
    "        aux match\n",
    "            case Nil => out\n",
    "            case head :: tail => \n",
    "                step(???(out, head), tail)\n",
    "                \n",
    "    step(???, l)"
   ]
  },
  {
   "cell_type": "code",
   "execution_count": 1,
   "metadata": {},
   "outputs": [
    {
     "data": {
      "text/plain": [
       "defined \u001b[32mfunction\u001b[39m \u001b[36mdrop\u001b[39m"
      ]
     },
     "execution_count": 1,
     "metadata": {},
     "output_type": "execute_result"
    }
   ],
   "source": [
    "def drop[A](l: List[A], n: Int): List[A] = \n",
    "    def step(i: Int, out: List[A], aux: List[A]): List[A] = \n",
    "        aux match\n",
    "            case Nil => out\n",
    "            case head :: tail => \n",
    "                if i > 0 then step(out.tail, tail)\n",
    "                else step(out, tail)\n",
    "\n",
    "    step(n, l, l)"
   ]
  },
  {
   "cell_type": "code",
   "execution_count": 5,
   "metadata": {},
   "outputs": [
    {
     "data": {
      "text/plain": [
       "defined \u001b[32mfunction\u001b[39m \u001b[36mdrop\u001b[39m"
      ]
     },
     "execution_count": 5,
     "metadata": {},
     "output_type": "execute_result"
    }
   ],
   "source": [
    "def drop[A](l: List[A], n: Int): List[A] = \n",
    "    def step(i: Int, out: List[A], aux: List[A]): List[A] = \n",
    "        aux match\n",
    "            case Nil => out\n",
    "            case head :: tail => \n",
    "                step(i-1, if i>0 then out.tail else out, tail)\n",
    "\n",
    "    step(n, l, l)"
   ]
  },
  {
   "cell_type": "code",
   "execution_count": 7,
   "metadata": {},
   "outputs": [
    {
     "data": {
      "text/plain": [
       "defined \u001b[32mfunction\u001b[39m \u001b[36mdrop\u001b[39m"
      ]
     },
     "execution_count": 7,
     "metadata": {},
     "output_type": "execute_result"
    }
   ],
   "source": [
    "def drop[A](l: List[A], n: Int): List[A] = \n",
    "    def step(i: Int, out: List[A], aux: List[A]): List[A] = \n",
    "        aux match\n",
    "            case Nil => out\n",
    "            case head :: tail => \n",
    "                if i>0 then step(i-1, out.tail, tail)\n",
    "                else out\n",
    "\n",
    "    step(n, l, l)"
   ]
  },
  {
   "cell_type": "code",
   "execution_count": 7,
   "metadata": {},
   "outputs": [
    {
     "data": {
      "text/plain": [
       "defined \u001b[32mfunction\u001b[39m \u001b[36mdrop\u001b[39m"
      ]
     },
     "execution_count": 7,
     "metadata": {},
     "output_type": "execute_result"
    }
   ],
   "source": [
    "def drop[A](l: List[A], n: Int): List[A] = \n",
    "    def step(i: Int, out: List[A], aux: List[A]): List[A] = \n",
    "        (aux, i) match\n",
    "            case (Nil, _) => out\n",
    "            case (head :: tail, i) if i > 0 => step(i-1, out.tail, tail)\n",
    "            case (_, 0) => out\n",
    "\n",
    "    step(n, l, l)"
   ]
  },
  {
   "cell_type": "code",
   "execution_count": 11,
   "metadata": {},
   "outputs": [
    {
     "data": {
      "text/plain": [
       "defined \u001b[32mfunction\u001b[39m \u001b[36mdrop\u001b[39m"
      ]
     },
     "execution_count": 11,
     "metadata": {},
     "output_type": "execute_result"
    }
   ],
   "source": [
    "def drop[A](l: List[A], n: Int): List[A] = \n",
    "    def step(i: Int, out: List[A], aux: List[A]): List[A] = \n",
    "        aux match\n",
    "            case head :: tail if i > 0 => step(i-1, tail, tail)\n",
    "            case _ => out\n",
    "\n",
    "    step(n, l, l)"
   ]
  },
  {
   "cell_type": "code",
   "execution_count": 13,
   "metadata": {},
   "outputs": [
    {
     "data": {
      "text/plain": [
       "defined \u001b[32mfunction\u001b[39m \u001b[36mdrop\u001b[39m"
      ]
     },
     "execution_count": 13,
     "metadata": {},
     "output_type": "execute_result"
    }
   ],
   "source": [
    "def drop[A](l: List[A], n: Int): List[A] = \n",
    "    def step(i: Int, aux: List[A]): List[A] = \n",
    "        aux match\n",
    "            case head :: tail if i > 0 => step(i-1, tail)\n",
    "            case _ => aux\n",
    "\n",
    "    step(n, l)"
   ]
  },
  {
   "cell_type": "code",
   "execution_count": 16,
   "metadata": {},
   "outputs": [
    {
     "data": {
      "text/plain": [
       "defined \u001b[32mfunction\u001b[39m \u001b[36mdrop\u001b[39m"
      ]
     },
     "execution_count": 16,
     "metadata": {},
     "output_type": "execute_result"
    }
   ],
   "source": [
    "def drop[A](aux: List[A], n: Int): List[A] = \n",
    "    aux match\n",
    "        case head :: tail if n > 0 => drop(tail, n-1)\n",
    "        case _ => aux"
   ]
  },
  {
   "cell_type": "code",
   "execution_count": 18,
   "metadata": {},
   "outputs": [
    {
     "data": {
      "text/plain": [
       "defined \u001b[32mfunction\u001b[39m \u001b[36mdrop\u001b[39m"
      ]
     },
     "execution_count": 18,
     "metadata": {},
     "output_type": "execute_result"
    }
   ],
   "source": [
    "def drop[A](l: List[A], n: Int): List[A] = \n",
    "    l match \n",
    "        case Nil => ??? : List[A]\n",
    "        case head :: tail => \n",
    "            val tailSol: List[A] = drop(tail, n-1)\n",
    "            tailSol"
   ]
  },
  {
   "cell_type": "code",
   "execution_count": 24,
   "metadata": {},
   "outputs": [
    {
     "data": {
      "text/plain": [
       "defined \u001b[32mfunction\u001b[39m \u001b[36mdrop\u001b[39m"
      ]
     },
     "execution_count": 24,
     "metadata": {},
     "output_type": "execute_result"
    }
   ],
   "source": [
    "def drop[A](l: List[A], n: Int): List[A] = \n",
    "    l match \n",
    "        case Nil => Nil : List[A]\n",
    "        case head :: tail if n > 0 => \n",
    "            val tailSol: List[A] = drop(tail, n-1)\n",
    "            tailSol\n",
    "        case head :: tail /*if n <= 0*/ => \n",
    "            l"
   ]
  },
  {
   "cell_type": "code",
   "execution_count": 25,
   "metadata": {},
   "outputs": [
    {
     "data": {
      "text/plain": [
       "defined \u001b[32mfunction\u001b[39m \u001b[36mdrop\u001b[39m"
      ]
     },
     "execution_count": 25,
     "metadata": {},
     "output_type": "execute_result"
    }
   ],
   "source": [
    "def drop[A](l: List[A], n: Int): List[A] = \n",
    "    l match \n",
    "        case head :: tail if n > 0 => \n",
    "            drop(tail, n-1)\n",
    "        case _ => \n",
    "            l"
   ]
  },
  {
   "cell_type": "code",
   "execution_count": 26,
   "metadata": {},
   "outputs": [
    {
     "name": "stdout",
     "output_type": "stream",
     "text": [
      "\u001b[32mcell4$Helper$TestDrop:\u001b[0m\n",
      "\u001b[32mdrop less elements than the list length\u001b[0m\n",
      "\u001b[32m- should return the remaining elements\u001b[0m\n",
      "\u001b[32mdrop a number of elements greater than or equal to its length\u001b[0m\n",
      "\u001b[32m- should return the empty list\u001b[0m\n"
     ]
    }
   ],
   "source": [
    "run(TestDrop(drop))"
   ]
  },
  {
   "cell_type": "markdown",
   "metadata": {},
   "source": [
    "# Problem 2"
   ]
  },
  {
   "cell_type": "markdown",
   "metadata": {},
   "source": [
    "Create a function that counts the number of occurrences of a given element in a list."
   ]
  },
  {
   "cell_type": "code",
   "execution_count": null,
   "metadata": {},
   "outputs": [],
   "source": [
    "class TestOcurrences(\n",
    "    occurrences: (List[String], String) => Int) \n",
    " extends AnyFlatSpec with should.Matchers:\n",
    "    \n",
    "    \"occurrences\" should \"work\" in:\n",
    "        occurrences(List(\"1\",\"1\",\"1\"), \"1\") shouldBe 3\n",
    "        occurrences(List(\"1\",\"2\",\"3\"), \"2\") shouldBe 1\n",
    "        occurrences(List(), \"3\") shouldBe 0\n",
    "        occurrences(List(\"1\",\"2\",\"3\"), \"5\") shouldBe 0"
   ]
  },
  {
   "cell_type": "markdown",
   "metadata": {},
   "source": [
    "#### Part a) Implement the function recursively, without tail-recursion"
   ]
  },
  {
   "cell_type": "markdown",
   "metadata": {
    "jp-MarkdownHeadingCollapsed": true,
    "tags": []
   },
   "source": [
    "###### Solution"
   ]
  },
  {
   "cell_type": "code",
   "execution_count": null,
   "metadata": {},
   "outputs": [],
   "source": [
    "def occurrencesR[A](list: List[A], a: A): Int = \n",
    "    list match\n",
    "        case Nil => 0\n",
    "        case head :: tail => \n",
    "            (if (head == a) 1 else 0) + occurrencesR(tail, a)"
   ]
  },
  {
   "cell_type": "markdown",
   "metadata": {},
   "source": [
    "Here it's a different implementation that performs the equality test through pattern matching:"
   ]
  },
  {
   "cell_type": "code",
   "execution_count": null,
   "metadata": {},
   "outputs": [],
   "source": [
    "def occurrencesR[A](list: List[A], a: A): Int = \n",
    "    list match\n",
    "        case Nil => 0\n",
    "        case `a` :: tail => \n",
    "            1 + occurrencesR(tail, a)\n",
    "        case _ :: tail => \n",
    "            occurrencesR(tail, a)"
   ]
  },
  {
   "cell_type": "markdown",
   "metadata": {
    "tags": []
   },
   "source": [
    "###### Your solution"
   ]
  },
  {
   "cell_type": "code",
   "execution_count": null,
   "metadata": {},
   "outputs": [],
   "source": []
  },
  {
   "cell_type": "code",
   "execution_count": null,
   "metadata": {},
   "outputs": [],
   "source": [
    "run(TestOcurrences(occurrencesR[String]))"
   ]
  },
  {
   "cell_type": "markdown",
   "metadata": {},
   "source": [
    "#### Part b) Implement the function with tail-recursion"
   ]
  },
  {
   "cell_type": "markdown",
   "metadata": {
    "jp-MarkdownHeadingCollapsed": true,
    "tags": []
   },
   "source": [
    "###### Solution"
   ]
  },
  {
   "cell_type": "code",
   "execution_count": null,
   "metadata": {},
   "outputs": [],
   "source": [
    "def occurrencesTR[A](list: List[A], a: A): Int =\n",
    "    \n",
    "    @annotation.tailrec\n",
    "    def occurrencesAux(acc: Int, list: List[A]): Int = \n",
    "        list match\n",
    "            case Nil => acc\n",
    "            case head :: tail => \n",
    "                occurrencesAux(acc + (if (head == a) 1 else 0), tail)\n",
    "    \n",
    "    occurrencesAux(0, list)"
   ]
  },
  {
   "cell_type": "markdown",
   "metadata": {
    "tags": []
   },
   "source": [
    "###### Your solution"
   ]
  },
  {
   "cell_type": "code",
   "execution_count": null,
   "metadata": {},
   "outputs": [],
   "source": []
  },
  {
   "cell_type": "code",
   "execution_count": null,
   "metadata": {},
   "outputs": [],
   "source": [
    "run(TestOcurrences(occurrencesTR[String]))"
   ]
  },
  {
   "cell_type": "markdown",
   "metadata": {},
   "source": [
    "# Problem 3"
   ]
  },
  {
   "cell_type": "markdown",
   "metadata": {},
   "source": [
    "Generate a function that takes the first *n* elements of a list. If the length of the list is less than _n_ it must return the input list (i.e. as many elements as there are)."
   ]
  },
  {
   "cell_type": "code",
   "execution_count": null,
   "metadata": {},
   "outputs": [],
   "source": [
    "class TestTake(\n",
    "    take: (List[Char], Int) => List[Char]\n",
    ") extends AnyFlatSpec with should.Matchers:\n",
    "    \n",
    "    \"take\" should \"work\" in:\n",
    "        take(List(), 0) shouldBe List()\n",
    "        take(List(), 5) shouldBe List()\n",
    "        take(List('1','2','3'), 0) shouldBe List()\n",
    "        take(List('1','2','3'), 2) shouldBe List('1','2')\n",
    "        take(List('1','2','3'), 3) shouldBe List('1','2','3')\n",
    "        take(List('1','2','3'), 10) shouldBe List('1','2','3')"
   ]
  },
  {
   "cell_type": "markdown",
   "metadata": {},
   "source": [
    "The function does not need to be tail-recursive."
   ]
  },
  {
   "cell_type": "markdown",
   "metadata": {
    "jp-MarkdownHeadingCollapsed": true,
    "tags": []
   },
   "source": [
    "###### Solution"
   ]
  },
  {
   "cell_type": "code",
   "execution_count": null,
   "metadata": {},
   "outputs": [],
   "source": [
    "def take[A](list: List[A], n: Int): List[A] = \n",
    "    list match\n",
    "        case head :: tail if n > 0 => \n",
    "            head :: take(tail, n-1)\n",
    "        case _ => \n",
    "            List()"
   ]
  },
  {
   "cell_type": "markdown",
   "metadata": {
    "tags": []
   },
   "source": [
    "###### Your solution"
   ]
  },
  {
   "cell_type": "code",
   "execution_count": null,
   "metadata": {},
   "outputs": [],
   "source": []
  },
  {
   "cell_type": "code",
   "execution_count": null,
   "metadata": {},
   "outputs": [],
   "source": [
    "run(TestTake(take))"
   ]
  },
  {
   "cell_type": "markdown",
   "metadata": {},
   "source": [
    "# Problem 4"
   ]
  },
  {
   "cell_type": "markdown",
   "metadata": {},
   "source": [
    "Write a function that partitions a list of integers into a list of even numbers and a list of odd numbers. "
   ]
  },
  {
   "cell_type": "code",
   "execution_count": null,
   "metadata": {},
   "outputs": [],
   "source": [
    "class TestEvenOddPartition(\n",
    "    candidate: List[Int] => (List[Int], List[Int])\n",
    ") extends AnyFlatSpec with should.Matchers:\n",
    "    \n",
    "    \"partitionEvenOdd\" should \"work\" in:\n",
    "        candidate(List()) shouldBe (List(), List())\n",
    "        candidate(List(1,3,5)) shouldBe (List(1,3,5), List())\n",
    "        candidate(List(0,2,4,6)) shouldBe (List(), List(0,2,4,6))\n",
    "        candidate(List(1,2,3,4,5)) shouldBe (List(1,3,5), List(2,4))"
   ]
  },
  {
   "cell_type": "markdown",
   "metadata": {},
   "source": [
    "Recall that given a [2-tuple](https://www.scala-lang.org/api/current/scala/Tuple2.html) in Scala, we can observe its components as follows:"
   ]
  },
  {
   "cell_type": "code",
   "execution_count": null,
   "metadata": {},
   "outputs": [],
   "source": [
    "val t2: (Int, String) = (3, \"tres\")\n",
    "val n: Int = t2._1\n",
    "val s: String = t2._2\n",
    "val (n1: Int, s1: String) = t2"
   ]
  },
  {
   "cell_type": "markdown",
   "metadata": {},
   "source": [
    "The function does not need to be tail-recursive."
   ]
  },
  {
   "cell_type": "markdown",
   "metadata": {
    "jp-MarkdownHeadingCollapsed": true,
    "tags": []
   },
   "source": [
    "###### Solution"
   ]
  },
  {
   "cell_type": "code",
   "execution_count": null,
   "metadata": {},
   "outputs": [],
   "source": [
    "def partitionEvenOdd(list: List[Int]): (List[Int], List[Int]) = \n",
    "    list match\n",
    "        case Nil => \n",
    "            (List(), List())\n",
    "        case head :: tail => \n",
    "            val (odds, evens) = partitionEvenOdd(tail)\n",
    "            if (head % 2 == 0) (odds, head :: evens)\n",
    "            else (head :: odds, evens)"
   ]
  },
  {
   "cell_type": "markdown",
   "metadata": {
    "tags": []
   },
   "source": [
    "###### Your solution"
   ]
  },
  {
   "cell_type": "code",
   "execution_count": null,
   "metadata": {},
   "outputs": [],
   "source": []
  },
  {
   "cell_type": "code",
   "execution_count": null,
   "metadata": {},
   "outputs": [],
   "source": [
    "run(TestEvenOddPartition(partitionEvenOdd))"
   ]
  },
  {
   "cell_type": "markdown",
   "metadata": {},
   "source": [
    "# Problem 5"
   ]
  },
  {
   "cell_type": "code",
   "execution_count": null,
   "metadata": {},
   "outputs": [],
   "source": [
    "class TestSplit(split: List[Either[String, Boolean]] => (List[String], List[Boolean]))\n",
    " extends AnyFlatSpec with should.Matchers:\n",
    "    \"split\" should \"work\" in:\n",
    "        split(List(Left(\"a\"), Left(\"b\"), Left(\"a\"))) shouldBe \n",
    "            (List(\"a\", \"b\", \"a\"), List())\n",
    "        split(List(Right(false), Right(false), Right(true))) shouldBe \n",
    "            (List(), List(false, false, true))\n",
    "        split(List()) shouldBe\n",
    "            (List(), List())\n",
    "        split(List(Right(false), Left(\"a\"), Right(true), Left(\"b\"), Left(\"a\"), Right(true))) shouldBe \n",
    "            (List(\"a\", \"b\", \"a\"), List(false, true, true))"
   ]
  },
  {
   "cell_type": "markdown",
   "metadata": {
    "jp-MarkdownHeadingCollapsed": true,
    "tags": []
   },
   "source": [
    "###### Solution"
   ]
  },
  {
   "cell_type": "code",
   "execution_count": null,
   "metadata": {},
   "outputs": [],
   "source": [
    "def split[A, B](l: List[Either[A, B]]): (List[A], List[B]) = \n",
    "    l match\n",
    "        case Nil => \n",
    "            (List(), List())\n",
    "        case head :: tail =>\n",
    "            val (leftTail, rightTail) = split(tail)\n",
    "            head match\n",
    "                case Left(a) => (a :: leftTail, rightTail)\n",
    "                case Right(b) => (leftTail, b :: rightTail)"
   ]
  },
  {
   "cell_type": "markdown",
   "metadata": {
    "tags": []
   },
   "source": [
    "###### Your solution"
   ]
  },
  {
   "cell_type": "code",
   "execution_count": null,
   "metadata": {},
   "outputs": [],
   "source": []
  },
  {
   "cell_type": "code",
   "execution_count": null,
   "metadata": {},
   "outputs": [],
   "source": [
    "run(TestSplit(split))"
   ]
  },
  {
   "cell_type": "markdown",
   "metadata": {},
   "source": [
    "# Problem 6"
   ]
  },
  {
   "cell_type": "markdown",
   "metadata": {},
   "source": [
    "Write a funtion that receives a list of pairs of integers and returns a new list made from the sum of all pairs."
   ]
  },
  {
   "cell_type": "code",
   "execution_count": null,
   "metadata": {},
   "outputs": [],
   "source": [
    "class TestSum(\n",
    "    sum: List[(Int, Int)] => List[Int]\n",
    ") extends AnyFlatSpec with should.Matchers:\n",
    "    \n",
    "    \"sum\" should \"work\" in:\n",
    "        sum(List()) shouldBe List()\n",
    "        sum(List((0,0))) shouldBe List(0)\n",
    "        sum(List((1,2), (3,4), (5,6))) shouldBe List(3, 7, 11)"
   ]
  },
  {
   "cell_type": "markdown",
   "metadata": {},
   "source": [
    "The function does not need to be tail-recursive."
   ]
  },
  {
   "cell_type": "markdown",
   "metadata": {
    "jp-MarkdownHeadingCollapsed": true,
    "tags": []
   },
   "source": [
    "###### Solution"
   ]
  },
  {
   "cell_type": "code",
   "execution_count": null,
   "metadata": {},
   "outputs": [],
   "source": [
    "def sum(list: List[(Int, Int)]): List[Int] = \n",
    "    list match\n",
    "        case Nil => List()\n",
    "        case (a,b) :: tail => \n",
    "            a+b :: sum(tail)"
   ]
  },
  {
   "cell_type": "markdown",
   "metadata": {
    "tags": []
   },
   "source": [
    "###### Your solution"
   ]
  },
  {
   "cell_type": "code",
   "execution_count": null,
   "metadata": {},
   "outputs": [],
   "source": []
  },
  {
   "cell_type": "code",
   "execution_count": null,
   "metadata": {},
   "outputs": [],
   "source": [
    "run(TestSum(sum))"
   ]
  },
  {
   "cell_type": "markdown",
   "metadata": {},
   "source": [
    "# Problem 7"
   ]
  },
  {
   "cell_type": "markdown",
   "metadata": {},
   "source": [
    "Write a function that receives two lists and returns a single list whose elements are pairs made from the corresponding elements of each list."
   ]
  },
  {
   "cell_type": "code",
   "execution_count": null,
   "metadata": {},
   "outputs": [],
   "source": [
    "class TestZip(\n",
    "    zip: (List[Int], List[Char]) => List[(Int, Char)]\n",
    ") extends AnyFlatSpec with should.Matchers:\n",
    "    \n",
    "    \"zip\" should \"work\" in:\n",
    "        zip(List(), List()) shouldBe List()\n",
    "        zip(List(), List('a','b')) shouldBe List()\n",
    "        zip(List(1,2,3), List()) shouldBe List()\n",
    "        zip(List(1,2,3), List('a','b','c')) shouldBe\n",
    "            List((1,'a'), (2,'b'), (3, 'c'))\n",
    "        zip(List(1,2), List('a','b','c')) shouldBe\n",
    "            List((1,'a'), (2,'b'))\n",
    "        zip(List(1,2,3), List('a','b')) shouldBe\n",
    "            List((1,'a'), (2,'b'))"
   ]
  },
  {
   "cell_type": "markdown",
   "metadata": {},
   "source": [
    "The function does not need to be tail-recursive."
   ]
  },
  {
   "cell_type": "markdown",
   "metadata": {
    "jp-MarkdownHeadingCollapsed": true,
    "tags": []
   },
   "source": [
    "###### Solution"
   ]
  },
  {
   "cell_type": "code",
   "execution_count": null,
   "metadata": {},
   "outputs": [],
   "source": [
    "def zip[A, B](list1: List[A], list2: List[B]): List[(A, B)] = \n",
    "    (list1, list2) match\n",
    "        case (head1 :: tail1, head2 :: tail2) => \n",
    "            (head1, head2) :: zip(tail1, tail2)\n",
    "        case _ => List()"
   ]
  },
  {
   "cell_type": "markdown",
   "metadata": {
    "tags": []
   },
   "source": [
    "###### Your solution"
   ]
  },
  {
   "cell_type": "code",
   "execution_count": null,
   "metadata": {},
   "outputs": [],
   "source": []
  },
  {
   "cell_type": "code",
   "execution_count": null,
   "metadata": {},
   "outputs": [],
   "source": [
    "run(TestZip(zip[Int, Char]))"
   ]
  },
  {
   "cell_type": "markdown",
   "metadata": {},
   "source": [
    "# Problem 8"
   ]
  },
  {
   "cell_type": "markdown",
   "metadata": {},
   "source": [
    "Write a function that returns the greatest element of a list of integers."
   ]
  },
  {
   "cell_type": "code",
   "execution_count": null,
   "metadata": {},
   "outputs": [],
   "source": [
    "class TestGreatest(\n",
    "    greatest: List[Int] => Option[Int]\n",
    ") extends AnyFlatSpec with should.Matchers:\n",
    "    \n",
    "    \"greatest of an empty list\" should \"return None\" in:\n",
    "        greatest(List()) shouldBe None\n",
    "    \n",
    "    \"greatest of a non-empty list\" should \"return the greatest one\" in:\n",
    "        greatest(List(1,2,3)) shouldBe Some(3)\n",
    "        greatest(List(3,2,1)) shouldBe Some(3)\n",
    "        greatest(List(1)) shouldBe Some(1)"
   ]
  },
  {
   "cell_type": "markdown",
   "metadata": {},
   "source": [
    "Use pattern guards when possible. This is an example of pattern guard:"
   ]
  },
  {
   "cell_type": "code",
   "execution_count": null,
   "metadata": {},
   "outputs": [],
   "source": [
    "val maybeInt: Option[Int] = Some(4)\n",
    "maybeInt match\n",
    "    case Some(i) if i>3 => true\n",
    "    // for any other case, no matter if some(_) or None\n",
    "    case _ => false"
   ]
  },
  {
   "cell_type": "markdown",
   "metadata": {},
   "source": [
    "#### Part a) Implement the function recursively, without tail-recursion"
   ]
  },
  {
   "cell_type": "markdown",
   "metadata": {
    "jp-MarkdownHeadingCollapsed": true,
    "tags": []
   },
   "source": [
    "###### Solution"
   ]
  },
  {
   "cell_type": "code",
   "execution_count": null,
   "metadata": {},
   "outputs": [],
   "source": [
    "def greatest(list: List[Int]): Option[Int] = \n",
    "    list match\n",
    "        case Nil => None\n",
    "        case head :: tail => \n",
    "            greatest(tail) match\n",
    "                case Some(e) if e > head => Some(e)\n",
    "                case _ => Some(head)"
   ]
  },
  {
   "cell_type": "markdown",
   "metadata": {
    "tags": []
   },
   "source": [
    "###### Your solution"
   ]
  },
  {
   "cell_type": "code",
   "execution_count": null,
   "metadata": {},
   "outputs": [],
   "source": []
  },
  {
   "cell_type": "code",
   "execution_count": null,
   "metadata": {},
   "outputs": [],
   "source": [
    "run(TestGreatest(greatest))"
   ]
  },
  {
   "cell_type": "markdown",
   "metadata": {},
   "source": [
    "#### Part b) Implement the function with tail-recursion"
   ]
  },
  {
   "cell_type": "markdown",
   "metadata": {
    "jp-MarkdownHeadingCollapsed": true,
    "tags": []
   },
   "source": [
    "###### Solution"
   ]
  },
  {
   "cell_type": "code",
   "execution_count": null,
   "metadata": {},
   "outputs": [],
   "source": [
    "def greatestTR(list: List[Int]): Option[Int] =\n",
    "    \n",
    "    def greatestAux(out: Option[Int], aux: List[Int]): Option[Int] = \n",
    "        aux match\n",
    "            case Nil => out\n",
    "            case head :: tail => \n",
    "                greatestAux(out match\n",
    "                    case Some(e) if e > head => Some(e)\n",
    "                    case _ => Some(head), tail)\n",
    "    \n",
    "    greatestAux(None, list)"
   ]
  },
  {
   "cell_type": "markdown",
   "metadata": {
    "tags": []
   },
   "source": [
    "###### Your solution"
   ]
  },
  {
   "cell_type": "code",
   "execution_count": null,
   "metadata": {},
   "outputs": [],
   "source": []
  },
  {
   "cell_type": "code",
   "execution_count": null,
   "metadata": {},
   "outputs": [],
   "source": [
    "run(TestGreatest(greatestTR))"
   ]
  },
  {
   "cell_type": "markdown",
   "metadata": {},
   "source": [
    "# Problem 9"
   ]
  },
  {
   "cell_type": "markdown",
   "metadata": {},
   "source": [
    "Create a function that given a list of strings or integers, returns the concatenation of all the string elements. If the list doesn't contain any string, it must return the empty string."
   ]
  },
  {
   "cell_type": "code",
   "execution_count": null,
   "metadata": {},
   "outputs": [],
   "source": [
    "class TestConcatenate(\n",
    "    conc: List[Either[String, Int]] => String\n",
    ") extends AnyFlatSpec with should.Matchers:\n",
    "    \n",
    "    \"concatenate\" should \"work\" in:\n",
    "        conc(List()) shouldBe \"\" \n",
    "        conc(List(Right(1), Right(2), Right(3))) shouldBe \"\"\n",
    "        conc(List(Left(\"hello\"), Left(\", \"), Left(\"world!\"))) shouldBe \n",
    "            \"hello, world!\"\n",
    "        conc(List(Right(1), Left(\"hello\"), Right(2), \n",
    "                  Left(\", \"), Left(\"world!\"), Right(5))) shouldBe \n",
    "            \"hello, world!\""
   ]
  },
  {
   "cell_type": "markdown",
   "metadata": {},
   "source": [
    "Recall the definition of the [`Either[A, B]`](https://www.scala-lang.org/api/current/scala/util/Either.html) algebraic data type in the Scala API. "
   ]
  },
  {
   "cell_type": "markdown",
   "metadata": {},
   "source": [
    "The function does not need to be tail-recursive."
   ]
  },
  {
   "cell_type": "markdown",
   "metadata": {
    "jp-MarkdownHeadingCollapsed": true,
    "tags": []
   },
   "source": [
    "###### Solution"
   ]
  },
  {
   "cell_type": "code",
   "execution_count": null,
   "metadata": {},
   "outputs": [],
   "source": [
    "def concatenate(list: List[Either[String, Int]]): String =\n",
    "    list match\n",
    "        case Nil => \n",
    "            \"\"\n",
    "        case Left(s1) :: tail => \n",
    "            s1 ++ concatenate(tail)\n",
    "        case Right(_) :: tail => \n",
    "            concatenate(tail)"
   ]
  },
  {
   "cell_type": "markdown",
   "metadata": {
    "tags": []
   },
   "source": [
    "###### Your solution"
   ]
  },
  {
   "cell_type": "code",
   "execution_count": null,
   "metadata": {},
   "outputs": [],
   "source": []
  },
  {
   "cell_type": "code",
   "execution_count": null,
   "metadata": {},
   "outputs": [],
   "source": [
    "run(TestConcatenate(concatenate))"
   ]
  },
  {
   "cell_type": "markdown",
   "metadata": {},
   "source": [
    "# Binary trees"
   ]
  },
  {
   "cell_type": "markdown",
   "metadata": {},
   "source": [
    "The following problems deal with functions on binary trees. This data structure can be defined as the following algebraic data type:"
   ]
  },
  {
   "cell_type": "code",
   "execution_count": 2,
   "metadata": {},
   "outputs": [
    {
     "data": {
      "text/plain": [
       "defined \u001b[32mclass\u001b[39m \u001b[36mTree\u001b[39m\n",
       "defined \u001b[32mobject\u001b[39m \u001b[36mTree\u001b[39m"
      ]
     },
     "execution_count": 2,
     "metadata": {},
     "output_type": "execute_result"
    }
   ],
   "source": [
    "// type Tree[A] = 1 + Tree[A] * A * Tree[A]\n",
    "\n",
    "enum Tree[A]:\n",
    "    case Empty()\n",
    "    case Node(left: Tree[A], root: A, right: Tree[A])\n",
    "\n",
    "object Tree:\n",
    "    \n",
    "    def void[A]: Tree[A] = \n",
    "        Empty()\n",
    "    \n",
    "    def leaf[A](a: A): Node[A] = \n",
    "        Node(Empty(), a, Empty())\n",
    "    \n",
    "    def right[A](a: A, tree: Tree[A]): Node[A] = \n",
    "        Node(Empty(), a, tree)\n",
    "    \n",
    "    def left[A](tree: Tree[A], a: A): Node[A] = \n",
    "        Node(tree, a, Empty())\n",
    "    \n",
    "    def node[A](left: Tree[A], a: A, right: Tree[A]): Node[A] = \n",
    "        Node(left, a, right)"
   ]
  },
  {
   "cell_type": "code",
   "execution_count": 3,
   "metadata": {},
   "outputs": [
    {
     "data": {
      "text/plain": [
       "\u001b[32mimport \u001b[39m\u001b[36mTree._\n",
       "\u001b[39m"
      ]
     },
     "execution_count": 3,
     "metadata": {},
     "output_type": "execute_result"
    }
   ],
   "source": [
    "import Tree._"
   ]
  },
  {
   "cell_type": "code",
   "execution_count": 32,
   "metadata": {},
   "outputs": [
    {
     "data": {
      "text/plain": [
       "\u001b[36mres32\u001b[39m: \u001b[32mBoolean\u001b[39m = \u001b[32mtrue\u001b[39m"
      ]
     },
     "execution_count": 32,
     "metadata": {},
     "output_type": "execute_result"
    }
   ],
   "source": [
    "Node(\n",
    "    Node(Empty(), 1, Empty()), \n",
    "    3, \n",
    "    Node(Empty(), \n",
    "         5, \n",
    "         Node(Empty(), 7, Empty()))) == \n",
    "node(leaf(1), 3, right(5, leaf(7))) "
   ]
  },
  {
   "cell_type": "code",
   "execution_count": 31,
   "metadata": {},
   "outputs": [
    {
     "data": {
      "text/plain": [
       "\u001b[36mres31\u001b[39m: \u001b[32mNode\u001b[39m[\u001b[32mInt\u001b[39m] = \u001b[33mNode\u001b[39m(\n",
       "  left = \u001b[33mNode\u001b[39m(left = Empty(), root = \u001b[32m1\u001b[39m, right = Empty()),\n",
       "  root = \u001b[32m3\u001b[39m,\n",
       "  right = \u001b[33mNode\u001b[39m(\n",
       "    left = Empty(),\n",
       "    root = \u001b[32m5\u001b[39m,\n",
       "    right = \u001b[33mNode\u001b[39m(left = Empty(), root = \u001b[32m7\u001b[39m, right = Empty())\n",
       "  )\n",
       ")"
      ]
     },
     "execution_count": 31,
     "metadata": {},
     "output_type": "execute_result"
    }
   ],
   "source": [
    "node(leaf(1), 3, right(5, leaf(7))) "
   ]
  },
  {
   "cell_type": "markdown",
   "metadata": {},
   "source": [
    "The companion object defines some smart constructors that will allow us to write test cases more easily."
   ]
  },
  {
   "cell_type": "code",
   "execution_count": null,
   "metadata": {},
   "outputs": [],
   "source": [
    "import Tree._"
   ]
  },
  {
   "cell_type": "markdown",
   "metadata": {},
   "source": [
    "# Problem 10"
   ]
  },
  {
   "cell_type": "markdown",
   "metadata": {},
   "source": [
    "Create a function that computes the number of nodes a tree."
   ]
  },
  {
   "cell_type": "code",
   "execution_count": 33,
   "metadata": {},
   "outputs": [
    {
     "data": {
      "text/plain": [
       "defined \u001b[32mclass\u001b[39m \u001b[36mTestTreeNumNodes\u001b[39m"
      ]
     },
     "execution_count": 33,
     "metadata": {},
     "output_type": "execute_result"
    }
   ],
   "source": [
    "class TestTreeNumNodes(\n",
    "    numNodes: Tree[Int] => Int\n",
    ") extends AnyFlatSpec with should.Matchers:\n",
    "    \n",
    "    \"concatenate\" should \"work\" in:\n",
    "        numNodes(void) shouldBe 0\n",
    "        numNodes(leaf(1)) shouldBe 1\n",
    "        numNodes(left(leaf(1), 2)) shouldBe 2\n",
    "        numNodes(node(leaf(1), 2, leaf(3))) shouldBe 3"
   ]
  },
  {
   "cell_type": "markdown",
   "metadata": {
    "jp-MarkdownHeadingCollapsed": true,
    "tags": []
   },
   "source": [
    "###### Solution"
   ]
  },
  {
   "cell_type": "code",
   "execution_count": null,
   "metadata": {},
   "outputs": [],
   "source": [
    "def numNodes[A](tree: Tree[A]): Int = \n",
    "    tree match\n",
    "        case Empty() => 0\n",
    "        case Node(left, root, right) => \n",
    "            1 + numNodes(left) + numNodes(right)"
   ]
  },
  {
   "cell_type": "markdown",
   "metadata": {
    "tags": []
   },
   "source": [
    "###### Your solution"
   ]
  },
  {
   "cell_type": "code",
   "execution_count": 35,
   "metadata": {},
   "outputs": [
    {
     "data": {
      "text/plain": [
       "defined \u001b[32mfunction\u001b[39m \u001b[36mnumNodes\u001b[39m"
      ]
     },
     "execution_count": 35,
     "metadata": {},
     "output_type": "execute_result"
    }
   ],
   "source": [
    "def numNodes[A](t: Tree[A]): Int = \n",
    "    t match \n",
    "        case Empty() => ??? : Int\n",
    "        case Node(left, root, right) => \n",
    "            val leftSol: Int = numNodes(left)\n",
    "            val rightSol: Int = numNodes(right)\n",
    "            ??? : Int"
   ]
  },
  {
   "cell_type": "code",
   "execution_count": 36,
   "metadata": {},
   "outputs": [
    {
     "data": {
      "text/plain": [
       "defined \u001b[32mfunction\u001b[39m \u001b[36mnumNodes\u001b[39m"
      ]
     },
     "execution_count": 36,
     "metadata": {},
     "output_type": "execute_result"
    }
   ],
   "source": [
    "def numNodes[A](t: Tree[A]): Int = \n",
    "    t match \n",
    "        case Empty() => 0 : Int\n",
    "        case Node(left, root, right) => \n",
    "            val leftSol: Int = numNodes(left)\n",
    "            val rightSol: Int = numNodes(right)\n",
    "            leftSol + rightSol + 1 : Int"
   ]
  },
  {
   "cell_type": "code",
   "execution_count": 38,
   "metadata": {},
   "outputs": [
    {
     "data": {
      "text/plain": [
       "defined \u001b[32mfunction\u001b[39m \u001b[36mnumNodes\u001b[39m"
      ]
     },
     "execution_count": 38,
     "metadata": {},
     "output_type": "execute_result"
    }
   ],
   "source": [
    "def numNodes[A](t: Tree[A]): Int = \n",
    "    t match \n",
    "        case Empty() => 0 : Int\n",
    "        case Node(left, root, right) => \n",
    "            numNodes(left) + numNodes(right) + 1"
   ]
  },
  {
   "cell_type": "code",
   "execution_count": 39,
   "metadata": {},
   "outputs": [
    {
     "name": "stdout",
     "output_type": "stream",
     "text": [
      "\u001b[32mcell33$Helper$TestTreeNumNodes:\u001b[0m\n",
      "\u001b[32mconcatenate\u001b[0m\n",
      "\u001b[32m- should work\u001b[0m\n"
     ]
    }
   ],
   "source": [
    "run(TestTreeNumNodes(numNodes))"
   ]
  },
  {
   "cell_type": "markdown",
   "metadata": {},
   "source": [
    "# Problem 11"
   ]
  },
  {
   "cell_type": "markdown",
   "metadata": {},
   "source": [
    "Create a function that calculates the _height_ of a tree, which is defined as the depth of its deepest node (the depth of a node, in turn, is the number of edges from that node to the root of the tree). An empty tree doesn't have any nodes, so it doesn't have height either. "
   ]
  },
  {
   "cell_type": "code",
   "execution_count": 5,
   "metadata": {},
   "outputs": [
    {
     "data": {
      "text/plain": [
       "defined \u001b[32mclass\u001b[39m \u001b[36mTestTreeHeight\u001b[39m"
      ]
     },
     "execution_count": 5,
     "metadata": {},
     "output_type": "execute_result"
    }
   ],
   "source": [
    "class TestTreeHeight(\n",
    "    height: Node[Int] => Int\n",
    ") extends AnyFlatSpec with should.Matchers:\n",
    "    \n",
    "    \"concatenate\" should \"work\" in:\n",
    "        height(leaf(1)) shouldBe 0\n",
    "        height(left(leaf(1),2)) shouldBe 1\n",
    "        height(node(leaf(1), 2, leaf(3))) shouldBe 1\n",
    "        height(left(left(leaf(3),2),1)) shouldBe 2\n",
    "        height(node(leaf(1), 2, right(1,leaf(3)))) shouldBe 2\n",
    "        "
   ]
  },
  {
   "cell_type": "markdown",
   "metadata": {},
   "source": [
    "Hint: use the Scala [`max`](https://www.scala-lang.org/api/current/scala/Int.html#max(that:Int):Int) method of the `Int` class to calculate the maximum of two numbers."
   ]
  },
  {
   "cell_type": "markdown",
   "metadata": {
    "tags": []
   },
   "source": [
    "###### Solution"
   ]
  },
  {
   "cell_type": "code",
   "execution_count": null,
   "metadata": {},
   "outputs": [],
   "source": [
    "def height[A](tree: Node[A]): Int = \n",
    "    tree match\n",
    "        case Node(Empty(), _, Empty()) => 0\n",
    "        case Node(Empty(), _, right: Node[A]) => \n",
    "            1 + height(right)\n",
    "        case Node(left: Node[A], _, Empty()) => \n",
    "            1 + height(left)\n",
    "        case Node(left: Node[A], _, right: Node[A]) => \n",
    "            1 + height(left) max height(right)"
   ]
  },
  {
   "cell_type": "markdown",
   "metadata": {
    "tags": []
   },
   "source": [
    "###### Your solution"
   ]
  },
  {
   "cell_type": "code",
   "execution_count": 14,
   "metadata": {},
   "outputs": [
    {
     "name": "stderr",
     "output_type": "stream",
     "text": [
      "-- [E007] Type Mismatch Error: cell15.sc:5:38 ----------------------------------\n",
      "5 |            val leftSol: Int = height(left)\n",
      "  |                                      ^^^^\n",
      "  |      Found:    (left : ammonite.$sess.cell2.instance.Tree[Int])\n",
      "  |      Required: ammonite.$sess.cell2.instance.Tree.Node[Int]\n",
      "  |\n",
      "  |      The following import might make progress towards fixing the problem:\n",
      "  |\n",
      "  |        import sourcecode.Text.generate\n",
      "  |\n",
      "  |\n",
      "  | longer explanation available when compiling with `-explain`\n",
      "-- [E007] Type Mismatch Error: cell15.sc:6:39 ----------------------------------\n",
      "6 |            val rightSol: Int = height(right)\n",
      "  |                                       ^^^^^\n",
      "  |      Found:    (right : ammonite.$sess.cell2.instance.Tree[Int])\n",
      "  |      Required: ammonite.$sess.cell2.instance.Tree.Node[Int]\n",
      "  |\n",
      "  |      The following import might make progress towards fixing the problem:\n",
      "  |\n",
      "  |        import sourcecode.Text.generate\n",
      "  |\n",
      "  |\n",
      "  | longer explanation available when compiling with `-explain`\n",
      "Compilation Failed"
     ]
    }
   ],
   "source": [
    "def height[A](t: Node[Int]): Int = \n",
    "    t match \n",
    "        case Empty() => -1111\n",
    "        case Node(left, root, right) => \n",
    "            val leftSol: Int = height(left)\n",
    "            val rightSol: Int = height(right)\n",
    "            ???"
   ]
  },
  {
   "cell_type": "code",
   "execution_count": 10,
   "metadata": {},
   "outputs": [
    {
     "data": {
      "text/plain": [
       "defined \u001b[32mfunction\u001b[39m \u001b[36mheight\u001b[39m"
      ]
     },
     "execution_count": 10,
     "metadata": {},
     "output_type": "execute_result"
    }
   ],
   "source": [
    "def height[A](t: Node[Int]): Int = \n",
    "    t match \n",
    "        case Node(left, root, right) => \n",
    "            left match \n",
    "                case Empty() => \n",
    "                    right match \n",
    "                        case Empty() => ??? \n",
    "                        case Node(rl, rroot, rr) => \n",
    "                            ???\n",
    "                case Node(ll, lroot, lr) =>\n",
    "                    right match \n",
    "                        case Empty() => ??? \n",
    "                        case Node(rl, rroot, rr) => \n",
    "                            ???\n",
    "/*\n",
    "            val leftSol: Int = height(left)\n",
    "            val rightSol: Int = height(right)\n",
    "            ??? */"
   ]
  },
  {
   "cell_type": "code",
   "execution_count": 11,
   "metadata": {},
   "outputs": [
    {
     "data": {
      "text/plain": [
       "defined \u001b[32mfunction\u001b[39m \u001b[36mheight\u001b[39m"
      ]
     },
     "execution_count": 11,
     "metadata": {},
     "output_type": "execute_result"
    }
   ],
   "source": [
    "def height[A](t: Node[Int]): Int = \n",
    "    t match \n",
    "        case Node(left, root, right) => \n",
    "            (left, right) match \n",
    "                case (Empty(), Empty()) => ??? \n",
    "                case (Empty(), Node(rl, rroot, rr)) => ???\n",
    "                case (Node(ll, lroot, lr), Empty()) => ??? \n",
    "                case (Node(ll, lroot, lr), Node(rl, rroot, rr)) => ???\n",
    "/*\n",
    "            val leftSol: Int = height(left)\n",
    "            val rightSol: Int = height(right)\n",
    "            ??? */"
   ]
  },
  {
   "cell_type": "code",
   "execution_count": 12,
   "metadata": {},
   "outputs": [
    {
     "data": {
      "text/plain": [
       "defined \u001b[32mfunction\u001b[39m \u001b[36mheight\u001b[39m"
      ]
     },
     "execution_count": 12,
     "metadata": {},
     "output_type": "execute_result"
    }
   ],
   "source": [
    "def height[A](t: Node[Int]): Int = \n",
    "    t match \n",
    "        case Node(Empty(), _, Empty()) => ??? \n",
    "        case Node(Empty(), _, Node(rl, rroot, rr)) => ???\n",
    "        case Node(Node(ll, lroot, lr), _, Empty()) => ??? \n",
    "        case Node(Node(ll, lroot, lr), _, Node(rl, rroot, rr)) => ???\n",
    "/*\n",
    "            val leftSol: Int = height(left)\n",
    "            val rightSol: Int = height(right)\n",
    "            ??? */"
   ]
  },
  {
   "cell_type": "code",
   "execution_count": 16,
   "metadata": {},
   "outputs": [
    {
     "data": {
      "text/plain": [
       "\u001b[36mres16\u001b[39m: \u001b[32mInt\u001b[39m = \u001b[32m3\u001b[39m"
      ]
     },
     "execution_count": 16,
     "metadata": {},
     "output_type": "execute_result"
    }
   ],
   "source": [
    "1 max 3"
   ]
  },
  {
   "cell_type": "code",
   "execution_count": 17,
   "metadata": {},
   "outputs": [
    {
     "data": {
      "text/plain": [
       "defined \u001b[32mfunction\u001b[39m \u001b[36mheight\u001b[39m"
      ]
     },
     "execution_count": 17,
     "metadata": {},
     "output_type": "execute_result"
    }
   ],
   "source": [
    "def height[A](t: Node[Int]): Int = \n",
    "    t match \n",
    "        case Node(Empty(), _, Empty()) => \n",
    "            0 \n",
    "        case Node(Empty(), _, Node(rl, rroot, rr)) => \n",
    "            height(Node(rl, rroot, rr)) + 1\n",
    "        case Node(Node(ll, lroot, lr), _, Empty()) => \n",
    "            height(Node(ll, lroot, lr)) + 1\n",
    "        case Node(Node(ll, lroot, lr), _, Node(rl, rroot, rr)) => \n",
    "            (height(Node(rl, rroot, rr)) max height(Node(ll, lroot, lr))) + 1\n",
    "/*\n",
    "            val leftSol: Int = height(left)\n",
    "            val rightSol: Int = height(right)\n",
    "            ??? */"
   ]
  },
  {
   "cell_type": "code",
   "execution_count": 19,
   "metadata": {},
   "outputs": [
    {
     "data": {
      "text/plain": [
       "defined \u001b[32mfunction\u001b[39m \u001b[36mheight\u001b[39m"
      ]
     },
     "execution_count": 19,
     "metadata": {},
     "output_type": "execute_result"
    }
   ],
   "source": [
    "def height[A](t: Node[Int]): Int = \n",
    "    t match \n",
    "        case Node(Empty(), _, Empty()) => \n",
    "            0 \n",
    "        case Node(Empty(), _, r@Node(_, _, _)) => \n",
    "            height(r) + 1\n",
    "        case Node(Node(ll, lroot, lr), _, Empty()) => \n",
    "            height(Node(ll, lroot, lr)) + 1\n",
    "        case Node(Node(ll, lroot, lr), _, Node(rl, rroot, rr)) => \n",
    "            (height(Node(rl, rroot, rr)) max height(Node(ll, lroot, lr))) + 1\n",
    "/*\n",
    "            val leftSol: Int = height(left)\n",
    "            val rightSol: Int = height(right)\n",
    "            ??? */"
   ]
  },
  {
   "cell_type": "code",
   "execution_count": 21,
   "metadata": {},
   "outputs": [
    {
     "data": {
      "text/plain": [
       "defined \u001b[32mfunction\u001b[39m \u001b[36mheight\u001b[39m"
      ]
     },
     "execution_count": 21,
     "metadata": {},
     "output_type": "execute_result"
    }
   ],
   "source": [
    "def height[A](t: Node[Int]): Int = \n",
    "    t match \n",
    "        case Node(Empty(), _, Empty()) => \n",
    "            0 \n",
    "        case Node(Empty(), _, r: Node[Int]) => \n",
    "            height(r) + 1\n",
    "        case Node(Node(ll, lroot, lr), _, Empty()) => \n",
    "            height(Node(ll, lroot, lr)) + 1\n",
    "        case Node(Node(ll, lroot, lr), _, Node(rl, rroot, rr)) => \n",
    "            (height(Node(rl, rroot, rr)) max height(Node(ll, lroot, lr))) + 1\n",
    "/*\n",
    "            val leftSol: Int = height(left)\n",
    "            val rightSol: Int = height(right)\n",
    "            ??? */"
   ]
  },
  {
   "cell_type": "code",
   "execution_count": 20,
   "metadata": {},
   "outputs": [
    {
     "name": "stdout",
     "output_type": "stream",
     "text": [
      "\u001b[32mcell5$Helper$TestTreeHeight:\u001b[0m\n",
      "\u001b[32mconcatenate\u001b[0m\n",
      "\u001b[32m- should work\u001b[0m\n"
     ]
    }
   ],
   "source": [
    "run(TestTreeHeight(height))"
   ]
  },
  {
   "cell_type": "markdown",
   "metadata": {},
   "source": [
    "# Problem 12"
   ]
  },
  {
   "cell_type": "markdown",
   "metadata": {},
   "source": [
    "A degenerate tree is a tree whose nodes only have a child at most. Create a function that determines whether a tree is degenerate or not."
   ]
  },
  {
   "cell_type": "code",
   "execution_count": null,
   "metadata": {},
   "outputs": [],
   "source": [
    "class TestIsDegenerate(\n",
    "    isDegenerate: Tree[Int] => Boolean\n",
    ") extends AnyFlatSpec with should.Matchers:\n",
    "    \n",
    "    \"isDegenerate\" should \"work\" in:\n",
    "        isDegenerate(void) shouldBe true\n",
    "        isDegenerate(leaf(1)) shouldBe true\n",
    "        isDegenerate(left(leaf(1), 2)) shouldBe true\n",
    "        isDegenerate(right(2, leaf(1)))  shouldBe true\n",
    "        isDegenerate(node(leaf(1), 2, leaf(3))) shouldBe false\n",
    "        isDegenerate(left(left(leaf(3), 2), 1)) shouldBe true\n",
    "        isDegenerate(left(right(2, left(right(4, leaf(5)), 3)),1)) shouldBe true\n",
    "        isDegenerate(left(node(leaf(3), 2, leaf(3)), 1)) shouldBe false"
   ]
  },
  {
   "cell_type": "markdown",
   "metadata": {
    "jp-MarkdownHeadingCollapsed": true,
    "tags": []
   },
   "source": [
    "###### Solution"
   ]
  },
  {
   "cell_type": "code",
   "execution_count": null,
   "metadata": {},
   "outputs": [],
   "source": [
    "def isDegenerate[A](tree: Tree[A]): Boolean = \n",
    "    tree match\n",
    "        case Empty() => \n",
    "            true\n",
    "        case Node(Empty(), _, Empty()) => \n",
    "            true\n",
    "        case Node(left: Node[A], _, right: Node[A]) => \n",
    "            false\n",
    "        case Node(Empty(), _, right: Node[A]) => \n",
    "            isDegenerate(right)\n",
    "        case Node(left: Node[A], _, Empty()) => \n",
    "            isDegenerate(left)"
   ]
  },
  {
   "cell_type": "markdown",
   "metadata": {
    "tags": []
   },
   "source": [
    "###### Your solution"
   ]
  },
  {
   "cell_type": "code",
   "execution_count": null,
   "metadata": {},
   "outputs": [],
   "source": []
  },
  {
   "cell_type": "code",
   "execution_count": null,
   "metadata": {},
   "outputs": [],
   "source": [
    "run(TestIsDegenerate(isDegenerate))"
   ]
  },
  {
   "cell_type": "markdown",
   "metadata": {},
   "source": [
    "# Problem 13"
   ]
  },
  {
   "cell_type": "markdown",
   "metadata": {},
   "source": [
    "Write a function that returns the leaves of a tree. The leafs of any left child must be placed in the list before any leaf from its right sibling. "
   ]
  },
  {
   "cell_type": "code",
   "execution_count": null,
   "metadata": {},
   "outputs": [],
   "source": [
    "class TestLeaves(\n",
    "    leaves: Tree[Int] => List[Int]\n",
    ") extends AnyFlatSpec with should.Matchers:\n",
    "    \n",
    "    \"isDegenerate\" should \"work\" in:\n",
    "        leaves(void) shouldBe List()\n",
    "        leaves(leaf(1)) shouldBe List(1)\n",
    "        leaves(left(leaf(1), 2)) shouldBe List(1)\n",
    "        leaves(right(2, leaf(1)))  shouldBe List(1)\n",
    "        leaves(node(leaf(1), 2, leaf(3))) shouldBe List(1,3)\n",
    "        leaves(left(left(leaf(3), 2), 1)) shouldBe List(3)\n",
    "        leaves(left(right(2, left(right(4, leaf(5)), 3)),1)) shouldBe List(5)\n",
    "        leaves(left(node(leaf(3), 2, leaf(3)), 1)) shouldBe List(3,3)\n",
    "        leaves(node(node(leaf(1),2,leaf(3)),4,node(leaf(5),6,leaf(7)))) shouldBe\n",
    "            List(1,3,5,7)"
   ]
  },
  {
   "cell_type": "markdown",
   "metadata": {},
   "source": [
    "Hint: use the [`++`](https://www.scala-lang.org/api/current/scala/collection/immutable/List.html#++[B%3E:A](suffix:scala.collection.IterableOnce[B]):CC[B]) method of the `List` class to concatenate lists."
   ]
  },
  {
   "cell_type": "markdown",
   "metadata": {
    "jp-MarkdownHeadingCollapsed": true,
    "tags": []
   },
   "source": [
    "###### Solution"
   ]
  },
  {
   "cell_type": "code",
   "execution_count": null,
   "metadata": {},
   "outputs": [],
   "source": [
    "def leaves[A](tree: Tree[A]): List[A] = \n",
    "    tree match\n",
    "        case Empty() => \n",
    "            List()\n",
    "        case Node(Empty(), a, Empty()) => \n",
    "            List(a)\n",
    "        case Node(left, _, right) => \n",
    "            leaves(left) ++ leaves(right)"
   ]
  },
  {
   "cell_type": "markdown",
   "metadata": {
    "tags": []
   },
   "source": [
    "###### Your solution"
   ]
  },
  {
   "cell_type": "code",
   "execution_count": null,
   "metadata": {},
   "outputs": [],
   "source": []
  },
  {
   "cell_type": "code",
   "execution_count": null,
   "metadata": {},
   "outputs": [],
   "source": [
    "run(TestLeaves(leaves))"
   ]
  },
  {
   "cell_type": "markdown",
   "metadata": {},
   "source": [
    "# Problem 14"
   ]
  },
  {
   "cell_type": "markdown",
   "metadata": {},
   "source": [
    "This problem deals with [_tree traversals_](https://en.wikipedia.org/wiki/Tree_traversal). "
   ]
  },
  {
   "cell_type": "markdown",
   "metadata": {},
   "source": [
    "Hint: use the [`++`](https://www.scala-lang.org/api/current/scala/collection/immutable/List.html#++[B%3E:A](suffix:scala.collection.IterableOnce[B]):CC[B]) method of the `List` class to concatenate lists."
   ]
  },
  {
   "cell_type": "markdown",
   "metadata": {},
   "source": [
    "#### Part a) Write a function that creates the pre-order of a binary tree."
   ]
  },
  {
   "cell_type": "code",
   "execution_count": null,
   "metadata": {},
   "outputs": [],
   "source": [
    "class TestPreorder(\n",
    "    preorder: Tree[Int] => List[Int]\n",
    ") extends AnyFlatSpec with should.Matchers:\n",
    "    \n",
    "    \"preorder\" should \"work\" in:\n",
    "        preorder(void) shouldBe List()\n",
    "        preorder(leaf(1)) shouldBe List(1)\n",
    "        preorder(left(leaf(1), 2)) shouldBe List(2,1)\n",
    "        preorder(right(2, leaf(1)))  shouldBe List(2,1)\n",
    "        preorder(node(leaf(1), 2, leaf(3))) shouldBe List(2,1,3)\n",
    "        preorder(left(left(leaf(3), 2), 1)) shouldBe List(1,2,3)\n",
    "        preorder(left(right(2, left(right(4, leaf(5)), 3)),1)) shouldBe \n",
    "            List(1,2,3,4,5)\n",
    "        preorder(left(node(leaf(3), 2, leaf(4)), 1)) shouldBe \n",
    "            List(1,2,3,4)\n",
    "        preorder(node(node(leaf(1),2,leaf(3)),4,node(leaf(5),6,leaf(7)))) shouldBe\n",
    "            List(4,2,1,3,6,5,7)"
   ]
  },
  {
   "cell_type": "markdown",
   "metadata": {
    "jp-MarkdownHeadingCollapsed": true,
    "tags": []
   },
   "source": [
    "###### Solution"
   ]
  },
  {
   "cell_type": "code",
   "execution_count": null,
   "metadata": {},
   "outputs": [],
   "source": [
    "def preorder[A](tree: Tree[A]): List[A] = \n",
    "    tree match\n",
    "        case Empty() => \n",
    "            List()\n",
    "        case Node(left, a, right) => \n",
    "            a :: (preorder(left) ++ preorder(right))"
   ]
  },
  {
   "cell_type": "markdown",
   "metadata": {
    "tags": []
   },
   "source": [
    "###### Your solution"
   ]
  },
  {
   "cell_type": "code",
   "execution_count": null,
   "metadata": {},
   "outputs": [],
   "source": []
  },
  {
   "cell_type": "code",
   "execution_count": null,
   "metadata": {},
   "outputs": [],
   "source": [
    "run(TestPreorder(preorder))"
   ]
  },
  {
   "cell_type": "markdown",
   "metadata": {},
   "source": [
    "#### Part b) Write a function that returns the in-order of a binary tree"
   ]
  },
  {
   "cell_type": "code",
   "execution_count": null,
   "metadata": {},
   "outputs": [],
   "source": [
    "class TestInorder(\n",
    "    inorder: Tree[Int] => List[Int]\n",
    ") extends AnyFlatSpec with should.Matchers:\n",
    "    \n",
    "    \"preorder\" should \"work\" in:\n",
    "        inorder(void) shouldBe List()\n",
    "        inorder(leaf(1)) shouldBe List(1)\n",
    "        inorder(left(leaf(1), 2)) shouldBe List(1,2)\n",
    "        inorder(right(2, leaf(1)))  shouldBe List(2,1)\n",
    "        inorder(node(leaf(1), 2, leaf(3))) shouldBe List(1,2,3)\n",
    "        inorder(left(left(leaf(3), 2), 1)) shouldBe List(3,2,1)\n",
    "        inorder(left(right(2, left(right(4, leaf(5)), 3)),1)) shouldBe \n",
    "            List(2,4,5,3,1)\n",
    "        inorder(left(node(leaf(3), 2, leaf(4)), 1)) shouldBe \n",
    "            List(3,2,4,1)\n",
    "        inorder(node(node(leaf(1),2,leaf(3)),4,node(leaf(5),6,leaf(7)))) shouldBe\n",
    "            List(1,2,3,4,5,6,7)"
   ]
  },
  {
   "cell_type": "markdown",
   "metadata": {
    "jp-MarkdownHeadingCollapsed": true,
    "tags": []
   },
   "source": [
    "###### Solution"
   ]
  },
  {
   "cell_type": "code",
   "execution_count": null,
   "metadata": {},
   "outputs": [],
   "source": [
    "def inorder[A](tree: Tree[A]): List[A] = \n",
    "    tree match\n",
    "        case Empty() => \n",
    "            List()\n",
    "        case Node(left, a, right) => \n",
    "            inorder(left) ++ (a :: inorder(right))"
   ]
  },
  {
   "cell_type": "markdown",
   "metadata": {
    "tags": []
   },
   "source": [
    "###### Your solution"
   ]
  },
  {
   "cell_type": "code",
   "execution_count": null,
   "metadata": {},
   "outputs": [],
   "source": []
  },
  {
   "cell_type": "code",
   "execution_count": null,
   "metadata": {},
   "outputs": [],
   "source": [
    "run(TestInorder(inorder))"
   ]
  },
  {
   "cell_type": "markdown",
   "metadata": {},
   "source": [
    "#### Part c) Write a function that returns post-order of a binary tree"
   ]
  },
  {
   "cell_type": "code",
   "execution_count": null,
   "metadata": {},
   "outputs": [],
   "source": [
    "class TestPostorder(\n",
    "    postorder: Tree[Int] => List[Int]\n",
    ") extends AnyFlatSpec with should.Matchers:\n",
    "    \n",
    "    \"postorder\" should \"work\" in:\n",
    "        postorder(void) shouldBe List()\n",
    "        postorder(leaf(1)) shouldBe List(1)\n",
    "        postorder(left(leaf(1), 2)) shouldBe List(1,2)\n",
    "        postorder(right(2, leaf(1)))  shouldBe List(1,2)\n",
    "        postorder(node(leaf(1), 2, leaf(3))) shouldBe List(1,3,2)\n",
    "        postorder(left(left(leaf(3), 2), 1)) shouldBe List(3,2,1)\n",
    "        postorder(left(right(2, left(right(4, leaf(5)), 3)),1)) shouldBe \n",
    "            List(5,4,3,2,1)\n",
    "        postorder(left(node(leaf(3), 2, leaf(4)), 1)) shouldBe \n",
    "            List(3,4,2,1)\n",
    "        postorder(node(node(leaf(1),2,leaf(3)),4,node(leaf(5),6,leaf(7)))) shouldBe\n",
    "            List(1,3,2,5,7,6,4)"
   ]
  },
  {
   "cell_type": "markdown",
   "metadata": {
    "jp-MarkdownHeadingCollapsed": true,
    "tags": []
   },
   "source": [
    "###### Solution"
   ]
  },
  {
   "cell_type": "code",
   "execution_count": null,
   "metadata": {},
   "outputs": [],
   "source": [
    "def postorder[A](tree: Tree[A]): List[A] = \n",
    "    tree match\n",
    "        case Empty() => \n",
    "            List()\n",
    "        case Node(left, a, right) => \n",
    "            (postorder(left) ++ postorder(right)) appended a"
   ]
  },
  {
   "cell_type": "markdown",
   "metadata": {
    "tags": []
   },
   "source": [
    "###### Your solution"
   ]
  },
  {
   "cell_type": "code",
   "execution_count": null,
   "metadata": {},
   "outputs": [],
   "source": []
  },
  {
   "cell_type": "code",
   "execution_count": null,
   "metadata": {},
   "outputs": [],
   "source": [
    "run(TestPostorder(postorder))"
   ]
  },
  {
   "cell_type": "markdown",
   "metadata": {},
   "source": [
    "# Problem 15"
   ]
  },
  {
   "cell_type": "markdown",
   "metadata": {},
   "source": [
    "Given a tree whose nodes are tuples of integers, write a function that returns a tree of the same shape that contains the sum of the numbers for each node."
   ]
  },
  {
   "cell_type": "code",
   "execution_count": null,
   "metadata": {},
   "outputs": [],
   "source": [
    "class TestSum(\n",
    "    sum: Tree[(Int, Int)] => Tree[Int]\n",
    ") extends AnyFlatSpec with should.Matchers:\n",
    "    \n",
    "    \"sum\" should \"work\" in:\n",
    "        sum(void) shouldBe \n",
    "            void\n",
    "        sum(leaf((1,1))) shouldBe \n",
    "            leaf(2)\n",
    "        sum(left(leaf((1,3)), (2,5))) shouldBe \n",
    "            left(leaf(4), 7)\n",
    "        sum(right((0,2), leaf((-1,2)))) shouldBe \n",
    "            right(2, leaf(1))\n",
    "        sum(left(left(leaf((-3,6)), (2,0)), (-5,6))) shouldBe \n",
    "            left(left(leaf(3), 2), 1)"
   ]
  },
  {
   "cell_type": "markdown",
   "metadata": {
    "jp-MarkdownHeadingCollapsed": true,
    "tags": []
   },
   "source": [
    "###### Solution"
   ]
  },
  {
   "cell_type": "code",
   "execution_count": null,
   "metadata": {},
   "outputs": [],
   "source": [
    "def sum(tree: Tree[(Int, Int)]): Tree[Int] = \n",
    "    tree match\n",
    "        case Empty() => \n",
    "            Empty()\n",
    "        case Node(left, (i1, i2), right) => \n",
    "            Node(sum(left), i1 + i2, sum(right))"
   ]
  },
  {
   "cell_type": "markdown",
   "metadata": {
    "tags": []
   },
   "source": [
    "###### Your solution"
   ]
  },
  {
   "cell_type": "code",
   "execution_count": null,
   "metadata": {},
   "outputs": [],
   "source": []
  },
  {
   "cell_type": "code",
   "execution_count": null,
   "metadata": {},
   "outputs": [],
   "source": [
    "run(TestSum(sum))"
   ]
  }
 ],
 "metadata": {
  "kernelspec": {
   "display_name": "Scala 3.3",
   "language": "scala",
   "name": "scala33"
  },
  "language_info": {
   "codemirror_mode": "text/x-scala",
   "file_extension": ".sc",
   "mimetype": "text/x-scala",
   "name": "scala",
   "nbconvert_exporter": "script",
   "version": "2.13.12"
  }
 },
 "nbformat": 4,
 "nbformat_minor": 4
}
