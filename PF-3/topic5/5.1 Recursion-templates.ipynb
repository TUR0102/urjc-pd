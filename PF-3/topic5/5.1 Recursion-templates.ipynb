{
 "cells": [
  {
   "cell_type": "markdown",
   "metadata": {},
   "source": [
    "# Topic 5. Recursive functions and data types"
   ]
  },
  {
   "cell_type": "markdown",
   "metadata": {},
   "source": [
    "The goals of this topic are to understand:\n",
    "\n",
    "* How recursive types (lists, trees, etc.) are defined algebraically\n",
    "* How functions over recursive types are defined recursivelly\n",
    "* The two major types of recursive functions: general and tail-recursive"
   ]
  },
  {
   "cell_type": "markdown",
   "metadata": {},
   "source": [
    "### References\n",
    "\n",
    "[__Programming in Scala, \n",
    "A comprehensive step-by-step guide__](https://www.artima.com/shop/programming_in_scala_3ed) Third Edition.\n",
    "by Martin Odersky, Lex Spoon, and Bill Venners. \n",
    "\n",
    "- Chapter 16. Working with Lists\n",
    "- Chapter 26. Extractors (optional)\n",
    "\n",
    "[__Functional programming in Scala__](https://www.manning.com/books/functional-programming-in-scala), by Paul Chiusano and Runar Bjarnason.\n",
    "\n",
    "- Chapter 3. Functional data structures\n",
    "\n",
    "[__Functional programming simplified__](https://alvinalexander.com/downloads/fpsimplified-free-preview.pdf), by Alvin Alexander.\n",
    "\n",
    "- Chapters 29-36. Recursion."
   ]
  },
  {
   "cell_type": "markdown",
   "metadata": {},
   "source": [
    "## Recursive types"
   ]
  },
  {
   "cell_type": "markdown",
   "metadata": {},
   "source": [
    "### The `List` type"
   ]
  },
  {
   "cell_type": "markdown",
   "metadata": {},
   "source": [
    "Lists are data structures which represent sequences of values of the same type, of finite length. They can be defined recursively in an informal way as follows: \n",
    "- A list is the empty sequence\n",
    "- A list is a non-empty sequence made of a value and another list, which represent the head and tail of the list, respectively\n",
    "\n",
    "Thus, the type `IntList`, which represents lists of integers, must satisfy the following algebraic equation:\n",
    "\n",
    "`IntList = 1 + Int * IntList`\n",
    "\n",
    "i.e., a list of integers is the empty sequence (represented by the singleton type `1`), or an integer (the head) and a list (its tail).\n",
    "\n"
   ]
  },
  {
   "cell_type": "code",
   "execution_count": null,
   "metadata": {},
   "outputs": [],
   "source": [
    "// IntList = 1 + Int + Int * Int + Int * Int * Int + ....\n",
    "// IntList = 1 + Int * (1 + Int + Int * Int + ...)\n",
    "// IntList = 1 + Int * IntList"
   ]
  },
  {
   "cell_type": "code",
   "execution_count": null,
   "metadata": {},
   "outputs": [],
   "source": [
    "enum IntList: \n",
    "    case Empty()\n",
    "    case NonEmpty(head: Int, tail: IntList)"
   ]
  },
  {
   "cell_type": "code",
   "execution_count": null,
   "metadata": {},
   "outputs": [],
   "source": [
    "object AdHoc: \n",
    "\n",
    "    enum List[A]: \n",
    "        case Empty[A]() extends List[A]\n",
    "        case NonEmpty[A](head: A, tail: List[A]) extends List[A]"
   ]
  },
  {
   "cell_type": "code",
   "execution_count": null,
   "metadata": {},
   "outputs": [],
   "source": [
    "import IntList._"
   ]
  },
  {
   "cell_type": "code",
   "execution_count": null,
   "metadata": {},
   "outputs": [],
   "source": [
    "// [1,2,3]\n",
    "NonEmpty(1, NonEmpty(2, NonEmpty(3, Empty()))) "
   ]
  },
  {
   "cell_type": "markdown",
   "metadata": {},
   "source": [
    "The implementation in Scala is similar to the following one (we also give the generic version `List[A]`, rather than the implementation of `IntList`):"
   ]
  },
  {
   "cell_type": "code",
   "execution_count": null,
   "metadata": {},
   "outputs": [],
   "source": [
    "object StdDefinition:\n",
    "    enum IntList: \n",
    "        case Nil\n",
    "        case ::(h: Int, t: IntList)\n",
    "\n",
    "    import IntList._\n",
    "\n",
    "    val l: IntList = \n",
    "        ::(1, ::(2, ::(3, Nil)))\n",
    "\n",
    "    val l2: IntList = \n",
    "        1 :: (2 :: (3 :: IntList.Nil))"
   ]
  },
  {
   "cell_type": "code",
   "execution_count": null,
   "metadata": {},
   "outputs": [],
   "source": [
    "val l: List[Int] = 1 :: (2 :: (3 :: Nil))"
   ]
  },
  {
   "cell_type": "code",
   "execution_count": null,
   "metadata": {},
   "outputs": [],
   "source": [
    "val l: List[Int] = ::(1, ::(2, ::(3, Nil)))"
   ]
  },
  {
   "cell_type": "code",
   "execution_count": null,
   "metadata": {},
   "outputs": [],
   "source": [
    "val l: List[Int] = List.apply(1,2,3)\n",
    "val l2: List[Int] = List(1,2,3)"
   ]
  },
  {
   "cell_type": "markdown",
   "metadata": {},
   "source": [
    "However the actual implementation of [immutable lists](https://github.com/scala/scala/blob/v2.13.1/src/library/scala/collection/immutable/List.scala#L79) in the standard library of Scala defines the empty list as an object, rather than a class. This forces us to declare the list covariantly in its generic parameter `A`, which is somewhat inconvenient at times.  The standard definition looks like as follows:"
   ]
  },
  {
   "cell_type": "code",
   "execution_count": null,
   "metadata": {},
   "outputs": [],
   "source": [
    "object ActualStdDefinition:\n"
   ]
  },
  {
   "cell_type": "markdown",
   "metadata": {},
   "source": [
    "### Some syntactic sugar"
   ]
  },
  {
   "cell_type": "markdown",
   "metadata": {},
   "source": [
    "Note that we can write standard lists with a more compact syntax: "
   ]
  },
  {
   "cell_type": "code",
   "execution_count": null,
   "metadata": {},
   "outputs": [],
   "source": [
    "// Less beautifully \n",
    "\n",
    "// More idiomatically\n"
   ]
  },
  {
   "cell_type": "markdown",
   "metadata": {},
   "source": [
    "And we can also pattern match on lists, similarly:"
   ]
  },
  {
   "cell_type": "code",
   "execution_count": null,
   "metadata": {},
   "outputs": [],
   "source": [
    "object Std: \n",
    "\n",
    "    enum Either[A, B]: \n",
    "        case Left[A, B](a: A) extends Either[A, B]\n",
    "        case Right[A, B](b: B) extends Either[A, B]"
   ]
  },
  {
   "cell_type": "code",
   "execution_count": null,
   "metadata": {},
   "outputs": [],
   "source": [
    "val e: Either[Int, String] = Left(1)\n",
    "\n",
    "e match \n",
    "    case Left(i) => \"un entero\"\n",
    "    case Right(s) => \"un string\""
   ]
  },
  {
   "cell_type": "code",
   "execution_count": null,
   "metadata": {},
   "outputs": [],
   "source": [
    "// Less beautifully\n",
    "def isEmpty[A](l: List[A]): Boolean = \n",
    "    l match \n",
    "        case Nil => true\n",
    "        case ::(h: A, t: List[A]) => false \n",
    "\n",
    "// more idiomatically\n",
    "\n",
    "def isEmpty2[A](l: List[A]): Boolean = \n",
    "    l match \n",
    "        case Nil => true\n",
    "        case h :: t => false \n",
    "// or\n",
    "\n",
    "val l: List[Int] = List(1,2,3)\n",
    "\n",
    "l match \n",
    "    case List(x, y, z) => x+y+z\n",
    "    case _ => 0\n",
    "\n"
   ]
  },
  {
   "cell_type": "markdown",
   "metadata": {},
   "source": [
    "##  Recursive functions"
   ]
  },
  {
   "cell_type": "markdown",
   "metadata": {},
   "source": [
    "Since lists are defined recursively, functions over lists will be commonly recursive as well. For instance, let's implement a recursive function that computes the length of a list. But before, let's implement the function imperatively for the sake of comparison:"
   ]
  },
  {
   "cell_type": "code",
   "execution_count": null,
   "metadata": {},
   "outputs": [],
   "source": [
    "val i: Int = 1\n"
   ]
  },
  {
   "cell_type": "code",
   "execution_count": null,
   "metadata": {},
   "outputs": [],
   "source": [
    "i = 5"
   ]
  },
  {
   "cell_type": "code",
   "execution_count": 1,
   "metadata": {},
   "outputs": [
    {
     "data": {
      "text/plain": [
       "defined \u001b[32mfunction\u001b[39m \u001b[36mlengthI\u001b[39m"
      ]
     },
     "execution_count": 1,
     "metadata": {},
     "output_type": "execute_result"
    }
   ],
   "source": [
    "// Using mutable variables\n",
    "\n",
    "def lengthI[A](l: List[A]): Int = \n",
    "    var out: Int = 0 \n",
    "    var aux: List[A] = l \n",
    "    while (aux != Nil)\n",
    "        aux = aux.tail\n",
    "        out += 1 \n",
    "    out\n"
   ]
  },
  {
   "cell_type": "code",
   "execution_count": null,
   "metadata": {},
   "outputs": [
    {
     "name": "stderr",
     "output_type": "stream",
     "text": [
      "-- [E050] Type Error: cell1.sc:6:14 --------------------------------------------\n",
      "6 |        out = ???(out, aux.head)\n",
      "  |              ^^^\n",
      "  |              method ??? in object Predef does not take parameters\n",
      "  |\n",
      "  | longer explanation available when compiling with `-explain`\n",
      "Compilation Failed"
     ]
    }
   ],
   "source": [
    "// Using mutable variables\n",
    "\n",
    "def lengthI[A](l: List[A]): Int = \n",
    "    var out: Int = ???\n",
    "    var aux: List[A] = l \n",
    "    while (aux != Nil)\n",
    "        aux = aux.tail\n",
    "        out = ???(out, aux.head)\n",
    "    out\n"
   ]
  },
  {
   "cell_type": "code",
   "execution_count": null,
   "metadata": {},
   "outputs": [],
   "source": [
    "// invoke\n",
    "lengthI(List(1,2,3,4))\n",
    "lengthI(List())\n",
    "lengthI(List(1))"
   ]
  },
  {
   "cell_type": "markdown",
   "metadata": {},
   "source": [
    "The recursive function is implemented as follows: "
   ]
  },
  {
   "cell_type": "code",
   "execution_count": null,
   "metadata": {},
   "outputs": [],
   "source": [
    "// Using recursive functions\n",
    "\n",
    "def lengthR[A](l: List[A]): Int = \n",
    "    ??? : Int"
   ]
  },
  {
   "cell_type": "code",
   "execution_count": null,
   "metadata": {},
   "outputs": [],
   "source": [
    "// Using recursive functions\n",
    "\n",
    "def lengthR[A](l: List[A]): Int = \n",
    "    l match \n",
    "        case Nil => ??? : Int\n",
    "        case h :: (t: List[A]) => \n",
    "            val tailSol: Int = lengthR(t)\n",
    "            ??? : Int "
   ]
  },
  {
   "cell_type": "code",
   "execution_count": null,
   "metadata": {},
   "outputs": [],
   "source": [
    "// Using recursive functions\n",
    "\n",
    "def lengthR[A, B](l: List[A]): B = \n",
    "    l match \n",
    "        case Nil => ??? : B\n",
    "        case h :: (t: List[A]) => \n",
    "            val tailSol: B = lengthR(t)\n",
    "            ??? : B "
   ]
  },
  {
   "cell_type": "code",
   "execution_count": 13,
   "metadata": {},
   "outputs": [
    {
     "name": "stderr",
     "output_type": "stream",
     "text": [
      "-- Error: cell14.sc:6:38 -------------------------------------------------------\n",
      "6 |            val tailSol: Int = lengthR(t)\n",
      "  |                               ^^^^^^^^^^\n",
      "  |                 Cannot rewrite recursive call: it is not in tail position\n",
      "Compilation Failed"
     ]
    }
   ],
   "source": [
    "// Using recursive functions\n",
    "\n",
    "@scala.annotation.tailrec\n",
    "def lengthR[A](l: List[A]): Int = \n",
    "    l match \n",
    "        case Nil => 0 : Int\n",
    "        case h :: (t: List[A]) => \n",
    "            val tailSol: Int = lengthR(t)\n",
    "            tailSol + 1 : Int "
   ]
  },
  {
   "cell_type": "code",
   "execution_count": 4,
   "metadata": {},
   "outputs": [
    {
     "data": {
      "text/plain": [
       "\u001b[36mres4_0\u001b[39m: \u001b[32mInt\u001b[39m = \u001b[32m0\u001b[39m\n",
       "\u001b[36mres4_1\u001b[39m: \u001b[32mInt\u001b[39m = \u001b[32m0\u001b[39m\n",
       "\u001b[36mres4_2\u001b[39m: \u001b[32mInt\u001b[39m = \u001b[32m4\u001b[39m"
      ]
     },
     "execution_count": 4,
     "metadata": {},
     "output_type": "execute_result"
    }
   ],
   "source": [
    "lengthR(Nil)\n",
    "lengthR(List())\n",
    "lengthR(List(1,2,3,4))"
   ]
  },
  {
   "cell_type": "code",
   "execution_count": 8,
   "metadata": {
    "collapsed": true,
    "jupyter": {
     "outputs_hidden": true
    },
    "tags": []
   },
   "outputs": [
    {
     "ename": "java.lang.StackOverflowError",
     "evalue": "null",
     "output_type": "error",
     "traceback": [
      "\u001b[31mjava.lang.StackOverflowError\u001b[39m",
      "  scala.collection.immutable.List.equals(\u001b[32mList.scala\u001b[39m:\u001b[32m612\u001b[39m)",
      "  ammonite.$sess.cell3$Helper.lengthR(\u001b[32mcell3.sc\u001b[39m:\u001b[32m3\u001b[39m)",
      "  ammonite.$sess.cell3$Helper.lengthR(\u001b[32mcell3.sc\u001b[39m:\u001b[32m5\u001b[39m)",
      "  ammonite.$sess.cell3$Helper.lengthR(\u001b[32mcell3.sc\u001b[39m:\u001b[32m5\u001b[39m)",
      "  ammonite.$sess.cell3$Helper.lengthR(\u001b[32mcell3.sc\u001b[39m:\u001b[32m5\u001b[39m)",
      "  ammonite.$sess.cell3$Helper.lengthR(\u001b[32mcell3.sc\u001b[39m:\u001b[32m5\u001b[39m)",
      "  ammonite.$sess.cell3$Helper.lengthR(\u001b[32mcell3.sc\u001b[39m:\u001b[32m5\u001b[39m)",
      "  ammonite.$sess.cell3$Helper.lengthR(\u001b[32mcell3.sc\u001b[39m:\u001b[32m5\u001b[39m)",
      "  ammonite.$sess.cell3$Helper.lengthR(\u001b[32mcell3.sc\u001b[39m:\u001b[32m5\u001b[39m)",
      "  ammonite.$sess.cell3$Helper.lengthR(\u001b[32mcell3.sc\u001b[39m:\u001b[32m5\u001b[39m)",
      "  ammonite.$sess.cell3$Helper.lengthR(\u001b[32mcell3.sc\u001b[39m:\u001b[32m5\u001b[39m)",
      "  ammonite.$sess.cell3$Helper.lengthR(\u001b[32mcell3.sc\u001b[39m:\u001b[32m5\u001b[39m)",
      "  ammonite.$sess.cell3$Helper.lengthR(\u001b[32mcell3.sc\u001b[39m:\u001b[32m5\u001b[39m)",
      "  ammonite.$sess.cell3$Helper.lengthR(\u001b[32mcell3.sc\u001b[39m:\u001b[32m5\u001b[39m)",
      "  ammonite.$sess.cell3$Helper.lengthR(\u001b[32mcell3.sc\u001b[39m:\u001b[32m5\u001b[39m)",
      "  ammonite.$sess.cell3$Helper.lengthR(\u001b[32mcell3.sc\u001b[39m:\u001b[32m5\u001b[39m)",
      "  ammonite.$sess.cell3$Helper.lengthR(\u001b[32mcell3.sc\u001b[39m:\u001b[32m5\u001b[39m)",
      "  ammonite.$sess.cell3$Helper.lengthR(\u001b[32mcell3.sc\u001b[39m:\u001b[32m5\u001b[39m)",
      "  ammonite.$sess.cell3$Helper.lengthR(\u001b[32mcell3.sc\u001b[39m:\u001b[32m5\u001b[39m)",
      "  ammonite.$sess.cell3$Helper.lengthR(\u001b[32mcell3.sc\u001b[39m:\u001b[32m5\u001b[39m)",
      "  ammonite.$sess.cell3$Helper.lengthR(\u001b[32mcell3.sc\u001b[39m:\u001b[32m5\u001b[39m)",
      "  ammonite.$sess.cell3$Helper.lengthR(\u001b[32mcell3.sc\u001b[39m:\u001b[32m5\u001b[39m)",
      "  ammonite.$sess.cell3$Helper.lengthR(\u001b[32mcell3.sc\u001b[39m:\u001b[32m5\u001b[39m)",
      "  ammonite.$sess.cell3$Helper.lengthR(\u001b[32mcell3.sc\u001b[39m:\u001b[32m5\u001b[39m)",
      "  ammonite.$sess.cell3$Helper.lengthR(\u001b[32mcell3.sc\u001b[39m:\u001b[32m5\u001b[39m)",
      "  ammonite.$sess.cell3$Helper.lengthR(\u001b[32mcell3.sc\u001b[39m:\u001b[32m5\u001b[39m)",
      "  ammonite.$sess.cell3$Helper.lengthR(\u001b[32mcell3.sc\u001b[39m:\u001b[32m5\u001b[39m)",
      "  ammonite.$sess.cell3$Helper.lengthR(\u001b[32mcell3.sc\u001b[39m:\u001b[32m5\u001b[39m)",
      "  ammonite.$sess.cell3$Helper.lengthR(\u001b[32mcell3.sc\u001b[39m:\u001b[32m5\u001b[39m)",
      "  ammonite.$sess.cell3$Helper.lengthR(\u001b[32mcell3.sc\u001b[39m:\u001b[32m5\u001b[39m)",
      "  ammonite.$sess.cell3$Helper.lengthR(\u001b[32mcell3.sc\u001b[39m:\u001b[32m5\u001b[39m)",
      "  ammonite.$sess.cell3$Helper.lengthR(\u001b[32mcell3.sc\u001b[39m:\u001b[32m5\u001b[39m)",
      "  ammonite.$sess.cell3$Helper.lengthR(\u001b[32mcell3.sc\u001b[39m:\u001b[32m5\u001b[39m)",
      "  ammonite.$sess.cell3$Helper.lengthR(\u001b[32mcell3.sc\u001b[39m:\u001b[32m5\u001b[39m)",
      "  ammonite.$sess.cell3$Helper.lengthR(\u001b[32mcell3.sc\u001b[39m:\u001b[32m5\u001b[39m)",
      "  ammonite.$sess.cell3$Helper.lengthR(\u001b[32mcell3.sc\u001b[39m:\u001b[32m5\u001b[39m)",
      "  ammonite.$sess.cell3$Helper.lengthR(\u001b[32mcell3.sc\u001b[39m:\u001b[32m5\u001b[39m)",
      "  ammonite.$sess.cell3$Helper.lengthR(\u001b[32mcell3.sc\u001b[39m:\u001b[32m5\u001b[39m)",
      "  ammonite.$sess.cell3$Helper.lengthR(\u001b[32mcell3.sc\u001b[39m:\u001b[32m5\u001b[39m)",
      "  ammonite.$sess.cell3$Helper.lengthR(\u001b[32mcell3.sc\u001b[39m:\u001b[32m5\u001b[39m)",
      "  ammonite.$sess.cell3$Helper.lengthR(\u001b[32mcell3.sc\u001b[39m:\u001b[32m5\u001b[39m)",
      "  ammonite.$sess.cell3$Helper.lengthR(\u001b[32mcell3.sc\u001b[39m:\u001b[32m5\u001b[39m)",
      "  ammonite.$sess.cell3$Helper.lengthR(\u001b[32mcell3.sc\u001b[39m:\u001b[32m5\u001b[39m)",
      "  ammonite.$sess.cell3$Helper.lengthR(\u001b[32mcell3.sc\u001b[39m:\u001b[32m5\u001b[39m)",
      "  ammonite.$sess.cell3$Helper.lengthR(\u001b[32mcell3.sc\u001b[39m:\u001b[32m5\u001b[39m)",
      "  ammonite.$sess.cell3$Helper.lengthR(\u001b[32mcell3.sc\u001b[39m:\u001b[32m5\u001b[39m)",
      "  ammonite.$sess.cell3$Helper.lengthR(\u001b[32mcell3.sc\u001b[39m:\u001b[32m5\u001b[39m)",
      "  ammonite.$sess.cell3$Helper.lengthR(\u001b[32mcell3.sc\u001b[39m:\u001b[32m5\u001b[39m)",
      "  ammonite.$sess.cell3$Helper.lengthR(\u001b[32mcell3.sc\u001b[39m:\u001b[32m5\u001b[39m)",
      "  ammonite.$sess.cell3$Helper.lengthR(\u001b[32mcell3.sc\u001b[39m:\u001b[32m5\u001b[39m)",
      "  ammonite.$sess.cell3$Helper.lengthR(\u001b[32mcell3.sc\u001b[39m:\u001b[32m5\u001b[39m)",
      "  ammonite.$sess.cell3$Helper.lengthR(\u001b[32mcell3.sc\u001b[39m:\u001b[32m5\u001b[39m)",
      "  ammonite.$sess.cell3$Helper.lengthR(\u001b[32mcell3.sc\u001b[39m:\u001b[32m5\u001b[39m)",
      "  ammonite.$sess.cell3$Helper.lengthR(\u001b[32mcell3.sc\u001b[39m:\u001b[32m5\u001b[39m)",
      "  ammonite.$sess.cell3$Helper.lengthR(\u001b[32mcell3.sc\u001b[39m:\u001b[32m5\u001b[39m)",
      "  ammonite.$sess.cell3$Helper.lengthR(\u001b[32mcell3.sc\u001b[39m:\u001b[32m5\u001b[39m)",
      "  ammonite.$sess.cell3$Helper.lengthR(\u001b[32mcell3.sc\u001b[39m:\u001b[32m5\u001b[39m)",
      "  ammonite.$sess.cell3$Helper.lengthR(\u001b[32mcell3.sc\u001b[39m:\u001b[32m5\u001b[39m)",
      "  ammonite.$sess.cell3$Helper.lengthR(\u001b[32mcell3.sc\u001b[39m:\u001b[32m5\u001b[39m)",
      "  ammonite.$sess.cell3$Helper.lengthR(\u001b[32mcell3.sc\u001b[39m:\u001b[32m5\u001b[39m)",
      "  ammonite.$sess.cell3$Helper.lengthR(\u001b[32mcell3.sc\u001b[39m:\u001b[32m5\u001b[39m)",
      "  ammonite.$sess.cell3$Helper.lengthR(\u001b[32mcell3.sc\u001b[39m:\u001b[32m5\u001b[39m)",
      "  ammonite.$sess.cell3$Helper.lengthR(\u001b[32mcell3.sc\u001b[39m:\u001b[32m5\u001b[39m)",
      "  ammonite.$sess.cell3$Helper.lengthR(\u001b[32mcell3.sc\u001b[39m:\u001b[32m5\u001b[39m)",
      "  ammonite.$sess.cell3$Helper.lengthR(\u001b[32mcell3.sc\u001b[39m:\u001b[32m5\u001b[39m)",
      "  ammonite.$sess.cell3$Helper.lengthR(\u001b[32mcell3.sc\u001b[39m:\u001b[32m5\u001b[39m)",
      "  ammonite.$sess.cell3$Helper.lengthR(\u001b[32mcell3.sc\u001b[39m:\u001b[32m5\u001b[39m)",
      "  ammonite.$sess.cell3$Helper.lengthR(\u001b[32mcell3.sc\u001b[39m:\u001b[32m5\u001b[39m)",
      "  ammonite.$sess.cell3$Helper.lengthR(\u001b[32mcell3.sc\u001b[39m:\u001b[32m5\u001b[39m)",
      "  ammonite.$sess.cell3$Helper.lengthR(\u001b[32mcell3.sc\u001b[39m:\u001b[32m5\u001b[39m)",
      "  ammonite.$sess.cell3$Helper.lengthR(\u001b[32mcell3.sc\u001b[39m:\u001b[32m5\u001b[39m)",
      "  ammonite.$sess.cell3$Helper.lengthR(\u001b[32mcell3.sc\u001b[39m:\u001b[32m5\u001b[39m)",
      "  ammonite.$sess.cell3$Helper.lengthR(\u001b[32mcell3.sc\u001b[39m:\u001b[32m5\u001b[39m)",
      "  ammonite.$sess.cell3$Helper.lengthR(\u001b[32mcell3.sc\u001b[39m:\u001b[32m5\u001b[39m)",
      "  ammonite.$sess.cell3$Helper.lengthR(\u001b[32mcell3.sc\u001b[39m:\u001b[32m5\u001b[39m)",
      "  ammonite.$sess.cell3$Helper.lengthR(\u001b[32mcell3.sc\u001b[39m:\u001b[32m5\u001b[39m)",
      "  ammonite.$sess.cell3$Helper.lengthR(\u001b[32mcell3.sc\u001b[39m:\u001b[32m5\u001b[39m)",
      "  ammonite.$sess.cell3$Helper.lengthR(\u001b[32mcell3.sc\u001b[39m:\u001b[32m5\u001b[39m)",
      "  ammonite.$sess.cell3$Helper.lengthR(\u001b[32mcell3.sc\u001b[39m:\u001b[32m5\u001b[39m)",
      "  ammonite.$sess.cell3$Helper.lengthR(\u001b[32mcell3.sc\u001b[39m:\u001b[32m5\u001b[39m)",
      "  ammonite.$sess.cell3$Helper.lengthR(\u001b[32mcell3.sc\u001b[39m:\u001b[32m5\u001b[39m)",
      "  ammonite.$sess.cell3$Helper.lengthR(\u001b[32mcell3.sc\u001b[39m:\u001b[32m5\u001b[39m)",
      "  ammonite.$sess.cell3$Helper.lengthR(\u001b[32mcell3.sc\u001b[39m:\u001b[32m5\u001b[39m)",
      "  ammonite.$sess.cell3$Helper.lengthR(\u001b[32mcell3.sc\u001b[39m:\u001b[32m5\u001b[39m)",
      "  ammonite.$sess.cell3$Helper.lengthR(\u001b[32mcell3.sc\u001b[39m:\u001b[32m5\u001b[39m)",
      "  ammonite.$sess.cell3$Helper.lengthR(\u001b[32mcell3.sc\u001b[39m:\u001b[32m5\u001b[39m)",
      "  ammonite.$sess.cell3$Helper.lengthR(\u001b[32mcell3.sc\u001b[39m:\u001b[32m5\u001b[39m)",
      "  ammonite.$sess.cell3$Helper.lengthR(\u001b[32mcell3.sc\u001b[39m:\u001b[32m5\u001b[39m)",
      "  ammonite.$sess.cell3$Helper.lengthR(\u001b[32mcell3.sc\u001b[39m:\u001b[32m5\u001b[39m)",
      "  ammonite.$sess.cell3$Helper.lengthR(\u001b[32mcell3.sc\u001b[39m:\u001b[32m5\u001b[39m)",
      "  ammonite.$sess.cell3$Helper.lengthR(\u001b[32mcell3.sc\u001b[39m:\u001b[32m5\u001b[39m)",
      "  ammonite.$sess.cell3$Helper.lengthR(\u001b[32mcell3.sc\u001b[39m:\u001b[32m5\u001b[39m)",
      "  ammonite.$sess.cell3$Helper.lengthR(\u001b[32mcell3.sc\u001b[39m:\u001b[32m5\u001b[39m)",
      "  ammonite.$sess.cell3$Helper.lengthR(\u001b[32mcell3.sc\u001b[39m:\u001b[32m5\u001b[39m)",
      "  ammonite.$sess.cell3$Helper.lengthR(\u001b[32mcell3.sc\u001b[39m:\u001b[32m5\u001b[39m)",
      "  ammonite.$sess.cell3$Helper.lengthR(\u001b[32mcell3.sc\u001b[39m:\u001b[32m5\u001b[39m)",
      "  ammonite.$sess.cell3$Helper.lengthR(\u001b[32mcell3.sc\u001b[39m:\u001b[32m5\u001b[39m)",
      "  ammonite.$sess.cell3$Helper.lengthR(\u001b[32mcell3.sc\u001b[39m:\u001b[32m5\u001b[39m)",
      "  ammonite.$sess.cell3$Helper.lengthR(\u001b[32mcell3.sc\u001b[39m:\u001b[32m5\u001b[39m)",
      "  ammonite.$sess.cell3$Helper.lengthR(\u001b[32mcell3.sc\u001b[39m:\u001b[32m5\u001b[39m)",
      "  ammonite.$sess.cell3$Helper.lengthR(\u001b[32mcell3.sc\u001b[39m:\u001b[32m5\u001b[39m)",
      "  ammonite.$sess.cell3$Helper.lengthR(\u001b[32mcell3.sc\u001b[39m:\u001b[32m5\u001b[39m)",
      "  ammonite.$sess.cell3$Helper.lengthR(\u001b[32mcell3.sc\u001b[39m:\u001b[32m5\u001b[39m)",
      "  ammonite.$sess.cell3$Helper.lengthR(\u001b[32mcell3.sc\u001b[39m:\u001b[32m5\u001b[39m)",
      "  ammonite.$sess.cell3$Helper.lengthR(\u001b[32mcell3.sc\u001b[39m:\u001b[32m5\u001b[39m)",
      "  ammonite.$sess.cell3$Helper.lengthR(\u001b[32mcell3.sc\u001b[39m:\u001b[32m5\u001b[39m)",
      "  ammonite.$sess.cell3$Helper.lengthR(\u001b[32mcell3.sc\u001b[39m:\u001b[32m5\u001b[39m)",
      "  ammonite.$sess.cell3$Helper.lengthR(\u001b[32mcell3.sc\u001b[39m:\u001b[32m5\u001b[39m)",
      "  ammonite.$sess.cell3$Helper.lengthR(\u001b[32mcell3.sc\u001b[39m:\u001b[32m5\u001b[39m)",
      "  ammonite.$sess.cell3$Helper.lengthR(\u001b[32mcell3.sc\u001b[39m:\u001b[32m5\u001b[39m)",
      "  ammonite.$sess.cell3$Helper.lengthR(\u001b[32mcell3.sc\u001b[39m:\u001b[32m5\u001b[39m)",
      "  ammonite.$sess.cell3$Helper.lengthR(\u001b[32mcell3.sc\u001b[39m:\u001b[32m5\u001b[39m)",
      "  ammonite.$sess.cell3$Helper.lengthR(\u001b[32mcell3.sc\u001b[39m:\u001b[32m5\u001b[39m)",
      "  ammonite.$sess.cell3$Helper.lengthR(\u001b[32mcell3.sc\u001b[39m:\u001b[32m5\u001b[39m)",
      "  ammonite.$sess.cell3$Helper.lengthR(\u001b[32mcell3.sc\u001b[39m:\u001b[32m5\u001b[39m)",
      "  ammonite.$sess.cell3$Helper.lengthR(\u001b[32mcell3.sc\u001b[39m:\u001b[32m5\u001b[39m)",
      "  ammonite.$sess.cell3$Helper.lengthR(\u001b[32mcell3.sc\u001b[39m:\u001b[32m5\u001b[39m)",
      "  ammonite.$sess.cell3$Helper.lengthR(\u001b[32mcell3.sc\u001b[39m:\u001b[32m5\u001b[39m)",
      "  ammonite.$sess.cell3$Helper.lengthR(\u001b[32mcell3.sc\u001b[39m:\u001b[32m5\u001b[39m)",
      "  ammonite.$sess.cell3$Helper.lengthR(\u001b[32mcell3.sc\u001b[39m:\u001b[32m5\u001b[39m)",
      "  ammonite.$sess.cell3$Helper.lengthR(\u001b[32mcell3.sc\u001b[39m:\u001b[32m5\u001b[39m)",
      "  ammonite.$sess.cell3$Helper.lengthR(\u001b[32mcell3.sc\u001b[39m:\u001b[32m5\u001b[39m)",
      "  ammonite.$sess.cell3$Helper.lengthR(\u001b[32mcell3.sc\u001b[39m:\u001b[32m5\u001b[39m)",
      "  ammonite.$sess.cell3$Helper.lengthR(\u001b[32mcell3.sc\u001b[39m:\u001b[32m5\u001b[39m)",
      "  ammonite.$sess.cell3$Helper.lengthR(\u001b[32mcell3.sc\u001b[39m:\u001b[32m5\u001b[39m)",
      "  ammonite.$sess.cell3$Helper.lengthR(\u001b[32mcell3.sc\u001b[39m:\u001b[32m5\u001b[39m)",
      "  ammonite.$sess.cell3$Helper.lengthR(\u001b[32mcell3.sc\u001b[39m:\u001b[32m5\u001b[39m)",
      "  ammonite.$sess.cell3$Helper.lengthR(\u001b[32mcell3.sc\u001b[39m:\u001b[32m5\u001b[39m)",
      "  ammonite.$sess.cell3$Helper.lengthR(\u001b[32mcell3.sc\u001b[39m:\u001b[32m5\u001b[39m)",
      "  ammonite.$sess.cell3$Helper.lengthR(\u001b[32mcell3.sc\u001b[39m:\u001b[32m5\u001b[39m)",
      "  ammonite.$sess.cell3$Helper.lengthR(\u001b[32mcell3.sc\u001b[39m:\u001b[32m5\u001b[39m)",
      "  ammonite.$sess.cell3$Helper.lengthR(\u001b[32mcell3.sc\u001b[39m:\u001b[32m5\u001b[39m)",
      "  ammonite.$sess.cell3$Helper.lengthR(\u001b[32mcell3.sc\u001b[39m:\u001b[32m5\u001b[39m)",
      "  ammonite.$sess.cell3$Helper.lengthR(\u001b[32mcell3.sc\u001b[39m:\u001b[32m5\u001b[39m)",
      "  ammonite.$sess.cell3$Helper.lengthR(\u001b[32mcell3.sc\u001b[39m:\u001b[32m5\u001b[39m)",
      "  ammonite.$sess.cell3$Helper.lengthR(\u001b[32mcell3.sc\u001b[39m:\u001b[32m5\u001b[39m)",
      "  ammonite.$sess.cell3$Helper.lengthR(\u001b[32mcell3.sc\u001b[39m:\u001b[32m5\u001b[39m)",
      "  ammonite.$sess.cell3$Helper.lengthR(\u001b[32mcell3.sc\u001b[39m:\u001b[32m5\u001b[39m)",
      "  ammonite.$sess.cell3$Helper.lengthR(\u001b[32mcell3.sc\u001b[39m:\u001b[32m5\u001b[39m)",
      "  ammonite.$sess.cell3$Helper.lengthR(\u001b[32mcell3.sc\u001b[39m:\u001b[32m5\u001b[39m)",
      "  ammonite.$sess.cell3$Helper.lengthR(\u001b[32mcell3.sc\u001b[39m:\u001b[32m5\u001b[39m)",
      "  ammonite.$sess.cell3$Helper.lengthR(\u001b[32mcell3.sc\u001b[39m:\u001b[32m5\u001b[39m)",
      "  ammonite.$sess.cell3$Helper.lengthR(\u001b[32mcell3.sc\u001b[39m:\u001b[32m5\u001b[39m)",
      "  ammonite.$sess.cell3$Helper.lengthR(\u001b[32mcell3.sc\u001b[39m:\u001b[32m5\u001b[39m)",
      "  ammonite.$sess.cell3$Helper.lengthR(\u001b[32mcell3.sc\u001b[39m:\u001b[32m5\u001b[39m)",
      "  ammonite.$sess.cell3$Helper.lengthR(\u001b[32mcell3.sc\u001b[39m:\u001b[32m5\u001b[39m)",
      "  ammonite.$sess.cell3$Helper.lengthR(\u001b[32mcell3.sc\u001b[39m:\u001b[32m5\u001b[39m)",
      "  ammonite.$sess.cell3$Helper.lengthR(\u001b[32mcell3.sc\u001b[39m:\u001b[32m5\u001b[39m)",
      "  ammonite.$sess.cell3$Helper.lengthR(\u001b[32mcell3.sc\u001b[39m:\u001b[32m5\u001b[39m)",
      "  ammonite.$sess.cell3$Helper.lengthR(\u001b[32mcell3.sc\u001b[39m:\u001b[32m5\u001b[39m)",
      "  ammonite.$sess.cell3$Helper.lengthR(\u001b[32mcell3.sc\u001b[39m:\u001b[32m5\u001b[39m)",
      "  ammonite.$sess.cell3$Helper.lengthR(\u001b[32mcell3.sc\u001b[39m:\u001b[32m5\u001b[39m)",
      "  ammonite.$sess.cell3$Helper.lengthR(\u001b[32mcell3.sc\u001b[39m:\u001b[32m5\u001b[39m)",
      "  ammonite.$sess.cell3$Helper.lengthR(\u001b[32mcell3.sc\u001b[39m:\u001b[32m5\u001b[39m)",
      "  ammonite.$sess.cell3$Helper.lengthR(\u001b[32mcell3.sc\u001b[39m:\u001b[32m5\u001b[39m)",
      "  ammonite.$sess.cell3$Helper.lengthR(\u001b[32mcell3.sc\u001b[39m:\u001b[32m5\u001b[39m)",
      "  ammonite.$sess.cell3$Helper.lengthR(\u001b[32mcell3.sc\u001b[39m:\u001b[32m5\u001b[39m)",
      "  ammonite.$sess.cell3$Helper.lengthR(\u001b[32mcell3.sc\u001b[39m:\u001b[32m5\u001b[39m)",
      "  ammonite.$sess.cell3$Helper.lengthR(\u001b[32mcell3.sc\u001b[39m:\u001b[32m5\u001b[39m)",
      "  ammonite.$sess.cell3$Helper.lengthR(\u001b[32mcell3.sc\u001b[39m:\u001b[32m5\u001b[39m)",
      "  ammonite.$sess.cell3$Helper.lengthR(\u001b[32mcell3.sc\u001b[39m:\u001b[32m5\u001b[39m)",
      "  ammonite.$sess.cell3$Helper.lengthR(\u001b[32mcell3.sc\u001b[39m:\u001b[32m5\u001b[39m)",
      "  ammonite.$sess.cell3$Helper.lengthR(\u001b[32mcell3.sc\u001b[39m:\u001b[32m5\u001b[39m)",
      "  ammonite.$sess.cell3$Helper.lengthR(\u001b[32mcell3.sc\u001b[39m:\u001b[32m5\u001b[39m)",
      "  ammonite.$sess.cell3$Helper.lengthR(\u001b[32mcell3.sc\u001b[39m:\u001b[32m5\u001b[39m)",
      "  ammonite.$sess.cell3$Helper.lengthR(\u001b[32mcell3.sc\u001b[39m:\u001b[32m5\u001b[39m)",
      "  ammonite.$sess.cell3$Helper.lengthR(\u001b[32mcell3.sc\u001b[39m:\u001b[32m5\u001b[39m)",
      "  ammonite.$sess.cell3$Helper.lengthR(\u001b[32mcell3.sc\u001b[39m:\u001b[32m5\u001b[39m)",
      "  ammonite.$sess.cell3$Helper.lengthR(\u001b[32mcell3.sc\u001b[39m:\u001b[32m5\u001b[39m)",
      "  ammonite.$sess.cell3$Helper.lengthR(\u001b[32mcell3.sc\u001b[39m:\u001b[32m5\u001b[39m)",
      "  ammonite.$sess.cell3$Helper.lengthR(\u001b[32mcell3.sc\u001b[39m:\u001b[32m5\u001b[39m)",
      "  ammonite.$sess.cell3$Helper.lengthR(\u001b[32mcell3.sc\u001b[39m:\u001b[32m5\u001b[39m)",
      "  ammonite.$sess.cell3$Helper.lengthR(\u001b[32mcell3.sc\u001b[39m:\u001b[32m5\u001b[39m)",
      "  ammonite.$sess.cell3$Helper.lengthR(\u001b[32mcell3.sc\u001b[39m:\u001b[32m5\u001b[39m)",
      "  ammonite.$sess.cell3$Helper.lengthR(\u001b[32mcell3.sc\u001b[39m:\u001b[32m5\u001b[39m)",
      "  ammonite.$sess.cell3$Helper.lengthR(\u001b[32mcell3.sc\u001b[39m:\u001b[32m5\u001b[39m)",
      "  ammonite.$sess.cell3$Helper.lengthR(\u001b[32mcell3.sc\u001b[39m:\u001b[32m5\u001b[39m)",
      "  ammonite.$sess.cell3$Helper.lengthR(\u001b[32mcell3.sc\u001b[39m:\u001b[32m5\u001b[39m)",
      "  ammonite.$sess.cell3$Helper.lengthR(\u001b[32mcell3.sc\u001b[39m:\u001b[32m5\u001b[39m)",
      "  ammonite.$sess.cell3$Helper.lengthR(\u001b[32mcell3.sc\u001b[39m:\u001b[32m5\u001b[39m)",
      "  ammonite.$sess.cell3$Helper.lengthR(\u001b[32mcell3.sc\u001b[39m:\u001b[32m5\u001b[39m)",
      "  ammonite.$sess.cell3$Helper.lengthR(\u001b[32mcell3.sc\u001b[39m:\u001b[32m5\u001b[39m)",
      "  ammonite.$sess.cell3$Helper.lengthR(\u001b[32mcell3.sc\u001b[39m:\u001b[32m5\u001b[39m)",
      "  ammonite.$sess.cell3$Helper.lengthR(\u001b[32mcell3.sc\u001b[39m:\u001b[32m5\u001b[39m)",
      "  ammonite.$sess.cell3$Helper.lengthR(\u001b[32mcell3.sc\u001b[39m:\u001b[32m5\u001b[39m)",
      "  ammonite.$sess.cell3$Helper.lengthR(\u001b[32mcell3.sc\u001b[39m:\u001b[32m5\u001b[39m)",
      "  ammonite.$sess.cell3$Helper.lengthR(\u001b[32mcell3.sc\u001b[39m:\u001b[32m5\u001b[39m)",
      "  ammonite.$sess.cell3$Helper.lengthR(\u001b[32mcell3.sc\u001b[39m:\u001b[32m5\u001b[39m)",
      "  ammonite.$sess.cell3$Helper.lengthR(\u001b[32mcell3.sc\u001b[39m:\u001b[32m5\u001b[39m)",
      "  ammonite.$sess.cell3$Helper.lengthR(\u001b[32mcell3.sc\u001b[39m:\u001b[32m5\u001b[39m)",
      "  ammonite.$sess.cell3$Helper.lengthR(\u001b[32mcell3.sc\u001b[39m:\u001b[32m5\u001b[39m)",
      "  ammonite.$sess.cell3$Helper.lengthR(\u001b[32mcell3.sc\u001b[39m:\u001b[32m5\u001b[39m)",
      "  ammonite.$sess.cell3$Helper.lengthR(\u001b[32mcell3.sc\u001b[39m:\u001b[32m5\u001b[39m)",
      "  ammonite.$sess.cell3$Helper.lengthR(\u001b[32mcell3.sc\u001b[39m:\u001b[32m5\u001b[39m)",
      "  ammonite.$sess.cell3$Helper.lengthR(\u001b[32mcell3.sc\u001b[39m:\u001b[32m5\u001b[39m)",
      "  ammonite.$sess.cell3$Helper.lengthR(\u001b[32mcell3.sc\u001b[39m:\u001b[32m5\u001b[39m)",
      "  ammonite.$sess.cell3$Helper.lengthR(\u001b[32mcell3.sc\u001b[39m:\u001b[32m5\u001b[39m)",
      "  ammonite.$sess.cell3$Helper.lengthR(\u001b[32mcell3.sc\u001b[39m:\u001b[32m5\u001b[39m)",
      "  ammonite.$sess.cell3$Helper.lengthR(\u001b[32mcell3.sc\u001b[39m:\u001b[32m5\u001b[39m)",
      "  ammonite.$sess.cell3$Helper.lengthR(\u001b[32mcell3.sc\u001b[39m:\u001b[32m5\u001b[39m)",
      "  ammonite.$sess.cell3$Helper.lengthR(\u001b[32mcell3.sc\u001b[39m:\u001b[32m5\u001b[39m)",
      "  ammonite.$sess.cell3$Helper.lengthR(\u001b[32mcell3.sc\u001b[39m:\u001b[32m5\u001b[39m)",
      "  ammonite.$sess.cell3$Helper.lengthR(\u001b[32mcell3.sc\u001b[39m:\u001b[32m5\u001b[39m)",
      "  ammonite.$sess.cell3$Helper.lengthR(\u001b[32mcell3.sc\u001b[39m:\u001b[32m5\u001b[39m)",
      "  ammonite.$sess.cell3$Helper.lengthR(\u001b[32mcell3.sc\u001b[39m:\u001b[32m5\u001b[39m)",
      "  ammonite.$sess.cell3$Helper.lengthR(\u001b[32mcell3.sc\u001b[39m:\u001b[32m5\u001b[39m)",
      "  ammonite.$sess.cell3$Helper.lengthR(\u001b[32mcell3.sc\u001b[39m:\u001b[32m5\u001b[39m)",
      "  ammonite.$sess.cell3$Helper.lengthR(\u001b[32mcell3.sc\u001b[39m:\u001b[32m5\u001b[39m)",
      "  ammonite.$sess.cell3$Helper.lengthR(\u001b[32mcell3.sc\u001b[39m:\u001b[32m5\u001b[39m)",
      "  ammonite.$sess.cell3$Helper.lengthR(\u001b[32mcell3.sc\u001b[39m:\u001b[32m5\u001b[39m)",
      "  ammonite.$sess.cell3$Helper.lengthR(\u001b[32mcell3.sc\u001b[39m:\u001b[32m5\u001b[39m)",
      "  ammonite.$sess.cell3$Helper.lengthR(\u001b[32mcell3.sc\u001b[39m:\u001b[32m5\u001b[39m)",
      "  ammonite.$sess.cell3$Helper.lengthR(\u001b[32mcell3.sc\u001b[39m:\u001b[32m5\u001b[39m)",
      "  ammonite.$sess.cell3$Helper.lengthR(\u001b[32mcell3.sc\u001b[39m:\u001b[32m5\u001b[39m)",
      "  ammonite.$sess.cell3$Helper.lengthR(\u001b[32mcell3.sc\u001b[39m:\u001b[32m5\u001b[39m)",
      "  ammonite.$sess.cell3$Helper.lengthR(\u001b[32mcell3.sc\u001b[39m:\u001b[32m5\u001b[39m)",
      "  ammonite.$sess.cell3$Helper.lengthR(\u001b[32mcell3.sc\u001b[39m:\u001b[32m5\u001b[39m)",
      "  ammonite.$sess.cell3$Helper.lengthR(\u001b[32mcell3.sc\u001b[39m:\u001b[32m5\u001b[39m)",
      "  ammonite.$sess.cell3$Helper.lengthR(\u001b[32mcell3.sc\u001b[39m:\u001b[32m5\u001b[39m)",
      "  ammonite.$sess.cell3$Helper.lengthR(\u001b[32mcell3.sc\u001b[39m:\u001b[32m5\u001b[39m)",
      "  ammonite.$sess.cell3$Helper.lengthR(\u001b[32mcell3.sc\u001b[39m:\u001b[32m5\u001b[39m)",
      "  ammonite.$sess.cell3$Helper.lengthR(\u001b[32mcell3.sc\u001b[39m:\u001b[32m5\u001b[39m)",
      "  ammonite.$sess.cell3$Helper.lengthR(\u001b[32mcell3.sc\u001b[39m:\u001b[32m5\u001b[39m)",
      "  ammonite.$sess.cell3$Helper.lengthR(\u001b[32mcell3.sc\u001b[39m:\u001b[32m5\u001b[39m)",
      "  ammonite.$sess.cell3$Helper.lengthR(\u001b[32mcell3.sc\u001b[39m:\u001b[32m5\u001b[39m)",
      "  ammonite.$sess.cell3$Helper.lengthR(\u001b[32mcell3.sc\u001b[39m:\u001b[32m5\u001b[39m)",
      "  ammonite.$sess.cell3$Helper.lengthR(\u001b[32mcell3.sc\u001b[39m:\u001b[32m5\u001b[39m)",
      "  ammonite.$sess.cell3$Helper.lengthR(\u001b[32mcell3.sc\u001b[39m:\u001b[32m5\u001b[39m)",
      "  ammonite.$sess.cell3$Helper.lengthR(\u001b[32mcell3.sc\u001b[39m:\u001b[32m5\u001b[39m)",
      "  ammonite.$sess.cell3$Helper.lengthR(\u001b[32mcell3.sc\u001b[39m:\u001b[32m5\u001b[39m)",
      "  ammonite.$sess.cell3$Helper.lengthR(\u001b[32mcell3.sc\u001b[39m:\u001b[32m5\u001b[39m)",
      "  ammonite.$sess.cell3$Helper.lengthR(\u001b[32mcell3.sc\u001b[39m:\u001b[32m5\u001b[39m)",
      "  ammonite.$sess.cell3$Helper.lengthR(\u001b[32mcell3.sc\u001b[39m:\u001b[32m5\u001b[39m)",
      "  ammonite.$sess.cell3$Helper.lengthR(\u001b[32mcell3.sc\u001b[39m:\u001b[32m5\u001b[39m)",
      "  ammonite.$sess.cell3$Helper.lengthR(\u001b[32mcell3.sc\u001b[39m:\u001b[32m5\u001b[39m)",
      "  ammonite.$sess.cell3$Helper.lengthR(\u001b[32mcell3.sc\u001b[39m:\u001b[32m5\u001b[39m)",
      "  ammonite.$sess.cell3$Helper.lengthR(\u001b[32mcell3.sc\u001b[39m:\u001b[32m5\u001b[39m)",
      "  ammonite.$sess.cell3$Helper.lengthR(\u001b[32mcell3.sc\u001b[39m:\u001b[32m5\u001b[39m)",
      "  ammonite.$sess.cell3$Helper.lengthR(\u001b[32mcell3.sc\u001b[39m:\u001b[32m5\u001b[39m)",
      "  ammonite.$sess.cell3$Helper.lengthR(\u001b[32mcell3.sc\u001b[39m:\u001b[32m5\u001b[39m)",
      "  ammonite.$sess.cell3$Helper.lengthR(\u001b[32mcell3.sc\u001b[39m:\u001b[32m5\u001b[39m)",
      "  ammonite.$sess.cell3$Helper.lengthR(\u001b[32mcell3.sc\u001b[39m:\u001b[32m5\u001b[39m)",
      "  ammonite.$sess.cell3$Helper.lengthR(\u001b[32mcell3.sc\u001b[39m:\u001b[32m5\u001b[39m)",
      "  ammonite.$sess.cell3$Helper.lengthR(\u001b[32mcell3.sc\u001b[39m:\u001b[32m5\u001b[39m)",
      "  ammonite.$sess.cell3$Helper.lengthR(\u001b[32mcell3.sc\u001b[39m:\u001b[32m5\u001b[39m)",
      "  ammonite.$sess.cell3$Helper.lengthR(\u001b[32mcell3.sc\u001b[39m:\u001b[32m5\u001b[39m)",
      "  ammonite.$sess.cell3$Helper.lengthR(\u001b[32mcell3.sc\u001b[39m:\u001b[32m5\u001b[39m)",
      "  ammonite.$sess.cell3$Helper.lengthR(\u001b[32mcell3.sc\u001b[39m:\u001b[32m5\u001b[39m)",
      "  ammonite.$sess.cell3$Helper.lengthR(\u001b[32mcell3.sc\u001b[39m:\u001b[32m5\u001b[39m)",
      "  ammonite.$sess.cell3$Helper.lengthR(\u001b[32mcell3.sc\u001b[39m:\u001b[32m5\u001b[39m)",
      "  ammonite.$sess.cell3$Helper.lengthR(\u001b[32mcell3.sc\u001b[39m:\u001b[32m5\u001b[39m)",
      "  ammonite.$sess.cell3$Helper.lengthR(\u001b[32mcell3.sc\u001b[39m:\u001b[32m5\u001b[39m)",
      "  ammonite.$sess.cell3$Helper.lengthR(\u001b[32mcell3.sc\u001b[39m:\u001b[32m5\u001b[39m)",
      "  ammonite.$sess.cell3$Helper.lengthR(\u001b[32mcell3.sc\u001b[39m:\u001b[32m5\u001b[39m)",
      "  ammonite.$sess.cell3$Helper.lengthR(\u001b[32mcell3.sc\u001b[39m:\u001b[32m5\u001b[39m)",
      "  ammonite.$sess.cell3$Helper.lengthR(\u001b[32mcell3.sc\u001b[39m:\u001b[32m5\u001b[39m)",
      "  ammonite.$sess.cell3$Helper.lengthR(\u001b[32mcell3.sc\u001b[39m:\u001b[32m5\u001b[39m)",
      "  ammonite.$sess.cell3$Helper.lengthR(\u001b[32mcell3.sc\u001b[39m:\u001b[32m5\u001b[39m)",
      "  ammonite.$sess.cell3$Helper.lengthR(\u001b[32mcell3.sc\u001b[39m:\u001b[32m5\u001b[39m)",
      "  ammonite.$sess.cell3$Helper.lengthR(\u001b[32mcell3.sc\u001b[39m:\u001b[32m5\u001b[39m)",
      "  ammonite.$sess.cell3$Helper.lengthR(\u001b[32mcell3.sc\u001b[39m:\u001b[32m5\u001b[39m)",
      "  ammonite.$sess.cell3$Helper.lengthR(\u001b[32mcell3.sc\u001b[39m:\u001b[32m5\u001b[39m)",
      "  ammonite.$sess.cell3$Helper.lengthR(\u001b[32mcell3.sc\u001b[39m:\u001b[32m5\u001b[39m)",
      "  ammonite.$sess.cell3$Helper.lengthR(\u001b[32mcell3.sc\u001b[39m:\u001b[32m5\u001b[39m)",
      "  ammonite.$sess.cell3$Helper.lengthR(\u001b[32mcell3.sc\u001b[39m:\u001b[32m5\u001b[39m)",
      "  ammonite.$sess.cell3$Helper.lengthR(\u001b[32mcell3.sc\u001b[39m:\u001b[32m5\u001b[39m)",
      "  ammonite.$sess.cell3$Helper.lengthR(\u001b[32mcell3.sc\u001b[39m:\u001b[32m5\u001b[39m)",
      "  ammonite.$sess.cell3$Helper.lengthR(\u001b[32mcell3.sc\u001b[39m:\u001b[32m5\u001b[39m)",
      "  ammonite.$sess.cell3$Helper.lengthR(\u001b[32mcell3.sc\u001b[39m:\u001b[32m5\u001b[39m)",
      "  ammonite.$sess.cell3$Helper.lengthR(\u001b[32mcell3.sc\u001b[39m:\u001b[32m5\u001b[39m)",
      "  ammonite.$sess.cell3$Helper.lengthR(\u001b[32mcell3.sc\u001b[39m:\u001b[32m5\u001b[39m)",
      "  ammonite.$sess.cell3$Helper.lengthR(\u001b[32mcell3.sc\u001b[39m:\u001b[32m5\u001b[39m)",
      "  ammonite.$sess.cell3$Helper.lengthR(\u001b[32mcell3.sc\u001b[39m:\u001b[32m5\u001b[39m)",
      "  ammonite.$sess.cell3$Helper.lengthR(\u001b[32mcell3.sc\u001b[39m:\u001b[32m5\u001b[39m)",
      "  ammonite.$sess.cell3$Helper.lengthR(\u001b[32mcell3.sc\u001b[39m:\u001b[32m5\u001b[39m)",
      "  ammonite.$sess.cell3$Helper.lengthR(\u001b[32mcell3.sc\u001b[39m:\u001b[32m5\u001b[39m)",
      "  ammonite.$sess.cell3$Helper.lengthR(\u001b[32mcell3.sc\u001b[39m:\u001b[32m5\u001b[39m)",
      "  ammonite.$sess.cell3$Helper.lengthR(\u001b[32mcell3.sc\u001b[39m:\u001b[32m5\u001b[39m)",
      "  ammonite.$sess.cell3$Helper.lengthR(\u001b[32mcell3.sc\u001b[39m:\u001b[32m5\u001b[39m)",
      "  ammonite.$sess.cell3$Helper.lengthR(\u001b[32mcell3.sc\u001b[39m:\u001b[32m5\u001b[39m)",
      "  ammonite.$sess.cell3$Helper.lengthR(\u001b[32mcell3.sc\u001b[39m:\u001b[32m5\u001b[39m)",
      "  ammonite.$sess.cell3$Helper.lengthR(\u001b[32mcell3.sc\u001b[39m:\u001b[32m5\u001b[39m)",
      "  ammonite.$sess.cell3$Helper.lengthR(\u001b[32mcell3.sc\u001b[39m:\u001b[32m5\u001b[39m)",
      "  ammonite.$sess.cell3$Helper.lengthR(\u001b[32mcell3.sc\u001b[39m:\u001b[32m5\u001b[39m)",
      "  ammonite.$sess.cell3$Helper.lengthR(\u001b[32mcell3.sc\u001b[39m:\u001b[32m5\u001b[39m)",
      "  ammonite.$sess.cell3$Helper.lengthR(\u001b[32mcell3.sc\u001b[39m:\u001b[32m5\u001b[39m)",
      "  ammonite.$sess.cell3$Helper.lengthR(\u001b[32mcell3.sc\u001b[39m:\u001b[32m5\u001b[39m)",
      "  ammonite.$sess.cell3$Helper.lengthR(\u001b[32mcell3.sc\u001b[39m:\u001b[32m5\u001b[39m)",
      "  ammonite.$sess.cell3$Helper.lengthR(\u001b[32mcell3.sc\u001b[39m:\u001b[32m5\u001b[39m)",
      "  ammonite.$sess.cell3$Helper.lengthR(\u001b[32mcell3.sc\u001b[39m:\u001b[32m5\u001b[39m)",
      "  ammonite.$sess.cell3$Helper.lengthR(\u001b[32mcell3.sc\u001b[39m:\u001b[32m5\u001b[39m)",
      "  ammonite.$sess.cell3$Helper.lengthR(\u001b[32mcell3.sc\u001b[39m:\u001b[32m5\u001b[39m)",
      "  ammonite.$sess.cell3$Helper.lengthR(\u001b[32mcell3.sc\u001b[39m:\u001b[32m5\u001b[39m)",
      "  ammonite.$sess.cell3$Helper.lengthR(\u001b[32mcell3.sc\u001b[39m:\u001b[32m5\u001b[39m)",
      "  ammonite.$sess.cell3$Helper.lengthR(\u001b[32mcell3.sc\u001b[39m:\u001b[32m5\u001b[39m)",
      "  ammonite.$sess.cell3$Helper.lengthR(\u001b[32mcell3.sc\u001b[39m:\u001b[32m5\u001b[39m)",
      "  ammonite.$sess.cell3$Helper.lengthR(\u001b[32mcell3.sc\u001b[39m:\u001b[32m5\u001b[39m)",
      "  ammonite.$sess.cell3$Helper.lengthR(\u001b[32mcell3.sc\u001b[39m:\u001b[32m5\u001b[39m)",
      "  ammonite.$sess.cell3$Helper.lengthR(\u001b[32mcell3.sc\u001b[39m:\u001b[32m5\u001b[39m)",
      "  ammonite.$sess.cell3$Helper.lengthR(\u001b[32mcell3.sc\u001b[39m:\u001b[32m5\u001b[39m)",
      "  ammonite.$sess.cell3$Helper.lengthR(\u001b[32mcell3.sc\u001b[39m:\u001b[32m5\u001b[39m)",
      "  ammonite.$sess.cell3$Helper.lengthR(\u001b[32mcell3.sc\u001b[39m:\u001b[32m5\u001b[39m)",
      "  ammonite.$sess.cell3$Helper.lengthR(\u001b[32mcell3.sc\u001b[39m:\u001b[32m5\u001b[39m)",
      "  ammonite.$sess.cell3$Helper.lengthR(\u001b[32mcell3.sc\u001b[39m:\u001b[32m5\u001b[39m)",
      "  ammonite.$sess.cell3$Helper.lengthR(\u001b[32mcell3.sc\u001b[39m:\u001b[32m5\u001b[39m)",
      "  ammonite.$sess.cell3$Helper.lengthR(\u001b[32mcell3.sc\u001b[39m:\u001b[32m5\u001b[39m)",
      "  ammonite.$sess.cell3$Helper.lengthR(\u001b[32mcell3.sc\u001b[39m:\u001b[32m5\u001b[39m)",
      "  ammonite.$sess.cell3$Helper.lengthR(\u001b[32mcell3.sc\u001b[39m:\u001b[32m5\u001b[39m)",
      "  ammonite.$sess.cell3$Helper.lengthR(\u001b[32mcell3.sc\u001b[39m:\u001b[32m5\u001b[39m)",
      "  ammonite.$sess.cell3$Helper.lengthR(\u001b[32mcell3.sc\u001b[39m:\u001b[32m5\u001b[39m)",
      "  ammonite.$sess.cell3$Helper.lengthR(\u001b[32mcell3.sc\u001b[39m:\u001b[32m5\u001b[39m)",
      "  ammonite.$sess.cell3$Helper.lengthR(\u001b[32mcell3.sc\u001b[39m:\u001b[32m5\u001b[39m)",
      "  ammonite.$sess.cell3$Helper.lengthR(\u001b[32mcell3.sc\u001b[39m:\u001b[32m5\u001b[39m)",
      "  ammonite.$sess.cell3$Helper.lengthR(\u001b[32mcell3.sc\u001b[39m:\u001b[32m5\u001b[39m)",
      "  ammonite.$sess.cell3$Helper.lengthR(\u001b[32mcell3.sc\u001b[39m:\u001b[32m5\u001b[39m)",
      "  ammonite.$sess.cell3$Helper.lengthR(\u001b[32mcell3.sc\u001b[39m:\u001b[32m5\u001b[39m)",
      "  ammonite.$sess.cell3$Helper.lengthR(\u001b[32mcell3.sc\u001b[39m:\u001b[32m5\u001b[39m)",
      "  ammonite.$sess.cell3$Helper.lengthR(\u001b[32mcell3.sc\u001b[39m:\u001b[32m5\u001b[39m)",
      "  ammonite.$sess.cell3$Helper.lengthR(\u001b[32mcell3.sc\u001b[39m:\u001b[32m5\u001b[39m)",
      "  ammonite.$sess.cell3$Helper.lengthR(\u001b[32mcell3.sc\u001b[39m:\u001b[32m5\u001b[39m)",
      "  ammonite.$sess.cell3$Helper.lengthR(\u001b[32mcell3.sc\u001b[39m:\u001b[32m5\u001b[39m)",
      "  ammonite.$sess.cell3$Helper.lengthR(\u001b[32mcell3.sc\u001b[39m:\u001b[32m5\u001b[39m)",
      "  ammonite.$sess.cell3$Helper.lengthR(\u001b[32mcell3.sc\u001b[39m:\u001b[32m5\u001b[39m)",
      "  ammonite.$sess.cell3$Helper.lengthR(\u001b[32mcell3.sc\u001b[39m:\u001b[32m5\u001b[39m)",
      "  ammonite.$sess.cell3$Helper.lengthR(\u001b[32mcell3.sc\u001b[39m:\u001b[32m5\u001b[39m)",
      "  ammonite.$sess.cell3$Helper.lengthR(\u001b[32mcell3.sc\u001b[39m:\u001b[32m5\u001b[39m)",
      "  ammonite.$sess.cell3$Helper.lengthR(\u001b[32mcell3.sc\u001b[39m:\u001b[32m5\u001b[39m)",
      "  ammonite.$sess.cell3$Helper.lengthR(\u001b[32mcell3.sc\u001b[39m:\u001b[32m5\u001b[39m)",
      "  ammonite.$sess.cell3$Helper.lengthR(\u001b[32mcell3.sc\u001b[39m:\u001b[32m5\u001b[39m)",
      "  ammonite.$sess.cell3$Helper.lengthR(\u001b[32mcell3.sc\u001b[39m:\u001b[32m5\u001b[39m)",
      "  ammonite.$sess.cell3$Helper.lengthR(\u001b[32mcell3.sc\u001b[39m:\u001b[32m5\u001b[39m)",
      "  ammonite.$sess.cell3$Helper.lengthR(\u001b[32mcell3.sc\u001b[39m:\u001b[32m5\u001b[39m)",
      "  ammonite.$sess.cell3$Helper.lengthR(\u001b[32mcell3.sc\u001b[39m:\u001b[32m5\u001b[39m)",
      "  ammonite.$sess.cell3$Helper.lengthR(\u001b[32mcell3.sc\u001b[39m:\u001b[32m5\u001b[39m)",
      "  ammonite.$sess.cell3$Helper.lengthR(\u001b[32mcell3.sc\u001b[39m:\u001b[32m5\u001b[39m)",
      "  ammonite.$sess.cell3$Helper.lengthR(\u001b[32mcell3.sc\u001b[39m:\u001b[32m5\u001b[39m)",
      "  ammonite.$sess.cell3$Helper.lengthR(\u001b[32mcell3.sc\u001b[39m:\u001b[32m5\u001b[39m)",
      "  ammonite.$sess.cell3$Helper.lengthR(\u001b[32mcell3.sc\u001b[39m:\u001b[32m5\u001b[39m)",
      "  ammonite.$sess.cell3$Helper.lengthR(\u001b[32mcell3.sc\u001b[39m:\u001b[32m5\u001b[39m)",
      "  ammonite.$sess.cell3$Helper.lengthR(\u001b[32mcell3.sc\u001b[39m:\u001b[32m5\u001b[39m)",
      "  ammonite.$sess.cell3$Helper.lengthR(\u001b[32mcell3.sc\u001b[39m:\u001b[32m5\u001b[39m)",
      "  ammonite.$sess.cell3$Helper.lengthR(\u001b[32mcell3.sc\u001b[39m:\u001b[32m5\u001b[39m)",
      "  ammonite.$sess.cell3$Helper.lengthR(\u001b[32mcell3.sc\u001b[39m:\u001b[32m5\u001b[39m)",
      "  ammonite.$sess.cell3$Helper.lengthR(\u001b[32mcell3.sc\u001b[39m:\u001b[32m5\u001b[39m)",
      "  ammonite.$sess.cell3$Helper.lengthR(\u001b[32mcell3.sc\u001b[39m:\u001b[32m5\u001b[39m)",
      "  ammonite.$sess.cell3$Helper.lengthR(\u001b[32mcell3.sc\u001b[39m:\u001b[32m5\u001b[39m)",
      "  ammonite.$sess.cell3$Helper.lengthR(\u001b[32mcell3.sc\u001b[39m:\u001b[32m5\u001b[39m)",
      "  ammonite.$sess.cell3$Helper.lengthR(\u001b[32mcell3.sc\u001b[39m:\u001b[32m5\u001b[39m)",
      "  ammonite.$sess.cell3$Helper.lengthR(\u001b[32mcell3.sc\u001b[39m:\u001b[32m5\u001b[39m)",
      "  ammonite.$sess.cell3$Helper.lengthR(\u001b[32mcell3.sc\u001b[39m:\u001b[32m5\u001b[39m)",
      "  ammonite.$sess.cell3$Helper.lengthR(\u001b[32mcell3.sc\u001b[39m:\u001b[32m5\u001b[39m)",
      "  ammonite.$sess.cell3$Helper.lengthR(\u001b[32mcell3.sc\u001b[39m:\u001b[32m5\u001b[39m)",
      "  ammonite.$sess.cell3$Helper.lengthR(\u001b[32mcell3.sc\u001b[39m:\u001b[32m5\u001b[39m)",
      "  ammonite.$sess.cell3$Helper.lengthR(\u001b[32mcell3.sc\u001b[39m:\u001b[32m5\u001b[39m)",
      "  ammonite.$sess.cell3$Helper.lengthR(\u001b[32mcell3.sc\u001b[39m:\u001b[32m5\u001b[39m)",
      "  ammonite.$sess.cell3$Helper.lengthR(\u001b[32mcell3.sc\u001b[39m:\u001b[32m5\u001b[39m)",
      "  ammonite.$sess.cell3$Helper.lengthR(\u001b[32mcell3.sc\u001b[39m:\u001b[32m5\u001b[39m)",
      "  ammonite.$sess.cell3$Helper.lengthR(\u001b[32mcell3.sc\u001b[39m:\u001b[32m5\u001b[39m)",
      "  ammonite.$sess.cell3$Helper.lengthR(\u001b[32mcell3.sc\u001b[39m:\u001b[32m5\u001b[39m)",
      "  ammonite.$sess.cell3$Helper.lengthR(\u001b[32mcell3.sc\u001b[39m:\u001b[32m5\u001b[39m)",
      "  ammonite.$sess.cell3$Helper.lengthR(\u001b[32mcell3.sc\u001b[39m:\u001b[32m5\u001b[39m)",
      "  ammonite.$sess.cell3$Helper.lengthR(\u001b[32mcell3.sc\u001b[39m:\u001b[32m5\u001b[39m)",
      "  ammonite.$sess.cell3$Helper.lengthR(\u001b[32mcell3.sc\u001b[39m:\u001b[32m5\u001b[39m)",
      "  ammonite.$sess.cell3$Helper.lengthR(\u001b[32mcell3.sc\u001b[39m:\u001b[32m5\u001b[39m)",
      "  ammonite.$sess.cell3$Helper.lengthR(\u001b[32mcell3.sc\u001b[39m:\u001b[32m5\u001b[39m)",
      "  ammonite.$sess.cell3$Helper.lengthR(\u001b[32mcell3.sc\u001b[39m:\u001b[32m5\u001b[39m)",
      "  ammonite.$sess.cell3$Helper.lengthR(\u001b[32mcell3.sc\u001b[39m:\u001b[32m5\u001b[39m)",
      "  ammonite.$sess.cell3$Helper.lengthR(\u001b[32mcell3.sc\u001b[39m:\u001b[32m5\u001b[39m)",
      "  ammonite.$sess.cell3$Helper.lengthR(\u001b[32mcell3.sc\u001b[39m:\u001b[32m5\u001b[39m)",
      "  ammonite.$sess.cell3$Helper.lengthR(\u001b[32mcell3.sc\u001b[39m:\u001b[32m5\u001b[39m)",
      "  ammonite.$sess.cell3$Helper.lengthR(\u001b[32mcell3.sc\u001b[39m:\u001b[32m5\u001b[39m)",
      "  ammonite.$sess.cell3$Helper.lengthR(\u001b[32mcell3.sc\u001b[39m:\u001b[32m5\u001b[39m)",
      "  ammonite.$sess.cell3$Helper.lengthR(\u001b[32mcell3.sc\u001b[39m:\u001b[32m5\u001b[39m)",
      "  ammonite.$sess.cell3$Helper.lengthR(\u001b[32mcell3.sc\u001b[39m:\u001b[32m5\u001b[39m)",
      "  ammonite.$sess.cell3$Helper.lengthR(\u001b[32mcell3.sc\u001b[39m:\u001b[32m5\u001b[39m)",
      "  ammonite.$sess.cell3$Helper.lengthR(\u001b[32mcell3.sc\u001b[39m:\u001b[32m5\u001b[39m)",
      "  ammonite.$sess.cell3$Helper.lengthR(\u001b[32mcell3.sc\u001b[39m:\u001b[32m5\u001b[39m)",
      "  ammonite.$sess.cell3$Helper.lengthR(\u001b[32mcell3.sc\u001b[39m:\u001b[32m5\u001b[39m)",
      "  ammonite.$sess.cell3$Helper.lengthR(\u001b[32mcell3.sc\u001b[39m:\u001b[32m5\u001b[39m)",
      "  ammonite.$sess.cell3$Helper.lengthR(\u001b[32mcell3.sc\u001b[39m:\u001b[32m5\u001b[39m)",
      "  ammonite.$sess.cell3$Helper.lengthR(\u001b[32mcell3.sc\u001b[39m:\u001b[32m5\u001b[39m)",
      "  ammonite.$sess.cell3$Helper.lengthR(\u001b[32mcell3.sc\u001b[39m:\u001b[32m5\u001b[39m)",
      "  ammonite.$sess.cell3$Helper.lengthR(\u001b[32mcell3.sc\u001b[39m:\u001b[32m5\u001b[39m)",
      "  ammonite.$sess.cell3$Helper.lengthR(\u001b[32mcell3.sc\u001b[39m:\u001b[32m5\u001b[39m)",
      "  ammonite.$sess.cell3$Helper.lengthR(\u001b[32mcell3.sc\u001b[39m:\u001b[32m5\u001b[39m)",
      "  ammonite.$sess.cell3$Helper.lengthR(\u001b[32mcell3.sc\u001b[39m:\u001b[32m5\u001b[39m)",
      "  ammonite.$sess.cell3$Helper.lengthR(\u001b[32mcell3.sc\u001b[39m:\u001b[32m5\u001b[39m)",
      "  ammonite.$sess.cell3$Helper.lengthR(\u001b[32mcell3.sc\u001b[39m:\u001b[32m5\u001b[39m)",
      "  ammonite.$sess.cell3$Helper.lengthR(\u001b[32mcell3.sc\u001b[39m:\u001b[32m5\u001b[39m)",
      "  ammonite.$sess.cell3$Helper.lengthR(\u001b[32mcell3.sc\u001b[39m:\u001b[32m5\u001b[39m)",
      "  ammonite.$sess.cell3$Helper.lengthR(\u001b[32mcell3.sc\u001b[39m:\u001b[32m5\u001b[39m)",
      "  ammonite.$sess.cell3$Helper.lengthR(\u001b[32mcell3.sc\u001b[39m:\u001b[32m5\u001b[39m)",
      "  ammonite.$sess.cell3$Helper.lengthR(\u001b[32mcell3.sc\u001b[39m:\u001b[32m5\u001b[39m)",
      "  ammonite.$sess.cell3$Helper.lengthR(\u001b[32mcell3.sc\u001b[39m:\u001b[32m5\u001b[39m)",
      "  ammonite.$sess.cell3$Helper.lengthR(\u001b[32mcell3.sc\u001b[39m:\u001b[32m5\u001b[39m)",
      "  ammonite.$sess.cell3$Helper.lengthR(\u001b[32mcell3.sc\u001b[39m:\u001b[32m5\u001b[39m)",
      "  ammonite.$sess.cell3$Helper.lengthR(\u001b[32mcell3.sc\u001b[39m:\u001b[32m5\u001b[39m)",
      "  ammonite.$sess.cell3$Helper.lengthR(\u001b[32mcell3.sc\u001b[39m:\u001b[32m5\u001b[39m)",
      "  ammonite.$sess.cell3$Helper.lengthR(\u001b[32mcell3.sc\u001b[39m:\u001b[32m5\u001b[39m)",
      "  ammonite.$sess.cell3$Helper.lengthR(\u001b[32mcell3.sc\u001b[39m:\u001b[32m5\u001b[39m)",
      "  ammonite.$sess.cell3$Helper.lengthR(\u001b[32mcell3.sc\u001b[39m:\u001b[32m5\u001b[39m)",
      "  ammonite.$sess.cell3$Helper.lengthR(\u001b[32mcell3.sc\u001b[39m:\u001b[32m5\u001b[39m)",
      "  ammonite.$sess.cell3$Helper.lengthR(\u001b[32mcell3.sc\u001b[39m:\u001b[32m5\u001b[39m)",
      "  ammonite.$sess.cell3$Helper.lengthR(\u001b[32mcell3.sc\u001b[39m:\u001b[32m5\u001b[39m)",
      "  ammonite.$sess.cell3$Helper.lengthR(\u001b[32mcell3.sc\u001b[39m:\u001b[32m5\u001b[39m)",
      "  ammonite.$sess.cell3$Helper.lengthR(\u001b[32mcell3.sc\u001b[39m:\u001b[32m5\u001b[39m)",
      "  ammonite.$sess.cell3$Helper.lengthR(\u001b[32mcell3.sc\u001b[39m:\u001b[32m5\u001b[39m)",
      "  ammonite.$sess.cell3$Helper.lengthR(\u001b[32mcell3.sc\u001b[39m:\u001b[32m5\u001b[39m)",
      "  ammonite.$sess.cell3$Helper.lengthR(\u001b[32mcell3.sc\u001b[39m:\u001b[32m5\u001b[39m)",
      "  ammonite.$sess.cell3$Helper.lengthR(\u001b[32mcell3.sc\u001b[39m:\u001b[32m5\u001b[39m)",
      "  ammonite.$sess.cell3$Helper.lengthR(\u001b[32mcell3.sc\u001b[39m:\u001b[32m5\u001b[39m)",
      "  ammonite.$sess.cell3$Helper.lengthR(\u001b[32mcell3.sc\u001b[39m:\u001b[32m5\u001b[39m)",
      "  ammonite.$sess.cell3$Helper.lengthR(\u001b[32mcell3.sc\u001b[39m:\u001b[32m5\u001b[39m)",
      "  ammonite.$sess.cell3$Helper.lengthR(\u001b[32mcell3.sc\u001b[39m:\u001b[32m5\u001b[39m)",
      "  ammonite.$sess.cell3$Helper.lengthR(\u001b[32mcell3.sc\u001b[39m:\u001b[32m5\u001b[39m)",
      "  ammonite.$sess.cell3$Helper.lengthR(\u001b[32mcell3.sc\u001b[39m:\u001b[32m5\u001b[39m)",
      "  ammonite.$sess.cell3$Helper.lengthR(\u001b[32mcell3.sc\u001b[39m:\u001b[32m5\u001b[39m)",
      "  ammonite.$sess.cell3$Helper.lengthR(\u001b[32mcell3.sc\u001b[39m:\u001b[32m5\u001b[39m)",
      "  ammonite.$sess.cell3$Helper.lengthR(\u001b[32mcell3.sc\u001b[39m:\u001b[32m5\u001b[39m)",
      "  ammonite.$sess.cell3$Helper.lengthR(\u001b[32mcell3.sc\u001b[39m:\u001b[32m5\u001b[39m)",
      "  ammonite.$sess.cell3$Helper.lengthR(\u001b[32mcell3.sc\u001b[39m:\u001b[32m5\u001b[39m)",
      "  ammonite.$sess.cell3$Helper.lengthR(\u001b[32mcell3.sc\u001b[39m:\u001b[32m5\u001b[39m)",
      "  ammonite.$sess.cell3$Helper.lengthR(\u001b[32mcell3.sc\u001b[39m:\u001b[32m5\u001b[39m)",
      "  ammonite.$sess.cell3$Helper.lengthR(\u001b[32mcell3.sc\u001b[39m:\u001b[32m5\u001b[39m)",
      "  ammonite.$sess.cell3$Helper.lengthR(\u001b[32mcell3.sc\u001b[39m:\u001b[32m5\u001b[39m)",
      "  ammonite.$sess.cell3$Helper.lengthR(\u001b[32mcell3.sc\u001b[39m:\u001b[32m5\u001b[39m)",
      "  ammonite.$sess.cell3$Helper.lengthR(\u001b[32mcell3.sc\u001b[39m:\u001b[32m5\u001b[39m)",
      "  ammonite.$sess.cell3$Helper.lengthR(\u001b[32mcell3.sc\u001b[39m:\u001b[32m5\u001b[39m)",
      "  ammonite.$sess.cell3$Helper.lengthR(\u001b[32mcell3.sc\u001b[39m:\u001b[32m5\u001b[39m)",
      "  ammonite.$sess.cell3$Helper.lengthR(\u001b[32mcell3.sc\u001b[39m:\u001b[32m5\u001b[39m)",
      "  ammonite.$sess.cell3$Helper.lengthR(\u001b[32mcell3.sc\u001b[39m:\u001b[32m5\u001b[39m)",
      "  ammonite.$sess.cell3$Helper.lengthR(\u001b[32mcell3.sc\u001b[39m:\u001b[32m5\u001b[39m)",
      "  ammonite.$sess.cell3$Helper.lengthR(\u001b[32mcell3.sc\u001b[39m:\u001b[32m5\u001b[39m)",
      "  ammonite.$sess.cell3$Helper.lengthR(\u001b[32mcell3.sc\u001b[39m:\u001b[32m5\u001b[39m)",
      "  ammonite.$sess.cell3$Helper.lengthR(\u001b[32mcell3.sc\u001b[39m:\u001b[32m5\u001b[39m)",
      "  ammonite.$sess.cell3$Helper.lengthR(\u001b[32mcell3.sc\u001b[39m:\u001b[32m5\u001b[39m)",
      "  ammonite.$sess.cell3$Helper.lengthR(\u001b[32mcell3.sc\u001b[39m:\u001b[32m5\u001b[39m)",
      "  ammonite.$sess.cell3$Helper.lengthR(\u001b[32mcell3.sc\u001b[39m:\u001b[32m5\u001b[39m)",
      "  ammonite.$sess.cell3$Helper.lengthR(\u001b[32mcell3.sc\u001b[39m:\u001b[32m5\u001b[39m)",
      "  ammonite.$sess.cell3$Helper.lengthR(\u001b[32mcell3.sc\u001b[39m:\u001b[32m5\u001b[39m)",
      "  ammonite.$sess.cell3$Helper.lengthR(\u001b[32mcell3.sc\u001b[39m:\u001b[32m5\u001b[39m)",
      "  ammonite.$sess.cell3$Helper.lengthR(\u001b[32mcell3.sc\u001b[39m:\u001b[32m5\u001b[39m)",
      "  ammonite.$sess.cell3$Helper.lengthR(\u001b[32mcell3.sc\u001b[39m:\u001b[32m5\u001b[39m)",
      "  ammonite.$sess.cell3$Helper.lengthR(\u001b[32mcell3.sc\u001b[39m:\u001b[32m5\u001b[39m)",
      "  ammonite.$sess.cell3$Helper.lengthR(\u001b[32mcell3.sc\u001b[39m:\u001b[32m5\u001b[39m)",
      "  ammonite.$sess.cell3$Helper.lengthR(\u001b[32mcell3.sc\u001b[39m:\u001b[32m5\u001b[39m)",
      "  ammonite.$sess.cell3$Helper.lengthR(\u001b[32mcell3.sc\u001b[39m:\u001b[32m5\u001b[39m)",
      "  ammonite.$sess.cell3$Helper.lengthR(\u001b[32mcell3.sc\u001b[39m:\u001b[32m5\u001b[39m)",
      "  ammonite.$sess.cell3$Helper.lengthR(\u001b[32mcell3.sc\u001b[39m:\u001b[32m5\u001b[39m)",
      "  ammonite.$sess.cell3$Helper.lengthR(\u001b[32mcell3.sc\u001b[39m:\u001b[32m5\u001b[39m)",
      "  ammonite.$sess.cell3$Helper.lengthR(\u001b[32mcell3.sc\u001b[39m:\u001b[32m5\u001b[39m)",
      "  ammonite.$sess.cell3$Helper.lengthR(\u001b[32mcell3.sc\u001b[39m:\u001b[32m5\u001b[39m)",
      "  ammonite.$sess.cell3$Helper.lengthR(\u001b[32mcell3.sc\u001b[39m:\u001b[32m5\u001b[39m)",
      "  ammonite.$sess.cell3$Helper.lengthR(\u001b[32mcell3.sc\u001b[39m:\u001b[32m5\u001b[39m)",
      "  ammonite.$sess.cell3$Helper.lengthR(\u001b[32mcell3.sc\u001b[39m:\u001b[32m5\u001b[39m)",
      "  ammonite.$sess.cell3$Helper.lengthR(\u001b[32mcell3.sc\u001b[39m:\u001b[32m5\u001b[39m)",
      "  ammonite.$sess.cell3$Helper.lengthR(\u001b[32mcell3.sc\u001b[39m:\u001b[32m5\u001b[39m)",
      "  ammonite.$sess.cell3$Helper.lengthR(\u001b[32mcell3.sc\u001b[39m:\u001b[32m5\u001b[39m)",
      "  ammonite.$sess.cell3$Helper.lengthR(\u001b[32mcell3.sc\u001b[39m:\u001b[32m5\u001b[39m)",
      "  ammonite.$sess.cell3$Helper.lengthR(\u001b[32mcell3.sc\u001b[39m:\u001b[32m5\u001b[39m)",
      "  ammonite.$sess.cell3$Helper.lengthR(\u001b[32mcell3.sc\u001b[39m:\u001b[32m5\u001b[39m)",
      "  ammonite.$sess.cell3$Helper.lengthR(\u001b[32mcell3.sc\u001b[39m:\u001b[32m5\u001b[39m)",
      "  ammonite.$sess.cell3$Helper.lengthR(\u001b[32mcell3.sc\u001b[39m:\u001b[32m5\u001b[39m)",
      "  ammonite.$sess.cell3$Helper.lengthR(\u001b[32mcell3.sc\u001b[39m:\u001b[32m5\u001b[39m)",
      "  ammonite.$sess.cell3$Helper.lengthR(\u001b[32mcell3.sc\u001b[39m:\u001b[32m5\u001b[39m)",
      "  ammonite.$sess.cell3$Helper.lengthR(\u001b[32mcell3.sc\u001b[39m:\u001b[32m5\u001b[39m)",
      "  ammonite.$sess.cell3$Helper.lengthR(\u001b[32mcell3.sc\u001b[39m:\u001b[32m5\u001b[39m)",
      "  ammonite.$sess.cell3$Helper.lengthR(\u001b[32mcell3.sc\u001b[39m:\u001b[32m5\u001b[39m)",
      "  ammonite.$sess.cell3$Helper.lengthR(\u001b[32mcell3.sc\u001b[39m:\u001b[32m5\u001b[39m)",
      "  ammonite.$sess.cell3$Helper.lengthR(\u001b[32mcell3.sc\u001b[39m:\u001b[32m5\u001b[39m)",
      "  ammonite.$sess.cell3$Helper.lengthR(\u001b[32mcell3.sc\u001b[39m:\u001b[32m5\u001b[39m)",
      "  ammonite.$sess.cell3$Helper.lengthR(\u001b[32mcell3.sc\u001b[39m:\u001b[32m5\u001b[39m)",
      "  ammonite.$sess.cell3$Helper.lengthR(\u001b[32mcell3.sc\u001b[39m:\u001b[32m5\u001b[39m)",
      "  ammonite.$sess.cell3$Helper.lengthR(\u001b[32mcell3.sc\u001b[39m:\u001b[32m5\u001b[39m)",
      "  ammonite.$sess.cell3$Helper.lengthR(\u001b[32mcell3.sc\u001b[39m:\u001b[32m5\u001b[39m)",
      "  ammonite.$sess.cell3$Helper.lengthR(\u001b[32mcell3.sc\u001b[39m:\u001b[32m5\u001b[39m)",
      "  ammonite.$sess.cell3$Helper.lengthR(\u001b[32mcell3.sc\u001b[39m:\u001b[32m5\u001b[39m)",
      "  ammonite.$sess.cell3$Helper.lengthR(\u001b[32mcell3.sc\u001b[39m:\u001b[32m5\u001b[39m)",
      "  ammonite.$sess.cell3$Helper.lengthR(\u001b[32mcell3.sc\u001b[39m:\u001b[32m5\u001b[39m)",
      "  ammonite.$sess.cell3$Helper.lengthR(\u001b[32mcell3.sc\u001b[39m:\u001b[32m5\u001b[39m)",
      "  ammonite.$sess.cell3$Helper.lengthR(\u001b[32mcell3.sc\u001b[39m:\u001b[32m5\u001b[39m)",
      "  ammonite.$sess.cell3$Helper.lengthR(\u001b[32mcell3.sc\u001b[39m:\u001b[32m5\u001b[39m)",
      "  ammonite.$sess.cell3$Helper.lengthR(\u001b[32mcell3.sc\u001b[39m:\u001b[32m5\u001b[39m)",
      "  ammonite.$sess.cell3$Helper.lengthR(\u001b[32mcell3.sc\u001b[39m:\u001b[32m5\u001b[39m)",
      "  ammonite.$sess.cell3$Helper.lengthR(\u001b[32mcell3.sc\u001b[39m:\u001b[32m5\u001b[39m)",
      "  ammonite.$sess.cell3$Helper.lengthR(\u001b[32mcell3.sc\u001b[39m:\u001b[32m5\u001b[39m)",
      "  ammonite.$sess.cell3$Helper.lengthR(\u001b[32mcell3.sc\u001b[39m:\u001b[32m5\u001b[39m)",
      "  ammonite.$sess.cell3$Helper.lengthR(\u001b[32mcell3.sc\u001b[39m:\u001b[32m5\u001b[39m)",
      "  ammonite.$sess.cell3$Helper.lengthR(\u001b[32mcell3.sc\u001b[39m:\u001b[32m5\u001b[39m)",
      "  ammonite.$sess.cell3$Helper.lengthR(\u001b[32mcell3.sc\u001b[39m:\u001b[32m5\u001b[39m)",
      "  ammonite.$sess.cell3$Helper.lengthR(\u001b[32mcell3.sc\u001b[39m:\u001b[32m5\u001b[39m)",
      "  ammonite.$sess.cell3$Helper.lengthR(\u001b[32mcell3.sc\u001b[39m:\u001b[32m5\u001b[39m)",
      "  ammonite.$sess.cell3$Helper.lengthR(\u001b[32mcell3.sc\u001b[39m:\u001b[32m5\u001b[39m)",
      "  ammonite.$sess.cell3$Helper.lengthR(\u001b[32mcell3.sc\u001b[39m:\u001b[32m5\u001b[39m)",
      "  ammonite.$sess.cell3$Helper.lengthR(\u001b[32mcell3.sc\u001b[39m:\u001b[32m5\u001b[39m)",
      "  ammonite.$sess.cell3$Helper.lengthR(\u001b[32mcell3.sc\u001b[39m:\u001b[32m5\u001b[39m)",
      "  ammonite.$sess.cell3$Helper.lengthR(\u001b[32mcell3.sc\u001b[39m:\u001b[32m5\u001b[39m)",
      "  ammonite.$sess.cell3$Helper.lengthR(\u001b[32mcell3.sc\u001b[39m:\u001b[32m5\u001b[39m)",
      "  ammonite.$sess.cell3$Helper.lengthR(\u001b[32mcell3.sc\u001b[39m:\u001b[32m5\u001b[39m)",
      "  ammonite.$sess.cell3$Helper.lengthR(\u001b[32mcell3.sc\u001b[39m:\u001b[32m5\u001b[39m)",
      "  ammonite.$sess.cell3$Helper.lengthR(\u001b[32mcell3.sc\u001b[39m:\u001b[32m5\u001b[39m)",
      "  ammonite.$sess.cell3$Helper.lengthR(\u001b[32mcell3.sc\u001b[39m:\u001b[32m5\u001b[39m)",
      "  ammonite.$sess.cell3$Helper.lengthR(\u001b[32mcell3.sc\u001b[39m:\u001b[32m5\u001b[39m)",
      "  ammonite.$sess.cell3$Helper.lengthR(\u001b[32mcell3.sc\u001b[39m:\u001b[32m5\u001b[39m)",
      "  ammonite.$sess.cell3$Helper.lengthR(\u001b[32mcell3.sc\u001b[39m:\u001b[32m5\u001b[39m)",
      "  ammonite.$sess.cell3$Helper.lengthR(\u001b[32mcell3.sc\u001b[39m:\u001b[32m5\u001b[39m)",
      "  ammonite.$sess.cell3$Helper.lengthR(\u001b[32mcell3.sc\u001b[39m:\u001b[32m5\u001b[39m)",
      "  ammonite.$sess.cell3$Helper.lengthR(\u001b[32mcell3.sc\u001b[39m:\u001b[32m5\u001b[39m)",
      "  ammonite.$sess.cell3$Helper.lengthR(\u001b[32mcell3.sc\u001b[39m:\u001b[32m5\u001b[39m)",
      "  ammonite.$sess.cell3$Helper.lengthR(\u001b[32mcell3.sc\u001b[39m:\u001b[32m5\u001b[39m)",
      "  ammonite.$sess.cell3$Helper.lengthR(\u001b[32mcell3.sc\u001b[39m:\u001b[32m5\u001b[39m)",
      "  ammonite.$sess.cell3$Helper.lengthR(\u001b[32mcell3.sc\u001b[39m:\u001b[32m5\u001b[39m)",
      "  ammonite.$sess.cell3$Helper.lengthR(\u001b[32mcell3.sc\u001b[39m:\u001b[32m5\u001b[39m)",
      "  ammonite.$sess.cell3$Helper.lengthR(\u001b[32mcell3.sc\u001b[39m:\u001b[32m5\u001b[39m)",
      "  ammonite.$sess.cell3$Helper.lengthR(\u001b[32mcell3.sc\u001b[39m:\u001b[32m5\u001b[39m)",
      "  ammonite.$sess.cell3$Helper.lengthR(\u001b[32mcell3.sc\u001b[39m:\u001b[32m5\u001b[39m)",
      "  ammonite.$sess.cell3$Helper.lengthR(\u001b[32mcell3.sc\u001b[39m:\u001b[32m5\u001b[39m)",
      "  ammonite.$sess.cell3$Helper.lengthR(\u001b[32mcell3.sc\u001b[39m:\u001b[32m5\u001b[39m)",
      "  ammonite.$sess.cell3$Helper.lengthR(\u001b[32mcell3.sc\u001b[39m:\u001b[32m5\u001b[39m)",
      "  ammonite.$sess.cell3$Helper.lengthR(\u001b[32mcell3.sc\u001b[39m:\u001b[32m5\u001b[39m)",
      "  ammonite.$sess.cell3$Helper.lengthR(\u001b[32mcell3.sc\u001b[39m:\u001b[32m5\u001b[39m)",
      "  ammonite.$sess.cell3$Helper.lengthR(\u001b[32mcell3.sc\u001b[39m:\u001b[32m5\u001b[39m)",
      "  ammonite.$sess.cell3$Helper.lengthR(\u001b[32mcell3.sc\u001b[39m:\u001b[32m5\u001b[39m)",
      "  ammonite.$sess.cell3$Helper.lengthR(\u001b[32mcell3.sc\u001b[39m:\u001b[32m5\u001b[39m)",
      "  ammonite.$sess.cell3$Helper.lengthR(\u001b[32mcell3.sc\u001b[39m:\u001b[32m5\u001b[39m)",
      "  ammonite.$sess.cell3$Helper.lengthR(\u001b[32mcell3.sc\u001b[39m:\u001b[32m5\u001b[39m)",
      "  ammonite.$sess.cell3$Helper.lengthR(\u001b[32mcell3.sc\u001b[39m:\u001b[32m5\u001b[39m)",
      "  ammonite.$sess.cell3$Helper.lengthR(\u001b[32mcell3.sc\u001b[39m:\u001b[32m5\u001b[39m)",
      "  ammonite.$sess.cell3$Helper.lengthR(\u001b[32mcell3.sc\u001b[39m:\u001b[32m5\u001b[39m)",
      "  ammonite.$sess.cell3$Helper.lengthR(\u001b[32mcell3.sc\u001b[39m:\u001b[32m5\u001b[39m)",
      "  ammonite.$sess.cell3$Helper.lengthR(\u001b[32mcell3.sc\u001b[39m:\u001b[32m5\u001b[39m)",
      "  ammonite.$sess.cell3$Helper.lengthR(\u001b[32mcell3.sc\u001b[39m:\u001b[32m5\u001b[39m)",
      "  ammonite.$sess.cell3$Helper.lengthR(\u001b[32mcell3.sc\u001b[39m:\u001b[32m5\u001b[39m)",
      "  ammonite.$sess.cell3$Helper.lengthR(\u001b[32mcell3.sc\u001b[39m:\u001b[32m5\u001b[39m)",
      "  ammonite.$sess.cell3$Helper.lengthR(\u001b[32mcell3.sc\u001b[39m:\u001b[32m5\u001b[39m)",
      "  ammonite.$sess.cell3$Helper.lengthR(\u001b[32mcell3.sc\u001b[39m:\u001b[32m5\u001b[39m)",
      "  ammonite.$sess.cell3$Helper.lengthR(\u001b[32mcell3.sc\u001b[39m:\u001b[32m5\u001b[39m)",
      "  ammonite.$sess.cell3$Helper.lengthR(\u001b[32mcell3.sc\u001b[39m:\u001b[32m5\u001b[39m)",
      "  ammonite.$sess.cell3$Helper.lengthR(\u001b[32mcell3.sc\u001b[39m:\u001b[32m5\u001b[39m)",
      "  ammonite.$sess.cell3$Helper.lengthR(\u001b[32mcell3.sc\u001b[39m:\u001b[32m5\u001b[39m)",
      "  ammonite.$sess.cell3$Helper.lengthR(\u001b[32mcell3.sc\u001b[39m:\u001b[32m5\u001b[39m)",
      "  ammonite.$sess.cell3$Helper.lengthR(\u001b[32mcell3.sc\u001b[39m:\u001b[32m5\u001b[39m)",
      "  ammonite.$sess.cell3$Helper.lengthR(\u001b[32mcell3.sc\u001b[39m:\u001b[32m5\u001b[39m)",
      "  ammonite.$sess.cell3$Helper.lengthR(\u001b[32mcell3.sc\u001b[39m:\u001b[32m5\u001b[39m)",
      "  ammonite.$sess.cell3$Helper.lengthR(\u001b[32mcell3.sc\u001b[39m:\u001b[32m5\u001b[39m)",
      "  ammonite.$sess.cell3$Helper.lengthR(\u001b[32mcell3.sc\u001b[39m:\u001b[32m5\u001b[39m)",
      "  ammonite.$sess.cell3$Helper.lengthR(\u001b[32mcell3.sc\u001b[39m:\u001b[32m5\u001b[39m)",
      "  ammonite.$sess.cell3$Helper.lengthR(\u001b[32mcell3.sc\u001b[39m:\u001b[32m5\u001b[39m)",
      "  ammonite.$sess.cell3$Helper.lengthR(\u001b[32mcell3.sc\u001b[39m:\u001b[32m5\u001b[39m)",
      "  ammonite.$sess.cell3$Helper.lengthR(\u001b[32mcell3.sc\u001b[39m:\u001b[32m5\u001b[39m)",
      "  ammonite.$sess.cell3$Helper.lengthR(\u001b[32mcell3.sc\u001b[39m:\u001b[32m5\u001b[39m)",
      "  ammonite.$sess.cell3$Helper.lengthR(\u001b[32mcell3.sc\u001b[39m:\u001b[32m5\u001b[39m)",
      "  ammonite.$sess.cell3$Helper.lengthR(\u001b[32mcell3.sc\u001b[39m:\u001b[32m5\u001b[39m)",
      "  ammonite.$sess.cell3$Helper.lengthR(\u001b[32mcell3.sc\u001b[39m:\u001b[32m5\u001b[39m)",
      "  ammonite.$sess.cell3$Helper.lengthR(\u001b[32mcell3.sc\u001b[39m:\u001b[32m5\u001b[39m)",
      "  ammonite.$sess.cell3$Helper.lengthR(\u001b[32mcell3.sc\u001b[39m:\u001b[32m5\u001b[39m)",
      "  ammonite.$sess.cell3$Helper.lengthR(\u001b[32mcell3.sc\u001b[39m:\u001b[32m5\u001b[39m)",
      "  ammonite.$sess.cell3$Helper.lengthR(\u001b[32mcell3.sc\u001b[39m:\u001b[32m5\u001b[39m)",
      "  ammonite.$sess.cell3$Helper.lengthR(\u001b[32mcell3.sc\u001b[39m:\u001b[32m5\u001b[39m)",
      "  ammonite.$sess.cell3$Helper.lengthR(\u001b[32mcell3.sc\u001b[39m:\u001b[32m5\u001b[39m)",
      "  ammonite.$sess.cell3$Helper.lengthR(\u001b[32mcell3.sc\u001b[39m:\u001b[32m5\u001b[39m)",
      "  ammonite.$sess.cell3$Helper.lengthR(\u001b[32mcell3.sc\u001b[39m:\u001b[32m5\u001b[39m)",
      "  ammonite.$sess.cell3$Helper.lengthR(\u001b[32mcell3.sc\u001b[39m:\u001b[32m5\u001b[39m)",
      "  ammonite.$sess.cell3$Helper.lengthR(\u001b[32mcell3.sc\u001b[39m:\u001b[32m5\u001b[39m)",
      "  ammonite.$sess.cell3$Helper.lengthR(\u001b[32mcell3.sc\u001b[39m:\u001b[32m5\u001b[39m)",
      "  ammonite.$sess.cell3$Helper.lengthR(\u001b[32mcell3.sc\u001b[39m:\u001b[32m5\u001b[39m)",
      "  ammonite.$sess.cell3$Helper.lengthR(\u001b[32mcell3.sc\u001b[39m:\u001b[32m5\u001b[39m)",
      "  ammonite.$sess.cell3$Helper.lengthR(\u001b[32mcell3.sc\u001b[39m:\u001b[32m5\u001b[39m)",
      "  ammonite.$sess.cell3$Helper.lengthR(\u001b[32mcell3.sc\u001b[39m:\u001b[32m5\u001b[39m)",
      "  ammonite.$sess.cell3$Helper.lengthR(\u001b[32mcell3.sc\u001b[39m:\u001b[32m5\u001b[39m)",
      "  ammonite.$sess.cell3$Helper.lengthR(\u001b[32mcell3.sc\u001b[39m:\u001b[32m5\u001b[39m)",
      "  ammonite.$sess.cell3$Helper.lengthR(\u001b[32mcell3.sc\u001b[39m:\u001b[32m5\u001b[39m)",
      "  ammonite.$sess.cell3$Helper.lengthR(\u001b[32mcell3.sc\u001b[39m:\u001b[32m5\u001b[39m)",
      "  ammonite.$sess.cell3$Helper.lengthR(\u001b[32mcell3.sc\u001b[39m:\u001b[32m5\u001b[39m)",
      "  ammonite.$sess.cell3$Helper.lengthR(\u001b[32mcell3.sc\u001b[39m:\u001b[32m5\u001b[39m)",
      "  ammonite.$sess.cell3$Helper.lengthR(\u001b[32mcell3.sc\u001b[39m:\u001b[32m5\u001b[39m)",
      "  ammonite.$sess.cell3$Helper.lengthR(\u001b[32mcell3.sc\u001b[39m:\u001b[32m5\u001b[39m)",
      "  ammonite.$sess.cell3$Helper.lengthR(\u001b[32mcell3.sc\u001b[39m:\u001b[32m5\u001b[39m)",
      "  ammonite.$sess.cell3$Helper.lengthR(\u001b[32mcell3.sc\u001b[39m:\u001b[32m5\u001b[39m)",
      "  ammonite.$sess.cell3$Helper.lengthR(\u001b[32mcell3.sc\u001b[39m:\u001b[32m5\u001b[39m)",
      "  ammonite.$sess.cell3$Helper.lengthR(\u001b[32mcell3.sc\u001b[39m:\u001b[32m5\u001b[39m)",
      "  ammonite.$sess.cell3$Helper.lengthR(\u001b[32mcell3.sc\u001b[39m:\u001b[32m5\u001b[39m)",
      "  ammonite.$sess.cell3$Helper.lengthR(\u001b[32mcell3.sc\u001b[39m:\u001b[32m5\u001b[39m)",
      "  ammonite.$sess.cell3$Helper.lengthR(\u001b[32mcell3.sc\u001b[39m:\u001b[32m5\u001b[39m)",
      "  ammonite.$sess.cell3$Helper.lengthR(\u001b[32mcell3.sc\u001b[39m:\u001b[32m5\u001b[39m)",
      "  ammonite.$sess.cell3$Helper.lengthR(\u001b[32mcell3.sc\u001b[39m:\u001b[32m5\u001b[39m)",
      "  ammonite.$sess.cell3$Helper.lengthR(\u001b[32mcell3.sc\u001b[39m:\u001b[32m5\u001b[39m)",
      "  ammonite.$sess.cell3$Helper.lengthR(\u001b[32mcell3.sc\u001b[39m:\u001b[32m5\u001b[39m)",
      "  ammonite.$sess.cell3$Helper.lengthR(\u001b[32mcell3.sc\u001b[39m:\u001b[32m5\u001b[39m)",
      "  ammonite.$sess.cell3$Helper.lengthR(\u001b[32mcell3.sc\u001b[39m:\u001b[32m5\u001b[39m)",
      "  ammonite.$sess.cell3$Helper.lengthR(\u001b[32mcell3.sc\u001b[39m:\u001b[32m5\u001b[39m)",
      "  ammonite.$sess.cell3$Helper.lengthR(\u001b[32mcell3.sc\u001b[39m:\u001b[32m5\u001b[39m)",
      "  ammonite.$sess.cell3$Helper.lengthR(\u001b[32mcell3.sc\u001b[39m:\u001b[32m5\u001b[39m)",
      "  ammonite.$sess.cell3$Helper.lengthR(\u001b[32mcell3.sc\u001b[39m:\u001b[32m5\u001b[39m)",
      "  ammonite.$sess.cell3$Helper.lengthR(\u001b[32mcell3.sc\u001b[39m:\u001b[32m5\u001b[39m)",
      "  ammonite.$sess.cell3$Helper.lengthR(\u001b[32mcell3.sc\u001b[39m:\u001b[32m5\u001b[39m)",
      "  ammonite.$sess.cell3$Helper.lengthR(\u001b[32mcell3.sc\u001b[39m:\u001b[32m5\u001b[39m)",
      "  ammonite.$sess.cell3$Helper.lengthR(\u001b[32mcell3.sc\u001b[39m:\u001b[32m5\u001b[39m)",
      "  ammonite.$sess.cell3$Helper.lengthR(\u001b[32mcell3.sc\u001b[39m:\u001b[32m5\u001b[39m)",
      "  ammonite.$sess.cell3$Helper.lengthR(\u001b[32mcell3.sc\u001b[39m:\u001b[32m5\u001b[39m)",
      "  ammonite.$sess.cell3$Helper.lengthR(\u001b[32mcell3.sc\u001b[39m:\u001b[32m5\u001b[39m)",
      "  ammonite.$sess.cell3$Helper.lengthR(\u001b[32mcell3.sc\u001b[39m:\u001b[32m5\u001b[39m)",
      "  ammonite.$sess.cell3$Helper.lengthR(\u001b[32mcell3.sc\u001b[39m:\u001b[32m5\u001b[39m)",
      "  ammonite.$sess.cell3$Helper.lengthR(\u001b[32mcell3.sc\u001b[39m:\u001b[32m5\u001b[39m)",
      "  ammonite.$sess.cell3$Helper.lengthR(\u001b[32mcell3.sc\u001b[39m:\u001b[32m5\u001b[39m)",
      "  ammonite.$sess.cell3$Helper.lengthR(\u001b[32mcell3.sc\u001b[39m:\u001b[32m5\u001b[39m)",
      "  ammonite.$sess.cell3$Helper.lengthR(\u001b[32mcell3.sc\u001b[39m:\u001b[32m5\u001b[39m)",
      "  ammonite.$sess.cell3$Helper.lengthR(\u001b[32mcell3.sc\u001b[39m:\u001b[32m5\u001b[39m)",
      "  ammonite.$sess.cell3$Helper.lengthR(\u001b[32mcell3.sc\u001b[39m:\u001b[32m5\u001b[39m)",
      "  ammonite.$sess.cell3$Helper.lengthR(\u001b[32mcell3.sc\u001b[39m:\u001b[32m5\u001b[39m)",
      "  ammonite.$sess.cell3$Helper.lengthR(\u001b[32mcell3.sc\u001b[39m:\u001b[32m5\u001b[39m)",
      "  ammonite.$sess.cell3$Helper.lengthR(\u001b[32mcell3.sc\u001b[39m:\u001b[32m5\u001b[39m)",
      "  ammonite.$sess.cell3$Helper.lengthR(\u001b[32mcell3.sc\u001b[39m:\u001b[32m5\u001b[39m)",
      "  ammonite.$sess.cell3$Helper.lengthR(\u001b[32mcell3.sc\u001b[39m:\u001b[32m5\u001b[39m)",
      "  ammonite.$sess.cell3$Helper.lengthR(\u001b[32mcell3.sc\u001b[39m:\u001b[32m5\u001b[39m)",
      "  ammonite.$sess.cell3$Helper.lengthR(\u001b[32mcell3.sc\u001b[39m:\u001b[32m5\u001b[39m)",
      "  ammonite.$sess.cell3$Helper.lengthR(\u001b[32mcell3.sc\u001b[39m:\u001b[32m5\u001b[39m)",
      "  ammonite.$sess.cell3$Helper.lengthR(\u001b[32mcell3.sc\u001b[39m:\u001b[32m5\u001b[39m)",
      "  ammonite.$sess.cell3$Helper.lengthR(\u001b[32mcell3.sc\u001b[39m:\u001b[32m5\u001b[39m)",
      "  ammonite.$sess.cell3$Helper.lengthR(\u001b[32mcell3.sc\u001b[39m:\u001b[32m5\u001b[39m)",
      "  ammonite.$sess.cell3$Helper.lengthR(\u001b[32mcell3.sc\u001b[39m:\u001b[32m5\u001b[39m)",
      "  ammonite.$sess.cell3$Helper.lengthR(\u001b[32mcell3.sc\u001b[39m:\u001b[32m5\u001b[39m)",
      "  ammonite.$sess.cell3$Helper.lengthR(\u001b[32mcell3.sc\u001b[39m:\u001b[32m5\u001b[39m)",
      "  ammonite.$sess.cell3$Helper.lengthR(\u001b[32mcell3.sc\u001b[39m:\u001b[32m5\u001b[39m)",
      "  ammonite.$sess.cell3$Helper.lengthR(\u001b[32mcell3.sc\u001b[39m:\u001b[32m5\u001b[39m)",
      "  ammonite.$sess.cell3$Helper.lengthR(\u001b[32mcell3.sc\u001b[39m:\u001b[32m5\u001b[39m)",
      "  ammonite.$sess.cell3$Helper.lengthR(\u001b[32mcell3.sc\u001b[39m:\u001b[32m5\u001b[39m)",
      "  ammonite.$sess.cell3$Helper.lengthR(\u001b[32mcell3.sc\u001b[39m:\u001b[32m5\u001b[39m)",
      "  ammonite.$sess.cell3$Helper.lengthR(\u001b[32mcell3.sc\u001b[39m:\u001b[32m5\u001b[39m)",
      "  ammonite.$sess.cell3$Helper.lengthR(\u001b[32mcell3.sc\u001b[39m:\u001b[32m5\u001b[39m)",
      "  ammonite.$sess.cell3$Helper.lengthR(\u001b[32mcell3.sc\u001b[39m:\u001b[32m5\u001b[39m)",
      "  ammonite.$sess.cell3$Helper.lengthR(\u001b[32mcell3.sc\u001b[39m:\u001b[32m5\u001b[39m)",
      "  ammonite.$sess.cell3$Helper.lengthR(\u001b[32mcell3.sc\u001b[39m:\u001b[32m5\u001b[39m)",
      "  ammonite.$sess.cell3$Helper.lengthR(\u001b[32mcell3.sc\u001b[39m:\u001b[32m5\u001b[39m)",
      "  ammonite.$sess.cell3$Helper.lengthR(\u001b[32mcell3.sc\u001b[39m:\u001b[32m5\u001b[39m)",
      "  ammonite.$sess.cell3$Helper.lengthR(\u001b[32mcell3.sc\u001b[39m:\u001b[32m5\u001b[39m)",
      "  ammonite.$sess.cell3$Helper.lengthR(\u001b[32mcell3.sc\u001b[39m:\u001b[32m5\u001b[39m)",
      "  ammonite.$sess.cell3$Helper.lengthR(\u001b[32mcell3.sc\u001b[39m:\u001b[32m5\u001b[39m)",
      "  ammonite.$sess.cell3$Helper.lengthR(\u001b[32mcell3.sc\u001b[39m:\u001b[32m5\u001b[39m)",
      "  ammonite.$sess.cell3$Helper.lengthR(\u001b[32mcell3.sc\u001b[39m:\u001b[32m5\u001b[39m)",
      "  ammonite.$sess.cell3$Helper.lengthR(\u001b[32mcell3.sc\u001b[39m:\u001b[32m5\u001b[39m)",
      "  ammonite.$sess.cell3$Helper.lengthR(\u001b[32mcell3.sc\u001b[39m:\u001b[32m5\u001b[39m)",
      "  ammonite.$sess.cell3$Helper.lengthR(\u001b[32mcell3.sc\u001b[39m:\u001b[32m5\u001b[39m)",
      "  ammonite.$sess.cell3$Helper.lengthR(\u001b[32mcell3.sc\u001b[39m:\u001b[32m5\u001b[39m)",
      "  ammonite.$sess.cell3$Helper.lengthR(\u001b[32mcell3.sc\u001b[39m:\u001b[32m5\u001b[39m)",
      "  ammonite.$sess.cell3$Helper.lengthR(\u001b[32mcell3.sc\u001b[39m:\u001b[32m5\u001b[39m)",
      "  ammonite.$sess.cell3$Helper.lengthR(\u001b[32mcell3.sc\u001b[39m:\u001b[32m5\u001b[39m)",
      "  ammonite.$sess.cell3$Helper.lengthR(\u001b[32mcell3.sc\u001b[39m:\u001b[32m5\u001b[39m)",
      "  ammonite.$sess.cell3$Helper.lengthR(\u001b[32mcell3.sc\u001b[39m:\u001b[32m5\u001b[39m)",
      "  ammonite.$sess.cell3$Helper.lengthR(\u001b[32mcell3.sc\u001b[39m:\u001b[32m5\u001b[39m)",
      "  ammonite.$sess.cell3$Helper.lengthR(\u001b[32mcell3.sc\u001b[39m:\u001b[32m5\u001b[39m)",
      "  ammonite.$sess.cell3$Helper.lengthR(\u001b[32mcell3.sc\u001b[39m:\u001b[32m5\u001b[39m)",
      "  ammonite.$sess.cell3$Helper.lengthR(\u001b[32mcell3.sc\u001b[39m:\u001b[32m5\u001b[39m)",
      "  ammonite.$sess.cell3$Helper.lengthR(\u001b[32mcell3.sc\u001b[39m:\u001b[32m5\u001b[39m)",
      "  ammonite.$sess.cell3$Helper.lengthR(\u001b[32mcell3.sc\u001b[39m:\u001b[32m5\u001b[39m)",
      "  ammonite.$sess.cell3$Helper.lengthR(\u001b[32mcell3.sc\u001b[39m:\u001b[32m5\u001b[39m)",
      "  ammonite.$sess.cell3$Helper.lengthR(\u001b[32mcell3.sc\u001b[39m:\u001b[32m5\u001b[39m)",
      "  ammonite.$sess.cell3$Helper.lengthR(\u001b[32mcell3.sc\u001b[39m:\u001b[32m5\u001b[39m)",
      "  ammonite.$sess.cell3$Helper.lengthR(\u001b[32mcell3.sc\u001b[39m:\u001b[32m5\u001b[39m)",
      "  ammonite.$sess.cell3$Helper.lengthR(\u001b[32mcell3.sc\u001b[39m:\u001b[32m5\u001b[39m)",
      "  ammonite.$sess.cell3$Helper.lengthR(\u001b[32mcell3.sc\u001b[39m:\u001b[32m5\u001b[39m)",
      "  ammonite.$sess.cell3$Helper.lengthR(\u001b[32mcell3.sc\u001b[39m:\u001b[32m5\u001b[39m)",
      "  ammonite.$sess.cell3$Helper.lengthR(\u001b[32mcell3.sc\u001b[39m:\u001b[32m5\u001b[39m)",
      "  ammonite.$sess.cell3$Helper.lengthR(\u001b[32mcell3.sc\u001b[39m:\u001b[32m5\u001b[39m)",
      "  ammonite.$sess.cell3$Helper.lengthR(\u001b[32mcell3.sc\u001b[39m:\u001b[32m5\u001b[39m)",
      "  ammonite.$sess.cell3$Helper.lengthR(\u001b[32mcell3.sc\u001b[39m:\u001b[32m5\u001b[39m)",
      "  ammonite.$sess.cell3$Helper.lengthR(\u001b[32mcell3.sc\u001b[39m:\u001b[32m5\u001b[39m)",
      "  ammonite.$sess.cell3$Helper.lengthR(\u001b[32mcell3.sc\u001b[39m:\u001b[32m5\u001b[39m)",
      "  ammonite.$sess.cell3$Helper.lengthR(\u001b[32mcell3.sc\u001b[39m:\u001b[32m5\u001b[39m)",
      "  ammonite.$sess.cell3$Helper.lengthR(\u001b[32mcell3.sc\u001b[39m:\u001b[32m5\u001b[39m)",
      "  ammonite.$sess.cell3$Helper.lengthR(\u001b[32mcell3.sc\u001b[39m:\u001b[32m5\u001b[39m)",
      "  ammonite.$sess.cell3$Helper.lengthR(\u001b[32mcell3.sc\u001b[39m:\u001b[32m5\u001b[39m)",
      "  ammonite.$sess.cell3$Helper.lengthR(\u001b[32mcell3.sc\u001b[39m:\u001b[32m5\u001b[39m)",
      "  ammonite.$sess.cell3$Helper.lengthR(\u001b[32mcell3.sc\u001b[39m:\u001b[32m5\u001b[39m)",
      "  ammonite.$sess.cell3$Helper.lengthR(\u001b[32mcell3.sc\u001b[39m:\u001b[32m5\u001b[39m)",
      "  ammonite.$sess.cell3$Helper.lengthR(\u001b[32mcell3.sc\u001b[39m:\u001b[32m5\u001b[39m)",
      "  ammonite.$sess.cell3$Helper.lengthR(\u001b[32mcell3.sc\u001b[39m:\u001b[32m5\u001b[39m)",
      "  ammonite.$sess.cell3$Helper.lengthR(\u001b[32mcell3.sc\u001b[39m:\u001b[32m5\u001b[39m)",
      "  ammonite.$sess.cell3$Helper.lengthR(\u001b[32mcell3.sc\u001b[39m:\u001b[32m5\u001b[39m)",
      "  ammonite.$sess.cell3$Helper.lengthR(\u001b[32mcell3.sc\u001b[39m:\u001b[32m5\u001b[39m)",
      "  ammonite.$sess.cell3$Helper.lengthR(\u001b[32mcell3.sc\u001b[39m:\u001b[32m5\u001b[39m)",
      "  ammonite.$sess.cell3$Helper.lengthR(\u001b[32mcell3.sc\u001b[39m:\u001b[32m5\u001b[39m)",
      "  ammonite.$sess.cell3$Helper.lengthR(\u001b[32mcell3.sc\u001b[39m:\u001b[32m5\u001b[39m)",
      "  ammonite.$sess.cell3$Helper.lengthR(\u001b[32mcell3.sc\u001b[39m:\u001b[32m5\u001b[39m)",
      "  ammonite.$sess.cell3$Helper.lengthR(\u001b[32mcell3.sc\u001b[39m:\u001b[32m5\u001b[39m)",
      "  ammonite.$sess.cell3$Helper.lengthR(\u001b[32mcell3.sc\u001b[39m:\u001b[32m5\u001b[39m)",
      "  ammonite.$sess.cell3$Helper.lengthR(\u001b[32mcell3.sc\u001b[39m:\u001b[32m5\u001b[39m)",
      "  ammonite.$sess.cell3$Helper.lengthR(\u001b[32mcell3.sc\u001b[39m:\u001b[32m5\u001b[39m)",
      "  ammonite.$sess.cell3$Helper.lengthR(\u001b[32mcell3.sc\u001b[39m:\u001b[32m5\u001b[39m)",
      "  ammonite.$sess.cell3$Helper.lengthR(\u001b[32mcell3.sc\u001b[39m:\u001b[32m5\u001b[39m)",
      "  ammonite.$sess.cell3$Helper.lengthR(\u001b[32mcell3.sc\u001b[39m:\u001b[32m5\u001b[39m)",
      "  ammonite.$sess.cell3$Helper.lengthR(\u001b[32mcell3.sc\u001b[39m:\u001b[32m5\u001b[39m)",
      "  ammonite.$sess.cell3$Helper.lengthR(\u001b[32mcell3.sc\u001b[39m:\u001b[32m5\u001b[39m)",
      "  ammonite.$sess.cell3$Helper.lengthR(\u001b[32mcell3.sc\u001b[39m:\u001b[32m5\u001b[39m)",
      "  ammonite.$sess.cell3$Helper.lengthR(\u001b[32mcell3.sc\u001b[39m:\u001b[32m5\u001b[39m)",
      "  ammonite.$sess.cell3$Helper.lengthR(\u001b[32mcell3.sc\u001b[39m:\u001b[32m5\u001b[39m)",
      "  ammonite.$sess.cell3$Helper.lengthR(\u001b[32mcell3.sc\u001b[39m:\u001b[32m5\u001b[39m)",
      "  ammonite.$sess.cell3$Helper.lengthR(\u001b[32mcell3.sc\u001b[39m:\u001b[32m5\u001b[39m)",
      "  ammonite.$sess.cell3$Helper.lengthR(\u001b[32mcell3.sc\u001b[39m:\u001b[32m5\u001b[39m)",
      "  ammonite.$sess.cell3$Helper.lengthR(\u001b[32mcell3.sc\u001b[39m:\u001b[32m5\u001b[39m)",
      "  ammonite.$sess.cell3$Helper.lengthR(\u001b[32mcell3.sc\u001b[39m:\u001b[32m5\u001b[39m)",
      "  ammonite.$sess.cell3$Helper.lengthR(\u001b[32mcell3.sc\u001b[39m:\u001b[32m5\u001b[39m)",
      "  ammonite.$sess.cell3$Helper.lengthR(\u001b[32mcell3.sc\u001b[39m:\u001b[32m5\u001b[39m)",
      "  ammonite.$sess.cell3$Helper.lengthR(\u001b[32mcell3.sc\u001b[39m:\u001b[32m5\u001b[39m)",
      "  ammonite.$sess.cell3$Helper.lengthR(\u001b[32mcell3.sc\u001b[39m:\u001b[32m5\u001b[39m)",
      "  ammonite.$sess.cell3$Helper.lengthR(\u001b[32mcell3.sc\u001b[39m:\u001b[32m5\u001b[39m)",
      "  ammonite.$sess.cell3$Helper.lengthR(\u001b[32mcell3.sc\u001b[39m:\u001b[32m5\u001b[39m)",
      "  ammonite.$sess.cell3$Helper.lengthR(\u001b[32mcell3.sc\u001b[39m:\u001b[32m5\u001b[39m)",
      "  ammonite.$sess.cell3$Helper.lengthR(\u001b[32mcell3.sc\u001b[39m:\u001b[32m5\u001b[39m)",
      "  ammonite.$sess.cell3$Helper.lengthR(\u001b[32mcell3.sc\u001b[39m:\u001b[32m5\u001b[39m)",
      "  ammonite.$sess.cell3$Helper.lengthR(\u001b[32mcell3.sc\u001b[39m:\u001b[32m5\u001b[39m)",
      "  ammonite.$sess.cell3$Helper.lengthR(\u001b[32mcell3.sc\u001b[39m:\u001b[32m5\u001b[39m)",
      "  ammonite.$sess.cell3$Helper.lengthR(\u001b[32mcell3.sc\u001b[39m:\u001b[32m5\u001b[39m)",
      "  ammonite.$sess.cell3$Helper.lengthR(\u001b[32mcell3.sc\u001b[39m:\u001b[32m5\u001b[39m)",
      "  ammonite.$sess.cell3$Helper.lengthR(\u001b[32mcell3.sc\u001b[39m:\u001b[32m5\u001b[39m)",
      "  ammonite.$sess.cell3$Helper.lengthR(\u001b[32mcell3.sc\u001b[39m:\u001b[32m5\u001b[39m)",
      "  ammonite.$sess.cell3$Helper.lengthR(\u001b[32mcell3.sc\u001b[39m:\u001b[32m5\u001b[39m)",
      "  ammonite.$sess.cell3$Helper.lengthR(\u001b[32mcell3.sc\u001b[39m:\u001b[32m5\u001b[39m)",
      "  ammonite.$sess.cell3$Helper.lengthR(\u001b[32mcell3.sc\u001b[39m:\u001b[32m5\u001b[39m)",
      "  ammonite.$sess.cell3$Helper.lengthR(\u001b[32mcell3.sc\u001b[39m:\u001b[32m5\u001b[39m)",
      "  ammonite.$sess.cell3$Helper.lengthR(\u001b[32mcell3.sc\u001b[39m:\u001b[32m5\u001b[39m)",
      "  ammonite.$sess.cell3$Helper.lengthR(\u001b[32mcell3.sc\u001b[39m:\u001b[32m5\u001b[39m)",
      "  ammonite.$sess.cell3$Helper.lengthR(\u001b[32mcell3.sc\u001b[39m:\u001b[32m5\u001b[39m)",
      "  ammonite.$sess.cell3$Helper.lengthR(\u001b[32mcell3.sc\u001b[39m:\u001b[32m5\u001b[39m)",
      "  ammonite.$sess.cell3$Helper.lengthR(\u001b[32mcell3.sc\u001b[39m:\u001b[32m5\u001b[39m)",
      "  ammonite.$sess.cell3$Helper.lengthR(\u001b[32mcell3.sc\u001b[39m:\u001b[32m5\u001b[39m)",
      "  ammonite.$sess.cell3$Helper.lengthR(\u001b[32mcell3.sc\u001b[39m:\u001b[32m5\u001b[39m)",
      "  ammonite.$sess.cell3$Helper.lengthR(\u001b[32mcell3.sc\u001b[39m:\u001b[32m5\u001b[39m)",
      "  ammonite.$sess.cell3$Helper.lengthR(\u001b[32mcell3.sc\u001b[39m:\u001b[32m5\u001b[39m)",
      "  ammonite.$sess.cell3$Helper.lengthR(\u001b[32mcell3.sc\u001b[39m:\u001b[32m5\u001b[39m)",
      "  ammonite.$sess.cell3$Helper.lengthR(\u001b[32mcell3.sc\u001b[39m:\u001b[32m5\u001b[39m)",
      "  ammonite.$sess.cell3$Helper.lengthR(\u001b[32mcell3.sc\u001b[39m:\u001b[32m5\u001b[39m)",
      "  ammonite.$sess.cell3$Helper.lengthR(\u001b[32mcell3.sc\u001b[39m:\u001b[32m5\u001b[39m)",
      "  ammonite.$sess.cell3$Helper.lengthR(\u001b[32mcell3.sc\u001b[39m:\u001b[32m5\u001b[39m)",
      "  ammonite.$sess.cell3$Helper.lengthR(\u001b[32mcell3.sc\u001b[39m:\u001b[32m5\u001b[39m)",
      "  ammonite.$sess.cell3$Helper.lengthR(\u001b[32mcell3.sc\u001b[39m:\u001b[32m5\u001b[39m)",
      "  ammonite.$sess.cell3$Helper.lengthR(\u001b[32mcell3.sc\u001b[39m:\u001b[32m5\u001b[39m)",
      "  ammonite.$sess.cell3$Helper.lengthR(\u001b[32mcell3.sc\u001b[39m:\u001b[32m5\u001b[39m)",
      "  ammonite.$sess.cell3$Helper.lengthR(\u001b[32mcell3.sc\u001b[39m:\u001b[32m5\u001b[39m)",
      "  ammonite.$sess.cell3$Helper.lengthR(\u001b[32mcell3.sc\u001b[39m:\u001b[32m5\u001b[39m)",
      "  ammonite.$sess.cell3$Helper.lengthR(\u001b[32mcell3.sc\u001b[39m:\u001b[32m5\u001b[39m)",
      "  ammonite.$sess.cell3$Helper.lengthR(\u001b[32mcell3.sc\u001b[39m:\u001b[32m5\u001b[39m)",
      "  ammonite.$sess.cell3$Helper.lengthR(\u001b[32mcell3.sc\u001b[39m:\u001b[32m5\u001b[39m)",
      "  ammonite.$sess.cell3$Helper.lengthR(\u001b[32mcell3.sc\u001b[39m:\u001b[32m5\u001b[39m)",
      "  ammonite.$sess.cell3$Helper.lengthR(\u001b[32mcell3.sc\u001b[39m:\u001b[32m5\u001b[39m)",
      "  ammonite.$sess.cell3$Helper.lengthR(\u001b[32mcell3.sc\u001b[39m:\u001b[32m5\u001b[39m)",
      "  ammonite.$sess.cell3$Helper.lengthR(\u001b[32mcell3.sc\u001b[39m:\u001b[32m5\u001b[39m)",
      "  ammonite.$sess.cell3$Helper.lengthR(\u001b[32mcell3.sc\u001b[39m:\u001b[32m5\u001b[39m)",
      "  ammonite.$sess.cell3$Helper.lengthR(\u001b[32mcell3.sc\u001b[39m:\u001b[32m5\u001b[39m)",
      "  ammonite.$sess.cell3$Helper.lengthR(\u001b[32mcell3.sc\u001b[39m:\u001b[32m5\u001b[39m)",
      "  ammonite.$sess.cell3$Helper.lengthR(\u001b[32mcell3.sc\u001b[39m:\u001b[32m5\u001b[39m)",
      "  ammonite.$sess.cell3$Helper.lengthR(\u001b[32mcell3.sc\u001b[39m:\u001b[32m5\u001b[39m)",
      "  ammonite.$sess.cell3$Helper.lengthR(\u001b[32mcell3.sc\u001b[39m:\u001b[32m5\u001b[39m)",
      "  ammonite.$sess.cell3$Helper.lengthR(\u001b[32mcell3.sc\u001b[39m:\u001b[32m5\u001b[39m)",
      "  ammonite.$sess.cell3$Helper.lengthR(\u001b[32mcell3.sc\u001b[39m:\u001b[32m5\u001b[39m)",
      "  ammonite.$sess.cell3$Helper.lengthR(\u001b[32mcell3.sc\u001b[39m:\u001b[32m5\u001b[39m)",
      "  ammonite.$sess.cell3$Helper.lengthR(\u001b[32mcell3.sc\u001b[39m:\u001b[32m5\u001b[39m)",
      "  ammonite.$sess.cell3$Helper.lengthR(\u001b[32mcell3.sc\u001b[39m:\u001b[32m5\u001b[39m)",
      "  ammonite.$sess.cell3$Helper.lengthR(\u001b[32mcell3.sc\u001b[39m:\u001b[32m5\u001b[39m)",
      "  ammonite.$sess.cell3$Helper.lengthR(\u001b[32mcell3.sc\u001b[39m:\u001b[32m5\u001b[39m)",
      "  ammonite.$sess.cell3$Helper.lengthR(\u001b[32mcell3.sc\u001b[39m:\u001b[32m5\u001b[39m)",
      "  ammonite.$sess.cell3$Helper.lengthR(\u001b[32mcell3.sc\u001b[39m:\u001b[32m5\u001b[39m)",
      "  ammonite.$sess.cell3$Helper.lengthR(\u001b[32mcell3.sc\u001b[39m:\u001b[32m5\u001b[39m)",
      "  ammonite.$sess.cell3$Helper.lengthR(\u001b[32mcell3.sc\u001b[39m:\u001b[32m5\u001b[39m)",
      "  ammonite.$sess.cell3$Helper.lengthR(\u001b[32mcell3.sc\u001b[39m:\u001b[32m5\u001b[39m)",
      "  ammonite.$sess.cell3$Helper.lengthR(\u001b[32mcell3.sc\u001b[39m:\u001b[32m5\u001b[39m)",
      "  ammonite.$sess.cell3$Helper.lengthR(\u001b[32mcell3.sc\u001b[39m:\u001b[32m5\u001b[39m)",
      "  ammonite.$sess.cell3$Helper.lengthR(\u001b[32mcell3.sc\u001b[39m:\u001b[32m5\u001b[39m)",
      "  ammonite.$sess.cell3$Helper.lengthR(\u001b[32mcell3.sc\u001b[39m:\u001b[32m5\u001b[39m)",
      "  ammonite.$sess.cell3$Helper.lengthR(\u001b[32mcell3.sc\u001b[39m:\u001b[32m5\u001b[39m)",
      "  ammonite.$sess.cell3$Helper.lengthR(\u001b[32mcell3.sc\u001b[39m:\u001b[32m5\u001b[39m)",
      "  ammonite.$sess.cell3$Helper.lengthR(\u001b[32mcell3.sc\u001b[39m:\u001b[32m5\u001b[39m)",
      "  ammonite.$sess.cell3$Helper.lengthR(\u001b[32mcell3.sc\u001b[39m:\u001b[32m5\u001b[39m)",
      "  ammonite.$sess.cell3$Helper.lengthR(\u001b[32mcell3.sc\u001b[39m:\u001b[32m5\u001b[39m)",
      "  ammonite.$sess.cell3$Helper.lengthR(\u001b[32mcell3.sc\u001b[39m:\u001b[32m5\u001b[39m)",
      "  ammonite.$sess.cell3$Helper.lengthR(\u001b[32mcell3.sc\u001b[39m:\u001b[32m5\u001b[39m)",
      "  ammonite.$sess.cell3$Helper.lengthR(\u001b[32mcell3.sc\u001b[39m:\u001b[32m5\u001b[39m)",
      "  ammonite.$sess.cell3$Helper.lengthR(\u001b[32mcell3.sc\u001b[39m:\u001b[32m5\u001b[39m)",
      "  ammonite.$sess.cell3$Helper.lengthR(\u001b[32mcell3.sc\u001b[39m:\u001b[32m5\u001b[39m)",
      "  ammonite.$sess.cell3$Helper.lengthR(\u001b[32mcell3.sc\u001b[39m:\u001b[32m5\u001b[39m)",
      "  ammonite.$sess.cell3$Helper.lengthR(\u001b[32mcell3.sc\u001b[39m:\u001b[32m5\u001b[39m)",
      "  ammonite.$sess.cell3$Helper.lengthR(\u001b[32mcell3.sc\u001b[39m:\u001b[32m5\u001b[39m)",
      "  ammonite.$sess.cell3$Helper.lengthR(\u001b[32mcell3.sc\u001b[39m:\u001b[32m5\u001b[39m)",
      "  ammonite.$sess.cell3$Helper.lengthR(\u001b[32mcell3.sc\u001b[39m:\u001b[32m5\u001b[39m)",
      "  ammonite.$sess.cell3$Helper.lengthR(\u001b[32mcell3.sc\u001b[39m:\u001b[32m5\u001b[39m)",
      "  ammonite.$sess.cell3$Helper.lengthR(\u001b[32mcell3.sc\u001b[39m:\u001b[32m5\u001b[39m)",
      "  ammonite.$sess.cell3$Helper.lengthR(\u001b[32mcell3.sc\u001b[39m:\u001b[32m5\u001b[39m)",
      "  ammonite.$sess.cell3$Helper.lengthR(\u001b[32mcell3.sc\u001b[39m:\u001b[32m5\u001b[39m)",
      "  ammonite.$sess.cell3$Helper.lengthR(\u001b[32mcell3.sc\u001b[39m:\u001b[32m5\u001b[39m)",
      "  ammonite.$sess.cell3$Helper.lengthR(\u001b[32mcell3.sc\u001b[39m:\u001b[32m5\u001b[39m)",
      "  ammonite.$sess.cell3$Helper.lengthR(\u001b[32mcell3.sc\u001b[39m:\u001b[32m5\u001b[39m)",
      "  ammonite.$sess.cell3$Helper.lengthR(\u001b[32mcell3.sc\u001b[39m:\u001b[32m5\u001b[39m)",
      "  ammonite.$sess.cell3$Helper.lengthR(\u001b[32mcell3.sc\u001b[39m:\u001b[32m5\u001b[39m)",
      "  ammonite.$sess.cell3$Helper.lengthR(\u001b[32mcell3.sc\u001b[39m:\u001b[32m5\u001b[39m)",
      "  ammonite.$sess.cell3$Helper.lengthR(\u001b[32mcell3.sc\u001b[39m:\u001b[32m5\u001b[39m)",
      "  ammonite.$sess.cell3$Helper.lengthR(\u001b[32mcell3.sc\u001b[39m:\u001b[32m5\u001b[39m)",
      "  ammonite.$sess.cell3$Helper.lengthR(\u001b[32mcell3.sc\u001b[39m:\u001b[32m5\u001b[39m)",
      "  ammonite.$sess.cell3$Helper.lengthR(\u001b[32mcell3.sc\u001b[39m:\u001b[32m5\u001b[39m)",
      "  ammonite.$sess.cell3$Helper.lengthR(\u001b[32mcell3.sc\u001b[39m:\u001b[32m5\u001b[39m)",
      "  ammonite.$sess.cell3$Helper.lengthR(\u001b[32mcell3.sc\u001b[39m:\u001b[32m5\u001b[39m)",
      "  ammonite.$sess.cell3$Helper.lengthR(\u001b[32mcell3.sc\u001b[39m:\u001b[32m5\u001b[39m)",
      "  ammonite.$sess.cell3$Helper.lengthR(\u001b[32mcell3.sc\u001b[39m:\u001b[32m5\u001b[39m)",
      "  ammonite.$sess.cell3$Helper.lengthR(\u001b[32mcell3.sc\u001b[39m:\u001b[32m5\u001b[39m)",
      "  ammonite.$sess.cell3$Helper.lengthR(\u001b[32mcell3.sc\u001b[39m:\u001b[32m5\u001b[39m)",
      "  ammonite.$sess.cell3$Helper.lengthR(\u001b[32mcell3.sc\u001b[39m:\u001b[32m5\u001b[39m)",
      "  ammonite.$sess.cell3$Helper.lengthR(\u001b[32mcell3.sc\u001b[39m:\u001b[32m5\u001b[39m)",
      "  ammonite.$sess.cell3$Helper.lengthR(\u001b[32mcell3.sc\u001b[39m:\u001b[32m5\u001b[39m)",
      "  ammonite.$sess.cell3$Helper.lengthR(\u001b[32mcell3.sc\u001b[39m:\u001b[32m5\u001b[39m)",
      "  ammonite.$sess.cell3$Helper.lengthR(\u001b[32mcell3.sc\u001b[39m:\u001b[32m5\u001b[39m)",
      "  ammonite.$sess.cell3$Helper.lengthR(\u001b[32mcell3.sc\u001b[39m:\u001b[32m5\u001b[39m)",
      "  ammonite.$sess.cell3$Helper.lengthR(\u001b[32mcell3.sc\u001b[39m:\u001b[32m5\u001b[39m)",
      "  ammonite.$sess.cell3$Helper.lengthR(\u001b[32mcell3.sc\u001b[39m:\u001b[32m5\u001b[39m)",
      "  ammonite.$sess.cell3$Helper.lengthR(\u001b[32mcell3.sc\u001b[39m:\u001b[32m5\u001b[39m)",
      "  ammonite.$sess.cell3$Helper.lengthR(\u001b[32mcell3.sc\u001b[39m:\u001b[32m5\u001b[39m)",
      "  ammonite.$sess.cell3$Helper.lengthR(\u001b[32mcell3.sc\u001b[39m:\u001b[32m5\u001b[39m)",
      "  ammonite.$sess.cell3$Helper.lengthR(\u001b[32mcell3.sc\u001b[39m:\u001b[32m5\u001b[39m)",
      "  ammonite.$sess.cell3$Helper.lengthR(\u001b[32mcell3.sc\u001b[39m:\u001b[32m5\u001b[39m)",
      "  ammonite.$sess.cell3$Helper.lengthR(\u001b[32mcell3.sc\u001b[39m:\u001b[32m5\u001b[39m)",
      "  ammonite.$sess.cell3$Helper.lengthR(\u001b[32mcell3.sc\u001b[39m:\u001b[32m5\u001b[39m)",
      "  ammonite.$sess.cell3$Helper.lengthR(\u001b[32mcell3.sc\u001b[39m:\u001b[32m5\u001b[39m)",
      "  ammonite.$sess.cell3$Helper.lengthR(\u001b[32mcell3.sc\u001b[39m:\u001b[32m5\u001b[39m)",
      "  ammonite.$sess.cell3$Helper.lengthR(\u001b[32mcell3.sc\u001b[39m:\u001b[32m5\u001b[39m)",
      "  ammonite.$sess.cell3$Helper.lengthR(\u001b[32mcell3.sc\u001b[39m:\u001b[32m5\u001b[39m)",
      "  ammonite.$sess.cell3$Helper.lengthR(\u001b[32mcell3.sc\u001b[39m:\u001b[32m5\u001b[39m)",
      "  ammonite.$sess.cell3$Helper.lengthR(\u001b[32mcell3.sc\u001b[39m:\u001b[32m5\u001b[39m)",
      "  ammonite.$sess.cell3$Helper.lengthR(\u001b[32mcell3.sc\u001b[39m:\u001b[32m5\u001b[39m)",
      "  ammonite.$sess.cell3$Helper.lengthR(\u001b[32mcell3.sc\u001b[39m:\u001b[32m5\u001b[39m)",
      "  ammonite.$sess.cell3$Helper.lengthR(\u001b[32mcell3.sc\u001b[39m:\u001b[32m5\u001b[39m)",
      "  ammonite.$sess.cell3$Helper.lengthR(\u001b[32mcell3.sc\u001b[39m:\u001b[32m5\u001b[39m)",
      "  ammonite.$sess.cell3$Helper.lengthR(\u001b[32mcell3.sc\u001b[39m:\u001b[32m5\u001b[39m)",
      "  ammonite.$sess.cell3$Helper.lengthR(\u001b[32mcell3.sc\u001b[39m:\u001b[32m5\u001b[39m)",
      "  ammonite.$sess.cell3$Helper.lengthR(\u001b[32mcell3.sc\u001b[39m:\u001b[32m5\u001b[39m)",
      "  ammonite.$sess.cell3$Helper.lengthR(\u001b[32mcell3.sc\u001b[39m:\u001b[32m5\u001b[39m)",
      "  ammonite.$sess.cell3$Helper.lengthR(\u001b[32mcell3.sc\u001b[39m:\u001b[32m5\u001b[39m)",
      "  ammonite.$sess.cell3$Helper.lengthR(\u001b[32mcell3.sc\u001b[39m:\u001b[32m5\u001b[39m)",
      "  ammonite.$sess.cell3$Helper.lengthR(\u001b[32mcell3.sc\u001b[39m:\u001b[32m5\u001b[39m)",
      "  ammonite.$sess.cell3$Helper.lengthR(\u001b[32mcell3.sc\u001b[39m:\u001b[32m5\u001b[39m)",
      "  ammonite.$sess.cell3$Helper.lengthR(\u001b[32mcell3.sc\u001b[39m:\u001b[32m5\u001b[39m)",
      "  ammonite.$sess.cell3$Helper.lengthR(\u001b[32mcell3.sc\u001b[39m:\u001b[32m5\u001b[39m)",
      "  ammonite.$sess.cell3$Helper.lengthR(\u001b[32mcell3.sc\u001b[39m:\u001b[32m5\u001b[39m)",
      "  ammonite.$sess.cell3$Helper.lengthR(\u001b[32mcell3.sc\u001b[39m:\u001b[32m5\u001b[39m)",
      "  ammonite.$sess.cell3$Helper.lengthR(\u001b[32mcell3.sc\u001b[39m:\u001b[32m5\u001b[39m)",
      "  ammonite.$sess.cell3$Helper.lengthR(\u001b[32mcell3.sc\u001b[39m:\u001b[32m5\u001b[39m)",
      "  ammonite.$sess.cell3$Helper.lengthR(\u001b[32mcell3.sc\u001b[39m:\u001b[32m5\u001b[39m)",
      "  ammonite.$sess.cell3$Helper.lengthR(\u001b[32mcell3.sc\u001b[39m:\u001b[32m5\u001b[39m)",
      "  ammonite.$sess.cell3$Helper.lengthR(\u001b[32mcell3.sc\u001b[39m:\u001b[32m5\u001b[39m)",
      "  ammonite.$sess.cell3$Helper.lengthR(\u001b[32mcell3.sc\u001b[39m:\u001b[32m5\u001b[39m)",
      "  ammonite.$sess.cell3$Helper.lengthR(\u001b[32mcell3.sc\u001b[39m:\u001b[32m5\u001b[39m)",
      "  ammonite.$sess.cell3$Helper.lengthR(\u001b[32mcell3.sc\u001b[39m:\u001b[32m5\u001b[39m)",
      "  ammonite.$sess.cell3$Helper.lengthR(\u001b[32mcell3.sc\u001b[39m:\u001b[32m5\u001b[39m)",
      "  ammonite.$sess.cell3$Helper.lengthR(\u001b[32mcell3.sc\u001b[39m:\u001b[32m5\u001b[39m)",
      "  ammonite.$sess.cell3$Helper.lengthR(\u001b[32mcell3.sc\u001b[39m:\u001b[32m5\u001b[39m)",
      "  ammonite.$sess.cell3$Helper.lengthR(\u001b[32mcell3.sc\u001b[39m:\u001b[32m5\u001b[39m)",
      "  ammonite.$sess.cell3$Helper.lengthR(\u001b[32mcell3.sc\u001b[39m:\u001b[32m5\u001b[39m)",
      "  ammonite.$sess.cell3$Helper.lengthR(\u001b[32mcell3.sc\u001b[39m:\u001b[32m5\u001b[39m)",
      "  ammonite.$sess.cell3$Helper.lengthR(\u001b[32mcell3.sc\u001b[39m:\u001b[32m5\u001b[39m)",
      "  ammonite.$sess.cell3$Helper.lengthR(\u001b[32mcell3.sc\u001b[39m:\u001b[32m5\u001b[39m)",
      "  ammonite.$sess.cell3$Helper.lengthR(\u001b[32mcell3.sc\u001b[39m:\u001b[32m5\u001b[39m)",
      "  ammonite.$sess.cell3$Helper.lengthR(\u001b[32mcell3.sc\u001b[39m:\u001b[32m5\u001b[39m)",
      "  ammonite.$sess.cell3$Helper.lengthR(\u001b[32mcell3.sc\u001b[39m:\u001b[32m5\u001b[39m)",
      "  ammonite.$sess.cell3$Helper.lengthR(\u001b[32mcell3.sc\u001b[39m:\u001b[32m5\u001b[39m)",
      "  ammonite.$sess.cell3$Helper.lengthR(\u001b[32mcell3.sc\u001b[39m:\u001b[32m5\u001b[39m)",
      "  ammonite.$sess.cell3$Helper.lengthR(\u001b[32mcell3.sc\u001b[39m:\u001b[32m5\u001b[39m)",
      "  ammonite.$sess.cell3$Helper.lengthR(\u001b[32mcell3.sc\u001b[39m:\u001b[32m5\u001b[39m)",
      "  ammonite.$sess.cell3$Helper.lengthR(\u001b[32mcell3.sc\u001b[39m:\u001b[32m5\u001b[39m)",
      "  ammonite.$sess.cell3$Helper.lengthR(\u001b[32mcell3.sc\u001b[39m:\u001b[32m5\u001b[39m)",
      "  ammonite.$sess.cell3$Helper.lengthR(\u001b[32mcell3.sc\u001b[39m:\u001b[32m5\u001b[39m)",
      "  ammonite.$sess.cell3$Helper.lengthR(\u001b[32mcell3.sc\u001b[39m:\u001b[32m5\u001b[39m)",
      "  ammonite.$sess.cell3$Helper.lengthR(\u001b[32mcell3.sc\u001b[39m:\u001b[32m5\u001b[39m)",
      "  ammonite.$sess.cell3$Helper.lengthR(\u001b[32mcell3.sc\u001b[39m:\u001b[32m5\u001b[39m)",
      "  ammonite.$sess.cell3$Helper.lengthR(\u001b[32mcell3.sc\u001b[39m:\u001b[32m5\u001b[39m)",
      "  ammonite.$sess.cell3$Helper.lengthR(\u001b[32mcell3.sc\u001b[39m:\u001b[32m5\u001b[39m)",
      "  ammonite.$sess.cell3$Helper.lengthR(\u001b[32mcell3.sc\u001b[39m:\u001b[32m5\u001b[39m)",
      "  ammonite.$sess.cell3$Helper.lengthR(\u001b[32mcell3.sc\u001b[39m:\u001b[32m5\u001b[39m)",
      "  ammonite.$sess.cell3$Helper.lengthR(\u001b[32mcell3.sc\u001b[39m:\u001b[32m5\u001b[39m)",
      "  ammonite.$sess.cell3$Helper.lengthR(\u001b[32mcell3.sc\u001b[39m:\u001b[32m5\u001b[39m)",
      "  ammonite.$sess.cell3$Helper.lengthR(\u001b[32mcell3.sc\u001b[39m:\u001b[32m5\u001b[39m)",
      "  ammonite.$sess.cell3$Helper.lengthR(\u001b[32mcell3.sc\u001b[39m:\u001b[32m5\u001b[39m)",
      "  ammonite.$sess.cell3$Helper.lengthR(\u001b[32mcell3.sc\u001b[39m:\u001b[32m5\u001b[39m)",
      "  ammonite.$sess.cell3$Helper.lengthR(\u001b[32mcell3.sc\u001b[39m:\u001b[32m5\u001b[39m)",
      "  ammonite.$sess.cell3$Helper.lengthR(\u001b[32mcell3.sc\u001b[39m:\u001b[32m5\u001b[39m)",
      "  ammonite.$sess.cell3$Helper.lengthR(\u001b[32mcell3.sc\u001b[39m:\u001b[32m5\u001b[39m)",
      "  ammonite.$sess.cell3$Helper.lengthR(\u001b[32mcell3.sc\u001b[39m:\u001b[32m5\u001b[39m)",
      "  ammonite.$sess.cell3$Helper.lengthR(\u001b[32mcell3.sc\u001b[39m:\u001b[32m5\u001b[39m)",
      "  ammonite.$sess.cell3$Helper.lengthR(\u001b[32mcell3.sc\u001b[39m:\u001b[32m5\u001b[39m)",
      "  ammonite.$sess.cell3$Helper.lengthR(\u001b[32mcell3.sc\u001b[39m:\u001b[32m5\u001b[39m)",
      "  ammonite.$sess.cell3$Helper.lengthR(\u001b[32mcell3.sc\u001b[39m:\u001b[32m5\u001b[39m)",
      "  ammonite.$sess.cell3$Helper.lengthR(\u001b[32mcell3.sc\u001b[39m:\u001b[32m5\u001b[39m)",
      "  ammonite.$sess.cell3$Helper.lengthR(\u001b[32mcell3.sc\u001b[39m:\u001b[32m5\u001b[39m)",
      "  ammonite.$sess.cell3$Helper.lengthR(\u001b[32mcell3.sc\u001b[39m:\u001b[32m5\u001b[39m)",
      "  ammonite.$sess.cell3$Helper.lengthR(\u001b[32mcell3.sc\u001b[39m:\u001b[32m5\u001b[39m)",
      "  ammonite.$sess.cell3$Helper.lengthR(\u001b[32mcell3.sc\u001b[39m:\u001b[32m5\u001b[39m)",
      "  ammonite.$sess.cell3$Helper.lengthR(\u001b[32mcell3.sc\u001b[39m:\u001b[32m5\u001b[39m)",
      "  ammonite.$sess.cell3$Helper.lengthR(\u001b[32mcell3.sc\u001b[39m:\u001b[32m5\u001b[39m)",
      "  ammonite.$sess.cell3$Helper.lengthR(\u001b[32mcell3.sc\u001b[39m:\u001b[32m5\u001b[39m)",
      "  ammonite.$sess.cell3$Helper.lengthR(\u001b[32mcell3.sc\u001b[39m:\u001b[32m5\u001b[39m)",
      "  ammonite.$sess.cell3$Helper.lengthR(\u001b[32mcell3.sc\u001b[39m:\u001b[32m5\u001b[39m)",
      "  ammonite.$sess.cell3$Helper.lengthR(\u001b[32mcell3.sc\u001b[39m:\u001b[32m5\u001b[39m)",
      "  ammonite.$sess.cell3$Helper.lengthR(\u001b[32mcell3.sc\u001b[39m:\u001b[32m5\u001b[39m)",
      "  ammonite.$sess.cell3$Helper.lengthR(\u001b[32mcell3.sc\u001b[39m:\u001b[32m5\u001b[39m)",
      "  ammonite.$sess.cell3$Helper.lengthR(\u001b[32mcell3.sc\u001b[39m:\u001b[32m5\u001b[39m)",
      "  ammonite.$sess.cell3$Helper.lengthR(\u001b[32mcell3.sc\u001b[39m:\u001b[32m5\u001b[39m)",
      "  ammonite.$sess.cell3$Helper.lengthR(\u001b[32mcell3.sc\u001b[39m:\u001b[32m5\u001b[39m)",
      "  ammonite.$sess.cell3$Helper.lengthR(\u001b[32mcell3.sc\u001b[39m:\u001b[32m5\u001b[39m)",
      "  ammonite.$sess.cell3$Helper.lengthR(\u001b[32mcell3.sc\u001b[39m:\u001b[32m5\u001b[39m)",
      "  ammonite.$sess.cell3$Helper.lengthR(\u001b[32mcell3.sc\u001b[39m:\u001b[32m5\u001b[39m)",
      "  ammonite.$sess.cell3$Helper.lengthR(\u001b[32mcell3.sc\u001b[39m:\u001b[32m5\u001b[39m)",
      "  ammonite.$sess.cell3$Helper.lengthR(\u001b[32mcell3.sc\u001b[39m:\u001b[32m5\u001b[39m)",
      "  ammonite.$sess.cell3$Helper.lengthR(\u001b[32mcell3.sc\u001b[39m:\u001b[32m5\u001b[39m)",
      "  ammonite.$sess.cell3$Helper.lengthR(\u001b[32mcell3.sc\u001b[39m:\u001b[32m5\u001b[39m)",
      "  ammonite.$sess.cell3$Helper.lengthR(\u001b[32mcell3.sc\u001b[39m:\u001b[32m5\u001b[39m)",
      "  ammonite.$sess.cell3$Helper.lengthR(\u001b[32mcell3.sc\u001b[39m:\u001b[32m5\u001b[39m)",
      "  ammonite.$sess.cell3$Helper.lengthR(\u001b[32mcell3.sc\u001b[39m:\u001b[32m5\u001b[39m)",
      "  ammonite.$sess.cell3$Helper.lengthR(\u001b[32mcell3.sc\u001b[39m:\u001b[32m5\u001b[39m)",
      "  ammonite.$sess.cell3$Helper.lengthR(\u001b[32mcell3.sc\u001b[39m:\u001b[32m5\u001b[39m)",
      "  ammonite.$sess.cell3$Helper.lengthR(\u001b[32mcell3.sc\u001b[39m:\u001b[32m5\u001b[39m)",
      "  ammonite.$sess.cell3$Helper.lengthR(\u001b[32mcell3.sc\u001b[39m:\u001b[32m5\u001b[39m)",
      "  ammonite.$sess.cell3$Helper.lengthR(\u001b[32mcell3.sc\u001b[39m:\u001b[32m5\u001b[39m)",
      "  ammonite.$sess.cell3$Helper.lengthR(\u001b[32mcell3.sc\u001b[39m:\u001b[32m5\u001b[39m)",
      "  ammonite.$sess.cell3$Helper.lengthR(\u001b[32mcell3.sc\u001b[39m:\u001b[32m5\u001b[39m)",
      "  ammonite.$sess.cell3$Helper.lengthR(\u001b[32mcell3.sc\u001b[39m:\u001b[32m5\u001b[39m)",
      "  ammonite.$sess.cell3$Helper.lengthR(\u001b[32mcell3.sc\u001b[39m:\u001b[32m5\u001b[39m)",
      "  ammonite.$sess.cell3$Helper.lengthR(\u001b[32mcell3.sc\u001b[39m:\u001b[32m5\u001b[39m)",
      "  ammonite.$sess.cell3$Helper.lengthR(\u001b[32mcell3.sc\u001b[39m:\u001b[32m5\u001b[39m)",
      "  ammonite.$sess.cell3$Helper.lengthR(\u001b[32mcell3.sc\u001b[39m:\u001b[32m5\u001b[39m)",
      "  ammonite.$sess.cell3$Helper.lengthR(\u001b[32mcell3.sc\u001b[39m:\u001b[32m5\u001b[39m)",
      "  ammonite.$sess.cell3$Helper.lengthR(\u001b[32mcell3.sc\u001b[39m:\u001b[32m5\u001b[39m)",
      "  ammonite.$sess.cell3$Helper.lengthR(\u001b[32mcell3.sc\u001b[39m:\u001b[32m5\u001b[39m)",
      "  ammonite.$sess.cell3$Helper.lengthR(\u001b[32mcell3.sc\u001b[39m:\u001b[32m5\u001b[39m)",
      "  ammonite.$sess.cell3$Helper.lengthR(\u001b[32mcell3.sc\u001b[39m:\u001b[32m5\u001b[39m)",
      "  ammonite.$sess.cell3$Helper.lengthR(\u001b[32mcell3.sc\u001b[39m:\u001b[32m5\u001b[39m)",
      "  ammonite.$sess.cell3$Helper.lengthR(\u001b[32mcell3.sc\u001b[39m:\u001b[32m5\u001b[39m)",
      "  ammonite.$sess.cell3$Helper.lengthR(\u001b[32mcell3.sc\u001b[39m:\u001b[32m5\u001b[39m)",
      "  ammonite.$sess.cell3$Helper.lengthR(\u001b[32mcell3.sc\u001b[39m:\u001b[32m5\u001b[39m)",
      "  ammonite.$sess.cell3$Helper.lengthR(\u001b[32mcell3.sc\u001b[39m:\u001b[32m5\u001b[39m)",
      "  ammonite.$sess.cell3$Helper.lengthR(\u001b[32mcell3.sc\u001b[39m:\u001b[32m5\u001b[39m)",
      "  ammonite.$sess.cell3$Helper.lengthR(\u001b[32mcell3.sc\u001b[39m:\u001b[32m5\u001b[39m)",
      "  ammonite.$sess.cell3$Helper.lengthR(\u001b[32mcell3.sc\u001b[39m:\u001b[32m5\u001b[39m)",
      "  ammonite.$sess.cell3$Helper.lengthR(\u001b[32mcell3.sc\u001b[39m:\u001b[32m5\u001b[39m)",
      "  ammonite.$sess.cell3$Helper.lengthR(\u001b[32mcell3.sc\u001b[39m:\u001b[32m5\u001b[39m)",
      "  ammonite.$sess.cell3$Helper.lengthR(\u001b[32mcell3.sc\u001b[39m:\u001b[32m5\u001b[39m)",
      "  ammonite.$sess.cell3$Helper.lengthR(\u001b[32mcell3.sc\u001b[39m:\u001b[32m5\u001b[39m)",
      "  ammonite.$sess.cell3$Helper.lengthR(\u001b[32mcell3.sc\u001b[39m:\u001b[32m5\u001b[39m)",
      "  ammonite.$sess.cell3$Helper.lengthR(\u001b[32mcell3.sc\u001b[39m:\u001b[32m5\u001b[39m)",
      "  ammonite.$sess.cell3$Helper.lengthR(\u001b[32mcell3.sc\u001b[39m:\u001b[32m5\u001b[39m)",
      "  ammonite.$sess.cell3$Helper.lengthR(\u001b[32mcell3.sc\u001b[39m:\u001b[32m5\u001b[39m)",
      "  ammonite.$sess.cell3$Helper.lengthR(\u001b[32mcell3.sc\u001b[39m:\u001b[32m5\u001b[39m)",
      "  ammonite.$sess.cell3$Helper.lengthR(\u001b[32mcell3.sc\u001b[39m:\u001b[32m5\u001b[39m)",
      "  ammonite.$sess.cell3$Helper.lengthR(\u001b[32mcell3.sc\u001b[39m:\u001b[32m5\u001b[39m)",
      "  ammonite.$sess.cell3$Helper.lengthR(\u001b[32mcell3.sc\u001b[39m:\u001b[32m5\u001b[39m)",
      "  ammonite.$sess.cell3$Helper.lengthR(\u001b[32mcell3.sc\u001b[39m:\u001b[32m5\u001b[39m)",
      "  ammonite.$sess.cell3$Helper.lengthR(\u001b[32mcell3.sc\u001b[39m:\u001b[32m5\u001b[39m)",
      "  ammonite.$sess.cell3$Helper.lengthR(\u001b[32mcell3.sc\u001b[39m:\u001b[32m5\u001b[39m)",
      "  ammonite.$sess.cell3$Helper.lengthR(\u001b[32mcell3.sc\u001b[39m:\u001b[32m5\u001b[39m)",
      "  ammonite.$sess.cell3$Helper.lengthR(\u001b[32mcell3.sc\u001b[39m:\u001b[32m5\u001b[39m)",
      "  ammonite.$sess.cell3$Helper.lengthR(\u001b[32mcell3.sc\u001b[39m:\u001b[32m5\u001b[39m)",
      "  ammonite.$sess.cell3$Helper.lengthR(\u001b[32mcell3.sc\u001b[39m:\u001b[32m5\u001b[39m)",
      "  ammonite.$sess.cell3$Helper.lengthR(\u001b[32mcell3.sc\u001b[39m:\u001b[32m5\u001b[39m)",
      "  ammonite.$sess.cell3$Helper.lengthR(\u001b[32mcell3.sc\u001b[39m:\u001b[32m5\u001b[39m)",
      "  ammonite.$sess.cell3$Helper.lengthR(\u001b[32mcell3.sc\u001b[39m:\u001b[32m5\u001b[39m)",
      "  ammonite.$sess.cell3$Helper.lengthR(\u001b[32mcell3.sc\u001b[39m:\u001b[32m5\u001b[39m)",
      "  ammonite.$sess.cell3$Helper.lengthR(\u001b[32mcell3.sc\u001b[39m:\u001b[32m5\u001b[39m)",
      "  ammonite.$sess.cell3$Helper.lengthR(\u001b[32mcell3.sc\u001b[39m:\u001b[32m5\u001b[39m)",
      "  ammonite.$sess.cell3$Helper.lengthR(\u001b[32mcell3.sc\u001b[39m:\u001b[32m5\u001b[39m)",
      "  ammonite.$sess.cell3$Helper.lengthR(\u001b[32mcell3.sc\u001b[39m:\u001b[32m5\u001b[39m)",
      "  ammonite.$sess.cell3$Helper.lengthR(\u001b[32mcell3.sc\u001b[39m:\u001b[32m5\u001b[39m)",
      "  ammonite.$sess.cell3$Helper.lengthR(\u001b[32mcell3.sc\u001b[39m:\u001b[32m5\u001b[39m)",
      "  ammonite.$sess.cell3$Helper.lengthR(\u001b[32mcell3.sc\u001b[39m:\u001b[32m5\u001b[39m)",
      "  ammonite.$sess.cell3$Helper.lengthR(\u001b[32mcell3.sc\u001b[39m:\u001b[32m5\u001b[39m)",
      "  ammonite.$sess.cell3$Helper.lengthR(\u001b[32mcell3.sc\u001b[39m:\u001b[32m5\u001b[39m)",
      "  ammonite.$sess.cell3$Helper.lengthR(\u001b[32mcell3.sc\u001b[39m:\u001b[32m5\u001b[39m)",
      "  ammonite.$sess.cell3$Helper.lengthR(\u001b[32mcell3.sc\u001b[39m:\u001b[32m5\u001b[39m)",
      "  ammonite.$sess.cell3$Helper.lengthR(\u001b[32mcell3.sc\u001b[39m:\u001b[32m5\u001b[39m)",
      "  ammonite.$sess.cell3$Helper.lengthR(\u001b[32mcell3.sc\u001b[39m:\u001b[32m5\u001b[39m)",
      "  ammonite.$sess.cell3$Helper.lengthR(\u001b[32mcell3.sc\u001b[39m:\u001b[32m5\u001b[39m)",
      "  ammonite.$sess.cell3$Helper.lengthR(\u001b[32mcell3.sc\u001b[39m:\u001b[32m5\u001b[39m)",
      "  ammonite.$sess.cell3$Helper.lengthR(\u001b[32mcell3.sc\u001b[39m:\u001b[32m5\u001b[39m)",
      "  ammonite.$sess.cell3$Helper.lengthR(\u001b[32mcell3.sc\u001b[39m:\u001b[32m5\u001b[39m)",
      "  ammonite.$sess.cell3$Helper.lengthR(\u001b[32mcell3.sc\u001b[39m:\u001b[32m5\u001b[39m)",
      "  ammonite.$sess.cell3$Helper.lengthR(\u001b[32mcell3.sc\u001b[39m:\u001b[32m5\u001b[39m)",
      "  ammonite.$sess.cell3$Helper.lengthR(\u001b[32mcell3.sc\u001b[39m:\u001b[32m5\u001b[39m)",
      "  ammonite.$sess.cell3$Helper.lengthR(\u001b[32mcell3.sc\u001b[39m:\u001b[32m5\u001b[39m)",
      "  ammonite.$sess.cell3$Helper.lengthR(\u001b[32mcell3.sc\u001b[39m:\u001b[32m5\u001b[39m)",
      "  ammonite.$sess.cell3$Helper.lengthR(\u001b[32mcell3.sc\u001b[39m:\u001b[32m5\u001b[39m)",
      "  ammonite.$sess.cell3$Helper.lengthR(\u001b[32mcell3.sc\u001b[39m:\u001b[32m5\u001b[39m)",
      "  ammonite.$sess.cell3$Helper.lengthR(\u001b[32mcell3.sc\u001b[39m:\u001b[32m5\u001b[39m)",
      "  ammonite.$sess.cell3$Helper.lengthR(\u001b[32mcell3.sc\u001b[39m:\u001b[32m5\u001b[39m)",
      "  ammonite.$sess.cell3$Helper.lengthR(\u001b[32mcell3.sc\u001b[39m:\u001b[32m5\u001b[39m)",
      "  ammonite.$sess.cell3$Helper.lengthR(\u001b[32mcell3.sc\u001b[39m:\u001b[32m5\u001b[39m)",
      "  ammonite.$sess.cell3$Helper.lengthR(\u001b[32mcell3.sc\u001b[39m:\u001b[32m5\u001b[39m)",
      "  ammonite.$sess.cell3$Helper.lengthR(\u001b[32mcell3.sc\u001b[39m:\u001b[32m5\u001b[39m)",
      "  ammonite.$sess.cell3$Helper.lengthR(\u001b[32mcell3.sc\u001b[39m:\u001b[32m5\u001b[39m)",
      "  ammonite.$sess.cell3$Helper.lengthR(\u001b[32mcell3.sc\u001b[39m:\u001b[32m5\u001b[39m)",
      "  ammonite.$sess.cell3$Helper.lengthR(\u001b[32mcell3.sc\u001b[39m:\u001b[32m5\u001b[39m)",
      "  ammonite.$sess.cell3$Helper.lengthR(\u001b[32mcell3.sc\u001b[39m:\u001b[32m5\u001b[39m)",
      "  ammonite.$sess.cell3$Helper.lengthR(\u001b[32mcell3.sc\u001b[39m:\u001b[32m5\u001b[39m)",
      "  ammonite.$sess.cell3$Helper.lengthR(\u001b[32mcell3.sc\u001b[39m:\u001b[32m5\u001b[39m)",
      "  ammonite.$sess.cell3$Helper.lengthR(\u001b[32mcell3.sc\u001b[39m:\u001b[32m5\u001b[39m)",
      "  ammonite.$sess.cell3$Helper.lengthR(\u001b[32mcell3.sc\u001b[39m:\u001b[32m5\u001b[39m)",
      "  ammonite.$sess.cell3$Helper.lengthR(\u001b[32mcell3.sc\u001b[39m:\u001b[32m5\u001b[39m)",
      "  ammonite.$sess.cell3$Helper.lengthR(\u001b[32mcell3.sc\u001b[39m:\u001b[32m5\u001b[39m)",
      "  ammonite.$sess.cell3$Helper.lengthR(\u001b[32mcell3.sc\u001b[39m:\u001b[32m5\u001b[39m)",
      "  ammonite.$sess.cell3$Helper.lengthR(\u001b[32mcell3.sc\u001b[39m:\u001b[32m5\u001b[39m)",
      "  ammonite.$sess.cell3$Helper.lengthR(\u001b[32mcell3.sc\u001b[39m:\u001b[32m5\u001b[39m)",
      "  ammonite.$sess.cell3$Helper.lengthR(\u001b[32mcell3.sc\u001b[39m:\u001b[32m5\u001b[39m)",
      "  ammonite.$sess.cell3$Helper.lengthR(\u001b[32mcell3.sc\u001b[39m:\u001b[32m5\u001b[39m)",
      "  ammonite.$sess.cell3$Helper.lengthR(\u001b[32mcell3.sc\u001b[39m:\u001b[32m5\u001b[39m)",
      "  ammonite.$sess.cell3$Helper.lengthR(\u001b[32mcell3.sc\u001b[39m:\u001b[32m5\u001b[39m)",
      "  ammonite.$sess.cell3$Helper.lengthR(\u001b[32mcell3.sc\u001b[39m:\u001b[32m5\u001b[39m)",
      "  ammonite.$sess.cell3$Helper.lengthR(\u001b[32mcell3.sc\u001b[39m:\u001b[32m5\u001b[39m)",
      "  ammonite.$sess.cell3$Helper.lengthR(\u001b[32mcell3.sc\u001b[39m:\u001b[32m5\u001b[39m)",
      "  ammonite.$sess.cell3$Helper.lengthR(\u001b[32mcell3.sc\u001b[39m:\u001b[32m5\u001b[39m)",
      "  ammonite.$sess.cell3$Helper.lengthR(\u001b[32mcell3.sc\u001b[39m:\u001b[32m5\u001b[39m)",
      "  ammonite.$sess.cell3$Helper.lengthR(\u001b[32mcell3.sc\u001b[39m:\u001b[32m5\u001b[39m)",
      "  ammonite.$sess.cell3$Helper.lengthR(\u001b[32mcell3.sc\u001b[39m:\u001b[32m5\u001b[39m)",
      "  ammonite.$sess.cell3$Helper.lengthR(\u001b[32mcell3.sc\u001b[39m:\u001b[32m5\u001b[39m)",
      "  ammonite.$sess.cell3$Helper.lengthR(\u001b[32mcell3.sc\u001b[39m:\u001b[32m5\u001b[39m)",
      "  ammonite.$sess.cell3$Helper.lengthR(\u001b[32mcell3.sc\u001b[39m:\u001b[32m5\u001b[39m)",
      "  ammonite.$sess.cell3$Helper.lengthR(\u001b[32mcell3.sc\u001b[39m:\u001b[32m5\u001b[39m)",
      "  ammonite.$sess.cell3$Helper.lengthR(\u001b[32mcell3.sc\u001b[39m:\u001b[32m5\u001b[39m)",
      "  ammonite.$sess.cell3$Helper.lengthR(\u001b[32mcell3.sc\u001b[39m:\u001b[32m5\u001b[39m)",
      "  ammonite.$sess.cell3$Helper.lengthR(\u001b[32mcell3.sc\u001b[39m:\u001b[32m5\u001b[39m)",
      "  ammonite.$sess.cell3$Helper.lengthR(\u001b[32mcell3.sc\u001b[39m:\u001b[32m5\u001b[39m)",
      "  ammonite.$sess.cell3$Helper.lengthR(\u001b[32mcell3.sc\u001b[39m:\u001b[32m5\u001b[39m)"
     ]
    }
   ],
   "source": [
    "lengthR(List.fill(8000)(1))"
   ]
  },
  {
   "cell_type": "code",
   "execution_count": null,
   "metadata": {},
   "outputs": [],
   "source": [
    "List.fill(10)(1)"
   ]
  },
  {
   "cell_type": "code",
   "execution_count": 2,
   "metadata": {},
   "outputs": [
    {
     "data": {
      "text/plain": [
       "\u001b[36mres2\u001b[39m: \u001b[32mInt\u001b[39m = \u001b[32m1000000\u001b[39m"
      ]
     },
     "execution_count": 2,
     "metadata": {},
     "output_type": "execute_result"
    }
   ],
   "source": [
    "lengthI(List.fill(1000000)(1))"
   ]
  },
  {
   "cell_type": "markdown",
   "metadata": {},
   "source": [
    "Some comments: \n",
    "- The recursive function is implemented in a _type-driven development_ style: we proceed, step-by-step, analysing the types of input data that are available, and the types of output that we have to generate. This leads to a divide-and-conquer problem solving strategy and hugely facilitates the implementation.\n",
    "- The recursive function is less efficient, since the stack will blow up with very long lists."
   ]
  },
  {
   "cell_type": "markdown",
   "metadata": {},
   "source": [
    "### Tail-recursive functions"
   ]
  },
  {
   "cell_type": "markdown",
   "metadata": {},
   "source": [
    "The implementation using tail-recursion solves the issues with the stack. It commonly makes use of auxiliary functions:"
   ]
  },
  {
   "cell_type": "code",
   "execution_count": 10,
   "metadata": {},
   "outputs": [
    {
     "data": {
      "text/plain": [
       "defined \u001b[32mfunction\u001b[39m \u001b[36mlengthTR\u001b[39m"
      ]
     },
     "execution_count": 10,
     "metadata": {},
     "output_type": "execute_result"
    }
   ],
   "source": [
    "// Using tail-recursive functions\n",
    "\n",
    "def lengthTR[A](l: List[A]): Int = \n",
    "\n",
    "    @scala.annotation.tailrec\n",
    "    def step(out: Int, aux: List[A]): Int = \n",
    "        if aux == Nil then out \n",
    "        else step(out+1, aux.tail)\n",
    "\n",
    "    step(0, l)\n"
   ]
  },
  {
   "cell_type": "code",
   "execution_count": 32,
   "metadata": {},
   "outputs": [
    {
     "data": {
      "text/plain": [
       "defined \u001b[32mfunction\u001b[39m \u001b[36mlengthTR\u001b[39m"
      ]
     },
     "execution_count": 32,
     "metadata": {},
     "output_type": "execute_result"
    }
   ],
   "source": [
    "// Using tail-recursive functions\n",
    "\n",
    "def lengthTR[A](l: List[A]): Int = \n",
    "\n",
    "    @scala.annotation.tailrec\n",
    "    def step(out: Int, aux: List[A]): Int = \n",
    "        aux match \n",
    "            case Nil => out \n",
    "            case _ :: t => \n",
    "                step(out+1, t)\n",
    "\n",
    "    step(0, l)\n"
   ]
  },
  {
   "cell_type": "code",
   "execution_count": 16,
   "metadata": {},
   "outputs": [
    {
     "data": {
      "text/plain": [
       "defined \u001b[32mfunction\u001b[39m \u001b[36mlengthTR\u001b[39m"
      ]
     },
     "execution_count": 16,
     "metadata": {},
     "output_type": "execute_result"
    }
   ],
   "source": [
    "// Using tail-recursive functions\n",
    "\n",
    "def lengthTR[A](l: List[A]): Int = \n",
    "\n",
    "    @scala.annotation.tailrec\n",
    "    def step(out: Int, aux: List[A]): Int = \n",
    "        aux match \n",
    "            case Nil => out \n",
    "            case h :: t =>\n",
    "                step(???, aux.tail)\n",
    "\n",
    "    step(???, l)\n"
   ]
  },
  {
   "cell_type": "code",
   "execution_count": 13,
   "metadata": {},
   "outputs": [
    {
     "data": {
      "text/plain": [
       "\u001b[36mres13\u001b[39m: \u001b[32mInt\u001b[39m = \u001b[32m1000000\u001b[39m"
      ]
     },
     "execution_count": 13,
     "metadata": {},
     "output_type": "execute_result"
    }
   ],
   "source": [
    "lengthTR(List.fill(1000000)(0))"
   ]
  },
  {
   "cell_type": "markdown",
   "metadata": {},
   "source": [
    "We can check the stack-safety problems of non-tail recursive functions by calculating the length of a very big list. We will use the following function, which creates a constant list of given length."
   ]
  },
  {
   "cell_type": "code",
   "execution_count": null,
   "metadata": {},
   "outputs": [],
   "source": [
    "// First, imperatively\n",
    "\n"
   ]
  },
  {
   "cell_type": "code",
   "execution_count": null,
   "metadata": {},
   "outputs": [],
   "source": [
    "// Next, tail-recursively\n",
    "\n"
   ]
  },
  {
   "cell_type": "markdown",
   "metadata": {},
   "source": [
    "We can also use the function [`fill`](https://www.scala-lang.org/api/2.13.3/scala/collection/immutable/List$.html#fill[A](n:Int)(elem:=%3EA):CC[A]) of the Scala standard library."
   ]
  },
  {
   "cell_type": "markdown",
   "metadata": {},
   "source": [
    "Now, let's calculate the length of a list long enough to blow up the stack, using each of the three implementations:"
   ]
  },
  {
   "cell_type": "code",
   "execution_count": null,
   "metadata": {},
   "outputs": [],
   "source": [
    "// Imperatively\n"
   ]
  },
  {
   "cell_type": "code",
   "execution_count": null,
   "metadata": {},
   "outputs": [],
   "source": [
    "// Tail-recursive\n"
   ]
  },
  {
   "cell_type": "code",
   "execution_count": null,
   "metadata": {},
   "outputs": [],
   "source": [
    "// Plain recursive\n"
   ]
  },
  {
   "cell_type": "markdown",
   "metadata": {},
   "source": [
    "### Unit testing with `scalatest`"
   ]
  },
  {
   "cell_type": "code",
   "execution_count": 17,
   "metadata": {},
   "outputs": [
    {
     "data": {
      "text/plain": [
       "\u001b[32mimport \u001b[39m\u001b[36m$ivy.$                                \n",
       "\u001b[39m\n",
       "\u001b[32mimport \u001b[39m\u001b[36morg.scalatest.{Filter => _, _}, flatspec._, matchers._\n",
       "\u001b[39m"
      ]
     },
     "execution_count": 17,
     "metadata": {},
     "output_type": "execute_result"
    }
   ],
   "source": [
    "import $ivy.`org.scalatest::scalatest:3.2.16`\n",
    "import org.scalatest.{Filter => _, _}, flatspec._, matchers._"
   ]
  },
  {
   "cell_type": "markdown",
   "metadata": {},
   "source": [
    "From now on, we will also make extensive use of unit testing for the different functions that we implement. And we will use the [`scalatest`](http://www.scalatest.org/) library for that purpose. In particular, for each function we will implement a test catalogue that test it against different test cases. The test catalogue receives the actual function to be tested as a parameter. For instance, this is a possible test class for the `length` function:"
   ]
  },
  {
   "cell_type": "code",
   "execution_count": 30,
   "metadata": {},
   "outputs": [
    {
     "data": {
      "text/plain": [
       "defined \u001b[32mclass\u001b[39m \u001b[36mTestLength\u001b[39m"
      ]
     },
     "execution_count": 30,
     "metadata": {},
     "output_type": "execute_result"
    }
   ],
   "source": [
    "class TestLength(lengthF: List[Int] => Int) \n",
    "extends AnyFlatSpec with should.Matchers:\n",
    "    \"length\" should \"work\" in:\n",
    "        lengthF(Nil) shouldBe 0\n",
    "        lengthF(List(1,2,3)) shouldBe 3\n",
    "        "
   ]
  },
  {
   "cell_type": "code",
   "execution_count": 33,
   "metadata": {},
   "outputs": [
    {
     "name": "stdout",
     "output_type": "stream",
     "text": [
      "\u001b[32mcell30$Helper$TestLength:\u001b[0m\n",
      "\u001b[32mlength\u001b[0m\n",
      "\u001b[32m- should work\u001b[0m\n",
      "\u001b[32mcell30$Helper$TestLength:\u001b[0m\n",
      "\u001b[32mlength\u001b[0m\n",
      "\u001b[32m- should work\u001b[0m\n",
      "\u001b[32mcell30$Helper$TestLength:\u001b[0m\n",
      "\u001b[32mlength\u001b[0m\n",
      "\u001b[32m- should work\u001b[0m\n"
     ]
    }
   ],
   "source": [
    "run(new TestLength(lengthI))\n",
    "run(new TestLength(lengthR))\n",
    "run(new TestLength(lengthTR))"
   ]
  },
  {
   "cell_type": "code",
   "execution_count": 28,
   "metadata": {},
   "outputs": [
    {
     "data": {
      "text/plain": [
       "defined \u001b[32mobject\u001b[39m \u001b[36mTestLengthTR\u001b[39m"
      ]
     },
     "execution_count": 28,
     "metadata": {},
     "output_type": "execute_result"
    }
   ],
   "source": [
    "object TestLengthTR extends AnyFlatSpec with should.Matchers:\n",
    "    \"lengthTR\" should \"work\" in:\n",
    "        lengthTR(Nil) shouldBe 0\n",
    "        lengthTR(List(1,2,3)) shouldBe 3\n",
    "        "
   ]
  },
  {
   "cell_type": "code",
   "execution_count": 26,
   "metadata": {},
   "outputs": [
    {
     "data": {
      "text/plain": [
       "defined \u001b[32mobject\u001b[39m \u001b[36mTestLengthR\u001b[39m"
      ]
     },
     "execution_count": 26,
     "metadata": {},
     "output_type": "execute_result"
    }
   ],
   "source": [
    "object TestLengthR extends AnyFlatSpec with should.Matchers:\n",
    "    \"lengthR\" should \"work\" in:\n",
    "        lengthR(Nil) shouldBe 0\n",
    "        lengthR(List(1,2,3)) shouldBe 3\n",
    "        "
   ]
  },
  {
   "cell_type": "code",
   "execution_count": 27,
   "metadata": {},
   "outputs": [
    {
     "name": "stdout",
     "output_type": "stream",
     "text": [
      "\u001b[32mcell26$Helper$TestLengthR:\u001b[0m\n",
      "\u001b[32mlengthR\u001b[0m\n",
      "\u001b[32m- should work\u001b[0m\n"
     ]
    }
   ],
   "source": [
    "run(TestLengthR)"
   ]
  },
  {
   "cell_type": "code",
   "execution_count": 24,
   "metadata": {},
   "outputs": [
    {
     "data": {
      "text/plain": [
       "defined \u001b[32mobject\u001b[39m \u001b[36mTestLengthI\u001b[39m"
      ]
     },
     "execution_count": 24,
     "metadata": {},
     "output_type": "execute_result"
    }
   ],
   "source": [
    "object TestLengthI extends AnyFlatSpec with should.Matchers:\n",
    "    \"lengthI\" should \"work\" in:\n",
    "        lengthI(Nil) shouldBe 0\n",
    "        lengthI(List(1,2,3)) shouldBe 3\n",
    "        "
   ]
  },
  {
   "cell_type": "code",
   "execution_count": 25,
   "metadata": {},
   "outputs": [
    {
     "name": "stdout",
     "output_type": "stream",
     "text": [
      "\u001b[32mcell24$Helper$TestLengthI:\u001b[0m\n",
      "\u001b[32mlengthI\u001b[0m\n",
      "\u001b[32m- should work\u001b[0m\n"
     ]
    }
   ],
   "source": [
    "run(TestLengthI)"
   ]
  },
  {
   "cell_type": "code",
   "execution_count": 18,
   "metadata": {},
   "outputs": [
    {
     "data": {
      "text/plain": [
       "defined \u001b[32mclass\u001b[39m \u001b[36mTestLength\u001b[39m"
      ]
     },
     "execution_count": 18,
     "metadata": {},
     "output_type": "execute_result"
    }
   ],
   "source": [
    "class TestLength(lengthF: List[Int] => Int) extends AnyFlatSpec with should.Matchers:\n",
    "    \"length\" should \"work\" in:\n",
    "        "
   ]
  },
  {
   "cell_type": "markdown",
   "metadata": {},
   "source": [
    "The method `shouldBe` is a _matcher_. The scalatest library offers an extensive catalogue of [them](http://www.scalatest.org/user_guide/using_matchers). Similarly, scalatest also support many different [testing styles](http://www.scalatest.org/user_guide/selecting_a_style). The chosen one here was `FlatSpec`. In order to execute the test catalogue we can simply use the scalatest method `run`:"
   ]
  },
  {
   "cell_type": "code",
   "execution_count": null,
   "metadata": {},
   "outputs": [],
   "source": [
    "run(TestLength(lengthR))"
   ]
  },
  {
   "cell_type": "markdown",
   "metadata": {},
   "source": [
    "### Example: adding numbers"
   ]
  },
  {
   "cell_type": "markdown",
   "metadata": {},
   "source": [
    "Let's implement a function that sums all the numbers of a list."
   ]
  },
  {
   "cell_type": "code",
   "execution_count": 37,
   "metadata": {},
   "outputs": [
    {
     "data": {
      "text/plain": [
       "defined \u001b[32mclass\u001b[39m \u001b[36mTestSum\u001b[39m"
      ]
     },
     "execution_count": 37,
     "metadata": {},
     "output_type": "execute_result"
    }
   ],
   "source": [
    "class TestSum(sum: List[Int] => Int) extends AnyFlatSpec with should.Matchers:\n",
    "    \"sum\" should \"work\" in:\n",
    "        sum(Nil) shouldBe 0\n",
    "        sum(List(3)) shouldBe 3\n",
    "        sum(List(1,2,3,4)) shouldBe 10\n",
    "        sum(1 :: List(2,3,4)) shouldBe 1+9"
   ]
  },
  {
   "cell_type": "code",
   "execution_count": 38,
   "metadata": {},
   "outputs": [
    {
     "data": {
      "text/plain": [
       "defined \u001b[32mfunction\u001b[39m \u001b[36msumR\u001b[39m"
      ]
     },
     "execution_count": 38,
     "metadata": {},
     "output_type": "execute_result"
    }
   ],
   "source": [
    "def sumR(l: List[Int]): Int = \n",
    "    l match \n",
    "        case Nil => 0 : Int\n",
    "        case h :: (t: List[Int]) => \n",
    "            val tailSol: Int = sumR(t)\n",
    "            tailSol + h : Int"
   ]
  },
  {
   "cell_type": "code",
   "execution_count": 42,
   "metadata": {},
   "outputs": [
    {
     "data": {
      "text/plain": [
       "defined \u001b[32mfunction\u001b[39m \u001b[36msumR\u001b[39m"
      ]
     },
     "execution_count": 42,
     "metadata": {},
     "output_type": "execute_result"
    }
   ],
   "source": [
    "def sumR(l: List[Int]): Int = \n",
    "    l match \n",
    "        case Nil => 0\n",
    "        case h :: t => \n",
    "            sumR(t) + h"
   ]
  },
  {
   "cell_type": "code",
   "execution_count": 39,
   "metadata": {},
   "outputs": [
    {
     "name": "stdout",
     "output_type": "stream",
     "text": [
      "\u001b[32mcell37$Helper$TestSum:\u001b[0m\n",
      "\u001b[32msum\u001b[0m\n",
      "\u001b[32m- should work\u001b[0m\n"
     ]
    }
   ],
   "source": [
    "run(TestSum(sumR))"
   ]
  },
  {
   "cell_type": "code",
   "execution_count": 40,
   "metadata": {},
   "outputs": [
    {
     "data": {
      "text/plain": [
       "defined \u001b[32mfunction\u001b[39m \u001b[36msumTR\u001b[39m"
      ]
     },
     "execution_count": 40,
     "metadata": {},
     "output_type": "execute_result"
    }
   ],
   "source": [
    "// With tail-recursion\n",
    "\n",
    "// Using tail-recursive functions\n",
    "\n",
    "def sumTR(l: List[Int]): Int = \n",
    "\n",
    "    @scala.annotation.tailrec\n",
    "    def step(out: Int, aux: List[Int]): Int = \n",
    "        aux match \n",
    "            case Nil => out \n",
    "            case h :: t =>\n",
    "                step(out + h, aux.tail)\n",
    "\n",
    "    step(0, l)\n"
   ]
  },
  {
   "cell_type": "code",
   "execution_count": 41,
   "metadata": {},
   "outputs": [
    {
     "name": "stdout",
     "output_type": "stream",
     "text": [
      "\u001b[32mcell37$Helper$TestSum:\u001b[0m\n",
      "\u001b[32msum\u001b[0m\n",
      "\u001b[32m- should work\u001b[0m\n"
     ]
    }
   ],
   "source": [
    "run(TestSum(sumTR))"
   ]
  },
  {
   "cell_type": "markdown",
   "metadata": {},
   "source": [
    "### Example: multiplying list elements"
   ]
  },
  {
   "cell_type": "markdown",
   "metadata": {},
   "source": [
    "Let's multiply the elements of a list. If the list is empty we return the identity element for integers."
   ]
  },
  {
   "cell_type": "code",
   "execution_count": 43,
   "metadata": {},
   "outputs": [
    {
     "data": {
      "text/plain": [
       "defined \u001b[32mclass\u001b[39m \u001b[36mTestProduct\u001b[39m"
      ]
     },
     "execution_count": 43,
     "metadata": {},
     "output_type": "execute_result"
    }
   ],
   "source": [
    "class TestProduct(product: List[Int] => Int) extends AnyFlatSpec with should.Matchers:\n",
    "    \"product\" should \"work\" in:\n",
    "        product(List(1,2,3,4)) shouldBe 24\n",
    "        product(1 :: List(2,3,4)) shouldBe 1 * 24 \n",
    "        product(List(3)) shouldBe 3\n",
    "        product(Nil) shouldBe 1\n",
    "        product(List(1,2,3,0,5,6)) shouldBe 0"
   ]
  },
  {
   "cell_type": "markdown",
   "metadata": {},
   "source": [
    " This is the common recursive implementation:"
   ]
  },
  {
   "cell_type": "code",
   "execution_count": 44,
   "metadata": {},
   "outputs": [
    {
     "data": {
      "text/plain": [
       "defined \u001b[32mfunction\u001b[39m \u001b[36mproduct\u001b[39m"
      ]
     },
     "execution_count": 44,
     "metadata": {},
     "output_type": "execute_result"
    }
   ],
   "source": [
    "def product(l: List[Int]): Int = \n",
    "    l match \n",
    "        case Nil => ??? : Int\n",
    "        case h :: t => \n",
    "            val tailSol: Int = product(t)\n",
    "            ??? : Int"
   ]
  },
  {
   "cell_type": "code",
   "execution_count": 45,
   "metadata": {},
   "outputs": [
    {
     "data": {
      "text/plain": [
       "defined \u001b[32mfunction\u001b[39m \u001b[36mproduct\u001b[39m"
      ]
     },
     "execution_count": 45,
     "metadata": {},
     "output_type": "execute_result"
    }
   ],
   "source": [
    "def product(l: List[Int]): Int = \n",
    "    l match \n",
    "        case Nil => 1 : Int\n",
    "        case h :: t => \n",
    "            val tailSol: Int = product(t)\n",
    "            h * tailSol : Int"
   ]
  },
  {
   "cell_type": "code",
   "execution_count": 47,
   "metadata": {},
   "outputs": [
    {
     "data": {
      "text/plain": [
       "defined \u001b[32mfunction\u001b[39m \u001b[36mproduct\u001b[39m"
      ]
     },
     "execution_count": 47,
     "metadata": {},
     "output_type": "execute_result"
    }
   ],
   "source": [
    "def product(l: List[Int]): Int = \n",
    "    l match \n",
    "        case Nil => 1 : Int\n",
    "        case h :: t => \n",
    "            if h == 0 then 0\n",
    "            else \n",
    "                val tailSol: Int = product(t)\n",
    "                h * tailSol : Int"
   ]
  },
  {
   "cell_type": "code",
   "execution_count": 51,
   "metadata": {},
   "outputs": [
    {
     "data": {
      "text/plain": [
       "defined \u001b[32mfunction\u001b[39m \u001b[36mproduct\u001b[39m"
      ]
     },
     "execution_count": 51,
     "metadata": {},
     "output_type": "execute_result"
    }
   ],
   "source": [
    "def product(l: List[Int]): Int = \n",
    "    l match \n",
    "        case Nil => 1 : Int\n",
    "        case 0 :: t => 0\n",
    "        // case h :: _ if h == 0 => 0\n",
    "        case h :: t =>  \n",
    "            val tailSol: Int = product(t)\n",
    "            h * tailSol : Int"
   ]
  },
  {
   "cell_type": "code",
   "execution_count": 48,
   "metadata": {},
   "outputs": [
    {
     "name": "stdout",
     "output_type": "stream",
     "text": [
      "\u001b[32mcell43$Helper$TestProduct:\u001b[0m\n",
      "\u001b[32mproduct\u001b[0m\n",
      "\u001b[32m- should work\u001b[0m\n"
     ]
    }
   ],
   "source": [
    "run(TestProduct(product))"
   ]
  },
  {
   "cell_type": "markdown",
   "metadata": {},
   "source": [
    "But we can optimize the function a little bit. Note that if the number 0 belongs to the list, then the result is 0, no matter how many elements the list has. So, once we find the element 0 it's a waste of resources to make the recursive call. Let's take this into account."
   ]
  },
  {
   "cell_type": "code",
   "execution_count": null,
   "metadata": {},
   "outputs": [],
   "source": [
    "// optimization for 0\n",
    "\n"
   ]
  },
  {
   "cell_type": "code",
   "execution_count": null,
   "metadata": {},
   "outputs": [],
   "source": [
    "run(TestProduct(product2))"
   ]
  },
  {
   "cell_type": "markdown",
   "metadata": {},
   "source": [
    "A similar optimization can be made for the tail-recursive implementation."
   ]
  },
  {
   "cell_type": "markdown",
   "metadata": {},
   "source": [
    "### Example: membership"
   ]
  },
  {
   "cell_type": "markdown",
   "metadata": {},
   "source": [
    "Let's implement a function that given a list and an element, returns whether the element belongs to that list."
   ]
  },
  {
   "cell_type": "code",
   "execution_count": 52,
   "metadata": {},
   "outputs": [
    {
     "data": {
      "text/plain": [
       "defined \u001b[32mclass\u001b[39m \u001b[36mTestMember\u001b[39m"
      ]
     },
     "execution_count": 52,
     "metadata": {},
     "output_type": "execute_result"
    }
   ],
   "source": [
    "class TestMember(member: (List[Int], Int) => Boolean) extends AnyFlatSpec with should.Matchers:\n",
    "    \"member\" should \"work\" in:\n",
    "        member(List(1,2,3), 3) shouldBe true\n",
    "        member(List(1,2,3), 0) shouldBe false\n",
    "        member(Nil, 9) shouldBe false"
   ]
  },
  {
   "cell_type": "code",
   "execution_count": 60,
   "metadata": {},
   "outputs": [
    {
     "data": {
      "text/plain": [
       "defined \u001b[32mfunction\u001b[39m \u001b[36mmemberR\u001b[39m"
      ]
     },
     "execution_count": 60,
     "metadata": {},
     "output_type": "execute_result"
    }
   ],
   "source": [
    "def memberR(l: List[Int], e: Int): Boolean = \n",
    "    l match \n",
    "        case Nil => false : Boolean \n",
    "        case h :: t => \n",
    "            val tailSol: Boolean = memberR(t, e)\n",
    "            tailSol || (h == e) : Boolean\n",
    "            // (h == e) || tailSol : Boolean"
   ]
  },
  {
   "cell_type": "code",
   "execution_count": 63,
   "metadata": {},
   "outputs": [
    {
     "data": {
      "text/plain": [
       "defined \u001b[32mfunction\u001b[39m \u001b[36mmemberR\u001b[39m"
      ]
     },
     "execution_count": 63,
     "metadata": {},
     "output_type": "execute_result"
    }
   ],
   "source": [
    "def memberR(l: List[Int], e: Int): Boolean = \n",
    "    l match \n",
    "        case Nil => false : Boolean \n",
    "        case h :: t => \n",
    "            memberR(t, e) || (h == e) : Boolean\n",
    "            (h == e) || memberR(t, e) : Boolean"
   ]
  },
  {
   "cell_type": "code",
   "execution_count": 65,
   "metadata": {},
   "outputs": [
    {
     "data": {
      "text/plain": [
       "defined \u001b[32mfunction\u001b[39m \u001b[36mmemberR\u001b[39m"
      ]
     },
     "execution_count": 65,
     "metadata": {},
     "output_type": "execute_result"
    }
   ],
   "source": [
    "def memberR(l: List[Int], e: Int): Boolean = \n",
    "    l match \n",
    "        case Nil => false : Boolean \n",
    "        case h :: t if h == e => true\n",
    "        case h :: t => memberR(t, e)"
   ]
  },
  {
   "cell_type": "code",
   "execution_count": 73,
   "metadata": {},
   "outputs": [
    {
     "data": {
      "text/plain": [
       "defined \u001b[32mfunction\u001b[39m \u001b[36mmemberR\u001b[39m"
      ]
     },
     "execution_count": 73,
     "metadata": {},
     "output_type": "execute_result"
    }
   ],
   "source": [
    "def memberR[A](l: List[A], e: A): Boolean = \n",
    "    l match \n",
    "        case Nil => false : Boolean \n",
    "        case `e` :: t => true\n",
    "        case h :: t => memberR(t, e)"
   ]
  },
  {
   "cell_type": "code",
   "execution_count": 75,
   "metadata": {},
   "outputs": [
    {
     "name": "stdout",
     "output_type": "stream",
     "text": [
      "\u001b[32mcell52$Helper$TestMember:\u001b[0m\n",
      "\u001b[32mmember\u001b[0m\n",
      "\u001b[32m- should work\u001b[0m\n"
     ]
    }
   ],
   "source": [
    "run(TestMember(memberR[Int]))"
   ]
  },
  {
   "cell_type": "code",
   "execution_count": 77,
   "metadata": {},
   "outputs": [
    {
     "name": "stdout",
     "output_type": "stream",
     "text": [
      "\u001b[32mcell52$Helper$TestMember:\u001b[0m\n",
      "\u001b[32mmember\u001b[0m\n",
      "\u001b[32m- should work\u001b[0m\n"
     ]
    }
   ],
   "source": [
    "run(TestMember(memberR))"
   ]
  },
  {
   "cell_type": "markdown",
   "metadata": {},
   "source": [
    "We can also pattern match against a specific value as follows:"
   ]
  },
  {
   "cell_type": "code",
   "execution_count": null,
   "metadata": {},
   "outputs": [],
   "source": []
  },
  {
   "cell_type": "markdown",
   "metadata": {},
   "source": [
    "### Example: last element"
   ]
  },
  {
   "cell_type": "markdown",
   "metadata": {},
   "source": [
    "Let's implement a function that returns the last element of a given list. Note that an empty list does not have elements, and, hence, does not have a last element."
   ]
  },
  {
   "cell_type": "code",
   "execution_count": 78,
   "metadata": {},
   "outputs": [
    {
     "data": {
      "text/plain": [
       "defined \u001b[32mclass\u001b[39m \u001b[36mTestLast\u001b[39m"
      ]
     },
     "execution_count": 78,
     "metadata": {},
     "output_type": "execute_result"
    }
   ],
   "source": [
    "class TestLast(last: List[Int] => Option[Int]) extends AnyFlatSpec with should.Matchers:\n",
    "    \"last\" should \"work\" in:\n",
    "        last(List(1,2,3)) shouldBe Some(3)\n",
    "        last(List(1)) shouldBe Some(1)\n",
    "        last(Nil) shouldBe None"
   ]
  },
  {
   "cell_type": "code",
   "execution_count": 80,
   "metadata": {},
   "outputs": [
    {
     "data": {
      "text/plain": [
       "defined \u001b[32mfunction\u001b[39m \u001b[36mlast\u001b[39m"
      ]
     },
     "execution_count": 80,
     "metadata": {},
     "output_type": "execute_result"
    }
   ],
   "source": [
    "def last[A](l: List[A]): Option[A] = \n",
    "    @annotation.tailrec\n",
    "    def step(out: Option[A], aux: List[A]): Option[A] = \n",
    "        aux match \n",
    "            case Nil => out\n",
    "            case h :: t => \n",
    "                step( Some(h) /*???(out, h)*/, t)\n",
    "\n",
    "    step(None, l)"
   ]
  },
  {
   "cell_type": "code",
   "execution_count": 81,
   "metadata": {},
   "outputs": [
    {
     "name": "stdout",
     "output_type": "stream",
     "text": [
      "\u001b[32mcell78$Helper$TestLast:\u001b[0m\n",
      "\u001b[32mlast\u001b[0m\n",
      "\u001b[32m- should work\u001b[0m\n"
     ]
    }
   ],
   "source": [
    "run(TestLast(last))"
   ]
  },
  {
   "cell_type": "markdown",
   "metadata": {},
   "source": [
    "### Example: insert last"
   ]
  },
  {
   "cell_type": "markdown",
   "metadata": {},
   "source": [
    "Now, a function that allows us to insert an element at the end of the list. "
   ]
  },
  {
   "cell_type": "code",
   "execution_count": null,
   "metadata": {},
   "outputs": [],
   "source": [
    "class TestInsertLast(insertLast: (List[Int], Int) => List[Int]) \n",
    "extends AnyFlatSpec with should.Matchers:\n",
    "    \"insertLast\" should \"work\" in:\n",
    "        ???"
   ]
  },
  {
   "cell_type": "code",
   "execution_count": null,
   "metadata": {},
   "outputs": [],
   "source": []
  },
  {
   "cell_type": "code",
   "execution_count": null,
   "metadata": {},
   "outputs": [],
   "source": [
    "run(TestInsertLast(insertLast))"
   ]
  },
  {
   "cell_type": "markdown",
   "metadata": {},
   "source": [
    "### Example: reverse lists"
   ]
  },
  {
   "cell_type": "markdown",
   "metadata": {},
   "source": [
    "Implement a function which receives a list and returns its reverse."
   ]
  },
  {
   "cell_type": "code",
   "execution_count": 82,
   "metadata": {},
   "outputs": [
    {
     "data": {
      "text/plain": [
       "defined \u001b[32mclass\u001b[39m \u001b[36mTestReverse\u001b[39m"
      ]
     },
     "execution_count": 82,
     "metadata": {},
     "output_type": "execute_result"
    }
   ],
   "source": [
    "class TestReverse(reverse: List[Int] => List[Int]) extends AnyFlatSpec with should.Matchers:\n",
    "    \"reverse\" should \"work\" in:\n",
    "        ???"
   ]
  },
  {
   "cell_type": "code",
   "execution_count": null,
   "metadata": {},
   "outputs": [],
   "source": [
    "// Really inefficient \n",
    "\n"
   ]
  },
  {
   "cell_type": "code",
   "execution_count": null,
   "metadata": {},
   "outputs": [],
   "source": [
    "run(TestReverse(reverse))"
   ]
  },
  {
   "cell_type": "code",
   "execution_count": null,
   "metadata": {},
   "outputs": [],
   "source": [
    "// Tail-recursive, efficiently\n",
    "\n"
   ]
  },
  {
   "cell_type": "code",
   "execution_count": null,
   "metadata": {},
   "outputs": [],
   "source": [
    "run(TestReverse(reverseTR))"
   ]
  },
  {
   "cell_type": "markdown",
   "metadata": {},
   "source": [
    "### Example: concatenate lists"
   ]
  },
  {
   "cell_type": "code",
   "execution_count": null,
   "metadata": {},
   "outputs": [],
   "source": [
    "class TestConcatenate(concatenate: (List[Int], List[Int]) => List[Int]) \n",
    "extends AnyFlatSpec with should.Matchers:\n",
    "    \"concatenate\" should \"work\" in:\n",
    "        ???"
   ]
  },
  {
   "cell_type": "code",
   "execution_count": null,
   "metadata": {},
   "outputs": [],
   "source": []
  },
  {
   "cell_type": "code",
   "execution_count": null,
   "metadata": {},
   "outputs": [],
   "source": [
    "run(TestConcatenate(concatenate))"
   ]
  },
  {
   "cell_type": "markdown",
   "metadata": {},
   "source": [
    "Tail-recursive concatenation:"
   ]
  },
  {
   "cell_type": "code",
   "execution_count": null,
   "metadata": {},
   "outputs": [],
   "source": []
  },
  {
   "cell_type": "code",
   "execution_count": null,
   "metadata": {},
   "outputs": [],
   "source": [
    "run(TestConcatenate(concatenateTR))"
   ]
  }
 ],
 "metadata": {
  "kernelspec": {
   "display_name": "Scala 3.3",
   "language": "scala",
   "name": "scala33"
  },
  "language_info": {
   "codemirror_mode": "text/x-scala",
   "file_extension": ".sc",
   "mimetype": "text/x-scala",
   "name": "scala",
   "nbconvert_exporter": "script",
   "version": "2.13.12"
  }
 },
 "nbformat": 4,
 "nbformat_minor": 4
}
