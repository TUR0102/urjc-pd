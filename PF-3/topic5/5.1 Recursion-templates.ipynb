{
 "cells": [
  {
   "cell_type": "markdown",
   "metadata": {},
   "source": [
    "# Topic 5. Recursive functions and data types"
   ]
  },
  {
   "cell_type": "markdown",
   "metadata": {},
   "source": [
    "The goals of this topic are to understand:\n",
    "\n",
    "* How recursive types (lists, trees, etc.) are defined algebraically\n",
    "* How functions over recursive types are defined recursivelly\n",
    "* The two major types of recursive functions: general and tail-recursive"
   ]
  },
  {
   "cell_type": "markdown",
   "metadata": {},
   "source": [
    "### References\n",
    "\n",
    "[__Programming in Scala, \n",
    "A comprehensive step-by-step guide__](https://www.artima.com/shop/programming_in_scala_3ed) Third Edition.\n",
    "by Martin Odersky, Lex Spoon, and Bill Venners. \n",
    "\n",
    "- Chapter 16. Working with Lists\n",
    "- Chapter 26. Extractors (optional)\n",
    "\n",
    "[__Functional programming in Scala__](https://www.manning.com/books/functional-programming-in-scala), by Paul Chiusano and Runar Bjarnason.\n",
    "\n",
    "- Chapter 3. Functional data structures\n",
    "\n",
    "[__Functional programming simplified__](https://alvinalexander.com/downloads/fpsimplified-free-preview.pdf), by Alvin Alexander.\n",
    "\n",
    "- Chapters 29-36. Recursion."
   ]
  },
  {
   "cell_type": "markdown",
   "metadata": {},
   "source": [
    "## Recursive types"
   ]
  },
  {
   "cell_type": "markdown",
   "metadata": {},
   "source": [
    "### The `List` type"
   ]
  },
  {
   "cell_type": "markdown",
   "metadata": {},
   "source": [
    "Lists are data structures which represent sequences of values of the same type, of finite length. They can be defined recursively in an informal way as follows: \n",
    "- A list is the empty sequence\n",
    "- A list is a non-empty sequence made of a value and another list, which represent the head and tail of the list, respectively\n",
    "\n",
    "Thus, the type `IntList`, which represents lists of integers, must satisfy the following algebraic equation:\n",
    "\n",
    "`IntList = 1 + Int * IntList`\n",
    "\n",
    "i.e., a list of integers is the empty sequence (represented by the singleton type `1`), or an integer (the head) and a list (its tail).\n",
    "\n"
   ]
  },
  {
   "cell_type": "markdown",
   "metadata": {},
   "source": [
    "[]            - 1\n",
    "[1]           - |Int|\n",
    "[1,2]         - |Int|*|Int|\n",
    "[3,4,5]       - |Int|*|Int|*|Int|\n",
    "...\n",
    "\n",
    "|List[Int]| = 1 + |Int| + |Int|*|Int| + |Int|*|Int|*|Int| + ...\n",
    "\n",
    "List[Int] = Unit + Int*Unit + Int*Int + Int*Int*Int + ....\n",
    "   = Unit + Int*(Unit + Int + Int*Int + ...)\n",
    "   = Unit + Int*List[Int]"
   ]
  },
  {
   "cell_type": "markdown",
   "metadata": {},
   "source": [
    "The implementation in Scala is similar to the following one (we also give the generic version `List[A]`, rather than the implementation of `IntList`):"
   ]
  },
  {
   "cell_type": "code",
   "execution_count": null,
   "metadata": {},
   "outputs": [],
   "source": [
    "object StdDefinition:\n",
    "    enum IntList: \n",
    "        case Empty()\n",
    "        case NonEmpty(head: Int, tail: IntList)"
   ]
  },
  {
   "cell_type": "code",
   "execution_count": null,
   "metadata": {},
   "outputs": [],
   "source": [
    "import StdDefinition.IntList._\n",
    "\n",
    "// [1,2,3]\n",
    "NonEmpty(1, NonEmpty(2, NonEmpty(3, Empty())))"
   ]
  },
  {
   "cell_type": "code",
   "execution_count": null,
   "metadata": {},
   "outputs": [],
   "source": [
    "object StdDefinition:\n",
    "    enum List[A]: \n",
    "        case Empty()\n",
    "        case NonEmpty(head: A, tail: List[A])"
   ]
  },
  {
   "cell_type": "code",
   "execution_count": null,
   "metadata": {},
   "outputs": [],
   "source": [
    "object StdDefinition:\n",
    "    enum List[A]: \n",
    "        case Nil()\n",
    "        case ::(head: A, tail: List[A])"
   ]
  },
  {
   "cell_type": "code",
   "execution_count": null,
   "metadata": {},
   "outputs": [],
   "source": [
    "val l: List[Int] = Nil\n",
    "val l1: List[Int] = ::(1, ::(2, ::(3, Nil)))"
   ]
  },
  {
   "cell_type": "code",
   "execution_count": null,
   "metadata": {},
   "outputs": [],
   "source": [
    "val l: List[Int] = Nil\n",
    "val l1: List[Int] = 1 :: (2 :: (3 :: Nil))\n",
    "val l2: List[Int] = List(1, 2, 3)"
   ]
  },
  {
   "cell_type": "code",
   "execution_count": null,
   "metadata": {},
   "outputs": [],
   "source": [
    "def isLeft(e: Either[Int, String]): Boolean = \n",
    "    e match \n",
    "        case Left(_) => true\n",
    "        case Right(_) => true"
   ]
  },
  {
   "cell_type": "code",
   "execution_count": null,
   "metadata": {},
   "outputs": [],
   "source": [
    "def isEmpty(l: List[Int]): Boolean = \n",
    "    l match \n",
    "        case Nil => true \n",
    "        case ::(head, tail) => false"
   ]
  },
  {
   "cell_type": "code",
   "execution_count": null,
   "metadata": {},
   "outputs": [],
   "source": [
    "def isEmpty(l: List[Int]): Boolean = \n",
    "    l match \n",
    "        case Nil => true \n",
    "        case head :: tail => false"
   ]
  },
  {
   "cell_type": "code",
   "execution_count": null,
   "metadata": {},
   "outputs": [],
   "source": [
    "List(1,2) match \n",
    "    case List(_, _, _) => \"yes\"\n",
    "    case _ => \"no\""
   ]
  },
  {
   "cell_type": "markdown",
   "metadata": {},
   "source": [
    "However the actual implementation of [immutable lists](https://github.com/scala/scala/blob/v2.13.1/src/library/scala/collection/immutable/List.scala#L79) in the standard library of Scala defines the empty list as an object, rather than a class. This forces us to declare the list covariantly in its generic parameter `A`, which is somewhat inconvenient at times.  The standard definition looks like as follows:"
   ]
  },
  {
   "cell_type": "code",
   "execution_count": null,
   "metadata": {},
   "outputs": [],
   "source": [
    "object ActualStdDefinition:\n"
   ]
  },
  {
   "cell_type": "markdown",
   "metadata": {},
   "source": [
    "### Some syntactic sugar"
   ]
  },
  {
   "cell_type": "markdown",
   "metadata": {},
   "source": [
    "Note that we can write standard lists with a more compact syntax: "
   ]
  },
  {
   "cell_type": "code",
   "execution_count": null,
   "metadata": {},
   "outputs": [],
   "source": [
    "// Less beautifully \n",
    "\n",
    "// More idiomatically\n"
   ]
  },
  {
   "cell_type": "markdown",
   "metadata": {},
   "source": [
    "And we can also pattern match on lists, similarly:"
   ]
  },
  {
   "cell_type": "code",
   "execution_count": null,
   "metadata": {},
   "outputs": [],
   "source": [
    "// Less beautifully\n",
    "\n",
    "\n",
    "// more idiomatically\n",
    "\n",
    "\n",
    "// or\n",
    "\n"
   ]
  },
  {
   "cell_type": "markdown",
   "metadata": {},
   "source": [
    "##  Recursive functions"
   ]
  },
  {
   "cell_type": "markdown",
   "metadata": {},
   "source": [
    "Since lists are defined recursively, functions over lists will be commonly recursive as well. For instance, let's implement a recursive function that computes the length of a list. But before, let's implement the function imperatively for the sake of comparison:"
   ]
  },
  {
   "cell_type": "code",
   "execution_count": 2,
   "metadata": {},
   "outputs": [
    {
     "data": {
      "text/plain": [
       "defined \u001b[32mfunction\u001b[39m \u001b[36mlengthI\u001b[39m"
      ]
     },
     "execution_count": 2,
     "metadata": {},
     "output_type": "execute_result"
    }
   ],
   "source": [
    "// Using mutable variables\n",
    "\n",
    "def lengthI[A](l: List[A]): Int = \n",
    "    var out: Int = 0\n",
    "    var aux: List[A] = l\n",
    "    while aux != Nil do \n",
    "        out += 1\n",
    "        aux = aux.tail\n",
    "\n",
    "    /*return*/ out\n"
   ]
  },
  {
   "cell_type": "code",
   "execution_count": null,
   "metadata": {},
   "outputs": [],
   "source": [
    "// invoke\n",
    "lengthI(List(1,2,3,4,5))\n",
    "lengthI(List())\n",
    "lengthI(List('1', 'd', 'w'))"
   ]
  },
  {
   "cell_type": "markdown",
   "metadata": {},
   "source": [
    "The recursive function is implemented as follows: "
   ]
  },
  {
   "cell_type": "code",
   "execution_count": null,
   "metadata": {},
   "outputs": [],
   "source": [
    "// Using recursive functions\n",
    "def lengthR[A](l: List[A]): Int = \n",
    "    l match \n",
    "        case Nil => ??? : Int\n",
    "        case head :: tail => \n",
    "            val tailSol: Int = lengthR(tail)\n",
    "            ??? : Int\n"
   ]
  },
  {
   "cell_type": "code",
   "execution_count": 3,
   "metadata": {},
   "outputs": [
    {
     "data": {
      "text/plain": [
       "defined \u001b[32mfunction\u001b[39m \u001b[36mlengthR\u001b[39m"
      ]
     },
     "execution_count": 3,
     "metadata": {},
     "output_type": "execute_result"
    }
   ],
   "source": [
    "// Using recursive functions\n",
    "def lengthR[A](l: List[A]): Int = \n",
    "    l match \n",
    "        case Nil => 0 : Int\n",
    "        case head :: tail => \n",
    "            val tailSol: Int = lengthR(tail)\n",
    "            tailSol + 1 : Int"
   ]
  },
  {
   "cell_type": "code",
   "execution_count": null,
   "metadata": {},
   "outputs": [],
   "source": [
    "// Using recursive functions\n",
    "//@annotation.tailrec\n",
    "def lengthR[A](l: List[A]): Int = \n",
    "    l match \n",
    "        case Nil => 0\n",
    "        case head :: tail => \n",
    "            lengthR(tail) + 1"
   ]
  },
  {
   "cell_type": "code",
   "execution_count": null,
   "metadata": {},
   "outputs": [],
   "source": [
    "lengthR(List(1,2,3,4)) == lengthI(List(1,2,3,4))"
   ]
  },
  {
   "cell_type": "code",
   "execution_count": null,
   "metadata": {},
   "outputs": [],
   "source": [
    "lengthI(List.fill(100000)(0))"
   ]
  },
  {
   "cell_type": "code",
   "execution_count": null,
   "metadata": {
    "tags": []
   },
   "outputs": [],
   "source": [
    "lengthR(List.fill(10000)(0))"
   ]
  },
  {
   "cell_type": "markdown",
   "metadata": {},
   "source": [
    "Some comments: \n",
    "- The recursive function is implemented in a _type-driven development_ style: we proceed, step-by-step, analysing the types of input data that are available, and the types of output that we have to generate. This leads to a divide-and-conquer problem solving strategy and hugely facilitates the implementation.\n",
    "- The recursive function is less efficient, since the stack will blow up with very long lists."
   ]
  },
  {
   "cell_type": "markdown",
   "metadata": {},
   "source": [
    "### Tail-recursive functions"
   ]
  },
  {
   "cell_type": "markdown",
   "metadata": {},
   "source": [
    "The implementation using tail-recursion solves the issues with the stack. It commonly makes use of auxiliary functions:"
   ]
  },
  {
   "cell_type": "code",
   "execution_count": 4,
   "metadata": {},
   "outputs": [
    {
     "data": {
      "text/plain": [
       "defined \u001b[32mfunction\u001b[39m \u001b[36mlengthTR\u001b[39m"
      ]
     },
     "execution_count": 4,
     "metadata": {},
     "output_type": "execute_result"
    }
   ],
   "source": [
    "// Using tail-recursive functions\n",
    "def lengthTR[A](l: List[A]): Int = \n",
    "\n",
    "    @annotation.tailrec\n",
    "    def step(out: Int, aux: List[A]): Int = \n",
    "        if aux == Nil then out\n",
    "        else step(out + 1, aux.tail)\n",
    "\n",
    "    step(0, l)\n",
    "\n",
    "/*\n",
    "    var out: Int = 0\n",
    "    var aux: List[A] = l\n",
    "    while aux != Nil do \n",
    "        out += 1\n",
    "        aux = aux.tail\n",
    "    out\n",
    "*/"
   ]
  },
  {
   "cell_type": "code",
   "execution_count": null,
   "metadata": {},
   "outputs": [],
   "source": [
    "// Using tail-recursive functions\n",
    "def lengthTR[A](l: List[A]): Int = \n",
    "\n",
    "    @annotation.tailrec\n",
    "    def step(out: Int, aux: List[A]): Int = \n",
    "        if aux == Nil then out\n",
    "        else step(???(out, aux.head), aux.tail)\n",
    "\n",
    "    step(???, l)\n",
    "\n",
    "/*\n",
    "    var out: Int = 0\n",
    "    var aux: List[A] = l\n",
    "    while aux != Nil do \n",
    "        out += 1\n",
    "        aux = aux.tail\n",
    "    out\n",
    "*/"
   ]
  },
  {
   "cell_type": "code",
   "execution_count": null,
   "metadata": {},
   "outputs": [
    {
     "name": "stderr",
     "output_type": "stream",
     "text": [
      "-- [E050] Type Error: cell1.sc:8:21 --------------------------------------------\n",
      "8 |                step(???(out, head), tail)\n",
      "  |                     ^^^\n",
      "  |                     method ??? in object Predef does not take parameters\n",
      "  |\n",
      "  | longer explanation available when compiling with `-explain`\n",
      "Compilation Failed"
     ]
    }
   ],
   "source": [
    "// Using tail-recursive functions\n",
    "def lengthTR[A](l: List[A]): Int = \n",
    "\n",
    "    @annotation.tailrec\n",
    "    def step(out: Int, aux: List[A]): Int = \n",
    "        aux match \n",
    "            case Nil => out\n",
    "            case head :: tail => \n",
    "                step(???(out, head), tail)\n",
    "\n",
    "    step(???, l)"
   ]
  },
  {
   "cell_type": "code",
   "execution_count": null,
   "metadata": {},
   "outputs": [],
   "source": [
    "lengthTR(List.fill(1000000)(1))"
   ]
  },
  {
   "cell_type": "markdown",
   "metadata": {},
   "source": [
    "We can check the stack-safety problems of non-tail recursive functions by calculating the length of a very big list. We will use the following function, which creates a constant list of given length."
   ]
  },
  {
   "cell_type": "code",
   "execution_count": null,
   "metadata": {},
   "outputs": [],
   "source": [
    "// First, imperatively\n",
    "\n"
   ]
  },
  {
   "cell_type": "code",
   "execution_count": null,
   "metadata": {},
   "outputs": [],
   "source": [
    "// Next, tail-recursively\n",
    "\n"
   ]
  },
  {
   "cell_type": "markdown",
   "metadata": {},
   "source": [
    "We can also use the function [`fill`](https://www.scala-lang.org/api/2.13.3/scala/collection/immutable/List$.html#fill[A](n:Int)(elem:=%3EA):CC[A]) of the Scala standard library."
   ]
  },
  {
   "cell_type": "markdown",
   "metadata": {},
   "source": [
    "Now, let's calculate the length of a list long enough to blow up the stack, using each of the three implementations:"
   ]
  },
  {
   "cell_type": "code",
   "execution_count": null,
   "metadata": {},
   "outputs": [],
   "source": [
    "// Imperatively\n"
   ]
  },
  {
   "cell_type": "code",
   "execution_count": null,
   "metadata": {},
   "outputs": [],
   "source": [
    "// Tail-recursive\n"
   ]
  },
  {
   "cell_type": "code",
   "execution_count": null,
   "metadata": {},
   "outputs": [],
   "source": [
    "// Plain recursive\n"
   ]
  },
  {
   "cell_type": "markdown",
   "metadata": {},
   "source": [
    "### Unit testing with `scalatest`"
   ]
  },
  {
   "cell_type": "code",
   "execution_count": 1,
   "metadata": {},
   "outputs": [
    {
     "data": {
      "text/plain": [
       "\u001b[32mimport \u001b[39m\u001b[36m$ivy.$                                \n",
       "\u001b[39m\n",
       "\u001b[32mimport \u001b[39m\u001b[36morg.scalatest.{Filter => _, _}, flatspec._, matchers._\n",
       "\u001b[39m"
      ]
     },
     "execution_count": 1,
     "metadata": {},
     "output_type": "execute_result"
    }
   ],
   "source": [
    "import $ivy.`org.scalatest::scalatest:3.2.16`\n",
    "import org.scalatest.{Filter => _, _}, flatspec._, matchers._"
   ]
  },
  {
   "cell_type": "code",
   "execution_count": 16,
   "metadata": {},
   "outputs": [
    {
     "data": {
      "text/plain": [
       "defined \u001b[32mclass\u001b[39m \u001b[36mTestLength\u001b[39m"
      ]
     },
     "execution_count": 16,
     "metadata": {},
     "output_type": "execute_result"
    }
   ],
   "source": [
    "class TestLength(len: [A] => List[A] => Int) extends AnyFlatSpec with should.Matchers: \n",
    "    \"Imperative version length\" should \"work\" in:\n",
    "        len[Char](List()) shouldBe 0\n",
    "        len[Int](List(1,2,3)) shouldBe 3"
   ]
  },
  {
   "cell_type": "code",
   "execution_count": 15,
   "metadata": {},
   "outputs": [
    {
     "data": {
      "text/plain": [
       "defined \u001b[32mclass\u001b[39m \u001b[36mTestLengthI\u001b[39m"
      ]
     },
     "execution_count": 15,
     "metadata": {},
     "output_type": "execute_result"
    }
   ],
   "source": [
    "class TestLength(len: List[Int] => Int) extends AnyFlatSpec with should.Matchers: \n",
    "    \"Imperative version length\" should \"work\" in:\n",
    "        len(List()) shouldBe 0\n",
    "        len(List(1,2,3)) shouldBe 3"
   ]
  },
  {
   "cell_type": "code",
   "execution_count": 16,
   "metadata": {},
   "outputs": [
    {
     "name": "stderr",
     "output_type": "stream",
     "text": [
      "-- [E007] Type Mismatch Error: cell17.sc:4:17 ----------------------------------\n",
      "4 |        len(List('1','2','3')) shouldBe 3\n",
      "  |                 ^^^\n",
      "  |      Found:    ('1' : Char)\n",
      "  |      Required: A\n",
      "  |\n",
      "  |      The following import might make progress towards fixing the problem:\n",
      "  |\n",
      "  |        import sourcecode.Text.generate\n",
      "  |\n",
      "  |\n",
      "  | longer explanation available when compiling with `-explain`\n",
      "-- [E007] Type Mismatch Error: cell17.sc:4:21 ----------------------------------\n",
      "4 |        len(List('1','2','3')) shouldBe 3\n",
      "  |                     ^^^\n",
      "  |      Found:    ('2' : Char)\n",
      "  |      Required: A\n",
      "  |\n",
      "  |      The following import might make progress towards fixing the problem:\n",
      "  |\n",
      "  |        import sourcecode.Text.generate\n",
      "  |\n",
      "  |\n",
      "  | longer explanation available when compiling with `-explain`\n",
      "-- [E007] Type Mismatch Error: cell17.sc:4:25 ----------------------------------\n",
      "4 |        len(List('1','2','3')) shouldBe 3\n",
      "  |                         ^^^\n",
      "  |      Found:    ('3' : Char)\n",
      "  |      Required: A\n",
      "  |\n",
      "  |      The following import might make progress towards fixing the problem:\n",
      "  |\n",
      "  |        import sourcecode.Text.generate\n",
      "  |\n",
      "  |\n",
      "  | longer explanation available when compiling with `-explain`\n",
      "Compilation Failed"
     ]
    }
   ],
   "source": [
    "class TestLength[A](len: List[A] => Int) extends AnyFlatSpec with should.Matchers: \n",
    "    \"Imperative version length\" should \"work\" in:\n",
    "        len(List()) shouldBe 0\n",
    "        len(List('1','2','3')) shouldBe 3"
   ]
  },
  {
   "cell_type": "code",
   "execution_count": 10,
   "metadata": {},
   "outputs": [
    {
     "data": {
      "text/plain": [
       "defined \u001b[32mobject\u001b[39m \u001b[36mTestLengthI\u001b[39m"
      ]
     },
     "execution_count": 10,
     "metadata": {},
     "output_type": "execute_result"
    }
   ],
   "source": [
    "object TestLengthI extends AnyFlatSpec with should.Matchers: \n",
    "    \"Imperative version length\" should \"work\" in:\n",
    "        lengthI(List()) shouldBe 0\n",
    "        lengthI(List(1,2,3)) shouldBe 3"
   ]
  },
  {
   "cell_type": "code",
   "execution_count": 11,
   "metadata": {},
   "outputs": [
    {
     "data": {
      "text/plain": [
       "defined \u001b[32mobject\u001b[39m \u001b[36mTestLengthR\u001b[39m"
      ]
     },
     "execution_count": 11,
     "metadata": {},
     "output_type": "execute_result"
    }
   ],
   "source": [
    "object TestLengthR extends AnyFlatSpec with should.Matchers: \n",
    "    \"Imperative version length\" should \"work\" in:\n",
    "        lengthR(List()) shouldBe 0\n",
    "        lengthR(List(1,2,3)) shouldBe 3"
   ]
  },
  {
   "cell_type": "code",
   "execution_count": 13,
   "metadata": {},
   "outputs": [
    {
     "data": {
      "text/plain": [
       "defined \u001b[32mobject\u001b[39m \u001b[36mTestLengthTR\u001b[39m"
      ]
     },
     "execution_count": 13,
     "metadata": {},
     "output_type": "execute_result"
    }
   ],
   "source": [
    "object TestLengthTR extends AnyFlatSpec with should.Matchers: \n",
    "    \"Imperative version length\" should \"work\" in:\n",
    "        lengthTR(List()) shouldBe 0\n",
    "        lengthTR(List(1,2,3)) shouldBe 3"
   ]
  },
  {
   "cell_type": "code",
   "execution_count": 14,
   "metadata": {},
   "outputs": [
    {
     "name": "stdout",
     "output_type": "stream",
     "text": [
      "\u001b[32mcell13$Helper$TestLengthTR:\u001b[0m\n",
      "\u001b[32mImperative version length\u001b[0m\n",
      "\u001b[32m- should work\u001b[0m\n"
     ]
    }
   ],
   "source": [
    "run(TestLengthTR)"
   ]
  },
  {
   "cell_type": "markdown",
   "metadata": {},
   "source": [
    "From now on, we will also make extensive use of unit testing for the different functions that we implement. And we will use the [`scalatest`](http://www.scalatest.org/) library for that purpose. In particular, for each function we will implement a test catalogue that test it against different test cases. The test catalogue receives the actual function to be tested as a parameter. For instance, this is a possible test class for the `length` function:"
   ]
  },
  {
   "cell_type": "code",
   "execution_count": null,
   "metadata": {},
   "outputs": [],
   "source": [
    "class TestLength(lengthF: List[Int] => Int) extends AnyFlatSpec with should.Matchers:\n",
    "    \"length\" should \"work\" in:\n",
    "        ??? "
   ]
  },
  {
   "cell_type": "markdown",
   "metadata": {},
   "source": [
    "The method `shouldBe` is a _matcher_. The scalatest library offers an extensive catalogue of [them](http://www.scalatest.org/user_guide/using_matchers). Similarly, scalatest also support many different [testing styles](http://www.scalatest.org/user_guide/selecting_a_style). The chosen one here was `FlatSpec`. In order to execute the test catalogue we can simply use the scalatest method `run`:"
   ]
  },
  {
   "cell_type": "code",
   "execution_count": null,
   "metadata": {},
   "outputs": [],
   "source": [
    "run(TestLength(lengthR))"
   ]
  },
  {
   "cell_type": "markdown",
   "metadata": {},
   "source": [
    "### Example: adding numbers"
   ]
  },
  {
   "cell_type": "markdown",
   "metadata": {},
   "source": [
    "Let's implement a function that sums all the numbers of a list."
   ]
  },
  {
   "cell_type": "code",
   "execution_count": 17,
   "metadata": {},
   "outputs": [
    {
     "data": {
      "text/plain": [
       "defined \u001b[32mclass\u001b[39m \u001b[36mTestSum\u001b[39m"
      ]
     },
     "execution_count": 17,
     "metadata": {},
     "output_type": "execute_result"
    }
   ],
   "source": [
    "class TestSum(sum: List[Int] => Int) extends AnyFlatSpec with should.Matchers:\n",
    "    \"sum\" should \"work\" in:\n",
    "        sum(List()) shouldBe 0\n",
    "        sum(List(1,2,3,4)) shouldBe 10\n",
    "        sum(List(1)) shouldBe 1"
   ]
  },
  {
   "cell_type": "code",
   "execution_count": 19,
   "metadata": {},
   "outputs": [
    {
     "data": {
      "text/plain": [
       "defined \u001b[32mfunction\u001b[39m \u001b[36msum\u001b[39m"
      ]
     },
     "execution_count": 19,
     "metadata": {},
     "output_type": "execute_result"
    }
   ],
   "source": [
    "// Recursively\n",
    "\n",
    "def sum(l: List[Int]): Int = \n",
    "    l match \n",
    "        case Nil => ??? : Int\n",
    "        case head :: tail => \n",
    "            val tailSol: Int = sum(tail)\n",
    "            ??? : Int"
   ]
  },
  {
   "cell_type": "code",
   "execution_count": 22,
   "metadata": {},
   "outputs": [
    {
     "data": {
      "text/plain": [
       "defined \u001b[32mfunction\u001b[39m \u001b[36msumR\u001b[39m"
      ]
     },
     "execution_count": 22,
     "metadata": {},
     "output_type": "execute_result"
    }
   ],
   "source": [
    "// Recursively\n",
    "\n",
    "def sumR(l: List[Int]): Int = \n",
    "    l match \n",
    "        case Nil => 0 : Int\n",
    "        case head :: tail => \n",
    "            val tailSol: Int = sum(tail)\n",
    "            head + tailSol : Int"
   ]
  },
  {
   "cell_type": "code",
   "execution_count": 31,
   "metadata": {},
   "outputs": [
    {
     "data": {
      "text/plain": [
       "defined \u001b[32mfunction\u001b[39m \u001b[36msumR\u001b[39m"
      ]
     },
     "execution_count": 31,
     "metadata": {},
     "output_type": "execute_result"
    }
   ],
   "source": [
    "// Recursively\n",
    "\n",
    "def sumR(l: List[Int]): Int = \n",
    "    l match \n",
    "        case Nil => 0\n",
    "        case head :: tail => \n",
    "            head + sum(tail)"
   ]
  },
  {
   "cell_type": "code",
   "execution_count": 21,
   "metadata": {},
   "outputs": [
    {
     "name": "stdout",
     "output_type": "stream",
     "text": [
      "\u001b[32mcell17$Helper$TestSum:\u001b[0m\n",
      "\u001b[32msum\u001b[0m\n",
      "\u001b[32m- should work\u001b[0m\n"
     ]
    }
   ],
   "source": [
    "run(TestSum(sumR))"
   ]
  },
  {
   "cell_type": "code",
   "execution_count": null,
   "metadata": {},
   "outputs": [],
   "source": [
    "// With tail-recursion\n",
    "\n",
    "def sumTR(l: List[Int]): Int = \n",
    "    \n",
    "    def step(out: Int, aux: List[Int]): Int = \n",
    "        aux match \n",
    "            case Nil => out\n",
    "            case head :: tail => \n",
    "                step(???(out, head), tail)\n",
    "        \n",
    "    step(???, l)\n"
   ]
  },
  {
   "cell_type": "code",
   "execution_count": 25,
   "metadata": {},
   "outputs": [
    {
     "data": {
      "text/plain": [
       "defined \u001b[32mfunction\u001b[39m \u001b[36msumTR\u001b[39m"
      ]
     },
     "execution_count": 25,
     "metadata": {},
     "output_type": "execute_result"
    }
   ],
   "source": [
    "// With tail-recursion\n",
    "\n",
    "def sumTR(l: List[Int]): Int = \n",
    "    \n",
    "    @annotation.tailrec\n",
    "    def step(out: Int, aux: List[Int]): Int = \n",
    "        aux match \n",
    "            case Nil => out\n",
    "            case head :: tail => \n",
    "                step(out+head, tail)\n",
    "        \n",
    "    step(0, l)\n"
   ]
  },
  {
   "cell_type": "code",
   "execution_count": 26,
   "metadata": {},
   "outputs": [
    {
     "name": "stdout",
     "output_type": "stream",
     "text": [
      "\u001b[32mcell17$Helper$TestSum:\u001b[0m\n",
      "\u001b[32msum\u001b[0m\n",
      "\u001b[32m- should work\u001b[0m\n"
     ]
    }
   ],
   "source": [
    "run(TestSum(sumTR))"
   ]
  },
  {
   "cell_type": "markdown",
   "metadata": {},
   "source": [
    "### Example: multiplying list elements"
   ]
  },
  {
   "cell_type": "markdown",
   "metadata": {},
   "source": [
    "Let's multiply the elements of a list. If the list is empty we return the identity element for integers."
   ]
  },
  {
   "cell_type": "code",
   "execution_count": 27,
   "metadata": {},
   "outputs": [
    {
     "data": {
      "text/plain": [
       "defined \u001b[32mclass\u001b[39m \u001b[36mTestProduct\u001b[39m"
      ]
     },
     "execution_count": 27,
     "metadata": {},
     "output_type": "execute_result"
    }
   ],
   "source": [
    "class TestProduct(product: List[Int] => Int) extends AnyFlatSpec with should.Matchers:\n",
    "    \"product\" should \"work\" in:\n",
    "        product(List(1,2,3)) shouldBe 6\n",
    "        product(List(4,1,2,3)) shouldBe 24\n",
    "        product(List(4,1,0,2,3)) shouldBe 0\n",
    "        product(List()) shouldBe 1"
   ]
  },
  {
   "cell_type": "markdown",
   "metadata": {},
   "source": [
    " This is the common recursive implementation:"
   ]
  },
  {
   "cell_type": "code",
   "execution_count": 28,
   "metadata": {},
   "outputs": [
    {
     "data": {
      "text/plain": [
       "defined \u001b[32mfunction\u001b[39m \u001b[36mproduct\u001b[39m"
      ]
     },
     "execution_count": 28,
     "metadata": {},
     "output_type": "execute_result"
    }
   ],
   "source": [
    "def product(l: List[Int]): Int = \n",
    "    l match \n",
    "        case Nil => ???\n",
    "        case head :: tail => \n",
    "            val tailSol: Int = product(tail)\n",
    "            ???"
   ]
  },
  {
   "cell_type": "code",
   "execution_count": 29,
   "metadata": {},
   "outputs": [
    {
     "data": {
      "text/plain": [
       "defined \u001b[32mfunction\u001b[39m \u001b[36mproduct\u001b[39m"
      ]
     },
     "execution_count": 29,
     "metadata": {},
     "output_type": "execute_result"
    }
   ],
   "source": [
    "def product(l: List[Int]): Int = \n",
    "    l match \n",
    "        case Nil => 1\n",
    "        case head :: tail => \n",
    "            val tailSol: Int = product(tail)\n",
    "            head * tailSol"
   ]
  },
  {
   "cell_type": "code",
   "execution_count": 32,
   "metadata": {},
   "outputs": [
    {
     "data": {
      "text/plain": [
       "defined \u001b[32mfunction\u001b[39m \u001b[36mproduct\u001b[39m"
      ]
     },
     "execution_count": 32,
     "metadata": {},
     "output_type": "execute_result"
    }
   ],
   "source": [
    "def product(l: List[Int]): Int = \n",
    "    l match \n",
    "        case Nil => 1\n",
    "        case head :: tail => \n",
    "            if head == 0 then 0\n",
    "            else \n",
    "                val tailSol: Int = product(tail)\n",
    "                head * tailSol"
   ]
  },
  {
   "cell_type": "code",
   "execution_count": 32,
   "metadata": {},
   "outputs": [
    {
     "data": {
      "text/plain": [
       "defined \u001b[32mfunction\u001b[39m \u001b[36mproduct\u001b[39m"
      ]
     },
     "execution_count": 32,
     "metadata": {},
     "output_type": "execute_result"
    }
   ],
   "source": [
    "def product(l: List[Int]): Int = \n",
    "    l match \n",
    "        case Nil => 1\n",
    "        case head :: tail if head == 0 => 0\n",
    "        case head :: tail => \n",
    "            val tailSol: Int = product(tail)\n",
    "            head * tailSol"
   ]
  },
  {
   "cell_type": "code",
   "execution_count": 34,
   "metadata": {},
   "outputs": [
    {
     "data": {
      "text/plain": [
       "defined \u001b[32mfunction\u001b[39m \u001b[36mproduct\u001b[39m"
      ]
     },
     "execution_count": 34,
     "metadata": {},
     "output_type": "execute_result"
    }
   ],
   "source": [
    "def product(l: List[Int]): Int = \n",
    "    l match \n",
    "        case Nil => 1\n",
    "        case 0 :: tail => 0\n",
    "        case head :: tail => \n",
    "            val tailSol: Int = product(tail)\n",
    "            head * tailSol"
   ]
  },
  {
   "cell_type": "code",
   "execution_count": 35,
   "metadata": {},
   "outputs": [
    {
     "data": {
      "text/plain": [
       "defined \u001b[32mfunction\u001b[39m \u001b[36mproduct\u001b[39m"
      ]
     },
     "execution_count": 35,
     "metadata": {},
     "output_type": "execute_result"
    }
   ],
   "source": [
    "def product(l: List[Int]): Int = \n",
    "    l match \n",
    "        case Nil => 1\n",
    "        case 0 :: tail => 0\n",
    "        case head :: tail => \n",
    "            head * product(tail)"
   ]
  },
  {
   "cell_type": "code",
   "execution_count": 33,
   "metadata": {},
   "outputs": [
    {
     "name": "stdout",
     "output_type": "stream",
     "text": [
      "\u001b[32mcell27$Helper$TestProduct:\u001b[0m\n",
      "\u001b[32mproduct\u001b[0m\n",
      "\u001b[32m- should work\u001b[0m\n"
     ]
    }
   ],
   "source": [
    "run(TestProduct(product))"
   ]
  },
  {
   "cell_type": "markdown",
   "metadata": {},
   "source": [
    "But we can optimize the function a little bit. Note that if the number 0 belongs to the list, then the result is 0, no matter how many elements the list has. So, once we find the element 0 it's a waste of resources to make the recursive call. Let's take this into account."
   ]
  },
  {
   "cell_type": "code",
   "execution_count": null,
   "metadata": {},
   "outputs": [],
   "source": [
    "// optimization for 0\n",
    "\n"
   ]
  },
  {
   "cell_type": "code",
   "execution_count": null,
   "metadata": {},
   "outputs": [],
   "source": [
    "run(TestProduct(product2))"
   ]
  },
  {
   "cell_type": "markdown",
   "metadata": {},
   "source": [
    "A similar optimization can be made for the tail-recursive implementation."
   ]
  },
  {
   "cell_type": "markdown",
   "metadata": {},
   "source": [
    "### Example: membership"
   ]
  },
  {
   "cell_type": "markdown",
   "metadata": {},
   "source": [
    "Let's implement a function that given a list and an element, returns whether the element belongs to that list."
   ]
  },
  {
   "cell_type": "code",
   "execution_count": null,
   "metadata": {},
   "outputs": [],
   "source": [
    "class TestMember(member: (List[Int], Int) => Boolean) extends AnyFlatSpec with should.Matchers:\n",
    "    \"member\" should \"work\" in:\n",
    "        ???"
   ]
  },
  {
   "cell_type": "code",
   "execution_count": null,
   "metadata": {},
   "outputs": [],
   "source": []
  },
  {
   "cell_type": "code",
   "execution_count": null,
   "metadata": {},
   "outputs": [],
   "source": [
    "run(TestMember(member))"
   ]
  },
  {
   "cell_type": "markdown",
   "metadata": {},
   "source": [
    "We can also pattern match against a specific value as follows:"
   ]
  },
  {
   "cell_type": "code",
   "execution_count": null,
   "metadata": {},
   "outputs": [],
   "source": []
  },
  {
   "cell_type": "markdown",
   "metadata": {},
   "source": [
    "### Example: last element"
   ]
  },
  {
   "cell_type": "markdown",
   "metadata": {},
   "source": [
    "Let's implement a function that returns the last element of a given list. Note that an empty list does not have elements, and, hence, does not have a last element."
   ]
  },
  {
   "cell_type": "code",
   "execution_count": 36,
   "metadata": {},
   "outputs": [
    {
     "data": {
      "text/plain": [
       "defined \u001b[32mobject\u001b[39m \u001b[36mStd\u001b[39m"
      ]
     },
     "execution_count": 36,
     "metadata": {},
     "output_type": "execute_result"
    }
   ],
   "source": [
    "object Std: \n",
    "    enum Option[+A]:  // Option[A] = 1 + A\n",
    "        case None \n",
    "        case Some(a: A)"
   ]
  },
  {
   "cell_type": "code",
   "execution_count": 37,
   "metadata": {},
   "outputs": [
    {
     "data": {
      "text/plain": [
       "defined \u001b[32mclass\u001b[39m \u001b[36mTestLast\u001b[39m"
      ]
     },
     "execution_count": 37,
     "metadata": {},
     "output_type": "execute_result"
    }
   ],
   "source": [
    "class TestLast(last: List[Int] => Option[Int]) extends AnyFlatSpec with should.Matchers:\n",
    "    \"last\" should \"work\" in:\n",
    "        last(List(1,2,3)) shouldBe Some(3)\n",
    "        last(List(1)) shouldBe Some(1)\n",
    "        last(List()) shouldBe None"
   ]
  },
  {
   "cell_type": "code",
   "execution_count": 38,
   "metadata": {},
   "outputs": [
    {
     "data": {
      "text/plain": [
       "defined \u001b[32mfunction\u001b[39m \u001b[36mlastR\u001b[39m"
      ]
     },
     "execution_count": 38,
     "metadata": {},
     "output_type": "execute_result"
    }
   ],
   "source": [
    "def lastR[A](l: List[A]): Option[A] = \n",
    "    l match \n",
    "        case Nil => ??? : Option[A]\n",
    "        case head :: tail => \n",
    "            val tailSol: Option[A] = lastR(tail)\n",
    "            ??? : Option[A]"
   ]
  },
  {
   "cell_type": "code",
   "execution_count": 43,
   "metadata": {},
   "outputs": [
    {
     "data": {
      "text/plain": [
       "defined \u001b[32mfunction\u001b[39m \u001b[36mlastR\u001b[39m"
      ]
     },
     "execution_count": 43,
     "metadata": {},
     "output_type": "execute_result"
    }
   ],
   "source": [
    "def lastR[A](l: List[A]): Option[A] = \n",
    "    l match \n",
    "        case Nil => None : Option[A]\n",
    "        case head :: tail => \n",
    "            val tailSol: Option[A] = lastR(tail)\n",
    "            if tail == Nil then Some(head)\n",
    "            else tailSol : Option[A]"
   ]
  },
  {
   "cell_type": "code",
   "execution_count": 48,
   "metadata": {},
   "outputs": [
    {
     "data": {
      "text/plain": [
       "defined \u001b[32mfunction\u001b[39m \u001b[36mlastR\u001b[39m"
      ]
     },
     "execution_count": 48,
     "metadata": {},
     "output_type": "execute_result"
    }
   ],
   "source": [
    "@annotation.tailrec\n",
    "def lastR[A](l: List[A]): Option[A] = \n",
    "    l match \n",
    "        case Nil => None : Option[A]\n",
    "        case head :: Nil => Some(head)\n",
    "        case head :: tail => lastR(tail)"
   ]
  },
  {
   "cell_type": "code",
   "execution_count": 49,
   "metadata": {},
   "outputs": [
    {
     "name": "stdout",
     "output_type": "stream",
     "text": [
      "\u001b[32mcell37$Helper$TestLast:\u001b[0m\n",
      "\u001b[32mlast\u001b[0m\n",
      "\u001b[32m- should work\u001b[0m\n"
     ]
    }
   ],
   "source": [
    "run(TestLast(lastR))"
   ]
  },
  {
   "cell_type": "code",
   "execution_count": null,
   "metadata": {},
   "outputs": [],
   "source": [
    "@annotation.tailrec\n"
   ]
  },
  {
   "cell_type": "code",
   "execution_count": null,
   "metadata": {},
   "outputs": [],
   "source": [
    "run(TestLast(last))"
   ]
  },
  {
   "cell_type": "markdown",
   "metadata": {},
   "source": [
    "### Example: insert last"
   ]
  },
  {
   "cell_type": "markdown",
   "metadata": {},
   "source": [
    "Now, a function that allows us to insert an element at the end of the list. "
   ]
  },
  {
   "cell_type": "code",
   "execution_count": null,
   "metadata": {},
   "outputs": [],
   "source": [
    "class TestInsertLast(insertLast: (List[Int], Int) => List[Int]) \n",
    "extends AnyFlatSpec with should.Matchers:\n",
    "    \"insertLast\" should \"work\" in:\n",
    "        ???"
   ]
  },
  {
   "cell_type": "code",
   "execution_count": null,
   "metadata": {},
   "outputs": [],
   "source": []
  },
  {
   "cell_type": "code",
   "execution_count": null,
   "metadata": {},
   "outputs": [],
   "source": [
    "run(TestInsertLast(insertLast))"
   ]
  },
  {
   "cell_type": "markdown",
   "metadata": {},
   "source": [
    "### Example: reverse lists"
   ]
  },
  {
   "cell_type": "markdown",
   "metadata": {},
   "source": [
    "Implement a function which receives a list and returns its reverse."
   ]
  },
  {
   "cell_type": "code",
   "execution_count": 5,
   "metadata": {},
   "outputs": [
    {
     "data": {
      "text/plain": [
       "\u001b[36mres5_0\u001b[39m: \u001b[32mList\u001b[39m[\u001b[32mInt\u001b[39m] = \u001b[33mList\u001b[39m(\u001b[32m2\u001b[39m, \u001b[32m3\u001b[39m, \u001b[32m1\u001b[39m)\n",
       "\u001b[36mres5_1\u001b[39m: \u001b[32mList\u001b[39m[\u001b[32mInt\u001b[39m] = \u001b[33mList\u001b[39m(\u001b[32m3\u001b[39m, \u001b[32m6\u001b[39m, \u001b[32m2\u001b[39m, \u001b[32m1\u001b[39m)"
      ]
     },
     "execution_count": 5,
     "metadata": {},
     "output_type": "execute_result"
    }
   ],
   "source": [
    "List(2,3).appended(1)\n",
    "List(3,6,2) :+ 1"
   ]
  },
  {
   "cell_type": "code",
   "execution_count": 6,
   "metadata": {},
   "outputs": [
    {
     "data": {
      "text/plain": [
       "defined \u001b[32mclass\u001b[39m \u001b[36mTestReverse\u001b[39m"
      ]
     },
     "execution_count": 6,
     "metadata": {},
     "output_type": "execute_result"
    }
   ],
   "source": [
    "class TestReverse(reverse: List[Int] => List[Int]) extends AnyFlatSpec with should.Matchers:\n",
    "    \"reverse\" should \"work\" in:\n",
    "        reverse(List(5,2,7,3)) shouldBe List(3,7,2,5) // == List(3,7,2) :+ 5\n",
    "        reverse(List(2,3)) shouldBe List(3,2)\n",
    "        reverse(1::List(2,3)) shouldBe List(3,2,1) // == List(3,2) :+ 1\n",
    "        reverse(List()) shouldBe List()\n",
    "        reverse(List(1)) shouldBe List(1)"
   ]
  },
  {
   "cell_type": "code",
   "execution_count": 3,
   "metadata": {},
   "outputs": [
    {
     "data": {
      "text/plain": [
       "defined \u001b[32mfunction\u001b[39m \u001b[36mreverse\u001b[39m"
      ]
     },
     "execution_count": 3,
     "metadata": {},
     "output_type": "execute_result"
    }
   ],
   "source": [
    "// Really inefficient \n",
    "\n",
    "def reverse[A](l: List[A]): List[A] = \n",
    "    l match \n",
    "        case Nil => ??? : List[A]\n",
    "        case head :: tail => \n",
    "            val tailSol: List[A] = reverse(tail)\n",
    "            ??? : List[A]"
   ]
  },
  {
   "cell_type": "code",
   "execution_count": 12,
   "metadata": {},
   "outputs": [
    {
     "data": {
      "text/plain": [
       "defined \u001b[32mfunction\u001b[39m \u001b[36mreverse\u001b[39m"
      ]
     },
     "execution_count": 12,
     "metadata": {},
     "output_type": "execute_result"
    }
   ],
   "source": [
    "// Really inefficient \n",
    "\n",
    "def reverse[A](l: List[A]): List[A] = \n",
    "    l match \n",
    "        case Nil => List(): List[A]\n",
    "        case head :: tail => \n",
    "            val tailSol: List[A] = reverse(tail)\n",
    "            // tailSol ++ List(head) : List[A]\n",
    "            // head +: tailSol : List[A] == tailSol.+:(head)\n",
    "            tailSol :+ head // == tailSol.:+(head)"
   ]
  },
  {
   "cell_type": "code",
   "execution_count": 18,
   "metadata": {},
   "outputs": [
    {
     "data": {
      "text/plain": [
       "defined \u001b[32mfunction\u001b[39m \u001b[36mreverse\u001b[39m"
      ]
     },
     "execution_count": 18,
     "metadata": {},
     "output_type": "execute_result"
    }
   ],
   "source": [
    "// Really inefficient \n",
    "\n",
    "def reverse[A](l: List[A]): List[A] = \n",
    "    l match \n",
    "        case Nil => List(): List[A]\n",
    "        case head :: tail => \n",
    "            reverse(tail) :+ head // == tailSol.:+(head)"
   ]
  },
  {
   "cell_type": "code",
   "execution_count": 13,
   "metadata": {},
   "outputs": [
    {
     "name": "stdout",
     "output_type": "stream",
     "text": [
      "\u001b[32mcell6$Helper$TestReverse:\u001b[0m\n",
      "\u001b[32mreverse\u001b[0m\n",
      "\u001b[32m- should work\u001b[0m\n"
     ]
    }
   ],
   "source": [
    "run(TestReverse(reverse))"
   ]
  },
  {
   "cell_type": "code",
   "execution_count": 17,
   "metadata": {
    "collapsed": true,
    "jupyter": {
     "outputs_hidden": true
    },
    "tags": []
   },
   "outputs": [
    {
     "ename": "java.lang.StackOverflowError",
     "evalue": "null",
     "output_type": "error",
     "traceback": [
      "\u001b[31mjava.lang.StackOverflowError\u001b[39m",
      "  scala.collection.immutable.List.equals(\u001b[32mList.scala\u001b[39m:\u001b[32m612\u001b[39m)",
      "  ammonite.$sess.cell12$Helper.reverse(\u001b[32mcell12.sc\u001b[39m:\u001b[32m3\u001b[39m)",
      "  ammonite.$sess.cell12$Helper.reverse(\u001b[32mcell12.sc\u001b[39m:\u001b[32m5\u001b[39m)",
      "  ammonite.$sess.cell12$Helper.reverse(\u001b[32mcell12.sc\u001b[39m:\u001b[32m5\u001b[39m)",
      "  ammonite.$sess.cell12$Helper.reverse(\u001b[32mcell12.sc\u001b[39m:\u001b[32m5\u001b[39m)",
      "  ammonite.$sess.cell12$Helper.reverse(\u001b[32mcell12.sc\u001b[39m:\u001b[32m5\u001b[39m)",
      "  ammonite.$sess.cell12$Helper.reverse(\u001b[32mcell12.sc\u001b[39m:\u001b[32m5\u001b[39m)",
      "  ammonite.$sess.cell12$Helper.reverse(\u001b[32mcell12.sc\u001b[39m:\u001b[32m5\u001b[39m)",
      "  ammonite.$sess.cell12$Helper.reverse(\u001b[32mcell12.sc\u001b[39m:\u001b[32m5\u001b[39m)",
      "  ammonite.$sess.cell12$Helper.reverse(\u001b[32mcell12.sc\u001b[39m:\u001b[32m5\u001b[39m)",
      "  ammonite.$sess.cell12$Helper.reverse(\u001b[32mcell12.sc\u001b[39m:\u001b[32m5\u001b[39m)",
      "  ammonite.$sess.cell12$Helper.reverse(\u001b[32mcell12.sc\u001b[39m:\u001b[32m5\u001b[39m)",
      "  ammonite.$sess.cell12$Helper.reverse(\u001b[32mcell12.sc\u001b[39m:\u001b[32m5\u001b[39m)",
      "  ammonite.$sess.cell12$Helper.reverse(\u001b[32mcell12.sc\u001b[39m:\u001b[32m5\u001b[39m)",
      "  ammonite.$sess.cell12$Helper.reverse(\u001b[32mcell12.sc\u001b[39m:\u001b[32m5\u001b[39m)",
      "  ammonite.$sess.cell12$Helper.reverse(\u001b[32mcell12.sc\u001b[39m:\u001b[32m5\u001b[39m)",
      "  ammonite.$sess.cell12$Helper.reverse(\u001b[32mcell12.sc\u001b[39m:\u001b[32m5\u001b[39m)",
      "  ammonite.$sess.cell12$Helper.reverse(\u001b[32mcell12.sc\u001b[39m:\u001b[32m5\u001b[39m)",
      "  ammonite.$sess.cell12$Helper.reverse(\u001b[32mcell12.sc\u001b[39m:\u001b[32m5\u001b[39m)",
      "  ammonite.$sess.cell12$Helper.reverse(\u001b[32mcell12.sc\u001b[39m:\u001b[32m5\u001b[39m)",
      "  ammonite.$sess.cell12$Helper.reverse(\u001b[32mcell12.sc\u001b[39m:\u001b[32m5\u001b[39m)",
      "  ammonite.$sess.cell12$Helper.reverse(\u001b[32mcell12.sc\u001b[39m:\u001b[32m5\u001b[39m)",
      "  ammonite.$sess.cell12$Helper.reverse(\u001b[32mcell12.sc\u001b[39m:\u001b[32m5\u001b[39m)",
      "  ammonite.$sess.cell12$Helper.reverse(\u001b[32mcell12.sc\u001b[39m:\u001b[32m5\u001b[39m)",
      "  ammonite.$sess.cell12$Helper.reverse(\u001b[32mcell12.sc\u001b[39m:\u001b[32m5\u001b[39m)",
      "  ammonite.$sess.cell12$Helper.reverse(\u001b[32mcell12.sc\u001b[39m:\u001b[32m5\u001b[39m)",
      "  ammonite.$sess.cell12$Helper.reverse(\u001b[32mcell12.sc\u001b[39m:\u001b[32m5\u001b[39m)",
      "  ammonite.$sess.cell12$Helper.reverse(\u001b[32mcell12.sc\u001b[39m:\u001b[32m5\u001b[39m)",
      "  ammonite.$sess.cell12$Helper.reverse(\u001b[32mcell12.sc\u001b[39m:\u001b[32m5\u001b[39m)",
      "  ammonite.$sess.cell12$Helper.reverse(\u001b[32mcell12.sc\u001b[39m:\u001b[32m5\u001b[39m)",
      "  ammonite.$sess.cell12$Helper.reverse(\u001b[32mcell12.sc\u001b[39m:\u001b[32m5\u001b[39m)",
      "  ammonite.$sess.cell12$Helper.reverse(\u001b[32mcell12.sc\u001b[39m:\u001b[32m5\u001b[39m)",
      "  ammonite.$sess.cell12$Helper.reverse(\u001b[32mcell12.sc\u001b[39m:\u001b[32m5\u001b[39m)",
      "  ammonite.$sess.cell12$Helper.reverse(\u001b[32mcell12.sc\u001b[39m:\u001b[32m5\u001b[39m)",
      "  ammonite.$sess.cell12$Helper.reverse(\u001b[32mcell12.sc\u001b[39m:\u001b[32m5\u001b[39m)",
      "  ammonite.$sess.cell12$Helper.reverse(\u001b[32mcell12.sc\u001b[39m:\u001b[32m5\u001b[39m)",
      "  ammonite.$sess.cell12$Helper.reverse(\u001b[32mcell12.sc\u001b[39m:\u001b[32m5\u001b[39m)",
      "  ammonite.$sess.cell12$Helper.reverse(\u001b[32mcell12.sc\u001b[39m:\u001b[32m5\u001b[39m)",
      "  ammonite.$sess.cell12$Helper.reverse(\u001b[32mcell12.sc\u001b[39m:\u001b[32m5\u001b[39m)",
      "  ammonite.$sess.cell12$Helper.reverse(\u001b[32mcell12.sc\u001b[39m:\u001b[32m5\u001b[39m)",
      "  ammonite.$sess.cell12$Helper.reverse(\u001b[32mcell12.sc\u001b[39m:\u001b[32m5\u001b[39m)",
      "  ammonite.$sess.cell12$Helper.reverse(\u001b[32mcell12.sc\u001b[39m:\u001b[32m5\u001b[39m)",
      "  ammonite.$sess.cell12$Helper.reverse(\u001b[32mcell12.sc\u001b[39m:\u001b[32m5\u001b[39m)",
      "  ammonite.$sess.cell12$Helper.reverse(\u001b[32mcell12.sc\u001b[39m:\u001b[32m5\u001b[39m)",
      "  ammonite.$sess.cell12$Helper.reverse(\u001b[32mcell12.sc\u001b[39m:\u001b[32m5\u001b[39m)",
      "  ammonite.$sess.cell12$Helper.reverse(\u001b[32mcell12.sc\u001b[39m:\u001b[32m5\u001b[39m)",
      "  ammonite.$sess.cell12$Helper.reverse(\u001b[32mcell12.sc\u001b[39m:\u001b[32m5\u001b[39m)",
      "  ammonite.$sess.cell12$Helper.reverse(\u001b[32mcell12.sc\u001b[39m:\u001b[32m5\u001b[39m)",
      "  ammonite.$sess.cell12$Helper.reverse(\u001b[32mcell12.sc\u001b[39m:\u001b[32m5\u001b[39m)",
      "  ammonite.$sess.cell12$Helper.reverse(\u001b[32mcell12.sc\u001b[39m:\u001b[32m5\u001b[39m)",
      "  ammonite.$sess.cell12$Helper.reverse(\u001b[32mcell12.sc\u001b[39m:\u001b[32m5\u001b[39m)",
      "  ammonite.$sess.cell12$Helper.reverse(\u001b[32mcell12.sc\u001b[39m:\u001b[32m5\u001b[39m)",
      "  ammonite.$sess.cell12$Helper.reverse(\u001b[32mcell12.sc\u001b[39m:\u001b[32m5\u001b[39m)",
      "  ammonite.$sess.cell12$Helper.reverse(\u001b[32mcell12.sc\u001b[39m:\u001b[32m5\u001b[39m)",
      "  ammonite.$sess.cell12$Helper.reverse(\u001b[32mcell12.sc\u001b[39m:\u001b[32m5\u001b[39m)",
      "  ammonite.$sess.cell12$Helper.reverse(\u001b[32mcell12.sc\u001b[39m:\u001b[32m5\u001b[39m)",
      "  ammonite.$sess.cell12$Helper.reverse(\u001b[32mcell12.sc\u001b[39m:\u001b[32m5\u001b[39m)",
      "  ammonite.$sess.cell12$Helper.reverse(\u001b[32mcell12.sc\u001b[39m:\u001b[32m5\u001b[39m)",
      "  ammonite.$sess.cell12$Helper.reverse(\u001b[32mcell12.sc\u001b[39m:\u001b[32m5\u001b[39m)",
      "  ammonite.$sess.cell12$Helper.reverse(\u001b[32mcell12.sc\u001b[39m:\u001b[32m5\u001b[39m)",
      "  ammonite.$sess.cell12$Helper.reverse(\u001b[32mcell12.sc\u001b[39m:\u001b[32m5\u001b[39m)",
      "  ammonite.$sess.cell12$Helper.reverse(\u001b[32mcell12.sc\u001b[39m:\u001b[32m5\u001b[39m)",
      "  ammonite.$sess.cell12$Helper.reverse(\u001b[32mcell12.sc\u001b[39m:\u001b[32m5\u001b[39m)",
      "  ammonite.$sess.cell12$Helper.reverse(\u001b[32mcell12.sc\u001b[39m:\u001b[32m5\u001b[39m)",
      "  ammonite.$sess.cell12$Helper.reverse(\u001b[32mcell12.sc\u001b[39m:\u001b[32m5\u001b[39m)",
      "  ammonite.$sess.cell12$Helper.reverse(\u001b[32mcell12.sc\u001b[39m:\u001b[32m5\u001b[39m)",
      "  ammonite.$sess.cell12$Helper.reverse(\u001b[32mcell12.sc\u001b[39m:\u001b[32m5\u001b[39m)",
      "  ammonite.$sess.cell12$Helper.reverse(\u001b[32mcell12.sc\u001b[39m:\u001b[32m5\u001b[39m)",
      "  ammonite.$sess.cell12$Helper.reverse(\u001b[32mcell12.sc\u001b[39m:\u001b[32m5\u001b[39m)",
      "  ammonite.$sess.cell12$Helper.reverse(\u001b[32mcell12.sc\u001b[39m:\u001b[32m5\u001b[39m)",
      "  ammonite.$sess.cell12$Helper.reverse(\u001b[32mcell12.sc\u001b[39m:\u001b[32m5\u001b[39m)",
      "  ammonite.$sess.cell12$Helper.reverse(\u001b[32mcell12.sc\u001b[39m:\u001b[32m5\u001b[39m)",
      "  ammonite.$sess.cell12$Helper.reverse(\u001b[32mcell12.sc\u001b[39m:\u001b[32m5\u001b[39m)",
      "  ammonite.$sess.cell12$Helper.reverse(\u001b[32mcell12.sc\u001b[39m:\u001b[32m5\u001b[39m)",
      "  ammonite.$sess.cell12$Helper.reverse(\u001b[32mcell12.sc\u001b[39m:\u001b[32m5\u001b[39m)",
      "  ammonite.$sess.cell12$Helper.reverse(\u001b[32mcell12.sc\u001b[39m:\u001b[32m5\u001b[39m)",
      "  ammonite.$sess.cell12$Helper.reverse(\u001b[32mcell12.sc\u001b[39m:\u001b[32m5\u001b[39m)",
      "  ammonite.$sess.cell12$Helper.reverse(\u001b[32mcell12.sc\u001b[39m:\u001b[32m5\u001b[39m)",
      "  ammonite.$sess.cell12$Helper.reverse(\u001b[32mcell12.sc\u001b[39m:\u001b[32m5\u001b[39m)",
      "  ammonite.$sess.cell12$Helper.reverse(\u001b[32mcell12.sc\u001b[39m:\u001b[32m5\u001b[39m)",
      "  ammonite.$sess.cell12$Helper.reverse(\u001b[32mcell12.sc\u001b[39m:\u001b[32m5\u001b[39m)",
      "  ammonite.$sess.cell12$Helper.reverse(\u001b[32mcell12.sc\u001b[39m:\u001b[32m5\u001b[39m)",
      "  ammonite.$sess.cell12$Helper.reverse(\u001b[32mcell12.sc\u001b[39m:\u001b[32m5\u001b[39m)",
      "  ammonite.$sess.cell12$Helper.reverse(\u001b[32mcell12.sc\u001b[39m:\u001b[32m5\u001b[39m)",
      "  ammonite.$sess.cell12$Helper.reverse(\u001b[32mcell12.sc\u001b[39m:\u001b[32m5\u001b[39m)",
      "  ammonite.$sess.cell12$Helper.reverse(\u001b[32mcell12.sc\u001b[39m:\u001b[32m5\u001b[39m)",
      "  ammonite.$sess.cell12$Helper.reverse(\u001b[32mcell12.sc\u001b[39m:\u001b[32m5\u001b[39m)",
      "  ammonite.$sess.cell12$Helper.reverse(\u001b[32mcell12.sc\u001b[39m:\u001b[32m5\u001b[39m)",
      "  ammonite.$sess.cell12$Helper.reverse(\u001b[32mcell12.sc\u001b[39m:\u001b[32m5\u001b[39m)",
      "  ammonite.$sess.cell12$Helper.reverse(\u001b[32mcell12.sc\u001b[39m:\u001b[32m5\u001b[39m)",
      "  ammonite.$sess.cell12$Helper.reverse(\u001b[32mcell12.sc\u001b[39m:\u001b[32m5\u001b[39m)",
      "  ammonite.$sess.cell12$Helper.reverse(\u001b[32mcell12.sc\u001b[39m:\u001b[32m5\u001b[39m)",
      "  ammonite.$sess.cell12$Helper.reverse(\u001b[32mcell12.sc\u001b[39m:\u001b[32m5\u001b[39m)",
      "  ammonite.$sess.cell12$Helper.reverse(\u001b[32mcell12.sc\u001b[39m:\u001b[32m5\u001b[39m)",
      "  ammonite.$sess.cell12$Helper.reverse(\u001b[32mcell12.sc\u001b[39m:\u001b[32m5\u001b[39m)",
      "  ammonite.$sess.cell12$Helper.reverse(\u001b[32mcell12.sc\u001b[39m:\u001b[32m5\u001b[39m)",
      "  ammonite.$sess.cell12$Helper.reverse(\u001b[32mcell12.sc\u001b[39m:\u001b[32m5\u001b[39m)",
      "  ammonite.$sess.cell12$Helper.reverse(\u001b[32mcell12.sc\u001b[39m:\u001b[32m5\u001b[39m)",
      "  ammonite.$sess.cell12$Helper.reverse(\u001b[32mcell12.sc\u001b[39m:\u001b[32m5\u001b[39m)",
      "  ammonite.$sess.cell12$Helper.reverse(\u001b[32mcell12.sc\u001b[39m:\u001b[32m5\u001b[39m)",
      "  ammonite.$sess.cell12$Helper.reverse(\u001b[32mcell12.sc\u001b[39m:\u001b[32m5\u001b[39m)",
      "  ammonite.$sess.cell12$Helper.reverse(\u001b[32mcell12.sc\u001b[39m:\u001b[32m5\u001b[39m)",
      "  ammonite.$sess.cell12$Helper.reverse(\u001b[32mcell12.sc\u001b[39m:\u001b[32m5\u001b[39m)",
      "  ammonite.$sess.cell12$Helper.reverse(\u001b[32mcell12.sc\u001b[39m:\u001b[32m5\u001b[39m)",
      "  ammonite.$sess.cell12$Helper.reverse(\u001b[32mcell12.sc\u001b[39m:\u001b[32m5\u001b[39m)",
      "  ammonite.$sess.cell12$Helper.reverse(\u001b[32mcell12.sc\u001b[39m:\u001b[32m5\u001b[39m)",
      "  ammonite.$sess.cell12$Helper.reverse(\u001b[32mcell12.sc\u001b[39m:\u001b[32m5\u001b[39m)",
      "  ammonite.$sess.cell12$Helper.reverse(\u001b[32mcell12.sc\u001b[39m:\u001b[32m5\u001b[39m)",
      "  ammonite.$sess.cell12$Helper.reverse(\u001b[32mcell12.sc\u001b[39m:\u001b[32m5\u001b[39m)",
      "  ammonite.$sess.cell12$Helper.reverse(\u001b[32mcell12.sc\u001b[39m:\u001b[32m5\u001b[39m)",
      "  ammonite.$sess.cell12$Helper.reverse(\u001b[32mcell12.sc\u001b[39m:\u001b[32m5\u001b[39m)",
      "  ammonite.$sess.cell12$Helper.reverse(\u001b[32mcell12.sc\u001b[39m:\u001b[32m5\u001b[39m)",
      "  ammonite.$sess.cell12$Helper.reverse(\u001b[32mcell12.sc\u001b[39m:\u001b[32m5\u001b[39m)",
      "  ammonite.$sess.cell12$Helper.reverse(\u001b[32mcell12.sc\u001b[39m:\u001b[32m5\u001b[39m)",
      "  ammonite.$sess.cell12$Helper.reverse(\u001b[32mcell12.sc\u001b[39m:\u001b[32m5\u001b[39m)",
      "  ammonite.$sess.cell12$Helper.reverse(\u001b[32mcell12.sc\u001b[39m:\u001b[32m5\u001b[39m)",
      "  ammonite.$sess.cell12$Helper.reverse(\u001b[32mcell12.sc\u001b[39m:\u001b[32m5\u001b[39m)",
      "  ammonite.$sess.cell12$Helper.reverse(\u001b[32mcell12.sc\u001b[39m:\u001b[32m5\u001b[39m)",
      "  ammonite.$sess.cell12$Helper.reverse(\u001b[32mcell12.sc\u001b[39m:\u001b[32m5\u001b[39m)",
      "  ammonite.$sess.cell12$Helper.reverse(\u001b[32mcell12.sc\u001b[39m:\u001b[32m5\u001b[39m)",
      "  ammonite.$sess.cell12$Helper.reverse(\u001b[32mcell12.sc\u001b[39m:\u001b[32m5\u001b[39m)",
      "  ammonite.$sess.cell12$Helper.reverse(\u001b[32mcell12.sc\u001b[39m:\u001b[32m5\u001b[39m)",
      "  ammonite.$sess.cell12$Helper.reverse(\u001b[32mcell12.sc\u001b[39m:\u001b[32m5\u001b[39m)",
      "  ammonite.$sess.cell12$Helper.reverse(\u001b[32mcell12.sc\u001b[39m:\u001b[32m5\u001b[39m)",
      "  ammonite.$sess.cell12$Helper.reverse(\u001b[32mcell12.sc\u001b[39m:\u001b[32m5\u001b[39m)",
      "  ammonite.$sess.cell12$Helper.reverse(\u001b[32mcell12.sc\u001b[39m:\u001b[32m5\u001b[39m)",
      "  ammonite.$sess.cell12$Helper.reverse(\u001b[32mcell12.sc\u001b[39m:\u001b[32m5\u001b[39m)",
      "  ammonite.$sess.cell12$Helper.reverse(\u001b[32mcell12.sc\u001b[39m:\u001b[32m5\u001b[39m)",
      "  ammonite.$sess.cell12$Helper.reverse(\u001b[32mcell12.sc\u001b[39m:\u001b[32m5\u001b[39m)",
      "  ammonite.$sess.cell12$Helper.reverse(\u001b[32mcell12.sc\u001b[39m:\u001b[32m5\u001b[39m)",
      "  ammonite.$sess.cell12$Helper.reverse(\u001b[32mcell12.sc\u001b[39m:\u001b[32m5\u001b[39m)",
      "  ammonite.$sess.cell12$Helper.reverse(\u001b[32mcell12.sc\u001b[39m:\u001b[32m5\u001b[39m)",
      "  ammonite.$sess.cell12$Helper.reverse(\u001b[32mcell12.sc\u001b[39m:\u001b[32m5\u001b[39m)",
      "  ammonite.$sess.cell12$Helper.reverse(\u001b[32mcell12.sc\u001b[39m:\u001b[32m5\u001b[39m)",
      "  ammonite.$sess.cell12$Helper.reverse(\u001b[32mcell12.sc\u001b[39m:\u001b[32m5\u001b[39m)",
      "  ammonite.$sess.cell12$Helper.reverse(\u001b[32mcell12.sc\u001b[39m:\u001b[32m5\u001b[39m)",
      "  ammonite.$sess.cell12$Helper.reverse(\u001b[32mcell12.sc\u001b[39m:\u001b[32m5\u001b[39m)",
      "  ammonite.$sess.cell12$Helper.reverse(\u001b[32mcell12.sc\u001b[39m:\u001b[32m5\u001b[39m)",
      "  ammonite.$sess.cell12$Helper.reverse(\u001b[32mcell12.sc\u001b[39m:\u001b[32m5\u001b[39m)",
      "  ammonite.$sess.cell12$Helper.reverse(\u001b[32mcell12.sc\u001b[39m:\u001b[32m5\u001b[39m)",
      "  ammonite.$sess.cell12$Helper.reverse(\u001b[32mcell12.sc\u001b[39m:\u001b[32m5\u001b[39m)",
      "  ammonite.$sess.cell12$Helper.reverse(\u001b[32mcell12.sc\u001b[39m:\u001b[32m5\u001b[39m)",
      "  ammonite.$sess.cell12$Helper.reverse(\u001b[32mcell12.sc\u001b[39m:\u001b[32m5\u001b[39m)",
      "  ammonite.$sess.cell12$Helper.reverse(\u001b[32mcell12.sc\u001b[39m:\u001b[32m5\u001b[39m)",
      "  ammonite.$sess.cell12$Helper.reverse(\u001b[32mcell12.sc\u001b[39m:\u001b[32m5\u001b[39m)",
      "  ammonite.$sess.cell12$Helper.reverse(\u001b[32mcell12.sc\u001b[39m:\u001b[32m5\u001b[39m)",
      "  ammonite.$sess.cell12$Helper.reverse(\u001b[32mcell12.sc\u001b[39m:\u001b[32m5\u001b[39m)",
      "  ammonite.$sess.cell12$Helper.reverse(\u001b[32mcell12.sc\u001b[39m:\u001b[32m5\u001b[39m)",
      "  ammonite.$sess.cell12$Helper.reverse(\u001b[32mcell12.sc\u001b[39m:\u001b[32m5\u001b[39m)",
      "  ammonite.$sess.cell12$Helper.reverse(\u001b[32mcell12.sc\u001b[39m:\u001b[32m5\u001b[39m)",
      "  ammonite.$sess.cell12$Helper.reverse(\u001b[32mcell12.sc\u001b[39m:\u001b[32m5\u001b[39m)",
      "  ammonite.$sess.cell12$Helper.reverse(\u001b[32mcell12.sc\u001b[39m:\u001b[32m5\u001b[39m)",
      "  ammonite.$sess.cell12$Helper.reverse(\u001b[32mcell12.sc\u001b[39m:\u001b[32m5\u001b[39m)",
      "  ammonite.$sess.cell12$Helper.reverse(\u001b[32mcell12.sc\u001b[39m:\u001b[32m5\u001b[39m)",
      "  ammonite.$sess.cell12$Helper.reverse(\u001b[32mcell12.sc\u001b[39m:\u001b[32m5\u001b[39m)",
      "  ammonite.$sess.cell12$Helper.reverse(\u001b[32mcell12.sc\u001b[39m:\u001b[32m5\u001b[39m)",
      "  ammonite.$sess.cell12$Helper.reverse(\u001b[32mcell12.sc\u001b[39m:\u001b[32m5\u001b[39m)",
      "  ammonite.$sess.cell12$Helper.reverse(\u001b[32mcell12.sc\u001b[39m:\u001b[32m5\u001b[39m)",
      "  ammonite.$sess.cell12$Helper.reverse(\u001b[32mcell12.sc\u001b[39m:\u001b[32m5\u001b[39m)",
      "  ammonite.$sess.cell12$Helper.reverse(\u001b[32mcell12.sc\u001b[39m:\u001b[32m5\u001b[39m)",
      "  ammonite.$sess.cell12$Helper.reverse(\u001b[32mcell12.sc\u001b[39m:\u001b[32m5\u001b[39m)",
      "  ammonite.$sess.cell12$Helper.reverse(\u001b[32mcell12.sc\u001b[39m:\u001b[32m5\u001b[39m)",
      "  ammonite.$sess.cell12$Helper.reverse(\u001b[32mcell12.sc\u001b[39m:\u001b[32m5\u001b[39m)",
      "  ammonite.$sess.cell12$Helper.reverse(\u001b[32mcell12.sc\u001b[39m:\u001b[32m5\u001b[39m)",
      "  ammonite.$sess.cell12$Helper.reverse(\u001b[32mcell12.sc\u001b[39m:\u001b[32m5\u001b[39m)",
      "  ammonite.$sess.cell12$Helper.reverse(\u001b[32mcell12.sc\u001b[39m:\u001b[32m5\u001b[39m)",
      "  ammonite.$sess.cell12$Helper.reverse(\u001b[32mcell12.sc\u001b[39m:\u001b[32m5\u001b[39m)",
      "  ammonite.$sess.cell12$Helper.reverse(\u001b[32mcell12.sc\u001b[39m:\u001b[32m5\u001b[39m)",
      "  ammonite.$sess.cell12$Helper.reverse(\u001b[32mcell12.sc\u001b[39m:\u001b[32m5\u001b[39m)",
      "  ammonite.$sess.cell12$Helper.reverse(\u001b[32mcell12.sc\u001b[39m:\u001b[32m5\u001b[39m)",
      "  ammonite.$sess.cell12$Helper.reverse(\u001b[32mcell12.sc\u001b[39m:\u001b[32m5\u001b[39m)",
      "  ammonite.$sess.cell12$Helper.reverse(\u001b[32mcell12.sc\u001b[39m:\u001b[32m5\u001b[39m)",
      "  ammonite.$sess.cell12$Helper.reverse(\u001b[32mcell12.sc\u001b[39m:\u001b[32m5\u001b[39m)",
      "  ammonite.$sess.cell12$Helper.reverse(\u001b[32mcell12.sc\u001b[39m:\u001b[32m5\u001b[39m)",
      "  ammonite.$sess.cell12$Helper.reverse(\u001b[32mcell12.sc\u001b[39m:\u001b[32m5\u001b[39m)",
      "  ammonite.$sess.cell12$Helper.reverse(\u001b[32mcell12.sc\u001b[39m:\u001b[32m5\u001b[39m)",
      "  ammonite.$sess.cell12$Helper.reverse(\u001b[32mcell12.sc\u001b[39m:\u001b[32m5\u001b[39m)",
      "  ammonite.$sess.cell12$Helper.reverse(\u001b[32mcell12.sc\u001b[39m:\u001b[32m5\u001b[39m)",
      "  ammonite.$sess.cell12$Helper.reverse(\u001b[32mcell12.sc\u001b[39m:\u001b[32m5\u001b[39m)",
      "  ammonite.$sess.cell12$Helper.reverse(\u001b[32mcell12.sc\u001b[39m:\u001b[32m5\u001b[39m)",
      "  ammonite.$sess.cell12$Helper.reverse(\u001b[32mcell12.sc\u001b[39m:\u001b[32m5\u001b[39m)",
      "  ammonite.$sess.cell12$Helper.reverse(\u001b[32mcell12.sc\u001b[39m:\u001b[32m5\u001b[39m)",
      "  ammonite.$sess.cell12$Helper.reverse(\u001b[32mcell12.sc\u001b[39m:\u001b[32m5\u001b[39m)",
      "  ammonite.$sess.cell12$Helper.reverse(\u001b[32mcell12.sc\u001b[39m:\u001b[32m5\u001b[39m)",
      "  ammonite.$sess.cell12$Helper.reverse(\u001b[32mcell12.sc\u001b[39m:\u001b[32m5\u001b[39m)",
      "  ammonite.$sess.cell12$Helper.reverse(\u001b[32mcell12.sc\u001b[39m:\u001b[32m5\u001b[39m)",
      "  ammonite.$sess.cell12$Helper.reverse(\u001b[32mcell12.sc\u001b[39m:\u001b[32m5\u001b[39m)",
      "  ammonite.$sess.cell12$Helper.reverse(\u001b[32mcell12.sc\u001b[39m:\u001b[32m5\u001b[39m)",
      "  ammonite.$sess.cell12$Helper.reverse(\u001b[32mcell12.sc\u001b[39m:\u001b[32m5\u001b[39m)",
      "  ammonite.$sess.cell12$Helper.reverse(\u001b[32mcell12.sc\u001b[39m:\u001b[32m5\u001b[39m)",
      "  ammonite.$sess.cell12$Helper.reverse(\u001b[32mcell12.sc\u001b[39m:\u001b[32m5\u001b[39m)",
      "  ammonite.$sess.cell12$Helper.reverse(\u001b[32mcell12.sc\u001b[39m:\u001b[32m5\u001b[39m)",
      "  ammonite.$sess.cell12$Helper.reverse(\u001b[32mcell12.sc\u001b[39m:\u001b[32m5\u001b[39m)",
      "  ammonite.$sess.cell12$Helper.reverse(\u001b[32mcell12.sc\u001b[39m:\u001b[32m5\u001b[39m)",
      "  ammonite.$sess.cell12$Helper.reverse(\u001b[32mcell12.sc\u001b[39m:\u001b[32m5\u001b[39m)",
      "  ammonite.$sess.cell12$Helper.reverse(\u001b[32mcell12.sc\u001b[39m:\u001b[32m5\u001b[39m)",
      "  ammonite.$sess.cell12$Helper.reverse(\u001b[32mcell12.sc\u001b[39m:\u001b[32m5\u001b[39m)",
      "  ammonite.$sess.cell12$Helper.reverse(\u001b[32mcell12.sc\u001b[39m:\u001b[32m5\u001b[39m)",
      "  ammonite.$sess.cell12$Helper.reverse(\u001b[32mcell12.sc\u001b[39m:\u001b[32m5\u001b[39m)",
      "  ammonite.$sess.cell12$Helper.reverse(\u001b[32mcell12.sc\u001b[39m:\u001b[32m5\u001b[39m)",
      "  ammonite.$sess.cell12$Helper.reverse(\u001b[32mcell12.sc\u001b[39m:\u001b[32m5\u001b[39m)",
      "  ammonite.$sess.cell12$Helper.reverse(\u001b[32mcell12.sc\u001b[39m:\u001b[32m5\u001b[39m)",
      "  ammonite.$sess.cell12$Helper.reverse(\u001b[32mcell12.sc\u001b[39m:\u001b[32m5\u001b[39m)",
      "  ammonite.$sess.cell12$Helper.reverse(\u001b[32mcell12.sc\u001b[39m:\u001b[32m5\u001b[39m)",
      "  ammonite.$sess.cell12$Helper.reverse(\u001b[32mcell12.sc\u001b[39m:\u001b[32m5\u001b[39m)",
      "  ammonite.$sess.cell12$Helper.reverse(\u001b[32mcell12.sc\u001b[39m:\u001b[32m5\u001b[39m)",
      "  ammonite.$sess.cell12$Helper.reverse(\u001b[32mcell12.sc\u001b[39m:\u001b[32m5\u001b[39m)",
      "  ammonite.$sess.cell12$Helper.reverse(\u001b[32mcell12.sc\u001b[39m:\u001b[32m5\u001b[39m)",
      "  ammonite.$sess.cell12$Helper.reverse(\u001b[32mcell12.sc\u001b[39m:\u001b[32m5\u001b[39m)",
      "  ammonite.$sess.cell12$Helper.reverse(\u001b[32mcell12.sc\u001b[39m:\u001b[32m5\u001b[39m)",
      "  ammonite.$sess.cell12$Helper.reverse(\u001b[32mcell12.sc\u001b[39m:\u001b[32m5\u001b[39m)",
      "  ammonite.$sess.cell12$Helper.reverse(\u001b[32mcell12.sc\u001b[39m:\u001b[32m5\u001b[39m)",
      "  ammonite.$sess.cell12$Helper.reverse(\u001b[32mcell12.sc\u001b[39m:\u001b[32m5\u001b[39m)",
      "  ammonite.$sess.cell12$Helper.reverse(\u001b[32mcell12.sc\u001b[39m:\u001b[32m5\u001b[39m)",
      "  ammonite.$sess.cell12$Helper.reverse(\u001b[32mcell12.sc\u001b[39m:\u001b[32m5\u001b[39m)",
      "  ammonite.$sess.cell12$Helper.reverse(\u001b[32mcell12.sc\u001b[39m:\u001b[32m5\u001b[39m)",
      "  ammonite.$sess.cell12$Helper.reverse(\u001b[32mcell12.sc\u001b[39m:\u001b[32m5\u001b[39m)",
      "  ammonite.$sess.cell12$Helper.reverse(\u001b[32mcell12.sc\u001b[39m:\u001b[32m5\u001b[39m)",
      "  ammonite.$sess.cell12$Helper.reverse(\u001b[32mcell12.sc\u001b[39m:\u001b[32m5\u001b[39m)",
      "  ammonite.$sess.cell12$Helper.reverse(\u001b[32mcell12.sc\u001b[39m:\u001b[32m5\u001b[39m)",
      "  ammonite.$sess.cell12$Helper.reverse(\u001b[32mcell12.sc\u001b[39m:\u001b[32m5\u001b[39m)",
      "  ammonite.$sess.cell12$Helper.reverse(\u001b[32mcell12.sc\u001b[39m:\u001b[32m5\u001b[39m)",
      "  ammonite.$sess.cell12$Helper.reverse(\u001b[32mcell12.sc\u001b[39m:\u001b[32m5\u001b[39m)",
      "  ammonite.$sess.cell12$Helper.reverse(\u001b[32mcell12.sc\u001b[39m:\u001b[32m5\u001b[39m)",
      "  ammonite.$sess.cell12$Helper.reverse(\u001b[32mcell12.sc\u001b[39m:\u001b[32m5\u001b[39m)",
      "  ammonite.$sess.cell12$Helper.reverse(\u001b[32mcell12.sc\u001b[39m:\u001b[32m5\u001b[39m)",
      "  ammonite.$sess.cell12$Helper.reverse(\u001b[32mcell12.sc\u001b[39m:\u001b[32m5\u001b[39m)",
      "  ammonite.$sess.cell12$Helper.reverse(\u001b[32mcell12.sc\u001b[39m:\u001b[32m5\u001b[39m)",
      "  ammonite.$sess.cell12$Helper.reverse(\u001b[32mcell12.sc\u001b[39m:\u001b[32m5\u001b[39m)",
      "  ammonite.$sess.cell12$Helper.reverse(\u001b[32mcell12.sc\u001b[39m:\u001b[32m5\u001b[39m)",
      "  ammonite.$sess.cell12$Helper.reverse(\u001b[32mcell12.sc\u001b[39m:\u001b[32m5\u001b[39m)",
      "  ammonite.$sess.cell12$Helper.reverse(\u001b[32mcell12.sc\u001b[39m:\u001b[32m5\u001b[39m)",
      "  ammonite.$sess.cell12$Helper.reverse(\u001b[32mcell12.sc\u001b[39m:\u001b[32m5\u001b[39m)",
      "  ammonite.$sess.cell12$Helper.reverse(\u001b[32mcell12.sc\u001b[39m:\u001b[32m5\u001b[39m)",
      "  ammonite.$sess.cell12$Helper.reverse(\u001b[32mcell12.sc\u001b[39m:\u001b[32m5\u001b[39m)",
      "  ammonite.$sess.cell12$Helper.reverse(\u001b[32mcell12.sc\u001b[39m:\u001b[32m5\u001b[39m)",
      "  ammonite.$sess.cell12$Helper.reverse(\u001b[32mcell12.sc\u001b[39m:\u001b[32m5\u001b[39m)",
      "  ammonite.$sess.cell12$Helper.reverse(\u001b[32mcell12.sc\u001b[39m:\u001b[32m5\u001b[39m)",
      "  ammonite.$sess.cell12$Helper.reverse(\u001b[32mcell12.sc\u001b[39m:\u001b[32m5\u001b[39m)",
      "  ammonite.$sess.cell12$Helper.reverse(\u001b[32mcell12.sc\u001b[39m:\u001b[32m5\u001b[39m)",
      "  ammonite.$sess.cell12$Helper.reverse(\u001b[32mcell12.sc\u001b[39m:\u001b[32m5\u001b[39m)",
      "  ammonite.$sess.cell12$Helper.reverse(\u001b[32mcell12.sc\u001b[39m:\u001b[32m5\u001b[39m)",
      "  ammonite.$sess.cell12$Helper.reverse(\u001b[32mcell12.sc\u001b[39m:\u001b[32m5\u001b[39m)",
      "  ammonite.$sess.cell12$Helper.reverse(\u001b[32mcell12.sc\u001b[39m:\u001b[32m5\u001b[39m)",
      "  ammonite.$sess.cell12$Helper.reverse(\u001b[32mcell12.sc\u001b[39m:\u001b[32m5\u001b[39m)",
      "  ammonite.$sess.cell12$Helper.reverse(\u001b[32mcell12.sc\u001b[39m:\u001b[32m5\u001b[39m)",
      "  ammonite.$sess.cell12$Helper.reverse(\u001b[32mcell12.sc\u001b[39m:\u001b[32m5\u001b[39m)",
      "  ammonite.$sess.cell12$Helper.reverse(\u001b[32mcell12.sc\u001b[39m:\u001b[32m5\u001b[39m)",
      "  ammonite.$sess.cell12$Helper.reverse(\u001b[32mcell12.sc\u001b[39m:\u001b[32m5\u001b[39m)",
      "  ammonite.$sess.cell12$Helper.reverse(\u001b[32mcell12.sc\u001b[39m:\u001b[32m5\u001b[39m)",
      "  ammonite.$sess.cell12$Helper.reverse(\u001b[32mcell12.sc\u001b[39m:\u001b[32m5\u001b[39m)",
      "  ammonite.$sess.cell12$Helper.reverse(\u001b[32mcell12.sc\u001b[39m:\u001b[32m5\u001b[39m)",
      "  ammonite.$sess.cell12$Helper.reverse(\u001b[32mcell12.sc\u001b[39m:\u001b[32m5\u001b[39m)",
      "  ammonite.$sess.cell12$Helper.reverse(\u001b[32mcell12.sc\u001b[39m:\u001b[32m5\u001b[39m)",
      "  ammonite.$sess.cell12$Helper.reverse(\u001b[32mcell12.sc\u001b[39m:\u001b[32m5\u001b[39m)",
      "  ammonite.$sess.cell12$Helper.reverse(\u001b[32mcell12.sc\u001b[39m:\u001b[32m5\u001b[39m)",
      "  ammonite.$sess.cell12$Helper.reverse(\u001b[32mcell12.sc\u001b[39m:\u001b[32m5\u001b[39m)",
      "  ammonite.$sess.cell12$Helper.reverse(\u001b[32mcell12.sc\u001b[39m:\u001b[32m5\u001b[39m)",
      "  ammonite.$sess.cell12$Helper.reverse(\u001b[32mcell12.sc\u001b[39m:\u001b[32m5\u001b[39m)",
      "  ammonite.$sess.cell12$Helper.reverse(\u001b[32mcell12.sc\u001b[39m:\u001b[32m5\u001b[39m)",
      "  ammonite.$sess.cell12$Helper.reverse(\u001b[32mcell12.sc\u001b[39m:\u001b[32m5\u001b[39m)",
      "  ammonite.$sess.cell12$Helper.reverse(\u001b[32mcell12.sc\u001b[39m:\u001b[32m5\u001b[39m)",
      "  ammonite.$sess.cell12$Helper.reverse(\u001b[32mcell12.sc\u001b[39m:\u001b[32m5\u001b[39m)",
      "  ammonite.$sess.cell12$Helper.reverse(\u001b[32mcell12.sc\u001b[39m:\u001b[32m5\u001b[39m)",
      "  ammonite.$sess.cell12$Helper.reverse(\u001b[32mcell12.sc\u001b[39m:\u001b[32m5\u001b[39m)",
      "  ammonite.$sess.cell12$Helper.reverse(\u001b[32mcell12.sc\u001b[39m:\u001b[32m5\u001b[39m)",
      "  ammonite.$sess.cell12$Helper.reverse(\u001b[32mcell12.sc\u001b[39m:\u001b[32m5\u001b[39m)",
      "  ammonite.$sess.cell12$Helper.reverse(\u001b[32mcell12.sc\u001b[39m:\u001b[32m5\u001b[39m)",
      "  ammonite.$sess.cell12$Helper.reverse(\u001b[32mcell12.sc\u001b[39m:\u001b[32m5\u001b[39m)",
      "  ammonite.$sess.cell12$Helper.reverse(\u001b[32mcell12.sc\u001b[39m:\u001b[32m5\u001b[39m)",
      "  ammonite.$sess.cell12$Helper.reverse(\u001b[32mcell12.sc\u001b[39m:\u001b[32m5\u001b[39m)",
      "  ammonite.$sess.cell12$Helper.reverse(\u001b[32mcell12.sc\u001b[39m:\u001b[32m5\u001b[39m)",
      "  ammonite.$sess.cell12$Helper.reverse(\u001b[32mcell12.sc\u001b[39m:\u001b[32m5\u001b[39m)",
      "  ammonite.$sess.cell12$Helper.reverse(\u001b[32mcell12.sc\u001b[39m:\u001b[32m5\u001b[39m)",
      "  ammonite.$sess.cell12$Helper.reverse(\u001b[32mcell12.sc\u001b[39m:\u001b[32m5\u001b[39m)",
      "  ammonite.$sess.cell12$Helper.reverse(\u001b[32mcell12.sc\u001b[39m:\u001b[32m5\u001b[39m)",
      "  ammonite.$sess.cell12$Helper.reverse(\u001b[32mcell12.sc\u001b[39m:\u001b[32m5\u001b[39m)",
      "  ammonite.$sess.cell12$Helper.reverse(\u001b[32mcell12.sc\u001b[39m:\u001b[32m5\u001b[39m)",
      "  ammonite.$sess.cell12$Helper.reverse(\u001b[32mcell12.sc\u001b[39m:\u001b[32m5\u001b[39m)",
      "  ammonite.$sess.cell12$Helper.reverse(\u001b[32mcell12.sc\u001b[39m:\u001b[32m5\u001b[39m)",
      "  ammonite.$sess.cell12$Helper.reverse(\u001b[32mcell12.sc\u001b[39m:\u001b[32m5\u001b[39m)",
      "  ammonite.$sess.cell12$Helper.reverse(\u001b[32mcell12.sc\u001b[39m:\u001b[32m5\u001b[39m)",
      "  ammonite.$sess.cell12$Helper.reverse(\u001b[32mcell12.sc\u001b[39m:\u001b[32m5\u001b[39m)",
      "  ammonite.$sess.cell12$Helper.reverse(\u001b[32mcell12.sc\u001b[39m:\u001b[32m5\u001b[39m)",
      "  ammonite.$sess.cell12$Helper.reverse(\u001b[32mcell12.sc\u001b[39m:\u001b[32m5\u001b[39m)",
      "  ammonite.$sess.cell12$Helper.reverse(\u001b[32mcell12.sc\u001b[39m:\u001b[32m5\u001b[39m)",
      "  ammonite.$sess.cell12$Helper.reverse(\u001b[32mcell12.sc\u001b[39m:\u001b[32m5\u001b[39m)",
      "  ammonite.$sess.cell12$Helper.reverse(\u001b[32mcell12.sc\u001b[39m:\u001b[32m5\u001b[39m)",
      "  ammonite.$sess.cell12$Helper.reverse(\u001b[32mcell12.sc\u001b[39m:\u001b[32m5\u001b[39m)",
      "  ammonite.$sess.cell12$Helper.reverse(\u001b[32mcell12.sc\u001b[39m:\u001b[32m5\u001b[39m)",
      "  ammonite.$sess.cell12$Helper.reverse(\u001b[32mcell12.sc\u001b[39m:\u001b[32m5\u001b[39m)",
      "  ammonite.$sess.cell12$Helper.reverse(\u001b[32mcell12.sc\u001b[39m:\u001b[32m5\u001b[39m)",
      "  ammonite.$sess.cell12$Helper.reverse(\u001b[32mcell12.sc\u001b[39m:\u001b[32m5\u001b[39m)",
      "  ammonite.$sess.cell12$Helper.reverse(\u001b[32mcell12.sc\u001b[39m:\u001b[32m5\u001b[39m)",
      "  ammonite.$sess.cell12$Helper.reverse(\u001b[32mcell12.sc\u001b[39m:\u001b[32m5\u001b[39m)",
      "  ammonite.$sess.cell12$Helper.reverse(\u001b[32mcell12.sc\u001b[39m:\u001b[32m5\u001b[39m)",
      "  ammonite.$sess.cell12$Helper.reverse(\u001b[32mcell12.sc\u001b[39m:\u001b[32m5\u001b[39m)",
      "  ammonite.$sess.cell12$Helper.reverse(\u001b[32mcell12.sc\u001b[39m:\u001b[32m5\u001b[39m)",
      "  ammonite.$sess.cell12$Helper.reverse(\u001b[32mcell12.sc\u001b[39m:\u001b[32m5\u001b[39m)",
      "  ammonite.$sess.cell12$Helper.reverse(\u001b[32mcell12.sc\u001b[39m:\u001b[32m5\u001b[39m)",
      "  ammonite.$sess.cell12$Helper.reverse(\u001b[32mcell12.sc\u001b[39m:\u001b[32m5\u001b[39m)",
      "  ammonite.$sess.cell12$Helper.reverse(\u001b[32mcell12.sc\u001b[39m:\u001b[32m5\u001b[39m)",
      "  ammonite.$sess.cell12$Helper.reverse(\u001b[32mcell12.sc\u001b[39m:\u001b[32m5\u001b[39m)",
      "  ammonite.$sess.cell12$Helper.reverse(\u001b[32mcell12.sc\u001b[39m:\u001b[32m5\u001b[39m)",
      "  ammonite.$sess.cell12$Helper.reverse(\u001b[32mcell12.sc\u001b[39m:\u001b[32m5\u001b[39m)",
      "  ammonite.$sess.cell12$Helper.reverse(\u001b[32mcell12.sc\u001b[39m:\u001b[32m5\u001b[39m)",
      "  ammonite.$sess.cell12$Helper.reverse(\u001b[32mcell12.sc\u001b[39m:\u001b[32m5\u001b[39m)",
      "  ammonite.$sess.cell12$Helper.reverse(\u001b[32mcell12.sc\u001b[39m:\u001b[32m5\u001b[39m)",
      "  ammonite.$sess.cell12$Helper.reverse(\u001b[32mcell12.sc\u001b[39m:\u001b[32m5\u001b[39m)",
      "  ammonite.$sess.cell12$Helper.reverse(\u001b[32mcell12.sc\u001b[39m:\u001b[32m5\u001b[39m)",
      "  ammonite.$sess.cell12$Helper.reverse(\u001b[32mcell12.sc\u001b[39m:\u001b[32m5\u001b[39m)",
      "  ammonite.$sess.cell12$Helper.reverse(\u001b[32mcell12.sc\u001b[39m:\u001b[32m5\u001b[39m)",
      "  ammonite.$sess.cell12$Helper.reverse(\u001b[32mcell12.sc\u001b[39m:\u001b[32m5\u001b[39m)",
      "  ammonite.$sess.cell12$Helper.reverse(\u001b[32mcell12.sc\u001b[39m:\u001b[32m5\u001b[39m)",
      "  ammonite.$sess.cell12$Helper.reverse(\u001b[32mcell12.sc\u001b[39m:\u001b[32m5\u001b[39m)",
      "  ammonite.$sess.cell12$Helper.reverse(\u001b[32mcell12.sc\u001b[39m:\u001b[32m5\u001b[39m)",
      "  ammonite.$sess.cell12$Helper.reverse(\u001b[32mcell12.sc\u001b[39m:\u001b[32m5\u001b[39m)",
      "  ammonite.$sess.cell12$Helper.reverse(\u001b[32mcell12.sc\u001b[39m:\u001b[32m5\u001b[39m)",
      "  ammonite.$sess.cell12$Helper.reverse(\u001b[32mcell12.sc\u001b[39m:\u001b[32m5\u001b[39m)",
      "  ammonite.$sess.cell12$Helper.reverse(\u001b[32mcell12.sc\u001b[39m:\u001b[32m5\u001b[39m)",
      "  ammonite.$sess.cell12$Helper.reverse(\u001b[32mcell12.sc\u001b[39m:\u001b[32m5\u001b[39m)",
      "  ammonite.$sess.cell12$Helper.reverse(\u001b[32mcell12.sc\u001b[39m:\u001b[32m5\u001b[39m)",
      "  ammonite.$sess.cell12$Helper.reverse(\u001b[32mcell12.sc\u001b[39m:\u001b[32m5\u001b[39m)",
      "  ammonite.$sess.cell12$Helper.reverse(\u001b[32mcell12.sc\u001b[39m:\u001b[32m5\u001b[39m)",
      "  ammonite.$sess.cell12$Helper.reverse(\u001b[32mcell12.sc\u001b[39m:\u001b[32m5\u001b[39m)",
      "  ammonite.$sess.cell12$Helper.reverse(\u001b[32mcell12.sc\u001b[39m:\u001b[32m5\u001b[39m)",
      "  ammonite.$sess.cell12$Helper.reverse(\u001b[32mcell12.sc\u001b[39m:\u001b[32m5\u001b[39m)",
      "  ammonite.$sess.cell12$Helper.reverse(\u001b[32mcell12.sc\u001b[39m:\u001b[32m5\u001b[39m)",
      "  ammonite.$sess.cell12$Helper.reverse(\u001b[32mcell12.sc\u001b[39m:\u001b[32m5\u001b[39m)",
      "  ammonite.$sess.cell12$Helper.reverse(\u001b[32mcell12.sc\u001b[39m:\u001b[32m5\u001b[39m)",
      "  ammonite.$sess.cell12$Helper.reverse(\u001b[32mcell12.sc\u001b[39m:\u001b[32m5\u001b[39m)",
      "  ammonite.$sess.cell12$Helper.reverse(\u001b[32mcell12.sc\u001b[39m:\u001b[32m5\u001b[39m)",
      "  ammonite.$sess.cell12$Helper.reverse(\u001b[32mcell12.sc\u001b[39m:\u001b[32m5\u001b[39m)",
      "  ammonite.$sess.cell12$Helper.reverse(\u001b[32mcell12.sc\u001b[39m:\u001b[32m5\u001b[39m)",
      "  ammonite.$sess.cell12$Helper.reverse(\u001b[32mcell12.sc\u001b[39m:\u001b[32m5\u001b[39m)",
      "  ammonite.$sess.cell12$Helper.reverse(\u001b[32mcell12.sc\u001b[39m:\u001b[32m5\u001b[39m)",
      "  ammonite.$sess.cell12$Helper.reverse(\u001b[32mcell12.sc\u001b[39m:\u001b[32m5\u001b[39m)",
      "  ammonite.$sess.cell12$Helper.reverse(\u001b[32mcell12.sc\u001b[39m:\u001b[32m5\u001b[39m)",
      "  ammonite.$sess.cell12$Helper.reverse(\u001b[32mcell12.sc\u001b[39m:\u001b[32m5\u001b[39m)",
      "  ammonite.$sess.cell12$Helper.reverse(\u001b[32mcell12.sc\u001b[39m:\u001b[32m5\u001b[39m)",
      "  ammonite.$sess.cell12$Helper.reverse(\u001b[32mcell12.sc\u001b[39m:\u001b[32m5\u001b[39m)",
      "  ammonite.$sess.cell12$Helper.reverse(\u001b[32mcell12.sc\u001b[39m:\u001b[32m5\u001b[39m)",
      "  ammonite.$sess.cell12$Helper.reverse(\u001b[32mcell12.sc\u001b[39m:\u001b[32m5\u001b[39m)",
      "  ammonite.$sess.cell12$Helper.reverse(\u001b[32mcell12.sc\u001b[39m:\u001b[32m5\u001b[39m)",
      "  ammonite.$sess.cell12$Helper.reverse(\u001b[32mcell12.sc\u001b[39m:\u001b[32m5\u001b[39m)",
      "  ammonite.$sess.cell12$Helper.reverse(\u001b[32mcell12.sc\u001b[39m:\u001b[32m5\u001b[39m)",
      "  ammonite.$sess.cell12$Helper.reverse(\u001b[32mcell12.sc\u001b[39m:\u001b[32m5\u001b[39m)",
      "  ammonite.$sess.cell12$Helper.reverse(\u001b[32mcell12.sc\u001b[39m:\u001b[32m5\u001b[39m)",
      "  ammonite.$sess.cell12$Helper.reverse(\u001b[32mcell12.sc\u001b[39m:\u001b[32m5\u001b[39m)",
      "  ammonite.$sess.cell12$Helper.reverse(\u001b[32mcell12.sc\u001b[39m:\u001b[32m5\u001b[39m)",
      "  ammonite.$sess.cell12$Helper.reverse(\u001b[32mcell12.sc\u001b[39m:\u001b[32m5\u001b[39m)",
      "  ammonite.$sess.cell12$Helper.reverse(\u001b[32mcell12.sc\u001b[39m:\u001b[32m5\u001b[39m)",
      "  ammonite.$sess.cell12$Helper.reverse(\u001b[32mcell12.sc\u001b[39m:\u001b[32m5\u001b[39m)",
      "  ammonite.$sess.cell12$Helper.reverse(\u001b[32mcell12.sc\u001b[39m:\u001b[32m5\u001b[39m)",
      "  ammonite.$sess.cell12$Helper.reverse(\u001b[32mcell12.sc\u001b[39m:\u001b[32m5\u001b[39m)",
      "  ammonite.$sess.cell12$Helper.reverse(\u001b[32mcell12.sc\u001b[39m:\u001b[32m5\u001b[39m)",
      "  ammonite.$sess.cell12$Helper.reverse(\u001b[32mcell12.sc\u001b[39m:\u001b[32m5\u001b[39m)",
      "  ammonite.$sess.cell12$Helper.reverse(\u001b[32mcell12.sc\u001b[39m:\u001b[32m5\u001b[39m)",
      "  ammonite.$sess.cell12$Helper.reverse(\u001b[32mcell12.sc\u001b[39m:\u001b[32m5\u001b[39m)",
      "  ammonite.$sess.cell12$Helper.reverse(\u001b[32mcell12.sc\u001b[39m:\u001b[32m5\u001b[39m)",
      "  ammonite.$sess.cell12$Helper.reverse(\u001b[32mcell12.sc\u001b[39m:\u001b[32m5\u001b[39m)",
      "  ammonite.$sess.cell12$Helper.reverse(\u001b[32mcell12.sc\u001b[39m:\u001b[32m5\u001b[39m)",
      "  ammonite.$sess.cell12$Helper.reverse(\u001b[32mcell12.sc\u001b[39m:\u001b[32m5\u001b[39m)",
      "  ammonite.$sess.cell12$Helper.reverse(\u001b[32mcell12.sc\u001b[39m:\u001b[32m5\u001b[39m)",
      "  ammonite.$sess.cell12$Helper.reverse(\u001b[32mcell12.sc\u001b[39m:\u001b[32m5\u001b[39m)",
      "  ammonite.$sess.cell12$Helper.reverse(\u001b[32mcell12.sc\u001b[39m:\u001b[32m5\u001b[39m)",
      "  ammonite.$sess.cell12$Helper.reverse(\u001b[32mcell12.sc\u001b[39m:\u001b[32m5\u001b[39m)",
      "  ammonite.$sess.cell12$Helper.reverse(\u001b[32mcell12.sc\u001b[39m:\u001b[32m5\u001b[39m)",
      "  ammonite.$sess.cell12$Helper.reverse(\u001b[32mcell12.sc\u001b[39m:\u001b[32m5\u001b[39m)",
      "  ammonite.$sess.cell12$Helper.reverse(\u001b[32mcell12.sc\u001b[39m:\u001b[32m5\u001b[39m)",
      "  ammonite.$sess.cell12$Helper.reverse(\u001b[32mcell12.sc\u001b[39m:\u001b[32m5\u001b[39m)",
      "  ammonite.$sess.cell12$Helper.reverse(\u001b[32mcell12.sc\u001b[39m:\u001b[32m5\u001b[39m)",
      "  ammonite.$sess.cell12$Helper.reverse(\u001b[32mcell12.sc\u001b[39m:\u001b[32m5\u001b[39m)",
      "  ammonite.$sess.cell12$Helper.reverse(\u001b[32mcell12.sc\u001b[39m:\u001b[32m5\u001b[39m)",
      "  ammonite.$sess.cell12$Helper.reverse(\u001b[32mcell12.sc\u001b[39m:\u001b[32m5\u001b[39m)",
      "  ammonite.$sess.cell12$Helper.reverse(\u001b[32mcell12.sc\u001b[39m:\u001b[32m5\u001b[39m)",
      "  ammonite.$sess.cell12$Helper.reverse(\u001b[32mcell12.sc\u001b[39m:\u001b[32m5\u001b[39m)",
      "  ammonite.$sess.cell12$Helper.reverse(\u001b[32mcell12.sc\u001b[39m:\u001b[32m5\u001b[39m)",
      "  ammonite.$sess.cell12$Helper.reverse(\u001b[32mcell12.sc\u001b[39m:\u001b[32m5\u001b[39m)",
      "  ammonite.$sess.cell12$Helper.reverse(\u001b[32mcell12.sc\u001b[39m:\u001b[32m5\u001b[39m)",
      "  ammonite.$sess.cell12$Helper.reverse(\u001b[32mcell12.sc\u001b[39m:\u001b[32m5\u001b[39m)",
      "  ammonite.$sess.cell12$Helper.reverse(\u001b[32mcell12.sc\u001b[39m:\u001b[32m5\u001b[39m)",
      "  ammonite.$sess.cell12$Helper.reverse(\u001b[32mcell12.sc\u001b[39m:\u001b[32m5\u001b[39m)",
      "  ammonite.$sess.cell12$Helper.reverse(\u001b[32mcell12.sc\u001b[39m:\u001b[32m5\u001b[39m)",
      "  ammonite.$sess.cell12$Helper.reverse(\u001b[32mcell12.sc\u001b[39m:\u001b[32m5\u001b[39m)",
      "  ammonite.$sess.cell12$Helper.reverse(\u001b[32mcell12.sc\u001b[39m:\u001b[32m5\u001b[39m)",
      "  ammonite.$sess.cell12$Helper.reverse(\u001b[32mcell12.sc\u001b[39m:\u001b[32m5\u001b[39m)",
      "  ammonite.$sess.cell12$Helper.reverse(\u001b[32mcell12.sc\u001b[39m:\u001b[32m5\u001b[39m)",
      "  ammonite.$sess.cell12$Helper.reverse(\u001b[32mcell12.sc\u001b[39m:\u001b[32m5\u001b[39m)",
      "  ammonite.$sess.cell12$Helper.reverse(\u001b[32mcell12.sc\u001b[39m:\u001b[32m5\u001b[39m)",
      "  ammonite.$sess.cell12$Helper.reverse(\u001b[32mcell12.sc\u001b[39m:\u001b[32m5\u001b[39m)",
      "  ammonite.$sess.cell12$Helper.reverse(\u001b[32mcell12.sc\u001b[39m:\u001b[32m5\u001b[39m)",
      "  ammonite.$sess.cell12$Helper.reverse(\u001b[32mcell12.sc\u001b[39m:\u001b[32m5\u001b[39m)",
      "  ammonite.$sess.cell12$Helper.reverse(\u001b[32mcell12.sc\u001b[39m:\u001b[32m5\u001b[39m)",
      "  ammonite.$sess.cell12$Helper.reverse(\u001b[32mcell12.sc\u001b[39m:\u001b[32m5\u001b[39m)",
      "  ammonite.$sess.cell12$Helper.reverse(\u001b[32mcell12.sc\u001b[39m:\u001b[32m5\u001b[39m)",
      "  ammonite.$sess.cell12$Helper.reverse(\u001b[32mcell12.sc\u001b[39m:\u001b[32m5\u001b[39m)",
      "  ammonite.$sess.cell12$Helper.reverse(\u001b[32mcell12.sc\u001b[39m:\u001b[32m5\u001b[39m)",
      "  ammonite.$sess.cell12$Helper.reverse(\u001b[32mcell12.sc\u001b[39m:\u001b[32m5\u001b[39m)",
      "  ammonite.$sess.cell12$Helper.reverse(\u001b[32mcell12.sc\u001b[39m:\u001b[32m5\u001b[39m)",
      "  ammonite.$sess.cell12$Helper.reverse(\u001b[32mcell12.sc\u001b[39m:\u001b[32m5\u001b[39m)",
      "  ammonite.$sess.cell12$Helper.reverse(\u001b[32mcell12.sc\u001b[39m:\u001b[32m5\u001b[39m)",
      "  ammonite.$sess.cell12$Helper.reverse(\u001b[32mcell12.sc\u001b[39m:\u001b[32m5\u001b[39m)",
      "  ammonite.$sess.cell12$Helper.reverse(\u001b[32mcell12.sc\u001b[39m:\u001b[32m5\u001b[39m)",
      "  ammonite.$sess.cell12$Helper.reverse(\u001b[32mcell12.sc\u001b[39m:\u001b[32m5\u001b[39m)",
      "  ammonite.$sess.cell12$Helper.reverse(\u001b[32mcell12.sc\u001b[39m:\u001b[32m5\u001b[39m)",
      "  ammonite.$sess.cell12$Helper.reverse(\u001b[32mcell12.sc\u001b[39m:\u001b[32m5\u001b[39m)",
      "  ammonite.$sess.cell12$Helper.reverse(\u001b[32mcell12.sc\u001b[39m:\u001b[32m5\u001b[39m)",
      "  ammonite.$sess.cell12$Helper.reverse(\u001b[32mcell12.sc\u001b[39m:\u001b[32m5\u001b[39m)",
      "  ammonite.$sess.cell12$Helper.reverse(\u001b[32mcell12.sc\u001b[39m:\u001b[32m5\u001b[39m)",
      "  ammonite.$sess.cell12$Helper.reverse(\u001b[32mcell12.sc\u001b[39m:\u001b[32m5\u001b[39m)",
      "  ammonite.$sess.cell12$Helper.reverse(\u001b[32mcell12.sc\u001b[39m:\u001b[32m5\u001b[39m)",
      "  ammonite.$sess.cell12$Helper.reverse(\u001b[32mcell12.sc\u001b[39m:\u001b[32m5\u001b[39m)",
      "  ammonite.$sess.cell12$Helper.reverse(\u001b[32mcell12.sc\u001b[39m:\u001b[32m5\u001b[39m)",
      "  ammonite.$sess.cell12$Helper.reverse(\u001b[32mcell12.sc\u001b[39m:\u001b[32m5\u001b[39m)",
      "  ammonite.$sess.cell12$Helper.reverse(\u001b[32mcell12.sc\u001b[39m:\u001b[32m5\u001b[39m)",
      "  ammonite.$sess.cell12$Helper.reverse(\u001b[32mcell12.sc\u001b[39m:\u001b[32m5\u001b[39m)",
      "  ammonite.$sess.cell12$Helper.reverse(\u001b[32mcell12.sc\u001b[39m:\u001b[32m5\u001b[39m)",
      "  ammonite.$sess.cell12$Helper.reverse(\u001b[32mcell12.sc\u001b[39m:\u001b[32m5\u001b[39m)",
      "  ammonite.$sess.cell12$Helper.reverse(\u001b[32mcell12.sc\u001b[39m:\u001b[32m5\u001b[39m)",
      "  ammonite.$sess.cell12$Helper.reverse(\u001b[32mcell12.sc\u001b[39m:\u001b[32m5\u001b[39m)",
      "  ammonite.$sess.cell12$Helper.reverse(\u001b[32mcell12.sc\u001b[39m:\u001b[32m5\u001b[39m)",
      "  ammonite.$sess.cell12$Helper.reverse(\u001b[32mcell12.sc\u001b[39m:\u001b[32m5\u001b[39m)",
      "  ammonite.$sess.cell12$Helper.reverse(\u001b[32mcell12.sc\u001b[39m:\u001b[32m5\u001b[39m)",
      "  ammonite.$sess.cell12$Helper.reverse(\u001b[32mcell12.sc\u001b[39m:\u001b[32m5\u001b[39m)",
      "  ammonite.$sess.cell12$Helper.reverse(\u001b[32mcell12.sc\u001b[39m:\u001b[32m5\u001b[39m)",
      "  ammonite.$sess.cell12$Helper.reverse(\u001b[32mcell12.sc\u001b[39m:\u001b[32m5\u001b[39m)",
      "  ammonite.$sess.cell12$Helper.reverse(\u001b[32mcell12.sc\u001b[39m:\u001b[32m5\u001b[39m)",
      "  ammonite.$sess.cell12$Helper.reverse(\u001b[32mcell12.sc\u001b[39m:\u001b[32m5\u001b[39m)",
      "  ammonite.$sess.cell12$Helper.reverse(\u001b[32mcell12.sc\u001b[39m:\u001b[32m5\u001b[39m)",
      "  ammonite.$sess.cell12$Helper.reverse(\u001b[32mcell12.sc\u001b[39m:\u001b[32m5\u001b[39m)",
      "  ammonite.$sess.cell12$Helper.reverse(\u001b[32mcell12.sc\u001b[39m:\u001b[32m5\u001b[39m)",
      "  ammonite.$sess.cell12$Helper.reverse(\u001b[32mcell12.sc\u001b[39m:\u001b[32m5\u001b[39m)",
      "  ammonite.$sess.cell12$Helper.reverse(\u001b[32mcell12.sc\u001b[39m:\u001b[32m5\u001b[39m)",
      "  ammonite.$sess.cell12$Helper.reverse(\u001b[32mcell12.sc\u001b[39m:\u001b[32m5\u001b[39m)",
      "  ammonite.$sess.cell12$Helper.reverse(\u001b[32mcell12.sc\u001b[39m:\u001b[32m5\u001b[39m)",
      "  ammonite.$sess.cell12$Helper.reverse(\u001b[32mcell12.sc\u001b[39m:\u001b[32m5\u001b[39m)",
      "  ammonite.$sess.cell12$Helper.reverse(\u001b[32mcell12.sc\u001b[39m:\u001b[32m5\u001b[39m)",
      "  ammonite.$sess.cell12$Helper.reverse(\u001b[32mcell12.sc\u001b[39m:\u001b[32m5\u001b[39m)",
      "  ammonite.$sess.cell12$Helper.reverse(\u001b[32mcell12.sc\u001b[39m:\u001b[32m5\u001b[39m)",
      "  ammonite.$sess.cell12$Helper.reverse(\u001b[32mcell12.sc\u001b[39m:\u001b[32m5\u001b[39m)",
      "  ammonite.$sess.cell12$Helper.reverse(\u001b[32mcell12.sc\u001b[39m:\u001b[32m5\u001b[39m)",
      "  ammonite.$sess.cell12$Helper.reverse(\u001b[32mcell12.sc\u001b[39m:\u001b[32m5\u001b[39m)",
      "  ammonite.$sess.cell12$Helper.reverse(\u001b[32mcell12.sc\u001b[39m:\u001b[32m5\u001b[39m)",
      "  ammonite.$sess.cell12$Helper.reverse(\u001b[32mcell12.sc\u001b[39m:\u001b[32m5\u001b[39m)",
      "  ammonite.$sess.cell12$Helper.reverse(\u001b[32mcell12.sc\u001b[39m:\u001b[32m5\u001b[39m)",
      "  ammonite.$sess.cell12$Helper.reverse(\u001b[32mcell12.sc\u001b[39m:\u001b[32m5\u001b[39m)",
      "  ammonite.$sess.cell12$Helper.reverse(\u001b[32mcell12.sc\u001b[39m:\u001b[32m5\u001b[39m)",
      "  ammonite.$sess.cell12$Helper.reverse(\u001b[32mcell12.sc\u001b[39m:\u001b[32m5\u001b[39m)",
      "  ammonite.$sess.cell12$Helper.reverse(\u001b[32mcell12.sc\u001b[39m:\u001b[32m5\u001b[39m)",
      "  ammonite.$sess.cell12$Helper.reverse(\u001b[32mcell12.sc\u001b[39m:\u001b[32m5\u001b[39m)",
      "  ammonite.$sess.cell12$Helper.reverse(\u001b[32mcell12.sc\u001b[39m:\u001b[32m5\u001b[39m)",
      "  ammonite.$sess.cell12$Helper.reverse(\u001b[32mcell12.sc\u001b[39m:\u001b[32m5\u001b[39m)",
      "  ammonite.$sess.cell12$Helper.reverse(\u001b[32mcell12.sc\u001b[39m:\u001b[32m5\u001b[39m)",
      "  ammonite.$sess.cell12$Helper.reverse(\u001b[32mcell12.sc\u001b[39m:\u001b[32m5\u001b[39m)",
      "  ammonite.$sess.cell12$Helper.reverse(\u001b[32mcell12.sc\u001b[39m:\u001b[32m5\u001b[39m)",
      "  ammonite.$sess.cell12$Helper.reverse(\u001b[32mcell12.sc\u001b[39m:\u001b[32m5\u001b[39m)",
      "  ammonite.$sess.cell12$Helper.reverse(\u001b[32mcell12.sc\u001b[39m:\u001b[32m5\u001b[39m)",
      "  ammonite.$sess.cell12$Helper.reverse(\u001b[32mcell12.sc\u001b[39m:\u001b[32m5\u001b[39m)",
      "  ammonite.$sess.cell12$Helper.reverse(\u001b[32mcell12.sc\u001b[39m:\u001b[32m5\u001b[39m)",
      "  ammonite.$sess.cell12$Helper.reverse(\u001b[32mcell12.sc\u001b[39m:\u001b[32m5\u001b[39m)",
      "  ammonite.$sess.cell12$Helper.reverse(\u001b[32mcell12.sc\u001b[39m:\u001b[32m5\u001b[39m)",
      "  ammonite.$sess.cell12$Helper.reverse(\u001b[32mcell12.sc\u001b[39m:\u001b[32m5\u001b[39m)",
      "  ammonite.$sess.cell12$Helper.reverse(\u001b[32mcell12.sc\u001b[39m:\u001b[32m5\u001b[39m)",
      "  ammonite.$sess.cell12$Helper.reverse(\u001b[32mcell12.sc\u001b[39m:\u001b[32m5\u001b[39m)",
      "  ammonite.$sess.cell12$Helper.reverse(\u001b[32mcell12.sc\u001b[39m:\u001b[32m5\u001b[39m)",
      "  ammonite.$sess.cell12$Helper.reverse(\u001b[32mcell12.sc\u001b[39m:\u001b[32m5\u001b[39m)",
      "  ammonite.$sess.cell12$Helper.reverse(\u001b[32mcell12.sc\u001b[39m:\u001b[32m5\u001b[39m)",
      "  ammonite.$sess.cell12$Helper.reverse(\u001b[32mcell12.sc\u001b[39m:\u001b[32m5\u001b[39m)",
      "  ammonite.$sess.cell12$Helper.reverse(\u001b[32mcell12.sc\u001b[39m:\u001b[32m5\u001b[39m)",
      "  ammonite.$sess.cell12$Helper.reverse(\u001b[32mcell12.sc\u001b[39m:\u001b[32m5\u001b[39m)",
      "  ammonite.$sess.cell12$Helper.reverse(\u001b[32mcell12.sc\u001b[39m:\u001b[32m5\u001b[39m)",
      "  ammonite.$sess.cell12$Helper.reverse(\u001b[32mcell12.sc\u001b[39m:\u001b[32m5\u001b[39m)",
      "  ammonite.$sess.cell12$Helper.reverse(\u001b[32mcell12.sc\u001b[39m:\u001b[32m5\u001b[39m)",
      "  ammonite.$sess.cell12$Helper.reverse(\u001b[32mcell12.sc\u001b[39m:\u001b[32m5\u001b[39m)",
      "  ammonite.$sess.cell12$Helper.reverse(\u001b[32mcell12.sc\u001b[39m:\u001b[32m5\u001b[39m)",
      "  ammonite.$sess.cell12$Helper.reverse(\u001b[32mcell12.sc\u001b[39m:\u001b[32m5\u001b[39m)",
      "  ammonite.$sess.cell12$Helper.reverse(\u001b[32mcell12.sc\u001b[39m:\u001b[32m5\u001b[39m)",
      "  ammonite.$sess.cell12$Helper.reverse(\u001b[32mcell12.sc\u001b[39m:\u001b[32m5\u001b[39m)",
      "  ammonite.$sess.cell12$Helper.reverse(\u001b[32mcell12.sc\u001b[39m:\u001b[32m5\u001b[39m)",
      "  ammonite.$sess.cell12$Helper.reverse(\u001b[32mcell12.sc\u001b[39m:\u001b[32m5\u001b[39m)",
      "  ammonite.$sess.cell12$Helper.reverse(\u001b[32mcell12.sc\u001b[39m:\u001b[32m5\u001b[39m)",
      "  ammonite.$sess.cell12$Helper.reverse(\u001b[32mcell12.sc\u001b[39m:\u001b[32m5\u001b[39m)",
      "  ammonite.$sess.cell12$Helper.reverse(\u001b[32mcell12.sc\u001b[39m:\u001b[32m5\u001b[39m)",
      "  ammonite.$sess.cell12$Helper.reverse(\u001b[32mcell12.sc\u001b[39m:\u001b[32m5\u001b[39m)",
      "  ammonite.$sess.cell12$Helper.reverse(\u001b[32mcell12.sc\u001b[39m:\u001b[32m5\u001b[39m)",
      "  ammonite.$sess.cell12$Helper.reverse(\u001b[32mcell12.sc\u001b[39m:\u001b[32m5\u001b[39m)",
      "  ammonite.$sess.cell12$Helper.reverse(\u001b[32mcell12.sc\u001b[39m:\u001b[32m5\u001b[39m)",
      "  ammonite.$sess.cell12$Helper.reverse(\u001b[32mcell12.sc\u001b[39m:\u001b[32m5\u001b[39m)",
      "  ammonite.$sess.cell12$Helper.reverse(\u001b[32mcell12.sc\u001b[39m:\u001b[32m5\u001b[39m)",
      "  ammonite.$sess.cell12$Helper.reverse(\u001b[32mcell12.sc\u001b[39m:\u001b[32m5\u001b[39m)",
      "  ammonite.$sess.cell12$Helper.reverse(\u001b[32mcell12.sc\u001b[39m:\u001b[32m5\u001b[39m)",
      "  ammonite.$sess.cell12$Helper.reverse(\u001b[32mcell12.sc\u001b[39m:\u001b[32m5\u001b[39m)",
      "  ammonite.$sess.cell12$Helper.reverse(\u001b[32mcell12.sc\u001b[39m:\u001b[32m5\u001b[39m)",
      "  ammonite.$sess.cell12$Helper.reverse(\u001b[32mcell12.sc\u001b[39m:\u001b[32m5\u001b[39m)",
      "  ammonite.$sess.cell12$Helper.reverse(\u001b[32mcell12.sc\u001b[39m:\u001b[32m5\u001b[39m)",
      "  ammonite.$sess.cell12$Helper.reverse(\u001b[32mcell12.sc\u001b[39m:\u001b[32m5\u001b[39m)",
      "  ammonite.$sess.cell12$Helper.reverse(\u001b[32mcell12.sc\u001b[39m:\u001b[32m5\u001b[39m)",
      "  ammonite.$sess.cell12$Helper.reverse(\u001b[32mcell12.sc\u001b[39m:\u001b[32m5\u001b[39m)",
      "  ammonite.$sess.cell12$Helper.reverse(\u001b[32mcell12.sc\u001b[39m:\u001b[32m5\u001b[39m)",
      "  ammonite.$sess.cell12$Helper.reverse(\u001b[32mcell12.sc\u001b[39m:\u001b[32m5\u001b[39m)",
      "  ammonite.$sess.cell12$Helper.reverse(\u001b[32mcell12.sc\u001b[39m:\u001b[32m5\u001b[39m)",
      "  ammonite.$sess.cell12$Helper.reverse(\u001b[32mcell12.sc\u001b[39m:\u001b[32m5\u001b[39m)",
      "  ammonite.$sess.cell12$Helper.reverse(\u001b[32mcell12.sc\u001b[39m:\u001b[32m5\u001b[39m)",
      "  ammonite.$sess.cell12$Helper.reverse(\u001b[32mcell12.sc\u001b[39m:\u001b[32m5\u001b[39m)",
      "  ammonite.$sess.cell12$Helper.reverse(\u001b[32mcell12.sc\u001b[39m:\u001b[32m5\u001b[39m)",
      "  ammonite.$sess.cell12$Helper.reverse(\u001b[32mcell12.sc\u001b[39m:\u001b[32m5\u001b[39m)",
      "  ammonite.$sess.cell12$Helper.reverse(\u001b[32mcell12.sc\u001b[39m:\u001b[32m5\u001b[39m)",
      "  ammonite.$sess.cell12$Helper.reverse(\u001b[32mcell12.sc\u001b[39m:\u001b[32m5\u001b[39m)",
      "  ammonite.$sess.cell12$Helper.reverse(\u001b[32mcell12.sc\u001b[39m:\u001b[32m5\u001b[39m)",
      "  ammonite.$sess.cell12$Helper.reverse(\u001b[32mcell12.sc\u001b[39m:\u001b[32m5\u001b[39m)",
      "  ammonite.$sess.cell12$Helper.reverse(\u001b[32mcell12.sc\u001b[39m:\u001b[32m5\u001b[39m)",
      "  ammonite.$sess.cell12$Helper.reverse(\u001b[32mcell12.sc\u001b[39m:\u001b[32m5\u001b[39m)",
      "  ammonite.$sess.cell12$Helper.reverse(\u001b[32mcell12.sc\u001b[39m:\u001b[32m5\u001b[39m)",
      "  ammonite.$sess.cell12$Helper.reverse(\u001b[32mcell12.sc\u001b[39m:\u001b[32m5\u001b[39m)",
      "  ammonite.$sess.cell12$Helper.reverse(\u001b[32mcell12.sc\u001b[39m:\u001b[32m5\u001b[39m)",
      "  ammonite.$sess.cell12$Helper.reverse(\u001b[32mcell12.sc\u001b[39m:\u001b[32m5\u001b[39m)",
      "  ammonite.$sess.cell12$Helper.reverse(\u001b[32mcell12.sc\u001b[39m:\u001b[32m5\u001b[39m)",
      "  ammonite.$sess.cell12$Helper.reverse(\u001b[32mcell12.sc\u001b[39m:\u001b[32m5\u001b[39m)",
      "  ammonite.$sess.cell12$Helper.reverse(\u001b[32mcell12.sc\u001b[39m:\u001b[32m5\u001b[39m)",
      "  ammonite.$sess.cell12$Helper.reverse(\u001b[32mcell12.sc\u001b[39m:\u001b[32m5\u001b[39m)",
      "  ammonite.$sess.cell12$Helper.reverse(\u001b[32mcell12.sc\u001b[39m:\u001b[32m5\u001b[39m)",
      "  ammonite.$sess.cell12$Helper.reverse(\u001b[32mcell12.sc\u001b[39m:\u001b[32m5\u001b[39m)",
      "  ammonite.$sess.cell12$Helper.reverse(\u001b[32mcell12.sc\u001b[39m:\u001b[32m5\u001b[39m)",
      "  ammonite.$sess.cell12$Helper.reverse(\u001b[32mcell12.sc\u001b[39m:\u001b[32m5\u001b[39m)",
      "  ammonite.$sess.cell12$Helper.reverse(\u001b[32mcell12.sc\u001b[39m:\u001b[32m5\u001b[39m)",
      "  ammonite.$sess.cell12$Helper.reverse(\u001b[32mcell12.sc\u001b[39m:\u001b[32m5\u001b[39m)",
      "  ammonite.$sess.cell12$Helper.reverse(\u001b[32mcell12.sc\u001b[39m:\u001b[32m5\u001b[39m)",
      "  ammonite.$sess.cell12$Helper.reverse(\u001b[32mcell12.sc\u001b[39m:\u001b[32m5\u001b[39m)",
      "  ammonite.$sess.cell12$Helper.reverse(\u001b[32mcell12.sc\u001b[39m:\u001b[32m5\u001b[39m)",
      "  ammonite.$sess.cell12$Helper.reverse(\u001b[32mcell12.sc\u001b[39m:\u001b[32m5\u001b[39m)",
      "  ammonite.$sess.cell12$Helper.reverse(\u001b[32mcell12.sc\u001b[39m:\u001b[32m5\u001b[39m)",
      "  ammonite.$sess.cell12$Helper.reverse(\u001b[32mcell12.sc\u001b[39m:\u001b[32m5\u001b[39m)",
      "  ammonite.$sess.cell12$Helper.reverse(\u001b[32mcell12.sc\u001b[39m:\u001b[32m5\u001b[39m)",
      "  ammonite.$sess.cell12$Helper.reverse(\u001b[32mcell12.sc\u001b[39m:\u001b[32m5\u001b[39m)",
      "  ammonite.$sess.cell12$Helper.reverse(\u001b[32mcell12.sc\u001b[39m:\u001b[32m5\u001b[39m)",
      "  ammonite.$sess.cell12$Helper.reverse(\u001b[32mcell12.sc\u001b[39m:\u001b[32m5\u001b[39m)",
      "  ammonite.$sess.cell12$Helper.reverse(\u001b[32mcell12.sc\u001b[39m:\u001b[32m5\u001b[39m)",
      "  ammonite.$sess.cell12$Helper.reverse(\u001b[32mcell12.sc\u001b[39m:\u001b[32m5\u001b[39m)",
      "  ammonite.$sess.cell12$Helper.reverse(\u001b[32mcell12.sc\u001b[39m:\u001b[32m5\u001b[39m)",
      "  ammonite.$sess.cell12$Helper.reverse(\u001b[32mcell12.sc\u001b[39m:\u001b[32m5\u001b[39m)",
      "  ammonite.$sess.cell12$Helper.reverse(\u001b[32mcell12.sc\u001b[39m:\u001b[32m5\u001b[39m)",
      "  ammonite.$sess.cell12$Helper.reverse(\u001b[32mcell12.sc\u001b[39m:\u001b[32m5\u001b[39m)",
      "  ammonite.$sess.cell12$Helper.reverse(\u001b[32mcell12.sc\u001b[39m:\u001b[32m5\u001b[39m)",
      "  ammonite.$sess.cell12$Helper.reverse(\u001b[32mcell12.sc\u001b[39m:\u001b[32m5\u001b[39m)",
      "  ammonite.$sess.cell12$Helper.reverse(\u001b[32mcell12.sc\u001b[39m:\u001b[32m5\u001b[39m)",
      "  ammonite.$sess.cell12$Helper.reverse(\u001b[32mcell12.sc\u001b[39m:\u001b[32m5\u001b[39m)",
      "  ammonite.$sess.cell12$Helper.reverse(\u001b[32mcell12.sc\u001b[39m:\u001b[32m5\u001b[39m)",
      "  ammonite.$sess.cell12$Helper.reverse(\u001b[32mcell12.sc\u001b[39m:\u001b[32m5\u001b[39m)",
      "  ammonite.$sess.cell12$Helper.reverse(\u001b[32mcell12.sc\u001b[39m:\u001b[32m5\u001b[39m)",
      "  ammonite.$sess.cell12$Helper.reverse(\u001b[32mcell12.sc\u001b[39m:\u001b[32m5\u001b[39m)",
      "  ammonite.$sess.cell12$Helper.reverse(\u001b[32mcell12.sc\u001b[39m:\u001b[32m5\u001b[39m)",
      "  ammonite.$sess.cell12$Helper.reverse(\u001b[32mcell12.sc\u001b[39m:\u001b[32m5\u001b[39m)",
      "  ammonite.$sess.cell12$Helper.reverse(\u001b[32mcell12.sc\u001b[39m:\u001b[32m5\u001b[39m)",
      "  ammonite.$sess.cell12$Helper.reverse(\u001b[32mcell12.sc\u001b[39m:\u001b[32m5\u001b[39m)",
      "  ammonite.$sess.cell12$Helper.reverse(\u001b[32mcell12.sc\u001b[39m:\u001b[32m5\u001b[39m)",
      "  ammonite.$sess.cell12$Helper.reverse(\u001b[32mcell12.sc\u001b[39m:\u001b[32m5\u001b[39m)",
      "  ammonite.$sess.cell12$Helper.reverse(\u001b[32mcell12.sc\u001b[39m:\u001b[32m5\u001b[39m)",
      "  ammonite.$sess.cell12$Helper.reverse(\u001b[32mcell12.sc\u001b[39m:\u001b[32m5\u001b[39m)",
      "  ammonite.$sess.cell12$Helper.reverse(\u001b[32mcell12.sc\u001b[39m:\u001b[32m5\u001b[39m)",
      "  ammonite.$sess.cell12$Helper.reverse(\u001b[32mcell12.sc\u001b[39m:\u001b[32m5\u001b[39m)",
      "  ammonite.$sess.cell12$Helper.reverse(\u001b[32mcell12.sc\u001b[39m:\u001b[32m5\u001b[39m)",
      "  ammonite.$sess.cell12$Helper.reverse(\u001b[32mcell12.sc\u001b[39m:\u001b[32m5\u001b[39m)",
      "  ammonite.$sess.cell12$Helper.reverse(\u001b[32mcell12.sc\u001b[39m:\u001b[32m5\u001b[39m)",
      "  ammonite.$sess.cell12$Helper.reverse(\u001b[32mcell12.sc\u001b[39m:\u001b[32m5\u001b[39m)",
      "  ammonite.$sess.cell12$Helper.reverse(\u001b[32mcell12.sc\u001b[39m:\u001b[32m5\u001b[39m)",
      "  ammonite.$sess.cell12$Helper.reverse(\u001b[32mcell12.sc\u001b[39m:\u001b[32m5\u001b[39m)",
      "  ammonite.$sess.cell12$Helper.reverse(\u001b[32mcell12.sc\u001b[39m:\u001b[32m5\u001b[39m)",
      "  ammonite.$sess.cell12$Helper.reverse(\u001b[32mcell12.sc\u001b[39m:\u001b[32m5\u001b[39m)",
      "  ammonite.$sess.cell12$Helper.reverse(\u001b[32mcell12.sc\u001b[39m:\u001b[32m5\u001b[39m)",
      "  ammonite.$sess.cell12$Helper.reverse(\u001b[32mcell12.sc\u001b[39m:\u001b[32m5\u001b[39m)",
      "  ammonite.$sess.cell12$Helper.reverse(\u001b[32mcell12.sc\u001b[39m:\u001b[32m5\u001b[39m)",
      "  ammonite.$sess.cell12$Helper.reverse(\u001b[32mcell12.sc\u001b[39m:\u001b[32m5\u001b[39m)",
      "  ammonite.$sess.cell12$Helper.reverse(\u001b[32mcell12.sc\u001b[39m:\u001b[32m5\u001b[39m)",
      "  ammonite.$sess.cell12$Helper.reverse(\u001b[32mcell12.sc\u001b[39m:\u001b[32m5\u001b[39m)",
      "  ammonite.$sess.cell12$Helper.reverse(\u001b[32mcell12.sc\u001b[39m:\u001b[32m5\u001b[39m)",
      "  ammonite.$sess.cell12$Helper.reverse(\u001b[32mcell12.sc\u001b[39m:\u001b[32m5\u001b[39m)",
      "  ammonite.$sess.cell12$Helper.reverse(\u001b[32mcell12.sc\u001b[39m:\u001b[32m5\u001b[39m)",
      "  ammonite.$sess.cell12$Helper.reverse(\u001b[32mcell12.sc\u001b[39m:\u001b[32m5\u001b[39m)",
      "  ammonite.$sess.cell12$Helper.reverse(\u001b[32mcell12.sc\u001b[39m:\u001b[32m5\u001b[39m)",
      "  ammonite.$sess.cell12$Helper.reverse(\u001b[32mcell12.sc\u001b[39m:\u001b[32m5\u001b[39m)",
      "  ammonite.$sess.cell12$Helper.reverse(\u001b[32mcell12.sc\u001b[39m:\u001b[32m5\u001b[39m)",
      "  ammonite.$sess.cell12$Helper.reverse(\u001b[32mcell12.sc\u001b[39m:\u001b[32m5\u001b[39m)",
      "  ammonite.$sess.cell12$Helper.reverse(\u001b[32mcell12.sc\u001b[39m:\u001b[32m5\u001b[39m)",
      "  ammonite.$sess.cell12$Helper.reverse(\u001b[32mcell12.sc\u001b[39m:\u001b[32m5\u001b[39m)",
      "  ammonite.$sess.cell12$Helper.reverse(\u001b[32mcell12.sc\u001b[39m:\u001b[32m5\u001b[39m)",
      "  ammonite.$sess.cell12$Helper.reverse(\u001b[32mcell12.sc\u001b[39m:\u001b[32m5\u001b[39m)",
      "  ammonite.$sess.cell12$Helper.reverse(\u001b[32mcell12.sc\u001b[39m:\u001b[32m5\u001b[39m)",
      "  ammonite.$sess.cell12$Helper.reverse(\u001b[32mcell12.sc\u001b[39m:\u001b[32m5\u001b[39m)",
      "  ammonite.$sess.cell12$Helper.reverse(\u001b[32mcell12.sc\u001b[39m:\u001b[32m5\u001b[39m)",
      "  ammonite.$sess.cell12$Helper.reverse(\u001b[32mcell12.sc\u001b[39m:\u001b[32m5\u001b[39m)",
      "  ammonite.$sess.cell12$Helper.reverse(\u001b[32mcell12.sc\u001b[39m:\u001b[32m5\u001b[39m)",
      "  ammonite.$sess.cell12$Helper.reverse(\u001b[32mcell12.sc\u001b[39m:\u001b[32m5\u001b[39m)",
      "  ammonite.$sess.cell12$Helper.reverse(\u001b[32mcell12.sc\u001b[39m:\u001b[32m5\u001b[39m)",
      "  ammonite.$sess.cell12$Helper.reverse(\u001b[32mcell12.sc\u001b[39m:\u001b[32m5\u001b[39m)",
      "  ammonite.$sess.cell12$Helper.reverse(\u001b[32mcell12.sc\u001b[39m:\u001b[32m5\u001b[39m)",
      "  ammonite.$sess.cell12$Helper.reverse(\u001b[32mcell12.sc\u001b[39m:\u001b[32m5\u001b[39m)",
      "  ammonite.$sess.cell12$Helper.reverse(\u001b[32mcell12.sc\u001b[39m:\u001b[32m5\u001b[39m)",
      "  ammonite.$sess.cell12$Helper.reverse(\u001b[32mcell12.sc\u001b[39m:\u001b[32m5\u001b[39m)",
      "  ammonite.$sess.cell12$Helper.reverse(\u001b[32mcell12.sc\u001b[39m:\u001b[32m5\u001b[39m)",
      "  ammonite.$sess.cell12$Helper.reverse(\u001b[32mcell12.sc\u001b[39m:\u001b[32m5\u001b[39m)",
      "  ammonite.$sess.cell12$Helper.reverse(\u001b[32mcell12.sc\u001b[39m:\u001b[32m5\u001b[39m)",
      "  ammonite.$sess.cell12$Helper.reverse(\u001b[32mcell12.sc\u001b[39m:\u001b[32m5\u001b[39m)",
      "  ammonite.$sess.cell12$Helper.reverse(\u001b[32mcell12.sc\u001b[39m:\u001b[32m5\u001b[39m)",
      "  ammonite.$sess.cell12$Helper.reverse(\u001b[32mcell12.sc\u001b[39m:\u001b[32m5\u001b[39m)",
      "  ammonite.$sess.cell12$Helper.reverse(\u001b[32mcell12.sc\u001b[39m:\u001b[32m5\u001b[39m)",
      "  ammonite.$sess.cell12$Helper.reverse(\u001b[32mcell12.sc\u001b[39m:\u001b[32m5\u001b[39m)",
      "  ammonite.$sess.cell12$Helper.reverse(\u001b[32mcell12.sc\u001b[39m:\u001b[32m5\u001b[39m)",
      "  ammonite.$sess.cell12$Helper.reverse(\u001b[32mcell12.sc\u001b[39m:\u001b[32m5\u001b[39m)",
      "  ammonite.$sess.cell12$Helper.reverse(\u001b[32mcell12.sc\u001b[39m:\u001b[32m5\u001b[39m)",
      "  ammonite.$sess.cell12$Helper.reverse(\u001b[32mcell12.sc\u001b[39m:\u001b[32m5\u001b[39m)",
      "  ammonite.$sess.cell12$Helper.reverse(\u001b[32mcell12.sc\u001b[39m:\u001b[32m5\u001b[39m)",
      "  ammonite.$sess.cell12$Helper.reverse(\u001b[32mcell12.sc\u001b[39m:\u001b[32m5\u001b[39m)",
      "  ammonite.$sess.cell12$Helper.reverse(\u001b[32mcell12.sc\u001b[39m:\u001b[32m5\u001b[39m)",
      "  ammonite.$sess.cell12$Helper.reverse(\u001b[32mcell12.sc\u001b[39m:\u001b[32m5\u001b[39m)",
      "  ammonite.$sess.cell12$Helper.reverse(\u001b[32mcell12.sc\u001b[39m:\u001b[32m5\u001b[39m)",
      "  ammonite.$sess.cell12$Helper.reverse(\u001b[32mcell12.sc\u001b[39m:\u001b[32m5\u001b[39m)",
      "  ammonite.$sess.cell12$Helper.reverse(\u001b[32mcell12.sc\u001b[39m:\u001b[32m5\u001b[39m)",
      "  ammonite.$sess.cell12$Helper.reverse(\u001b[32mcell12.sc\u001b[39m:\u001b[32m5\u001b[39m)",
      "  ammonite.$sess.cell12$Helper.reverse(\u001b[32mcell12.sc\u001b[39m:\u001b[32m5\u001b[39m)",
      "  ammonite.$sess.cell12$Helper.reverse(\u001b[32mcell12.sc\u001b[39m:\u001b[32m5\u001b[39m)",
      "  ammonite.$sess.cell12$Helper.reverse(\u001b[32mcell12.sc\u001b[39m:\u001b[32m5\u001b[39m)",
      "  ammonite.$sess.cell12$Helper.reverse(\u001b[32mcell12.sc\u001b[39m:\u001b[32m5\u001b[39m)",
      "  ammonite.$sess.cell12$Helper.reverse(\u001b[32mcell12.sc\u001b[39m:\u001b[32m5\u001b[39m)",
      "  ammonite.$sess.cell12$Helper.reverse(\u001b[32mcell12.sc\u001b[39m:\u001b[32m5\u001b[39m)",
      "  ammonite.$sess.cell12$Helper.reverse(\u001b[32mcell12.sc\u001b[39m:\u001b[32m5\u001b[39m)",
      "  ammonite.$sess.cell12$Helper.reverse(\u001b[32mcell12.sc\u001b[39m:\u001b[32m5\u001b[39m)",
      "  ammonite.$sess.cell12$Helper.reverse(\u001b[32mcell12.sc\u001b[39m:\u001b[32m5\u001b[39m)",
      "  ammonite.$sess.cell12$Helper.reverse(\u001b[32mcell12.sc\u001b[39m:\u001b[32m5\u001b[39m)",
      "  ammonite.$sess.cell12$Helper.reverse(\u001b[32mcell12.sc\u001b[39m:\u001b[32m5\u001b[39m)",
      "  ammonite.$sess.cell12$Helper.reverse(\u001b[32mcell12.sc\u001b[39m:\u001b[32m5\u001b[39m)",
      "  ammonite.$sess.cell12$Helper.reverse(\u001b[32mcell12.sc\u001b[39m:\u001b[32m5\u001b[39m)",
      "  ammonite.$sess.cell12$Helper.reverse(\u001b[32mcell12.sc\u001b[39m:\u001b[32m5\u001b[39m)",
      "  ammonite.$sess.cell12$Helper.reverse(\u001b[32mcell12.sc\u001b[39m:\u001b[32m5\u001b[39m)",
      "  ammonite.$sess.cell12$Helper.reverse(\u001b[32mcell12.sc\u001b[39m:\u001b[32m5\u001b[39m)",
      "  ammonite.$sess.cell12$Helper.reverse(\u001b[32mcell12.sc\u001b[39m:\u001b[32m5\u001b[39m)",
      "  ammonite.$sess.cell12$Helper.reverse(\u001b[32mcell12.sc\u001b[39m:\u001b[32m5\u001b[39m)",
      "  ammonite.$sess.cell12$Helper.reverse(\u001b[32mcell12.sc\u001b[39m:\u001b[32m5\u001b[39m)",
      "  ammonite.$sess.cell12$Helper.reverse(\u001b[32mcell12.sc\u001b[39m:\u001b[32m5\u001b[39m)",
      "  ammonite.$sess.cell12$Helper.reverse(\u001b[32mcell12.sc\u001b[39m:\u001b[32m5\u001b[39m)",
      "  ammonite.$sess.cell12$Helper.reverse(\u001b[32mcell12.sc\u001b[39m:\u001b[32m5\u001b[39m)",
      "  ammonite.$sess.cell12$Helper.reverse(\u001b[32mcell12.sc\u001b[39m:\u001b[32m5\u001b[39m)",
      "  ammonite.$sess.cell12$Helper.reverse(\u001b[32mcell12.sc\u001b[39m:\u001b[32m5\u001b[39m)",
      "  ammonite.$sess.cell12$Helper.reverse(\u001b[32mcell12.sc\u001b[39m:\u001b[32m5\u001b[39m)",
      "  ammonite.$sess.cell12$Helper.reverse(\u001b[32mcell12.sc\u001b[39m:\u001b[32m5\u001b[39m)",
      "  ammonite.$sess.cell12$Helper.reverse(\u001b[32mcell12.sc\u001b[39m:\u001b[32m5\u001b[39m)",
      "  ammonite.$sess.cell12$Helper.reverse(\u001b[32mcell12.sc\u001b[39m:\u001b[32m5\u001b[39m)",
      "  ammonite.$sess.cell12$Helper.reverse(\u001b[32mcell12.sc\u001b[39m:\u001b[32m5\u001b[39m)",
      "  ammonite.$sess.cell12$Helper.reverse(\u001b[32mcell12.sc\u001b[39m:\u001b[32m5\u001b[39m)",
      "  ammonite.$sess.cell12$Helper.reverse(\u001b[32mcell12.sc\u001b[39m:\u001b[32m5\u001b[39m)",
      "  ammonite.$sess.cell12$Helper.reverse(\u001b[32mcell12.sc\u001b[39m:\u001b[32m5\u001b[39m)",
      "  ammonite.$sess.cell12$Helper.reverse(\u001b[32mcell12.sc\u001b[39m:\u001b[32m5\u001b[39m)",
      "  ammonite.$sess.cell12$Helper.reverse(\u001b[32mcell12.sc\u001b[39m:\u001b[32m5\u001b[39m)",
      "  ammonite.$sess.cell12$Helper.reverse(\u001b[32mcell12.sc\u001b[39m:\u001b[32m5\u001b[39m)",
      "  ammonite.$sess.cell12$Helper.reverse(\u001b[32mcell12.sc\u001b[39m:\u001b[32m5\u001b[39m)",
      "  ammonite.$sess.cell12$Helper.reverse(\u001b[32mcell12.sc\u001b[39m:\u001b[32m5\u001b[39m)",
      "  ammonite.$sess.cell12$Helper.reverse(\u001b[32mcell12.sc\u001b[39m:\u001b[32m5\u001b[39m)",
      "  ammonite.$sess.cell12$Helper.reverse(\u001b[32mcell12.sc\u001b[39m:\u001b[32m5\u001b[39m)",
      "  ammonite.$sess.cell12$Helper.reverse(\u001b[32mcell12.sc\u001b[39m:\u001b[32m5\u001b[39m)",
      "  ammonite.$sess.cell12$Helper.reverse(\u001b[32mcell12.sc\u001b[39m:\u001b[32m5\u001b[39m)",
      "  ammonite.$sess.cell12$Helper.reverse(\u001b[32mcell12.sc\u001b[39m:\u001b[32m5\u001b[39m)",
      "  ammonite.$sess.cell12$Helper.reverse(\u001b[32mcell12.sc\u001b[39m:\u001b[32m5\u001b[39m)",
      "  ammonite.$sess.cell12$Helper.reverse(\u001b[32mcell12.sc\u001b[39m:\u001b[32m5\u001b[39m)",
      "  ammonite.$sess.cell12$Helper.reverse(\u001b[32mcell12.sc\u001b[39m:\u001b[32m5\u001b[39m)",
      "  ammonite.$sess.cell12$Helper.reverse(\u001b[32mcell12.sc\u001b[39m:\u001b[32m5\u001b[39m)",
      "  ammonite.$sess.cell12$Helper.reverse(\u001b[32mcell12.sc\u001b[39m:\u001b[32m5\u001b[39m)",
      "  ammonite.$sess.cell12$Helper.reverse(\u001b[32mcell12.sc\u001b[39m:\u001b[32m5\u001b[39m)",
      "  ammonite.$sess.cell12$Helper.reverse(\u001b[32mcell12.sc\u001b[39m:\u001b[32m5\u001b[39m)",
      "  ammonite.$sess.cell12$Helper.reverse(\u001b[32mcell12.sc\u001b[39m:\u001b[32m5\u001b[39m)",
      "  ammonite.$sess.cell12$Helper.reverse(\u001b[32mcell12.sc\u001b[39m:\u001b[32m5\u001b[39m)",
      "  ammonite.$sess.cell12$Helper.reverse(\u001b[32mcell12.sc\u001b[39m:\u001b[32m5\u001b[39m)",
      "  ammonite.$sess.cell12$Helper.reverse(\u001b[32mcell12.sc\u001b[39m:\u001b[32m5\u001b[39m)",
      "  ammonite.$sess.cell12$Helper.reverse(\u001b[32mcell12.sc\u001b[39m:\u001b[32m5\u001b[39m)",
      "  ammonite.$sess.cell12$Helper.reverse(\u001b[32mcell12.sc\u001b[39m:\u001b[32m5\u001b[39m)",
      "  ammonite.$sess.cell12$Helper.reverse(\u001b[32mcell12.sc\u001b[39m:\u001b[32m5\u001b[39m)",
      "  ammonite.$sess.cell12$Helper.reverse(\u001b[32mcell12.sc\u001b[39m:\u001b[32m5\u001b[39m)",
      "  ammonite.$sess.cell12$Helper.reverse(\u001b[32mcell12.sc\u001b[39m:\u001b[32m5\u001b[39m)",
      "  ammonite.$sess.cell12$Helper.reverse(\u001b[32mcell12.sc\u001b[39m:\u001b[32m5\u001b[39m)",
      "  ammonite.$sess.cell12$Helper.reverse(\u001b[32mcell12.sc\u001b[39m:\u001b[32m5\u001b[39m)",
      "  ammonite.$sess.cell12$Helper.reverse(\u001b[32mcell12.sc\u001b[39m:\u001b[32m5\u001b[39m)",
      "  ammonite.$sess.cell12$Helper.reverse(\u001b[32mcell12.sc\u001b[39m:\u001b[32m5\u001b[39m)",
      "  ammonite.$sess.cell12$Helper.reverse(\u001b[32mcell12.sc\u001b[39m:\u001b[32m5\u001b[39m)",
      "  ammonite.$sess.cell12$Helper.reverse(\u001b[32mcell12.sc\u001b[39m:\u001b[32m5\u001b[39m)",
      "  ammonite.$sess.cell12$Helper.reverse(\u001b[32mcell12.sc\u001b[39m:\u001b[32m5\u001b[39m)",
      "  ammonite.$sess.cell12$Helper.reverse(\u001b[32mcell12.sc\u001b[39m:\u001b[32m5\u001b[39m)",
      "  ammonite.$sess.cell12$Helper.reverse(\u001b[32mcell12.sc\u001b[39m:\u001b[32m5\u001b[39m)",
      "  ammonite.$sess.cell12$Helper.reverse(\u001b[32mcell12.sc\u001b[39m:\u001b[32m5\u001b[39m)",
      "  ammonite.$sess.cell12$Helper.reverse(\u001b[32mcell12.sc\u001b[39m:\u001b[32m5\u001b[39m)",
      "  ammonite.$sess.cell12$Helper.reverse(\u001b[32mcell12.sc\u001b[39m:\u001b[32m5\u001b[39m)",
      "  ammonite.$sess.cell12$Helper.reverse(\u001b[32mcell12.sc\u001b[39m:\u001b[32m5\u001b[39m)",
      "  ammonite.$sess.cell12$Helper.reverse(\u001b[32mcell12.sc\u001b[39m:\u001b[32m5\u001b[39m)",
      "  ammonite.$sess.cell12$Helper.reverse(\u001b[32mcell12.sc\u001b[39m:\u001b[32m5\u001b[39m)",
      "  ammonite.$sess.cell12$Helper.reverse(\u001b[32mcell12.sc\u001b[39m:\u001b[32m5\u001b[39m)",
      "  ammonite.$sess.cell12$Helper.reverse(\u001b[32mcell12.sc\u001b[39m:\u001b[32m5\u001b[39m)",
      "  ammonite.$sess.cell12$Helper.reverse(\u001b[32mcell12.sc\u001b[39m:\u001b[32m5\u001b[39m)",
      "  ammonite.$sess.cell12$Helper.reverse(\u001b[32mcell12.sc\u001b[39m:\u001b[32m5\u001b[39m)",
      "  ammonite.$sess.cell12$Helper.reverse(\u001b[32mcell12.sc\u001b[39m:\u001b[32m5\u001b[39m)",
      "  ammonite.$sess.cell12$Helper.reverse(\u001b[32mcell12.sc\u001b[39m:\u001b[32m5\u001b[39m)",
      "  ammonite.$sess.cell12$Helper.reverse(\u001b[32mcell12.sc\u001b[39m:\u001b[32m5\u001b[39m)",
      "  ammonite.$sess.cell12$Helper.reverse(\u001b[32mcell12.sc\u001b[39m:\u001b[32m5\u001b[39m)",
      "  ammonite.$sess.cell12$Helper.reverse(\u001b[32mcell12.sc\u001b[39m:\u001b[32m5\u001b[39m)",
      "  ammonite.$sess.cell12$Helper.reverse(\u001b[32mcell12.sc\u001b[39m:\u001b[32m5\u001b[39m)",
      "  ammonite.$sess.cell12$Helper.reverse(\u001b[32mcell12.sc\u001b[39m:\u001b[32m5\u001b[39m)",
      "  ammonite.$sess.cell12$Helper.reverse(\u001b[32mcell12.sc\u001b[39m:\u001b[32m5\u001b[39m)",
      "  ammonite.$sess.cell12$Helper.reverse(\u001b[32mcell12.sc\u001b[39m:\u001b[32m5\u001b[39m)",
      "  ammonite.$sess.cell12$Helper.reverse(\u001b[32mcell12.sc\u001b[39m:\u001b[32m5\u001b[39m)",
      "  ammonite.$sess.cell12$Helper.reverse(\u001b[32mcell12.sc\u001b[39m:\u001b[32m5\u001b[39m)",
      "  ammonite.$sess.cell12$Helper.reverse(\u001b[32mcell12.sc\u001b[39m:\u001b[32m5\u001b[39m)",
      "  ammonite.$sess.cell12$Helper.reverse(\u001b[32mcell12.sc\u001b[39m:\u001b[32m5\u001b[39m)",
      "  ammonite.$sess.cell12$Helper.reverse(\u001b[32mcell12.sc\u001b[39m:\u001b[32m5\u001b[39m)",
      "  ammonite.$sess.cell12$Helper.reverse(\u001b[32mcell12.sc\u001b[39m:\u001b[32m5\u001b[39m)",
      "  ammonite.$sess.cell12$Helper.reverse(\u001b[32mcell12.sc\u001b[39m:\u001b[32m5\u001b[39m)",
      "  ammonite.$sess.cell12$Helper.reverse(\u001b[32mcell12.sc\u001b[39m:\u001b[32m5\u001b[39m)",
      "  ammonite.$sess.cell12$Helper.reverse(\u001b[32mcell12.sc\u001b[39m:\u001b[32m5\u001b[39m)",
      "  ammonite.$sess.cell12$Helper.reverse(\u001b[32mcell12.sc\u001b[39m:\u001b[32m5\u001b[39m)",
      "  ammonite.$sess.cell12$Helper.reverse(\u001b[32mcell12.sc\u001b[39m:\u001b[32m5\u001b[39m)",
      "  ammonite.$sess.cell12$Helper.reverse(\u001b[32mcell12.sc\u001b[39m:\u001b[32m5\u001b[39m)",
      "  ammonite.$sess.cell12$Helper.reverse(\u001b[32mcell12.sc\u001b[39m:\u001b[32m5\u001b[39m)",
      "  ammonite.$sess.cell12$Helper.reverse(\u001b[32mcell12.sc\u001b[39m:\u001b[32m5\u001b[39m)",
      "  ammonite.$sess.cell12$Helper.reverse(\u001b[32mcell12.sc\u001b[39m:\u001b[32m5\u001b[39m)",
      "  ammonite.$sess.cell12$Helper.reverse(\u001b[32mcell12.sc\u001b[39m:\u001b[32m5\u001b[39m)",
      "  ammonite.$sess.cell12$Helper.reverse(\u001b[32mcell12.sc\u001b[39m:\u001b[32m5\u001b[39m)",
      "  ammonite.$sess.cell12$Helper.reverse(\u001b[32mcell12.sc\u001b[39m:\u001b[32m5\u001b[39m)",
      "  ammonite.$sess.cell12$Helper.reverse(\u001b[32mcell12.sc\u001b[39m:\u001b[32m5\u001b[39m)",
      "  ammonite.$sess.cell12$Helper.reverse(\u001b[32mcell12.sc\u001b[39m:\u001b[32m5\u001b[39m)",
      "  ammonite.$sess.cell12$Helper.reverse(\u001b[32mcell12.sc\u001b[39m:\u001b[32m5\u001b[39m)",
      "  ammonite.$sess.cell12$Helper.reverse(\u001b[32mcell12.sc\u001b[39m:\u001b[32m5\u001b[39m)",
      "  ammonite.$sess.cell12$Helper.reverse(\u001b[32mcell12.sc\u001b[39m:\u001b[32m5\u001b[39m)",
      "  ammonite.$sess.cell12$Helper.reverse(\u001b[32mcell12.sc\u001b[39m:\u001b[32m5\u001b[39m)",
      "  ammonite.$sess.cell12$Helper.reverse(\u001b[32mcell12.sc\u001b[39m:\u001b[32m5\u001b[39m)",
      "  ammonite.$sess.cell12$Helper.reverse(\u001b[32mcell12.sc\u001b[39m:\u001b[32m5\u001b[39m)",
      "  ammonite.$sess.cell12$Helper.reverse(\u001b[32mcell12.sc\u001b[39m:\u001b[32m5\u001b[39m)",
      "  ammonite.$sess.cell12$Helper.reverse(\u001b[32mcell12.sc\u001b[39m:\u001b[32m5\u001b[39m)",
      "  ammonite.$sess.cell12$Helper.reverse(\u001b[32mcell12.sc\u001b[39m:\u001b[32m5\u001b[39m)",
      "  ammonite.$sess.cell12$Helper.reverse(\u001b[32mcell12.sc\u001b[39m:\u001b[32m5\u001b[39m)",
      "  ammonite.$sess.cell12$Helper.reverse(\u001b[32mcell12.sc\u001b[39m:\u001b[32m5\u001b[39m)",
      "  ammonite.$sess.cell12$Helper.reverse(\u001b[32mcell12.sc\u001b[39m:\u001b[32m5\u001b[39m)",
      "  ammonite.$sess.cell12$Helper.reverse(\u001b[32mcell12.sc\u001b[39m:\u001b[32m5\u001b[39m)",
      "  ammonite.$sess.cell12$Helper.reverse(\u001b[32mcell12.sc\u001b[39m:\u001b[32m5\u001b[39m)",
      "  ammonite.$sess.cell12$Helper.reverse(\u001b[32mcell12.sc\u001b[39m:\u001b[32m5\u001b[39m)",
      "  ammonite.$sess.cell12$Helper.reverse(\u001b[32mcell12.sc\u001b[39m:\u001b[32m5\u001b[39m)",
      "  ammonite.$sess.cell12$Helper.reverse(\u001b[32mcell12.sc\u001b[39m:\u001b[32m5\u001b[39m)",
      "  ammonite.$sess.cell12$Helper.reverse(\u001b[32mcell12.sc\u001b[39m:\u001b[32m5\u001b[39m)",
      "  ammonite.$sess.cell12$Helper.reverse(\u001b[32mcell12.sc\u001b[39m:\u001b[32m5\u001b[39m)",
      "  ammonite.$sess.cell12$Helper.reverse(\u001b[32mcell12.sc\u001b[39m:\u001b[32m5\u001b[39m)",
      "  ammonite.$sess.cell12$Helper.reverse(\u001b[32mcell12.sc\u001b[39m:\u001b[32m5\u001b[39m)",
      "  ammonite.$sess.cell12$Helper.reverse(\u001b[32mcell12.sc\u001b[39m:\u001b[32m5\u001b[39m)",
      "  ammonite.$sess.cell12$Helper.reverse(\u001b[32mcell12.sc\u001b[39m:\u001b[32m5\u001b[39m)",
      "  ammonite.$sess.cell12$Helper.reverse(\u001b[32mcell12.sc\u001b[39m:\u001b[32m5\u001b[39m)",
      "  ammonite.$sess.cell12$Helper.reverse(\u001b[32mcell12.sc\u001b[39m:\u001b[32m5\u001b[39m)",
      "  ammonite.$sess.cell12$Helper.reverse(\u001b[32mcell12.sc\u001b[39m:\u001b[32m5\u001b[39m)",
      "  ammonite.$sess.cell12$Helper.reverse(\u001b[32mcell12.sc\u001b[39m:\u001b[32m5\u001b[39m)",
      "  ammonite.$sess.cell12$Helper.reverse(\u001b[32mcell12.sc\u001b[39m:\u001b[32m5\u001b[39m)",
      "  ammonite.$sess.cell12$Helper.reverse(\u001b[32mcell12.sc\u001b[39m:\u001b[32m5\u001b[39m)",
      "  ammonite.$sess.cell12$Helper.reverse(\u001b[32mcell12.sc\u001b[39m:\u001b[32m5\u001b[39m)",
      "  ammonite.$sess.cell12$Helper.reverse(\u001b[32mcell12.sc\u001b[39m:\u001b[32m5\u001b[39m)",
      "  ammonite.$sess.cell12$Helper.reverse(\u001b[32mcell12.sc\u001b[39m:\u001b[32m5\u001b[39m)",
      "  ammonite.$sess.cell12$Helper.reverse(\u001b[32mcell12.sc\u001b[39m:\u001b[32m5\u001b[39m)",
      "  ammonite.$sess.cell12$Helper.reverse(\u001b[32mcell12.sc\u001b[39m:\u001b[32m5\u001b[39m)",
      "  ammonite.$sess.cell12$Helper.reverse(\u001b[32mcell12.sc\u001b[39m:\u001b[32m5\u001b[39m)",
      "  ammonite.$sess.cell12$Helper.reverse(\u001b[32mcell12.sc\u001b[39m:\u001b[32m5\u001b[39m)",
      "  ammonite.$sess.cell12$Helper.reverse(\u001b[32mcell12.sc\u001b[39m:\u001b[32m5\u001b[39m)",
      "  ammonite.$sess.cell12$Helper.reverse(\u001b[32mcell12.sc\u001b[39m:\u001b[32m5\u001b[39m)",
      "  ammonite.$sess.cell12$Helper.reverse(\u001b[32mcell12.sc\u001b[39m:\u001b[32m5\u001b[39m)",
      "  ammonite.$sess.cell12$Helper.reverse(\u001b[32mcell12.sc\u001b[39m:\u001b[32m5\u001b[39m)",
      "  ammonite.$sess.cell12$Helper.reverse(\u001b[32mcell12.sc\u001b[39m:\u001b[32m5\u001b[39m)",
      "  ammonite.$sess.cell12$Helper.reverse(\u001b[32mcell12.sc\u001b[39m:\u001b[32m5\u001b[39m)",
      "  ammonite.$sess.cell12$Helper.reverse(\u001b[32mcell12.sc\u001b[39m:\u001b[32m5\u001b[39m)",
      "  ammonite.$sess.cell12$Helper.reverse(\u001b[32mcell12.sc\u001b[39m:\u001b[32m5\u001b[39m)",
      "  ammonite.$sess.cell12$Helper.reverse(\u001b[32mcell12.sc\u001b[39m:\u001b[32m5\u001b[39m)",
      "  ammonite.$sess.cell12$Helper.reverse(\u001b[32mcell12.sc\u001b[39m:\u001b[32m5\u001b[39m)",
      "  ammonite.$sess.cell12$Helper.reverse(\u001b[32mcell12.sc\u001b[39m:\u001b[32m5\u001b[39m)",
      "  ammonite.$sess.cell12$Helper.reverse(\u001b[32mcell12.sc\u001b[39m:\u001b[32m5\u001b[39m)",
      "  ammonite.$sess.cell12$Helper.reverse(\u001b[32mcell12.sc\u001b[39m:\u001b[32m5\u001b[39m)",
      "  ammonite.$sess.cell12$Helper.reverse(\u001b[32mcell12.sc\u001b[39m:\u001b[32m5\u001b[39m)",
      "  ammonite.$sess.cell12$Helper.reverse(\u001b[32mcell12.sc\u001b[39m:\u001b[32m5\u001b[39m)",
      "  ammonite.$sess.cell12$Helper.reverse(\u001b[32mcell12.sc\u001b[39m:\u001b[32m5\u001b[39m)",
      "  ammonite.$sess.cell12$Helper.reverse(\u001b[32mcell12.sc\u001b[39m:\u001b[32m5\u001b[39m)",
      "  ammonite.$sess.cell12$Helper.reverse(\u001b[32mcell12.sc\u001b[39m:\u001b[32m5\u001b[39m)",
      "  ammonite.$sess.cell12$Helper.reverse(\u001b[32mcell12.sc\u001b[39m:\u001b[32m5\u001b[39m)",
      "  ammonite.$sess.cell12$Helper.reverse(\u001b[32mcell12.sc\u001b[39m:\u001b[32m5\u001b[39m)",
      "  ammonite.$sess.cell12$Helper.reverse(\u001b[32mcell12.sc\u001b[39m:\u001b[32m5\u001b[39m)",
      "  ammonite.$sess.cell12$Helper.reverse(\u001b[32mcell12.sc\u001b[39m:\u001b[32m5\u001b[39m)",
      "  ammonite.$sess.cell12$Helper.reverse(\u001b[32mcell12.sc\u001b[39m:\u001b[32m5\u001b[39m)",
      "  ammonite.$sess.cell12$Helper.reverse(\u001b[32mcell12.sc\u001b[39m:\u001b[32m5\u001b[39m)",
      "  ammonite.$sess.cell12$Helper.reverse(\u001b[32mcell12.sc\u001b[39m:\u001b[32m5\u001b[39m)",
      "  ammonite.$sess.cell12$Helper.reverse(\u001b[32mcell12.sc\u001b[39m:\u001b[32m5\u001b[39m)",
      "  ammonite.$sess.cell12$Helper.reverse(\u001b[32mcell12.sc\u001b[39m:\u001b[32m5\u001b[39m)",
      "  ammonite.$sess.cell12$Helper.reverse(\u001b[32mcell12.sc\u001b[39m:\u001b[32m5\u001b[39m)",
      "  ammonite.$sess.cell12$Helper.reverse(\u001b[32mcell12.sc\u001b[39m:\u001b[32m5\u001b[39m)",
      "  ammonite.$sess.cell12$Helper.reverse(\u001b[32mcell12.sc\u001b[39m:\u001b[32m5\u001b[39m)",
      "  ammonite.$sess.cell12$Helper.reverse(\u001b[32mcell12.sc\u001b[39m:\u001b[32m5\u001b[39m)",
      "  ammonite.$sess.cell12$Helper.reverse(\u001b[32mcell12.sc\u001b[39m:\u001b[32m5\u001b[39m)",
      "  ammonite.$sess.cell12$Helper.reverse(\u001b[32mcell12.sc\u001b[39m:\u001b[32m5\u001b[39m)",
      "  ammonite.$sess.cell12$Helper.reverse(\u001b[32mcell12.sc\u001b[39m:\u001b[32m5\u001b[39m)",
      "  ammonite.$sess.cell12$Helper.reverse(\u001b[32mcell12.sc\u001b[39m:\u001b[32m5\u001b[39m)",
      "  ammonite.$sess.cell12$Helper.reverse(\u001b[32mcell12.sc\u001b[39m:\u001b[32m5\u001b[39m)",
      "  ammonite.$sess.cell12$Helper.reverse(\u001b[32mcell12.sc\u001b[39m:\u001b[32m5\u001b[39m)",
      "  ammonite.$sess.cell12$Helper.reverse(\u001b[32mcell12.sc\u001b[39m:\u001b[32m5\u001b[39m)",
      "  ammonite.$sess.cell12$Helper.reverse(\u001b[32mcell12.sc\u001b[39m:\u001b[32m5\u001b[39m)",
      "  ammonite.$sess.cell12$Helper.reverse(\u001b[32mcell12.sc\u001b[39m:\u001b[32m5\u001b[39m)",
      "  ammonite.$sess.cell12$Helper.reverse(\u001b[32mcell12.sc\u001b[39m:\u001b[32m5\u001b[39m)",
      "  ammonite.$sess.cell12$Helper.reverse(\u001b[32mcell12.sc\u001b[39m:\u001b[32m5\u001b[39m)",
      "  ammonite.$sess.cell12$Helper.reverse(\u001b[32mcell12.sc\u001b[39m:\u001b[32m5\u001b[39m)",
      "  ammonite.$sess.cell12$Helper.reverse(\u001b[32mcell12.sc\u001b[39m:\u001b[32m5\u001b[39m)",
      "  ammonite.$sess.cell12$Helper.reverse(\u001b[32mcell12.sc\u001b[39m:\u001b[32m5\u001b[39m)",
      "  ammonite.$sess.cell12$Helper.reverse(\u001b[32mcell12.sc\u001b[39m:\u001b[32m5\u001b[39m)",
      "  ammonite.$sess.cell12$Helper.reverse(\u001b[32mcell12.sc\u001b[39m:\u001b[32m5\u001b[39m)",
      "  ammonite.$sess.cell12$Helper.reverse(\u001b[32mcell12.sc\u001b[39m:\u001b[32m5\u001b[39m)",
      "  ammonite.$sess.cell12$Helper.reverse(\u001b[32mcell12.sc\u001b[39m:\u001b[32m5\u001b[39m)",
      "  ammonite.$sess.cell12$Helper.reverse(\u001b[32mcell12.sc\u001b[39m:\u001b[32m5\u001b[39m)",
      "  ammonite.$sess.cell12$Helper.reverse(\u001b[32mcell12.sc\u001b[39m:\u001b[32m5\u001b[39m)",
      "  ammonite.$sess.cell12$Helper.reverse(\u001b[32mcell12.sc\u001b[39m:\u001b[32m5\u001b[39m)",
      "  ammonite.$sess.cell12$Helper.reverse(\u001b[32mcell12.sc\u001b[39m:\u001b[32m5\u001b[39m)",
      "  ammonite.$sess.cell12$Helper.reverse(\u001b[32mcell12.sc\u001b[39m:\u001b[32m5\u001b[39m)",
      "  ammonite.$sess.cell12$Helper.reverse(\u001b[32mcell12.sc\u001b[39m:\u001b[32m5\u001b[39m)",
      "  ammonite.$sess.cell12$Helper.reverse(\u001b[32mcell12.sc\u001b[39m:\u001b[32m5\u001b[39m)",
      "  ammonite.$sess.cell12$Helper.reverse(\u001b[32mcell12.sc\u001b[39m:\u001b[32m5\u001b[39m)",
      "  ammonite.$sess.cell12$Helper.reverse(\u001b[32mcell12.sc\u001b[39m:\u001b[32m5\u001b[39m)",
      "  ammonite.$sess.cell12$Helper.reverse(\u001b[32mcell12.sc\u001b[39m:\u001b[32m5\u001b[39m)",
      "  ammonite.$sess.cell12$Helper.reverse(\u001b[32mcell12.sc\u001b[39m:\u001b[32m5\u001b[39m)",
      "  ammonite.$sess.cell12$Helper.reverse(\u001b[32mcell12.sc\u001b[39m:\u001b[32m5\u001b[39m)",
      "  ammonite.$sess.cell12$Helper.reverse(\u001b[32mcell12.sc\u001b[39m:\u001b[32m5\u001b[39m)",
      "  ammonite.$sess.cell12$Helper.reverse(\u001b[32mcell12.sc\u001b[39m:\u001b[32m5\u001b[39m)",
      "  ammonite.$sess.cell12$Helper.reverse(\u001b[32mcell12.sc\u001b[39m:\u001b[32m5\u001b[39m)",
      "  ammonite.$sess.cell12$Helper.reverse(\u001b[32mcell12.sc\u001b[39m:\u001b[32m5\u001b[39m)",
      "  ammonite.$sess.cell12$Helper.reverse(\u001b[32mcell12.sc\u001b[39m:\u001b[32m5\u001b[39m)",
      "  ammonite.$sess.cell12$Helper.reverse(\u001b[32mcell12.sc\u001b[39m:\u001b[32m5\u001b[39m)",
      "  ammonite.$sess.cell12$Helper.reverse(\u001b[32mcell12.sc\u001b[39m:\u001b[32m5\u001b[39m)",
      "  ammonite.$sess.cell12$Helper.reverse(\u001b[32mcell12.sc\u001b[39m:\u001b[32m5\u001b[39m)",
      "  ammonite.$sess.cell12$Helper.reverse(\u001b[32mcell12.sc\u001b[39m:\u001b[32m5\u001b[39m)",
      "  ammonite.$sess.cell12$Helper.reverse(\u001b[32mcell12.sc\u001b[39m:\u001b[32m5\u001b[39m)",
      "  ammonite.$sess.cell12$Helper.reverse(\u001b[32mcell12.sc\u001b[39m:\u001b[32m5\u001b[39m)",
      "  ammonite.$sess.cell12$Helper.reverse(\u001b[32mcell12.sc\u001b[39m:\u001b[32m5\u001b[39m)",
      "  ammonite.$sess.cell12$Helper.reverse(\u001b[32mcell12.sc\u001b[39m:\u001b[32m5\u001b[39m)",
      "  ammonite.$sess.cell12$Helper.reverse(\u001b[32mcell12.sc\u001b[39m:\u001b[32m5\u001b[39m)",
      "  ammonite.$sess.cell12$Helper.reverse(\u001b[32mcell12.sc\u001b[39m:\u001b[32m5\u001b[39m)",
      "  ammonite.$sess.cell12$Helper.reverse(\u001b[32mcell12.sc\u001b[39m:\u001b[32m5\u001b[39m)",
      "  ammonite.$sess.cell12$Helper.reverse(\u001b[32mcell12.sc\u001b[39m:\u001b[32m5\u001b[39m)",
      "  ammonite.$sess.cell12$Helper.reverse(\u001b[32mcell12.sc\u001b[39m:\u001b[32m5\u001b[39m)",
      "  ammonite.$sess.cell12$Helper.reverse(\u001b[32mcell12.sc\u001b[39m:\u001b[32m5\u001b[39m)",
      "  ammonite.$sess.cell12$Helper.reverse(\u001b[32mcell12.sc\u001b[39m:\u001b[32m5\u001b[39m)",
      "  ammonite.$sess.cell12$Helper.reverse(\u001b[32mcell12.sc\u001b[39m:\u001b[32m5\u001b[39m)",
      "  ammonite.$sess.cell12$Helper.reverse(\u001b[32mcell12.sc\u001b[39m:\u001b[32m5\u001b[39m)",
      "  ammonite.$sess.cell12$Helper.reverse(\u001b[32mcell12.sc\u001b[39m:\u001b[32m5\u001b[39m)",
      "  ammonite.$sess.cell12$Helper.reverse(\u001b[32mcell12.sc\u001b[39m:\u001b[32m5\u001b[39m)",
      "  ammonite.$sess.cell12$Helper.reverse(\u001b[32mcell12.sc\u001b[39m:\u001b[32m5\u001b[39m)",
      "  ammonite.$sess.cell12$Helper.reverse(\u001b[32mcell12.sc\u001b[39m:\u001b[32m5\u001b[39m)",
      "  ammonite.$sess.cell12$Helper.reverse(\u001b[32mcell12.sc\u001b[39m:\u001b[32m5\u001b[39m)",
      "  ammonite.$sess.cell12$Helper.reverse(\u001b[32mcell12.sc\u001b[39m:\u001b[32m5\u001b[39m)",
      "  ammonite.$sess.cell12$Helper.reverse(\u001b[32mcell12.sc\u001b[39m:\u001b[32m5\u001b[39m)",
      "  ammonite.$sess.cell12$Helper.reverse(\u001b[32mcell12.sc\u001b[39m:\u001b[32m5\u001b[39m)",
      "  ammonite.$sess.cell12$Helper.reverse(\u001b[32mcell12.sc\u001b[39m:\u001b[32m5\u001b[39m)",
      "  ammonite.$sess.cell12$Helper.reverse(\u001b[32mcell12.sc\u001b[39m:\u001b[32m5\u001b[39m)",
      "  ammonite.$sess.cell12$Helper.reverse(\u001b[32mcell12.sc\u001b[39m:\u001b[32m5\u001b[39m)",
      "  ammonite.$sess.cell12$Helper.reverse(\u001b[32mcell12.sc\u001b[39m:\u001b[32m5\u001b[39m)",
      "  ammonite.$sess.cell12$Helper.reverse(\u001b[32mcell12.sc\u001b[39m:\u001b[32m5\u001b[39m)",
      "  ammonite.$sess.cell12$Helper.reverse(\u001b[32mcell12.sc\u001b[39m:\u001b[32m5\u001b[39m)",
      "  ammonite.$sess.cell12$Helper.reverse(\u001b[32mcell12.sc\u001b[39m:\u001b[32m5\u001b[39m)",
      "  ammonite.$sess.cell12$Helper.reverse(\u001b[32mcell12.sc\u001b[39m:\u001b[32m5\u001b[39m)",
      "  ammonite.$sess.cell12$Helper.reverse(\u001b[32mcell12.sc\u001b[39m:\u001b[32m5\u001b[39m)",
      "  ammonite.$sess.cell12$Helper.reverse(\u001b[32mcell12.sc\u001b[39m:\u001b[32m5\u001b[39m)",
      "  ammonite.$sess.cell12$Helper.reverse(\u001b[32mcell12.sc\u001b[39m:\u001b[32m5\u001b[39m)",
      "  ammonite.$sess.cell12$Helper.reverse(\u001b[32mcell12.sc\u001b[39m:\u001b[32m5\u001b[39m)",
      "  ammonite.$sess.cell12$Helper.reverse(\u001b[32mcell12.sc\u001b[39m:\u001b[32m5\u001b[39m)",
      "  ammonite.$sess.cell12$Helper.reverse(\u001b[32mcell12.sc\u001b[39m:\u001b[32m5\u001b[39m)",
      "  ammonite.$sess.cell12$Helper.reverse(\u001b[32mcell12.sc\u001b[39m:\u001b[32m5\u001b[39m)",
      "  ammonite.$sess.cell12$Helper.reverse(\u001b[32mcell12.sc\u001b[39m:\u001b[32m5\u001b[39m)",
      "  ammonite.$sess.cell12$Helper.reverse(\u001b[32mcell12.sc\u001b[39m:\u001b[32m5\u001b[39m)",
      "  ammonite.$sess.cell12$Helper.reverse(\u001b[32mcell12.sc\u001b[39m:\u001b[32m5\u001b[39m)",
      "  ammonite.$sess.cell12$Helper.reverse(\u001b[32mcell12.sc\u001b[39m:\u001b[32m5\u001b[39m)",
      "  ammonite.$sess.cell12$Helper.reverse(\u001b[32mcell12.sc\u001b[39m:\u001b[32m5\u001b[39m)",
      "  ammonite.$sess.cell12$Helper.reverse(\u001b[32mcell12.sc\u001b[39m:\u001b[32m5\u001b[39m)",
      "  ammonite.$sess.cell12$Helper.reverse(\u001b[32mcell12.sc\u001b[39m:\u001b[32m5\u001b[39m)",
      "  ammonite.$sess.cell12$Helper.reverse(\u001b[32mcell12.sc\u001b[39m:\u001b[32m5\u001b[39m)",
      "  ammonite.$sess.cell12$Helper.reverse(\u001b[32mcell12.sc\u001b[39m:\u001b[32m5\u001b[39m)",
      "  ammonite.$sess.cell12$Helper.reverse(\u001b[32mcell12.sc\u001b[39m:\u001b[32m5\u001b[39m)",
      "  ammonite.$sess.cell12$Helper.reverse(\u001b[32mcell12.sc\u001b[39m:\u001b[32m5\u001b[39m)",
      "  ammonite.$sess.cell12$Helper.reverse(\u001b[32mcell12.sc\u001b[39m:\u001b[32m5\u001b[39m)",
      "  ammonite.$sess.cell12$Helper.reverse(\u001b[32mcell12.sc\u001b[39m:\u001b[32m5\u001b[39m)",
      "  ammonite.$sess.cell12$Helper.reverse(\u001b[32mcell12.sc\u001b[39m:\u001b[32m5\u001b[39m)",
      "  ammonite.$sess.cell12$Helper.reverse(\u001b[32mcell12.sc\u001b[39m:\u001b[32m5\u001b[39m)",
      "  ammonite.$sess.cell12$Helper.reverse(\u001b[32mcell12.sc\u001b[39m:\u001b[32m5\u001b[39m)",
      "  ammonite.$sess.cell12$Helper.reverse(\u001b[32mcell12.sc\u001b[39m:\u001b[32m5\u001b[39m)",
      "  ammonite.$sess.cell12$Helper.reverse(\u001b[32mcell12.sc\u001b[39m:\u001b[32m5\u001b[39m)",
      "  ammonite.$sess.cell12$Helper.reverse(\u001b[32mcell12.sc\u001b[39m:\u001b[32m5\u001b[39m)",
      "  ammonite.$sess.cell12$Helper.reverse(\u001b[32mcell12.sc\u001b[39m:\u001b[32m5\u001b[39m)",
      "  ammonite.$sess.cell12$Helper.reverse(\u001b[32mcell12.sc\u001b[39m:\u001b[32m5\u001b[39m)",
      "  ammonite.$sess.cell12$Helper.reverse(\u001b[32mcell12.sc\u001b[39m:\u001b[32m5\u001b[39m)",
      "  ammonite.$sess.cell12$Helper.reverse(\u001b[32mcell12.sc\u001b[39m:\u001b[32m5\u001b[39m)",
      "  ammonite.$sess.cell12$Helper.reverse(\u001b[32mcell12.sc\u001b[39m:\u001b[32m5\u001b[39m)",
      "  ammonite.$sess.cell12$Helper.reverse(\u001b[32mcell12.sc\u001b[39m:\u001b[32m5\u001b[39m)",
      "  ammonite.$sess.cell12$Helper.reverse(\u001b[32mcell12.sc\u001b[39m:\u001b[32m5\u001b[39m)",
      "  ammonite.$sess.cell12$Helper.reverse(\u001b[32mcell12.sc\u001b[39m:\u001b[32m5\u001b[39m)",
      "  ammonite.$sess.cell12$Helper.reverse(\u001b[32mcell12.sc\u001b[39m:\u001b[32m5\u001b[39m)",
      "  ammonite.$sess.cell12$Helper.reverse(\u001b[32mcell12.sc\u001b[39m:\u001b[32m5\u001b[39m)",
      "  ammonite.$sess.cell12$Helper.reverse(\u001b[32mcell12.sc\u001b[39m:\u001b[32m5\u001b[39m)",
      "  ammonite.$sess.cell12$Helper.reverse(\u001b[32mcell12.sc\u001b[39m:\u001b[32m5\u001b[39m)",
      "  ammonite.$sess.cell12$Helper.reverse(\u001b[32mcell12.sc\u001b[39m:\u001b[32m5\u001b[39m)",
      "  ammonite.$sess.cell12$Helper.reverse(\u001b[32mcell12.sc\u001b[39m:\u001b[32m5\u001b[39m)",
      "  ammonite.$sess.cell12$Helper.reverse(\u001b[32mcell12.sc\u001b[39m:\u001b[32m5\u001b[39m)",
      "  ammonite.$sess.cell12$Helper.reverse(\u001b[32mcell12.sc\u001b[39m:\u001b[32m5\u001b[39m)",
      "  ammonite.$sess.cell12$Helper.reverse(\u001b[32mcell12.sc\u001b[39m:\u001b[32m5\u001b[39m)",
      "  ammonite.$sess.cell12$Helper.reverse(\u001b[32mcell12.sc\u001b[39m:\u001b[32m5\u001b[39m)",
      "  ammonite.$sess.cell12$Helper.reverse(\u001b[32mcell12.sc\u001b[39m:\u001b[32m5\u001b[39m)",
      "  ammonite.$sess.cell12$Helper.reverse(\u001b[32mcell12.sc\u001b[39m:\u001b[32m5\u001b[39m)",
      "  ammonite.$sess.cell12$Helper.reverse(\u001b[32mcell12.sc\u001b[39m:\u001b[32m5\u001b[39m)",
      "  ammonite.$sess.cell12$Helper.reverse(\u001b[32mcell12.sc\u001b[39m:\u001b[32m5\u001b[39m)",
      "  ammonite.$sess.cell12$Helper.reverse(\u001b[32mcell12.sc\u001b[39m:\u001b[32m5\u001b[39m)",
      "  ammonite.$sess.cell12$Helper.reverse(\u001b[32mcell12.sc\u001b[39m:\u001b[32m5\u001b[39m)",
      "  ammonite.$sess.cell12$Helper.reverse(\u001b[32mcell12.sc\u001b[39m:\u001b[32m5\u001b[39m)",
      "  ammonite.$sess.cell12$Helper.reverse(\u001b[32mcell12.sc\u001b[39m:\u001b[32m5\u001b[39m)",
      "  ammonite.$sess.cell12$Helper.reverse(\u001b[32mcell12.sc\u001b[39m:\u001b[32m5\u001b[39m)",
      "  ammonite.$sess.cell12$Helper.reverse(\u001b[32mcell12.sc\u001b[39m:\u001b[32m5\u001b[39m)",
      "  ammonite.$sess.cell12$Helper.reverse(\u001b[32mcell12.sc\u001b[39m:\u001b[32m5\u001b[39m)",
      "  ammonite.$sess.cell12$Helper.reverse(\u001b[32mcell12.sc\u001b[39m:\u001b[32m5\u001b[39m)",
      "  ammonite.$sess.cell12$Helper.reverse(\u001b[32mcell12.sc\u001b[39m:\u001b[32m5\u001b[39m)",
      "  ammonite.$sess.cell12$Helper.reverse(\u001b[32mcell12.sc\u001b[39m:\u001b[32m5\u001b[39m)",
      "  ammonite.$sess.cell12$Helper.reverse(\u001b[32mcell12.sc\u001b[39m:\u001b[32m5\u001b[39m)",
      "  ammonite.$sess.cell12$Helper.reverse(\u001b[32mcell12.sc\u001b[39m:\u001b[32m5\u001b[39m)",
      "  ammonite.$sess.cell12$Helper.reverse(\u001b[32mcell12.sc\u001b[39m:\u001b[32m5\u001b[39m)",
      "  ammonite.$sess.cell12$Helper.reverse(\u001b[32mcell12.sc\u001b[39m:\u001b[32m5\u001b[39m)",
      "  ammonite.$sess.cell12$Helper.reverse(\u001b[32mcell12.sc\u001b[39m:\u001b[32m5\u001b[39m)",
      "  ammonite.$sess.cell12$Helper.reverse(\u001b[32mcell12.sc\u001b[39m:\u001b[32m5\u001b[39m)",
      "  ammonite.$sess.cell12$Helper.reverse(\u001b[32mcell12.sc\u001b[39m:\u001b[32m5\u001b[39m)",
      "  ammonite.$sess.cell12$Helper.reverse(\u001b[32mcell12.sc\u001b[39m:\u001b[32m5\u001b[39m)",
      "  ammonite.$sess.cell12$Helper.reverse(\u001b[32mcell12.sc\u001b[39m:\u001b[32m5\u001b[39m)",
      "  ammonite.$sess.cell12$Helper.reverse(\u001b[32mcell12.sc\u001b[39m:\u001b[32m5\u001b[39m)",
      "  ammonite.$sess.cell12$Helper.reverse(\u001b[32mcell12.sc\u001b[39m:\u001b[32m5\u001b[39m)",
      "  ammonite.$sess.cell12$Helper.reverse(\u001b[32mcell12.sc\u001b[39m:\u001b[32m5\u001b[39m)",
      "  ammonite.$sess.cell12$Helper.reverse(\u001b[32mcell12.sc\u001b[39m:\u001b[32m5\u001b[39m)",
      "  ammonite.$sess.cell12$Helper.reverse(\u001b[32mcell12.sc\u001b[39m:\u001b[32m5\u001b[39m)",
      "  ammonite.$sess.cell12$Helper.reverse(\u001b[32mcell12.sc\u001b[39m:\u001b[32m5\u001b[39m)",
      "  ammonite.$sess.cell12$Helper.reverse(\u001b[32mcell12.sc\u001b[39m:\u001b[32m5\u001b[39m)",
      "  ammonite.$sess.cell12$Helper.reverse(\u001b[32mcell12.sc\u001b[39m:\u001b[32m5\u001b[39m)",
      "  ammonite.$sess.cell12$Helper.reverse(\u001b[32mcell12.sc\u001b[39m:\u001b[32m5\u001b[39m)",
      "  ammonite.$sess.cell12$Helper.reverse(\u001b[32mcell12.sc\u001b[39m:\u001b[32m5\u001b[39m)",
      "  ammonite.$sess.cell12$Helper.reverse(\u001b[32mcell12.sc\u001b[39m:\u001b[32m5\u001b[39m)",
      "  ammonite.$sess.cell12$Helper.reverse(\u001b[32mcell12.sc\u001b[39m:\u001b[32m5\u001b[39m)",
      "  ammonite.$sess.cell12$Helper.reverse(\u001b[32mcell12.sc\u001b[39m:\u001b[32m5\u001b[39m)",
      "  ammonite.$sess.cell12$Helper.reverse(\u001b[32mcell12.sc\u001b[39m:\u001b[32m5\u001b[39m)",
      "  ammonite.$sess.cell12$Helper.reverse(\u001b[32mcell12.sc\u001b[39m:\u001b[32m5\u001b[39m)",
      "  ammonite.$sess.cell12$Helper.reverse(\u001b[32mcell12.sc\u001b[39m:\u001b[32m5\u001b[39m)",
      "  ammonite.$sess.cell12$Helper.reverse(\u001b[32mcell12.sc\u001b[39m:\u001b[32m5\u001b[39m)",
      "  ammonite.$sess.cell12$Helper.reverse(\u001b[32mcell12.sc\u001b[39m:\u001b[32m5\u001b[39m)",
      "  ammonite.$sess.cell12$Helper.reverse(\u001b[32mcell12.sc\u001b[39m:\u001b[32m5\u001b[39m)",
      "  ammonite.$sess.cell12$Helper.reverse(\u001b[32mcell12.sc\u001b[39m:\u001b[32m5\u001b[39m)",
      "  ammonite.$sess.cell12$Helper.reverse(\u001b[32mcell12.sc\u001b[39m:\u001b[32m5\u001b[39m)",
      "  ammonite.$sess.cell12$Helper.reverse(\u001b[32mcell12.sc\u001b[39m:\u001b[32m5\u001b[39m)",
      "  ammonite.$sess.cell12$Helper.reverse(\u001b[32mcell12.sc\u001b[39m:\u001b[32m5\u001b[39m)",
      "  ammonite.$sess.cell12$Helper.reverse(\u001b[32mcell12.sc\u001b[39m:\u001b[32m5\u001b[39m)",
      "  ammonite.$sess.cell12$Helper.reverse(\u001b[32mcell12.sc\u001b[39m:\u001b[32m5\u001b[39m)",
      "  ammonite.$sess.cell12$Helper.reverse(\u001b[32mcell12.sc\u001b[39m:\u001b[32m5\u001b[39m)",
      "  ammonite.$sess.cell12$Helper.reverse(\u001b[32mcell12.sc\u001b[39m:\u001b[32m5\u001b[39m)",
      "  ammonite.$sess.cell12$Helper.reverse(\u001b[32mcell12.sc\u001b[39m:\u001b[32m5\u001b[39m)",
      "  ammonite.$sess.cell12$Helper.reverse(\u001b[32mcell12.sc\u001b[39m:\u001b[32m5\u001b[39m)",
      "  ammonite.$sess.cell12$Helper.reverse(\u001b[32mcell12.sc\u001b[39m:\u001b[32m5\u001b[39m)",
      "  ammonite.$sess.cell12$Helper.reverse(\u001b[32mcell12.sc\u001b[39m:\u001b[32m5\u001b[39m)",
      "  ammonite.$sess.cell12$Helper.reverse(\u001b[32mcell12.sc\u001b[39m:\u001b[32m5\u001b[39m)",
      "  ammonite.$sess.cell12$Helper.reverse(\u001b[32mcell12.sc\u001b[39m:\u001b[32m5\u001b[39m)",
      "  ammonite.$sess.cell12$Helper.reverse(\u001b[32mcell12.sc\u001b[39m:\u001b[32m5\u001b[39m)",
      "  ammonite.$sess.cell12$Helper.reverse(\u001b[32mcell12.sc\u001b[39m:\u001b[32m5\u001b[39m)",
      "  ammonite.$sess.cell12$Helper.reverse(\u001b[32mcell12.sc\u001b[39m:\u001b[32m5\u001b[39m)",
      "  ammonite.$sess.cell12$Helper.reverse(\u001b[32mcell12.sc\u001b[39m:\u001b[32m5\u001b[39m)",
      "  ammonite.$sess.cell12$Helper.reverse(\u001b[32mcell12.sc\u001b[39m:\u001b[32m5\u001b[39m)",
      "  ammonite.$sess.cell12$Helper.reverse(\u001b[32mcell12.sc\u001b[39m:\u001b[32m5\u001b[39m)",
      "  ammonite.$sess.cell12$Helper.reverse(\u001b[32mcell12.sc\u001b[39m:\u001b[32m5\u001b[39m)",
      "  ammonite.$sess.cell12$Helper.reverse(\u001b[32mcell12.sc\u001b[39m:\u001b[32m5\u001b[39m)",
      "  ammonite.$sess.cell12$Helper.reverse(\u001b[32mcell12.sc\u001b[39m:\u001b[32m5\u001b[39m)",
      "  ammonite.$sess.cell12$Helper.reverse(\u001b[32mcell12.sc\u001b[39m:\u001b[32m5\u001b[39m)",
      "  ammonite.$sess.cell12$Helper.reverse(\u001b[32mcell12.sc\u001b[39m:\u001b[32m5\u001b[39m)",
      "  ammonite.$sess.cell12$Helper.reverse(\u001b[32mcell12.sc\u001b[39m:\u001b[32m5\u001b[39m)",
      "  ammonite.$sess.cell12$Helper.reverse(\u001b[32mcell12.sc\u001b[39m:\u001b[32m5\u001b[39m)",
      "  ammonite.$sess.cell12$Helper.reverse(\u001b[32mcell12.sc\u001b[39m:\u001b[32m5\u001b[39m)",
      "  ammonite.$sess.cell12$Helper.reverse(\u001b[32mcell12.sc\u001b[39m:\u001b[32m5\u001b[39m)",
      "  ammonite.$sess.cell12$Helper.reverse(\u001b[32mcell12.sc\u001b[39m:\u001b[32m5\u001b[39m)",
      "  ammonite.$sess.cell12$Helper.reverse(\u001b[32mcell12.sc\u001b[39m:\u001b[32m5\u001b[39m)",
      "  ammonite.$sess.cell12$Helper.reverse(\u001b[32mcell12.sc\u001b[39m:\u001b[32m5\u001b[39m)",
      "  ammonite.$sess.cell12$Helper.reverse(\u001b[32mcell12.sc\u001b[39m:\u001b[32m5\u001b[39m)",
      "  ammonite.$sess.cell12$Helper.reverse(\u001b[32mcell12.sc\u001b[39m:\u001b[32m5\u001b[39m)",
      "  ammonite.$sess.cell12$Helper.reverse(\u001b[32mcell12.sc\u001b[39m:\u001b[32m5\u001b[39m)",
      "  ammonite.$sess.cell12$Helper.reverse(\u001b[32mcell12.sc\u001b[39m:\u001b[32m5\u001b[39m)",
      "  ammonite.$sess.cell12$Helper.reverse(\u001b[32mcell12.sc\u001b[39m:\u001b[32m5\u001b[39m)",
      "  ammonite.$sess.cell12$Helper.reverse(\u001b[32mcell12.sc\u001b[39m:\u001b[32m5\u001b[39m)",
      "  ammonite.$sess.cell12$Helper.reverse(\u001b[32mcell12.sc\u001b[39m:\u001b[32m5\u001b[39m)",
      "  ammonite.$sess.cell12$Helper.reverse(\u001b[32mcell12.sc\u001b[39m:\u001b[32m5\u001b[39m)",
      "  ammonite.$sess.cell12$Helper.reverse(\u001b[32mcell12.sc\u001b[39m:\u001b[32m5\u001b[39m)",
      "  ammonite.$sess.cell12$Helper.reverse(\u001b[32mcell12.sc\u001b[39m:\u001b[32m5\u001b[39m)",
      "  ammonite.$sess.cell12$Helper.reverse(\u001b[32mcell12.sc\u001b[39m:\u001b[32m5\u001b[39m)",
      "  ammonite.$sess.cell12$Helper.reverse(\u001b[32mcell12.sc\u001b[39m:\u001b[32m5\u001b[39m)",
      "  ammonite.$sess.cell12$Helper.reverse(\u001b[32mcell12.sc\u001b[39m:\u001b[32m5\u001b[39m)",
      "  ammonite.$sess.cell12$Helper.reverse(\u001b[32mcell12.sc\u001b[39m:\u001b[32m5\u001b[39m)",
      "  ammonite.$sess.cell12$Helper.reverse(\u001b[32mcell12.sc\u001b[39m:\u001b[32m5\u001b[39m)",
      "  ammonite.$sess.cell12$Helper.reverse(\u001b[32mcell12.sc\u001b[39m:\u001b[32m5\u001b[39m)",
      "  ammonite.$sess.cell12$Helper.reverse(\u001b[32mcell12.sc\u001b[39m:\u001b[32m5\u001b[39m)",
      "  ammonite.$sess.cell12$Helper.reverse(\u001b[32mcell12.sc\u001b[39m:\u001b[32m5\u001b[39m)",
      "  ammonite.$sess.cell12$Helper.reverse(\u001b[32mcell12.sc\u001b[39m:\u001b[32m5\u001b[39m)",
      "  ammonite.$sess.cell12$Helper.reverse(\u001b[32mcell12.sc\u001b[39m:\u001b[32m5\u001b[39m)",
      "  ammonite.$sess.cell12$Helper.reverse(\u001b[32mcell12.sc\u001b[39m:\u001b[32m5\u001b[39m)",
      "  ammonite.$sess.cell12$Helper.reverse(\u001b[32mcell12.sc\u001b[39m:\u001b[32m5\u001b[39m)",
      "  ammonite.$sess.cell12$Helper.reverse(\u001b[32mcell12.sc\u001b[39m:\u001b[32m5\u001b[39m)",
      "  ammonite.$sess.cell12$Helper.reverse(\u001b[32mcell12.sc\u001b[39m:\u001b[32m5\u001b[39m)",
      "  ammonite.$sess.cell12$Helper.reverse(\u001b[32mcell12.sc\u001b[39m:\u001b[32m5\u001b[39m)",
      "  ammonite.$sess.cell12$Helper.reverse(\u001b[32mcell12.sc\u001b[39m:\u001b[32m5\u001b[39m)",
      "  ammonite.$sess.cell12$Helper.reverse(\u001b[32mcell12.sc\u001b[39m:\u001b[32m5\u001b[39m)",
      "  ammonite.$sess.cell12$Helper.reverse(\u001b[32mcell12.sc\u001b[39m:\u001b[32m5\u001b[39m)",
      "  ammonite.$sess.cell12$Helper.reverse(\u001b[32mcell12.sc\u001b[39m:\u001b[32m5\u001b[39m)",
      "  ammonite.$sess.cell12$Helper.reverse(\u001b[32mcell12.sc\u001b[39m:\u001b[32m5\u001b[39m)",
      "  ammonite.$sess.cell12$Helper.reverse(\u001b[32mcell12.sc\u001b[39m:\u001b[32m5\u001b[39m)",
      "  ammonite.$sess.cell12$Helper.reverse(\u001b[32mcell12.sc\u001b[39m:\u001b[32m5\u001b[39m)",
      "  ammonite.$sess.cell12$Helper.reverse(\u001b[32mcell12.sc\u001b[39m:\u001b[32m5\u001b[39m)",
      "  ammonite.$sess.cell12$Helper.reverse(\u001b[32mcell12.sc\u001b[39m:\u001b[32m5\u001b[39m)",
      "  ammonite.$sess.cell12$Helper.reverse(\u001b[32mcell12.sc\u001b[39m:\u001b[32m5\u001b[39m)",
      "  ammonite.$sess.cell12$Helper.reverse(\u001b[32mcell12.sc\u001b[39m:\u001b[32m5\u001b[39m)",
      "  ammonite.$sess.cell12$Helper.reverse(\u001b[32mcell12.sc\u001b[39m:\u001b[32m5\u001b[39m)",
      "  ammonite.$sess.cell12$Helper.reverse(\u001b[32mcell12.sc\u001b[39m:\u001b[32m5\u001b[39m)",
      "  ammonite.$sess.cell12$Helper.reverse(\u001b[32mcell12.sc\u001b[39m:\u001b[32m5\u001b[39m)",
      "  ammonite.$sess.cell12$Helper.reverse(\u001b[32mcell12.sc\u001b[39m:\u001b[32m5\u001b[39m)",
      "  ammonite.$sess.cell12$Helper.reverse(\u001b[32mcell12.sc\u001b[39m:\u001b[32m5\u001b[39m)",
      "  ammonite.$sess.cell12$Helper.reverse(\u001b[32mcell12.sc\u001b[39m:\u001b[32m5\u001b[39m)",
      "  ammonite.$sess.cell12$Helper.reverse(\u001b[32mcell12.sc\u001b[39m:\u001b[32m5\u001b[39m)",
      "  ammonite.$sess.cell12$Helper.reverse(\u001b[32mcell12.sc\u001b[39m:\u001b[32m5\u001b[39m)",
      "  ammonite.$sess.cell12$Helper.reverse(\u001b[32mcell12.sc\u001b[39m:\u001b[32m5\u001b[39m)",
      "  ammonite.$sess.cell12$Helper.reverse(\u001b[32mcell12.sc\u001b[39m:\u001b[32m5\u001b[39m)"
     ]
    }
   ],
   "source": [
    "reverse(List.fill(10000)(0))"
   ]
  },
  {
   "cell_type": "code",
   "execution_count": 18,
   "metadata": {},
   "outputs": [
    {
     "name": "stderr",
     "output_type": "stream",
     "text": [
      "-- [E050] Type Error: cell19.sc:6:21 -------------------------------------------\n",
      "6 |                step(???(out, head), tail)\n",
      "  |                     ^^^\n",
      "  |                     method ??? in object Predef does not take parameters\n",
      "  |\n",
      "  | longer explanation available when compiling with `-explain`\n",
      "Compilation Failed"
     ]
    }
   ],
   "source": [
    "// Tail-recursive, efficiently\n",
    "\n",
    "def reverse[A](l: List[A]): List[A] = \n",
    "    def step(out: List[A], aux: List[A]): List[A] = \n",
    "        aux match \n",
    "            case Nil => out\n",
    "            case head :: tail => \n",
    "                step(???(out, head), tail)\n",
    "\n",
    "    step(???, l)"
   ]
  },
  {
   "cell_type": "code",
   "execution_count": 22,
   "metadata": {},
   "outputs": [
    {
     "data": {
      "text/plain": [
       "defined \u001b[32mfunction\u001b[39m \u001b[36mreverseTR\u001b[39m"
      ]
     },
     "execution_count": 22,
     "metadata": {},
     "output_type": "execute_result"
    }
   ],
   "source": [
    "// Tail-recursive, efficiently\n",
    "\n",
    "def reverseTR[A](l: List[A]): List[A] = \n",
    "    def step(out: List[A], aux: List[A]): List[A] = \n",
    "        aux match \n",
    "            case Nil => out\n",
    "            case head :: tail => \n",
    "                step(head +: out, tail)\n",
    "\n",
    "    step(Nil, l)"
   ]
  },
  {
   "cell_type": "markdown",
   "metadata": {},
   "source": [
    "// \n",
    "\n",
    "reverse(List(1,2,3)) == List(3,2,1)\n",
    "\n",
    "head out\n",
    ".... ...\n",
    "     Nil\n",
    "1    1 :: Nil\n",
    "2    2 :: 1 :: Nil\n",
    "3    3 :: 2 :: 1 :: Nil \n",
    "\n",
    "step(Nil, 1 :: List(2,3))\n",
    "step(1 :: Nil, 2 :: List(3))\n",
    "step(2 :: 1 :: Nil, 3 :: Nil)\n",
    "step(3 :: 2 :: 1 :: Nil, Nil)\n",
    "\n"
   ]
  },
  {
   "cell_type": "code",
   "execution_count": 23,
   "metadata": {},
   "outputs": [
    {
     "name": "stdout",
     "output_type": "stream",
     "text": [
      "\u001b[32mcell6$Helper$TestReverse:\u001b[0m\n",
      "\u001b[32mreverse\u001b[0m\n",
      "\u001b[32m- should work\u001b[0m\n"
     ]
    }
   ],
   "source": [
    "run(TestReverse(reverseTR))"
   ]
  },
  {
   "cell_type": "markdown",
   "metadata": {},
   "source": [
    "### Example: concatenate lists"
   ]
  },
  {
   "cell_type": "code",
   "execution_count": 2,
   "metadata": {},
   "outputs": [
    {
     "data": {
      "text/plain": [
       "defined \u001b[32mclass\u001b[39m \u001b[36mTestConcatenate\u001b[39m"
      ]
     },
     "execution_count": 2,
     "metadata": {},
     "output_type": "execute_result"
    }
   ],
   "source": [
    "class TestConcatenate(concatenate: (List[Int], List[Int]) => List[Int]) \n",
    "extends AnyFlatSpec with should.Matchers:\n",
    "    \"concatenate\" should \"work\" in:\n",
    "        concatenate(List(2,3), List(4,5,6,7)) shouldBe List(2,3,4,5,6,7)\n",
    "        concatenate(1::List(2,3), List(4,5,6,7)) shouldBe 1::List(2,3,4,5,6,7)\n",
    "        concatenate(List(), List(1,2,3)) shouldBe List(1,2,3)\n",
    "        concatenate(List(1,2,3), List()) shouldBe List(1,2,3)\n",
    "        concatenate(List(), List()) shouldBe List()"
   ]
  },
  {
   "cell_type": "code",
   "execution_count": 4,
   "metadata": {},
   "outputs": [
    {
     "data": {
      "text/plain": [
       "defined \u001b[32mfunction\u001b[39m \u001b[36mconcatenate\u001b[39m"
      ]
     },
     "execution_count": 4,
     "metadata": {},
     "output_type": "execute_result"
    }
   ],
   "source": [
    "def concatenate[A](l1: List[A], l2: List[A]): List[A] = \n",
    "    l1 match \n",
    "        case Nil => ??? : List[A]\n",
    "        case head :: tail => \n",
    "            val tailSol: List[A] = concatenate(tail, l2)\n",
    "            ??? : List[A]"
   ]
  },
  {
   "cell_type": "code",
   "execution_count": 5,
   "metadata": {},
   "outputs": [
    {
     "data": {
      "text/plain": [
       "defined \u001b[32mfunction\u001b[39m \u001b[36mconcatenate\u001b[39m"
      ]
     },
     "execution_count": 5,
     "metadata": {},
     "output_type": "execute_result"
    }
   ],
   "source": [
    "def concatenate[A](l1: List[A], l2: List[A]): List[A] = \n",
    "    l1 match \n",
    "        case Nil => l2 : List[A]\n",
    "        case head :: tail => \n",
    "            val tailSol: List[A] = concatenate(tail, l2)\n",
    "            head :: tailSol : List[A]"
   ]
  },
  {
   "cell_type": "code",
   "execution_count": null,
   "metadata": {},
   "outputs": [],
   "source": [
    "def concatenate[A](l1: List[A], l2: List[A]): List[A] = \n",
    "    dyv(l1)(??? : List[A]):\n",
    "        (head: A, tailSol: List[A]) => \n",
    "            ???\n",
    "\n",
    "    "
   ]
  },
  {
   "cell_type": "code",
   "execution_count": 7,
   "metadata": {},
   "outputs": [
    {
     "data": {
      "text/plain": [
       "defined \u001b[32mfunction\u001b[39m \u001b[36mconcatenate\u001b[39m"
      ]
     },
     "execution_count": 7,
     "metadata": {},
     "output_type": "execute_result"
    }
   ],
   "source": [
    "def concatenate[A](l1: List[A], l2: List[A]): List[A] = \n",
    "    l1.foldRight(l2: List[A]):\n",
    "        (head: A, tailSol: List[A]) => \n",
    "            head :: tailSol    "
   ]
  },
  {
   "cell_type": "code",
   "execution_count": null,
   "metadata": {},
   "outputs": [
    {
     "data": {
      "text/plain": [
       "defined \u001b[32mfunction\u001b[39m \u001b[36mconcatenate\u001b[39m"
      ]
     },
     "execution_count": 9,
     "metadata": {},
     "output_type": "execute_result"
    }
   ],
   "source": [
    "def concatenate[A](l1: List[A], l2: List[A]): List[A] = \n",
    "    l1.foldRight(l2):\n",
    "        (head, tailSol) => \n",
    "            head :: tailSol    "
   ]
  },
  {
   "cell_type": "code",
   "execution_count": 5,
   "metadata": {},
   "outputs": [
    {
     "data": {
      "text/plain": [
       "defined \u001b[32mfunction\u001b[39m \u001b[36mconcatenate\u001b[39m"
      ]
     },
     "execution_count": 5,
     "metadata": {},
     "output_type": "execute_result"
    }
   ],
   "source": [
    "def concatenate[A](l1: List[A], l2: List[A]): List[A] = \n",
    "    l1 match \n",
    "        case Nil => l2 : List[A]\n",
    "        case head :: tail => \n",
    "            val tailSol: List[A] = concatenate(tail, l2)\n",
    "            head :: tailSol : List[A]"
   ]
  },
  {
   "cell_type": "code",
   "execution_count": 11,
   "metadata": {},
   "outputs": [
    {
     "data": {
      "text/plain": [
       "defined \u001b[32mfunction\u001b[39m \u001b[36mconcatenate\u001b[39m"
      ]
     },
     "execution_count": 11,
     "metadata": {},
     "output_type": "execute_result"
    }
   ],
   "source": [
    "def concatenate[A](l1: List[A], l2: List[A]): List[A] = \n",
    "    l1.foldRight(l2)(_ :: _)"
   ]
  },
  {
   "cell_type": "code",
   "execution_count": 8,
   "metadata": {},
   "outputs": [
    {
     "name": "stdout",
     "output_type": "stream",
     "text": [
      "\u001b[32mcell2$Helper$TestConcatenate:\u001b[0m\n",
      "\u001b[32mconcatenate\u001b[0m\n",
      "\u001b[32m- should work\u001b[0m\n"
     ]
    }
   ],
   "source": [
    "run(TestConcatenate(concatenate))"
   ]
  },
  {
   "cell_type": "markdown",
   "metadata": {},
   "source": [
    "Tail-recursive concatenation:"
   ]
  },
  {
   "cell_type": "code",
   "execution_count": null,
   "metadata": {},
   "outputs": [],
   "source": []
  },
  {
   "cell_type": "code",
   "execution_count": null,
   "metadata": {},
   "outputs": [],
   "source": [
    "run(TestConcatenate(concatenateTR))"
   ]
  }
 ],
 "metadata": {
  "kernelspec": {
   "display_name": "Scala 3.3",
   "language": "scala",
   "name": "scala33"
  },
  "language_info": {
   "codemirror_mode": "text/x-scala",
   "file_extension": ".sc",
   "mimetype": "text/x-scala",
   "name": "scala",
   "nbconvert_exporter": "script",
   "version": "2.13.12"
  }
 },
 "nbformat": 4,
 "nbformat_minor": 4
}
