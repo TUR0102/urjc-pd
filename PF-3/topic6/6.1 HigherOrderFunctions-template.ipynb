{
 "cells": [
  {
   "cell_type": "markdown",
   "metadata": {
    "tags": []
   },
   "source": [
    "### Preamble"
   ]
  },
  {
   "cell_type": "code",
   "execution_count": 50,
   "metadata": {},
   "outputs": [
    {
     "data": {
      "text/plain": [
       "\u001b[32mimport \u001b[39m\u001b[36m$ivy.$                                \n",
       "\u001b[39m\n",
       "\u001b[32mimport \u001b[39m\u001b[36morg.scalatest.{Filter => _, _}, flatspec._, matchers._\n",
       "\u001b[39m"
      ]
     },
     "execution_count": 50,
     "metadata": {},
     "output_type": "execute_result"
    }
   ],
   "source": [
    "import $ivy.`org.scalatest::scalatest:3.2.16`\n",
    "import org.scalatest.{Filter => _, _}, flatspec._, matchers._"
   ]
  },
  {
   "cell_type": "markdown",
   "metadata": {},
   "source": [
    "# Topic 6. Higher-order functions and modular programming"
   ]
  },
  {
   "cell_type": "markdown",
   "metadata": {},
   "source": [
    "In this notebook, we will see that higher-order functions (HOFs) are essential modularity devices, and we will introduce the most common higher-order functions that operate over many different data structures."
   ]
  },
  {
   "cell_type": "markdown",
   "metadata": {},
   "source": [
    "### References\n",
    "\n",
    "[__Programming in Scala, \n",
    "A comprehensive step-by-step guide__](https://www.artima.com/shop/programming_in_scala_3ed) Third Edition.\n",
    "by Martin Odersky, Lex Spoon, and Bill Venners. \n",
    "\n",
    "- Chapter 6. Functional objects\n",
    "- Chapter 8. Functions and closures\n",
    "- Chapter 16. Working with Lists\n",
    "- Chapter 23. For Expressions Revisited\n",
    "\n",
    "[__Functional programming in Scala__](https://www.manning.com/books/functional-programming-in-scala), by Paul Chiusano and Runar Bjarnason.\n",
    "\n",
    "- Chapter 3. Functional data structures\n",
    "\n",
    "[__Functional programming simplified__](https://alvinalexander.com/downloads/fpsimplified-free-preview.pdf), by Alvin Alexander.\n",
    "\n",
    "- Chapter 22. Functions Are Variables, Too\n",
    "- Chapter 23. Using Methods As If They Were Functions\n",
    "- Chapter 24. How to Write Functions That Take Functions as Input Parameters\n",
    "- Chapter 25. How to Write a ‘map’ Function\n",
    "- Chapter 27. Functions Can Have Multiple Parameter Groups\n",
    "- Chapter 28. Partially-Applied Functions (and Currying)"
   ]
  },
  {
   "cell_type": "markdown",
   "metadata": {},
   "source": [
    "## `FoldRight`: divide and conquer"
   ]
  },
  {
   "cell_type": "markdown",
   "metadata": {},
   "source": [
    "HOFs shine when the time comes to break monoliths. For instance, let's consider the following two functions:"
   ]
  },
  {
   "cell_type": "code",
   "execution_count": 2,
   "metadata": {},
   "outputs": [
    {
     "data": {
      "text/plain": [
       "defined \u001b[32mfunction\u001b[39m \u001b[36msum\u001b[39m"
      ]
     },
     "execution_count": 2,
     "metadata": {},
     "output_type": "execute_result"
    }
   ],
   "source": [
    "// sum of elements\n",
    "def sum(l: List[Int]): Int = \n",
    "    l match \n",
    "        case Nil => ??? : Int\n",
    "        case head :: tail => \n",
    "            val tailSol: Int = sum(tail)\n",
    "            ??? : Int"
   ]
  },
  {
   "cell_type": "code",
   "execution_count": null,
   "metadata": {},
   "outputs": [],
   "source": [
    "// reverse\n",
    "def reverse[A](l: List[A]): List[A] = \n",
    "    l match \n",
    "        case Nil => ??? : List[A]\n",
    "        case head :: tail => \n",
    "            val tailSol: List[A] = reverse(tail)\n",
    "            ??? : List[A]"
   ]
  },
  {
   "cell_type": "code",
   "execution_count": 2,
   "metadata": {},
   "outputs": [
    {
     "data": {
      "text/plain": [
       "defined \u001b[32mfunction\u001b[39m \u001b[36msum\u001b[39m"
      ]
     },
     "execution_count": 2,
     "metadata": {},
     "output_type": "execute_result"
    }
   ],
   "source": [
    "// sum of elements\n",
    "def sum(l: List[Int]): Int = \n",
    "    l match \n",
    "        case Nil => 0 : Int\n",
    "        case head :: tail => \n",
    "            val tailSol: Int = sum(tail)\n",
    "            head + tailSol : Int"
   ]
  },
  {
   "cell_type": "code",
   "execution_count": 3,
   "metadata": {},
   "outputs": [
    {
     "data": {
      "text/plain": [
       "defined \u001b[32mfunction\u001b[39m \u001b[36mreverse\u001b[39m"
      ]
     },
     "execution_count": 3,
     "metadata": {},
     "output_type": "execute_result"
    }
   ],
   "source": [
    "// reverse\n",
    "def reverse[A](l: List[A]): List[A] = \n",
    "    l match \n",
    "        case Nil => Nil : List[A]\n",
    "        case head :: tail => \n",
    "            val tailSol: List[A] = reverse(tail)\n",
    "            tailSol :+ head : List[A]"
   ]
  },
  {
   "cell_type": "code",
   "execution_count": 4,
   "metadata": {},
   "outputs": [
    {
     "data": {
      "text/plain": [
       "defined \u001b[32mfunction\u001b[39m \u001b[36mdyv\u001b[39m"
      ]
     },
     "execution_count": 4,
     "metadata": {},
     "output_type": "execute_result"
    }
   ],
   "source": [
    "def dyv[A, B](l: List[A])(nil: B, cons: (A, B) => B) : B = \n",
    "    l match \n",
    "        case List() => nil : B\n",
    "        case head :: tail => \n",
    "            val tailSol: B = dyv(tail)(nil, cons)\n",
    "            cons(head, tailSol) : B"
   ]
  },
  {
   "cell_type": "code",
   "execution_count": 5,
   "metadata": {},
   "outputs": [
    {
     "data": {
      "text/plain": [
       "defined \u001b[32mfunction\u001b[39m \u001b[36mreverse\u001b[39m"
      ]
     },
     "execution_count": 5,
     "metadata": {},
     "output_type": "execute_result"
    }
   ],
   "source": [
    "// reverse\n",
    "def reverse[A](l: List[A]): List[A] = \n",
    "    dyv[A, List[A]](l)(\n",
    "        Nil : List[A],\n",
    "        (head: A, tailReverse: List[A]) => \n",
    "            tailReverse :+ head : List[A]\n",
    "    )"
   ]
  },
  {
   "cell_type": "code",
   "execution_count": 6,
   "metadata": {},
   "outputs": [
    {
     "data": {
      "text/plain": [
       "defined \u001b[32mfunction\u001b[39m \u001b[36msum\u001b[39m"
      ]
     },
     "execution_count": 6,
     "metadata": {},
     "output_type": "execute_result"
    }
   ],
   "source": [
    "// sum of elements\n",
    "def sum(l: List[Int]): Int = \n",
    "    dyv[Int, Int](l)(\n",
    "        0 : Int,\n",
    "        (head: Int, tailSum: Int) => \n",
    "            head + tailSum : Int\n",
    "    )"
   ]
  },
  {
   "cell_type": "code",
   "execution_count": 8,
   "metadata": {},
   "outputs": [
    {
     "name": "stdout",
     "output_type": "stream",
     "text": [
      "1\n",
      "2\n",
      "3\n",
      "4\n",
      "5\n",
      "6\n",
      "7\n",
      "8\n",
      "9\n",
      "10\n"
     ]
    }
   ],
   "source": [
    "for (i <- 1 to 10)\n",
    "    println(i)"
   ]
  },
  {
   "cell_type": "code",
   "execution_count": 15,
   "metadata": {},
   "outputs": [
    {
     "data": {
      "text/plain": [
       "defined \u001b[32mfunction\u001b[39m \u001b[36mmultiply\u001b[39m"
      ]
     },
     "execution_count": 15,
     "metadata": {},
     "output_type": "execute_result"
    }
   ],
   "source": [
    "def multiply(l: List[Int]): Int = \n",
    "    l.foldRight(1 : Int): (head, tailMultiplied: Int) => \n",
    "        head * tailMultiplied"
   ]
  },
  {
   "cell_type": "code",
   "execution_count": 16,
   "metadata": {},
   "outputs": [
    {
     "data": {
      "text/plain": [
       "defined \u001b[32mfunction\u001b[39m \u001b[36mmultiply\u001b[39m"
      ]
     },
     "execution_count": 16,
     "metadata": {},
     "output_type": "execute_result"
    }
   ],
   "source": [
    "def multiply(l: List[Int]): Int = \n",
    "    l.foldRight(1)(_*_)"
   ]
  },
  {
   "cell_type": "code",
   "execution_count": 17,
   "metadata": {},
   "outputs": [
    {
     "data": {
      "text/plain": [
       "\u001b[36mres17_0\u001b[39m: \u001b[32mList\u001b[39m[\u001b[32mInt\u001b[39m] = \u001b[33mList\u001b[39m(\u001b[32m1\u001b[39m, \u001b[32m2\u001b[39m, \u001b[32m3\u001b[39m, \u001b[32m4\u001b[39m, \u001b[32m5\u001b[39m)\n",
       "\u001b[36mres17_1\u001b[39m: \u001b[32mInt\u001b[39m = \u001b[32m120\u001b[39m"
      ]
     },
     "execution_count": 17,
     "metadata": {},
     "output_type": "execute_result"
    }
   ],
   "source": [
    "1 :: 2 :: 3 :: 4 :: 5 :: Nil\n",
    "1 *  2 *  3 *  4 *  5 *  1\n",
    "           "
   ]
  },
  {
   "cell_type": "code",
   "execution_count": 9,
   "metadata": {},
   "outputs": [
    {
     "data": {
      "text/plain": [
       "defined \u001b[32mfunction\u001b[39m \u001b[36mdyv\u001b[39m"
      ]
     },
     "execution_count": 9,
     "metadata": {},
     "output_type": "execute_result"
    }
   ],
   "source": [
    "def dyv[A, B](l: List[A])(nil: B)(cons: (A, B) => B) : B = \n",
    "    l match \n",
    "        case List() => nil : B\n",
    "        case head :: tail => \n",
    "            val tailSol: B = dyv(tail)(nil)(cons)\n",
    "            cons(head, tailSol) : B"
   ]
  },
  {
   "cell_type": "code",
   "execution_count": 10,
   "metadata": {},
   "outputs": [
    {
     "data": {
      "text/plain": [
       "defined \u001b[32mfunction\u001b[39m \u001b[36msum\u001b[39m"
      ]
     },
     "execution_count": 10,
     "metadata": {},
     "output_type": "execute_result"
    }
   ],
   "source": [
    "// sum of elements\n",
    "def sum(l: List[Int]): Int = \n",
    "    dyv(l)(0 : Int): (head, tailSum) => \n",
    "        head + tailSum : Int"
   ]
  },
  {
   "cell_type": "code",
   "execution_count": 11,
   "metadata": {},
   "outputs": [
    {
     "data": {
      "text/plain": [
       "defined \u001b[32mfunction\u001b[39m \u001b[36msum\u001b[39m"
      ]
     },
     "execution_count": 11,
     "metadata": {},
     "output_type": "execute_result"
    }
   ],
   "source": [
    "// sum of elements\n",
    "def sum(l: List[Int]): Int = \n",
    "    dyv(l)(0 : Int): \n",
    "        (head, tailSum) => head + tailSum : Int"
   ]
  },
  {
   "cell_type": "code",
   "execution_count": 12,
   "metadata": {},
   "outputs": [
    {
     "data": {
      "text/plain": [
       "defined \u001b[32mfunction\u001b[39m \u001b[36msum\u001b[39m"
      ]
     },
     "execution_count": 12,
     "metadata": {},
     "output_type": "execute_result"
    }
   ],
   "source": [
    "// sum of elements\n",
    "def sum(l: List[Int]): Int = \n",
    "    dyv(l)(0 : Int)( \n",
    "        (head, tailSum) => head + tailSum : Int\n",
    "    )"
   ]
  },
  {
   "cell_type": "code",
   "execution_count": null,
   "metadata": {},
   "outputs": [],
   "source": [
    "reverse(List(1,2,3,4,5)) == List(5,4,3,2,1)\n",
    "reverse(1 :: List(2,3,4,5)) == List(5,4,3,2) :+ 1"
   ]
  },
  {
   "cell_type": "code",
   "execution_count": null,
   "metadata": {},
   "outputs": [],
   "source": [
    "// product of elements "
   ]
  },
  {
   "cell_type": "markdown",
   "metadata": {},
   "source": [
    "These functions clearly share a common logic: their only differences are the value which is returned when the list is empty, and the function used to combine numbers (`+` and `*`, respectively). We can abstract away these differences and arrive to a more generic function which encodes that common logic:"
   ]
  },
  {
   "cell_type": "code",
   "execution_count": null,
   "metadata": {},
   "outputs": [],
   "source": [
    "// monomorphic `combine` method"
   ]
  },
  {
   "cell_type": "markdown",
   "metadata": {},
   "source": [
    "which allows us to re-define in a modular way the `sum` and `multiply` functions:"
   ]
  },
  {
   "cell_type": "code",
   "execution_count": null,
   "metadata": {},
   "outputs": [],
   "source": [
    "def sum(list: List[Int]): Int = \n",
    "    ???"
   ]
  },
  {
   "cell_type": "code",
   "execution_count": null,
   "metadata": {},
   "outputs": [],
   "source": [
    "def multiply(list: List[Int]): Int = \n",
    "    ???"
   ]
  },
  {
   "cell_type": "markdown",
   "metadata": {},
   "source": [
    "But we don't need to constrain ourselves to integers. In its generic version, the `combine` function is actually the `foldRight` higher-order function (for `List`s):"
   ]
  },
  {
   "cell_type": "code",
   "execution_count": null,
   "metadata": {},
   "outputs": [],
   "source": [
    "// more generically: foldRight\n"
   ]
  },
  {
   "cell_type": "markdown",
   "metadata": {},
   "source": [
    "Graphically, we can explain the behaviour of `foldRight` as follows: "
   ]
  },
  {
   "cell_type": "markdown",
   "metadata": {},
   "source": [
    "![with elements](../../images/foldRight.1.svg)\n",
    "\n",
    "(all images credit to [Scala Visual Reference](https://superruzafa.github.io/visual-scala-reference/))"
   ]
  },
  {
   "cell_type": "markdown",
   "metadata": {},
   "source": [
    "We can understand `foldRight` as an implementation of the divide-and-conquer design pattern: first, divide your problems in subproblems; second, solve these sub-problems; last, compose their solutions to obtain the solution to the overall problem. If the sub-problems are simple enough they can be solved directly; otherwise, they are solved recursively. In the case of lists:\n",
    "- The problem is obtaining a value of type `B` for a given list.\n",
    "- The only sub-problem corresponds to the tail of that list. \n",
    "- The arguments of the `foldRight` function tell us how to obtain the solution for the empty list (the atomic problem which can not be further decomposed), and how to obtain the solution from the solution to the sub-problem."
   ]
  },
  {
   "cell_type": "markdown",
   "metadata": {},
   "source": [
    "From this perspective, the implementation of `sum` and `multiply` is exactly the same as before when we used the function `combine`, although we can explain them differently:"
   ]
  },
  {
   "cell_type": "code",
   "execution_count": null,
   "metadata": {},
   "outputs": [],
   "source": [
    "def sum(list: List[Int]): Int = \n",
    "    foldRight[Int, Int](list)(\n",
    "        0, // direct solution to atomic problem\n",
    "        (head, subsol) => head + subsol // composing sub-solution\n",
    "    )"
   ]
  },
  {
   "cell_type": "code",
   "execution_count": null,
   "metadata": {},
   "outputs": [],
   "source": [
    "def multiply(list: List[Int]): Int = \n",
    "    foldRight(list)(\n",
    "        1, // direct solution\n",
    "        (head: Int, subsol: Int) => head * subsol // compose\n",
    "    )"
   ]
  },
  {
   "cell_type": "markdown",
   "metadata": {},
   "source": [
    "#### HOFs in the Scala API"
   ]
  },
  {
   "cell_type": "markdown",
   "metadata": {},
   "source": [
    "The `foldRight` HOF, as all the HOFs that we will explain in this notebook, are actually part of the standard Collections library of Scala. Typically, they are implemented as member methods of the corresponding collection class. For lists, the [Scala API](https://www.scala-lang.org/api/2.13.1/scala/collection/immutable/List.html) offers something like this:"
   ]
  },
  {
   "cell_type": "code",
   "execution_count": null,
   "metadata": {},
   "outputs": [],
   "source": [
    "object Standard{\n",
    "    class List[A]{\n",
    "        def foldRight[B](b: B)(f: (B, A) => B): B = ???\n",
    "    }\n",
    "}"
   ]
  },
  {
   "cell_type": "markdown",
   "metadata": {},
   "source": [
    "So, invocations of the standard `foldRight` do not receive the list as argument, but are common method invocations on some `List` instance:"
   ]
  },
  {
   "cell_type": "code",
   "execution_count": null,
   "metadata": {},
   "outputs": [],
   "source": [
    "// foldRight over lists\n",
    "\n"
   ]
  },
  {
   "cell_type": "markdown",
   "metadata": {},
   "source": [
    "Normally, we will use standard HOFs instead of our home-made versions, once they are explained. "
   ]
  },
  {
   "cell_type": "markdown",
   "metadata": {},
   "source": [
    "## The Hall of Fame of HOFs"
   ]
  },
  {
   "cell_type": "markdown",
   "metadata": {},
   "source": [
    "Besides `compose`, `andThen` and `foldRight`, there are other famous higher-order functions which work great as modularity devices: "
   ]
  },
  {
   "cell_type": "code",
   "execution_count": null,
   "metadata": {},
   "outputs": [],
   "source": [
    "def foldLeft[A, B](list: List[A])(b: B)(f: (B, A) => B): B = ???\n",
    "def filter[A](list: List[A])(f: A => Boolean): List[A] = ???\n",
    "def map[A, B](list: List[A])(f: A => B): List[B] = ???\n",
    "def flatMap[A, B](list: List[A])(f: A => List[B]): List[B] = ???"
   ]
  },
  {
   "cell_type": "markdown",
   "metadata": {},
   "source": [
    "But most of these functions do not only work for `List`, they work also for `Option`, `Either[A, ?]`, and many other data structures. For instance:"
   ]
  },
  {
   "cell_type": "code",
   "execution_count": null,
   "metadata": {},
   "outputs": [],
   "source": [
    "def fold[A, B](opt: Option[A])(none: B)(some: A => B): B = ???\n",
    "def filter[A](opt: Option[A])(f: A => Boolean): Option[A] = ???\n",
    "def map[A, B](opt: Option[A])(f: A => B): Option[B] = ???  \n",
    "def flatMap[A, B](opt: Option[A])(f: A => Option[B] ): Option[B] = ???"
   ]
  },
  {
   "cell_type": "code",
   "execution_count": null,
   "metadata": {},
   "outputs": [],
   "source": [
    "def fold[A, B, C](opt: Either[A, B])(left: A => C, right: B => C): C = ???\n",
    "def filter[A, B](opt: Either[A, B])(f: B => Boolean): Either[A, B] = ???\n",
    "def map[A, B, C](opt: Either[A, B])(f: B => C): Either[A, C] = ???  \n",
    "def flatMap[A, B, C](opt: Either[A, B])(f: B => Either[A, C] ): Either[A, C] = ???"
   ]
  },
  {
   "cell_type": "markdown",
   "metadata": {},
   "source": [
    "The `fold` function is the catamorphism for `Option` and `Either[A, ?]`, in the same way than `foldRight` is the catamorphism for lists (unfortunately, the concept of catamorphism won't be explained due to lack of time). "
   ]
  },
  {
   "cell_type": "markdown",
   "metadata": {},
   "source": [
    "## FoldLeft: a better loop"
   ]
  },
  {
   "cell_type": "markdown",
   "metadata": {},
   "source": [
    "The `foldLeft` HOF is the functional way to implement common imperative algorithms. For instance:"
   ]
  },
  {
   "cell_type": "code",
   "execution_count": null,
   "metadata": {},
   "outputs": [],
   "source": [
    "// length function, imperatively\n",
    "\n",
    "def member[A](l: List[A], e: A): Boolean = \n",
    "    def step(out: Boolean, aux: List[A]): Boolean = \n",
    "        aux match \n",
    "            case Nil => out\n",
    "            case head :: tail => \n",
    "                step(???(out, head), tail)\n",
    "\n",
    "    step(???, l)"
   ]
  },
  {
   "cell_type": "code",
   "execution_count": null,
   "metadata": {},
   "outputs": [],
   "source": [
    "// reverse function, imperatively\n",
    "def reverse[A](l: List[A]): List[A] = \n",
    "    def step(out: List[A], aux: List[A]): List[A] = \n",
    "        aux match \n",
    "            case Nil => out\n",
    "            case head :: tail => \n",
    "                step(???(out, head), tail)\n",
    "\n",
    "    step(???, l)"
   ]
  },
  {
   "cell_type": "code",
   "execution_count": 19,
   "metadata": {},
   "outputs": [
    {
     "data": {
      "text/plain": [
       "defined \u001b[32mfunction\u001b[39m \u001b[36mmember\u001b[39m"
      ]
     },
     "execution_count": 19,
     "metadata": {},
     "output_type": "execute_result"
    }
   ],
   "source": [
    "// length function, imperatively\n",
    "\n",
    "def member[A](l: List[A], e: A): Boolean = \n",
    "    def step(out: Boolean, aux: List[A]): Boolean = \n",
    "        aux match \n",
    "            case Nil => out\n",
    "            case head :: tail => \n",
    "                step(out || head == e, tail)\n",
    "\n",
    "    step(false, l)"
   ]
  },
  {
   "cell_type": "code",
   "execution_count": 20,
   "metadata": {},
   "outputs": [
    {
     "data": {
      "text/plain": [
       "defined \u001b[32mfunction\u001b[39m \u001b[36mreverse\u001b[39m"
      ]
     },
     "execution_count": 20,
     "metadata": {},
     "output_type": "execute_result"
    }
   ],
   "source": [
    "// reverse function, imperatively\n",
    "def reverse[A](l: List[A]): List[A] = \n",
    "    def step(out: List[A], aux: List[A]): List[A] = \n",
    "        aux match \n",
    "            case Nil => out\n",
    "            case head :: tail => \n",
    "                step(head :: out, tail)\n",
    "\n",
    "    step(Nil, l)"
   ]
  },
  {
   "cell_type": "code",
   "execution_count": 20,
   "metadata": {},
   "outputs": [
    {
     "data": {
      "text/plain": [
       "defined \u001b[32mfunction\u001b[39m \u001b[36mreverse\u001b[39m"
      ]
     },
     "execution_count": 20,
     "metadata": {},
     "output_type": "execute_result"
    }
   ],
   "source": [
    "// reverse function, imperatively\n",
    "def reverse[A](l: List[A]): List[A] = \n",
    "    def step(out: List[A], aux: List[A]): List[A] = \n",
    "        aux match \n",
    "            case Nil => out\n",
    "            case head :: tail => \n",
    "                step(head :: out, tail)\n",
    "\n",
    "    step(Nil, l)"
   ]
  },
  {
   "cell_type": "code",
   "execution_count": 12,
   "metadata": {},
   "outputs": [
    {
     "data": {
      "text/plain": [
       "defined \u001b[32mfunction\u001b[39m \u001b[36miterate\u001b[39m"
      ]
     },
     "execution_count": 12,
     "metadata": {},
     "output_type": "execute_result"
    }
   ],
   "source": [
    "// \n",
    "def iterate[A, B](l: List[A])(initial: B)(update: (B, A) => B): B = \n",
    "    var out: B = initial\n",
    "    for (e <- l)\n",
    "        out = update(out, e)\n",
    "    out"
   ]
  },
  {
   "cell_type": "code",
   "execution_count": 3,
   "metadata": {},
   "outputs": [
    {
     "data": {
      "text/plain": [
       "defined \u001b[32mfunction\u001b[39m \u001b[36miterate\u001b[39m"
      ]
     },
     "execution_count": 3,
     "metadata": {},
     "output_type": "execute_result"
    }
   ],
   "source": [
    "// \n",
    "def iterate[A, B](l: List[A])(initial: B)(update: (B, A) => B): B = \n",
    "    def step(out: B, aux: List[A]): B = \n",
    "        aux match \n",
    "            case Nil => out\n",
    "            case head :: tail => \n",
    "                step(update(out, head), tail)\n",
    "\n",
    "    step(initial, l)"
   ]
  },
  {
   "cell_type": "code",
   "execution_count": 11,
   "metadata": {},
   "outputs": [
    {
     "data": {
      "text/plain": [
       "defined \u001b[32mfunction\u001b[39m \u001b[36miterate\u001b[39m"
      ]
     },
     "execution_count": 11,
     "metadata": {},
     "output_type": "execute_result"
    }
   ],
   "source": [
    "@annotation.tailrec\n",
    "def iterate[A, B](l: List[A])(initial: B)(update: (B, A) => B): B = \n",
    "    l match \n",
    "        case Nil => initial\n",
    "        case head :: tail => \n",
    "            iterate(tail)(update(initial, head))(update)"
   ]
  },
  {
   "cell_type": "code",
   "execution_count": 5,
   "metadata": {},
   "outputs": [
    {
     "data": {
      "text/plain": [
       "defined \u001b[32mfunction\u001b[39m \u001b[36mmember\u001b[39m"
      ]
     },
     "execution_count": 5,
     "metadata": {},
     "output_type": "execute_result"
    }
   ],
   "source": [
    "// length function, imperatively\n",
    "\n",
    "def member[A](l: List[A], e: A): Boolean = \n",
    "    iterate[A, Boolean](l)(false): (out, head) => \n",
    "        out || head == e"
   ]
  },
  {
   "cell_type": "code",
   "execution_count": 6,
   "metadata": {},
   "outputs": [
    {
     "data": {
      "text/plain": [
       "defined \u001b[32mfunction\u001b[39m \u001b[36mmember\u001b[39m"
      ]
     },
     "execution_count": 6,
     "metadata": {},
     "output_type": "execute_result"
    }
   ],
   "source": [
    "// length function, imperatively\n",
    "\n",
    "def member[A](l: List[A], e: A): Boolean = \n",
    "    iterate(l)(false): (out, head) => \n",
    "        out || head == e"
   ]
  },
  {
   "cell_type": "code",
   "execution_count": 9,
   "metadata": {},
   "outputs": [
    {
     "data": {
      "text/plain": [
       "\u001b[36ml\u001b[39m: \u001b[32mList\u001b[39m[\u001b[32mInt\u001b[39m] = \u001b[33mList\u001b[39m()\n",
       "\u001b[36ml1\u001b[39m: \u001b[32mList\u001b[39m[\u001b[32mChar\u001b[39m] = \u001b[33mList\u001b[39m()\n",
       "\u001b[36ml2\u001b[39m: \u001b[32mList\u001b[39m[\u001b[32mString\u001b[39m] = \u001b[33mList\u001b[39m()"
      ]
     },
     "execution_count": 9,
     "metadata": {},
     "output_type": "execute_result"
    }
   ],
   "source": [
    "val l: List[Int] = Nil\n",
    "val l1: List[Char] = Nil\n",
    "val l2: List[String] = Nil"
   ]
  },
  {
   "cell_type": "code",
   "execution_count": 7,
   "metadata": {},
   "outputs": [
    {
     "data": {
      "text/plain": [
       "defined \u001b[32mfunction\u001b[39m \u001b[36mreverse\u001b[39m"
      ]
     },
     "execution_count": 7,
     "metadata": {},
     "output_type": "execute_result"
    }
   ],
   "source": [
    "// reverse function, imperatively\n",
    "def reverse[A](l: List[A]): List[A] = \n",
    "    iterate(l)(Nil: List[A]): (out, head) => \n",
    "        head :: out"
   ]
  },
  {
   "cell_type": "code",
   "execution_count": 8,
   "metadata": {},
   "outputs": [
    {
     "data": {
      "text/plain": [
       "defined \u001b[32mfunction\u001b[39m \u001b[36mreverse\u001b[39m"
      ]
     },
     "execution_count": 8,
     "metadata": {},
     "output_type": "execute_result"
    }
   ],
   "source": [
    "// reverse function, imperatively\n",
    "def reverse[A](l: List[A]): List[A] = \n",
    "    iterate[A, List[A]](l)(Nil): (out, head) => \n",
    "        head :: out"
   ]
  },
  {
   "cell_type": "code",
   "execution_count": 22,
   "metadata": {},
   "outputs": [
    {
     "data": {
      "text/plain": [
       "defined \u001b[32mfunction\u001b[39m \u001b[36mmember\u001b[39m"
      ]
     },
     "execution_count": 22,
     "metadata": {},
     "output_type": "execute_result"
    }
   ],
   "source": [
    "// length function, imperatively\n",
    "\n",
    "def member[A](l: List[A], e: A): Boolean = \n",
    "    l.foldLeft(false): (out, head) => \n",
    "        out || head == e"
   ]
  },
  {
   "cell_type": "code",
   "execution_count": 21,
   "metadata": {},
   "outputs": [
    {
     "data": {
      "text/plain": [
       "defined \u001b[32mfunction\u001b[39m \u001b[36mreverse\u001b[39m"
      ]
     },
     "execution_count": 21,
     "metadata": {},
     "output_type": "execute_result"
    }
   ],
   "source": [
    "// reverse function, imperatively\n",
    "def reverse[A](l: List[A]): List[A] = \n",
    "    l.foldLeft(Nil: List[A]): (out, head) => \n",
    "        head :: out"
   ]
  },
  {
   "cell_type": "markdown",
   "metadata": {},
   "source": [
    "The following implementation abstracts away the differences in the above functions, and declares two additional parameters: the initial value of a mutable variable, and the update function executed in every step of the loop."
   ]
  },
  {
   "cell_type": "code",
   "execution_count": null,
   "metadata": {},
   "outputs": [],
   "source": [
    "// abstraction: foldLeft, imperatively\n"
   ]
  },
  {
   "cell_type": "markdown",
   "metadata": {},
   "source": [
    "Similarly, the `foldLeft` function is typically used where a tail-recursive function is needed. Its recursive implementation is naturally tail-recursive:"
   ]
  },
  {
   "cell_type": "code",
   "execution_count": null,
   "metadata": {},
   "outputs": [],
   "source": [
    "@annotation.tailrec\n",
    "def foldLeft[A, B](list: List[A])(out: B)(update: (B, A) => B): B =\n",
    "    ??? "
   ]
  },
  {
   "cell_type": "markdown",
   "metadata": {},
   "source": [
    "Using `foldLeft` we can implement functions at a higher-level of abstraction, i.e. using constructs which are nearer to the problem-domain, without caring about mutable variables, tail-safe recursion, etc. Its use also leads to very concise (and readable!) implementations. For instance, these are (almost) one-liner implementations of some of the functions of the last notebook on recursive functions:"
   ]
  },
  {
   "cell_type": "code",
   "execution_count": null,
   "metadata": {},
   "outputs": [],
   "source": [
    "def length[A](list: List[A]): Int = \n",
    "    ??? "
   ]
  },
  {
   "cell_type": "code",
   "execution_count": null,
   "metadata": {},
   "outputs": [],
   "source": [
    "def sum(list: List[Int]): Int = \n",
    "    ???"
   ]
  },
  {
   "cell_type": "code",
   "execution_count": null,
   "metadata": {},
   "outputs": [],
   "source": [
    "def reverse[A](list: List[A]): List[A] = \n",
    "    ??? "
   ]
  },
  {
   "cell_type": "markdown",
   "metadata": {},
   "source": [
    "But we may also use the `foldRight` function to implement them:"
   ]
  },
  {
   "cell_type": "code",
   "execution_count": null,
   "metadata": {},
   "outputs": [],
   "source": [
    "def length[A](list: List[A]): Int = \n",
    "    ??? "
   ]
  },
  {
   "cell_type": "code",
   "execution_count": null,
   "metadata": {},
   "outputs": [],
   "source": [
    "def sum(list: List[Int]): Int = \n",
    "    ???"
   ]
  },
  {
   "cell_type": "code",
   "execution_count": null,
   "metadata": {},
   "outputs": [],
   "source": [
    "def reverse[A](list: List[A]): List[A] = \n",
    "    ???"
   ]
  },
  {
   "cell_type": "markdown",
   "metadata": {},
   "source": [
    "Functionally, both versions are equivalent, but the ones using `foldLeft` are more efficient. In particular, the `foldRight` version of `reverse` has cuadratic complexity. "
   ]
  },
  {
   "cell_type": "markdown",
   "metadata": {},
   "source": [
    "#### Implementing `foldRight` with `foldLeft`"
   ]
  },
  {
   "cell_type": "markdown",
   "metadata": {},
   "source": [
    "The implementation that we gave for `foldRight` was not tail-recursive, so this will blow up the stack:"
   ]
  },
  {
   "cell_type": "code",
   "execution_count": null,
   "metadata": {
    "tags": []
   },
   "outputs": [],
   "source": [
    "// blowing up the stack \n"
   ]
  },
  {
   "cell_type": "markdown",
   "metadata": {},
   "source": [
    "In order to obtain a better implementation, we may first reverse the list and use `foldLeft` as follows: "
   ]
  },
  {
   "cell_type": "code",
   "execution_count": null,
   "metadata": {},
   "outputs": [],
   "source": [
    "def foldRightTR[A, B](list: List[A])(nil: B)(cons: (A, B) => B): B = \n",
    "    ???"
   ]
  },
  {
   "cell_type": "markdown",
   "metadata": {},
   "source": [
    "This implementation works right with big lists:"
   ]
  },
  {
   "cell_type": "code",
   "execution_count": null,
   "metadata": {},
   "outputs": [],
   "source": [
    "// check it out\n"
   ]
  },
  {
   "cell_type": "markdown",
   "metadata": {},
   "source": [
    "#### Implementing `foldLeft` with `foldRight`"
   ]
  },
  {
   "cell_type": "markdown",
   "metadata": {},
   "source": [
    "This is also possible, though challenging. We start from the tail-recursive implementation of `foldLeft`. First, we rearrange the arguments so that it now returns a function instead of a plain value of type `B`. "
   ]
  },
  {
   "cell_type": "code",
   "execution_count": null,
   "metadata": {},
   "outputs": [],
   "source": [
    "// foldLeftAux\n"
   ]
  },
  {
   "cell_type": "markdown",
   "metadata": {},
   "source": [
    "This was in order to better expose the recursion pattern of `foldRight`. The solution is now obtained simply by noticing that `foldLeft(tail)(update)` is the solution for the tail:"
   ]
  },
  {
   "cell_type": "code",
   "execution_count": null,
   "metadata": {},
   "outputs": [],
   "source": [
    "// foldLeftAux with foldRight\n"
   ]
  },
  {
   "cell_type": "markdown",
   "metadata": {},
   "source": [
    "The original signature can then be implemented as follows: "
   ]
  },
  {
   "cell_type": "code",
   "execution_count": null,
   "metadata": {},
   "outputs": [],
   "source": [
    "def foldLeft[A, B](list: List[A])(out: B)(update: (B, A) => B): B =\n",
    "    ???"
   ]
  },
  {
   "cell_type": "markdown",
   "metadata": {},
   "source": [
    "## The `map` HOF"
   ]
  },
  {
   "cell_type": "markdown",
   "metadata": {},
   "source": [
    "The `map` function is one of the essential HOFs. Its purpose is applying a function to the elements of a data structure, in such a way that the relationships between these elements do not change. The only thing that must be modified is the _content_ of the data structure, not its _shape_. This condition is expressed in the following equations:\n",
    "\n",
    "1. `map(list)(identity) == list` for all `list: List[A]`\n",
    "2. `map(map(list)(f))(g) == map(list)(g compose f)` for all `list: List[A]`, `f: A => B`, `g: B => C`"
   ]
  },
  {
   "cell_type": "markdown",
   "metadata": {},
   "source": [
    "![map](../../images/map.svg)"
   ]
  },
  {
   "cell_type": "markdown",
   "metadata": {},
   "source": [
    "The implementation for lists can be done as follows:"
   ]
  },
  {
   "cell_type": "code",
   "execution_count": null,
   "metadata": {},
   "outputs": [],
   "source": [
    "isPositive(List(-1, 0, 1, -5)) == ??? :: List(false, true, false)"
   ]
  },
  {
   "cell_type": "code",
   "execution_count": 17,
   "metadata": {},
   "outputs": [
    {
     "data": {
      "text/plain": [
       "\u001b[36mres17_0\u001b[39m: \u001b[32mBoolean\u001b[39m = \u001b[32mtrue\u001b[39m\n",
       "\u001b[36mres17_1\u001b[39m: \u001b[32mBoolean\u001b[39m = \u001b[32mtrue\u001b[39m"
      ]
     },
     "execution_count": 17,
     "metadata": {},
     "output_type": "execute_result"
    }
   ],
   "source": [
    "isPositive(List(-1, 0, 1, -5, -6, 2)) == List(false, false, true, false, false, true)\n",
    "isPositive(List(-8, -2)) == List(false, false)"
   ]
  },
  {
   "cell_type": "code",
   "execution_count": 13,
   "metadata": {},
   "outputs": [
    {
     "data": {
      "text/plain": [
       "defined \u001b[32mfunction\u001b[39m \u001b[36misPositive\u001b[39m"
      ]
     },
     "execution_count": 14,
     "metadata": {},
     "output_type": "execute_result"
    }
   ],
   "source": [
    "// map example 1\n",
    "def isPositive(l: List[Int]): List[Boolean] = \n",
    "    l match \n",
    "        case Nil => ??? : List[Boolean]\n",
    "        case head :: tail => \n",
    "            val tailSol: List[Boolean] = isPositive(tail)\n",
    "            ??? : List[Boolean]"
   ]
  },
  {
   "cell_type": "code",
   "execution_count": 16,
   "metadata": {},
   "outputs": [
    {
     "data": {
      "text/plain": [
       "defined \u001b[32mfunction\u001b[39m \u001b[36misPositive\u001b[39m"
      ]
     },
     "execution_count": 16,
     "metadata": {},
     "output_type": "execute_result"
    }
   ],
   "source": [
    "// map example 1\n",
    "def isPositive(l: List[Int]): List[Boolean] = \n",
    "    l match \n",
    "        case Nil => Nil : List[Boolean]\n",
    "        case head :: tail => \n",
    "            val tailSol: List[Boolean] = isPositive(tail)\n",
    "            (head > 0) :: tailSol : List[Boolean]"
   ]
  },
  {
   "cell_type": "code",
   "execution_count": 18,
   "metadata": {},
   "outputs": [
    {
     "data": {
      "text/plain": [
       "defined \u001b[32mfunction\u001b[39m \u001b[36misPositive\u001b[39m"
      ]
     },
     "execution_count": 18,
     "metadata": {},
     "output_type": "execute_result"
    }
   ],
   "source": [
    "// map example 1\n",
    "def isPositive(l: List[Int]): List[Boolean] = \n",
    "    l.foldRight(??? : List[Boolean]): \n",
    "        (head, tailSol) => \n",
    "            ??? : List[Boolean]"
   ]
  },
  {
   "cell_type": "code",
   "execution_count": 19,
   "metadata": {},
   "outputs": [
    {
     "data": {
      "text/plain": [
       "defined \u001b[32mfunction\u001b[39m \u001b[36misPositive\u001b[39m"
      ]
     },
     "execution_count": 19,
     "metadata": {},
     "output_type": "execute_result"
    }
   ],
   "source": [
    "// map example 1\n",
    "def isPositive(l: List[Int]): List[Boolean] = \n",
    "    l.foldRight(Nil : List[Boolean]): \n",
    "        (head, tailSol) => \n",
    "            (head > 0) :: tailSol : List[Boolean]"
   ]
  },
  {
   "cell_type": "code",
   "execution_count": 21,
   "metadata": {},
   "outputs": [
    {
     "data": {
      "text/plain": [
       "\u001b[36mres21_0\u001b[39m: \u001b[32mChar\u001b[39m = \u001b[32m'A'\u001b[39m\n",
       "\u001b[36mres21_1\u001b[39m: \u001b[32mChar\u001b[39m = \u001b[32m'B'\u001b[39m"
      ]
     },
     "execution_count": 21,
     "metadata": {},
     "output_type": "execute_result"
    }
   ],
   "source": [
    "Character.toUpperCase('a')\n",
    "Character.toUpperCase('b')"
   ]
  },
  {
   "cell_type": "code",
   "execution_count": 25,
   "metadata": {},
   "outputs": [
    {
     "data": {
      "text/plain": [
       "\u001b[36mres25\u001b[39m: \u001b[32mBoolean\u001b[39m = \u001b[32mtrue\u001b[39m"
      ]
     },
     "execution_count": 25,
     "metadata": {},
     "output_type": "execute_result"
    }
   ],
   "source": [
    "toUpperCase(List('a', 'b', 'c', 'D')) == List('A', 'B', 'C', 'D')"
   ]
  },
  {
   "cell_type": "code",
   "execution_count": 23,
   "metadata": {},
   "outputs": [
    {
     "data": {
      "text/plain": [
       "defined \u001b[32mfunction\u001b[39m \u001b[36mtoUpperCase\u001b[39m"
      ]
     },
     "execution_count": 23,
     "metadata": {},
     "output_type": "execute_result"
    }
   ],
   "source": [
    "// map example 2\n",
    "def toUpperCase(l: List[Char]): List[Char] = \n",
    "    l match \n",
    "        case Nil => ??? : List[Char]\n",
    "        case head :: tail => \n",
    "            val tailSol: List[Char] = toUpperCase(tail)\n",
    "            ??? : List[Char]"
   ]
  },
  {
   "cell_type": "code",
   "execution_count": 22,
   "metadata": {},
   "outputs": [
    {
     "data": {
      "text/plain": [
       "defined \u001b[32mfunction\u001b[39m \u001b[36mtoUpperCase\u001b[39m"
      ]
     },
     "execution_count": 22,
     "metadata": {},
     "output_type": "execute_result"
    }
   ],
   "source": [
    "// map example 2\n",
    "def toUpperCase(l: List[Char]): List[Char] = \n",
    "    l.foldRight(??? : List[Char]): \n",
    "        (head, tailSol: List[Char]) => \n",
    "            ??? : List[Char]"
   ]
  },
  {
   "cell_type": "code",
   "execution_count": 24,
   "metadata": {},
   "outputs": [
    {
     "data": {
      "text/plain": [
       "defined \u001b[32mfunction\u001b[39m \u001b[36mtoUpperCase\u001b[39m"
      ]
     },
     "execution_count": 24,
     "metadata": {},
     "output_type": "execute_result"
    }
   ],
   "source": [
    "// map example 2\n",
    "def toUpperCase(l: List[Char]): List[Char] = \n",
    "    l.foldRight(Nil : List[Char]): \n",
    "        (head, tailSol: List[Char]) => \n",
    "            Character.toUpperCase(head) :: tailSol : List[Char]"
   ]
  },
  {
   "cell_type": "code",
   "execution_count": 25,
   "metadata": {},
   "outputs": [
    {
     "name": "stderr",
     "output_type": "stream",
     "text": [
      "-- [E007] Type Mismatch Error: cell26.sc:4:12 ----------------------------------\n",
      "4 |            Character.toUpperCase(head) :: tailSol\n",
      "  |            ^^^^^^^^^^^^^^^^^^^^^^^^^^^^^^^^^^^^^^\n",
      "  |      Found:    List[Char]\n",
      "  |      Required: scala.collection.immutable.Nil.type\n",
      "  |\n",
      "  |      The following import might make progress towards fixing the problem:\n",
      "  |\n",
      "  |        import sourcecode.Text.generate\n",
      "  |\n",
      "  |\n",
      "  | longer explanation available when compiling with `-explain`\n",
      "Compilation Failed"
     ]
    }
   ],
   "source": [
    "// map example 2\n",
    "def toUpperCase(l: List[Char]): List[Char] = \n",
    "    l.foldRight(Nil): \n",
    "        (head, tailSol) => \n",
    "            Character.toUpperCase(head) :: tailSol"
   ]
  },
  {
   "cell_type": "code",
   "execution_count": 26,
   "metadata": {},
   "outputs": [
    {
     "data": {
      "text/plain": [
       "defined \u001b[32mfunction\u001b[39m \u001b[36mtoUpperCase\u001b[39m"
      ]
     },
     "execution_count": 26,
     "metadata": {},
     "output_type": "execute_result"
    }
   ],
   "source": [
    "// map example 2\n",
    "def toUpperCase(l: List[Char]): List[Char] = \n",
    "    l.foldRight(Nil: List[Char]): \n",
    "        (head, tailSol) => \n",
    "            Character.toUpperCase(head) :: tailSol"
   ]
  },
  {
   "cell_type": "code",
   "execution_count": 27,
   "metadata": {},
   "outputs": [
    {
     "data": {
      "text/plain": [
       "defined \u001b[32mfunction\u001b[39m \u001b[36mtoUpperCase\u001b[39m"
      ]
     },
     "execution_count": 27,
     "metadata": {},
     "output_type": "execute_result"
    }
   ],
   "source": [
    "// map example 2\n",
    "def toUpperCase(l: List[Char]): List[Char] = \n",
    "    l.foldRight[List[Char]](Nil): \n",
    "        (head, tailSol) => \n",
    "            Character.toUpperCase(head) :: tailSol"
   ]
  },
  {
   "cell_type": "code",
   "execution_count": 30,
   "metadata": {},
   "outputs": [
    {
     "data": {
      "text/plain": [
       "\u001b[36mres30\u001b[39m: \u001b[32mList\u001b[39m[\u001b[32mInt\u001b[39m] = \u001b[33mList\u001b[39m()"
      ]
     },
     "execution_count": 30,
     "metadata": {},
     "output_type": "execute_result"
    }
   ],
   "source": [
    "List[Int]()"
   ]
  },
  {
   "cell_type": "code",
   "execution_count": 28,
   "metadata": {},
   "outputs": [
    {
     "data": {
      "text/plain": [
       "defined \u001b[32mfunction\u001b[39m \u001b[36mtoUpperCase\u001b[39m"
      ]
     },
     "execution_count": 28,
     "metadata": {},
     "output_type": "execute_result"
    }
   ],
   "source": [
    "// map example 2\n",
    "def toUpperCase(l: List[Char]): List[Char] = \n",
    "    l.foldRight(List[Char]()): \n",
    "        (head, tailSol) => \n",
    "            Character.toUpperCase(head) :: tailSol"
   ]
  },
  {
   "cell_type": "code",
   "execution_count": 16,
   "metadata": {},
   "outputs": [
    {
     "data": {
      "text/plain": [
       "defined \u001b[32mfunction\u001b[39m \u001b[36misPositive\u001b[39m"
      ]
     },
     "execution_count": 16,
     "metadata": {},
     "output_type": "execute_result"
    }
   ],
   "source": [
    "// map example 1\n",
    "def isPositive(l: List[Int]): List[Boolean] = \n",
    "    l match \n",
    "        case Nil => Nil : List[Boolean]\n",
    "        case head :: tail => \n",
    "            val tailSol: List[Boolean] = isPositive(tail)\n",
    "            (head > 0) :: tailSol : List[Boolean]"
   ]
  },
  {
   "cell_type": "code",
   "execution_count": 32,
   "metadata": {},
   "outputs": [
    {
     "data": {
      "text/plain": [
       "defined \u001b[32mfunction\u001b[39m \u001b[36misPositive\u001b[39m"
      ]
     },
     "execution_count": 32,
     "metadata": {},
     "output_type": "execute_result"
    }
   ],
   "source": [
    "// map example 1\n",
    "def isPositive(l: List[Int]): List[Boolean] = \n",
    "    // l.map(head => head > 0)\n",
    "    l.map(_ > 0)"
   ]
  },
  {
   "cell_type": "code",
   "execution_count": 31,
   "metadata": {},
   "outputs": [
    {
     "data": {
      "text/plain": [
       "defined \u001b[32mfunction\u001b[39m \u001b[36mtoUpperCase\u001b[39m"
      ]
     },
     "execution_count": 31,
     "metadata": {},
     "output_type": "execute_result"
    }
   ],
   "source": [
    "// map example 2\n",
    "def toUpperCase(l: List[Char]): List[Char] = \n",
    "    l match \n",
    "        case Nil => Nil : List[Char]\n",
    "        case head :: tail => \n",
    "            val tailSol: List[Char] = toUpperCase(tail)\n",
    "            Character.toUpperCase(head) :: tailSol : List[Char]"
   ]
  },
  {
   "cell_type": "code",
   "execution_count": 33,
   "metadata": {},
   "outputs": [
    {
     "data": {
      "text/plain": [
       "defined \u001b[32mfunction\u001b[39m \u001b[36mtoUpperCase\u001b[39m"
      ]
     },
     "execution_count": 33,
     "metadata": {},
     "output_type": "execute_result"
    }
   ],
   "source": [
    "// map example 2\n",
    "def toUpperCase(l: List[Char]): List[Char] = \n",
    "    // l.map(head => Character.toUpperCase(head))\n",
    "    l.map(Character.toUpperCase)"
   ]
  },
  {
   "cell_type": "code",
   "execution_count": 34,
   "metadata": {},
   "outputs": [
    {
     "data": {
      "text/plain": [
       "defined \u001b[32mfunction\u001b[39m \u001b[36mmap\u001b[39m"
      ]
     },
     "execution_count": 34,
     "metadata": {},
     "output_type": "execute_result"
    }
   ],
   "source": [
    "\n",
    "def map[A, B](l: List[A])(f: A => B): List[B] = \n",
    "    l match \n",
    "        case Nil => Nil : List[B]\n",
    "        case head :: tail => \n",
    "            val tailSol: List[B] = map(tail)(f)\n",
    "            f(head) :: tailSol : List[B]"
   ]
  },
  {
   "cell_type": "code",
   "execution_count": 36,
   "metadata": {},
   "outputs": [
    {
     "data": {
      "text/plain": [
       "\u001b[36mres36_0\u001b[39m: \u001b[32mList\u001b[39m[\u001b[32mBoolean\u001b[39m] = \u001b[33mList\u001b[39m(\u001b[32mtrue\u001b[39m, \u001b[32mfalse\u001b[39m, \u001b[32mtrue\u001b[39m, \u001b[32mfalse\u001b[39m)\n",
       "\u001b[36mres36_1\u001b[39m: \u001b[32mList\u001b[39m[\u001b[32mChar\u001b[39m] = \u001b[33mList\u001b[39m(\u001b[32m'A'\u001b[39m, \u001b[32m'B'\u001b[39m, \u001b[32m'C'\u001b[39m, \u001b[32m'D'\u001b[39m)"
      ]
     },
     "execution_count": 36,
     "metadata": {},
     "output_type": "execute_result"
    }
   ],
   "source": [
    "map(List(1,-2,3,-5))(_ > 0)\n",
    "map(List('a', 'b', 'c', 'd'))(Character.toUpperCase)"
   ]
  },
  {
   "cell_type": "markdown",
   "metadata": {},
   "source": [
    "The `map` function is polymorphic in `A` and `B`, but we can't pass generic functions (aka polymorphic values) as parameters using `FunctionN`classes (these classes only wrap functions from specific types to specific result types). We may create polymorphic versions of `FunctionN` clases, but in order to keep things simple, we will define the test catalogue for `map` using a specific signature chosen at random (any other may serve as well):"
   ]
  },
  {
   "cell_type": "code",
   "execution_count": null,
   "metadata": {},
   "outputs": [],
   "source": [
    "class TestMap(\n",
    "    map: List[Int] => (Int => Boolean) => List[Boolean]\n",
    ") extends AnyFlatSpec with should.Matchers:\n",
    "\n",
    "    val isEven: Int => Boolean = _ % 2 == 0\n",
    "\n",
    "    \"mapping an empty list\" should \"return an empty list\" in:\n",
    "        map(List())(isEven) shouldBe ???\n",
    "\n",
    "    \"mapping an non-empty list\" should \"only change its content\" in:\n",
    "        map(List(1))(isEven) shouldBe ???\n",
    "        map(List(1,2))(isEven) shouldBe ???\n",
    "        map(List(1,2,3))(isEven) shouldBe ???"
   ]
  },
  {
   "cell_type": "markdown",
   "metadata": {},
   "source": [
    "To run the tests we will pass the `map` function for `Ìnt` and `Boolean` types:"
   ]
  },
  {
   "cell_type": "code",
   "execution_count": null,
   "metadata": {},
   "outputs": [],
   "source": [
    "run(TestMap(map[Int, Boolean]))"
   ]
  },
  {
   "cell_type": "markdown",
   "metadata": {},
   "source": [
    "although it's not necessary to write the types explicitly (Scala will infer the types for us):"
   ]
  },
  {
   "cell_type": "code",
   "execution_count": null,
   "metadata": {},
   "outputs": [],
   "source": [
    "run(TestMap(map))"
   ]
  },
  {
   "cell_type": "markdown",
   "metadata": {},
   "source": [
    "The implementation of `map` is really close to the implementation of `foldRight`. Indeed, we can give a more modular implementation using this more basic HOF: "
   ]
  },
  {
   "cell_type": "code",
   "execution_count": null,
   "metadata": {},
   "outputs": [],
   "source": [
    "/*\n",
    "def foldRight[A, B](list: List[A])(nil: B)(cons: (A, B) => B): B = \n",
    "    list match {\n",
    "        case Nil => nil\n",
    "        case head :: tail => cons(head, foldRight(tail)(nil)(cons))\n",
    "    }\n",
    "*/\n",
    "\n",
    "def mapFR[A, B](list: List[A])(f: A => B): List[B] = \n",
    "    ???"
   ]
  },
  {
   "cell_type": "code",
   "execution_count": null,
   "metadata": {},
   "outputs": [],
   "source": [
    "run(TestMap(mapFR))"
   ]
  },
  {
   "cell_type": "markdown",
   "metadata": {},
   "source": [
    "### `map` for `Option`"
   ]
  },
  {
   "cell_type": "markdown",
   "metadata": {},
   "source": [
    "The implementation of the `map` function given above works over lists, but we can also map optional values and many other data structures. The implementation for the data structure `Option` must satisfy the following test:"
   ]
  },
  {
   "cell_type": "code",
   "execution_count": null,
   "metadata": {},
   "outputs": [],
   "source": [
    "class TestMapOption(\n",
    "    map: Option[Int] => (Int => Boolean) => Option[Boolean]\n",
    ") extends AnyFlatSpec with should.Matchers:\n",
    "    \n",
    "    val isEven: Int => Boolean = _ % 2 == 0\n",
    "\n",
    "    \"mapping the `None` value\" should \"return `None`\" in:\n",
    "        map(None)(isEven) shouldBe ???\n",
    "    \n",
    "    \"mapping a `Some` value\" should \"only change its content\" in:\n",
    "        map(Option(3))(isEven) shouldBe ???\n",
    "        map(Option(1))(isEven) shouldBe ???\n",
    "        map(Option(2))(isEven) shouldBe ???"
   ]
  },
  {
   "cell_type": "markdown",
   "metadata": {},
   "source": [
    "The implementation is simple:"
   ]
  },
  {
   "cell_type": "code",
   "execution_count": null,
   "metadata": {},
   "outputs": [],
   "source": [
    "def mapOpt[A, B](maybeA: Option[A])(f: A => B): Option[B] = \n",
    "    ???"
   ]
  },
  {
   "cell_type": "code",
   "execution_count": null,
   "metadata": {},
   "outputs": [],
   "source": [
    "run(TestMapOption(mapOpt))"
   ]
  },
  {
   "cell_type": "markdown",
   "metadata": {},
   "source": [
    "## Filtering elements"
   ]
  },
  {
   "cell_type": "markdown",
   "metadata": {},
   "source": [
    "Unlike `map`, the `filter` HOF allows us to change the shape of the data structure, removing those elements that do not satisfy a given predicate. "
   ]
  },
  {
   "cell_type": "markdown",
   "metadata": {},
   "source": [
    "![filter](../../images/filter.svg)"
   ]
  },
  {
   "cell_type": "code",
   "execution_count": 41,
   "metadata": {},
   "outputs": [
    {
     "data": {
      "text/plain": [
       "\u001b[36mres41\u001b[39m: \u001b[32mBoolean\u001b[39m = \u001b[32mtrue\u001b[39m"
      ]
     },
     "execution_count": 41,
     "metadata": {},
     "output_type": "execute_result"
    }
   ],
   "source": [
    "upperCase(List('a', 'b', 'C', 'A')) == List('C', 'A')"
   ]
  },
  {
   "cell_type": "code",
   "execution_count": 39,
   "metadata": {},
   "outputs": [
    {
     "data": {
      "text/plain": [
       "\u001b[36mres39\u001b[39m: \u001b[32mBoolean\u001b[39m = \u001b[32mtrue\u001b[39m"
      ]
     },
     "execution_count": 39,
     "metadata": {},
     "output_type": "execute_result"
    }
   ],
   "source": [
    "'A'.isUpper"
   ]
  },
  {
   "cell_type": "code",
   "execution_count": 37,
   "metadata": {},
   "outputs": [
    {
     "data": {
      "text/plain": [
       "defined \u001b[32mfunction\u001b[39m \u001b[36mupperCase\u001b[39m"
      ]
     },
     "execution_count": 37,
     "metadata": {},
     "output_type": "execute_result"
    }
   ],
   "source": [
    "def upperCase(l: List[Char]): List[Char] = \n",
    "    l.foldRight(??? : List[Char]): \n",
    "        (head, tailSol: List[Char]) => \n",
    "            ??? : List[Char]"
   ]
  },
  {
   "cell_type": "code",
   "execution_count": 40,
   "metadata": {},
   "outputs": [
    {
     "data": {
      "text/plain": [
       "defined \u001b[32mfunction\u001b[39m \u001b[36mupperCase\u001b[39m"
      ]
     },
     "execution_count": 40,
     "metadata": {},
     "output_type": "execute_result"
    }
   ],
   "source": [
    "def upperCase(l: List[Char]): List[Char] = \n",
    "    l.foldRight(Nil : List[Char]): \n",
    "        (head, tailSol: List[Char]) => \n",
    "            if head.isUpper then head :: tailSol : List[Char]\n",
    "            else tailSol"
   ]
  },
  {
   "cell_type": "code",
   "execution_count": 42,
   "metadata": {},
   "outputs": [
    {
     "data": {
      "text/plain": [
       "defined \u001b[32mfunction\u001b[39m \u001b[36mupperCase\u001b[39m"
      ]
     },
     "execution_count": 42,
     "metadata": {},
     "output_type": "execute_result"
    }
   ],
   "source": [
    "def upperCase(l: List[Char]): List[Char] = \n",
    "    l.foldRight(Nil : List[Char]): \n",
    "        case (head, tailSol) if head.isUpper => head :: tailSol\n",
    "        case (_, tailSol) => tailSol"
   ]
  },
  {
   "cell_type": "code",
   "execution_count": 44,
   "metadata": {},
   "outputs": [
    {
     "data": {
      "text/plain": [
       "\u001b[36mres44\u001b[39m: \u001b[32mBoolean\u001b[39m = \u001b[32mtrue\u001b[39m"
      ]
     },
     "execution_count": 44,
     "metadata": {},
     "output_type": "execute_result"
    }
   ],
   "source": [
    "positives(List(1,-2,-3,4)) == List(1,4)"
   ]
  },
  {
   "cell_type": "code",
   "execution_count": 43,
   "metadata": {},
   "outputs": [
    {
     "data": {
      "text/plain": [
       "defined \u001b[32mfunction\u001b[39m \u001b[36mpositives\u001b[39m"
      ]
     },
     "execution_count": 43,
     "metadata": {},
     "output_type": "execute_result"
    }
   ],
   "source": [
    "def positives(l: List[Int]): List[Int] = \n",
    "    l.foldRight(Nil : List[Int]): \n",
    "        case (head, tailSol) if head > 0 => head :: tailSol\n",
    "        case (_, tailSol) => tailSol"
   ]
  },
  {
   "cell_type": "code",
   "execution_count": 47,
   "metadata": {},
   "outputs": [
    {
     "data": {
      "text/plain": [
       "defined \u001b[32mfunction\u001b[39m \u001b[36mpositives\u001b[39m"
      ]
     },
     "execution_count": 47,
     "metadata": {},
     "output_type": "execute_result"
    }
   ],
   "source": [
    "def positives(l: List[Int]): List[Int] = \n",
    "    // l.filter(head => head > 0)\n",
    "    l.filter(_ > 0)"
   ]
  },
  {
   "cell_type": "code",
   "execution_count": 48,
   "metadata": {},
   "outputs": [
    {
     "data": {
      "text/plain": [
       "defined \u001b[32mfunction\u001b[39m \u001b[36mupperCase\u001b[39m"
      ]
     },
     "execution_count": 48,
     "metadata": {},
     "output_type": "execute_result"
    }
   ],
   "source": [
    "def upperCase(l: List[Char]): List[Char] = \n",
    "    l.filter(_.isUpper)"
   ]
  },
  {
   "cell_type": "code",
   "execution_count": 49,
   "metadata": {},
   "outputs": [
    {
     "data": {
      "text/plain": [
       "defined \u001b[32mfunction\u001b[39m \u001b[36mfilter\u001b[39m"
      ]
     },
     "execution_count": 49,
     "metadata": {},
     "output_type": "execute_result"
    }
   ],
   "source": [
    "// filter, generically \n",
    "def filter[A](l: List[A])(pred: A => Boolean): List[A] = \n",
    "    l.foldRight(Nil : List[A]): \n",
    "        case (head, tailSol) if pred(head) => head :: tailSol\n",
    "        case (_, tailSol) => tailSol"
   ]
  },
  {
   "cell_type": "code",
   "execution_count": null,
   "metadata": {},
   "outputs": [],
   "source": [
    "class TestFilterList(\n",
    "    filter: List[Int] => (Int => Boolean) => List[Int]\n",
    ") extends AnyFlatSpec with should.Matchers:\n",
    "    \n",
    "    val isEven: Int => Boolean = _ % 2 == 0\n",
    "\n",
    "    \"filter\" should \"work\" in:\n",
    "        filter(List())(isEven) shouldBe ???\n",
    "        filter(List(1))(isEven) shouldBe ???\n",
    "        filter(List(1,3,5))(isEven) shouldBe ???\n",
    "        filter(List(2,4,6))(isEven) shouldBe ???"
   ]
  },
  {
   "cell_type": "code",
   "execution_count": null,
   "metadata": {},
   "outputs": [],
   "source": [
    "run(TestFilterList(filterR))"
   ]
  },
  {
   "cell_type": "markdown",
   "metadata": {},
   "source": [
    "Using `foldRight` we can get a more modular implementation: "
   ]
  },
  {
   "cell_type": "code",
   "execution_count": null,
   "metadata": {},
   "outputs": [],
   "source": [
    "def filterFR[A](list: List[A])(predicate: A => Boolean): List[A] = \n",
    "    ???"
   ]
  },
  {
   "cell_type": "code",
   "execution_count": null,
   "metadata": {},
   "outputs": [],
   "source": [
    "run(TestFilterList(filterFR))"
   ]
  },
  {
   "cell_type": "markdown",
   "metadata": {},
   "source": [
    "### Filtering optional values"
   ]
  },
  {
   "cell_type": "markdown",
   "metadata": {},
   "source": [
    "We only have a possible value, so implementing filtering is easy in this case:"
   ]
  },
  {
   "cell_type": "code",
   "execution_count": null,
   "metadata": {},
   "outputs": [],
   "source": [
    "class TestFilterOption(\n",
    "    filter: Option[Int] => (Int => Boolean) => Option[Int]\n",
    ") extends AnyFlatSpec with should.Matchers:\n",
    "    \n",
    "    val isEven: Int => Boolean = _ % 2 == 0\n",
    "\n",
    "    \"filter\" should \"work\" in:\n",
    "        filter(None)(isEven) shouldBe ???\n",
    "        filter(Some(1))(isEven) shouldBe ???\n",
    "        filter(Some(2))(isEven) shouldBe ???"
   ]
  },
  {
   "cell_type": "code",
   "execution_count": null,
   "metadata": {},
   "outputs": [],
   "source": [
    "def filter[A](maybeA: Option[A])(predicate: A => Boolean): Option[A] = \n",
    "    ???"
   ]
  },
  {
   "cell_type": "code",
   "execution_count": null,
   "metadata": {},
   "outputs": [],
   "source": [
    "run(TestFilterOption(filter))"
   ]
  },
  {
   "cell_type": "markdown",
   "metadata": {},
   "source": [
    "## FlatMapping data structures"
   ]
  },
  {
   "cell_type": "markdown",
   "metadata": {},
   "source": [
    "Let's consider a paragraph represented as a list of sentences, where each sentence is in turn modelled as a string made of _words_ separated by blank spaces. We want to obtain a list of all the words in each sentence. "
   ]
  },
  {
   "cell_type": "code",
   "execution_count": 51,
   "metadata": {},
   "outputs": [
    {
     "data": {
      "text/plain": [
       "defined \u001b[32mclass\u001b[39m \u001b[36mTestWords\u001b[39m"
      ]
     },
     "execution_count": 51,
     "metadata": {},
     "output_type": "execute_result"
    }
   ],
   "source": [
    "class TestWords(\n",
    "    words: List[String] => List[String]\n",
    ") extends AnyFlatSpec with should.Matchers:\n",
    "            \n",
    "    val paragraph1 = List(\n",
    "        \"En un lugar\",\n",
    "        \"de la Mancha\", \n",
    "        \"de cuyo nombre no\",\n",
    "        \"quiero acordarme\")\n",
    "    \n",
    "    \"words\" should \"work\" in:\n",
    "        words(paragraph1) shouldBe \n",
    "            List(\"En\", \"un\", \"lugar\", \"de\", \"la\", \"Mancha\", \"de\", \"cuyo\", \"nombre\", \"no\",\n",
    "                 \"quiero\", \"acordarme\")"
   ]
  },
  {
   "cell_type": "code",
   "execution_count": 53,
   "metadata": {},
   "outputs": [
    {
     "data": {
      "text/plain": [
       "\u001b[36mres53\u001b[39m: \u001b[32mList\u001b[39m[\u001b[32mString\u001b[39m] = \u001b[33mList\u001b[39m(\u001b[32m\"no\"\u001b[39m, \u001b[32m\"quiero\"\u001b[39m, \u001b[32m\"acordarme\"\u001b[39m)"
      ]
     },
     "execution_count": 53,
     "metadata": {},
     "output_type": "execute_result"
    }
   ],
   "source": [
    "\"no quiero acordarme\".split(\" \").toList"
   ]
  },
  {
   "cell_type": "code",
   "execution_count": 54,
   "metadata": {},
   "outputs": [
    {
     "data": {
      "text/plain": [
       "defined \u001b[32mfunction\u001b[39m \u001b[36mword\u001b[39m"
      ]
     },
     "execution_count": 54,
     "metadata": {},
     "output_type": "execute_result"
    }
   ],
   "source": [
    "def word(paragraph: List[String]): List[String] = \n",
    "    var out: List[String] = Nil\n",
    "    for (sentence <- paragraph)\n",
    "        out = out ++ sentence.split(\" \").toList\n",
    "    out"
   ]
  },
  {
   "cell_type": "code",
   "execution_count": 55,
   "metadata": {},
   "outputs": [
    {
     "name": "stdout",
     "output_type": "stream",
     "text": [
      "\u001b[32mcell51$Helper$TestWords:\u001b[0m\n",
      "\u001b[32mwords\u001b[0m\n",
      "\u001b[32m- should work\u001b[0m\n"
     ]
    }
   ],
   "source": [
    "run(TestWords(word))"
   ]
  },
  {
   "cell_type": "code",
   "execution_count": 63,
   "metadata": {},
   "outputs": [
    {
     "data": {
      "text/plain": [
       "\u001b[36mres63\u001b[39m: \u001b[32mList\u001b[39m[\u001b[32mString\u001b[39m] = \u001b[33mList\u001b[39m(\n",
       "  \u001b[32m\"En\"\u001b[39m,\n",
       "  \u001b[32m\"un\"\u001b[39m,\n",
       "  \u001b[32m\"lugar\"\u001b[39m,\n",
       "  \u001b[32m\"de\"\u001b[39m,\n",
       "  \u001b[32m\"la\"\u001b[39m,\n",
       "  \u001b[32m\"Mancha\"\u001b[39m,\n",
       "  \u001b[32m\"de\"\u001b[39m,\n",
       "  \u001b[32m\"cuyo\"\u001b[39m,\n",
       "  \u001b[32m\"nombre\"\u001b[39m,\n",
       "  \u001b[32m\"no\"\u001b[39m,\n",
       "  \u001b[32m\"quiero\"\u001b[39m,\n",
       "  \u001b[32m\"acordarme\"\u001b[39m\n",
       ")"
      ]
     },
     "execution_count": 63,
     "metadata": {},
     "output_type": "execute_result"
    }
   ],
   "source": [
    "List(   \"En un lugar\",\n",
    "        \"de la Mancha\", \n",
    "        \"de cuyo nombre no\",\n",
    "        \"quiero acordarme\")\n",
    "    .map(sentence => sentence.split(\" \").toList)\n",
    "    .flatten"
   ]
  },
  {
   "cell_type": "code",
   "execution_count": 64,
   "metadata": {},
   "outputs": [
    {
     "data": {
      "text/plain": [
       "\u001b[36mres64\u001b[39m: \u001b[32mList\u001b[39m[\u001b[32mString\u001b[39m] = \u001b[33mList\u001b[39m(\n",
       "  \u001b[32m\"En\"\u001b[39m,\n",
       "  \u001b[32m\"un\"\u001b[39m,\n",
       "  \u001b[32m\"lugar\"\u001b[39m,\n",
       "  \u001b[32m\"de\"\u001b[39m,\n",
       "  \u001b[32m\"la\"\u001b[39m,\n",
       "  \u001b[32m\"Mancha\"\u001b[39m,\n",
       "  \u001b[32m\"de\"\u001b[39m,\n",
       "  \u001b[32m\"cuyo\"\u001b[39m,\n",
       "  \u001b[32m\"nombre\"\u001b[39m,\n",
       "  \u001b[32m\"no\"\u001b[39m,\n",
       "  \u001b[32m\"quiero\"\u001b[39m,\n",
       "  \u001b[32m\"acordarme\"\u001b[39m\n",
       ")"
      ]
     },
     "execution_count": 64,
     "metadata": {},
     "output_type": "execute_result"
    }
   ],
   "source": [
    "List(   \"En un lugar\",\n",
    "        \"de la Mancha\", \n",
    "        \"de cuyo nombre no\",\n",
    "        \"quiero acordarme\")\n",
    "    .flatMap(sentence => sentence.split(\" \").toList)"
   ]
  },
  {
   "cell_type": "code",
   "execution_count": 58,
   "metadata": {},
   "outputs": [
    {
     "data": {
      "text/plain": [
       "defined \u001b[32mfunction\u001b[39m \u001b[36mconcatenate\u001b[39m"
      ]
     },
     "execution_count": 58,
     "metadata": {},
     "output_type": "execute_result"
    }
   ],
   "source": [
    "def concatenate[A](l: List[List[A]]): List[A] = \n",
    "    l.foldRight(??? : List[A]): \n",
    "        (head: List[A], tailSol: List[A]) => \n",
    "            ??? : List[A]"
   ]
  },
  {
   "cell_type": "code",
   "execution_count": 60,
   "metadata": {},
   "outputs": [
    {
     "data": {
      "text/plain": [
       "\u001b[36mres60\u001b[39m: \u001b[32mBoolean\u001b[39m = \u001b[32mtrue\u001b[39m"
      ]
     },
     "execution_count": 60,
     "metadata": {},
     "output_type": "execute_result"
    }
   ],
   "source": [
    "concatenate(List(2,3) :: List(List(3,4), List(5,6), List(7))) == \n",
    "    List(2,3)++List(3,4,5,6,7)"
   ]
  },
  {
   "cell_type": "code",
   "execution_count": 61,
   "metadata": {},
   "outputs": [
    {
     "data": {
      "text/plain": [
       "\u001b[36mres61\u001b[39m: \u001b[32mList\u001b[39m[\u001b[32mInt\u001b[39m] = \u001b[33mList\u001b[39m(\u001b[32m2\u001b[39m, \u001b[32m3\u001b[39m, \u001b[32m4\u001b[39m, \u001b[32m5\u001b[39m, \u001b[32m1\u001b[39m)"
      ]
     },
     "execution_count": 61,
     "metadata": {},
     "output_type": "execute_result"
    }
   ],
   "source": [
    "List(List(2,3), List(4,5), List(1)).flatten"
   ]
  },
  {
   "cell_type": "code",
   "execution_count": 59,
   "metadata": {},
   "outputs": [
    {
     "data": {
      "text/plain": [
       "defined \u001b[32mfunction\u001b[39m \u001b[36mconcatenate\u001b[39m"
      ]
     },
     "execution_count": 59,
     "metadata": {},
     "output_type": "execute_result"
    }
   ],
   "source": [
    "def concatenate[A](l: List[List[A]]): List[A] = \n",
    "    l.foldRight(Nil : List[A]): \n",
    "        (head: List[A], tailSol: List[A]) => \n",
    "            head ++ tailSol : List[A]"
   ]
  },
  {
   "cell_type": "markdown",
   "metadata": {},
   "source": [
    "We may try to map the paragraph with a function that `split`s  each sentence into the words they are made of:"
   ]
  },
  {
   "cell_type": "code",
   "execution_count": null,
   "metadata": {},
   "outputs": [],
   "source": [
    "val paragraph: List[String] = List(\"en un lugar\", \"de la Mancha\")\n",
    "\n",
    "???"
   ]
  },
  {
   "cell_type": "markdown",
   "metadata": {},
   "source": [
    "but then we obtain a _list of lists_ of strings, not a list of plain strings. The solution is not far though: we have just to concatenate all the lists and we obtain what we need. The function `flatten` performs this concatenation:"
   ]
  },
  {
   "cell_type": "code",
   "execution_count": null,
   "metadata": {},
   "outputs": [],
   "source": [
    "// flatten\n"
   ]
  },
  {
   "cell_type": "markdown",
   "metadata": {},
   "source": [
    "The function `flatten` is actually provided by the Scala API. So, the implementation of the `words` function is as follows:"
   ]
  },
  {
   "cell_type": "code",
   "execution_count": 54,
   "metadata": {},
   "outputs": [
    {
     "data": {
      "text/plain": [
       "defined \u001b[32mfunction\u001b[39m \u001b[36mword\u001b[39m"
      ]
     },
     "execution_count": 54,
     "metadata": {},
     "output_type": "execute_result"
    }
   ],
   "source": [
    "def word(paragraph: List[String]): List[String] = \n",
    "    var out: List[String] = Nil\n",
    "    for (sentence <- paragraph)\n",
    "        out = out ++ sentence.split(\" \").toList\n",
    "    out"
   ]
  },
  {
   "cell_type": "code",
   "execution_count": 65,
   "metadata": {},
   "outputs": [
    {
     "data": {
      "text/plain": [
       "defined \u001b[32mfunction\u001b[39m \u001b[36mwords\u001b[39m"
      ]
     },
     "execution_count": 65,
     "metadata": {},
     "output_type": "execute_result"
    }
   ],
   "source": [
    "def words(paragraph: List[String]): List[String] = \n",
    "    paragraph.flatMap(_.split(\" \").toList)"
   ]
  },
  {
   "cell_type": "code",
   "execution_count": 66,
   "metadata": {},
   "outputs": [
    {
     "name": "stdout",
     "output_type": "stream",
     "text": [
      "\u001b[32mcell51$Helper$TestWords:\u001b[0m\n",
      "\u001b[32mwords\u001b[0m\n",
      "\u001b[32m- should work\u001b[0m\n"
     ]
    }
   ],
   "source": [
    "run(TestWords(words))"
   ]
  },
  {
   "cell_type": "markdown",
   "metadata": {},
   "source": [
    "This combination of the HOF `map` and the function `flatten` is so common, that it has been given a proper name: `flatMap`. "
   ]
  },
  {
   "cell_type": "code",
   "execution_count": null,
   "metadata": {},
   "outputs": [],
   "source": [
    "// flatMap \n"
   ]
  },
  {
   "cell_type": "markdown",
   "metadata": {},
   "source": [
    "![filter](../../images/flatMap.svg)"
   ]
  },
  {
   "cell_type": "markdown",
   "metadata": {},
   "source": [
    "Using `flatMap` the word function is implemented even more easily:"
   ]
  },
  {
   "cell_type": "code",
   "execution_count": null,
   "metadata": {},
   "outputs": [],
   "source": [
    "def words(paragraph: List[String]): List[String] = \n",
    "    ???"
   ]
  },
  {
   "cell_type": "markdown",
   "metadata": {},
   "source": [
    "### FlatMapping optional values"
   ]
  },
  {
   "cell_type": "code",
   "execution_count": null,
   "metadata": {},
   "outputs": [],
   "source": [
    "def flatMap[A, B](maybeA: Option[A])(cont: A => Option[B]): Option[B] = \n",
    "    ???"
   ]
  },
  {
   "cell_type": "code",
   "execution_count": null,
   "metadata": {},
   "outputs": [],
   "source": [
    "class TestFlatMapOption(\n",
    "    flatMap: Option[Int] => (Int => Option[Boolean]) => Option[Boolean]\n",
    ") extends AnyFlatSpec with should.Matchers:\n",
    "    \n",
    "    def isPositiveEven(i: Int): Option[Boolean] = \n",
    "        if (i>=0) Some(i % 2 == 0)\n",
    "        else None\n",
    "    \n",
    "    \"flatMap\" should \"work\" in:\n",
    "        flatMap(None)(isPositiveEven) shouldBe ???\n",
    "        flatMap(Some(5))(isPositiveEven) shouldBe ???\n",
    "        flatMap(Some(-5))(isPositiveEven) shouldBe ???\n",
    "        flatMap(Some(0))(isPositiveEven) shouldBe ???\n",
    "        flatMap(Some(4))(isPositiveEven) shouldBe ???"
   ]
  },
  {
   "cell_type": "code",
   "execution_count": null,
   "metadata": {},
   "outputs": [],
   "source": [
    "run(TestFlatMapOption(flatMap))"
   ]
  },
  {
   "cell_type": "markdown",
   "metadata": {},
   "source": [
    "## All together: a modularity problem"
   ]
  },
  {
   "cell_type": "markdown",
   "metadata": {},
   "source": [
    "As before, we start from a list of sentences, but now we want to take care of the possible extra spaces between each word. Also, we want to obtain not the words themselves but their lengths. So, the specification of our problem is a function `lengths`:"
   ]
  },
  {
   "cell_type": "code",
   "execution_count": null,
   "metadata": {},
   "outputs": [],
   "source": [
    "class TestLengths(\n",
    "    lengths: List[String] => List[Int]\n",
    ") extends AnyFlatSpec with should.Matchers:\n",
    "            \n",
    "    val paragraph1 = List(\n",
    "        \"En un  lugar\",\n",
    "        \"de  la Mancha \", \n",
    "        \"de cuyo nombre no\",\n",
    "        \"quiero        acordarme\")\n",
    "    \n",
    "    \"lengths\" should \"work\" in:\n",
    "        lengths(paragraph1) shouldBe \n",
    "            List(2, 2, 5, 2, 2, 6, \n",
    "                 2, 4, 6, 2, 6, 9)"
   ]
  },
  {
   "cell_type": "markdown",
   "metadata": {},
   "source": [
    "We may try to implement this function imperatively using mutable variables:"
   ]
  },
  {
   "cell_type": "code",
   "execution_count": null,
   "metadata": {},
   "outputs": [],
   "source": [
    "def lengthsM(paragraph: List[String]): List[Int] =\n",
    "    ???"
   ]
  },
  {
   "cell_type": "markdown",
   "metadata": {},
   "source": [
    "and this works, of course: "
   ]
  },
  {
   "cell_type": "code",
   "execution_count": null,
   "metadata": {},
   "outputs": [],
   "source": [
    "run(TestLengths(lengthsM))"
   ]
  },
  {
   "cell_type": "markdown",
   "metadata": {},
   "source": [
    "but can we do it better? Yes, we can! Using HOFs we can get a more concise, understandable and reliable version, with a great level of reuse!"
   ]
  },
  {
   "cell_type": "code",
   "execution_count": null,
   "metadata": {},
   "outputs": [],
   "source": [
    "def lengthsHOF(paragraph: List[String]): List[Int] = \n",
    "    ???"
   ]
  },
  {
   "cell_type": "code",
   "execution_count": null,
   "metadata": {},
   "outputs": [],
   "source": [
    "run(TestLengths(lengthsHOF))"
   ]
  },
  {
   "cell_type": "markdown",
   "metadata": {},
   "source": [
    "This solution contrasts with the mutable version in several respects:\n",
    "- It's more **modular**, i.e. it's made of coarse-grained components: the HOFs `flatMap`, `filter` and `map`. The mutable version builds instead upon fine-grained components: `var`s, and `for` loops.\n",
    "- The HOF components `flatMap`, etc., are actually very generic and domain-independent, and are typically part of standard libraries, so the level of **reuse** and **reliability** of the HOF-based solution is very high.\n",
    "- The HOF-based solution is more **understandable**: it models the solution to the problem in terms of standard _transformations_ which are composed together using plain function composition. Moreover, these transformations are also at the right level of abstraction, i.e. it's natural to specify the solution to the problem in terms of flatMap, filter and map."
   ]
  },
  {
   "cell_type": "markdown",
   "metadata": {},
   "source": [
    "### For-comprehensions"
   ]
  },
  {
   "cell_type": "markdown",
   "metadata": {},
   "source": [
    "The combination of `map`, `flatMap` and `filter` HOFs is so common, that Scala has a special syntax for them: for-comprehensions."
   ]
  },
  {
   "cell_type": "code",
   "execution_count": null,
   "metadata": {},
   "outputs": [],
   "source": [
    "def lengthsFC(paragraph: List[String]): List[Int] = \n",
    "    ???"
   ]
  },
  {
   "cell_type": "code",
   "execution_count": null,
   "metadata": {},
   "outputs": [],
   "source": [
    "run(TestLengths(lengthsFC))"
   ]
  }
 ],
 "metadata": {
  "kernelspec": {
   "display_name": "Scala 3.3",
   "language": "scala",
   "name": "scala33"
  },
  "language_info": {
   "codemirror_mode": "text/x-scala",
   "file_extension": ".sc",
   "mimetype": "text/x-scala",
   "name": "scala",
   "nbconvert_exporter": "script",
   "version": "2.13.12"
  }
 },
 "nbformat": 4,
 "nbformat_minor": 4
}
